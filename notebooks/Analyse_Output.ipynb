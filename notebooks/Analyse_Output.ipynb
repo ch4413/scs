{
 "cells": [
  {
   "cell_type": "code",
   "execution_count": 14,
   "metadata": {},
   "outputs": [],
   "source": [
    "import pandas as pd\n",
    "import seaborn as sns\n",
    "import matplotlib.pyplot as plt\n",
    "\n",
    "Output = pd.read_csv('C:/Users/Jamie.williams/OneDrive - Newton Europe Ltd/Castle Donnington/Results/ML_output_Days_20_01.csv')"
   ]
  },
  {
   "cell_type": "code",
   "execution_count": 15,
   "metadata": {},
   "outputs": [],
   "source": [
    "Total = Output[['AREA','SINGLES']].groupby('AREA').sum().reset_index()"
   ]
  },
  {
   "cell_type": "code",
   "execution_count": 16,
   "metadata": {},
   "outputs": [
    {
     "data": {
      "text/plain": [
       "Text(0.5, 1.0, 'SCS Lost Singles Last 12 Hours')"
      ]
     },
     "execution_count": 16,
     "metadata": {},
     "output_type": "execute_result"
    },
    {
     "data": {
      "image/png": "[encoded data removed]",
      "text/plain": [
       "<Figure size 1080x360 with 1 Axes>"
      ]
     },
     "metadata": {
      "needs_background": "light"
     },
     "output_type": "display_data"
    }
   ],
   "source": [
    "plt.figure(figsize=(15,5))\n",
    "sns.barplot(y='SINGLES',x = 'AREA',data = Total.sort_values(by='SINGLES',ascending=False).head(10),color = 'r')\n",
    "plt.ylabel('Lost Singles')\n",
    "plt.title('SCS Lost Singles Last 12 Hours')"
   ]
  },
  {
   "cell_type": "code",
   "execution_count": 17,
   "metadata": {},
   "outputs": [],
   "source": [
    "Total_colour = Output[['BLUEGREY','SINGLES']].groupby('BLUEGREY').sum().reset_index()"
   ]
  },
  {
   "cell_type": "code",
   "execution_count": 18,
   "metadata": {},
   "outputs": [
    {
     "data": {
      "text/plain": [
       "Text(0.5, 1.0, 'SCS Lost Singles Last 12 Hours')"
      ]
     },
     "execution_count": 18,
     "metadata": {},
     "output_type": "execute_result"
    },
    {
     "data": {
      "image/png": "[encoded data removed]",
      "text/plain": [
       "<Figure size 360x360 with 1 Axes>"
      ]
     },
     "metadata": {
      "needs_background": "light"
     },
     "output_type": "display_data"
    }
   ],
   "source": [
    "plt.figure(figsize=(5,5))\n",
    "sns.barplot(y='SINGLES',x = 'BLUEGREY',data = Total_colour.sort_values(by='SINGLES',ascending=False),color = 'r')\n",
    "plt.ylabel('Lost Singles')\n",
    "plt.title('SCS Lost Singles Last 12 Hours')"
   ]
  },
  {
   "cell_type": "code",
   "execution_count": 19,
   "metadata": {},
   "outputs": [
    {
     "data": {
      "text/html": [
       "<div>\n",
       "<style scoped>\n",
       "    .dataframe tbody tr th:only-of-type {\n",
       "        vertical-align: middle;\n",
       "    }\n",
       "\n",
       "    .dataframe tbody tr th {\n",
       "        vertical-align: top;\n",
       "    }\n",
       "\n",
       "    .dataframe thead th {\n",
       "        text-align: right;\n",
       "    }\n",
       "</style>\n",
       "<table border=\"1\" class=\"dataframe\">\n",
       "  <thead>\n",
       "    <tr style=\"text-align: right;\">\n",
       "      <th></th>\n",
       "      <th>NUMBER</th>\n",
       "      <th>ALERT</th>\n",
       "      <th>ENTRY_TIME</th>\n",
       "      <th>END_TIME</th>\n",
       "      <th>PLC</th>\n",
       "      <th>DESK</th>\n",
       "      <th>FAULT_ID</th>\n",
       "      <th>ID</th>\n",
       "      <th>AREA</th>\n",
       "      <th>BLUEGREY</th>\n",
       "      <th>PTT</th>\n",
       "      <th>SINGLES</th>\n",
       "    </tr>\n",
       "  </thead>\n",
       "  <tbody>\n",
       "    <tr>\n",
       "      <th>0</th>\n",
       "      <td>42581.0</td>\n",
       "      <td>C05: C05PTT011_ external unit fault</td>\n",
       "      <td>2021-01-20 06:00:00.000000000</td>\n",
       "      <td>2021-01-20 06:00:02.310506186</td>\n",
       "      <td>C05</td>\n",
       "      <td>Z</td>\n",
       "      <td>3611.0</td>\n",
       "      <td>C05PTT011</td>\n",
       "      <td>PTT</td>\n",
       "      <td>Both</td>\n",
       "      <td>PTT011</td>\n",
       "      <td>6.795711</td>\n",
       "    </tr>\n",
       "    <tr>\n",
       "      <th>1</th>\n",
       "      <td>42581.0</td>\n",
       "      <td>C05: C05PTT011_ external unit fault</td>\n",
       "      <td>2021-01-20 07:00:00.000000000</td>\n",
       "      <td>2021-01-20 07:00:02.794635303</td>\n",
       "      <td>C05</td>\n",
       "      <td>Z</td>\n",
       "      <td>3611.0</td>\n",
       "      <td>C05PTT011</td>\n",
       "      <td>PTT</td>\n",
       "      <td>Both</td>\n",
       "      <td>PTT011</td>\n",
       "      <td>7.499279</td>\n",
       "    </tr>\n",
       "    <tr>\n",
       "      <th>2</th>\n",
       "      <td>42581.0</td>\n",
       "      <td>C05: C05PTT011_ external unit fault</td>\n",
       "      <td>2021-01-20 08:00:00.000000000</td>\n",
       "      <td>2021-01-20 08:00:02.595709230</td>\n",
       "      <td>C05</td>\n",
       "      <td>Z</td>\n",
       "      <td>3611.0</td>\n",
       "      <td>C05PTT011</td>\n",
       "      <td>PTT</td>\n",
       "      <td>Both</td>\n",
       "      <td>PTT011</td>\n",
       "      <td>7.226181</td>\n",
       "    </tr>\n",
       "    <tr>\n",
       "      <th>3</th>\n",
       "      <td>42581.0</td>\n",
       "      <td>C05: C05PTT011_ external unit fault</td>\n",
       "      <td>2021-01-20 09:00:00.000000000</td>\n",
       "      <td>2021-01-20 09:00:02.385226860</td>\n",
       "      <td>C05</td>\n",
       "      <td>Z</td>\n",
       "      <td>3611.0</td>\n",
       "      <td>C05PTT011</td>\n",
       "      <td>PTT</td>\n",
       "      <td>Both</td>\n",
       "      <td>PTT011</td>\n",
       "      <td>6.913423</td>\n",
       "    </tr>\n",
       "    <tr>\n",
       "      <th>4</th>\n",
       "      <td>42581.0</td>\n",
       "      <td>C05: C05PTT011_ external unit fault</td>\n",
       "      <td>2021-01-20 09:00:00.000000000</td>\n",
       "      <td>2021-01-20 09:00:02.503300998</td>\n",
       "      <td>C05</td>\n",
       "      <td>Z</td>\n",
       "      <td>3611.0</td>\n",
       "      <td>C05PTT011</td>\n",
       "      <td>PTT</td>\n",
       "      <td>Both</td>\n",
       "      <td>PTT011</td>\n",
       "      <td>7.092116</td>\n",
       "    </tr>\n",
       "    <tr>\n",
       "      <th>...</th>\n",
       "      <td>...</td>\n",
       "      <td>...</td>\n",
       "      <td>...</td>\n",
       "      <td>...</td>\n",
       "      <td>...</td>\n",
       "      <td>...</td>\n",
       "      <td>...</td>\n",
       "      <td>...</td>\n",
       "      <td>...</td>\n",
       "      <td>...</td>\n",
       "      <td>...</td>\n",
       "      <td>...</td>\n",
       "    </tr>\n",
       "    <tr>\n",
       "      <th>3363</th>\n",
       "      <td>131957.0</td>\n",
       "      <td>C16: C1603RDC143 143B11 occupancy sensor fault</td>\n",
       "      <td>2021-01-20 06:00:00.000000000</td>\n",
       "      <td>2021-01-20 06:00:02.939208218</td>\n",
       "      <td>C16</td>\n",
       "      <td>P03</td>\n",
       "      <td>3416.0</td>\n",
       "      <td>C1603RDC143</td>\n",
       "      <td>C16</td>\n",
       "      <td>Blue</td>\n",
       "      <td>PTT202</td>\n",
       "      <td>10.743634</td>\n",
       "    </tr>\n",
       "    <tr>\n",
       "      <th>3364</th>\n",
       "      <td>131957.0</td>\n",
       "      <td>C16: C1603RDC143 143B11 occupancy sensor fault</td>\n",
       "      <td>2021-01-20 07:00:00.000000000</td>\n",
       "      <td>2021-01-20 07:00:02.720078610</td>\n",
       "      <td>C16</td>\n",
       "      <td>P03</td>\n",
       "      <td>3416.0</td>\n",
       "      <td>C1603RDC143</td>\n",
       "      <td>C16</td>\n",
       "      <td>Blue</td>\n",
       "      <td>PTT202</td>\n",
       "      <td>10.343078</td>\n",
       "    </tr>\n",
       "    <tr>\n",
       "      <th>3365</th>\n",
       "      <td>131957.0</td>\n",
       "      <td>C16: C1603RDC143 143B11 occupancy sensor fault</td>\n",
       "      <td>2021-01-20 08:00:00.000000000</td>\n",
       "      <td>2021-01-20 08:00:02.675938025</td>\n",
       "      <td>C16</td>\n",
       "      <td>P03</td>\n",
       "      <td>3416.0</td>\n",
       "      <td>C1603RDC143</td>\n",
       "      <td>C16</td>\n",
       "      <td>Blue</td>\n",
       "      <td>PTT202</td>\n",
       "      <td>10.258496</td>\n",
       "    </tr>\n",
       "    <tr>\n",
       "      <th>3366</th>\n",
       "      <td>131957.0</td>\n",
       "      <td>C16: C1603RDC143 143B11 occupancy sensor fault</td>\n",
       "      <td>2021-01-20 09:00:00.000000000</td>\n",
       "      <td>2021-01-20 09:00:02.248441258</td>\n",
       "      <td>C16</td>\n",
       "      <td>P03</td>\n",
       "      <td>3416.0</td>\n",
       "      <td>C1603RDC143</td>\n",
       "      <td>C16</td>\n",
       "      <td>Blue</td>\n",
       "      <td>PTT202</td>\n",
       "      <td>9.358620</td>\n",
       "    </tr>\n",
       "    <tr>\n",
       "      <th>3367</th>\n",
       "      <td>131205.0</td>\n",
       "      <td>C16: C1603BCL076 076B11 occupancy sensor fault</td>\n",
       "      <td>2021-01-20 12:00:00.000000000</td>\n",
       "      <td>2021-01-20 12:00:02.714496223</td>\n",
       "      <td>C16</td>\n",
       "      <td>P03</td>\n",
       "      <td>3416.0</td>\n",
       "      <td>C1603BCL076</td>\n",
       "      <td>C16</td>\n",
       "      <td>Blue</td>\n",
       "      <td>PTT202</td>\n",
       "      <td>14.503732</td>\n",
       "    </tr>\n",
       "  </tbody>\n",
       "</table>\n",
       "<p>3368 rows × 12 columns</p>\n",
       "</div>"
      ],
      "text/plain": [
       "        NUMBER                                           ALERT  \\\n",
       "0      42581.0             C05: C05PTT011_ external unit fault   \n",
       "1      42581.0             C05: C05PTT011_ external unit fault   \n",
       "2      42581.0             C05: C05PTT011_ external unit fault   \n",
       "3      42581.0             C05: C05PTT011_ external unit fault   \n",
       "4      42581.0             C05: C05PTT011_ external unit fault   \n",
       "...        ...                                             ...   \n",
       "3363  131957.0  C16: C1603RDC143 143B11 occupancy sensor fault   \n",
       "3364  131957.0  C16: C1603RDC143 143B11 occupancy sensor fault   \n",
       "3365  131957.0  C16: C1603RDC143 143B11 occupancy sensor fault   \n",
       "3366  131957.0  C16: C1603RDC143 143B11 occupancy sensor fault   \n",
       "3367  131205.0  C16: C1603BCL076 076B11 occupancy sensor fault   \n",
       "\n",
       "                         ENTRY_TIME                       END_TIME  PLC DESK  \\\n",
       "0     2021-01-20 06:00:00.000000000  2021-01-20 06:00:02.310506186  C05    Z   \n",
       "1     2021-01-20 07:00:00.000000000  2021-01-20 07:00:02.794635303  C05    Z   \n",
       "2     2021-01-20 08:00:00.000000000  2021-01-20 08:00:02.595709230  C05    Z   \n",
       "3     2021-01-20 09:00:00.000000000  2021-01-20 09:00:02.385226860  C05    Z   \n",
       "4     2021-01-20 09:00:00.000000000  2021-01-20 09:00:02.503300998  C05    Z   \n",
       "...                             ...                            ...  ...  ...   \n",
       "3363  2021-01-20 06:00:00.000000000  2021-01-20 06:00:02.939208218  C16  P03   \n",
       "3364  2021-01-20 07:00:00.000000000  2021-01-20 07:00:02.720078610  C16  P03   \n",
       "3365  2021-01-20 08:00:00.000000000  2021-01-20 08:00:02.675938025  C16  P03   \n",
       "3366  2021-01-20 09:00:00.000000000  2021-01-20 09:00:02.248441258  C16  P03   \n",
       "3367  2021-01-20 12:00:00.000000000  2021-01-20 12:00:02.714496223  C16  P03   \n",
       "\n",
       "      FAULT_ID           ID AREA BLUEGREY     PTT    SINGLES  \n",
       "0       3611.0    C05PTT011  PTT     Both  PTT011   6.795711  \n",
       "1       3611.0    C05PTT011  PTT     Both  PTT011   7.499279  \n",
       "2       3611.0    C05PTT011  PTT     Both  PTT011   7.226181  \n",
       "3       3611.0    C05PTT011  PTT     Both  PTT011   6.913423  \n",
       "4       3611.0    C05PTT011  PTT     Both  PTT011   7.092116  \n",
       "...        ...          ...  ...      ...     ...        ...  \n",
       "3363    3416.0  C1603RDC143  C16     Blue  PTT202  10.743634  \n",
       "3364    3416.0  C1603RDC143  C16     Blue  PTT202  10.343078  \n",
       "3365    3416.0  C1603RDC143  C16     Blue  PTT202  10.258496  \n",
       "3366    3416.0  C1603RDC143  C16     Blue  PTT202   9.358620  \n",
       "3367    3416.0  C1603BCL076  C16     Blue  PTT202  14.503732  \n",
       "\n",
       "[3368 rows x 12 columns]"
      ]
     },
     "execution_count": 19,
     "metadata": {},
     "output_type": "execute_result"
    }
   ],
   "source": [
    "Output"
   ]
  },
  {
   "cell_type": "code",
   "execution_count": null,
   "metadata": {},
   "outputs": [],
   "source": []
  }
 ],
 "metadata": {
  "kernelspec": {
   "display_name": "Python 3",
   "language": "python",
   "name": "python3"
  },
  "language_info": {
   "codemirror_mode": {
    "name": "ipython",
    "version": 3
   },
   "file_extension": ".py",
   "mimetype": "text/x-python",
   "name": "python",
   "nbconvert_exporter": "python",
   "pygments_lexer": "ipython3",
   "version": "3.8.3"
  }
 },
 "nbformat": 4,
 "nbformat_minor": 4
}
