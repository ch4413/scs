{
 "cells": [
  {
   "cell_type": "code",
   "execution_count": 33,
   "metadata": {},
   "outputs": [],
   "source": [
    "import pandas as pd\n",
    "import numpy as np\n",
    "import seaborn as sns\n",
    "import matplotlib.pyplot as plt\n",
    "%matplotlib inline\n",
    "\n",
    "import scsavailability as scs\n",
    "    \n",
    "import statsmodels.api as sm\n",
    "from scipy import stats\n",
    "\n",
    "from scsavailability import features as feat, model as md, plotting as pt, score as sc"
   ]
  },
  {
   "cell_type": "code",
   "execution_count": 34,
   "metadata": {},
   "outputs": [],
   "source": [
    "path = '../raw_data/'"
   ]
  },
  {
   "cell_type": "code",
   "execution_count": 35,
   "metadata": {},
   "outputs": [],
   "source": [
    "at_raw = pd.read_csv(path+'active_totes_20201210.csv')\n",
    "av = pd.read_csv(path+'Availability_with_Grey&Blue_1811-0912.csv',names = [\"timestamp\",\"Pick Station\",\"Availability\",\"Blue Tote Loss\",\"Grey Tote Loss\"])\n",
    "scs_raw = pd.read_csv(path + 'Faults20_11-10_12.csv')"
   ]
  },
  {
   "cell_type": "code",
   "execution_count": 36,
   "metadata": {},
   "outputs": [],
   "source": [
    "# at_raw = pd.read_csv(path+'active_totes_20201123.csv')\n",
    "# av = pd.read_csv(path+'Availability_with_Grey&Blue_1811-2511.csv')\n",
    "# #fa = pd.read_csv(path + 'scs_tote_matched.csv')\n",
    "# scs_raw = pd.read_csv('../raw_data/SCS alerts Nov.csv')"
   ]
  },
  {
   "cell_type": "code",
   "execution_count": 37,
   "metadata": {},
   "outputs": [],
   "source": [
    "# # HOTFIX - remove odd day\n",
    "# at_raw = at_raw[~at_raw['DAY'].isin([9])]"
   ]
  },
  {
   "cell_type": "code",
   "execution_count": 38,
   "metadata": {},
   "outputs": [
    {
     "name": "stdout",
     "output_type": "stream",
     "text": [
      "Running: Function \"load_tote_lookup\" (id=2520145595120) was called 4 times\n"
     ]
    }
   ],
   "source": [
    "fa = feat.add_code(scs_raw)\n",
    "fa, unmapped = feat.add_tote_colour(fa)"
   ]
  },
  {
   "cell_type": "code",
   "execution_count": 39,
   "metadata": {},
   "outputs": [
    {
     "name": "stdout",
     "output_type": "stream",
     "text": [
      "Running: Function \"pre_process_AT\" (id=2520145595984) was called 3 times\n"
     ]
    }
   ],
   "source": [
    "at = feat.pre_process_AT(at_raw)"
   ]
  },
  {
   "cell_type": "code",
   "execution_count": 40,
   "metadata": {},
   "outputs": [
    {
     "name": "stdout",
     "output_type": "stream",
     "text": [
      "Running: Function \"pre_process_av\" (id=2520145596272) was called 2 times\n"
     ]
    }
   ],
   "source": [
    "av = feat.pre_process_av(av)"
   ]
  },
  {
   "cell_type": "code",
   "execution_count": 41,
   "metadata": {},
   "outputs": [
    {
     "name": "stdout",
     "output_type": "stream",
     "text": [
      "Running: Function \"preprocess_faults\" (id=2520145594544) was called 2 times\n",
      "Running: Function \"load_module_lookup\" (id=2520145593248) was called 2 times\n",
      "Running: Function \"load_ID_lookup\" (id=2520145593968) was called 2 times\n",
      "duplicated location faults removed - max duration kept\n",
      "HOTFIX: Quadrant only faults, PTT Asset Code update\n"
     ]
    }
   ],
   "source": [
    "fa = feat.preprocess_faults(fa,remove_same_location_faults = True)"
   ]
  },
  {
   "cell_type": "code",
   "execution_count": 42,
   "metadata": {},
   "outputs": [
    {
     "name": "stdout",
     "output_type": "stream",
     "text": [
      "Time shifted by 0Minutes\n"
     ]
    }
   ],
   "source": [
    "fa_floor = feat.floor_shift_time_fa(fa, shift=0)"
   ]
  },
  {
   "cell_type": "code",
   "execution_count": 43,
   "metadata": {},
   "outputs": [],
   "source": [
    "def run_m(module, fa_floor, av, at):\n",
    "    \"\"\"\n",
    "    Summary\n",
    "    -------\n",
    "    Runs model-level linear model and outputs the \"significant\" asset codes and their coefficients.\n",
    "    1. Select Module-related faults\n",
    "    2. Filter out rare asset codes\n",
    "    3. Fit Model\n",
    "    4. Remove high p-values\n",
    "    5. Re-fit model\n",
    "    6. Report negative coefficients\n",
    "    ----------\n",
    "    module: int\n",
    "        module number\n",
    "    fa_floor: pandas DataFrame\n",
    "        formatted faults data\n",
    "    av: pandas DataFrame\n",
    "        formatted availability data\n",
    "    at: pandas DataFrame\n",
    "        formatted active totes data\n",
    "    Returns\n",
    "    -------\n",
    "    df_r: pandas DataFrame\n",
    "        significant coefficients\n",
    "    Example\n",
    "    --------\n",
    "    df_r = run_m(2, fa_floor, av, at)\n",
    "    \"\"\"\n",
    "    \n",
    "    mod = [str(module)]\n",
    "    fa_sel_1 = feat.get_data_faults(fa_floor, modules = mod)\n",
    "    limit = 0\n",
    "    most_common = list(((fa_sel_1['Asset Code'].value_counts() > limit)[fa_sel_1['Asset Code'].value_counts() > limit]).index)\n",
    "    fa_sel = fa_sel_1[fa_sel_1['Asset Code'].isin(most_common)]\n",
    "\n",
    "\n",
    "    fa_agg = feat.faults_aggregate(fa_sel, fault_agg_level= 'Asset Code', agg_type = 'count')\n",
    "\n",
    "    av_sel, at_sel = feat.av_at_select(av, at, remove_high_AT = True, availability_select_options = {\"Module\" : mod})\n",
    "\n",
    "    av_agg = feat.aggregate_availability(av_sel, agg_level = 'Module')\n",
    "    at_agg = feat.aggregate_totes(at_sel, agg_level = 'Module')\n",
    "\n",
    "    df = feat.merge_av_fa_at(av_agg ,at_df=at_agg, fa_df = fa_agg, agg_level = 'None')\n",
    "    X,y = md.gen_feat_var(df)\n",
    "    X = X.drop('Module', axis=1)\n",
    "    # Flip to availability\n",
    "    y=1-y\n",
    "\n",
    "    X_train, X_test, y_train, y_test = md.split(X,y)\n",
    "    Linear_mdl,predictions_LM,Coeff,fit_metrics = md.run_LR_model(X_train, X_test, y_train, y_test)\n",
    "    cv_R2 = md.cross_validate_r2(Linear_mdl, X, y, n_folds = 5, shuffle = True, random_state = 101)    \n",
    "    \n",
    "    model = sm.OLS(y,X)\n",
    "    results = model.fit()\n",
    "    keep_features = results.pvalues[results.pvalues < 0.10].index\n",
    "    model = sm.OLS(y,X[keep_features])\n",
    "    results = model.fit()\n",
    "    negs = results.params[results.params < 0]\n",
    "    df_r = pd.DataFrame(negs, columns=['Coefficient']).reset_index()\n",
    "    df_r['Module'] = module\n",
    "    return df_r"
   ]
  },
  {
   "cell_type": "code",
   "execution_count": 44,
   "metadata": {},
   "outputs": [
    {
     "name": "stdout",
     "output_type": "stream",
     "text": [
      "Running: Function \"load_PTT_lookup\" (id=2520145594832) was called 3 times\n",
      "Running: Function \"aggregate_availability\" (id=2520145594976) was called 2 times\n",
      "\n",
      "Cross Validation Scores LinearRegression(): \n",
      " \n",
      "          R2 Scores\n",
      "1    -3.260474e-01\n",
      "2    -1.139965e+00\n",
      "3    -8.046769e+20\n",
      "4     1.345740e-01\n",
      "5    -1.041974e+00\n",
      "Mean -1.609354e+20\n",
      "STD   3.218708e+20\n"
     ]
    }
   ],
   "source": [
    "a = run_m(1, fa_floor, av, at)"
   ]
  },
  {
   "cell_type": "code",
   "execution_count": 45,
   "metadata": {},
   "outputs": [
    {
     "name": "stdout",
     "output_type": "stream",
     "text": [
      "Running: Function \"load_PTT_lookup\" (id=2520145594832) was called 4 times\n",
      "Running: Function \"aggregate_availability\" (id=2520145594976) was called 3 times\n",
      "\n",
      "Cross Validation Scores LinearRegression(): \n",
      " \n",
      "          R2 Scores\n",
      "1    -3.260474e-01\n",
      "2    -1.139965e+00\n",
      "3    -8.046769e+20\n",
      "4     1.345740e-01\n",
      "5    -1.041974e+00\n",
      "Mean -1.609354e+20\n",
      "STD   3.218708e+20\n"
     ]
    }
   ],
   "source": [
    "full_df = pd.DataFrame(columns=['index','Coefficient', 'Module'])\n",
    "for i in range(1, 2):\n",
    "    try:\n",
    "        a = run_m(i, fa_floor, av, at)\n",
    "        full_df = full_df.append(a)\n",
    "    except:\n",
    "        print(f'Missing Module: {0}'.format(i))"
   ]
  },
  {
   "cell_type": "code",
   "execution_count": 46,
   "metadata": {},
   "outputs": [
    {
     "data": {
      "text/html": [
       "<div>\n",
       "<style scoped>\n",
       "    .dataframe tbody tr th:only-of-type {\n",
       "        vertical-align: middle;\n",
       "    }\n",
       "\n",
       "    .dataframe tbody tr th {\n",
       "        vertical-align: top;\n",
       "    }\n",
       "\n",
       "    .dataframe thead th {\n",
       "        text-align: right;\n",
       "    }\n",
       "</style>\n",
       "<table border=\"1\" class=\"dataframe\">\n",
       "  <thead>\n",
       "    <tr style=\"text-align: right;\">\n",
       "      <th></th>\n",
       "      <th>index</th>\n",
       "      <th>Coefficient</th>\n",
       "      <th>Module</th>\n",
       "    </tr>\n",
       "  </thead>\n",
       "  <tbody>\n",
       "    <tr>\n",
       "      <th>0</th>\n",
       "      <td>C0502STA030</td>\n",
       "      <td>-0.105686</td>\n",
       "      <td>1</td>\n",
       "    </tr>\n",
       "    <tr>\n",
       "      <th>1</th>\n",
       "      <td>C1603RDC143</td>\n",
       "      <td>-0.097833</td>\n",
       "      <td>1</td>\n",
       "    </tr>\n",
       "    <tr>\n",
       "      <th>2</th>\n",
       "      <td>C2303ACH218</td>\n",
       "      <td>-0.063410</td>\n",
       "      <td>1</td>\n",
       "    </tr>\n",
       "  </tbody>\n",
       "</table>\n",
       "</div>"
      ],
      "text/plain": [
       "         index  Coefficient Module\n",
       "0  C0502STA030    -0.105686      1\n",
       "1  C1603RDC143    -0.097833      1\n",
       "2  C2303ACH218    -0.063410      1"
      ]
     },
     "execution_count": 46,
     "metadata": {},
     "output_type": "execute_result"
    }
   ],
   "source": [
    "full_df"
   ]
  },
  {
   "cell_type": "markdown",
   "metadata": {},
   "source": [
    "### Take last day of faults"
   ]
  },
  {
   "cell_type": "code",
   "execution_count": null,
   "metadata": {},
   "outputs": [],
   "source": [
    "fa.groupby('MODULE')['Fault ID'].nunique().reset_index().head()"
   ]
  },
  {
   "cell_type": "code",
   "execution_count": null,
   "metadata": {},
   "outputs": [],
   "source": [
    "fa_recent = fa[(fa['timestamp'].dt.day == fa['timestamp'].dt.day.max())]"
   ]
  },
  {
   "cell_type": "code",
   "execution_count": null,
   "metadata": {},
   "outputs": [],
   "source": [
    "fa_recent[fa_recent['Asset Code'].isin(full_df['index'])]"
   ]
  },
  {
   "cell_type": "code",
   "execution_count": null,
   "metadata": {},
   "outputs": [],
   "source": [
    "fa_recent[fa_recent['Asset Code'].isin(full_df['index'])]['Fault ID'].value_counts()"
   ]
  },
  {
   "cell_type": "code",
   "execution_count": null,
   "metadata": {},
   "outputs": [],
   "source": [
    "fa_recent[fa_recent['Asset Code'].isin(full_df['index'])]['Duration'].hist()"
   ]
  }
 ],
 "metadata": {
  "kernelspec": {
   "display_name": "Python 3",
   "language": "python",
   "name": "python3"
  },
  "language_info": {
   "codemirror_mode": {
    "name": "ipython",
    "version": 3
   },
   "file_extension": ".py",
   "mimetype": "text/x-python",
   "name": "python",
   "nbconvert_exporter": "python",
   "pygments_lexer": "ipython3",
   "version": "3.8.3"
  }
 },
 "nbformat": 4,
 "nbformat_minor": 4
}
