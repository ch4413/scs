{
 "cells": [
  {
   "cell_type": "code",
   "execution_count": 1,
   "metadata": {},
   "outputs": [
    {
     "name": "stderr",
     "output_type": "stream",
     "text": [
      "2020-12-16 09:55:35,816 - NumExpr defaulting to 8 threads.\n"
     ]
    }
   ],
   "source": [
    "import pandas as pd\n",
    "import numpy as np\n",
    "import seaborn as sns\n",
    "import matplotlib.pyplot as plt\n",
    "%matplotlib inline\n",
    "\n",
    "import scsavailability as scs\n",
    "    \n",
    "import statsmodels.api as sm\n",
    "from scipy import stats\n",
    "\n",
    "from scsavailability import features as feat, model as md, plotting as pt, score as sc"
   ]
  },
  {
   "cell_type": "code",
   "execution_count": 2,
   "metadata": {},
   "outputs": [],
   "source": [
    "path = '../raw_data/'"
   ]
  },
  {
   "cell_type": "code",
   "execution_count": 3,
   "metadata": {},
   "outputs": [],
   "source": [
    "at = pd.read_csv(path+'active_totes_20201123.csv')\n",
    "av = pd.read_csv(path+'Availability_with_Grey&Blue_1811-2511.csv')\n",
    "scs_raw = pd.read_csv('../raw_data/SCS alerts Nov.csv')"
   ]
  },
  {
   "cell_type": "code",
   "execution_count": 4,
   "metadata": {},
   "outputs": [
    {
     "name": "stdout",
     "output_type": "stream",
     "text": [
      "Running: Function \"load_tote_lookup\" (id=1959698233952) was called 1 times\n"
     ]
    }
   ],
   "source": [
    "fa = feat.add_code(scs_raw)\n",
    "fa, unmapped = feat.add_tote_colour(fa)"
   ]
  },
  {
   "cell_type": "code",
   "execution_count": 5,
   "metadata": {},
   "outputs": [
    {
     "data": {
      "text/plain": [
       "(174126, 13)"
      ]
     },
     "execution_count": 5,
     "metadata": {},
     "output_type": "execute_result"
    }
   ],
   "source": [
    "fa.shape"
   ]
  },
  {
   "cell_type": "code",
   "execution_count": 6,
   "metadata": {},
   "outputs": [
    {
     "name": "stdout",
     "output_type": "stream",
     "text": [
      "Running: Function \"preprocess_faults\" (id=1959698234816) was called 1 times\n",
      "Running: Function \"load_module_lookup\" (id=1959698232080) was called 1 times\n",
      "HOTFIX: Quadrant only faults, PTT Asset Code update\n"
     ]
    }
   ],
   "source": [
    "fa = feat.preprocess_faults(fa,remove_same_location_faults = False)"
   ]
  },
  {
   "cell_type": "code",
   "execution_count": 12,
   "metadata": {},
   "outputs": [
    {
     "data": {
      "text/plain": [
       "(174051, 15)"
      ]
     },
     "execution_count": 12,
     "metadata": {},
     "output_type": "execute_result"
    }
   ],
   "source": [
    "fa.shape"
   ]
  },
  {
   "cell_type": "code",
   "execution_count": 16,
   "metadata": {},
   "outputs": [
    {
     "data": {
      "text/html": [
       "<div>\n",
       "<style scoped>\n",
       "    .dataframe tbody tr th:only-of-type {\n",
       "        vertical-align: middle;\n",
       "    }\n",
       "\n",
       "    .dataframe tbody tr th {\n",
       "        vertical-align: top;\n",
       "    }\n",
       "\n",
       "    .dataframe thead th {\n",
       "        text-align: right;\n",
       "    }\n",
       "</style>\n",
       "<table border=\"1\" class=\"dataframe\">\n",
       "  <thead>\n",
       "    <tr style=\"text-align: right;\">\n",
       "      <th></th>\n",
       "      <th>Number</th>\n",
       "      <th>Alert</th>\n",
       "      <th>timestamp</th>\n",
       "      <th>PLC</th>\n",
       "      <th>Desk</th>\n",
       "      <th>Duration</th>\n",
       "      <th>Fault ID</th>\n",
       "      <th>Asset Code</th>\n",
       "      <th>Tote Colour</th>\n",
       "      <th>Loop</th>\n",
       "      <th>Suffix</th>\n",
       "      <th>Pick Station</th>\n",
       "      <th>PLCN</th>\n",
       "      <th>Quadrant</th>\n",
       "      <th>MODULE</th>\n",
       "    </tr>\n",
       "  </thead>\n",
       "  <tbody>\n",
       "    <tr>\n",
       "      <th>12</th>\n",
       "      <td>50967</td>\n",
       "      <td>C06: C0602STA057 057B14 clearance sensor fault</td>\n",
       "      <td>2020-11-01 00:01:00</td>\n",
       "      <td>C06</td>\n",
       "      <td>P02</td>\n",
       "      <td>32.0</td>\n",
       "      <td>3419</td>\n",
       "      <td>C0602STA057</td>\n",
       "      <td>Grey</td>\n",
       "      <td>Module</td>\n",
       "      <td>C0602</td>\n",
       "      <td>False</td>\n",
       "      <td>6</td>\n",
       "      <td>1</td>\n",
       "      <td>2</td>\n",
       "    </tr>\n",
       "    <tr>\n",
       "      <th>18</th>\n",
       "      <td>50934</td>\n",
       "      <td>C06: C0602STA056 056B12 occupancy sensor fault</td>\n",
       "      <td>2020-11-01 00:02:00</td>\n",
       "      <td>C06</td>\n",
       "      <td>P02</td>\n",
       "      <td>15.0</td>\n",
       "      <td>3416</td>\n",
       "      <td>C0602STA056</td>\n",
       "      <td>Grey</td>\n",
       "      <td>Module</td>\n",
       "      <td>C0602</td>\n",
       "      <td>False</td>\n",
       "      <td>6</td>\n",
       "      <td>1</td>\n",
       "      <td>2</td>\n",
       "    </tr>\n",
       "    <tr>\n",
       "      <th>109</th>\n",
       "      <td>402122</td>\n",
       "      <td>SCS022: sto: timeout bin from lifter to car X:...</td>\n",
       "      <td>2020-11-01 00:14:00</td>\n",
       "      <td>SCSM02</td>\n",
       "      <td>SCS022</td>\n",
       "      <td>211.0</td>\n",
       "      <td>5105</td>\n",
       "      <td>SCS022</td>\n",
       "      <td>Grey</td>\n",
       "      <td>carousel</td>\n",
       "      <td>SCSM02</td>\n",
       "      <td>False</td>\n",
       "      <td>0</td>\n",
       "      <td>1</td>\n",
       "      <td>2</td>\n",
       "    </tr>\n",
       "    <tr>\n",
       "      <th>169</th>\n",
       "      <td>50504</td>\n",
       "      <td>C06: C0602STA032 032B21 occupancy sensor fault</td>\n",
       "      <td>2020-11-01 00:22:00</td>\n",
       "      <td>C06</td>\n",
       "      <td>P02</td>\n",
       "      <td>214.0</td>\n",
       "      <td>3416</td>\n",
       "      <td>C0602STA032</td>\n",
       "      <td>Blue</td>\n",
       "      <td>Module</td>\n",
       "      <td>C0602</td>\n",
       "      <td>False</td>\n",
       "      <td>6</td>\n",
       "      <td>1</td>\n",
       "      <td>2</td>\n",
       "    </tr>\n",
       "    <tr>\n",
       "      <th>262</th>\n",
       "      <td>402570</td>\n",
       "      <td>SCS024: sto: timeout bin from lifter to car X:...</td>\n",
       "      <td>2020-11-01 00:33:00</td>\n",
       "      <td>SCSM02</td>\n",
       "      <td>SCS024</td>\n",
       "      <td>43.0</td>\n",
       "      <td>5105</td>\n",
       "      <td>SCS024</td>\n",
       "      <td>Grey</td>\n",
       "      <td>carousel</td>\n",
       "      <td>SCSM02</td>\n",
       "      <td>False</td>\n",
       "      <td>0</td>\n",
       "      <td>1</td>\n",
       "      <td>2</td>\n",
       "    </tr>\n",
       "    <tr>\n",
       "      <th>...</th>\n",
       "      <td>...</td>\n",
       "      <td>...</td>\n",
       "      <td>...</td>\n",
       "      <td>...</td>\n",
       "      <td>...</td>\n",
       "      <td>...</td>\n",
       "      <td>...</td>\n",
       "      <td>...</td>\n",
       "      <td>...</td>\n",
       "      <td>...</td>\n",
       "      <td>...</td>\n",
       "      <td>...</td>\n",
       "      <td>...</td>\n",
       "      <td>...</td>\n",
       "      <td>...</td>\n",
       "    </tr>\n",
       "    <tr>\n",
       "      <th>171126</th>\n",
       "      <td>188345</td>\n",
       "      <td>C23: C2303BCL151 151B54 sensor fault</td>\n",
       "      <td>2020-11-25 14:55:00</td>\n",
       "      <td>C23</td>\n",
       "      <td>P03</td>\n",
       "      <td>28223.0</td>\n",
       "      <td>3428</td>\n",
       "      <td>C2303BCL151</td>\n",
       "      <td>Blue</td>\n",
       "      <td>Outside</td>\n",
       "      <td>C2303</td>\n",
       "      <td>False</td>\n",
       "      <td>23</td>\n",
       "      <td>0</td>\n",
       "      <td>NaN</td>\n",
       "    </tr>\n",
       "    <tr>\n",
       "      <th>171127</th>\n",
       "      <td>188345</td>\n",
       "      <td>C23: C2303BCL151 151B54 sensor fault</td>\n",
       "      <td>2020-11-25 22:46:00</td>\n",
       "      <td>C23</td>\n",
       "      <td>P03</td>\n",
       "      <td>734.0</td>\n",
       "      <td>3428</td>\n",
       "      <td>C2303BCL151</td>\n",
       "      <td>Blue</td>\n",
       "      <td>Outside</td>\n",
       "      <td>C2303</td>\n",
       "      <td>False</td>\n",
       "      <td>23</td>\n",
       "      <td>0</td>\n",
       "      <td>NaN</td>\n",
       "    </tr>\n",
       "    <tr>\n",
       "      <th>171128</th>\n",
       "      <td>188345</td>\n",
       "      <td>C23: C2303BCL151 151B54 sensor fault</td>\n",
       "      <td>2020-11-25 22:58:00</td>\n",
       "      <td>C23</td>\n",
       "      <td>P03</td>\n",
       "      <td>10626.0</td>\n",
       "      <td>3428</td>\n",
       "      <td>C2303BCL151</td>\n",
       "      <td>Blue</td>\n",
       "      <td>Outside</td>\n",
       "      <td>C2303</td>\n",
       "      <td>False</td>\n",
       "      <td>23</td>\n",
       "      <td>0</td>\n",
       "      <td>NaN</td>\n",
       "    </tr>\n",
       "    <tr>\n",
       "      <th>171129</th>\n",
       "      <td>187810</td>\n",
       "      <td>C23: C2303STA116 116D704 scanner / data tracki...</td>\n",
       "      <td>2020-11-25 15:19:00</td>\n",
       "      <td>C23</td>\n",
       "      <td>P03</td>\n",
       "      <td>1176.0</td>\n",
       "      <td>3504</td>\n",
       "      <td>C2303STA116</td>\n",
       "      <td>Blue</td>\n",
       "      <td>Outside</td>\n",
       "      <td>C2303</td>\n",
       "      <td>False</td>\n",
       "      <td>23</td>\n",
       "      <td>0</td>\n",
       "      <td>NaN</td>\n",
       "    </tr>\n",
       "    <tr>\n",
       "      <th>171130</th>\n",
       "      <td>187810</td>\n",
       "      <td>C23: C2303STA116 116D704 scanner / data tracki...</td>\n",
       "      <td>2020-11-25 15:39:00</td>\n",
       "      <td>C23</td>\n",
       "      <td>P03</td>\n",
       "      <td>98.0</td>\n",
       "      <td>3504</td>\n",
       "      <td>C2303STA116</td>\n",
       "      <td>Blue</td>\n",
       "      <td>Outside</td>\n",
       "      <td>C2303</td>\n",
       "      <td>False</td>\n",
       "      <td>23</td>\n",
       "      <td>0</td>\n",
       "      <td>NaN</td>\n",
       "    </tr>\n",
       "  </tbody>\n",
       "</table>\n",
       "<p>21456 rows × 15 columns</p>\n",
       "</div>"
      ],
      "text/plain": [
       "        Number                                              Alert  \\\n",
       "12       50967     C06: C0602STA057 057B14 clearance sensor fault   \n",
       "18       50934     C06: C0602STA056 056B12 occupancy sensor fault   \n",
       "109     402122  SCS022: sto: timeout bin from lifter to car X:...   \n",
       "169      50504     C06: C0602STA032 032B21 occupancy sensor fault   \n",
       "262     402570  SCS024: sto: timeout bin from lifter to car X:...   \n",
       "...        ...                                                ...   \n",
       "171126  188345               C23: C2303BCL151 151B54 sensor fault   \n",
       "171127  188345               C23: C2303BCL151 151B54 sensor fault   \n",
       "171128  188345               C23: C2303BCL151 151B54 sensor fault   \n",
       "171129  187810  C23: C2303STA116 116D704 scanner / data tracki...   \n",
       "171130  187810  C23: C2303STA116 116D704 scanner / data tracki...   \n",
       "\n",
       "                 timestamp     PLC    Desk  Duration  Fault ID   Asset Code  \\\n",
       "12     2020-11-01 00:01:00     C06     P02      32.0      3419  C0602STA057   \n",
       "18     2020-11-01 00:02:00     C06     P02      15.0      3416  C0602STA056   \n",
       "109    2020-11-01 00:14:00  SCSM02  SCS022     211.0      5105       SCS022   \n",
       "169    2020-11-01 00:22:00     C06     P02     214.0      3416  C0602STA032   \n",
       "262    2020-11-01 00:33:00  SCSM02  SCS024      43.0      5105       SCS024   \n",
       "...                    ...     ...     ...       ...       ...          ...   \n",
       "171126 2020-11-25 14:55:00     C23     P03   28223.0      3428  C2303BCL151   \n",
       "171127 2020-11-25 22:46:00     C23     P03     734.0      3428  C2303BCL151   \n",
       "171128 2020-11-25 22:58:00     C23     P03   10626.0      3428  C2303BCL151   \n",
       "171129 2020-11-25 15:19:00     C23     P03    1176.0      3504  C2303STA116   \n",
       "171130 2020-11-25 15:39:00     C23     P03      98.0      3504  C2303STA116   \n",
       "\n",
       "       Tote Colour      Loop  Suffix Pick Station  PLCN  Quadrant MODULE  \n",
       "12            Grey    Module   C0602        False     6         1      2  \n",
       "18            Grey    Module   C0602        False     6         1      2  \n",
       "109           Grey  carousel  SCSM02        False     0         1      2  \n",
       "169           Blue    Module   C0602        False     6         1      2  \n",
       "262           Grey  carousel  SCSM02        False     0         1      2  \n",
       "...            ...       ...     ...          ...   ...       ...    ...  \n",
       "171126        Blue   Outside   C2303        False    23         0    NaN  \n",
       "171127        Blue   Outside   C2303        False    23         0    NaN  \n",
       "171128        Blue   Outside   C2303        False    23         0    NaN  \n",
       "171129        Blue   Outside   C2303        False    23         0    NaN  \n",
       "171130        Blue   Outside   C2303        False    23         0    NaN  \n",
       "\n",
       "[21456 rows x 15 columns]"
      ]
     },
     "execution_count": 16,
     "metadata": {},
     "output_type": "execute_result"
    }
   ],
   "source": [
    "feat.get_data_faults(fa, 2)"
   ]
  },
  {
   "cell_type": "markdown",
   "metadata": {},
   "source": [
    "* Anything in same Module \n",
    "* PLC External applying to that PLC\n",
    "* Quadrant loop faults for the module that quadrant is in\n",
    "* Outer"
   ]
  },
  {
   "cell_type": "code",
   "execution_count": null,
   "metadata": {},
   "outputs": [],
   "source": [
    "fa.shape"
   ]
  },
  {
   "cell_type": "code",
   "execution_count": null,
   "metadata": {},
   "outputs": [],
   "source": [
    "fa_filter = feat.get_data_faults(fa, 2)"
   ]
  },
  {
   "cell_type": "code",
   "execution_count": null,
   "metadata": {},
   "outputs": [],
   "source": [
    "fa_filter.shape"
   ]
  }
 ],
 "metadata": {
  "kernelspec": {
   "display_name": "Python 3",
   "language": "python",
   "name": "python3"
  },
  "language_info": {
   "codemirror_mode": {
    "name": "ipython",
    "version": 3
   },
   "file_extension": ".py",
   "mimetype": "text/x-python",
   "name": "python",
   "nbconvert_exporter": "python",
   "pygments_lexer": "ipython3",
   "version": "3.8.3"
  }
 },
 "nbformat": 4,
 "nbformat_minor": 4
}
