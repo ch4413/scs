{
 "cells": [
  {
   "cell_type": "code",
   "execution_count": 1,
   "metadata": {},
   "outputs": [],
   "source": [
    "import pandas as pd\n",
    "import numpy as np\n",
    "import seaborn as sns\n",
    "import matplotlib.pyplot as plt\n",
    "%matplotlib inline\n",
    "\n",
    "import scsavailability as scs\n",
    "\n",
    "from scsavailability import features as feat, model as md, plotting as pt"
   ]
  },
  {
   "cell_type": "code",
   "execution_count": 2,
   "metadata": {},
   "outputs": [],
   "source": [
    "path = 'C:/Users/Jamie.williams/OneDrive - Newton Europe Ltd/Castle Donnington/Data/'"
   ]
  },
  {
   "cell_type": "code",
   "execution_count": 3,
   "metadata": {},
   "outputs": [],
   "source": [
    "at = pd.read_csv(path+'active_totes_20201123.csv')\n",
    "av = pd.read_csv(path+'Availability_with_Grey&Blue_1811-2511.csv')\n",
    "fa = pd.read_csv(path + 'scs_tote_matched.csv')"
   ]
  },
  {
   "cell_type": "code",
   "execution_count": 4,
   "metadata": {},
   "outputs": [
    {
     "name": "stdout",
     "output_type": "stream",
     "text": [
      "Active Totes Preprocessed\n"
     ]
    }
   ],
   "source": [
    "at = feat.pre_process_AT(at)"
   ]
  },
  {
   "cell_type": "code",
   "execution_count": 5,
   "metadata": {},
   "outputs": [
    {
     "name": "stdout",
     "output_type": "stream",
     "text": [
      "Quadrants Assigned\n",
      "Modules Assigned\n",
      "Availability data pre-processed\n"
     ]
    }
   ],
   "source": [
    "av = feat.pre_process_av(av)"
   ]
  },
  {
   "cell_type": "code",
   "execution_count": 6,
   "metadata": {},
   "outputs": [
    {
     "name": "stdout",
     "output_type": "stream",
     "text": [
      "duplicated location faults removed - max duration kept\n",
      "Faults Preprocessed\n"
     ]
    },
    {
     "name": "stderr",
     "output_type": "stream",
     "text": [
      "C:\\Users\\Jamie.williams\\Anaconda3\\lib\\site-packages\\scsavailability\\features.py:241: SettingWithCopyWarning: \n",
      "A value is trying to be set on a copy of a slice from a DataFrame.\n",
      "Try using .loc[row_indexer,col_indexer] = value instead\n",
      "\n",
      "See the caveats in the documentation: https://pandas.pydata.org/pandas-docs/stable/user_guide/indexing.html#returning-a-view-versus-a-copy\n",
      "  fa['Duration'] = pd.to_timedelta(fa['Duration'].str.slice(start=2))\n",
      "C:\\Users\\Jamie.williams\\Anaconda3\\lib\\site-packages\\scsavailability\\features.py:242: SettingWithCopyWarning: \n",
      "A value is trying to be set on a copy of a slice from a DataFrame.\n",
      "Try using .loc[row_indexer,col_indexer] = value instead\n",
      "\n",
      "See the caveats in the documentation: https://pandas.pydata.org/pandas-docs/stable/user_guide/indexing.html#returning-a-view-versus-a-copy\n",
      "  fa['Duration'] = fa['Duration'].dt.total_seconds()\n"
     ]
    }
   ],
   "source": [
    "fa = feat.preprocess_faults(fa,remove_same_location_faults = True)"
   ]
  },
  {
   "cell_type": "code",
   "execution_count": 7,
   "metadata": {},
   "outputs": [
    {
     "name": "stdout",
     "output_type": "stream",
     "text": [
      "Time shifted by 0m\n"
     ]
    }
   ],
   "source": [
    "fa_floor = feat.floor_shift_time_fa(fa, shift=0)"
   ]
  },
  {
   "cell_type": "code",
   "execution_count": 40,
   "metadata": {},
   "outputs": [
    {
     "name": "stdout",
     "output_type": "stream",
     "text": [
      "Faults aggregated\n"
     ]
    }
   ],
   "source": [
    "fa_sel = feat.fault_select(fa_floor, select_level = 'Tote Colour', selection = ['Blue','Both','Grey'])\n",
    "\n",
    "fa_agg = feat.faults_aggregate(fa_sel,fault_agg_level='Number', agg_type = 'count')"
   ]
  },
  {
   "cell_type": "code",
   "execution_count": 41,
   "metadata": {},
   "outputs": [
    {
     "name": "stdout",
     "output_type": "stream",
     "text": [
      "Availability data aggregated\n"
     ]
    }
   ],
   "source": [
    "av,at = feat.av_at_select(av, at, remove_high_AT = False)\n",
    "\n",
    "av_agg = feat.aggregate_availability(av, agg_level = 'Quadrant')\n",
    "at_agg = feat.aggregate_totes(at, agg_level = 'Quadrant')"
   ]
  },
  {
   "cell_type": "code",
   "execution_count": 42,
   "metadata": {},
   "outputs": [
    {
     "name": "stdout",
     "output_type": "stream",
     "text": [
      "Datasets merged\n"
     ]
    }
   ],
   "source": [
    "df = feat.merge_av_fa_at(av_agg ,at_df=at_agg, fa_df = fa_agg, target = 'Downtime',faults=True, totes = True, agg_level = 'Quadrant')"
   ]
  },
  {
   "cell_type": "code",
   "execution_count": 43,
   "metadata": {},
   "outputs": [
    {
     "data": {
      "text/html": [
       "<div>\n",
       "<style scoped>\n",
       "    .dataframe tbody tr th:only-of-type {\n",
       "        vertical-align: middle;\n",
       "    }\n",
       "\n",
       "    .dataframe tbody tr th {\n",
       "        vertical-align: top;\n",
       "    }\n",
       "\n",
       "    .dataframe thead th {\n",
       "        text-align: right;\n",
       "    }\n",
       "</style>\n",
       "<table border=\"1\" class=\"dataframe\">\n",
       "  <thead>\n",
       "    <tr style=\"text-align: right;\">\n",
       "      <th></th>\n",
       "      <th>timestamp</th>\n",
       "      <th>Downtime</th>\n",
       "      <th>42023</th>\n",
       "      <th>42182</th>\n",
       "      <th>42329</th>\n",
       "      <th>42343</th>\n",
       "      <th>42375</th>\n",
       "      <th>42438</th>\n",
       "      <th>42442</th>\n",
       "      <th>42453</th>\n",
       "      <th>...</th>\n",
       "      <th>502793</th>\n",
       "      <th>502801</th>\n",
       "      <th>503060</th>\n",
       "      <th>503061</th>\n",
       "      <th>503098</th>\n",
       "      <th>503105</th>\n",
       "      <th>503114</th>\n",
       "      <th>503115</th>\n",
       "      <th>503123</th>\n",
       "      <th>TOTES</th>\n",
       "    </tr>\n",
       "  </thead>\n",
       "  <tbody>\n",
       "    <tr>\n",
       "      <th>0</th>\n",
       "      <td>2020-11-17 09:00:00</td>\n",
       "      <td>0.404806</td>\n",
       "      <td>0</td>\n",
       "      <td>0</td>\n",
       "      <td>0</td>\n",
       "      <td>0</td>\n",
       "      <td>0</td>\n",
       "      <td>0</td>\n",
       "      <td>0</td>\n",
       "      <td>0</td>\n",
       "      <td>...</td>\n",
       "      <td>0</td>\n",
       "      <td>0</td>\n",
       "      <td>0</td>\n",
       "      <td>0</td>\n",
       "      <td>0</td>\n",
       "      <td>0</td>\n",
       "      <td>0</td>\n",
       "      <td>0</td>\n",
       "      <td>0</td>\n",
       "      <td>46.762069</td>\n",
       "    </tr>\n",
       "    <tr>\n",
       "      <th>1</th>\n",
       "      <td>2020-11-17 09:00:00</td>\n",
       "      <td>0.238825</td>\n",
       "      <td>0</td>\n",
       "      <td>0</td>\n",
       "      <td>0</td>\n",
       "      <td>0</td>\n",
       "      <td>0</td>\n",
       "      <td>0</td>\n",
       "      <td>0</td>\n",
       "      <td>0</td>\n",
       "      <td>...</td>\n",
       "      <td>0</td>\n",
       "      <td>0</td>\n",
       "      <td>0</td>\n",
       "      <td>0</td>\n",
       "      <td>0</td>\n",
       "      <td>0</td>\n",
       "      <td>0</td>\n",
       "      <td>0</td>\n",
       "      <td>0</td>\n",
       "      <td>62.116959</td>\n",
       "    </tr>\n",
       "    <tr>\n",
       "      <th>2</th>\n",
       "      <td>2020-11-17 09:00:00</td>\n",
       "      <td>0.193512</td>\n",
       "      <td>0</td>\n",
       "      <td>0</td>\n",
       "      <td>0</td>\n",
       "      <td>0</td>\n",
       "      <td>0</td>\n",
       "      <td>0</td>\n",
       "      <td>0</td>\n",
       "      <td>0</td>\n",
       "      <td>...</td>\n",
       "      <td>0</td>\n",
       "      <td>0</td>\n",
       "      <td>0</td>\n",
       "      <td>0</td>\n",
       "      <td>0</td>\n",
       "      <td>0</td>\n",
       "      <td>0</td>\n",
       "      <td>0</td>\n",
       "      <td>0</td>\n",
       "      <td>75.383966</td>\n",
       "    </tr>\n",
       "    <tr>\n",
       "      <th>3</th>\n",
       "      <td>2020-11-17 09:00:00</td>\n",
       "      <td>0.304642</td>\n",
       "      <td>0</td>\n",
       "      <td>0</td>\n",
       "      <td>0</td>\n",
       "      <td>0</td>\n",
       "      <td>0</td>\n",
       "      <td>0</td>\n",
       "      <td>0</td>\n",
       "      <td>0</td>\n",
       "      <td>...</td>\n",
       "      <td>0</td>\n",
       "      <td>0</td>\n",
       "      <td>0</td>\n",
       "      <td>0</td>\n",
       "      <td>0</td>\n",
       "      <td>0</td>\n",
       "      <td>0</td>\n",
       "      <td>0</td>\n",
       "      <td>0</td>\n",
       "      <td>46.250000</td>\n",
       "    </tr>\n",
       "    <tr>\n",
       "      <th>4</th>\n",
       "      <td>2020-11-17 10:00:00</td>\n",
       "      <td>0.403723</td>\n",
       "      <td>0</td>\n",
       "      <td>1</td>\n",
       "      <td>0</td>\n",
       "      <td>0</td>\n",
       "      <td>0</td>\n",
       "      <td>0</td>\n",
       "      <td>0</td>\n",
       "      <td>0</td>\n",
       "      <td>...</td>\n",
       "      <td>0</td>\n",
       "      <td>0</td>\n",
       "      <td>0</td>\n",
       "      <td>0</td>\n",
       "      <td>0</td>\n",
       "      <td>0</td>\n",
       "      <td>0</td>\n",
       "      <td>0</td>\n",
       "      <td>0</td>\n",
       "      <td>37.590000</td>\n",
       "    </tr>\n",
       "  </tbody>\n",
       "</table>\n",
       "<p>5 rows × 2283 columns</p>\n",
       "</div>"
      ],
      "text/plain": [
       "            timestamp  Downtime  42023  42182  42329  42343  42375  42438  \\\n",
       "0 2020-11-17 09:00:00  0.404806      0      0      0      0      0      0   \n",
       "1 2020-11-17 09:00:00  0.238825      0      0      0      0      0      0   \n",
       "2 2020-11-17 09:00:00  0.193512      0      0      0      0      0      0   \n",
       "3 2020-11-17 09:00:00  0.304642      0      0      0      0      0      0   \n",
       "4 2020-11-17 10:00:00  0.403723      0      1      0      0      0      0   \n",
       "\n",
       "   42442  42453  ...  502793  502801  503060  503061  503098  503105  503114  \\\n",
       "0      0      0  ...       0       0       0       0       0       0       0   \n",
       "1      0      0  ...       0       0       0       0       0       0       0   \n",
       "2      0      0  ...       0       0       0       0       0       0       0   \n",
       "3      0      0  ...       0       0       0       0       0       0       0   \n",
       "4      0      0  ...       0       0       0       0       0       0       0   \n",
       "\n",
       "   503115  503123      TOTES  \n",
       "0       0       0  46.762069  \n",
       "1       0       0  62.116959  \n",
       "2       0       0  75.383966  \n",
       "3       0       0  46.250000  \n",
       "4       0       0  37.590000  \n",
       "\n",
       "[5 rows x 2283 columns]"
      ]
     },
     "execution_count": 43,
     "metadata": {},
     "output_type": "execute_result"
    }
   ],
   "source": [
    "df.head(5)"
   ]
  },
  {
   "cell_type": "code",
   "execution_count": 44,
   "metadata": {},
   "outputs": [],
   "source": [
    "#df = df[df['TOTES']<60].reset_index(drop=True)"
   ]
  },
  {
   "cell_type": "code",
   "execution_count": 45,
   "metadata": {},
   "outputs": [],
   "source": [
    "X,y = md.gen_feat_var(df)"
   ]
  },
  {
   "cell_type": "code",
   "execution_count": 46,
   "metadata": {},
   "outputs": [
    {
     "name": "stdout",
     "output_type": "stream",
     "text": [
      "Feature Importance Ranking: \n",
      " \n",
      "    Importance Feature\n",
      "0    0.558195   TOTES\n",
      "1    0.015457   59331\n",
      "2    0.012428   98597\n",
      "3    0.007731  139558\n",
      "4    0.007336  108581\n",
      "5    0.006352   92867\n",
      "6    0.005522  116581\n",
      "7    0.004792  122348\n",
      "8    0.004790   74773\n",
      "9    0.004620  419818\n",
      "\n",
      "Regression Metrics: \n",
      " \n",
      "           RF Metrics\n",
      "MAE         0.059511\n",
      "MSE         0.006322\n",
      "RMSE        0.079508\n",
      "MAPE%      17.660000\n",
      "ACC%       82.340000\n",
      "OOB         0.500325\n",
      "R2_Train    0.927781\n",
      "R2_Pred     0.578280 \n",
      "\n",
      "Feature Coefficient Ranking: \n",
      " \n",
      "    Coefficients Feature\n",
      "0 -1.962429e+09   42343\n",
      "1 -1.796847e+09   42832\n",
      "2 -1.277518e+09   43367\n",
      "3 -1.260794e+09   42438\n",
      "4 -9.872586e+08   42693\n",
      "5 -9.392619e+08   42442\n",
      "6 -5.568798e+08   42581\n",
      "7 -4.701707e+08   42329\n",
      "8 -4.442796e+08  419146\n",
      "9 -4.200223e+08  130421\n",
      "\n",
      "Regression Metrics: \n",
      " \n",
      "           LM Metrics\n",
      "MAE         0.065773\n",
      "MSE         0.007081\n",
      "RMSE        0.084148\n",
      "MAPE%      19.060000\n",
      "ACC%       80.940000\n",
      "R2_Train    0.787454\n",
      "R2_Pred     0.527621\n",
      "\n",
      "Cross Validation Scores LinearRegression(): \n",
      " \n",
      "        R2 Scores\n",
      "1       0.471424\n",
      "2       0.083602\n",
      "3       0.539736\n",
      "4       0.509842\n",
      "5       0.621024\n",
      "6       0.661811\n",
      "7       0.464893\n",
      "8       0.560476\n",
      "9       0.272868\n",
      "10      0.572642\n",
      "Mean    0.475832\n",
      "STD     0.165113\n",
      "\n",
      "Cross Validation Scores RandomForestRegressor(oob_score=True): \n",
      " \n",
      "        R2 Scores\n",
      "1       0.579189\n",
      "2       0.584863\n",
      "3       0.620081\n",
      "4       0.479198\n",
      "5       0.749679\n",
      "6       0.531554\n",
      "7       0.331685\n",
      "8       0.436227\n",
      "9       0.556811\n",
      "10      0.411440\n",
      "Mean    0.528073\n",
      "STD     0.112804\n"
     ]
    },
    {
     "data": {
      "image/png": "[encoded data removed]",
      "text/plain": [
       "<Figure size 1440x360 with 1 Axes>"
      ]
     },
     "metadata": {
      "needs_background": "light"
     },
     "output_type": "display_data"
    },
    {
     "data": {
      "image/png": "[encoded data removed]",
      "text/plain": [
       "<Figure size 1440x360 with 1 Axes>"
      ]
     },
     "metadata": {
      "needs_background": "light"
     },
     "output_type": "display_data"
    }
   ],
   "source": [
    "X_train, X_test, y_train, y_test = md.split(X,y,test_size=0.3,random_state=101)\n",
    "\n",
    "RF_mdl,predictions_RF=md.run_RF_model(X_train, X_test, y_train, y_test,num_trees=100, criterion = 'mse', max_depth=None, dtree=False)\n",
    "\n",
    "#X_sel_rf = md.select_features(X, X_train, y_train, RF_mdl, thres = np.inf(), max_feat=1000)\n",
    "\n",
    "Linear_mdl,predictions_LM=md.run_LR_model(X_train, X_test, y_train, y_test)\n",
    "\n",
    "#X_sel_lm = md.select_features(X, X_train, y_train, Linear_mdl, thres = np.inf(), max_feat=1000)\n",
    "\n",
    "cv_R2 = md.cross_validate_r2(Linear_mdl, X, y, n_folds = 10, shuffle = True, random_state = 101)\n",
    "\n",
    "cv_R2 = md.cross_validate_r2(RF_mdl, X, y, n_folds = 10, shuffle = True, random_state = 101)"
   ]
  },
  {
   "cell_type": "code",
   "execution_count": null,
   "metadata": {},
   "outputs": [],
   "source": []
  }
 ],
 "metadata": {
  "kernelspec": {
   "display_name": "Python 3",
   "language": "python",
   "name": "python3"
  },
  "language_info": {
   "codemirror_mode": {
    "name": "ipython",
    "version": 3
   },
   "file_extension": ".py",
   "mimetype": "text/x-python",
   "name": "python",
   "nbconvert_exporter": "python",
   "pygments_lexer": "ipython3",
   "version": "3.8.3"
  }
 },
 "nbformat": 4,
 "nbformat_minor": 4
}
