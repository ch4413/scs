{
 "cells": [
  {
   "cell_type": "markdown",
   "metadata": {},
   "source": [
    "## Tasks\n",
    "\n",
    "### Faults\n",
    "\n",
    "* How many occur per day, how many assets are in the system (use historic data), how many assets per tote type?\n",
    "* What's our data set size (inner join)\n",
    "* What happens dropping granularity?\n",
    "* Map faults to Grey-Blue\n",
    "* Blue faults and availability\n",
    "* Grey faults and availability\n",
    "* Fault distribution by tote colour: at top level (Grey Vs. Blue), lower level (faults within colour)\n",
    "* Faults by asset: TimeAssetIs in Fault ~ Total Availibility\n",
    "* Do commonly occuring faults have a relationwith time availibility? Are some faults just warnings?\n",
    "* Faults by hour / shift pattern?\n",
    "\n",
    "### Active Totes\n",
    "\n",
    "* Active tote variability by day, hour?\n",
    "* Actives by hour / shift pattern?\n",
    "* Need to aggregate by hour - also is there variability within an hour?\n",
    "* Correlation between active totes and availability - optimum curve\n",
    "\n",
    "### Blue-Grey Availability data\n",
    "\n",
    "* How does each availability vary: overall, grey, blue? Does it vary through time period\n",
    "* Pick Station availability: overall, blue, grey\n",
    "* Pick station availability compared to active totes: whole SCS, quadrant, module"
   ]
  },
  {
   "cell_type": "code",
   "execution_count": 1,
   "metadata": {},
   "outputs": [],
   "source": [
    "import pandas as pd\n",
    "import seaborn as sns"
   ]
  },
  {
   "cell_type": "markdown",
   "metadata": {},
   "source": [
    "### Raw Files"
   ]
  },
  {
   "cell_type": "code",
   "execution_count": 2,
   "metadata": {},
   "outputs": [],
   "source": [
    "scs_raw = pd.read_csv('../data/SCS alerts Nov_with_asset_code.csv', parse_dates=['Entry time '])\n",
    "scs_raw.columns = pd.Series(scs_raw.columns).str.strip()\n",
    "#scs_raw = scs[~scs['PLC'].isin(['C23','C15','C16', 'C17'])].copy() # check that I can drop these as outside\n",
    "active_totes = pd.read_csv('../data/active_totes_20201123.csv')\n",
    "availability = pd.read_csv('../data/Availability_with_Grey&Blue_1811-2511.csv')"
   ]
  },
  {
   "cell_type": "markdown",
   "metadata": {},
   "source": [
    "### Clean SCS"
   ]
  },
  {
   "cell_type": "code",
   "execution_count": 3,
   "metadata": {},
   "outputs": [],
   "source": [
    "# Remove destacker\n",
    "scs_raw['PLC_number'] = scs_raw['PLC'].str.extract('((?<=^C).*)').fillna('0').astype(int) # with regex\n",
    "scs = scs_raw"
   ]
  },
  {
   "cell_type": "markdown",
   "metadata": {},
   "source": [
    "### Clean Active Totes"
   ]
  },
  {
   "cell_type": "code",
   "execution_count": 4,
   "metadata": {},
   "outputs": [
    {
     "data": {
      "text/plain": [
       "array(['SCS01', 'SCS02', 'SCS03', 'SCS04', 'SCS05', 'SCS07', 'SCS08',\n",
       "       'SCS09', 'SCS10', 'SCS11', 'SCS12', 'SCS13', 'SCS14', 'SCS15',\n",
       "       'SCS17', 'SCS18', 'SCS19', 'SCS20', 'ECB', 'RCB'], dtype=object)"
      ]
     },
     "execution_count": 4,
     "metadata": {},
     "output_type": "execute_result"
    }
   ],
   "source": [
    "active_totes['MODULE_ASSIGNED'].unique() # scsXX - CXX 05 <= XX <= 14"
   ]
  },
  {
   "cell_type": "code",
   "execution_count": 5,
   "metadata": {},
   "outputs": [],
   "source": [
    "active_totes_drop = active_totes[~active_totes['MODULE_ASSIGNED'].isin(['ECB', 'RCB'])].copy()\n",
    "active_totes_drop['module_number'] = active_totes_drop['MODULE_ASSIGNED'].str.slice(3,5)\n",
    "active_totes_drop['module_number'] = active_totes_drop['MODULE_ASSIGNED'].str.extract('((?<=[A-Z]{3}).*)') # with regex\n",
    "active_totes_drop['module_number'] = active_totes_drop['MODULE_ASSIGNED'].apply(lambda x: x[3::]) # with a lambda"
   ]
  },
  {
   "cell_type": "code",
   "execution_count": 6,
   "metadata": {},
   "outputs": [],
   "source": [
    "active_totes_drop['DAY'] = active_totes_drop['DAY'].astype('str').str.pad(width=2, side='left', fillchar='0')\n",
    "active_totes_drop['HOUR'] = active_totes_drop['HOUR'].astype('str').str.pad(width=2, side='left', fillchar='0')\n",
    "active_totes_drop['MINUTE'] = active_totes_drop['MINUTE'].astype('str').str.pad(width=2, side='left', fillchar='0')\n",
    "active_totes_drop['timestamp'] = pd.to_datetime(active_totes_drop.apply(\n",
    "    lambda x: '{0}/{1}/{2} {3}:{4}'.format(x['MONTH'],x['DAY'], x['YEAR'], x['HOUR'], x['MINUTE']), axis=1))"
   ]
  },
  {
   "cell_type": "code",
   "execution_count": 7,
   "metadata": {},
   "outputs": [],
   "source": [
    "active_totes_drop = active_totes_drop.drop(['ID', 'DAY', 'MONTH', 'YEAR', 'HOUR', 'MINUTE'], axis=1)"
   ]
  },
  {
   "cell_type": "code",
   "execution_count": 8,
   "metadata": {},
   "outputs": [
    {
     "data": {
      "text/html": [
       "<div>\n",
       "<style scoped>\n",
       "    .dataframe tbody tr th:only-of-type {\n",
       "        vertical-align: middle;\n",
       "    }\n",
       "\n",
       "    .dataframe tbody tr th {\n",
       "        vertical-align: top;\n",
       "    }\n",
       "\n",
       "    .dataframe thead th {\n",
       "        text-align: right;\n",
       "    }\n",
       "</style>\n",
       "<table border=\"1\" class=\"dataframe\">\n",
       "  <thead>\n",
       "    <tr style=\"text-align: right;\">\n",
       "      <th></th>\n",
       "      <th>MODULE_ASSIGNED</th>\n",
       "      <th>TOTES</th>\n",
       "      <th>module_number</th>\n",
       "      <th>timestamp</th>\n",
       "    </tr>\n",
       "  </thead>\n",
       "  <tbody>\n",
       "    <tr>\n",
       "      <th>0</th>\n",
       "      <td>SCS01</td>\n",
       "      <td>44</td>\n",
       "      <td>01</td>\n",
       "      <td>2020-11-09 08:22:00</td>\n",
       "    </tr>\n",
       "    <tr>\n",
       "      <th>1</th>\n",
       "      <td>SCS02</td>\n",
       "      <td>33</td>\n",
       "      <td>02</td>\n",
       "      <td>2020-11-09 08:22:00</td>\n",
       "    </tr>\n",
       "    <tr>\n",
       "      <th>2</th>\n",
       "      <td>SCS03</td>\n",
       "      <td>71</td>\n",
       "      <td>03</td>\n",
       "      <td>2020-11-09 08:22:00</td>\n",
       "    </tr>\n",
       "    <tr>\n",
       "      <th>3</th>\n",
       "      <td>SCS04</td>\n",
       "      <td>53</td>\n",
       "      <td>04</td>\n",
       "      <td>2020-11-09 08:22:00</td>\n",
       "    </tr>\n",
       "    <tr>\n",
       "      <th>4</th>\n",
       "      <td>SCS05</td>\n",
       "      <td>65</td>\n",
       "      <td>05</td>\n",
       "      <td>2020-11-09 08:22:00</td>\n",
       "    </tr>\n",
       "  </tbody>\n",
       "</table>\n",
       "</div>"
      ],
      "text/plain": [
       "  MODULE_ASSIGNED  TOTES module_number           timestamp\n",
       "0           SCS01     44            01 2020-11-09 08:22:00\n",
       "1           SCS02     33            02 2020-11-09 08:22:00\n",
       "2           SCS03     71            03 2020-11-09 08:22:00\n",
       "3           SCS04     53            04 2020-11-09 08:22:00\n",
       "4           SCS05     65            05 2020-11-09 08:22:00"
      ]
     },
     "execution_count": 8,
     "metadata": {},
     "output_type": "execute_result"
    }
   ],
   "source": [
    "active_totes_drop.head()"
   ]
  },
  {
   "cell_type": "markdown",
   "metadata": {},
   "source": [
    "### Link Totes and Faults"
   ]
  },
  {
   "cell_type": "code",
   "execution_count": 9,
   "metadata": {},
   "outputs": [],
   "source": [
    "# tote lookup\n",
    "lu = pd.read_csv('../data/asset_tote_lookup.csv')\n",
    "lu = lu[['Name', 'Tote Colour']]"
   ]
  },
  {
   "cell_type": "code",
   "execution_count": 10,
   "metadata": {},
   "outputs": [],
   "source": [
    "scs_totes = pd.merge(scs_raw, lu, how='left', left_on='code', right_on='Name', indicator=True)\n",
    "# Big rules\n",
    "scs_totes.loc[scs_totes['Alert'].str.contains('PTT'), 'Tote Colour'] = 'Both'\n",
    "scs_totes.loc[(scs_totes['PLC_number'] > 34), 'Tote Colour'] = 'Blue'\n",
    "scs_totes.loc[scs_totes['PLC_number'].isin([15,16,17,23]), 'Tote Colour'] = 'Blue'"
   ]
  },
  {
   "cell_type": "code",
   "execution_count": 11,
   "metadata": {},
   "outputs": [
    {
     "data": {
      "text/plain": [
       "Blue    69536\n",
       "Grey    57770\n",
       "Both    40052\n",
       "Name: Tote Colour, dtype: int64"
      ]
     },
     "execution_count": 11,
     "metadata": {},
     "output_type": "execute_result"
    }
   ],
   "source": [
    "scs_totes['Tote Colour'].value_counts()"
   ]
  },
  {
   "cell_type": "code",
   "execution_count": 13,
   "metadata": {},
   "outputs": [],
   "source": [
    "scs_totes.to_csv('../data/scs_tote_matched.csv', index=False)"
   ]
  },
  {
   "cell_type": "code",
   "execution_count": 31,
   "metadata": {},
   "outputs": [
    {
     "data": {
      "text/html": [
       "<div>\n",
       "<style scoped>\n",
       "    .dataframe tbody tr th:only-of-type {\n",
       "        vertical-align: middle;\n",
       "    }\n",
       "\n",
       "    .dataframe tbody tr th {\n",
       "        vertical-align: top;\n",
       "    }\n",
       "\n",
       "    .dataframe thead th {\n",
       "        text-align: right;\n",
       "    }\n",
       "</style>\n",
       "<table border=\"1\" class=\"dataframe\">\n",
       "  <thead>\n",
       "    <tr style=\"text-align: right;\">\n",
       "      <th></th>\n",
       "      <th>Number</th>\n",
       "      <th>Alert</th>\n",
       "      <th>Entry time</th>\n",
       "      <th>PLC</th>\n",
       "      <th>Desk</th>\n",
       "      <th>Duration</th>\n",
       "      <th>Fault ID</th>\n",
       "      <th>code</th>\n",
       "      <th>PLC_number</th>\n",
       "      <th>Name</th>\n",
       "      <th>Tote Colour</th>\n",
       "      <th>_merge</th>\n",
       "    </tr>\n",
       "  </thead>\n",
       "  <tbody>\n",
       "    <tr>\n",
       "      <th>34406</th>\n",
       "      <td>53714</td>\n",
       "      <td>C06: C06 fieldbus summary fault</td>\n",
       "      <td>2020-06-11 02:45:00</td>\n",
       "      <td>C06</td>\n",
       "      <td>Z</td>\n",
       "      <td>0.00:02:56</td>\n",
       "      <td>3107</td>\n",
       "      <td>C06</td>\n",
       "      <td>6</td>\n",
       "      <td>NaN</td>\n",
       "      <td>NaN</td>\n",
       "      <td>left_only</td>\n",
       "    </tr>\n",
       "    <tr>\n",
       "      <th>43456</th>\n",
       "      <td>118938</td>\n",
       "      <td>C14: C14+194BV81 fieldbus fault</td>\n",
       "      <td>2020-07-11 12:04:00</td>\n",
       "      <td>C14</td>\n",
       "      <td>Z</td>\n",
       "      <td>0.00:50:30</td>\n",
       "      <td>3104</td>\n",
       "      <td>C14</td>\n",
       "      <td>14</td>\n",
       "      <td>NaN</td>\n",
       "      <td>NaN</td>\n",
       "      <td>left_only</td>\n",
       "    </tr>\n",
       "    <tr>\n",
       "      <th>43457</th>\n",
       "      <td>118929</td>\n",
       "      <td>C14: C14+194BV81 circuit breaker monitoring 24VDC</td>\n",
       "      <td>2020-07-11 12:04:00</td>\n",
       "      <td>C14</td>\n",
       "      <td>Z</td>\n",
       "      <td>0.00:50:30</td>\n",
       "      <td>3222</td>\n",
       "      <td>C14</td>\n",
       "      <td>14</td>\n",
       "      <td>NaN</td>\n",
       "      <td>NaN</td>\n",
       "      <td>left_only</td>\n",
       "    </tr>\n",
       "    <tr>\n",
       "      <th>43518</th>\n",
       "      <td>119002</td>\n",
       "      <td>C14: C14+143BV83 fieldbus fault</td>\n",
       "      <td>2020-07-11 12:26:00</td>\n",
       "      <td>C14</td>\n",
       "      <td>Z</td>\n",
       "      <td>0.00:00:01</td>\n",
       "      <td>3104</td>\n",
       "      <td>C14</td>\n",
       "      <td>14</td>\n",
       "      <td>NaN</td>\n",
       "      <td>NaN</td>\n",
       "      <td>left_only</td>\n",
       "    </tr>\n",
       "    <tr>\n",
       "      <th>43519</th>\n",
       "      <td>118993</td>\n",
       "      <td>C14: C14+143BV83 circuit breaker monitoring 24VDC</td>\n",
       "      <td>2020-07-11 12:26:00</td>\n",
       "      <td>C14</td>\n",
       "      <td>Z</td>\n",
       "      <td>0.00:00:01</td>\n",
       "      <td>3222</td>\n",
       "      <td>C14</td>\n",
       "      <td>14</td>\n",
       "      <td>NaN</td>\n",
       "      <td>NaN</td>\n",
       "      <td>left_only</td>\n",
       "    </tr>\n",
       "    <tr>\n",
       "      <th>...</th>\n",
       "      <td>...</td>\n",
       "      <td>...</td>\n",
       "      <td>...</td>\n",
       "      <td>...</td>\n",
       "      <td>...</td>\n",
       "      <td>...</td>\n",
       "      <td>...</td>\n",
       "      <td>...</td>\n",
       "      <td>...</td>\n",
       "      <td>...</td>\n",
       "      <td>...</td>\n",
       "      <td>...</td>\n",
       "    </tr>\n",
       "    <tr>\n",
       "      <th>148653</th>\n",
       "      <td>44498</td>\n",
       "      <td>C05: C05 fieldbus summary fault</td>\n",
       "      <td>2020-11-20 10:32:00</td>\n",
       "      <td>C05</td>\n",
       "      <td>Z</td>\n",
       "      <td>NaN</td>\n",
       "      <td>3107</td>\n",
       "      <td>C05</td>\n",
       "      <td>5</td>\n",
       "      <td>NaN</td>\n",
       "      <td>NaN</td>\n",
       "      <td>left_only</td>\n",
       "    </tr>\n",
       "    <tr>\n",
       "      <th>156971</th>\n",
       "      <td>79490</td>\n",
       "      <td>C09: C09+D02_ESA02 emergency stop button actua...</td>\n",
       "      <td>2020-11-23 07:52:00</td>\n",
       "      <td>C09</td>\n",
       "      <td>Z</td>\n",
       "      <td>0.00:00:54</td>\n",
       "      <td>3436</td>\n",
       "      <td>C09</td>\n",
       "      <td>9</td>\n",
       "      <td>NaN</td>\n",
       "      <td>NaN</td>\n",
       "      <td>left_only</td>\n",
       "    </tr>\n",
       "    <tr>\n",
       "      <th>157070</th>\n",
       "      <td>79490</td>\n",
       "      <td>C09: C09+D02_ESA02 emergency stop button actua...</td>\n",
       "      <td>2020-11-23 07:37:00</td>\n",
       "      <td>C09</td>\n",
       "      <td>Z</td>\n",
       "      <td>0.00:04:01</td>\n",
       "      <td>3436</td>\n",
       "      <td>C09</td>\n",
       "      <td>9</td>\n",
       "      <td>NaN</td>\n",
       "      <td>NaN</td>\n",
       "      <td>left_only</td>\n",
       "    </tr>\n",
       "    <tr>\n",
       "      <th>161671</th>\n",
       "      <td>93643</td>\n",
       "      <td>C11: C11 emergency stop monitoring area 10</td>\n",
       "      <td>2020-11-24 16:26:00</td>\n",
       "      <td>C11</td>\n",
       "      <td>Z</td>\n",
       "      <td>0.00:00:17</td>\n",
       "      <td>3211</td>\n",
       "      <td>C11</td>\n",
       "      <td>11</td>\n",
       "      <td>NaN</td>\n",
       "      <td>NaN</td>\n",
       "      <td>left_only</td>\n",
       "    </tr>\n",
       "    <tr>\n",
       "      <th>161672</th>\n",
       "      <td>84523</td>\n",
       "      <td>C10: C10 emergency stop monitoring area 10</td>\n",
       "      <td>2020-11-24 16:26:00</td>\n",
       "      <td>C10</td>\n",
       "      <td>Z</td>\n",
       "      <td>0.00:00:18</td>\n",
       "      <td>3211</td>\n",
       "      <td>C10</td>\n",
       "      <td>10</td>\n",
       "      <td>NaN</td>\n",
       "      <td>NaN</td>\n",
       "      <td>left_only</td>\n",
       "    </tr>\n",
       "  </tbody>\n",
       "</table>\n",
       "<p>113 rows × 12 columns</p>\n",
       "</div>"
      ],
      "text/plain": [
       "        Number                                              Alert  \\\n",
       "34406    53714                    C06: C06 fieldbus summary fault   \n",
       "43456   118938                    C14: C14+194BV81 fieldbus fault   \n",
       "43457   118929  C14: C14+194BV81 circuit breaker monitoring 24VDC   \n",
       "43518   119002                    C14: C14+143BV83 fieldbus fault   \n",
       "43519   118993  C14: C14+143BV83 circuit breaker monitoring 24VDC   \n",
       "...        ...                                                ...   \n",
       "148653   44498                    C05: C05 fieldbus summary fault   \n",
       "156971   79490  C09: C09+D02_ESA02 emergency stop button actua...   \n",
       "157070   79490  C09: C09+D02_ESA02 emergency stop button actua...   \n",
       "161671   93643         C11: C11 emergency stop monitoring area 10   \n",
       "161672   84523         C10: C10 emergency stop monitoring area 10   \n",
       "\n",
       "                Entry time  PLC Desk    Duration  Fault ID code  PLC_number  \\\n",
       "34406  2020-06-11 02:45:00  C06    Z  0.00:02:56      3107  C06           6   \n",
       "43456  2020-07-11 12:04:00  C14    Z  0.00:50:30      3104  C14          14   \n",
       "43457  2020-07-11 12:04:00  C14    Z  0.00:50:30      3222  C14          14   \n",
       "43518  2020-07-11 12:26:00  C14    Z  0.00:00:01      3104  C14          14   \n",
       "43519  2020-07-11 12:26:00  C14    Z  0.00:00:01      3222  C14          14   \n",
       "...                    ...  ...  ...         ...       ...  ...         ...   \n",
       "148653 2020-11-20 10:32:00  C05    Z         NaN      3107  C05           5   \n",
       "156971 2020-11-23 07:52:00  C09    Z  0.00:00:54      3436  C09           9   \n",
       "157070 2020-11-23 07:37:00  C09    Z  0.00:04:01      3436  C09           9   \n",
       "161671 2020-11-24 16:26:00  C11    Z  0.00:00:17      3211  C11          11   \n",
       "161672 2020-11-24 16:26:00  C10    Z  0.00:00:18      3211  C10          10   \n",
       "\n",
       "       Name Tote Colour     _merge  \n",
       "34406   NaN         NaN  left_only  \n",
       "43456   NaN         NaN  left_only  \n",
       "43457   NaN         NaN  left_only  \n",
       "43518   NaN         NaN  left_only  \n",
       "43519   NaN         NaN  left_only  \n",
       "...     ...         ...        ...  \n",
       "148653  NaN         NaN  left_only  \n",
       "156971  NaN         NaN  left_only  \n",
       "157070  NaN         NaN  left_only  \n",
       "161671  NaN         NaN  left_only  \n",
       "161672  NaN         NaN  left_only  \n",
       "\n",
       "[113 rows x 12 columns]"
      ]
     },
     "execution_count": 31,
     "metadata": {},
     "output_type": "execute_result"
    }
   ],
   "source": [
    "scs_totes[scs_totes['Tote Colour'].isna() & (scs_totes['Desk']=='Z') & (scs_totes['PLC_number'] >= 5)\n",
    "         & (scs_totes['PLC_number'] <= 14)]"
   ]
  },
  {
   "cell_type": "markdown",
   "metadata": {},
   "source": [
    "### Unmatched 3222 & 3114"
   ]
  },
  {
   "cell_type": "code",
   "execution_count": 24,
   "metadata": {},
   "outputs": [
    {
     "ename": "NotImplementedError",
     "evalue": "iLocation based boolean indexing on an integer type is not available",
     "output_type": "error",
     "traceback": [
      "\u001b[1;31m---------------------------------------------------------------------------\u001b[0m",
      "\u001b[1;31mNotImplementedError\u001b[0m                       Traceback (most recent call last)",
      "\u001b[1;32m<ipython-input-24-6e46109d8b66>\u001b[0m in \u001b[0;36m<module>\u001b[1;34m\u001b[0m\n\u001b[1;32m----> 1\u001b[1;33m scs_totes.iloc[(scs_totes['Desk'].isin(['Z']) & (scs_totes['PLC_number'] >= 5) & (scs_totes['PLC_number'] <= 14) &\n\u001b[0m\u001b[0;32m      2\u001b[0m          scs_totes['Tote Colour'].isna()), 'Tote Colour'] = 'Both'\n",
      "\u001b[1;32m~\\Anaconda3\\lib\\site-packages\\pandas\\core\\indexing.py\u001b[0m in \u001b[0;36m__setitem__\u001b[1;34m(self, key, value)\u001b[0m\n\u001b[0;32m    668\u001b[0m         \u001b[1;32melse\u001b[0m\u001b[1;33m:\u001b[0m\u001b[1;33m\u001b[0m\u001b[1;33m\u001b[0m\u001b[0m\n\u001b[0;32m    669\u001b[0m             \u001b[0mkey\u001b[0m \u001b[1;33m=\u001b[0m \u001b[0mcom\u001b[0m\u001b[1;33m.\u001b[0m\u001b[0mapply_if_callable\u001b[0m\u001b[1;33m(\u001b[0m\u001b[0mkey\u001b[0m\u001b[1;33m,\u001b[0m \u001b[0mself\u001b[0m\u001b[1;33m.\u001b[0m\u001b[0mobj\u001b[0m\u001b[1;33m)\u001b[0m\u001b[1;33m\u001b[0m\u001b[1;33m\u001b[0m\u001b[0m\n\u001b[1;32m--> 670\u001b[1;33m         \u001b[0mindexer\u001b[0m \u001b[1;33m=\u001b[0m \u001b[0mself\u001b[0m\u001b[1;33m.\u001b[0m\u001b[0m_get_setitem_indexer\u001b[0m\u001b[1;33m(\u001b[0m\u001b[0mkey\u001b[0m\u001b[1;33m)\u001b[0m\u001b[1;33m\u001b[0m\u001b[1;33m\u001b[0m\u001b[0m\n\u001b[0m\u001b[0;32m    671\u001b[0m         \u001b[0mself\u001b[0m\u001b[1;33m.\u001b[0m\u001b[0m_setitem_with_indexer\u001b[0m\u001b[1;33m(\u001b[0m\u001b[0mindexer\u001b[0m\u001b[1;33m,\u001b[0m \u001b[0mvalue\u001b[0m\u001b[1;33m)\u001b[0m\u001b[1;33m\u001b[0m\u001b[1;33m\u001b[0m\u001b[0m\n\u001b[0;32m    672\u001b[0m \u001b[1;33m\u001b[0m\u001b[0m\n",
      "\u001b[1;32m~\\Anaconda3\\lib\\site-packages\\pandas\\core\\indexing.py\u001b[0m in \u001b[0;36m_get_setitem_indexer\u001b[1;34m(self, key)\u001b[0m\n\u001b[0;32m    646\u001b[0m         \u001b[1;32mif\u001b[0m \u001b[0misinstance\u001b[0m\u001b[1;33m(\u001b[0m\u001b[0mkey\u001b[0m\u001b[1;33m,\u001b[0m \u001b[0mtuple\u001b[0m\u001b[1;33m)\u001b[0m\u001b[1;33m:\u001b[0m\u001b[1;33m\u001b[0m\u001b[1;33m\u001b[0m\u001b[0m\n\u001b[0;32m    647\u001b[0m             \u001b[1;32mtry\u001b[0m\u001b[1;33m:\u001b[0m\u001b[1;33m\u001b[0m\u001b[1;33m\u001b[0m\u001b[0m\n\u001b[1;32m--> 648\u001b[1;33m                 \u001b[1;32mreturn\u001b[0m \u001b[0mself\u001b[0m\u001b[1;33m.\u001b[0m\u001b[0m_convert_tuple\u001b[0m\u001b[1;33m(\u001b[0m\u001b[0mkey\u001b[0m\u001b[1;33m)\u001b[0m\u001b[1;33m\u001b[0m\u001b[1;33m\u001b[0m\u001b[0m\n\u001b[0m\u001b[0;32m    649\u001b[0m             \u001b[1;32mexcept\u001b[0m \u001b[0mIndexingError\u001b[0m\u001b[1;33m:\u001b[0m\u001b[1;33m\u001b[0m\u001b[1;33m\u001b[0m\u001b[0m\n\u001b[0;32m    650\u001b[0m                 \u001b[1;32mpass\u001b[0m\u001b[1;33m\u001b[0m\u001b[1;33m\u001b[0m\u001b[0m\n",
      "\u001b[1;32m~\\Anaconda3\\lib\\site-packages\\pandas\\core\\indexing.py\u001b[0m in \u001b[0;36m_convert_tuple\u001b[1;34m(self, key)\u001b[0m\n\u001b[0;32m    731\u001b[0m                 \u001b[1;32mif\u001b[0m \u001b[0mi\u001b[0m \u001b[1;33m>=\u001b[0m \u001b[0mself\u001b[0m\u001b[1;33m.\u001b[0m\u001b[0mndim\u001b[0m\u001b[1;33m:\u001b[0m\u001b[1;33m\u001b[0m\u001b[1;33m\u001b[0m\u001b[0m\n\u001b[0;32m    732\u001b[0m                     \u001b[1;32mraise\u001b[0m \u001b[0mIndexingError\u001b[0m\u001b[1;33m(\u001b[0m\u001b[1;34m\"Too many indexers\"\u001b[0m\u001b[1;33m)\u001b[0m\u001b[1;33m\u001b[0m\u001b[1;33m\u001b[0m\u001b[0m\n\u001b[1;32m--> 733\u001b[1;33m                 \u001b[0midx\u001b[0m \u001b[1;33m=\u001b[0m \u001b[0mself\u001b[0m\u001b[1;33m.\u001b[0m\u001b[0m_convert_to_indexer\u001b[0m\u001b[1;33m(\u001b[0m\u001b[0mk\u001b[0m\u001b[1;33m,\u001b[0m \u001b[0maxis\u001b[0m\u001b[1;33m=\u001b[0m\u001b[0mi\u001b[0m\u001b[1;33m)\u001b[0m\u001b[1;33m\u001b[0m\u001b[1;33m\u001b[0m\u001b[0m\n\u001b[0m\u001b[0;32m    734\u001b[0m                 \u001b[0mkeyidx\u001b[0m\u001b[1;33m.\u001b[0m\u001b[0mappend\u001b[0m\u001b[1;33m(\u001b[0m\u001b[0midx\u001b[0m\u001b[1;33m)\u001b[0m\u001b[1;33m\u001b[0m\u001b[1;33m\u001b[0m\u001b[0m\n\u001b[0;32m    735\u001b[0m         \u001b[1;32mreturn\u001b[0m \u001b[0mtuple\u001b[0m\u001b[1;33m(\u001b[0m\u001b[0mkeyidx\u001b[0m\u001b[1;33m)\u001b[0m\u001b[1;33m\u001b[0m\u001b[1;33m\u001b[0m\u001b[0m\n",
      "\u001b[1;32m~\\Anaconda3\\lib\\site-packages\\pandas\\core\\indexing.py\u001b[0m in \u001b[0;36m_convert_to_indexer\u001b[1;34m(self, obj, axis, raise_missing)\u001b[0m\n\u001b[0;32m   2153\u001b[0m \u001b[1;33m\u001b[0m\u001b[0m\n\u001b[0;32m   2154\u001b[0m         \u001b[1;32mtry\u001b[0m\u001b[1;33m:\u001b[0m\u001b[1;33m\u001b[0m\u001b[1;33m\u001b[0m\u001b[0m\n\u001b[1;32m-> 2155\u001b[1;33m             \u001b[0mself\u001b[0m\u001b[1;33m.\u001b[0m\u001b[0m_validate_key\u001b[0m\u001b[1;33m(\u001b[0m\u001b[0mobj\u001b[0m\u001b[1;33m,\u001b[0m \u001b[0maxis\u001b[0m\u001b[1;33m)\u001b[0m\u001b[1;33m\u001b[0m\u001b[1;33m\u001b[0m\u001b[0m\n\u001b[0m\u001b[0;32m   2156\u001b[0m             \u001b[1;32mreturn\u001b[0m \u001b[0mobj\u001b[0m\u001b[1;33m\u001b[0m\u001b[1;33m\u001b[0m\u001b[0m\n\u001b[0;32m   2157\u001b[0m         \u001b[1;32mexcept\u001b[0m \u001b[0mValueError\u001b[0m\u001b[1;33m:\u001b[0m\u001b[1;33m\u001b[0m\u001b[1;33m\u001b[0m\u001b[0m\n",
      "\u001b[1;32m~\\Anaconda3\\lib\\site-packages\\pandas\\core\\indexing.py\u001b[0m in \u001b[0;36m_validate_key\u001b[1;34m(self, key, axis)\u001b[0m\n\u001b[0;32m   1978\u001b[0m             \u001b[1;32mif\u001b[0m \u001b[0mhasattr\u001b[0m\u001b[1;33m(\u001b[0m\u001b[0mkey\u001b[0m\u001b[1;33m,\u001b[0m \u001b[1;34m\"index\"\u001b[0m\u001b[1;33m)\u001b[0m \u001b[1;32mand\u001b[0m \u001b[0misinstance\u001b[0m\u001b[1;33m(\u001b[0m\u001b[0mkey\u001b[0m\u001b[1;33m.\u001b[0m\u001b[0mindex\u001b[0m\u001b[1;33m,\u001b[0m \u001b[0mIndex\u001b[0m\u001b[1;33m)\u001b[0m\u001b[1;33m:\u001b[0m\u001b[1;33m\u001b[0m\u001b[1;33m\u001b[0m\u001b[0m\n\u001b[0;32m   1979\u001b[0m                 \u001b[1;32mif\u001b[0m \u001b[0mkey\u001b[0m\u001b[1;33m.\u001b[0m\u001b[0mindex\u001b[0m\u001b[1;33m.\u001b[0m\u001b[0minferred_type\u001b[0m \u001b[1;33m==\u001b[0m \u001b[1;34m\"integer\"\u001b[0m\u001b[1;33m:\u001b[0m\u001b[1;33m\u001b[0m\u001b[1;33m\u001b[0m\u001b[0m\n\u001b[1;32m-> 1980\u001b[1;33m                     raise NotImplementedError(\n\u001b[0m\u001b[0;32m   1981\u001b[0m                         \u001b[1;34m\"iLocation based boolean \"\u001b[0m\u001b[1;33m\u001b[0m\u001b[1;33m\u001b[0m\u001b[0m\n\u001b[0;32m   1982\u001b[0m                         \u001b[1;34m\"indexing on an integer type \"\u001b[0m\u001b[1;33m\u001b[0m\u001b[1;33m\u001b[0m\u001b[0m\n",
      "\u001b[1;31mNotImplementedError\u001b[0m: iLocation based boolean indexing on an integer type is not available"
     ]
    }
   ],
   "source": [
    "scs_totes.iloc[(scs_totes['Desk'].isin(['Z']) & (scs_totes['PLC_number'] >= 5) & (scs_totes['PLC_number'] <= 14) &\n",
    "         scs_totes['Tote Colour'].isna()), 'Tote Colour'] = 'Both'"
   ]
  },
  {
   "cell_type": "code",
   "execution_count": null,
   "metadata": {},
   "outputs": [],
   "source": []
  }
 ],
 "metadata": {
  "kernelspec": {
   "display_name": "Python 3",
   "language": "python",
   "name": "python3"
  },
  "language_info": {
   "codemirror_mode": {
    "name": "ipython",
    "version": 3
   },
   "file_extension": ".py",
   "mimetype": "text/x-python",
   "name": "python",
   "nbconvert_exporter": "python",
   "pygments_lexer": "ipython3",
   "version": "3.8.3"
  }
 },
 "nbformat": 4,
 "nbformat_minor": 4
}
