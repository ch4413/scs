{
 "cells": [
  {
   "cell_type": "markdown",
   "metadata": {},
   "source": [
    "## Tasks\n",
    "\n",
    "### Faults\n",
    "\n",
    "* How many occur per day, how many assets are in the system (use historic data), how many assets per tote type?\n",
    "* What's our data set size (inner join)\n",
    "* What happens dropping granularity?\n",
    "* Map faults to Grey-Blue\n",
    "* Blue faults and availability\n",
    "* Grey faults and availability\n",
    "* Fault distribution by tote colour: at top level (Grey Vs. Blue), lower level (faults within colour)\n",
    "* Faults by asset: TimeAssetIs in Fault ~ Total Availibility\n",
    "* Do commonly occuring faults have a relationwith time availibility? Are some faults just warnings?\n",
    "* Faults by hour / shift pattern?\n",
    "\n",
    "### Active Totes\n",
    "\n",
    "* Active tote variability by day, hour?\n",
    "* Actives by hour / shift pattern?\n",
    "* Need to aggregate by hour - also is there variability within an hour?\n",
    "* Correlation between active totes and availability - optimum curve\n",
    "\n",
    "### Blue-Grey Availability data\n",
    "\n",
    "* How does each availability vary: overall, grey, blue? Does it vary through time period\n",
    "* Pick Station availability: overall, blue, grey\n",
    "* Pick station availability compared to active totes: whole SCS, quadrant, module"
   ]
  },
  {
   "cell_type": "code",
   "execution_count": 1,
   "metadata": {},
   "outputs": [],
   "source": [
    "import pandas as pd\n",
    "import seaborn as sns"
   ]
  },
  {
   "cell_type": "markdown",
   "metadata": {},
   "source": [
    "### Raw Files"
   ]
  },
  {
   "cell_type": "code",
   "execution_count": 89,
   "metadata": {},
   "outputs": [],
   "source": [
    "scs_raw = pd.read_csv('../data/SCS alerts Nov_with_asset_code.csv', parse_dates=['Entry time '])\n",
    "scs_raw.columns = pd.Series(scs_raw.columns).str.strip()\n",
    "#scs_raw = scs[~scs['PLC'].isin(['C23','C15','C16', 'C17'])].copy() # check that I can drop these as outside\n",
    "active_totes = pd.read_csv('../data/active_totes_20201123.csv')\n",
    "availability = pd.read_csv('../data/Availability_with_Grey&Blue_1811-2511.csv')"
   ]
  },
  {
   "cell_type": "markdown",
   "metadata": {},
   "source": [
    "### Clean SCS"
   ]
  },
  {
   "cell_type": "code",
   "execution_count": 91,
   "metadata": {},
   "outputs": [],
   "source": [
    "# Remove destacker\n",
    "scs_raw['PLC_number'] = scs_raw['PLC'].str.extract('((?<=^C).*)').fillna('0').astype(int) # with regex\n",
    "scs = scs_raw"
   ]
  },
  {
   "cell_type": "markdown",
   "metadata": {},
   "source": [
    "### Clean Active Totes"
   ]
  },
  {
   "cell_type": "code",
   "execution_count": 92,
   "metadata": {},
   "outputs": [
    {
     "data": {
      "text/plain": [
       "array(['SCS01', 'SCS02', 'SCS03', 'SCS04', 'SCS05', 'SCS07', 'SCS08',\n",
       "       'SCS09', 'SCS10', 'SCS11', 'SCS12', 'SCS13', 'SCS14', 'SCS15',\n",
       "       'SCS17', 'SCS18', 'SCS19', 'SCS20', 'ECB', 'RCB'], dtype=object)"
      ]
     },
     "execution_count": 92,
     "metadata": {},
     "output_type": "execute_result"
    }
   ],
   "source": [
    "active_totes['MODULE_ASSIGNED'].unique() # scsXX - CXX 05 <= XX <= 14"
   ]
  },
  {
   "cell_type": "code",
   "execution_count": 93,
   "metadata": {},
   "outputs": [],
   "source": [
    "active_totes_drop = active_totes[~active_totes['MODULE_ASSIGNED'].isin(['ECB', 'RCB'])].copy()\n",
    "active_totes_drop['module_number'] = active_totes_drop['MODULE_ASSIGNED'].str.slice(3,5)\n",
    "active_totes_drop['module_number'] = active_totes_drop['MODULE_ASSIGNED'].str.extract('((?<=[A-Z]{3}).*)') # with regex\n",
    "active_totes_drop['module_number'] = active_totes_drop['MODULE_ASSIGNED'].apply(lambda x: x[3::]) # with a lambda"
   ]
  },
  {
   "cell_type": "code",
   "execution_count": 94,
   "metadata": {},
   "outputs": [],
   "source": [
    "active_totes_drop['DAY'] = active_totes_drop['DAY'].astype('str').str.pad(width=2, side='left', fillchar='0')\n",
    "active_totes_drop['HOUR'] = active_totes_drop['HOUR'].astype('str').str.pad(width=2, side='left', fillchar='0')\n",
    "active_totes_drop['MINUTE'] = active_totes_drop['MINUTE'].astype('str').str.pad(width=2, side='left', fillchar='0')\n",
    "active_totes_drop['timestamp'] = pd.to_datetime(active_totes_drop.apply(\n",
    "    lambda x: '{0}/{1}/{2} {3}:{4}'.format(x['MONTH'],x['DAY'], x['YEAR'], x['HOUR'], x['MINUTE']), axis=1))"
   ]
  },
  {
   "cell_type": "code",
   "execution_count": 95,
   "metadata": {},
   "outputs": [],
   "source": [
    "active_totes_drop = active_totes_drop.drop(['ID', 'DAY', 'MONTH', 'YEAR', 'HOUR', 'MINUTE'], axis=1)"
   ]
  },
  {
   "cell_type": "code",
   "execution_count": 96,
   "metadata": {},
   "outputs": [
    {
     "data": {
      "text/html": [
       "<div>\n",
       "<style scoped>\n",
       "    .dataframe tbody tr th:only-of-type {\n",
       "        vertical-align: middle;\n",
       "    }\n",
       "\n",
       "    .dataframe tbody tr th {\n",
       "        vertical-align: top;\n",
       "    }\n",
       "\n",
       "    .dataframe thead th {\n",
       "        text-align: right;\n",
       "    }\n",
       "</style>\n",
       "<table border=\"1\" class=\"dataframe\">\n",
       "  <thead>\n",
       "    <tr style=\"text-align: right;\">\n",
       "      <th></th>\n",
       "      <th>MODULE_ASSIGNED</th>\n",
       "      <th>TOTES</th>\n",
       "      <th>module_number</th>\n",
       "      <th>timestamp</th>\n",
       "    </tr>\n",
       "  </thead>\n",
       "  <tbody>\n",
       "    <tr>\n",
       "      <th>0</th>\n",
       "      <td>SCS01</td>\n",
       "      <td>44</td>\n",
       "      <td>01</td>\n",
       "      <td>2020-11-09 08:22:00</td>\n",
       "    </tr>\n",
       "    <tr>\n",
       "      <th>1</th>\n",
       "      <td>SCS02</td>\n",
       "      <td>33</td>\n",
       "      <td>02</td>\n",
       "      <td>2020-11-09 08:22:00</td>\n",
       "    </tr>\n",
       "    <tr>\n",
       "      <th>2</th>\n",
       "      <td>SCS03</td>\n",
       "      <td>71</td>\n",
       "      <td>03</td>\n",
       "      <td>2020-11-09 08:22:00</td>\n",
       "    </tr>\n",
       "    <tr>\n",
       "      <th>3</th>\n",
       "      <td>SCS04</td>\n",
       "      <td>53</td>\n",
       "      <td>04</td>\n",
       "      <td>2020-11-09 08:22:00</td>\n",
       "    </tr>\n",
       "    <tr>\n",
       "      <th>4</th>\n",
       "      <td>SCS05</td>\n",
       "      <td>65</td>\n",
       "      <td>05</td>\n",
       "      <td>2020-11-09 08:22:00</td>\n",
       "    </tr>\n",
       "  </tbody>\n",
       "</table>\n",
       "</div>"
      ],
      "text/plain": [
       "  MODULE_ASSIGNED  TOTES module_number           timestamp\n",
       "0           SCS01     44            01 2020-11-09 08:22:00\n",
       "1           SCS02     33            02 2020-11-09 08:22:00\n",
       "2           SCS03     71            03 2020-11-09 08:22:00\n",
       "3           SCS04     53            04 2020-11-09 08:22:00\n",
       "4           SCS05     65            05 2020-11-09 08:22:00"
      ]
     },
     "execution_count": 96,
     "metadata": {},
     "output_type": "execute_result"
    }
   ],
   "source": [
    "active_totes_drop.head()"
   ]
  },
  {
   "cell_type": "markdown",
   "metadata": {},
   "source": [
    "### Link Totes and Faults"
   ]
  },
  {
   "cell_type": "code",
   "execution_count": 97,
   "metadata": {},
   "outputs": [],
   "source": [
    "# tote lookup\n",
    "lu = pd.read_csv('../data/asset_tote_lookup.csv')\n",
    "lu = lu[['Name', 'Tote Colour']]"
   ]
  },
  {
   "cell_type": "code",
   "execution_count": 170,
   "metadata": {},
   "outputs": [],
   "source": [
    "scs_totes = pd.merge(scs_raw, lu, how='left', left_on='code', right_on='Name', indicator=True)\n",
    "# Big rules\n",
    "scs_totes.loc[scs_totes['Alert'].str.contains('PTT'), 'Tote Colour'] = 'Both'\n",
    "scs_totes.loc[(scs_totes['PLC_number'] > 34), 'Tote Colour'] = 'Blue'\n",
    "scs_totes.loc[scs_totes['PLC_number'].isin([15,16,17,23]), 'Tote Colour'] = 'Blue'"
   ]
  },
  {
   "cell_type": "code",
   "execution_count": 181,
   "metadata": {},
   "outputs": [
    {
     "data": {
      "text/plain": [
       "Blue    69536\n",
       "Grey    57770\n",
       "Both    40052\n",
       "Name: Tote Colour, dtype: int64"
      ]
     },
     "execution_count": 181,
     "metadata": {},
     "output_type": "execute_result"
    }
   ],
   "source": [
    "scs_totes['Tote Colour'].value_counts()"
   ]
  },
  {
   "cell_type": "code",
   "execution_count": 182,
   "metadata": {},
   "outputs": [],
   "source": [
    "scs_totes.to_csv('../data/scs_tote_matched.csv', index=False)"
   ]
  }
 ],
 "metadata": {
  "kernelspec": {
   "display_name": "Python 3",
   "language": "python",
   "name": "python3"
  },
  "language_info": {
   "codemirror_mode": {
    "name": "ipython",
    "version": 3
   },
   "file_extension": ".py",
   "mimetype": "text/x-python",
   "name": "python",
   "nbconvert_exporter": "python",
   "pygments_lexer": "ipython3",
   "version": "3.8.3"
  }
 },
 "nbformat": 4,
 "nbformat_minor": 4
}
