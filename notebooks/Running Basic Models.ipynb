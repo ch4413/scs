{
 "cells": [
  {
   "cell_type": "code",
   "execution_count": 1,
   "metadata": {},
   "outputs": [],
   "source": [
    "import pandas as pd\n",
    "import numpy as np\n",
    "import seaborn as sns\n",
    "import matplotlib.pyplot as plt\n",
    "%matplotlib inline\n",
    "\n",
    "import scsavailability as scs\n",
    "\n",
    "from scsavailability import features as feat, model as md, plotting as pt"
   ]
  },
  {
   "cell_type": "code",
   "execution_count": 2,
   "metadata": {},
   "outputs": [],
   "source": [
    "path = 'C:/Users/Jamie.williams/OneDrive - Newton Europe Ltd/Castle Donnington/Data/'"
   ]
  },
  {
   "cell_type": "code",
   "execution_count": 3,
   "metadata": {},
   "outputs": [],
   "source": [
    "at = pd.read_csv(path+'active_totes_20201123.csv')\n",
    "av = pd.read_csv(path+'Availability_with_Grey&Blue_1811-2511.csv')\n",
    "fa = pd.read_csv(path + 'scs_tote_matched.csv')"
   ]
  },
  {
   "cell_type": "code",
   "execution_count": 4,
   "metadata": {},
   "outputs": [
    {
     "name": "stdout",
     "output_type": "stream",
     "text": [
      "Active Totes Preprocessed\n"
     ]
    }
   ],
   "source": [
    "at = feat.pre_process_AT(at)"
   ]
  },
  {
   "cell_type": "code",
   "execution_count": 5,
   "metadata": {},
   "outputs": [
    {
     "name": "stdout",
     "output_type": "stream",
     "text": [
      "Quadrants Assigned\n",
      "Modules Assigned\n",
      "Availability data pre-processed\n"
     ]
    }
   ],
   "source": [
    "av = feat.pre_process_av(av)"
   ]
  },
  {
   "cell_type": "code",
   "execution_count": 6,
   "metadata": {},
   "outputs": [
    {
     "name": "stdout",
     "output_type": "stream",
     "text": [
      "duplicated location faults removed - max duration kept\n",
      "Faults Preprocessed\n"
     ]
    },
    {
     "name": "stderr",
     "output_type": "stream",
     "text": [
      "C:\\Users\\Jamie.williams\\Anaconda3\\lib\\site-packages\\scsavailability\\features.py:241: SettingWithCopyWarning: \n",
      "A value is trying to be set on a copy of a slice from a DataFrame.\n",
      "Try using .loc[row_indexer,col_indexer] = value instead\n",
      "\n",
      "See the caveats in the documentation: https://pandas.pydata.org/pandas-docs/stable/user_guide/indexing.html#returning-a-view-versus-a-copy\n",
      "  fa['Duration'] = pd.to_timedelta(fa['Duration'].str.slice(start=2))\n",
      "C:\\Users\\Jamie.williams\\Anaconda3\\lib\\site-packages\\scsavailability\\features.py:242: SettingWithCopyWarning: \n",
      "A value is trying to be set on a copy of a slice from a DataFrame.\n",
      "Try using .loc[row_indexer,col_indexer] = value instead\n",
      "\n",
      "See the caveats in the documentation: https://pandas.pydata.org/pandas-docs/stable/user_guide/indexing.html#returning-a-view-versus-a-copy\n",
      "  fa['Duration'] = fa['Duration'].dt.total_seconds()\n"
     ]
    }
   ],
   "source": [
    "fa = feat.preprocess_faults(fa,remove_same_location_faults = True)"
   ]
  },
  {
   "cell_type": "code",
   "execution_count": 7,
   "metadata": {},
   "outputs": [
    {
     "name": "stdout",
     "output_type": "stream",
     "text": [
      "Time shifted by 0m\n"
     ]
    }
   ],
   "source": [
    "fa_floor = feat.floor_shift_time_fa(fa)"
   ]
  },
  {
   "cell_type": "code",
   "execution_count": 42,
   "metadata": {},
   "outputs": [
    {
     "name": "stdout",
     "output_type": "stream",
     "text": [
      "Faults aggregated\n"
     ]
    }
   ],
   "source": [
    "fa_sel = feat.fault_select(fa_floor, select_level = 'Tote Colour', selection = ['Blue','Both'])\n",
    "\n",
    "fa_agg = feat.faults_aggregate(fa_sel,fault_agg_level='Tote Colour', agg_type = 'count')"
   ]
  },
  {
   "cell_type": "code",
   "execution_count": 43,
   "metadata": {},
   "outputs": [
    {
     "name": "stdout",
     "output_type": "stream",
     "text": [
      "Availability data aggregated\n"
     ]
    }
   ],
   "source": [
    "av_agg = feat.aggregate_availability(av, agg_level = 'Module')\n",
    "at_agg = feat.aggregate_totes(at, agg_level = 'Module')"
   ]
  },
  {
   "cell_type": "code",
   "execution_count": 44,
   "metadata": {},
   "outputs": [
    {
     "name": "stdout",
     "output_type": "stream",
     "text": [
      "Datasets merged\n"
     ]
    }
   ],
   "source": [
    "df = feat.merge_av_fa_at(av_agg ,at_df=at_agg, fa_df = fa_agg, target = 'Blue Tote Loss',faults=True, totes = True, agg_level = 'Module')"
   ]
  },
  {
   "cell_type": "code",
   "execution_count": 45,
   "metadata": {},
   "outputs": [
    {
     "data": {
      "text/html": [
       "<div>\n",
       "<style scoped>\n",
       "    .dataframe tbody tr th:only-of-type {\n",
       "        vertical-align: middle;\n",
       "    }\n",
       "\n",
       "    .dataframe tbody tr th {\n",
       "        vertical-align: top;\n",
       "    }\n",
       "\n",
       "    .dataframe thead th {\n",
       "        text-align: right;\n",
       "    }\n",
       "</style>\n",
       "<table border=\"1\" class=\"dataframe\">\n",
       "  <thead>\n",
       "    <tr style=\"text-align: right;\">\n",
       "      <th></th>\n",
       "      <th>timestamp</th>\n",
       "      <th>Blue Tote Loss</th>\n",
       "      <th>Blue</th>\n",
       "      <th>Both</th>\n",
       "      <th>TOTES</th>\n",
       "    </tr>\n",
       "  </thead>\n",
       "  <tbody>\n",
       "    <tr>\n",
       "      <th>0</th>\n",
       "      <td>2020-11-18 11:00:00</td>\n",
       "      <td>0.506000</td>\n",
       "      <td>67</td>\n",
       "      <td>65</td>\n",
       "      <td>28.833333</td>\n",
       "    </tr>\n",
       "    <tr>\n",
       "      <th>1</th>\n",
       "      <td>2020-11-18 11:00:00</td>\n",
       "      <td>0.151333</td>\n",
       "      <td>67</td>\n",
       "      <td>65</td>\n",
       "      <td>47.133333</td>\n",
       "    </tr>\n",
       "    <tr>\n",
       "      <th>2</th>\n",
       "      <td>2020-11-18 11:00:00</td>\n",
       "      <td>0.002000</td>\n",
       "      <td>67</td>\n",
       "      <td>65</td>\n",
       "      <td>71.300000</td>\n",
       "    </tr>\n",
       "    <tr>\n",
       "      <th>3</th>\n",
       "      <td>2020-11-18 11:00:00</td>\n",
       "      <td>0.016000</td>\n",
       "      <td>67</td>\n",
       "      <td>65</td>\n",
       "      <td>61.366667</td>\n",
       "    </tr>\n",
       "    <tr>\n",
       "      <th>4</th>\n",
       "      <td>2020-11-18 11:00:00</td>\n",
       "      <td>0.348000</td>\n",
       "      <td>67</td>\n",
       "      <td>65</td>\n",
       "      <td>31.800000</td>\n",
       "    </tr>\n",
       "  </tbody>\n",
       "</table>\n",
       "</div>"
      ],
      "text/plain": [
       "            timestamp  Blue Tote Loss  Blue  Both      TOTES\n",
       "0 2020-11-18 11:00:00        0.506000    67    65  28.833333\n",
       "1 2020-11-18 11:00:00        0.151333    67    65  47.133333\n",
       "2 2020-11-18 11:00:00        0.002000    67    65  71.300000\n",
       "3 2020-11-18 11:00:00        0.016000    67    65  61.366667\n",
       "4 2020-11-18 11:00:00        0.348000    67    65  31.800000"
      ]
     },
     "execution_count": 45,
     "metadata": {},
     "output_type": "execute_result"
    }
   ],
   "source": [
    "df.head(5)"
   ]
  },
  {
   "cell_type": "code",
   "execution_count": 21,
   "metadata": {},
   "outputs": [],
   "source": [
    "#df = df[df['Blue Tote Loss']>0.1].reset_index(drop=True)\n",
    "#df = df[df['TOTES']<60].reset_index(drop=True)"
   ]
  },
  {
   "cell_type": "code",
   "execution_count": 22,
   "metadata": {},
   "outputs": [],
   "source": [
    "X,y = md.gen_feat_var(df)"
   ]
  },
  {
   "cell_type": "code",
   "execution_count": 23,
   "metadata": {},
   "outputs": [
    {
     "name": "stdout",
     "output_type": "stream",
     "text": [
      "Feature Importance Ranking: \n",
      " \n",
      "    Importance       Feature\n",
      "0    0.835844         TOTES\n",
      "1    0.164156  Total Faults\n",
      "\n",
      "Regression Metrics: \n",
      " \n",
      "           RF Metrics\n",
      "MAE         0.091920\n",
      "MSE         0.015575\n",
      "RMSE        0.124798\n",
      "MAPE%            inf\n",
      "ACC%            -inf\n",
      "OOB         0.551308\n",
      "R2_Train    0.936348\n",
      "R2_Pred     0.547647 \n",
      "\n",
      "Feature Coefficient Ranking: \n",
      " \n",
      "    Coefficients       Feature\n",
      "0     -0.002238         TOTES\n",
      "1      0.000100  Total Faults\n",
      "\n",
      "Regression Metrics: \n",
      " \n",
      "           LM Metrics\n",
      "MAE         0.126865\n",
      "MSE         0.025098\n",
      "RMSE        0.158424\n",
      "MAPE%            inf\n",
      "ACC%            -inf\n",
      "R2_Train    0.261599\n",
      "R2_Pred     0.271041\n",
      "\n",
      "Cross Validation Scores LinearRegression(): \n",
      " \n",
      "        R2 Scores\n",
      "1       0.312390\n",
      "2       0.165977\n",
      "3       0.357489\n",
      "4       0.317741\n",
      "5       0.310359\n",
      "6       0.324914\n",
      "7       0.207047\n",
      "8       0.019562\n",
      "9       0.352519\n",
      "10      0.142018\n",
      "Mean    0.251002\n",
      "STD     0.106516\n",
      "\n",
      "Cross Validation Scores RandomForestRegressor(oob_score=True): \n",
      " \n",
      "        R2 Scores\n",
      "1       0.527940\n",
      "2       0.512491\n",
      "3       0.647958\n",
      "4       0.540969\n",
      "5       0.531603\n",
      "6       0.544165\n",
      "7       0.583380\n",
      "8       0.455792\n",
      "9       0.565669\n",
      "10      0.597334\n",
      "Mean    0.550730\n",
      "STD     0.049410\n"
     ]
    },
    {
     "data": {
      "image/png": "[encoded data removed]",
      "text/plain": [
       "<Figure size 1440x360 with 1 Axes>"
      ]
     },
     "metadata": {
      "needs_background": "light"
     },
     "output_type": "display_data"
    },
    {
     "data": {
      "image/png": "[encoded data removed]",
      "text/plain": [
       "<Figure size 1440x360 with 1 Axes>"
      ]
     },
     "metadata": {
      "needs_background": "light"
     },
     "output_type": "display_data"
    }
   ],
   "source": [
    "X_train, X_test, y_train, y_test = md.split(X,y,test_size=0.3,random_state=101)\n",
    "\n",
    "RF_mdl,predictions_RF=md.run_RF_model(X_train, X_test, y_train, y_test,num_trees=100, criterion = 'mse', max_depth=None, dtree=False)\n",
    "\n",
    "Linear_mdl,predictions_LM=md.run_LR_model(X_train, X_test, y_train, y_test)\n",
    "\n",
    "cv_R2 = md.cross_validate_r2(Linear_mdl, X, y, n_folds = 10, shuffle = True, random_state = 101)\n",
    "\n",
    "cv_R2 = md.cross_validate_r2(RF_mdl, X, y, n_folds = 10, shuffle = True, random_state = 101)"
   ]
  },
  {
   "cell_type": "code",
   "execution_count": null,
   "metadata": {},
   "outputs": [],
   "source": []
  }
 ],
 "metadata": {
  "kernelspec": {
   "display_name": "Python 3",
   "language": "python",
   "name": "python3"
  },
  "language_info": {
   "codemirror_mode": {
    "name": "ipython",
    "version": 3
   },
   "file_extension": ".py",
   "mimetype": "text/x-python",
   "name": "python",
   "nbconvert_exporter": "python",
   "pygments_lexer": "ipython3",
   "version": "3.8.3"
  }
 },
 "nbformat": 4,
 "nbformat_minor": 4
}
