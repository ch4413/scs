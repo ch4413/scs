{
 "cells": [
  {
   "cell_type": "code",
   "execution_count": 1,
   "metadata": {},
   "outputs": [
    {
     "name": "stderr",
     "output_type": "stream",
     "text": [
      "2020-12-22 11:10:12,604 - NumExpr defaulting to 8 threads.\n"
     ]
    }
   ],
   "source": [
    "import pandas as pd\n",
    "import numpy as np\n",
    "import seaborn as sns\n",
    "import matplotlib.pyplot as plt\n",
    "%matplotlib inline\n",
    "\n",
    "import scsavailability as scs\n",
    "    \n",
    "import statsmodels.api as sm\n",
    "from scipy import stats\n",
    "\n",
    "from scsavailability import features as feat, model as md, plotting as pt, score as sc\n"
   ]
  },
  {
   "cell_type": "code",
   "execution_count": 2,
   "metadata": {},
   "outputs": [],
   "source": [
    "path = 'C:/Users/Jamie.williams/OneDrive - Newton Europe Ltd/Castle Donnington/Data/'"
   ]
  },
  {
   "cell_type": "code",
   "execution_count": 3,
   "metadata": {},
   "outputs": [],
   "source": [
    "at = pd.read_csv(path+'active_totes_20201210.csv')\n",
    "av = pd.read_csv(path+'Availability_with_Grey&Blue_1811-0912.csv',names = [\"timestamp\",\"Pick Station\",\"Availability\",\"Blue Tote Loss\",\"Grey Tote Loss\"])\n",
    "#fa = pd.read_csv(path + 'scs_tote_matched.csv')\n",
    "scs_raw = pd.read_csv(path + 'Faults20_11-10_12.csv')"
   ]
  },
  {
   "cell_type": "code",
   "execution_count": 4,
   "metadata": {},
   "outputs": [
    {
     "name": "stdout",
     "output_type": "stream",
     "text": [
      "Running: Function \"load_tote_lookup\" (id=1993934070112) was called 1 times\n"
     ]
    }
   ],
   "source": [
    "fa = feat.add_code(scs_raw)\n",
    "fa, unmapped = feat.add_tote_colour(fa)"
   ]
  },
  {
   "cell_type": "code",
   "execution_count": 5,
   "metadata": {},
   "outputs": [
    {
     "name": "stdout",
     "output_type": "stream",
     "text": [
      "Running: Function \"pre_process_AT\" (id=1993934072704) was called 1 times\n"
     ]
    }
   ],
   "source": [
    "at = feat.pre_process_AT(at)"
   ]
  },
  {
   "cell_type": "code",
   "execution_count": 6,
   "metadata": {},
   "outputs": [
    {
     "name": "stdout",
     "output_type": "stream",
     "text": [
      "Running: Function \"pre_process_av\" (id=1993934071696) was called 1 times\n"
     ]
    }
   ],
   "source": [
    "av = feat.pre_process_av(av)"
   ]
  },
  {
   "cell_type": "code",
   "execution_count": 7,
   "metadata": {},
   "outputs": [
    {
     "name": "stdout",
     "output_type": "stream",
     "text": [
      "Running: Function \"preprocess_faults\" (id=1993934072848) was called 1 times\n",
      "Running: Function \"load_module_lookup\" (id=1993934073424) was called 1 times\n",
      "Running: Function \"load_ID_lookup\" (id=1993934072128) was called 1 times\n",
      "duplicated location faults removed - max duration kept\n",
      "HOTFIX: Quadrant only faults, PTT Asset Code update\n"
     ]
    }
   ],
   "source": [
    "fa = feat.preprocess_faults(fa,remove_same_location_faults = True)"
   ]
  },
  {
   "cell_type": "code",
   "execution_count": 32,
   "metadata": {},
   "outputs": [
    {
     "name": "stdout",
     "output_type": "stream",
     "text": [
      "Time shifted by 0Minutes\n"
     ]
    }
   ],
   "source": [
    "fa_floor = feat.floor_shift_time_fa(fa, shift=0)"
   ]
  },
  {
   "cell_type": "code",
   "execution_count": 33,
   "metadata": {},
   "outputs": [
    {
     "name": "stdout",
     "output_type": "stream",
     "text": [
      "Running: Function \"load_PTT_lookup\" (id=1993934071840) was called 7 times\n"
     ]
    }
   ],
   "source": [
    "fa_sel = feat.get_data_faults(fa_floor, modules=[2],PTT = 'PTT022')\n",
    "\n",
    "#fa_sel = feat.fault_select(fa_floor, fault_select_options = {'Tote Colour':['Both','Blue','Grey']})\n",
    "                                                            \n",
    "fa_agg = feat.faults_aggregate(fa_sel,fault_agg_level= 'Asset Code', agg_type = 'count')"
   ]
  },
  {
   "cell_type": "code",
   "execution_count": 10,
   "metadata": {},
   "outputs": [
    {
     "name": "stdout",
     "output_type": "stream",
     "text": [
      "Running: Function \"aggregate_availability\" (id=1993934071984) was called 1 times\n"
     ]
    }
   ],
   "source": [
    "av_sel,at_sel = feat.av_at_select(av, at, availability_select_options = None, remove_high_AT = True, AT_limit = None)\n",
    "\n",
    "av_agg = feat.aggregate_availability(av_sel, agg_level ='None')\n",
    "at_agg = feat.aggregate_totes(at_sel, agg_level = 'None')\n",
    "\n",
    "#at_agg = at_agg[at_agg['TOTES']>100]"
   ]
  },
  {
   "cell_type": "code",
   "execution_count": 11,
   "metadata": {},
   "outputs": [],
   "source": [
    "df = feat.merge_av_fa_at(av_agg ,at_df=at_agg, fa_df = fa_agg , agg_level = 'None')"
   ]
  },
  {
   "cell_type": "code",
   "execution_count": 12,
   "metadata": {},
   "outputs": [],
   "source": [
    "X,y = md.gen_feat_var(df,target = 'Blue Tote Loss', features = ['Totes'])\n",
    "y=y"
   ]
  },
  {
   "cell_type": "code",
   "execution_count": 13,
   "metadata": {},
   "outputs": [
    {
     "name": "stdout",
     "output_type": "stream",
     "text": [
      "Feature Importance Ranking: \n",
      " \n",
      "    Importance Feature\n",
      "0         1.0   TOTES\n",
      "\n",
      "Regression Metrics: \n",
      " \n",
      "           RF Metrics\n",
      "MAE         0.048249\n",
      "MSE         0.004046\n",
      "RMSE        0.063605\n",
      "MAPE%      20.930000\n",
      "ACC%       79.070000\n",
      "OOB         0.777839\n",
      "R2_Train    0.969249\n",
      "R2_Pred     0.746514 \n",
      "\n",
      "Feature Importance Ranking: \n",
      " \n",
      "    Importance Feature\n",
      "0         1.0   TOTES\n",
      "\n",
      "Regression Metrics: \n",
      " \n",
      "          XGB Metrics\n",
      "MAE        0.0516844\n",
      "MSE       0.00474864\n",
      "RMSE       0.0689104\n",
      "MAPE%          22.44\n",
      "ACC%           77.56\n",
      "OOB              N/A\n",
      "R2_Train    0.993468\n",
      "R2_Pred     0.702462 \n",
      "\n",
      "\n",
      "Number of Selected Features:1 \n",
      "\n",
      "\n",
      "Number of Selected Features:1 \n",
      "\n",
      "\n",
      "Cross Validation Scores LinearRegression(): \n",
      " \n",
      "        R2 Scores\n",
      "1       0.851649\n",
      "2       0.892310\n",
      "3       0.676716\n",
      "4       0.728296\n",
      "5       0.873359\n",
      "6       0.848394\n",
      "7       0.737555\n",
      "8       0.833925\n",
      "9       0.779378\n",
      "10      0.834168\n",
      "Mean    0.805575\n",
      "STD     0.067517\n",
      "\n",
      "Cross Validation Scores RandomForestRegressor(oob_score=True): \n",
      " \n",
      "        R2 Scores\n",
      "1       0.730827\n",
      "2       0.629326\n",
      "3       0.696808\n",
      "4       0.793144\n",
      "5       0.746858\n",
      "6       0.684142\n",
      "7       0.645230\n",
      "8       0.744177\n",
      "9       0.767765\n",
      "10      0.880204\n",
      "Mean    0.731848\n",
      "STD     0.069966\n",
      "\n",
      "Cross Validation Scores XGBRegressor(base_score=0.5, booster='gbtree', colsample_bylevel=1,\n",
      "             colsample_bynode=1, colsample_bytree=1, gamma=0, gpu_id=-1,\n",
      "             importance_type='gain', interaction_constraints='',\n",
      "             learning_rate=0.300000012, max_delta_step=0, max_depth=6,\n",
      "             min_child_weight=1, missing=nan, monotone_constraints='()',\n",
      "             n_estimators=100, n_jobs=0, num_parallel_tree=1, random_state=0,\n",
      "             reg_alpha=0, reg_lambda=1, scale_pos_weight=1, subsample=1,\n",
      "             tree_method='exact', validate_parameters=1, verbosity=None): \n",
      " \n",
      "        R2 Scores\n",
      "1       0.577217\n",
      "2       0.523638\n",
      "3       0.831486\n",
      "4       0.790935\n",
      "5       0.858713\n",
      "6       0.678616\n",
      "7       0.539131\n",
      "8       0.551209\n",
      "9       0.829544\n",
      "10      0.681195\n",
      "Mean    0.686168\n",
      "STD     0.126737\n"
     ]
    }
   ],
   "source": [
    "X_train, X_test, y_train, y_test = md.split(X,y,split_options = {'test_size': 0.3,\n",
    "                                                                 'random_state': None})\n",
    "\n",
    "RF_mdl,predictions_RF=md.run_RF_model(X_train, X_test, y_train, y_test,RF_options = {'num_trees': 100, \n",
    "                                                                                    'criterion': 'mse', \n",
    "                                                                                    'max_depth': None, \n",
    "                                                                                    'dtree': False})\n",
    "\n",
    "Linear_mdl,predictions_LM,Coeff,fit_metrics = md.run_LR_model(X_train, X_test, y_train, y_test)\n",
    "\n",
    "XGB_mdl,predictions_XGB,Importance_XGB = md.run_XGB_model(X_train, X_test, y_train, y_test, XGB_options = {'num_trees': 100,\n",
    "                                                                                                         'max_depth': None})\n",
    "\n",
    "selection_options= {'threshold': -np.inf,\n",
    "                    'max_features': None}\n",
    "\n",
    "X_sel_rf = md.select_features(X, y, RF_mdl, **selection_options)\n",
    "\n",
    "X_sel_lm = md.select_features(X, y, Linear_mdl, **selection_options)\n",
    "\n",
    "#X_sel_XGB = md.select_features(X, y, XGB_mdl, selection_options)\n",
    "\n",
    "X_train, X_test, y_train, y_test = md.split(X_sel_lm,y,split_options = {'test_size': 0.3,\n",
    "                                                                       'random_state': None})\n",
    "\n",
    "Linear_mdl,predictions_LM,Coeff,fit_metrics = md.run_LR_model(X_train, X_test, y_train, y_test)\n",
    "\n",
    "cv_R2 = md.cross_validate_r2(Linear_mdl, X, y)\n",
    "\n",
    "cv_R2 = md.cross_validate_r2(RF_mdl,X, y)\n",
    "\n",
    "cv_R2 = md.cross_validate_r2(XGB_mdl, X, y)"
   ]
  },
  {
   "cell_type": "markdown",
   "metadata": {},
   "source": [
    "### Add LM - metrics"
   ]
  },
  {
   "cell_type": "code",
   "execution_count": 14,
   "metadata": {},
   "outputs": [
    {
     "name": "stderr",
     "output_type": "stream",
     "text": [
      "C:\\Users\\Jamie.williams\\Anaconda3\\lib\\site-packages\\scipy\\stats\\_distn_infrastructure.py:1847: RuntimeWarning: invalid value encountered in greater_equal\n",
      "  cond2 = (x >= np.asarray(_b)) & cond0\n"
     ]
    },
    {
     "data": {
      "text/html": [
       "<div>\n",
       "<style scoped>\n",
       "    .dataframe tbody tr th:only-of-type {\n",
       "        vertical-align: middle;\n",
       "    }\n",
       "\n",
       "    .dataframe tbody tr th {\n",
       "        vertical-align: top;\n",
       "    }\n",
       "\n",
       "    .dataframe thead th {\n",
       "        text-align: right;\n",
       "    }\n",
       "</style>\n",
       "<table border=\"1\" class=\"dataframe\">\n",
       "  <thead>\n",
       "    <tr style=\"text-align: right;\">\n",
       "      <th></th>\n",
       "      <th>Feature</th>\n",
       "      <th>Coefficients</th>\n",
       "      <th>Standard Errors</th>\n",
       "      <th>t values</th>\n",
       "      <th>Probabilities</th>\n",
       "    </tr>\n",
       "  </thead>\n",
       "  <tbody>\n",
       "    <tr>\n",
       "      <th>0</th>\n",
       "      <td>Constant</td>\n",
       "      <td>0.7161</td>\n",
       "      <td>NaN</td>\n",
       "      <td>NaN</td>\n",
       "      <td>NaN</td>\n",
       "    </tr>\n",
       "    <tr>\n",
       "      <th>1</th>\n",
       "      <td>TOTES</td>\n",
       "      <td>-0.0107</td>\n",
       "      <td>NaN</td>\n",
       "      <td>NaN</td>\n",
       "      <td>NaN</td>\n",
       "    </tr>\n",
       "  </tbody>\n",
       "</table>\n",
       "</div>"
      ],
      "text/plain": [
       "    Feature  Coefficients  Standard Errors  t values  Probabilities\n",
       "0  Constant        0.7161              NaN       NaN            NaN\n",
       "1     TOTES       -0.0107              NaN       NaN            NaN"
      ]
     },
     "execution_count": 14,
     "metadata": {},
     "output_type": "execute_result"
    }
   ],
   "source": [
    "sc.lm_coefficients(Linear_mdl, X_test ,y_test)"
   ]
  },
  {
   "cell_type": "code",
   "execution_count": 15,
   "metadata": {},
   "outputs": [
    {
     "name": "stdout",
     "output_type": "stream",
     "text": [
      "                            OLS Regression Results                            \n",
      "==============================================================================\n",
      "Dep. Variable:         Blue Tote Loss   R-squared:                       0.817\n",
      "Model:                            OLS   Adj. R-squared:                  0.816\n",
      "Method:                 Least Squares   F-statistic:                     1467.\n",
      "Date:                Tue, 22 Dec 2020   Prob (F-statistic):          2.62e-123\n",
      "Time:                        11:11:08   Log-Likelihood:                 501.61\n",
      "No. Observations:                 331   AIC:                            -999.2\n",
      "Df Residuals:                     329   BIC:                            -991.6\n",
      "Df Model:                           1                                         \n",
      "Covariance Type:            nonrobust                                         \n",
      "==============================================================================\n",
      "                 coef    std err          t      P>|t|      [0.025      0.975]\n",
      "------------------------------------------------------------------------------\n",
      "const          0.7161      0.012     57.458      0.000       0.692       0.741\n",
      "TOTES         -0.0107      0.000    -38.306      0.000      -0.011      -0.010\n",
      "==============================================================================\n",
      "Omnibus:                       49.596   Durbin-Watson:                   2.146\n",
      "Prob(Omnibus):                  0.000   Jarque-Bera (JB):              228.585\n",
      "Skew:                           0.504   Prob(JB):                     2.31e-50\n",
      "Kurtosis:                       6.944   Cond. No.                         189.\n",
      "==============================================================================\n",
      "\n",
      "Warnings:\n",
      "[1] Standard Errors assume that the covariance matrix of the errors is correctly specified.\n"
     ]
    }
   ],
   "source": [
    "X_train = sm.add_constant(X_train)\n",
    "model = sm.OLS(y_train,X_train)\n",
    "results = model.fit()\n",
    "print(results.summary())\n",
    "\n",
    "X_new = sm.add_constant(X_test)\n",
    "#y_prediction =  results.predict(X_test)\n",
    "\n",
    "# plt.scatter(y_prediction,y_test)\n",
    "\n",
    "# from sklearn.metrics import r2_score\n",
    "# print(r2_score(y_prediction,y_test))"
   ]
  },
  {
   "cell_type": "code",
   "execution_count": 16,
   "metadata": {},
   "outputs": [
    {
     "data": {
      "text/plain": [
       "C0801STA002    335\n",
       "C0803STA112    289\n",
       "C0703STA102     92\n",
       "C1401ACH001     90\n",
       "C0503STA251     87\n",
       "C0501STA012     76\n",
       "C0503STA252     73\n",
       "C0502STA056     62\n",
       "C0801ACH001     61\n",
       "C0704STA201     47\n",
       "C0903ACH113     33\n",
       "C0903STA112     29\n",
       "C0901STA012     28\n",
       "C1003STA251     27\n",
       "C0503ACH234     24\n",
       "C1101ACH001     24\n",
       "C1303STA102     17\n",
       "C1103STA102     13\n",
       "C1403ACH113     13\n",
       "C1101STA012     12\n",
       "C1403STA112     10\n",
       "C1003STA252      9\n",
       "C1301STA002      8\n",
       "C1401ACH011      8\n",
       "C0904STA206      7\n",
       "C0603STA102      7\n",
       "C0901ACH011      7\n",
       "C1203ACH106      6\n",
       "C0701STA002      6\n",
       "C0503RDC101      6\n",
       "C1201STA012      5\n",
       "C0501STA002      5\n",
       "C0703ACH101      5\n",
       "C0801ACH011      4\n",
       "C1201ACH001      4\n",
       "C0503ACH233      4\n",
       "C0704STA206      4\n",
       "C1001STA002      4\n",
       "C1101STA002      3\n",
       "C1403STA102      3\n",
       "C0803STA102      3\n",
       "C0901RDC017      2\n",
       "C1401STA012      2\n",
       "C0701ACH011      2\n",
       "C0901STA015      2\n",
       "C1203ACH113      2\n",
       "C0503RDC254      1\n",
       "C0502ACH055      1\n",
       "C0501ACH011      1\n",
       "C1303STA112      1\n",
       "C1003ACH232      1\n",
       "C0904BCL208      1\n",
       "C1001ACH011      1\n",
       "C0502STA057      1\n",
       "C1003ACH235      1\n",
       "C1101ACH011      1\n",
       "C1001STA012      1\n",
       "C1201ACH011      1\n",
       "C0803ACH106      1\n",
       "Name: Asset Code, dtype: int64"
      ]
     },
     "execution_count": 16,
     "metadata": {},
     "output_type": "execute_result"
    }
   ],
   "source": [
    "fa_Both = fa[fa['Tote Colour']==\"Both\"]\n",
    "fa_Both = fa_Both[fa_Both['Pick Station']==False]\n",
    "fa_Both[fa_Both['Desk']!=\"Z\"]['Asset Code'].value_counts()"
   ]
  },
  {
   "cell_type": "code",
   "execution_count": 17,
   "metadata": {},
   "outputs": [
    {
     "data": {
      "text/html": [
       "<div>\n",
       "<style scoped>\n",
       "    .dataframe tbody tr th:only-of-type {\n",
       "        vertical-align: middle;\n",
       "    }\n",
       "\n",
       "    .dataframe tbody tr th {\n",
       "        vertical-align: top;\n",
       "    }\n",
       "\n",
       "    .dataframe thead th {\n",
       "        text-align: right;\n",
       "    }\n",
       "</style>\n",
       "<table border=\"1\" class=\"dataframe\">\n",
       "  <thead>\n",
       "    <tr style=\"text-align: right;\">\n",
       "      <th></th>\n",
       "      <th>Number</th>\n",
       "      <th>Alert</th>\n",
       "      <th>timestamp</th>\n",
       "      <th>PLC</th>\n",
       "      <th>Desk</th>\n",
       "      <th>Duration</th>\n",
       "      <th>Fault ID</th>\n",
       "      <th>Asset Code</th>\n",
       "      <th>Tote Colour</th>\n",
       "      <th>Loop</th>\n",
       "      <th>Suffix</th>\n",
       "      <th>Pick Station</th>\n",
       "      <th>PLCN</th>\n",
       "      <th>Quadrant</th>\n",
       "      <th>MODULE</th>\n",
       "      <th>Alert Type</th>\n",
       "    </tr>\n",
       "  </thead>\n",
       "  <tbody>\n",
       "    <tr>\n",
       "      <th>34551</th>\n",
       "      <td>82757.0</td>\n",
       "      <td>C10: C1002PTT112_047 external unit fault</td>\n",
       "      <td>2020-12-06 20:53:31</td>\n",
       "      <td>C10</td>\n",
       "      <td>P02</td>\n",
       "      <td>4.0</td>\n",
       "      <td>3611.0</td>\n",
       "      <td>C10PTT112</td>\n",
       "      <td>Both</td>\n",
       "      <td>NaN</td>\n",
       "      <td>NaN</td>\n",
       "      <td>PTT112</td>\n",
       "      <td>10.0</td>\n",
       "      <td>3.0</td>\n",
       "      <td>11</td>\n",
       "      <td>Fault</td>\n",
       "    </tr>\n",
       "    <tr>\n",
       "      <th>37072</th>\n",
       "      <td>82757.0</td>\n",
       "      <td>C10: C1002PTT112_047 external unit fault</td>\n",
       "      <td>2020-12-05 05:11:46</td>\n",
       "      <td>C10</td>\n",
       "      <td>P02</td>\n",
       "      <td>4.0</td>\n",
       "      <td>3611.0</td>\n",
       "      <td>C10PTT112</td>\n",
       "      <td>Both</td>\n",
       "      <td>NaN</td>\n",
       "      <td>NaN</td>\n",
       "      <td>PTT112</td>\n",
       "      <td>10.0</td>\n",
       "      <td>3.0</td>\n",
       "      <td>11</td>\n",
       "      <td>Fault</td>\n",
       "    </tr>\n",
       "    <tr>\n",
       "      <th>34566</th>\n",
       "      <td>82757.0</td>\n",
       "      <td>C10: C1002PTT112_047 external unit fault</td>\n",
       "      <td>2020-12-06 20:37:34</td>\n",
       "      <td>C10</td>\n",
       "      <td>P02</td>\n",
       "      <td>4.0</td>\n",
       "      <td>3611.0</td>\n",
       "      <td>C10PTT112</td>\n",
       "      <td>Both</td>\n",
       "      <td>NaN</td>\n",
       "      <td>NaN</td>\n",
       "      <td>PTT112</td>\n",
       "      <td>10.0</td>\n",
       "      <td>3.0</td>\n",
       "      <td>11</td>\n",
       "      <td>Fault</td>\n",
       "    </tr>\n",
       "    <tr>\n",
       "      <th>35407</th>\n",
       "      <td>82581.0</td>\n",
       "      <td>C10: C1002PTT111_037 external unit fault</td>\n",
       "      <td>2020-12-06 07:06:34</td>\n",
       "      <td>C10</td>\n",
       "      <td>P02</td>\n",
       "      <td>4.0</td>\n",
       "      <td>3611.0</td>\n",
       "      <td>C10PTT111</td>\n",
       "      <td>Both</td>\n",
       "      <td>NaN</td>\n",
       "      <td>NaN</td>\n",
       "      <td>PTT111</td>\n",
       "      <td>10.0</td>\n",
       "      <td>3.0</td>\n",
       "      <td>11</td>\n",
       "      <td>Fault</td>\n",
       "    </tr>\n",
       "    <tr>\n",
       "      <th>34371</th>\n",
       "      <td>82757.0</td>\n",
       "      <td>C10: C1002PTT112_047 external unit fault</td>\n",
       "      <td>2020-12-06 23:44:31</td>\n",
       "      <td>C10</td>\n",
       "      <td>P02</td>\n",
       "      <td>4.0</td>\n",
       "      <td>3611.0</td>\n",
       "      <td>C10PTT112</td>\n",
       "      <td>Both</td>\n",
       "      <td>NaN</td>\n",
       "      <td>NaN</td>\n",
       "      <td>PTT112</td>\n",
       "      <td>10.0</td>\n",
       "      <td>3.0</td>\n",
       "      <td>11</td>\n",
       "      <td>Fault</td>\n",
       "    </tr>\n",
       "    <tr>\n",
       "      <th>...</th>\n",
       "      <td>...</td>\n",
       "      <td>...</td>\n",
       "      <td>...</td>\n",
       "      <td>...</td>\n",
       "      <td>...</td>\n",
       "      <td>...</td>\n",
       "      <td>...</td>\n",
       "      <td>...</td>\n",
       "      <td>...</td>\n",
       "      <td>...</td>\n",
       "      <td>...</td>\n",
       "      <td>...</td>\n",
       "      <td>...</td>\n",
       "      <td>...</td>\n",
       "      <td>...</td>\n",
       "      <td>...</td>\n",
       "    </tr>\n",
       "    <tr>\n",
       "      <th>25129</th>\n",
       "      <td>82581.0</td>\n",
       "      <td>C10: C1002PTT111_037 external unit fault</td>\n",
       "      <td>2020-11-27 02:04:10</td>\n",
       "      <td>C10</td>\n",
       "      <td>P02</td>\n",
       "      <td>201.0</td>\n",
       "      <td>3611.0</td>\n",
       "      <td>C10PTT111</td>\n",
       "      <td>Both</td>\n",
       "      <td>NaN</td>\n",
       "      <td>NaN</td>\n",
       "      <td>PTT111</td>\n",
       "      <td>10.0</td>\n",
       "      <td>3.0</td>\n",
       "      <td>11</td>\n",
       "      <td>Fault</td>\n",
       "    </tr>\n",
       "    <tr>\n",
       "      <th>33087</th>\n",
       "      <td>82757.0</td>\n",
       "      <td>C10: C1002PTT112_047 external unit fault</td>\n",
       "      <td>2020-12-01 20:58:35</td>\n",
       "      <td>C10</td>\n",
       "      <td>P02</td>\n",
       "      <td>244.0</td>\n",
       "      <td>3611.0</td>\n",
       "      <td>C10PTT112</td>\n",
       "      <td>Both</td>\n",
       "      <td>NaN</td>\n",
       "      <td>NaN</td>\n",
       "      <td>PTT112</td>\n",
       "      <td>10.0</td>\n",
       "      <td>3.0</td>\n",
       "      <td>11</td>\n",
       "      <td>Fault</td>\n",
       "    </tr>\n",
       "    <tr>\n",
       "      <th>35062</th>\n",
       "      <td>82581.0</td>\n",
       "      <td>C10: C1002PTT111_037 external unit fault</td>\n",
       "      <td>2020-12-06 13:16:50</td>\n",
       "      <td>C10</td>\n",
       "      <td>P02</td>\n",
       "      <td>280.0</td>\n",
       "      <td>3611.0</td>\n",
       "      <td>C10PTT111</td>\n",
       "      <td>Both</td>\n",
       "      <td>NaN</td>\n",
       "      <td>NaN</td>\n",
       "      <td>PTT111</td>\n",
       "      <td>10.0</td>\n",
       "      <td>3.0</td>\n",
       "      <td>11</td>\n",
       "      <td>Fault</td>\n",
       "    </tr>\n",
       "    <tr>\n",
       "      <th>39493</th>\n",
       "      <td>82757.0</td>\n",
       "      <td>C10: C1002PTT112_047 external unit fault</td>\n",
       "      <td>2020-12-09 10:15:37</td>\n",
       "      <td>C10</td>\n",
       "      <td>P02</td>\n",
       "      <td>288.0</td>\n",
       "      <td>3611.0</td>\n",
       "      <td>C10PTT112</td>\n",
       "      <td>Both</td>\n",
       "      <td>NaN</td>\n",
       "      <td>NaN</td>\n",
       "      <td>PTT112</td>\n",
       "      <td>10.0</td>\n",
       "      <td>3.0</td>\n",
       "      <td>11</td>\n",
       "      <td>Fault</td>\n",
       "    </tr>\n",
       "    <tr>\n",
       "      <th>29485</th>\n",
       "      <td>82581.0</td>\n",
       "      <td>C10: C1002PTT111_037 external unit fault</td>\n",
       "      <td>2020-11-29 06:27:01</td>\n",
       "      <td>C10</td>\n",
       "      <td>P02</td>\n",
       "      <td>561.0</td>\n",
       "      <td>3611.0</td>\n",
       "      <td>C10PTT111</td>\n",
       "      <td>Both</td>\n",
       "      <td>NaN</td>\n",
       "      <td>NaN</td>\n",
       "      <td>PTT111</td>\n",
       "      <td>10.0</td>\n",
       "      <td>3.0</td>\n",
       "      <td>11</td>\n",
       "      <td>Fault</td>\n",
       "    </tr>\n",
       "  </tbody>\n",
       "</table>\n",
       "<p>887 rows × 16 columns</p>\n",
       "</div>"
      ],
      "text/plain": [
       "        Number                                     Alert           timestamp  \\\n",
       "34551  82757.0  C10: C1002PTT112_047 external unit fault 2020-12-06 20:53:31   \n",
       "37072  82757.0  C10: C1002PTT112_047 external unit fault 2020-12-05 05:11:46   \n",
       "34566  82757.0  C10: C1002PTT112_047 external unit fault 2020-12-06 20:37:34   \n",
       "35407  82581.0  C10: C1002PTT111_037 external unit fault 2020-12-06 07:06:34   \n",
       "34371  82757.0  C10: C1002PTT112_047 external unit fault 2020-12-06 23:44:31   \n",
       "...        ...                                       ...                 ...   \n",
       "25129  82581.0  C10: C1002PTT111_037 external unit fault 2020-11-27 02:04:10   \n",
       "33087  82757.0  C10: C1002PTT112_047 external unit fault 2020-12-01 20:58:35   \n",
       "35062  82581.0  C10: C1002PTT111_037 external unit fault 2020-12-06 13:16:50   \n",
       "39493  82757.0  C10: C1002PTT112_047 external unit fault 2020-12-09 10:15:37   \n",
       "29485  82581.0  C10: C1002PTT111_037 external unit fault 2020-11-29 06:27:01   \n",
       "\n",
       "       PLC Desk  Duration  Fault ID Asset Code Tote Colour Loop Suffix  \\\n",
       "34551  C10  P02       4.0    3611.0  C10PTT112        Both  NaN    NaN   \n",
       "37072  C10  P02       4.0    3611.0  C10PTT112        Both  NaN    NaN   \n",
       "34566  C10  P02       4.0    3611.0  C10PTT112        Both  NaN    NaN   \n",
       "35407  C10  P02       4.0    3611.0  C10PTT111        Both  NaN    NaN   \n",
       "34371  C10  P02       4.0    3611.0  C10PTT112        Both  NaN    NaN   \n",
       "...    ...  ...       ...       ...        ...         ...  ...    ...   \n",
       "25129  C10  P02     201.0    3611.0  C10PTT111        Both  NaN    NaN   \n",
       "33087  C10  P02     244.0    3611.0  C10PTT112        Both  NaN    NaN   \n",
       "35062  C10  P02     280.0    3611.0  C10PTT111        Both  NaN    NaN   \n",
       "39493  C10  P02     288.0    3611.0  C10PTT112        Both  NaN    NaN   \n",
       "29485  C10  P02     561.0    3611.0  C10PTT111        Both  NaN    NaN   \n",
       "\n",
       "      Pick Station  PLCN  Quadrant MODULE Alert Type  \n",
       "34551       PTT112  10.0       3.0     11      Fault  \n",
       "37072       PTT112  10.0       3.0     11      Fault  \n",
       "34566       PTT112  10.0       3.0     11      Fault  \n",
       "35407       PTT111  10.0       3.0     11      Fault  \n",
       "34371       PTT112  10.0       3.0     11      Fault  \n",
       "...            ...   ...       ...    ...        ...  \n",
       "25129       PTT111  10.0       3.0     11      Fault  \n",
       "33087       PTT112  10.0       3.0     11      Fault  \n",
       "35062       PTT111  10.0       3.0     11      Fault  \n",
       "39493       PTT112  10.0       3.0     11      Fault  \n",
       "29485       PTT111  10.0       3.0     11      Fault  \n",
       "\n",
       "[887 rows x 16 columns]"
      ]
     },
     "execution_count": 17,
     "metadata": {},
     "output_type": "execute_result"
    }
   ],
   "source": [
    "faPT = fa[fa['Pick Station']!=False]\n",
    "faPT[faPT['PLC']=='C10']"
   ]
  },
  {
   "cell_type": "code",
   "execution_count": 34,
   "metadata": {},
   "outputs": [
    {
     "data": {
      "text/plain": [
       "C06PTT022      579\n",
       "C0602STA049     48\n",
       "C0602RDC084      1\n",
       "C0602ACL045      1\n",
       "C0602RDC086      1\n",
       "C0602RDC050      1\n",
       "Name: Asset Code, dtype: int64"
      ]
     },
     "execution_count": 34,
     "metadata": {},
     "output_type": "execute_result"
    }
   ],
   "source": [
    "fa_sel[fa_sel['Pick Station']!=False]['Asset Code'].value_counts()"
   ]
  },
  {
   "cell_type": "code",
   "execution_count": null,
   "metadata": {},
   "outputs": [],
   "source": []
  }
 ],
 "metadata": {
  "kernelspec": {
   "display_name": "Python 3",
   "language": "python",
   "name": "python3"
  },
  "language_info": {
   "codemirror_mode": {
    "name": "ipython",
    "version": 3
   },
   "file_extension": ".py",
   "mimetype": "text/x-python",
   "name": "python",
   "nbconvert_exporter": "python",
   "pygments_lexer": "ipython3",
   "version": "3.8.3"
  }
 },
 "nbformat": 4,
 "nbformat_minor": 4
}
