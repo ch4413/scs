{
 "cells": [
  {
   "cell_type": "code",
   "execution_count": 1,
   "metadata": {},
   "outputs": [
    {
     "name": "stdout",
     "output_type": "stream",
     "text": [
      "Running: Function \"pre_process_AT\" (id=2538689606848) was called 1 times\n",
      "Running: Function \"pre_process_av\" (id=2538689609440) was called 1 times\n",
      "Running: Function \"preprocess_faults\" (id=2538689608000) was called 1 times\n",
      "Running: Function \"load_tote_lookup\" (id=2538689608864) was called 1 times\n",
      "Running: Function \"load_module_lookup\" (id=2538686700560) was called 1 times\n",
      "Running: Function \"load_ID_lookup\" (id=2538689609584) was called 1 times\n",
      "Running: Function \"run_single_model\" (id=2538691400608) was called 1 times\n",
      "Running: Function \"floor_shift_time_fa\" (id=2538689608144) was called 1 times\n",
      "Running: Function \"create_PTT_df\" (id=2538689906720) was called 1 times\n",
      "Running: Function \"fault_select\" (id=2538689904704) was called 1 times\n",
      "Running: Function \"load_PTT_lookup\" (id=2538689609296) was called 1 times\n",
      "Running: Function \"faults_aggregate\" (id=2538689904992) was called 1 times\n",
      "Running: Function \"weight_hours\" (id=2538689906144) was called 1 times\n",
      "Running: Function \"av_at_select\" (id=2538689905280) was called 1 times\n",
      "Running: Function \"aggregate_availability\" (id=2538689905568) was called 1 times\n",
      "Running: Function \"aggregate_totes\" (id=2538689905856) was called 1 times\n",
      "Running: Function \"merge_av_fa_at\" (id=2538689906432) was called 1 times\n",
      "Running: Function \"fault_select\" (id=2538689904704) was called 2 times\n",
      "Running: Function \"load_PTT_lookup\" (id=2538689609296) was called 2 times\n",
      "Running: Function \"faults_aggregate\" (id=2538689904992) was called 2 times\n",
      "Running: Function \"weight_hours\" (id=2538689906144) was called 2 times\n",
      "Running: Function \"av_at_select\" (id=2538689905280) was called 2 times\n",
      "Running: Function \"aggregate_availability\" (id=2538689905568) was called 2 times\n",
      "Running: Function \"aggregate_totes\" (id=2538689905856) was called 2 times\n",
      "Running: Function \"merge_av_fa_at\" (id=2538689906432) was called 2 times\n",
      "Running: Function \"fault_select\" (id=2538689904704) was called 3 times\n",
      "Running: Function \"load_PTT_lookup\" (id=2538689609296) was called 3 times\n",
      "Running: Function \"faults_aggregate\" (id=2538689904992) was called 3 times\n",
      "Running: Function \"weight_hours\" (id=2538689906144) was called 3 times\n",
      "Running: Function \"av_at_select\" (id=2538689905280) was called 3 times\n",
      "Running: Function \"aggregate_availability\" (id=2538689905568) was called 3 times\n",
      "Running: Function \"aggregate_totes\" (id=2538689905856) was called 3 times\n",
      "Running: Function \"merge_av_fa_at\" (id=2538689906432) was called 3 times\n",
      "Running: Function \"fault_select\" (id=2538689904704) was called 4 times\n",
      "Running: Function \"load_PTT_lookup\" (id=2538689609296) was called 4 times\n",
      "Running: Function \"faults_aggregate\" (id=2538689904992) was called 4 times\n",
      "Running: Function \"weight_hours\" (id=2538689906144) was called 4 times\n",
      "Running: Function \"av_at_select\" (id=2538689905280) was called 4 times\n",
      "Running: Function \"aggregate_availability\" (id=2538689905568) was called 4 times\n",
      "Running: Function \"aggregate_totes\" (id=2538689905856) was called 4 times\n",
      "Running: Function \"merge_av_fa_at\" (id=2538689906432) was called 4 times\n",
      "Running: Function \"fault_select\" (id=2538689904704) was called 5 times\n",
      "Running: Function \"load_PTT_lookup\" (id=2538689609296) was called 5 times\n",
      "Running: Function \"faults_aggregate\" (id=2538689904992) was called 5 times\n",
      "Running: Function \"weight_hours\" (id=2538689906144) was called 5 times\n",
      "Running: Function \"av_at_select\" (id=2538689905280) was called 5 times\n",
      "Running: Function \"aggregate_availability\" (id=2538689905568) was called 5 times\n",
      "Running: Function \"aggregate_totes\" (id=2538689905856) was called 5 times\n",
      "Running: Function \"merge_av_fa_at\" (id=2538689906432) was called 5 times\n",
      "Running: Function \"fault_select\" (id=2538689904704) was called 6 times\n",
      "Running: Function \"load_PTT_lookup\" (id=2538689609296) was called 6 times\n",
      "Running: Function \"faults_aggregate\" (id=2538689904992) was called 6 times\n",
      "Running: Function \"weight_hours\" (id=2538689906144) was called 6 times\n",
      "Running: Function \"av_at_select\" (id=2538689905280) was called 6 times\n",
      "Running: Function \"aggregate_availability\" (id=2538689905568) was called 6 times\n",
      "Running: Function \"aggregate_totes\" (id=2538689905856) was called 6 times\n",
      "Running: Function \"merge_av_fa_at\" (id=2538689906432) was called 6 times\n",
      "Running: Function \"fault_select\" (id=2538689904704) was called 7 times\n",
      "Running: Function \"load_PTT_lookup\" (id=2538689609296) was called 7 times\n",
      "Running: Function \"faults_aggregate\" (id=2538689904992) was called 7 times\n",
      "Running: Function \"weight_hours\" (id=2538689906144) was called 7 times\n",
      "Running: Function \"av_at_select\" (id=2538689905280) was called 7 times\n",
      "Running: Function \"aggregate_availability\" (id=2538689905568) was called 7 times\n",
      "Running: Function \"aggregate_totes\" (id=2538689905856) was called 7 times\n",
      "Running: Function \"merge_av_fa_at\" (id=2538689906432) was called 7 times\n",
      "Running: Function \"fault_select\" (id=2538689904704) was called 8 times\n",
      "Running: Function \"load_PTT_lookup\" (id=2538689609296) was called 8 times\n",
      "Running: Function \"faults_aggregate\" (id=2538689904992) was called 8 times\n",
      "Running: Function \"weight_hours\" (id=2538689906144) was called 8 times\n",
      "Running: Function \"av_at_select\" (id=2538689905280) was called 8 times\n",
      "Running: Function \"aggregate_availability\" (id=2538689905568) was called 8 times\n",
      "Running: Function \"aggregate_totes\" (id=2538689905856) was called 8 times\n",
      "Running: Function \"merge_av_fa_at\" (id=2538689906432) was called 8 times\n",
      "Running: Function \"fault_select\" (id=2538689904704) was called 9 times\n",
      "Running: Function \"load_PTT_lookup\" (id=2538689609296) was called 9 times\n",
      "Running: Function \"faults_aggregate\" (id=2538689904992) was called 9 times\n",
      "Running: Function \"weight_hours\" (id=2538689906144) was called 9 times\n",
      "Running: Function \"av_at_select\" (id=2538689905280) was called 9 times\n",
      "Running: Function \"aggregate_availability\" (id=2538689905568) was called 9 times\n",
      "Running: Function \"aggregate_totes\" (id=2538689905856) was called 9 times\n",
      "Running: Function \"merge_av_fa_at\" (id=2538689906432) was called 9 times\n",
      "Running: Function \"fault_select\" (id=2538689904704) was called 10 times\n",
      "Running: Function \"load_PTT_lookup\" (id=2538689609296) was called 10 times\n",
      "Running: Function \"faults_aggregate\" (id=2538689904992) was called 10 times\n",
      "Running: Function \"weight_hours\" (id=2538689906144) was called 10 times\n",
      "Running: Function \"av_at_select\" (id=2538689905280) was called 10 times\n",
      "Running: Function \"aggregate_availability\" (id=2538689905568) was called 10 times\n",
      "Running: Function \"aggregate_totes\" (id=2538689905856) was called 10 times\n",
      "Running: Function \"merge_av_fa_at\" (id=2538689906432) was called 10 times\n",
      "Running: Function \"fault_select\" (id=2538689904704) was called 11 times\n",
      "Running: Function \"load_PTT_lookup\" (id=2538689609296) was called 11 times\n",
      "Running: Function \"faults_aggregate\" (id=2538689904992) was called 11 times\n",
      "Running: Function \"weight_hours\" (id=2538689906144) was called 11 times\n",
      "Running: Function \"av_at_select\" (id=2538689905280) was called 11 times\n",
      "Running: Function \"aggregate_availability\" (id=2538689905568) was called 11 times\n",
      "Running: Function \"aggregate_totes\" (id=2538689905856) was called 11 times\n",
      "Running: Function \"merge_av_fa_at\" (id=2538689906432) was called 11 times\n",
      "Running: Function \"fault_select\" (id=2538689904704) was called 12 times\n",
      "Running: Function \"load_PTT_lookup\" (id=2538689609296) was called 12 times\n",
      "Running: Function \"faults_aggregate\" (id=2538689904992) was called 12 times\n",
      "Running: Function \"weight_hours\" (id=2538689906144) was called 12 times\n",
      "Running: Function \"av_at_select\" (id=2538689905280) was called 12 times\n",
      "Running: Function \"aggregate_availability\" (id=2538689905568) was called 12 times\n",
      "Running: Function \"aggregate_totes\" (id=2538689905856) was called 12 times\n",
      "Running: Function \"merge_av_fa_at\" (id=2538689906432) was called 12 times\n",
      "Running: Function \"fault_select\" (id=2538689904704) was called 13 times\n",
      "Running: Function \"load_PTT_lookup\" (id=2538689609296) was called 13 times\n",
      "Running: Function \"faults_aggregate\" (id=2538689904992) was called 13 times\n",
      "Running: Function \"weight_hours\" (id=2538689906144) was called 13 times\n",
      "Running: Function \"av_at_select\" (id=2538689905280) was called 13 times\n",
      "Running: Function \"aggregate_availability\" (id=2538689905568) was called 13 times\n",
      "Running: Function \"aggregate_totes\" (id=2538689905856) was called 13 times\n",
      "Running: Function \"merge_av_fa_at\" (id=2538689906432) was called 13 times\n",
      "Running: Function \"fault_select\" (id=2538689904704) was called 14 times\n",
      "Running: Function \"load_PTT_lookup\" (id=2538689609296) was called 14 times\n"
     ]
    },
    {
     "name": "stdout",
     "output_type": "stream",
     "text": [
      "Running: Function \"faults_aggregate\" (id=2538689904992) was called 14 times\n",
      "Running: Function \"weight_hours\" (id=2538689906144) was called 14 times\n",
      "Running: Function \"av_at_select\" (id=2538689905280) was called 14 times\n",
      "Running: Function \"aggregate_availability\" (id=2538689905568) was called 14 times\n",
      "Running: Function \"aggregate_totes\" (id=2538689905856) was called 14 times\n",
      "Running: Function \"merge_av_fa_at\" (id=2538689906432) was called 14 times\n",
      "Running: Function \"fault_select\" (id=2538689904704) was called 15 times\n",
      "Running: Function \"load_PTT_lookup\" (id=2538689609296) was called 15 times\n",
      "Running: Function \"faults_aggregate\" (id=2538689904992) was called 15 times\n",
      "Running: Function \"weight_hours\" (id=2538689906144) was called 15 times\n",
      "Running: Function \"av_at_select\" (id=2538689905280) was called 15 times\n",
      "Running: Function \"aggregate_availability\" (id=2538689905568) was called 15 times\n",
      "Running: Function \"aggregate_totes\" (id=2538689905856) was called 15 times\n",
      "Running: Function \"merge_av_fa_at\" (id=2538689906432) was called 15 times\n",
      "Running: Function \"fault_select\" (id=2538689904704) was called 16 times\n",
      "Running: Function \"load_PTT_lookup\" (id=2538689609296) was called 16 times\n",
      "Running: Function \"faults_aggregate\" (id=2538689904992) was called 16 times\n",
      "Running: Function \"weight_hours\" (id=2538689906144) was called 16 times\n",
      "Running: Function \"av_at_select\" (id=2538689905280) was called 16 times\n",
      "Running: Function \"aggregate_availability\" (id=2538689905568) was called 16 times\n",
      "Running: Function \"aggregate_totes\" (id=2538689905856) was called 16 times\n",
      "Running: Function \"merge_av_fa_at\" (id=2538689906432) was called 16 times\n",
      "Running: Function \"fault_select\" (id=2538689904704) was called 17 times\n",
      "Running: Function \"load_PTT_lookup\" (id=2538689609296) was called 17 times\n",
      "Running: Function \"faults_aggregate\" (id=2538689904992) was called 17 times\n",
      "Running: Function \"weight_hours\" (id=2538689906144) was called 17 times\n",
      "Running: Function \"av_at_select\" (id=2538689905280) was called 17 times\n",
      "Running: Function \"aggregate_availability\" (id=2538689905568) was called 17 times\n",
      "Running: Function \"aggregate_totes\" (id=2538689905856) was called 17 times\n",
      "Running: Function \"merge_av_fa_at\" (id=2538689906432) was called 17 times\n",
      "Running: Function \"fault_select\" (id=2538689904704) was called 18 times\n",
      "Running: Function \"load_PTT_lookup\" (id=2538689609296) was called 18 times\n",
      "Running: Function \"faults_aggregate\" (id=2538689904992) was called 18 times\n",
      "Running: Function \"weight_hours\" (id=2538689906144) was called 18 times\n",
      "Running: Function \"av_at_select\" (id=2538689905280) was called 18 times\n",
      "Running: Function \"aggregate_availability\" (id=2538689905568) was called 18 times\n",
      "Running: Function \"aggregate_totes\" (id=2538689905856) was called 18 times\n",
      "Running: Function \"merge_av_fa_at\" (id=2538689906432) was called 18 times\n",
      "Running: Function \"fault_select\" (id=2538689904704) was called 19 times\n",
      "Running: Function \"load_PTT_lookup\" (id=2538689609296) was called 19 times\n",
      "Running: Function \"faults_aggregate\" (id=2538689904992) was called 19 times\n",
      "Running: Function \"weight_hours\" (id=2538689906144) was called 19 times\n",
      "Running: Function \"av_at_select\" (id=2538689905280) was called 19 times\n",
      "Running: Function \"aggregate_availability\" (id=2538689905568) was called 19 times\n",
      "Running: Function \"aggregate_totes\" (id=2538689905856) was called 19 times\n",
      "Running: Function \"merge_av_fa_at\" (id=2538689906432) was called 19 times\n",
      "Running: Function \"fault_select\" (id=2538689904704) was called 20 times\n",
      "Running: Function \"load_PTT_lookup\" (id=2538689609296) was called 20 times\n",
      "Running: Function \"faults_aggregate\" (id=2538689904992) was called 20 times\n",
      "Running: Function \"weight_hours\" (id=2538689906144) was called 20 times\n",
      "Running: Function \"av_at_select\" (id=2538689905280) was called 20 times\n",
      "Running: Function \"aggregate_availability\" (id=2538689905568) was called 20 times\n",
      "Running: Function \"aggregate_totes\" (id=2538689905856) was called 20 times\n",
      "Running: Function \"merge_av_fa_at\" (id=2538689906432) was called 20 times\n",
      "Running: Function \"fault_select\" (id=2538689904704) was called 21 times\n",
      "Running: Function \"load_PTT_lookup\" (id=2538689609296) was called 21 times\n",
      "Running: Function \"faults_aggregate\" (id=2538689904992) was called 21 times\n",
      "Running: Function \"weight_hours\" (id=2538689906144) was called 21 times\n",
      "Running: Function \"av_at_select\" (id=2538689905280) was called 21 times\n",
      "Running: Function \"aggregate_availability\" (id=2538689905568) was called 21 times\n",
      "Running: Function \"aggregate_totes\" (id=2538689905856) was called 21 times\n",
      "Running: Function \"merge_av_fa_at\" (id=2538689906432) was called 21 times\n",
      "Running: Function \"fault_select\" (id=2538689904704) was called 22 times\n",
      "Running: Function \"load_PTT_lookup\" (id=2538689609296) was called 22 times\n",
      "Running: Function \"faults_aggregate\" (id=2538689904992) was called 22 times\n",
      "Running: Function \"weight_hours\" (id=2538689906144) was called 22 times\n",
      "Running: Function \"av_at_select\" (id=2538689905280) was called 22 times\n",
      "Running: Function \"aggregate_availability\" (id=2538689905568) was called 22 times\n",
      "Running: Function \"aggregate_totes\" (id=2538689905856) was called 22 times\n",
      "Running: Function \"merge_av_fa_at\" (id=2538689906432) was called 22 times\n",
      "Running: Function \"fault_select\" (id=2538689904704) was called 23 times\n",
      "Running: Function \"load_PTT_lookup\" (id=2538689609296) was called 23 times\n",
      "Running: Function \"faults_aggregate\" (id=2538689904992) was called 23 times\n",
      "Running: Function \"weight_hours\" (id=2538689906144) was called 23 times\n",
      "Running: Function \"av_at_select\" (id=2538689905280) was called 23 times\n",
      "Running: Function \"aggregate_availability\" (id=2538689905568) was called 23 times\n",
      "Running: Function \"aggregate_totes\" (id=2538689905856) was called 23 times\n",
      "Running: Function \"merge_av_fa_at\" (id=2538689906432) was called 23 times\n",
      "Running: Function \"fault_select\" (id=2538689904704) was called 24 times\n",
      "Running: Function \"load_PTT_lookup\" (id=2538689609296) was called 24 times\n",
      "Running: Function \"faults_aggregate\" (id=2538689904992) was called 24 times\n",
      "Running: Function \"weight_hours\" (id=2538689906144) was called 24 times\n",
      "Running: Function \"av_at_select\" (id=2538689905280) was called 24 times\n",
      "Running: Function \"aggregate_availability\" (id=2538689905568) was called 24 times\n",
      "Running: Function \"aggregate_totes\" (id=2538689905856) was called 24 times\n",
      "Running: Function \"merge_av_fa_at\" (id=2538689906432) was called 24 times\n",
      "Running: Function \"fault_select\" (id=2538689904704) was called 25 times\n",
      "Running: Function \"load_PTT_lookup\" (id=2538689609296) was called 25 times\n",
      "Running: Function \"faults_aggregate\" (id=2538689904992) was called 25 times\n",
      "Running: Function \"weight_hours\" (id=2538689906144) was called 25 times\n",
      "Running: Function \"av_at_select\" (id=2538689905280) was called 25 times\n",
      "Running: Function \"aggregate_availability\" (id=2538689905568) was called 25 times\n",
      "Running: Function \"aggregate_totes\" (id=2538689905856) was called 25 times\n",
      "Running: Function \"merge_av_fa_at\" (id=2538689906432) was called 25 times\n",
      "Running: Function \"fault_select\" (id=2538689904704) was called 26 times\n",
      "Running: Function \"load_PTT_lookup\" (id=2538689609296) was called 26 times\n",
      "Running: Function \"faults_aggregate\" (id=2538689904992) was called 26 times\n",
      "Running: Function \"weight_hours\" (id=2538689906144) was called 26 times\n",
      "Running: Function \"av_at_select\" (id=2538689905280) was called 26 times\n",
      "Running: Function \"aggregate_availability\" (id=2538689905568) was called 26 times\n",
      "Running: Function \"aggregate_totes\" (id=2538689905856) was called 26 times\n",
      "Running: Function \"merge_av_fa_at\" (id=2538689906432) was called 26 times\n",
      "Running: Function \"fault_select\" (id=2538689904704) was called 27 times\n",
      "Running: Function \"load_PTT_lookup\" (id=2538689609296) was called 27 times\n",
      "Running: Function \"faults_aggregate\" (id=2538689904992) was called 27 times\n",
      "Running: Function \"weight_hours\" (id=2538689906144) was called 27 times\n",
      "Running: Function \"av_at_select\" (id=2538689905280) was called 27 times\n",
      "Running: Function \"aggregate_availability\" (id=2538689905568) was called 27 times\n",
      "Running: Function \"aggregate_totes\" (id=2538689905856) was called 27 times\n",
      "Running: Function \"merge_av_fa_at\" (id=2538689906432) was called 27 times\n"
     ]
    },
    {
     "name": "stdout",
     "output_type": "stream",
     "text": [
      "Running: Function \"fault_select\" (id=2538689904704) was called 28 times\n",
      "Running: Function \"load_PTT_lookup\" (id=2538689609296) was called 28 times\n",
      "Running: Function \"faults_aggregate\" (id=2538689904992) was called 28 times\n",
      "Running: Function \"weight_hours\" (id=2538689906144) was called 28 times\n",
      "Running: Function \"av_at_select\" (id=2538689905280) was called 28 times\n",
      "Running: Function \"aggregate_availability\" (id=2538689905568) was called 28 times\n",
      "Running: Function \"aggregate_totes\" (id=2538689905856) was called 28 times\n",
      "Running: Function \"merge_av_fa_at\" (id=2538689906432) was called 28 times\n",
      "Running: Function \"fault_select\" (id=2538689904704) was called 29 times\n",
      "Running: Function \"load_PTT_lookup\" (id=2538689609296) was called 29 times\n",
      "Running: Function \"faults_aggregate\" (id=2538689904992) was called 29 times\n",
      "Running: Function \"weight_hours\" (id=2538689906144) was called 29 times\n",
      "Running: Function \"av_at_select\" (id=2538689905280) was called 29 times\n",
      "Running: Function \"aggregate_availability\" (id=2538689905568) was called 29 times\n",
      "Running: Function \"aggregate_totes\" (id=2538689905856) was called 29 times\n",
      "Running: Function \"merge_av_fa_at\" (id=2538689906432) was called 29 times\n",
      "Running: Function \"fault_select\" (id=2538689904704) was called 30 times\n",
      "Running: Function \"load_PTT_lookup\" (id=2538689609296) was called 30 times\n",
      "Running: Function \"faults_aggregate\" (id=2538689904992) was called 30 times\n",
      "Running: Function \"weight_hours\" (id=2538689906144) was called 30 times\n",
      "Running: Function \"av_at_select\" (id=2538689905280) was called 30 times\n",
      "Running: Function \"aggregate_availability\" (id=2538689905568) was called 30 times\n",
      "Running: Function \"aggregate_totes\" (id=2538689905856) was called 30 times\n",
      "Running: Function \"merge_av_fa_at\" (id=2538689906432) was called 30 times\n",
      "Running: Function \"fault_select\" (id=2538689904704) was called 31 times\n",
      "Running: Function \"load_PTT_lookup\" (id=2538689609296) was called 31 times\n",
      "Running: Function \"faults_aggregate\" (id=2538689904992) was called 31 times\n",
      "Running: Function \"weight_hours\" (id=2538689906144) was called 31 times\n",
      "Running: Function \"av_at_select\" (id=2538689905280) was called 31 times\n",
      "Running: Function \"aggregate_availability\" (id=2538689905568) was called 31 times\n",
      "Running: Function \"aggregate_totes\" (id=2538689905856) was called 31 times\n",
      "Running: Function \"merge_av_fa_at\" (id=2538689906432) was called 31 times\n",
      "Running: Function \"fault_select\" (id=2538689904704) was called 32 times\n",
      "Running: Function \"load_PTT_lookup\" (id=2538689609296) was called 32 times\n",
      "Running: Function \"faults_aggregate\" (id=2538689904992) was called 32 times\n",
      "Running: Function \"weight_hours\" (id=2538689906144) was called 32 times\n",
      "Running: Function \"av_at_select\" (id=2538689905280) was called 32 times\n",
      "Running: Function \"aggregate_availability\" (id=2538689905568) was called 32 times\n",
      "Running: Function \"aggregate_totes\" (id=2538689905856) was called 32 times\n",
      "Running: Function \"merge_av_fa_at\" (id=2538689906432) was called 32 times\n",
      "Running: Function \"fault_select\" (id=2538689904704) was called 33 times\n",
      "Running: Function \"load_PTT_lookup\" (id=2538689609296) was called 33 times\n",
      "Running: Function \"faults_aggregate\" (id=2538689904992) was called 33 times\n",
      "Running: Function \"weight_hours\" (id=2538689906144) was called 33 times\n",
      "Running: Function \"av_at_select\" (id=2538689905280) was called 33 times\n",
      "Running: Function \"aggregate_availability\" (id=2538689905568) was called 33 times\n",
      "Running: Function \"aggregate_totes\" (id=2538689905856) was called 33 times\n",
      "Running: Function \"merge_av_fa_at\" (id=2538689906432) was called 33 times\n",
      "Running: Function \"fault_select\" (id=2538689904704) was called 34 times\n",
      "Running: Function \"load_PTT_lookup\" (id=2538689609296) was called 34 times\n",
      "Running: Function \"faults_aggregate\" (id=2538689904992) was called 34 times\n",
      "Running: Function \"weight_hours\" (id=2538689906144) was called 34 times\n",
      "Running: Function \"av_at_select\" (id=2538689905280) was called 34 times\n",
      "Running: Function \"aggregate_availability\" (id=2538689905568) was called 34 times\n",
      "Running: Function \"aggregate_totes\" (id=2538689905856) was called 34 times\n",
      "Running: Function \"merge_av_fa_at\" (id=2538689906432) was called 34 times\n",
      "Running: Function \"fault_select\" (id=2538689904704) was called 35 times\n",
      "Running: Function \"load_PTT_lookup\" (id=2538689609296) was called 35 times\n",
      "Running: Function \"faults_aggregate\" (id=2538689904992) was called 35 times\n",
      "Running: Function \"weight_hours\" (id=2538689906144) was called 35 times\n",
      "Running: Function \"av_at_select\" (id=2538689905280) was called 35 times\n",
      "Running: Function \"aggregate_availability\" (id=2538689905568) was called 35 times\n",
      "Running: Function \"aggregate_totes\" (id=2538689905856) was called 35 times\n",
      "Running: Function \"merge_av_fa_at\" (id=2538689906432) was called 35 times\n",
      "Running: Function \"fault_select\" (id=2538689904704) was called 36 times\n",
      "Running: Function \"load_PTT_lookup\" (id=2538689609296) was called 36 times\n",
      "Running: Function \"faults_aggregate\" (id=2538689904992) was called 36 times\n",
      "Running: Function \"weight_hours\" (id=2538689906144) was called 36 times\n",
      "Running: Function \"av_at_select\" (id=2538689905280) was called 36 times\n",
      "Running: Function \"aggregate_availability\" (id=2538689905568) was called 36 times\n",
      "Running: Function \"aggregate_totes\" (id=2538689905856) was called 36 times\n",
      "Running: Function \"merge_av_fa_at\" (id=2538689906432) was called 36 times\n",
      "Running: Function \"gen_feat_var\" (id=2538689907152) was called 1 times\n",
      "Running: Function \"split\" (id=2538691335360) was called 1 times\n",
      "Running: Function \"run_OLS\" (id=2538691379056) was called 1 times\n",
      "Running: Function \"find_features\" (id=2538691378768) was called 1 times\n"
     ]
    },
    {
     "name": "stderr",
     "output_type": "stream",
     "text": [
      "C:\\Users\\Jamie.williams\\Anaconda3\\lib\\site-packages\\statsmodels\\base\\model.py:1362: RuntimeWarning: invalid value encountered in true_divide\n",
      "  return self.params / self.bse\n",
      "C:\\Users\\Jamie.williams\\Anaconda3\\lib\\site-packages\\scipy\\stats\\_distn_infrastructure.py:1932: RuntimeWarning: invalid value encountered in less_equal\n",
      "  cond2 = cond0 & (x <= _a)\n"
     ]
    },
    {
     "name": "stdout",
     "output_type": "stream",
     "text": [
      "Running: Function \"cross_validate_r2\" (id=2538691338096) was called 1 times\n",
      "\n",
      "Cross Validation Scores: \n",
      " \n",
      "        R2 Scores\n",
      "1       0.478925\n",
      "2       0.468071\n",
      "3       0.478461\n",
      "4       0.460647\n",
      "5       0.499684\n",
      "Mean    0.477157\n",
      "STD     0.013171\n",
      "                                 OLS Regression Results                                \n",
      "=======================================================================================\n",
      "Dep. Variable:           Availability   R-squared (uncentered):                   0.960\n",
      "Model:                            OLS   Adj. R-squared (uncentered):              0.959\n",
      "Method:                 Least Squares   F-statistic:                              869.8\n",
      "Date:                Fri, 22 Jan 2021   Prob (F-statistic):                        0.00\n",
      "Time:                        14:28:21   Log-Likelihood:                          7077.9\n",
      "No. Observations:               11715   AIC:                                 -1.352e+04\n",
      "Df Residuals:                   11399   BIC:                                 -1.120e+04\n",
      "Df Model:                         316                                                  \n",
      "Covariance Type:            nonrobust                                                  \n",
      "===============================================================================\n",
      "                  coef    std err          t      P>|t|      [0.025      0.975]\n",
      "-------------------------------------------------------------------------------\n",
      "C0501STA020    -0.0069      0.004     -1.944      0.052      -0.014    5.87e-05\n",
      "C0501STA201    -0.0087      0.003     -2.524      0.012      -0.016      -0.002\n",
      "C0501STA217    -0.0066      0.003     -2.064      0.039      -0.013      -0.000\n",
      "C0501STA230    -0.0088      0.004     -2.066      0.039      -0.017      -0.000\n",
      "C0502STA072    -0.0212      0.009     -2.331      0.020      -0.039      -0.003\n",
      "C0503ACH234    -0.0059      0.001     -5.092      0.000      -0.008      -0.004\n",
      "C0503RDC254     0.0261      0.008      3.231      0.001       0.010       0.042\n",
      "C05PTT011      -0.0033      0.001     -2.470      0.014      -0.006      -0.001\n",
      "C0601ACH018     0.0129      0.005      2.468      0.014       0.003       0.023\n",
      "C0701STA002    -0.0085      0.004     -2.285      0.022      -0.016      -0.001\n",
      "C0703ACH111    -0.0149      0.006     -2.560      0.010      -0.026      -0.004\n",
      "C1501ACH217     0.0055      0.002      2.395      0.017       0.001       0.010\n",
      "C1501BCL085     0.0034      0.001      2.929      0.003       0.001       0.006\n",
      "C1501RDC218     0.0025      0.001      2.395      0.017       0.000       0.005\n",
      "C1501RDC232    -0.0031      0.001     -3.380      0.001      -0.005      -0.001\n",
      "C1501STA078    -0.0084      0.001     -7.590      0.000      -0.011      -0.006\n",
      "C1501STA208     0.0065      0.003      2.395      0.017       0.001       0.012\n",
      "C1501STA221     0.0083      0.004      2.327      0.020       0.001       0.015\n",
      "C1502ACH004    -0.0022      0.000     -6.369      0.000      -0.003      -0.002\n",
      "C1502ACH045     0.0354      0.008      4.307      0.000       0.019       0.052\n",
      "C1502ACH061     0.0029      0.001      2.685      0.007       0.001       0.005\n",
      "C1502ACH244    -0.0073      0.004     -1.759      0.079      -0.015       0.001\n",
      "C1502ACL011     0.0093      0.003      2.897      0.004       0.003       0.016\n",
      "C1502ACL069     0.0029      0.002      1.913      0.056   -7.24e-05       0.006\n",
      "C1502RDC064     0.0078      0.003      3.034      0.002       0.003       0.013\n",
      "C1502RDC070     0.0051      0.002      2.426      0.015       0.001       0.009\n",
      "C1502RDC075     0.0016      0.001      3.013      0.003       0.001       0.003\n",
      "C1502STA034     0.0006      0.000      2.132      0.033    4.94e-05       0.001\n",
      "C1502STA046    -0.0023      0.001     -4.555      0.000      -0.003      -0.001\n",
      "C1502STA237     0.0064      0.003      2.020      0.043       0.000       0.013\n",
      "C1502STA238    -0.0016      0.000     -3.380      0.001      -0.003      -0.001\n",
      "C1502STA245    -0.0118      0.003     -4.660      0.000      -0.017      -0.007\n",
      "C1603ACH100    -0.0010      0.000     -2.745      0.006      -0.002      -0.000\n",
      "C1603ACL019    -0.0041      0.002     -2.043      0.041      -0.008      -0.000\n",
      "C1603BCH101    -0.0043      0.002     -2.615      0.009      -0.007      -0.001\n",
      "C1603BCL054     0.0005      0.000      3.559      0.000       0.000       0.001\n",
      "C1603BCL056     0.0028      0.001      2.451      0.014       0.001       0.005\n",
      "C1603BCL076    -0.0111      0.005     -2.204      0.028      -0.021      -0.001\n",
      "C1603BCL097     0.0023      0.001      3.357      0.001       0.001       0.004\n",
      "C1603BCL099    -0.0104      0.006     -1.823      0.068      -0.022       0.001\n",
      "C1603BCL151    -0.0163      0.004     -4.565      0.000      -0.023      -0.009\n",
      "C1603RDC058    -0.0013      0.001     -2.167      0.030      -0.002      -0.000\n",
      "C1603RDC095    -0.0083      0.003     -2.488      0.013      -0.015      -0.002\n",
      "C1603RDC125     0.0060      0.002      3.249      0.001       0.002       0.010\n",
      "C1603RDC145    -0.0117      0.005     -2.483      0.013      -0.021      -0.002\n",
      "C1603RDC162    -0.0037      0.001     -3.179      0.001      -0.006      -0.001\n",
      "C1603RDC163     0.1515      0.044      3.431      0.001       0.065       0.238\n",
      "C1603RDC172     0.0214      0.006      3.423      0.001       0.009       0.034\n",
      "C1603RDC173    -0.0029      0.001     -5.459      0.000      -0.004      -0.002\n",
      "C1603STA253    -0.0020      0.000    -13.948      0.000      -0.002      -0.002\n",
      "C2301ACH007    -0.0033      0.001     -3.643      0.000      -0.005      -0.002\n",
      "C2301ACH008    -0.0011      0.000     -3.540      0.000      -0.002      -0.000\n",
      "C2301ACH028    -0.0021      0.001     -2.624      0.009      -0.004      -0.001\n",
      "C2301ACH083    -0.0066      0.001     -4.674      0.000      -0.009      -0.004\n",
      "C2301ACH096    -0.0183      0.001    -12.493      0.000      -0.021      -0.015\n",
      "C2301ACH107    -0.0057      0.003     -1.983      0.047      -0.011   -6.51e-05\n",
      "C2301ACL001    -0.0036      0.002     -1.927      0.054      -0.007    6.12e-05\n",
      "C2301ACL021    -0.0050      0.001     -4.281      0.000      -0.007      -0.003\n",
      "C2301BCL004    -0.0035      0.002     -1.955      0.051      -0.007    8.52e-06\n",
      "C2301BCL177    -0.0015      0.000     -5.427      0.000      -0.002      -0.001\n",
      "C2301BCL181     0.0019      0.001      2.711      0.007       0.001       0.003\n",
      "C2301RDC060    -0.0050      0.001     -6.309      0.000      -0.007      -0.003\n",
      "C2301RDC061    -0.0009      0.000     -7.057      0.000      -0.001      -0.001\n",
      "C2301RDC097    -0.0359      0.008     -4.599      0.000      -0.051      -0.021\n",
      "C2301RDC176    -0.0026      0.001     -3.657      0.000      -0.004      -0.001\n",
      "C2301RDC178    -0.0044      0.001     -3.729      0.000      -0.007      -0.002\n",
      "C2301STA002     0.0026      0.001      2.677      0.007       0.001       0.004\n",
      "C2301STA085    -0.0005      0.000     -2.874      0.004      -0.001      -0.000\n",
      "C2301STA175     0.0005      0.000      1.937      0.053   -5.61e-06       0.001\n",
      "C2301STA211    -0.0016      0.001     -2.758      0.006      -0.003      -0.000\n",
      "C2302ACH104     0.0100      0.004      2.518      0.012       0.002       0.018\n",
      "C2302ACH216    -0.0054      0.001     -4.581      0.000      -0.008      -0.003\n",
      "C2302ACH217    -0.0023      0.001     -2.100      0.036      -0.004      -0.000\n",
      "C2302ACL032    -0.0277      0.012     -2.301      0.021      -0.051      -0.004\n",
      "C2302ACL072    -0.0036      0.001     -2.499      0.012      -0.006      -0.001\n",
      "C2302BCX093     0.0058      0.003      2.238      0.025       0.001       0.011\n",
      "C2302BCX103     0.0218      0.008      2.735      0.006       0.006       0.037\n",
      "C2302RDC011    -0.0019      0.001     -2.788      0.005      -0.003      -0.001\n",
      "C2302RDC031     0.0155      0.005      3.068      0.002       0.006       0.025\n",
      "C2302RDC034    -0.0006      0.000     -4.125      0.000      -0.001      -0.000\n",
      "C2302RDC071     0.0044      0.002      2.195      0.028       0.000       0.008\n",
      "C2302STA014    -0.0005      0.000     -2.983      0.003      -0.001      -0.000\n",
      "C2303ACH049    -0.0075      0.002     -3.242      0.001      -0.012      -0.003\n",
      "C2303ACH079     0.0018      0.001      2.340      0.019       0.000       0.003\n",
      "C2303ACH095    -0.0021      0.001     -3.749      0.000      -0.003      -0.001\n",
      "C2303ACH218    -0.0096      0.001     -7.306      0.000      -0.012      -0.007\n",
      "C2303BCH220    -0.0038      0.001     -3.171      0.002      -0.006      -0.001\n",
      "C2303BCL038     0.0175      0.003      5.566      0.000       0.011       0.024\n",
      "C2303BCL081     0.0067      0.003      2.406      0.016       0.001       0.012\n",
      "C2303BCL151    -0.0024      0.000     -7.167      0.000      -0.003      -0.002\n",
      "C2303BCL157     0.0072      0.003      2.502      0.012       0.002       0.013\n",
      "C2303RDC082     0.0078      0.002      3.402      0.001       0.003       0.012\n",
      "C2303RDC115    -0.0265      0.006     -4.565      0.000      -0.038      -0.015\n",
      "C2303RDC159    -0.0090      0.004     -2.354      0.019      -0.017      -0.002\n",
      "C2303RDC194    -0.0152      0.003     -4.956      0.000      -0.021      -0.009\n",
      "C2303STA080     0.0026      0.001      2.408      0.016       0.000       0.005\n",
      "C2303STA222     0.0111      0.002      4.775      0.000       0.007       0.016\n",
      "SCS012          0.0046      0.002      1.924      0.054   -8.67e-05       0.009\n",
      "C0602ACH023    -0.0236      0.008     -3.065      0.002      -0.039      -0.009\n",
      "C0602RDC036     0.0009      0.000      2.421      0.016       0.000       0.002\n",
      "C0602STA030    -0.0036      0.001     -2.825      0.005      -0.006      -0.001\n",
      "C0602STA056    -0.0203      0.006     -3.414      0.001      -0.032      -0.009\n",
      "C0602STA058    -0.0098      0.004     -2.738      0.006      -0.017      -0.003\n",
      "C0602STA082     0.0227      0.007      3.113      0.002       0.008       0.037\n",
      "SCS021          0.0015      0.001      1.459      0.144      -0.001       0.004\n",
      "SCS022          0.0055      0.001      4.593      0.000       0.003       0.008\n",
      "C06PTT022      -0.0055      0.001     -3.683      0.000      -0.008      -0.003\n",
      "C0604STA151    -0.0029      0.001     -4.666      0.000      -0.004      -0.002\n",
      "C0604STA172    -0.0045      0.003     -1.641      0.101      -0.010       0.001\n",
      "C0604STA180     0.0080      0.006      1.428      0.153      -0.003       0.019\n",
      "C0604STA187     0.0070      0.003      2.178      0.029       0.001       0.013\n",
      "C06PTT031      -0.0023      0.001     -3.911      0.000      -0.004      -0.001\n",
      "SCS035         -0.0026      0.001     -3.432      0.001      -0.004      -0.001\n",
      "SCS036         -0.0015      0.000     -3.368      0.001      -0.002      -0.001\n",
      "SCSM03         -0.0017      0.001     -2.795      0.005      -0.003      -0.001\n",
      "C06PTT032      -0.0024      0.001     -2.659      0.008      -0.004      -0.001\n",
      "C0702STA051    -0.0189      0.009     -2.161      0.031      -0.036      -0.002\n",
      "C0702STA057    -0.0554      0.021     -2.586      0.010      -0.097      -0.013\n",
      "C0702STA059    -0.0207      0.008     -2.453      0.014      -0.037      -0.004\n",
      "C0702STA060     0.0381      0.021      1.853      0.064      -0.002       0.078\n",
      "SCS044         -0.0012      0.001     -1.865      0.062      -0.003    6.33e-05\n",
      "SCSM04          0.0031      0.001      3.226      0.001       0.001       0.005\n",
      "C07PTT042      -0.0038      0.001     -3.203      0.001      -0.006      -0.001\n",
      "C0703RDC103    -0.0133      0.004     -3.124      0.002      -0.022      -0.005\n",
      "C0703STA105    -0.0105      0.003     -3.962      0.000      -0.016      -0.005\n",
      "C0704RDC136     0.0238      0.013      1.824      0.068      -0.002       0.049\n",
      "C0704STA126     0.0116      0.005      2.164      0.031       0.001       0.022\n",
      "C0704STA130    -0.0124      0.005     -2.459      0.014      -0.022      -0.003\n",
      "C0704STA132    -0.0241      0.013     -1.879      0.060      -0.049       0.001\n",
      "C0704STA139     0.0109      0.004      2.688      0.007       0.003       0.019\n",
      "C0704STA164     0.0580      0.025      2.367      0.018       0.010       0.106\n",
      "C0704STA182     0.0121      0.006      1.900      0.057      -0.000       0.025\n",
      "C0704STA189    -0.0225      0.011     -2.082      0.037      -0.044      -0.001\n",
      "SCS051          0.0023      0.001      2.075      0.038       0.000       0.005\n",
      "SCS054          0.0021      0.001      2.099      0.036       0.000       0.004\n",
      "SCS056          0.0038      0.001      2.643      0.008       0.001       0.007\n",
      "C08            -0.0067      0.004     -1.872      0.061      -0.014       0.000\n",
      "C0801RDC003     0.0104      0.004      2.435      0.015       0.002       0.019\n",
      "C0801STA002    -0.0024      0.000     -4.895      0.000      -0.003      -0.001\n",
      "C0802ACL027    -0.0277      0.007     -4.110      0.000      -0.041      -0.014\n",
      "C0802RDC036     0.0133      0.005      2.473      0.013       0.003       0.024\n",
      "C0802STA051     0.0143      0.006      2.199      0.028       0.002       0.027\n",
      "C0802STA058     0.0116      0.006      1.797      0.072      -0.001       0.024\n",
      "C0802STA081    -0.1861      0.060     -3.083      0.002      -0.304      -0.068\n",
      "C0802STA082     0.0294      0.013      2.221      0.026       0.003       0.055\n",
      "C0802STA091     0.0084      0.001      5.664      0.000       0.006       0.011\n",
      "C0803STA102     0.0123      0.006      2.223      0.026       0.001       0.023\n",
      "C0803STA112     0.0038      0.001      5.228      0.000       0.002       0.005\n",
      "C0803STA120     0.0094      0.005      1.939      0.053      -0.000       0.019\n",
      "C0903STA115     0.0161      0.004      4.230      0.000       0.009       0.024\n",
      "SCS071          0.0033      0.002      1.800      0.072      -0.000       0.007\n",
      "C0802RDC086  8.082e-16   1.82e-16      4.429      0.000    4.51e-16    1.17e-15\n",
      "C08PTT072      -0.0030      0.001     -3.314      0.001      -0.005      -0.001\n",
      "C0804ACH123    -0.0165      0.004     -3.852      0.000      -0.025      -0.008\n",
      "C0804ACH125     0.0095      0.004      2.543      0.011       0.002       0.017\n",
      "C0804STA130    -0.0091      0.001     -6.357      0.000      -0.012      -0.006\n",
      "C0804STA132    -0.0069      0.004     -1.770      0.077      -0.015       0.001\n",
      "C0804STA134    -0.0199      0.010     -2.085      0.037      -0.039      -0.001\n",
      "C0804STA139     0.0090      0.003      3.345      0.001       0.004       0.014\n",
      "C0804STA141    -0.0112      0.006     -1.959      0.050      -0.022    4.86e-06\n",
      "C0804STA151     0.0047      0.001      3.196      0.001       0.002       0.008\n",
      "C0804STA168    -0.0182      0.009     -2.115      0.034      -0.035      -0.001\n",
      "C0804STA182    -0.0181      0.007     -2.619      0.009      -0.032      -0.005\n",
      "C0804STA197    -0.0079      0.004     -2.171      0.030      -0.015      -0.001\n",
      "C08PTT081       0.0020      0.001      1.826      0.068      -0.000       0.004\n",
      "C0804RDC186     0.1042      0.047      2.225      0.026       0.012       0.196\n",
      "C08PTT082      -0.0007      0.000     -2.790      0.005      -0.001      -0.000\n",
      "C09             0.0128      0.006      1.975      0.048    9.63e-05       0.026\n",
      "C0901STA005    -0.0158      0.004     -4.325      0.000      -0.023      -0.009\n",
      "C0902ACL054     0.0100      0.004      2.231      0.026       0.001       0.019\n",
      "C0902STA024     0.0218      0.010      2.274      0.023       0.003       0.041\n",
      "C0902STA026    -0.0181      0.006     -3.143      0.002      -0.029      -0.007\n",
      "C0902STA041     0.0581      0.031      1.881      0.060      -0.002       0.119\n",
      "C0902STA059     0.0221      0.011      2.022      0.043       0.001       0.044\n",
      "C0902STA077    -0.0030      0.001     -2.124      0.034      -0.006      -0.000\n",
      "C0902STA089    -0.0282      0.013     -2.139      0.032      -0.054      -0.002\n",
      "C09PTT091       0.0038      0.001      3.493      0.000       0.002       0.006\n",
      "SCS092          0.0032      0.002      1.653      0.098      -0.001       0.007\n",
      "SCS093          0.0053      0.002      2.705      0.007       0.001       0.009\n",
      "SCS094          0.0046      0.002      2.329      0.020       0.001       0.008\n",
      "SCS095          0.0048      0.003      1.746      0.081      -0.001       0.010\n",
      "SCSM09         -0.0033      0.001     -3.339      0.001      -0.005      -0.001\n",
      "C09PTT092       0.0014      0.001      2.125      0.034       0.000       0.003\n",
      "C0904ACL190     0.0368      0.021      1.723      0.085      -0.005       0.079\n",
      "C0904STA132    -0.0049      0.003     -1.769      0.077      -0.010       0.001\n",
      "C0904STA141    -0.0223      0.011     -1.953      0.051      -0.045    7.94e-05\n",
      "C0904STA156     0.0055      0.002      2.466      0.014       0.001       0.010\n",
      "C0904STA158    -0.0329      0.013     -2.463      0.014      -0.059      -0.007\n",
      "C0904STA164    -0.0166      0.007     -2.420      0.016      -0.030      -0.003\n",
      "C0904STA174    -0.0085      0.005     -1.796      0.073      -0.018       0.001\n",
      "C0904STA189     0.0145      0.005      3.036      0.002       0.005       0.024\n",
      "C0904STA206     0.0137      0.007      1.981      0.048       0.000       0.027\n",
      "C09PTT101       0.0027      0.001      2.598      0.009       0.001       0.005\n",
      "SCS102          0.0037      0.002      2.076      0.038       0.000       0.007\n",
      "SCS105          0.0023      0.001      2.447      0.014       0.000       0.004\n",
      "SCSM10         -0.0016      0.001     -1.704      0.088      -0.004       0.000\n",
      "C09PTT102       0.0017      0.001      2.637      0.008       0.000       0.003\n",
      "C10            -0.0205      0.009     -2.206      0.027      -0.039      -0.002\n",
      "C1001ACH019    -0.0040      0.002     -2.023      0.043      -0.008      -0.000\n",
      "C1001STA002    -0.0082      0.004     -2.088      0.037      -0.016      -0.001\n",
      "C1001STA201     0.0131      0.006      2.373      0.018       0.002       0.024\n",
      "C1001STA205     0.0333      0.009      3.824      0.000       0.016       0.050\n",
      "C1002ACH055     0.0182      0.011      1.661      0.097      -0.003       0.040\n",
      "C1002STA026    -0.0091      0.003     -2.624      0.009      -0.016      -0.002\n",
      "C1002STA063     0.0712      0.024      2.999      0.003       0.025       0.118\n",
      "C1002STA066     0.0292      0.012      2.535      0.011       0.007       0.052\n",
      "C1002STA081    -0.0072      0.003     -2.199      0.028      -0.014      -0.001\n",
      "C1002STA082    -0.0430      0.017     -2.486      0.013      -0.077      -0.009\n",
      "C1002STA087     0.0645      0.015      4.250      0.000       0.035       0.094\n",
      "C1002STA089    -0.3467      0.063     -5.534      0.000      -0.470      -0.224\n",
      "C1002STA097    -0.0081      0.003     -3.143      0.002      -0.013      -0.003\n",
      "C1003ACH232     0.0456      0.012      3.847      0.000       0.022       0.069\n",
      "C1003STA251     0.0031      0.002      1.861      0.063      -0.000       0.006\n",
      "C10PTT111      -0.0086      0.002     -4.971      0.000      -0.012      -0.005\n",
      "C1101ACH001    -0.0085      0.003     -2.602      0.009      -0.015      -0.002\n",
      "C1101STA002    -0.0356      0.008     -4.623      0.000      -0.051      -0.020\n",
      "C1103STA120    -0.0039      0.002     -2.567      0.010      -0.007      -0.001\n",
      "C1203STA115    -0.0109      0.003     -3.959      0.000      -0.016      -0.005\n",
      "SCS111         -0.0018      0.001     -2.248      0.025      -0.003      -0.000\n",
      "SCS112         -0.0043      0.002     -2.267      0.023      -0.008      -0.001\n",
      "SCS113         -0.0012      0.001     -1.962      0.050      -0.002   -9.58e-07\n",
      "SCS114         -0.0038      0.002     -1.982      0.048      -0.008   -4.13e-05\n",
      "SCSM11         -0.0009      0.000     -1.939      0.052      -0.002    9.46e-06\n",
      "C10PTT112      -0.0110      0.001     -8.500      0.000      -0.014      -0.008\n",
      "C1101STA005    -0.0218      0.007     -3.144      0.002      -0.035      -0.008\n",
      "C1102ACH067    -0.1150      0.021     -5.494      0.000      -0.156      -0.074\n",
      "C1102ACH079     0.0750      0.029      2.597      0.009       0.018       0.132\n",
      "C1102ACL054     0.0756      0.023      3.333      0.001       0.031       0.120\n",
      "C1102RDC036     0.0059      0.002      2.573      0.010       0.001       0.010\n",
      "C1102STA051     0.0377      0.019      1.947      0.052      -0.000       0.076\n",
      "C1102STA056    -0.0248      0.005     -5.149      0.000      -0.034      -0.015\n",
      "C1102STA057    -0.1098      0.046     -2.376      0.018      -0.200      -0.019\n",
      "C1102STA064    -0.0724      0.019     -3.732      0.000      -0.110      -0.034\n",
      "C1102STA068    -0.0081      0.003     -2.718      0.007      -0.014      -0.002\n",
      "C1102STA077    -0.0028      0.000     -5.758      0.000      -0.004      -0.002\n",
      "C1102STA081    -0.0260      0.013     -1.990      0.047      -0.052      -0.000\n",
      "C1102STA087    -0.0097      0.004     -2.419      0.016      -0.018      -0.002\n",
      "C1102STA089    -0.0202      0.009     -2.304      0.021      -0.037      -0.003\n",
      "SCS122         -0.0031      0.001     -4.325      0.000      -0.005      -0.002\n",
      "SCS123         -0.0019      0.000     -4.135      0.000      -0.003      -0.001\n",
      "SCS125         -0.0068      0.002     -3.388      0.001      -0.011      -0.003\n",
      "C1102RDC046     0.0166      0.007      2.393      0.017       0.003       0.030\n",
      "C11PTT122      -0.0019      0.001     -2.131      0.033      -0.004      -0.000\n",
      "C1104ACH133    -0.0242      0.009     -2.837      0.005      -0.041      -0.007\n",
      "C1104ACH167    -0.0042      0.001     -5.912      0.000      -0.006      -0.003\n",
      "C1104ACH179    -0.0767      0.014     -5.545      0.000      -0.104      -0.050\n",
      "C1104STA124    -0.0121      0.007     -1.773      0.076      -0.025       0.001\n",
      "C1104STA126    -0.0537      0.020     -2.621      0.009      -0.094      -0.014\n",
      "C1104STA130    -0.0295      0.015     -1.956      0.051      -0.059     6.9e-05\n",
      "C1104STA163     0.0307      0.016      1.926      0.054      -0.001       0.062\n",
      "C1104STA177    -0.0192      0.008     -2.440      0.015      -0.035      -0.004\n",
      "C1104STA197    -0.0049      0.001     -4.425      0.000      -0.007      -0.003\n",
      "C11PTT131      -0.0025      0.001     -2.400      0.016      -0.005      -0.000\n",
      "SCS131          0.0049      0.002      2.421      0.015       0.001       0.009\n",
      "C11PTT132      -0.0062      0.001     -6.138      0.000      -0.008      -0.004\n",
      "C1201ACH006    -0.0277      0.008     -3.465      0.001      -0.043      -0.012\n",
      "C1201RDC004    -0.0276      0.008     -3.465      0.001      -0.043      -0.012\n",
      "C1201STA005    -0.0047      0.001     -6.386      0.000      -0.006      -0.003\n",
      "C1202ACH025     0.0031      0.002      1.760      0.078      -0.000       0.006\n",
      "C1202STA026     0.0216      0.008      2.776      0.006       0.006       0.037\n",
      "C1202STA030    -0.0119      0.003     -4.066      0.000      -0.018      -0.006\n",
      "C1202STA059     0.0143      0.008      1.784      0.074      -0.001       0.030\n",
      "C1202STA060    -0.0481      0.024     -2.033      0.042      -0.094      -0.002\n",
      "C1202STA064    -0.0072      0.002     -3.385      0.001      -0.011      -0.003\n",
      "C1202STA070     0.0306      0.012      2.473      0.013       0.006       0.055\n",
      "C1202STA080     0.0060      0.003      1.782      0.075      -0.001       0.013\n",
      "C1202STA082     0.0189      0.010      1.968      0.049    7.33e-05       0.038\n",
      "SCS141          0.0059      0.002      2.731      0.006       0.002       0.010\n",
      "SCSM14         -0.0016      0.000     -4.553      0.000      -0.002      -0.001\n",
      "C12PTT142      -0.0023      0.001     -2.497      0.013      -0.004      -0.000\n",
      "C1204ACH133     0.0400      0.018      2.247      0.025       0.005       0.075\n",
      "C1204ACL128    -0.0149      0.004     -3.344      0.001      -0.024      -0.006\n",
      "C1204RDC194    -0.0697      0.030     -2.328      0.020      -0.128      -0.011\n",
      "C1204STA132    -0.0073      0.001     -5.059      0.000      -0.010      -0.004\n",
      "C1204STA151    -0.0279      0.011     -2.555      0.011      -0.049      -0.006\n",
      "C1204STA156    -0.0265      0.011     -2.417      0.016      -0.048      -0.005\n",
      "C1204STA157     0.0292      0.014      2.095      0.036       0.002       0.057\n",
      "C1204STA201    -0.0152      0.006     -2.555      0.011      -0.027      -0.004\n",
      "C1204STA203    -0.0119      0.005     -2.275      0.023      -0.022      -0.002\n",
      "C12PTT151       0.0016      0.001      2.855      0.004       0.001       0.003\n",
      "SCS153          0.0024      0.001      3.631      0.000       0.001       0.004\n",
      "SCS156          0.0011      0.001      1.857      0.063   -6.07e-05       0.002\n",
      "C1204STA149     0.0064      0.003      2.251      0.024       0.001       0.012\n",
      "C13            -0.0173      0.006     -3.089      0.002      -0.028      -0.006\n",
      "C1301ACH006    -0.0409      0.017     -2.454      0.014      -0.074      -0.008\n",
      "C1301STA005    -0.0272      0.011     -2.420      0.016      -0.049      -0.005\n",
      "C1302ACH079     0.0280      0.018      1.599      0.110      -0.006       0.062\n",
      "C1302STA051    -0.0068      0.002     -4.003      0.000      -0.010      -0.003\n",
      "C1302STA080     0.0103      0.004      2.380      0.017       0.002       0.019\n",
      "C1302STA081     0.0228      0.009      2.555      0.011       0.005       0.040\n",
      "C1303STA112    -0.0237      0.010     -2.273      0.023      -0.044      -0.003\n",
      "C1303STA120     0.0082      0.004      2.235      0.025       0.001       0.015\n",
      "C1401ACH001    -0.0095      0.001     -6.534      0.000      -0.012      -0.007\n",
      "C1403STA102     0.0349      0.013      2.668      0.008       0.009       0.061\n",
      "C1403STA120     0.0138      0.004      3.519      0.000       0.006       0.021\n",
      "SCS171         -0.0040      0.001     -2.847      0.004      -0.007      -0.001\n",
      "SCS175         -0.0024      0.001     -2.268      0.023      -0.005      -0.000\n",
      "C13PTT172      -0.0039      0.001     -4.241      0.000      -0.006      -0.002\n",
      "C1304ACH155    -0.0033      0.001     -3.138      0.002      -0.005      -0.001\n",
      "C1304ACL190    -0.0677      0.037     -1.831      0.067      -0.140       0.005\n",
      "C1304STA132     0.0287      0.014      2.053      0.040       0.001       0.056\n",
      "C1304STA182    -0.0152      0.007     -2.177      0.030      -0.029      -0.002\n",
      "SCS181          0.0011      0.000      2.858      0.004       0.000       0.002\n",
      "SCS182         -0.0019      0.001     -3.272      0.001      -0.003      -0.001\n",
      "C1304ACL183     0.1045      0.048      2.165      0.030       0.010       0.199\n",
      "C1401STA005    -0.0277      0.014     -1.932      0.053      -0.056       0.000\n",
      "C1402ACH033    -0.0235      0.012     -2.007      0.045      -0.047      -0.001\n",
      "C1402STA030    -0.0045      0.002     -2.707      0.007      -0.008      -0.001\n",
      "C1402STA051     0.0098      0.004      2.334      0.020       0.002       0.018\n",
      "C1402STA077    -0.0250      0.009     -2.859      0.004      -0.042      -0.008\n",
      "SCS191          0.0017      0.001      2.679      0.007       0.000       0.003\n",
      "C14PTT192      -0.0028      0.001     -2.624      0.009      -0.005      -0.001\n",
      "C1404STA141    -0.0205      0.009     -2.225      0.026      -0.039      -0.002\n",
      "C1404STA157    -0.0350      0.012     -2.823      0.005      -0.059      -0.011\n",
      "C1404STA173    -0.0567      0.031     -1.859      0.063      -0.117       0.003\n",
      "C1404STA174    -0.0268      0.011     -2.494      0.013      -0.048      -0.006\n",
      "C1404STA191     0.0070      0.003      2.149      0.032       0.001       0.013\n",
      "SCS201          0.0041      0.002      2.396      0.017       0.001       0.007\n",
      "SCS205          0.0030      0.000      6.449      0.000       0.002       0.004\n",
      "SCS206          0.0049      0.002      3.154      0.002       0.002       0.008\n",
      "C1404RDC146          0          0        nan        nan           0           0\n",
      "log_totes       0.1942      0.001    161.088      0.000       0.192       0.197\n",
      "==============================================================================\n",
      "Omnibus:                      170.819   Durbin-Watson:                   2.002\n",
      "Prob(Omnibus):                  0.000   Jarque-Bera (JB):              191.929\n",
      "Skew:                          -0.256   Prob(JB):                     2.10e-42\n",
      "Kurtosis:                       3.363   Cond. No.                     1.19e+16\n",
      "==============================================================================\n",
      "\n",
      "Warnings:\n",
      "[1] Standard Errors assume that the covariance matrix of the errors is correctly specified.\n",
      "[2] The smallest eigenvalue is 3.63e-26. This might indicate that there are\n",
      "strong multicollinearity problems or that the design matrix is singular.\n",
      "187\n",
      "0.39193306925291016\n",
      "Running: Function \"create_output\" (id=2538691400320) was called 1 times\n"
     ]
    },
    {
     "name": "stderr",
     "output_type": "stream",
     "text": [
      "C:\\Users\\Jamie.williams\\Anaconda3\\lib\\site-packages\\statsmodels\\base\\model.py:1362: RuntimeWarning: invalid value encountered in true_divide\n",
      "  return self.params / self.bse\n",
      "C:\\Users\\Jamie.williams\\Anaconda3\\lib\\site-packages\\scipy\\stats\\_distn_infrastructure.py:1932: RuntimeWarning: invalid value encountered in less_equal\n",
      "  cond2 = cond0 & (x <= _a)\n"
     ]
    }
   ],
   "source": [
    "import pandas as pd\n",
    "import numpy as np\n",
    "import seaborn as sns\n",
    "import matplotlib.pyplot as plt\n",
    "%matplotlib inline\n",
    "\n",
    "import scsavailability as scs\n",
    "    \n",
    "import statsmodels.api as sm\n",
    "from scipy import stats\n",
    "\n",
    "from scsavailability import features as feat, model as md, results as rs\n",
    "\n",
    "from sklearn.model_selection import cross_val_score\n",
    "from sklearn.model_selection import KFold\n",
    "from sklearn.linear_model import LinearRegression\n",
    "\n",
    "path = 'C:/Users/Jamie.williams/OneDrive - Newton Europe Ltd/Castle Donnington/Data/'\n",
    "\n",
    "at = pd.read_csv(path+'active_totes_20201210.csv')\n",
    "av = pd.read_csv(path+'Availability_with_Grey&Blue_1811-0912.csv',names = [\"timestamp\",\"Pick Station\",\"Availability\",\"Blue Tote Loss\",\"Grey Tote Loss\"])\n",
    "#fa = pd.read_csv(path + 'scs_tote_matched.csv')\n",
    "scs_raw = pd.read_csv(path + 'Faults20_11-10_12.csv')\n",
    "\n",
    "fa_max = pd.to_datetime(scs_raw['Entry Time'],dayfirst=True).max()\n",
    "report_end = fa_max.ceil('H')\n",
    "report_start = report_end - pd.to_timedelta(12, unit='H')\n",
    "\n",
    "at = feat.pre_process_AT(at)\n",
    "av = feat.pre_process_av(av)\n",
    "fa,unmapped = feat.preprocess_faults(scs_raw)\n",
    "\n",
    "Output,R2,feat = rs.run_single_model(at,av,fa,report_start,report_end,shift=0,weights=[1],speed=470,picker_present=0.91,availability=0.71)"
   ]
  },
  {
   "cell_type": "code",
   "execution_count": 2,
   "metadata": {},
   "outputs": [],
   "source": [
    "path = 'C:/Users/Jamie.williams/OneDrive - Newton Europe Ltd/Castle Donnington/Data/'"
   ]
  },
  {
   "cell_type": "code",
   "execution_count": 9,
   "metadata": {},
   "outputs": [
    {
     "ename": "SyntaxError",
     "evalue": "invalid syntax (<ipython-input-9-5c738e53ba5e>, line 1)",
     "output_type": "error",
     "traceback": [
      "\u001b[1;36m  File \u001b[1;32m\"<ipython-input-9-5c738e53ba5e>\"\u001b[1;36m, line \u001b[1;32m1\u001b[0m\n\u001b[1;33m    at = pd.read_csv(r path+'active_totes_20201210.csv')\u001b[0m\n\u001b[1;37m                       ^\u001b[0m\n\u001b[1;31mSyntaxError\u001b[0m\u001b[1;31m:\u001b[0m invalid syntax\n"
     ]
    }
   ],
   "source": [
    "at = pd.read_csv(path+'active_totes_20201210.csv')\n",
    "av = pd.read_csv(path+'Availability_with_Grey&Blue_1811-0912.csv',names = [\"timestamp\",\"Pick Station\",\"Availability\",\"Blue Tote Loss\",\"Grey Tote Loss\"])\n",
    "#fa = pd.read_csv(path + 'scs_tote_matched.csv')\n",
    "scs_raw = pd.read_csv(path + 'Faults20_11-10_12.csv')"
   ]
  },
  {
   "cell_type": "code",
   "execution_count": 4,
   "metadata": {},
   "outputs": [
    {
     "ename": "AttributeError",
     "evalue": "'int' object has no attribute 'pre_process_AT'",
     "output_type": "error",
     "traceback": [
      "\u001b[1;31m---------------------------------------------------------------------------\u001b[0m",
      "\u001b[1;31mAttributeError\u001b[0m                            Traceback (most recent call last)",
      "\u001b[1;32m<ipython-input-4-c7efe624ccca>\u001b[0m in \u001b[0;36m<module>\u001b[1;34m\u001b[0m\n\u001b[1;32m----> 1\u001b[1;33m \u001b[0mat\u001b[0m \u001b[1;33m=\u001b[0m \u001b[0mfeat\u001b[0m\u001b[1;33m.\u001b[0m\u001b[0mpre_process_AT\u001b[0m\u001b[1;33m(\u001b[0m\u001b[0mat\u001b[0m\u001b[1;33m)\u001b[0m\u001b[1;33m\u001b[0m\u001b[1;33m\u001b[0m\u001b[0m\n\u001b[0m",
      "\u001b[1;31mAttributeError\u001b[0m: 'int' object has no attribute 'pre_process_AT'"
     ]
    }
   ],
   "source": [
    "at = feat.pre_process_AT(at)"
   ]
  },
  {
   "cell_type": "code",
   "execution_count": null,
   "metadata": {},
   "outputs": [],
   "source": [
    "av = feat.pre_process_av(av)"
   ]
  },
  {
   "cell_type": "code",
   "execution_count": null,
   "metadata": {},
   "outputs": [],
   "source": [
    "fa,unmapped, end_time = feat.preprocess_faults(scs_raw)\n",
    "\n",
    "#fa= fa[fa['timestamp']<(fa['timestamp'].max()-pd.to_timedelta(7, unit='D'))]"
   ]
  },
  {
   "cell_type": "code",
   "execution_count": null,
   "metadata": {},
   "outputs": [],
   "source": [
    "fa_floor = feat.floor_shift_time_fa(fa, shift=0)"
   ]
  },
  {
   "cell_type": "code",
   "execution_count": null,
   "metadata": {},
   "outputs": [],
   "source": [
    "df,fa_PTT = feat.create_PTT_df(fa_floor,at,av,weights = [1])\n",
    "\n",
    "df = feat.log_totes(df) "
   ]
  },
  {
   "cell_type": "code",
   "execution_count": null,
   "metadata": {},
   "outputs": [],
   "source": [
    "df"
   ]
  },
  {
   "cell_type": "code",
   "execution_count": null,
   "metadata": {},
   "outputs": [],
   "source": [
    "df_week = df[df['timestamp']>end_time - pd.to_timedelta(14, unit='D')]"
   ]
  },
  {
   "cell_type": "code",
   "execution_count": null,
   "metadata": {},
   "outputs": [],
   "source": [
    "X,y = md.gen_feat_var(df,target = 'Availability', features = ['Faults','Totes'])\n"
   ]
  },
  {
   "cell_type": "code",
   "execution_count": null,
   "metadata": {},
   "outputs": [],
   "source": [
    "X_train, X_test, y_train, y_test = md.split(X,y,split_options = {'test_size': 0.3,\n",
    "                                                                 'random_state': 42})\n",
    "\n",
    "R2_cv,R2_OOS,Coeff = md.run_OLS(X_train = X_train,y_train = y_train,X_test = X_test,y_test=y_test, n = 30)"
   ]
  },
  {
   "cell_type": "code",
   "execution_count": null,
   "metadata": {},
   "outputs": [],
   "source": [
    "R2_OOS"
   ]
  },
  {
   "cell_type": "markdown",
   "metadata": {},
   "source": [
    "# Plotting"
   ]
  },
  {
   "cell_type": "code",
   "execution_count": 5,
   "metadata": {},
   "outputs": [
    {
     "data": {
      "text/plain": [
       "C13PTT172    54\n",
       "C08PTT082    39\n",
       "C08PTT072    38\n",
       "C06PTT031    28\n",
       "C06PTT021    27\n",
       "C10PTT111    25\n",
       "C10PTT112    13\n",
       "C06PTT022    12\n",
       "C11PTT132    11\n",
       "C11PTT122    10\n",
       "Name: ID, dtype: int64"
      ]
     },
     "execution_count": 5,
     "metadata": {},
     "output_type": "execute_result"
    }
   ],
   "source": [
    "Output[Output['AREA'] == 'PTT']['ID'].value_counts()"
   ]
  },
  {
   "cell_type": "code",
   "execution_count": 2,
   "metadata": {},
   "outputs": [],
   "source": [
    "Total = Output[['AREA','SINGLES']].groupby('AREA').sum().reset_index()"
   ]
  },
  {
   "cell_type": "code",
   "execution_count": 3,
   "metadata": {
    "scrolled": true
   },
   "outputs": [
    {
     "data": {
      "text/plain": [
       "Text(0.5, 1.0, 'SCS Lost Singles Last 12 Hours')"
      ]
     },
     "execution_count": 3,
     "metadata": {},
     "output_type": "execute_result"
    },
    {
     "data": {
      "image/png": "[encoded data removed]",
      "text/plain": [
       "<Figure size 1080x360 with 1 Axes>"
      ]
     },
     "metadata": {
      "needs_background": "light"
     },
     "output_type": "display_data"
    }
   ],
   "source": [
    "plt.figure(figsize=(15,5))\n",
    "sns.barplot(y='SINGLES',x = 'AREA',data = Total.sort_values(by='SINGLES',ascending=False).head(10),color = 'r')\n",
    "plt.ylabel('Lost Singles')\n",
    "plt.title('SCS Lost Singles Last 12 Hours')"
   ]
  },
  {
   "cell_type": "code",
   "execution_count": null,
   "metadata": {},
   "outputs": [],
   "source": [
    "PTT081 = Output[['Asset Code','PTT081']].groupby('Asset Code').sum().reset_index()"
   ]
  },
  {
   "cell_type": "code",
   "execution_count": null,
   "metadata": {},
   "outputs": [],
   "source": [
    "plt.figure(figsize=(7,5))\n",
    "sns.barplot(y='PTT081',x = 'Asset Code',data = PTT081.sort_values(by='PTT081',ascending=False).head(5),color = 'r')\n",
    "plt.ylabel('Lost Singles')\n",
    "plt.title('PTT081 Lost Singles Last 12 Hours')"
   ]
  },
  {
   "cell_type": "code",
   "execution_count": null,
   "metadata": {},
   "outputs": [],
   "source": [
    "Total_colour = Output[['BLUEGREY','SINGLES']].groupby('BLUEGREY').sum().reset_index()"
   ]
  },
  {
   "cell_type": "code",
   "execution_count": null,
   "metadata": {
    "scrolled": true
   },
   "outputs": [],
   "source": [
    "plt.figure(figsize=(5,5))\n",
    "sns.barplot(y='SINGLES',x = 'BLUEGREY',data = Total_colour.sort_values(by='SINGLES',ascending=False),color = 'r')\n",
    "plt.ylabel('Lost Singles')\n",
    "plt.title('SCS Lost Singles Last 12 Hours')"
   ]
  },
  {
   "cell_type": "code",
   "execution_count": null,
   "metadata": {},
   "outputs": [],
   "source": [
    "Total_colour"
   ]
  },
  {
   "cell_type": "code",
   "execution_count": null,
   "metadata": {},
   "outputs": [],
   "source": [
    "sns.lmplot(x='log_totes', y='Availability', data=df, line_kws={\"color\": \"red\"})\n",
    "plt.xlim(0, 5)"
   ]
  },
  {
   "cell_type": "code",
   "execution_count": null,
   "metadata": {},
   "outputs": [],
   "source": [
    "sns.lmplot(x='TOTES', y='Availability', data=df_week, line_kws={\"color\": \"red\"})"
   ]
  },
  {
   "cell_type": "code",
   "execution_count": null,
   "metadata": {},
   "outputs": [],
   "source": [
    "ax = sns.regplot(x=\"TOTES\", y=\"Availability\", data=df_week,\n",
    "x_estimator=np.mean, logx=True, line_kws={\"color\": \"red\"})\n",
    "plt.ylim(0,1)"
   ]
  },
  {
   "cell_type": "code",
   "execution_count": null,
   "metadata": {},
   "outputs": [],
   "source": [
    "sns.lmplot(x='log_totes', y='Availability', data=df_week, line_kws={\"color\": \"red\"})\n",
    "plt.xlim(0, 5)"
   ]
  },
  {
   "cell_type": "code",
   "execution_count": null,
   "metadata": {},
   "outputs": [],
   "source": [
    "Shift = [0,0,0,10,10,10,20,20,20]\n",
    "Weights = [[1],[0.7,0.3],[0.7,0.2,0.1],[1],[0.7,0.3],[0.7,0.2,0.1],[1],[0.7,0.3],[0.7,0.2,0.1]]"
   ]
  },
  {
   "cell_type": "code",
   "execution_count": null,
   "metadata": {},
   "outputs": [],
   "source": [
    "Weights[8]"
   ]
  },
  {
   "cell_type": "code",
   "execution_count": null,
   "metadata": {},
   "outputs": [],
   "source": [
    "y"
   ]
  },
  {
   "cell_type": "code",
   "execution_count": null,
   "metadata": {},
   "outputs": [],
   "source": [
    "at"
   ]
  },
  {
   "cell_type": "code",
   "execution_count": null,
   "metadata": {},
   "outputs": [],
   "source": [
    "fa_floor"
   ]
  },
  {
   "cell_type": "code",
   "execution_count": null,
   "metadata": {},
   "outputs": [],
   "source": [
    "df.drop(['Availability','Blue Tote Loss','Grey Tote Loss','timestamp'],axis=1)"
   ]
  },
  {
   "cell_type": "code",
   "execution_count": null,
   "metadata": {},
   "outputs": [],
   "source": [
    "Outputs = {0.5:'Number One',0.4:'Number Two',-1.4:'Number 3'}"
   ]
  },
  {
   "cell_type": "code",
   "execution_count": null,
   "metadata": {},
   "outputs": [],
   "source": [
    " Output = Outputs[max(k for k, v in Outputs.items())]"
   ]
  },
  {
   "cell_type": "code",
   "execution_count": null,
   "metadata": {},
   "outputs": [],
   "source": [
    "Outputs[0.456]='Numbers 4'"
   ]
  },
  {
   "cell_type": "code",
   "execution_count": null,
   "metadata": {
    "scrolled": true
   },
   "outputs": [],
   "source": [
    "Outputs"
   ]
  },
  {
   "cell_type": "code",
   "execution_count": null,
   "metadata": {},
   "outputs": [],
   "source": [
    "print('Selected R2:', max(k for k, v in Outputs.items()))"
   ]
  },
  {
   "cell_type": "code",
   "execution_count": null,
   "metadata": {},
   "outputs": [],
   "source": [
    "fa_floor = feat.floor_shift_time_fa(fa, shift=10)\n",
    "\n",
    "df,fa_PTT = feat.create_PTT_df(fa_floor,at,av,weights=[0.7,0.2,0.1])\n",
    "df = feat.log_totes(df) \n",
    "df_2week = df[df['timestamp']>end_time - pd.to_timedelta(14, unit='D')]\n",
    "X,y = md.gen_feat_var(df_2week,target = 'Availability', features = ['Totes','Faults'])\n",
    "X_train, X_test, y_train, y_test = md.split(X,y,split_options = {'test_size': 0.3,\n",
    "                                                                    'random_state': None})\n",
    "\n",
    "R2_cv,R2_OOS,Coeff = md.run_OLS(X_train = X_train,y_train = y_train,X_test = X_test,y_test=y_test, n = 30)\n",
    "\n",
    "Output = rs.create_output(fa_PTT,Coeff,end_time,speed = speed, picker_present = picker_present, availability = availability)"
   ]
  },
  {
   "cell_type": "code",
   "execution_count": null,
   "metadata": {},
   "outputs": [],
   "source": [
    "R2_OOS"
   ]
  },
  {
   "cell_type": "code",
   "execution_count": null,
   "metadata": {},
   "outputs": [],
   "source": [
    "fa_floor"
   ]
  },
  {
   "cell_type": "code",
   "execution_count": null,
   "metadata": {},
   "outputs": [],
   "source": [
    "print(fa.loc[fa['Area'].isnull() & fa['Desk'] == 'Z', 'Area'])"
   ]
  },
  {
   "cell_type": "code",
   "execution_count": null,
   "metadata": {},
   "outputs": [],
   "source": [
    "fa['Area'].isnull() & fa['Desk'] == 'Z' "
   ]
  },
  {
   "cell_type": "code",
   "execution_count": null,
   "metadata": {},
   "outputs": [],
   "source": [
    "fa"
   ]
  },
  {
   "cell_type": "code",
   "execution_count": null,
   "metadata": {},
   "outputs": [],
   "source": [
    "type(fa)"
   ]
  },
  {
   "cell_type": "code",
   "execution_count": null,
   "metadata": {},
   "outputs": [],
   "source": [
    "from datetime import datetime \n",
    "now = datetime.now()\n",
    "dt_string = now.strftime(\"%d/%m/%Y %H:%M:%S\")"
   ]
  },
  {
   "cell_type": "code",
   "execution_count": null,
   "metadata": {},
   "outputs": [],
   "source": [
    "log = pd.read_excel('C:/Users/Jamie.williams/desktop/scs/Run_log.xlsx')\n",
    "new_row = pd.DataFrame([['dt_string','R2_sel','feat_sel','runtime','report_start','report_end']],columns = list(log.columns))"
   ]
  },
  {
   "cell_type": "code",
   "execution_count": null,
   "metadata": {},
   "outputs": [],
   "source": [
    "new_row"
   ]
  },
  {
   "cell_type": "code",
   "execution_count": null,
   "metadata": {},
   "outputs": [],
   "source": [
    "import time\n",
    "now = datetime.now()\n",
    "time.sleep(2)\n",
    "now2 = datetime.now()\n",
    "now2-now"
   ]
  },
  {
   "cell_type": "code",
   "execution_count": null,
   "metadata": {},
   "outputs": [],
   "source": [
    "'asdsad' +'asddasd'"
   ]
  },
  {
   "cell_type": "code",
   "execution_count": null,
   "metadata": {},
   "outputs": [],
   "source": [
    "fa['timestamp'].max()"
   ]
  },
  {
   "cell_type": "code",
   "execution_count": null,
   "metadata": {},
   "outputs": [],
   "source": [
    "max_date = pd.to_datetime(scs_raw['Entry Time'],dayfirst=True).max()"
   ]
  },
  {
   "cell_type": "code",
   "execution_count": null,
   "metadata": {},
   "outputs": [],
   "source": [
    "max_date2 = pd.to_datetime(fa_old['Entry Time'],dayfirst=True).max()"
   ]
  },
  {
   "cell_type": "code",
   "execution_count": null,
   "metadata": {},
   "outputs": [],
   "source": [
    "Test_time = pd.to_timedelta(48,unit='H')"
   ]
  },
  {
   "cell_type": "code",
   "execution_count": null,
   "metadata": {},
   "outputs": [],
   "source": [
    "Test_time.days"
   ]
  },
  {
   "cell_type": "code",
   "execution_count": null,
   "metadata": {},
   "outputs": [],
   "source": [
    "list(at.columns) == ['Module','TOTES','timestamp','Quadrant']"
   ]
  },
  {
   "cell_type": "code",
   "execution_count": null,
   "metadata": {},
   "outputs": [],
   "source": [
    "at"
   ]
  },
  {
   "cell_type": "code",
   "execution_count": null,
   "metadata": {},
   "outputs": [],
   "source": [
    "d = {'col1': [1, 2], 'col2': [3, 4]}"
   ]
  },
  {
   "cell_type": "code",
   "execution_count": null,
   "metadata": {},
   "outputs": [],
   "source": [
    "av"
   ]
  },
  {
   "cell_type": "code",
   "execution_count": null,
   "metadata": {},
   "outputs": [],
   "source": [
    "av.info()"
   ]
  },
  {
   "cell_type": "code",
   "execution_count": 7,
   "metadata": {},
   "outputs": [
    {
     "ename": "FileNotFoundError",
     "evalue": "[Errno 2] No such file or directory: './cache.csv'",
     "output_type": "error",
     "traceback": [
      "\u001b[1;31m---------------------------------------------------------------------------\u001b[0m",
      "\u001b[1;31mFileNotFoundError\u001b[0m                         Traceback (most recent call last)",
      "\u001b[1;32m<ipython-input-7-3824e9bbe67a>\u001b[0m in \u001b[0;36m<module>\u001b[1;34m\u001b[0m\n\u001b[1;32m----> 1\u001b[1;33m \u001b[0mpd\u001b[0m\u001b[1;33m.\u001b[0m\u001b[0mread_csv\u001b[0m\u001b[1;33m(\u001b[0m\u001b[1;34mr'./cache.csv'\u001b[0m\u001b[1;33m)\u001b[0m\u001b[1;33m\u001b[0m\u001b[1;33m\u001b[0m\u001b[0m\n\u001b[0m",
      "\u001b[1;32m~\\Anaconda3\\lib\\site-packages\\pandas\\io\\parsers.py\u001b[0m in \u001b[0;36mread_csv\u001b[1;34m(filepath_or_buffer, sep, delimiter, header, names, index_col, usecols, squeeze, prefix, mangle_dupe_cols, dtype, engine, converters, true_values, false_values, skipinitialspace, skiprows, skipfooter, nrows, na_values, keep_default_na, na_filter, verbose, skip_blank_lines, parse_dates, infer_datetime_format, keep_date_col, date_parser, dayfirst, cache_dates, iterator, chunksize, compression, thousands, decimal, lineterminator, quotechar, quoting, doublequote, escapechar, comment, encoding, dialect, error_bad_lines, warn_bad_lines, delim_whitespace, low_memory, memory_map, float_precision)\u001b[0m\n\u001b[0;32m    686\u001b[0m     )\n\u001b[0;32m    687\u001b[0m \u001b[1;33m\u001b[0m\u001b[0m\n\u001b[1;32m--> 688\u001b[1;33m     \u001b[1;32mreturn\u001b[0m \u001b[0m_read\u001b[0m\u001b[1;33m(\u001b[0m\u001b[0mfilepath_or_buffer\u001b[0m\u001b[1;33m,\u001b[0m \u001b[0mkwds\u001b[0m\u001b[1;33m)\u001b[0m\u001b[1;33m\u001b[0m\u001b[1;33m\u001b[0m\u001b[0m\n\u001b[0m\u001b[0;32m    689\u001b[0m \u001b[1;33m\u001b[0m\u001b[0m\n\u001b[0;32m    690\u001b[0m \u001b[1;33m\u001b[0m\u001b[0m\n",
      "\u001b[1;32m~\\Anaconda3\\lib\\site-packages\\pandas\\io\\parsers.py\u001b[0m in \u001b[0;36m_read\u001b[1;34m(filepath_or_buffer, kwds)\u001b[0m\n\u001b[0;32m    452\u001b[0m \u001b[1;33m\u001b[0m\u001b[0m\n\u001b[0;32m    453\u001b[0m     \u001b[1;31m# Create the parser.\u001b[0m\u001b[1;33m\u001b[0m\u001b[1;33m\u001b[0m\u001b[1;33m\u001b[0m\u001b[0m\n\u001b[1;32m--> 454\u001b[1;33m     \u001b[0mparser\u001b[0m \u001b[1;33m=\u001b[0m \u001b[0mTextFileReader\u001b[0m\u001b[1;33m(\u001b[0m\u001b[0mfp_or_buf\u001b[0m\u001b[1;33m,\u001b[0m \u001b[1;33m**\u001b[0m\u001b[0mkwds\u001b[0m\u001b[1;33m)\u001b[0m\u001b[1;33m\u001b[0m\u001b[1;33m\u001b[0m\u001b[0m\n\u001b[0m\u001b[0;32m    455\u001b[0m \u001b[1;33m\u001b[0m\u001b[0m\n\u001b[0;32m    456\u001b[0m     \u001b[1;32mif\u001b[0m \u001b[0mchunksize\u001b[0m \u001b[1;32mor\u001b[0m \u001b[0miterator\u001b[0m\u001b[1;33m:\u001b[0m\u001b[1;33m\u001b[0m\u001b[1;33m\u001b[0m\u001b[0m\n",
      "\u001b[1;32m~\\Anaconda3\\lib\\site-packages\\pandas\\io\\parsers.py\u001b[0m in \u001b[0;36m__init__\u001b[1;34m(self, f, engine, **kwds)\u001b[0m\n\u001b[0;32m    946\u001b[0m             \u001b[0mself\u001b[0m\u001b[1;33m.\u001b[0m\u001b[0moptions\u001b[0m\u001b[1;33m[\u001b[0m\u001b[1;34m\"has_index_names\"\u001b[0m\u001b[1;33m]\u001b[0m \u001b[1;33m=\u001b[0m \u001b[0mkwds\u001b[0m\u001b[1;33m[\u001b[0m\u001b[1;34m\"has_index_names\"\u001b[0m\u001b[1;33m]\u001b[0m\u001b[1;33m\u001b[0m\u001b[1;33m\u001b[0m\u001b[0m\n\u001b[0;32m    947\u001b[0m \u001b[1;33m\u001b[0m\u001b[0m\n\u001b[1;32m--> 948\u001b[1;33m         \u001b[0mself\u001b[0m\u001b[1;33m.\u001b[0m\u001b[0m_make_engine\u001b[0m\u001b[1;33m(\u001b[0m\u001b[0mself\u001b[0m\u001b[1;33m.\u001b[0m\u001b[0mengine\u001b[0m\u001b[1;33m)\u001b[0m\u001b[1;33m\u001b[0m\u001b[1;33m\u001b[0m\u001b[0m\n\u001b[0m\u001b[0;32m    949\u001b[0m \u001b[1;33m\u001b[0m\u001b[0m\n\u001b[0;32m    950\u001b[0m     \u001b[1;32mdef\u001b[0m \u001b[0mclose\u001b[0m\u001b[1;33m(\u001b[0m\u001b[0mself\u001b[0m\u001b[1;33m)\u001b[0m\u001b[1;33m:\u001b[0m\u001b[1;33m\u001b[0m\u001b[1;33m\u001b[0m\u001b[0m\n",
      "\u001b[1;32m~\\Anaconda3\\lib\\site-packages\\pandas\\io\\parsers.py\u001b[0m in \u001b[0;36m_make_engine\u001b[1;34m(self, engine)\u001b[0m\n\u001b[0;32m   1178\u001b[0m     \u001b[1;32mdef\u001b[0m \u001b[0m_make_engine\u001b[0m\u001b[1;33m(\u001b[0m\u001b[0mself\u001b[0m\u001b[1;33m,\u001b[0m \u001b[0mengine\u001b[0m\u001b[1;33m=\u001b[0m\u001b[1;34m\"c\"\u001b[0m\u001b[1;33m)\u001b[0m\u001b[1;33m:\u001b[0m\u001b[1;33m\u001b[0m\u001b[1;33m\u001b[0m\u001b[0m\n\u001b[0;32m   1179\u001b[0m         \u001b[1;32mif\u001b[0m \u001b[0mengine\u001b[0m \u001b[1;33m==\u001b[0m \u001b[1;34m\"c\"\u001b[0m\u001b[1;33m:\u001b[0m\u001b[1;33m\u001b[0m\u001b[1;33m\u001b[0m\u001b[0m\n\u001b[1;32m-> 1180\u001b[1;33m             \u001b[0mself\u001b[0m\u001b[1;33m.\u001b[0m\u001b[0m_engine\u001b[0m \u001b[1;33m=\u001b[0m \u001b[0mCParserWrapper\u001b[0m\u001b[1;33m(\u001b[0m\u001b[0mself\u001b[0m\u001b[1;33m.\u001b[0m\u001b[0mf\u001b[0m\u001b[1;33m,\u001b[0m \u001b[1;33m**\u001b[0m\u001b[0mself\u001b[0m\u001b[1;33m.\u001b[0m\u001b[0moptions\u001b[0m\u001b[1;33m)\u001b[0m\u001b[1;33m\u001b[0m\u001b[1;33m\u001b[0m\u001b[0m\n\u001b[0m\u001b[0;32m   1181\u001b[0m         \u001b[1;32melse\u001b[0m\u001b[1;33m:\u001b[0m\u001b[1;33m\u001b[0m\u001b[1;33m\u001b[0m\u001b[0m\n\u001b[0;32m   1182\u001b[0m             \u001b[1;32mif\u001b[0m \u001b[0mengine\u001b[0m \u001b[1;33m==\u001b[0m \u001b[1;34m\"python\"\u001b[0m\u001b[1;33m:\u001b[0m\u001b[1;33m\u001b[0m\u001b[1;33m\u001b[0m\u001b[0m\n",
      "\u001b[1;32m~\\Anaconda3\\lib\\site-packages\\pandas\\io\\parsers.py\u001b[0m in \u001b[0;36m__init__\u001b[1;34m(self, src, **kwds)\u001b[0m\n\u001b[0;32m   2008\u001b[0m         \u001b[0mkwds\u001b[0m\u001b[1;33m[\u001b[0m\u001b[1;34m\"usecols\"\u001b[0m\u001b[1;33m]\u001b[0m \u001b[1;33m=\u001b[0m \u001b[0mself\u001b[0m\u001b[1;33m.\u001b[0m\u001b[0musecols\u001b[0m\u001b[1;33m\u001b[0m\u001b[1;33m\u001b[0m\u001b[0m\n\u001b[0;32m   2009\u001b[0m \u001b[1;33m\u001b[0m\u001b[0m\n\u001b[1;32m-> 2010\u001b[1;33m         \u001b[0mself\u001b[0m\u001b[1;33m.\u001b[0m\u001b[0m_reader\u001b[0m \u001b[1;33m=\u001b[0m \u001b[0mparsers\u001b[0m\u001b[1;33m.\u001b[0m\u001b[0mTextReader\u001b[0m\u001b[1;33m(\u001b[0m\u001b[0msrc\u001b[0m\u001b[1;33m,\u001b[0m \u001b[1;33m**\u001b[0m\u001b[0mkwds\u001b[0m\u001b[1;33m)\u001b[0m\u001b[1;33m\u001b[0m\u001b[1;33m\u001b[0m\u001b[0m\n\u001b[0m\u001b[0;32m   2011\u001b[0m         \u001b[0mself\u001b[0m\u001b[1;33m.\u001b[0m\u001b[0munnamed_cols\u001b[0m \u001b[1;33m=\u001b[0m \u001b[0mself\u001b[0m\u001b[1;33m.\u001b[0m\u001b[0m_reader\u001b[0m\u001b[1;33m.\u001b[0m\u001b[0munnamed_cols\u001b[0m\u001b[1;33m\u001b[0m\u001b[1;33m\u001b[0m\u001b[0m\n\u001b[0;32m   2012\u001b[0m \u001b[1;33m\u001b[0m\u001b[0m\n",
      "\u001b[1;32mpandas\\_libs\\parsers.pyx\u001b[0m in \u001b[0;36mpandas._libs.parsers.TextReader.__cinit__\u001b[1;34m()\u001b[0m\n",
      "\u001b[1;32mpandas\\_libs\\parsers.pyx\u001b[0m in \u001b[0;36mpandas._libs.parsers.TextReader._setup_parser_source\u001b[1;34m()\u001b[0m\n",
      "\u001b[1;31mFileNotFoundError\u001b[0m: [Errno 2] No such file or directory: './cache.csv'"
     ]
    }
   ],
   "source": [
    "pd.read_csv(r'cache.csv')"
   ]
  },
  {
   "cell_type": "code",
   "execution_count": null,
   "metadata": {},
   "outputs": [],
   "source": []
  }
 ],
 "metadata": {
  "kernelspec": {
   "display_name": "Python 3",
   "language": "python",
   "name": "python3"
  },
  "language_info": {
   "codemirror_mode": {
    "name": "ipython",
    "version": 3
   },
   "file_extension": ".py",
   "mimetype": "text/x-python",
   "name": "python",
   "nbconvert_exporter": "python",
   "pygments_lexer": "ipython3",
   "version": "3.8.3"
  }
 },
 "nbformat": 4,
 "nbformat_minor": 4
}
