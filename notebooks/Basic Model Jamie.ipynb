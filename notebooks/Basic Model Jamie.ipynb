{
 "cells": [
  {
   "cell_type": "code",
   "execution_count": 1,
   "metadata": {},
   "outputs": [],
   "source": [
    "import pandas as pd\n",
    "import numpy as np\n",
    "import seaborn as sns\n",
    "import matplotlib.pyplot as plt\n",
    "%matplotlib inline\n",
    "\n",
    "import scsavailability as scs\n",
    "    \n",
    "import statsmodels.api as sm\n",
    "from scipy import stats\n",
    "\n",
    "from scsavailability import features as feat, model as md, plotting as pt, results as rs\n",
    "\n",
    "from sklearn.model_selection import cross_val_score\n",
    "from sklearn.model_selection import KFold\n",
    "from sklearn.linear_model import LinearRegression"
   ]
  },
  {
   "cell_type": "code",
   "execution_count": 2,
   "metadata": {},
   "outputs": [],
   "source": [
    "path = 'C:/Users/Jamie.williams/OneDrive - Newton Europe Ltd/Castle Donnington/Data/'"
   ]
  },
  {
   "cell_type": "code",
   "execution_count": 3,
   "metadata": {},
   "outputs": [],
   "source": [
    "at = pd.read_csv(path+'active_totes_20201210.csv')\n",
    "av = pd.read_csv(path+'Availability_with_Grey&Blue_1811-0912.csv',names = [\"timestamp\",\"Pick Station\",\"Availability\",\"Blue Tote Loss\",\"Grey Tote Loss\"])\n",
    "#fa = pd.read_csv(path + 'scs_tote_matched.csv')\n",
    "scs_raw = pd.read_csv(path + 'Faults20_11-10_12.csv')"
   ]
  },
  {
   "cell_type": "code",
   "execution_count": 5,
   "metadata": {},
   "outputs": [
    {
     "name": "stdout",
     "output_type": "stream",
     "text": [
      "Running: Function \"pre_process_AT\" (id=3131792132272) was called 2 times\n"
     ]
    },
    {
     "name": "stderr",
     "output_type": "stream",
     "text": [
      "2021-01-08 18:52:49,363 - NumExpr defaulting to 8 threads.\n"
     ]
    }
   ],
   "source": [
    "at = feat.pre_process_AT(at)"
   ]
  },
  {
   "cell_type": "code",
   "execution_count": 6,
   "metadata": {},
   "outputs": [
    {
     "name": "stdout",
     "output_type": "stream",
     "text": [
      "Running: Function \"pre_process_av\" (id=3131792133136) was called 1 times\n"
     ]
    }
   ],
   "source": [
    "av = feat.pre_process_av(av)"
   ]
  },
  {
   "cell_type": "code",
   "execution_count": 7,
   "metadata": {},
   "outputs": [
    {
     "name": "stdout",
     "output_type": "stream",
     "text": [
      "Running: Function \"preprocess_faults\" (id=3131792133280) was called 1 times\n",
      "Running: Function \"load_tote_lookup\" (id=3131792133856) was called 1 times\n",
      "Running: Function \"load_module_lookup\" (id=3131789298704) was called 1 times\n",
      "Running: Function \"load_ID_lookup\" (id=3131792130544) was called 1 times\n",
      "duplicated location faults removed - max duration kept\n",
      "HOTFIX: Quadrant only faults, PTT Asset Code update\n"
     ]
    }
   ],
   "source": [
    "fa,unmapped, end_time = feat.preprocess_faults(scs_raw)\n",
    "\n",
    "#fa= fa[fa['timestamp']<(fa['timestamp'].max()-pd.to_timedelta(7, unit='D'))]"
   ]
  },
  {
   "cell_type": "code",
   "execution_count": null,
   "metadata": {},
   "outputs": [],
   "source": [
    "fa_floor = feat.floor_shift_time_fa(fa, shift=0)"
   ]
  },
  {
   "cell_type": "code",
   "execution_count": null,
   "metadata": {},
   "outputs": [],
   "source": [
    "df,fa_PTT = feat.create_PTT_df(fa_floor,at,av,weights = [0.7,0.3],duration_thres=0)\n",
    "\n",
    "df = feat.log_totes(df) "
   ]
  },
  {
   "cell_type": "code",
   "execution_count": null,
   "metadata": {},
   "outputs": [],
   "source": [
    "df_week = df[df['timestamp']>end_time - pd.to_timedelta(14, unit='D')]"
   ]
  },
  {
   "cell_type": "code",
   "execution_count": null,
   "metadata": {},
   "outputs": [],
   "source": [
    "X,y = md.gen_feat_var(df_week,target = 'Availability', features = ['Faults','Totes'])\n"
   ]
  },
  {
   "cell_type": "code",
   "execution_count": null,
   "metadata": {},
   "outputs": [],
   "source": [
    "X_train, X_test, y_train, y_test = md.split(X,y,split_options = {'test_size': 0.3,\n",
    "                                                                 'random_state': None})\n",
    "\n",
    "R2_cv,R2_OOS,Coeff = md.run_OLS(X_train = X_train,y_train = y_train,X_test = X_test,y_test=y_test, n = 10)"
   ]
  },
  {
   "cell_type": "code",
   "execution_count": null,
   "metadata": {},
   "outputs": [],
   "source": [
    "R2_OOS"
   ]
  },
  {
   "cell_type": "code",
   "execution_count": null,
   "metadata": {},
   "outputs": [],
   "source": [
    "Output = rs.create_output(fa_PTT,Coeff,end_time)"
   ]
  },
  {
   "cell_type": "markdown",
   "metadata": {},
   "source": [
    "# Plotting"
   ]
  },
  {
   "cell_type": "code",
   "execution_count": null,
   "metadata": {},
   "outputs": [],
   "source": [
    "Output['Total'] = Output[:][Output.columns[8:]].sum(axis=1)"
   ]
  },
  {
   "cell_type": "code",
   "execution_count": null,
   "metadata": {},
   "outputs": [],
   "source": [
    "Total = Output[['Asset Code','Total']].groupby('Asset Code').sum().reset_index()"
   ]
  },
  {
   "cell_type": "code",
   "execution_count": null,
   "metadata": {
    "scrolled": true
   },
   "outputs": [],
   "source": [
    "plt.figure(figsize=(15,5))\n",
    "sns.barplot(y='Total',x = 'Asset Code',data = Total.sort_values(by='Total',ascending=False).head(10),color = 'r')\n",
    "plt.ylabel('Lost Singles')\n",
    "plt.title('SCS Lost Singles Last 12 Hours')"
   ]
  },
  {
   "cell_type": "code",
   "execution_count": null,
   "metadata": {},
   "outputs": [],
   "source": [
    "PTT081 = Output[['Asset Code','PTT081']].groupby('Asset Code').sum().reset_index()"
   ]
  },
  {
   "cell_type": "code",
   "execution_count": null,
   "metadata": {},
   "outputs": [],
   "source": [
    "plt.figure(figsize=(7,5))\n",
    "sns.barplot(y='PTT081',x = 'Asset Code',data = PTT081.sort_values(by='PTT081',ascending=False).head(5),color = 'r')\n",
    "plt.ylabel('Lost Singles')\n",
    "plt.title('PTT081 Lost Singles Last 12 Hours')"
   ]
  },
  {
   "cell_type": "code",
   "execution_count": null,
   "metadata": {},
   "outputs": [],
   "source": [
    "Total_colour = Output[['Tote Colour','Total']].groupby('Tote Colour').sum().reset_index()"
   ]
  },
  {
   "cell_type": "code",
   "execution_count": null,
   "metadata": {
    "scrolled": true
   },
   "outputs": [],
   "source": [
    "plt.figure(figsize=(5,5))\n",
    "sns.barplot(y='Total',x = 'Tote Colour',data = Total_colour.sort_values(by='Total',ascending=False),color = 'r')\n",
    "plt.ylabel('Lost Singles')\n",
    "plt.title('SCS Lost Singles Last 12 Hours')"
   ]
  },
  {
   "cell_type": "code",
   "execution_count": null,
   "metadata": {},
   "outputs": [],
   "source": [
    "Total_colour"
   ]
  },
  {
   "cell_type": "code",
   "execution_count": null,
   "metadata": {},
   "outputs": [],
   "source": [
    "sns.lmplot(x='log_totes', y='Availability', data=df, line_kws={\"color\": \"red\"})\n",
    "plt.xlim(0, 5)"
   ]
  },
  {
   "cell_type": "code",
   "execution_count": null,
   "metadata": {},
   "outputs": [],
   "source": [
    "sns.lmplot(x='TOTES', y='Availability', data=df_week, line_kws={\"color\": \"red\"})"
   ]
  },
  {
   "cell_type": "code",
   "execution_count": null,
   "metadata": {},
   "outputs": [],
   "source": [
    "ax = sns.regplot(x=\"TOTES\", y=\"Availability\", data=df_week,\n",
    "x_estimator=np.mean, logx=True, line_kws={\"color\": \"red\"})\n",
    "plt.ylim(0,1)"
   ]
  },
  {
   "cell_type": "code",
   "execution_count": null,
   "metadata": {},
   "outputs": [],
   "source": [
    "sns.lmplot(x='log_totes', y='Availability', data=df_week, line_kws={\"color\": \"red\"})\n",
    "plt.xlim(0, 5)"
   ]
  },
  {
   "cell_type": "code",
   "execution_count": null,
   "metadata": {},
   "outputs": [],
   "source": [
    "Shift = [0,0,0,10,10,10,20,20,20]\n",
    "Weights = [[1],[0.7,0.3],[0.7,0.2,0.1],[1],[0.7,0.3],[0.7,0.2,0.1],[1],[0.7,0.3],[0.7,0.2,0.1]]"
   ]
  },
  {
   "cell_type": "code",
   "execution_count": null,
   "metadata": {},
   "outputs": [],
   "source": [
    "Weights[8]"
   ]
  },
  {
   "cell_type": "code",
   "execution_count": null,
   "metadata": {},
   "outputs": [],
   "source": [
    "y"
   ]
  },
  {
   "cell_type": "code",
   "execution_count": null,
   "metadata": {},
   "outputs": [],
   "source": [
    "at"
   ]
  },
  {
   "cell_type": "code",
   "execution_count": null,
   "metadata": {},
   "outputs": [],
   "source": [
    "fa_floor"
   ]
  },
  {
   "cell_type": "code",
   "execution_count": null,
   "metadata": {},
   "outputs": [],
   "source": [
    "df.drop(['Availability','Blue Tote Loss','Grey Tote Loss','timestamp'],axis=1)"
   ]
  },
  {
   "cell_type": "code",
   "execution_count": null,
   "metadata": {},
   "outputs": [],
   "source": [
    "Outputs = {0.5:'Number One',0.4:'Number Two',-1.4:'Number 3'}"
   ]
  },
  {
   "cell_type": "code",
   "execution_count": null,
   "metadata": {},
   "outputs": [],
   "source": [
    " Output = Outputs[max(k for k, v in Outputs.items())]"
   ]
  },
  {
   "cell_type": "code",
   "execution_count": null,
   "metadata": {},
   "outputs": [],
   "source": [
    "Outputs[0.456]='Numbers 4'"
   ]
  },
  {
   "cell_type": "code",
   "execution_count": null,
   "metadata": {
    "scrolled": true
   },
   "outputs": [],
   "source": [
    "Outputs"
   ]
  },
  {
   "cell_type": "code",
   "execution_count": null,
   "metadata": {},
   "outputs": [],
   "source": [
    "print('Selected R2:', max(k for k, v in Outputs.items()))"
   ]
  },
  {
   "cell_type": "code",
   "execution_count": 8,
   "metadata": {},
   "outputs": [
    {
     "name": "stdout",
     "output_type": "stream",
     "text": [
      "Running: Function \"load_PTT_lookup\" (id=3131792132560) was called 1 times\n",
      "Previous Hours Weighted\n",
      "Running: Function \"aggregate_availability\" (id=3131792132992) was called 1 times\n",
      "Running: Function \"load_PTT_lookup\" (id=3131792132560) was called 2 times\n",
      "Previous Hours Weighted\n",
      "Running: Function \"aggregate_availability\" (id=3131792132992) was called 2 times\n",
      "Running: Function \"load_PTT_lookup\" (id=3131792132560) was called 3 times\n",
      "Previous Hours Weighted\n",
      "Running: Function \"aggregate_availability\" (id=3131792132992) was called 3 times\n",
      "Running: Function \"load_PTT_lookup\" (id=3131792132560) was called 4 times\n",
      "Previous Hours Weighted\n",
      "Running: Function \"aggregate_availability\" (id=3131792132992) was called 4 times\n",
      "Running: Function \"load_PTT_lookup\" (id=3131792132560) was called 5 times\n",
      "Previous Hours Weighted\n",
      "Running: Function \"aggregate_availability\" (id=3131792132992) was called 5 times\n",
      "Running: Function \"load_PTT_lookup\" (id=3131792132560) was called 6 times\n",
      "Previous Hours Weighted\n",
      "Running: Function \"aggregate_availability\" (id=3131792132992) was called 6 times\n",
      "Running: Function \"load_PTT_lookup\" (id=3131792132560) was called 7 times\n",
      "Previous Hours Weighted\n",
      "Running: Function \"aggregate_availability\" (id=3131792132992) was called 7 times\n",
      "Running: Function \"load_PTT_lookup\" (id=3131792132560) was called 8 times\n",
      "Previous Hours Weighted\n",
      "Running: Function \"aggregate_availability\" (id=3131792132992) was called 8 times\n",
      "Running: Function \"load_PTT_lookup\" (id=3131792132560) was called 9 times\n",
      "Previous Hours Weighted\n",
      "Running: Function \"aggregate_availability\" (id=3131792132992) was called 9 times\n",
      "Running: Function \"load_PTT_lookup\" (id=3131792132560) was called 10 times\n",
      "Previous Hours Weighted\n",
      "Running: Function \"aggregate_availability\" (id=3131792132992) was called 10 times\n",
      "Running: Function \"load_PTT_lookup\" (id=3131792132560) was called 11 times\n",
      "Previous Hours Weighted\n",
      "Running: Function \"aggregate_availability\" (id=3131792132992) was called 11 times\n",
      "Running: Function \"load_PTT_lookup\" (id=3131792132560) was called 12 times\n",
      "Previous Hours Weighted\n",
      "Running: Function \"aggregate_availability\" (id=3131792132992) was called 12 times\n",
      "Running: Function \"load_PTT_lookup\" (id=3131792132560) was called 13 times\n",
      "Previous Hours Weighted\n",
      "Running: Function \"aggregate_availability\" (id=3131792132992) was called 13 times\n",
      "Running: Function \"load_PTT_lookup\" (id=3131792132560) was called 14 times\n",
      "Previous Hours Weighted\n",
      "Running: Function \"aggregate_availability\" (id=3131792132992) was called 14 times\n",
      "Running: Function \"load_PTT_lookup\" (id=3131792132560) was called 15 times\n",
      "Previous Hours Weighted\n",
      "Running: Function \"aggregate_availability\" (id=3131792132992) was called 15 times\n",
      "Running: Function \"load_PTT_lookup\" (id=3131792132560) was called 16 times\n",
      "Previous Hours Weighted\n",
      "Running: Function \"aggregate_availability\" (id=3131792132992) was called 16 times\n",
      "Running: Function \"load_PTT_lookup\" (id=3131792132560) was called 17 times\n",
      "Previous Hours Weighted\n",
      "Running: Function \"aggregate_availability\" (id=3131792132992) was called 17 times\n",
      "Running: Function \"load_PTT_lookup\" (id=3131792132560) was called 18 times\n",
      "Previous Hours Weighted\n",
      "Running: Function \"aggregate_availability\" (id=3131792132992) was called 18 times\n",
      "Running: Function \"load_PTT_lookup\" (id=3131792132560) was called 19 times\n",
      "Previous Hours Weighted\n",
      "Running: Function \"aggregate_availability\" (id=3131792132992) was called 19 times\n",
      "Running: Function \"load_PTT_lookup\" (id=3131792132560) was called 20 times\n",
      "Previous Hours Weighted\n",
      "Running: Function \"aggregate_availability\" (id=3131792132992) was called 20 times\n",
      "Running: Function \"load_PTT_lookup\" (id=3131792132560) was called 21 times\n",
      "Previous Hours Weighted\n",
      "Running: Function \"aggregate_availability\" (id=3131792132992) was called 21 times\n",
      "Running: Function \"load_PTT_lookup\" (id=3131792132560) was called 22 times\n",
      "Previous Hours Weighted\n",
      "Running: Function \"aggregate_availability\" (id=3131792132992) was called 22 times\n",
      "Running: Function \"load_PTT_lookup\" (id=3131792132560) was called 23 times\n",
      "Previous Hours Weighted\n",
      "Running: Function \"aggregate_availability\" (id=3131792132992) was called 23 times\n",
      "Running: Function \"load_PTT_lookup\" (id=3131792132560) was called 24 times\n",
      "Previous Hours Weighted\n",
      "Running: Function \"aggregate_availability\" (id=3131792132992) was called 24 times\n",
      "Running: Function \"load_PTT_lookup\" (id=3131792132560) was called 25 times\n",
      "Previous Hours Weighted\n",
      "Running: Function \"aggregate_availability\" (id=3131792132992) was called 25 times\n",
      "Running: Function \"load_PTT_lookup\" (id=3131792132560) was called 26 times\n",
      "Previous Hours Weighted\n",
      "Running: Function \"aggregate_availability\" (id=3131792132992) was called 26 times\n",
      "Running: Function \"load_PTT_lookup\" (id=3131792132560) was called 27 times\n",
      "Previous Hours Weighted\n",
      "Running: Function \"aggregate_availability\" (id=3131792132992) was called 27 times\n",
      "Running: Function \"load_PTT_lookup\" (id=3131792132560) was called 28 times\n",
      "Previous Hours Weighted\n",
      "Running: Function \"aggregate_availability\" (id=3131792132992) was called 28 times\n",
      "Running: Function \"load_PTT_lookup\" (id=3131792132560) was called 29 times\n",
      "Previous Hours Weighted\n",
      "Running: Function \"aggregate_availability\" (id=3131792132992) was called 29 times\n",
      "Running: Function \"load_PTT_lookup\" (id=3131792132560) was called 30 times\n",
      "Previous Hours Weighted\n",
      "Running: Function \"aggregate_availability\" (id=3131792132992) was called 30 times\n",
      "Running: Function \"load_PTT_lookup\" (id=3131792132560) was called 31 times\n",
      "Previous Hours Weighted\n",
      "Running: Function \"aggregate_availability\" (id=3131792132992) was called 31 times\n",
      "Running: Function \"load_PTT_lookup\" (id=3131792132560) was called 32 times\n",
      "Previous Hours Weighted\n",
      "Running: Function \"aggregate_availability\" (id=3131792132992) was called 32 times\n",
      "Running: Function \"load_PTT_lookup\" (id=3131792132560) was called 33 times\n",
      "Previous Hours Weighted\n",
      "Running: Function \"aggregate_availability\" (id=3131792132992) was called 33 times\n",
      "Running: Function \"load_PTT_lookup\" (id=3131792132560) was called 34 times\n",
      "Previous Hours Weighted\n",
      "Running: Function \"aggregate_availability\" (id=3131792132992) was called 34 times\n",
      "Running: Function \"load_PTT_lookup\" (id=3131792132560) was called 35 times\n",
      "Previous Hours Weighted\n",
      "Running: Function \"aggregate_availability\" (id=3131792132992) was called 35 times\n",
      "Running: Function \"load_PTT_lookup\" (id=3131792132560) was called 36 times\n",
      "Previous Hours Weighted\n",
      "Running: Function \"aggregate_availability\" (id=3131792132992) was called 36 times\n"
     ]
    },
    {
     "name": "stderr",
     "output_type": "stream",
     "text": [
      "C:\\Users\\Jamie.williams\\Anaconda3\\lib\\site-packages\\statsmodels\\base\\model.py:1362: RuntimeWarning: invalid value encountered in true_divide\n",
      "  return self.params / self.bse\n",
      "C:\\Users\\Jamie.williams\\Anaconda3\\lib\\site-packages\\scipy\\stats\\_distn_infrastructure.py:1932: RuntimeWarning: invalid value encountered in less_equal\n",
      "  cond2 = cond0 & (x <= _a)\n"
     ]
    },
    {
     "name": "stdout",
     "output_type": "stream",
     "text": [
      "\n",
      "Cross Validation Scores: \n",
      " \n",
      "        R2 Scores\n",
      "1       0.527908\n",
      "2       0.499346\n",
      "3       0.338645\n",
      "4       0.532183\n",
      "5       0.517132\n",
      "Mean    0.483043\n",
      "STD     0.073084\n",
      "                                 OLS Regression Results                                \n",
      "=======================================================================================\n",
      "Dep. Variable:           Availability   R-squared (uncentered):                   0.965\n",
      "Model:                            OLS   Adj. R-squared (uncentered):              0.963\n",
      "Method:                 Least Squares   F-statistic:                              690.8\n",
      "Date:                Fri, 08 Jan 2021   Prob (F-statistic):                        0.00\n",
      "Time:                        18:55:47   Log-Likelihood:                          5399.3\n",
      "No. Observations:                8152   AIC:                                 -1.018e+04\n",
      "Df Residuals:                    7843   BIC:                                     -8016.\n",
      "Df Model:                         309                                                  \n",
      "Covariance Type:            nonrobust                                                  \n",
      "===============================================================================\n",
      "                  coef    std err          t      P>|t|      [0.025      0.975]\n",
      "-------------------------------------------------------------------------------\n",
      "C0501STA002     0.0119      0.005      2.248      0.025       0.002       0.022\n",
      "C0501STA012     0.0068      0.003      2.190      0.029       0.001       0.013\n",
      "C0501STA020    -0.0126      0.005     -2.776      0.006      -0.022      -0.004\n",
      "C0501STA201    -0.0171      0.005     -3.669      0.000      -0.026      -0.008\n",
      "C0501STA228    -0.0257      0.008     -3.096      0.002      -0.042      -0.009\n",
      "C0502STA059    -0.0314      0.017     -1.892      0.059      -0.064       0.001\n",
      "C0502STA060    -0.0232      0.010     -2.267      0.023      -0.043      -0.003\n",
      "C0502STA080     0.0507      0.027      1.864      0.062      -0.003       0.104\n",
      "C0503ACH223     0.0044      0.002      2.096      0.036       0.000       0.009\n",
      "C0503ACH234    -0.0052      0.002     -2.798      0.005      -0.009      -0.002\n",
      "C05PTT011      -0.0065      0.002     -3.383      0.001      -0.010      -0.003\n",
      "C0601ACH018     0.0103      0.006      1.622      0.105      -0.002       0.023\n",
      "C0701ACH011    -0.0184      0.009     -2.019      0.044      -0.036      -0.001\n",
      "C0703ACH111    -0.0200      0.007     -2.890      0.004      -0.034      -0.006\n",
      "C0703ACH114    -0.0085      0.005     -1.716      0.086      -0.018       0.001\n",
      "C0703STA102    -0.0043      0.001     -3.441      0.001      -0.007      -0.002\n",
      "C1501RDC232    -0.0023      0.001     -1.698      0.090      -0.005       0.000\n",
      "C1501STA078    -0.0069      0.002     -4.558      0.000      -0.010      -0.004\n",
      "C1502ACH004    -0.0050      0.001     -6.782      0.000      -0.006      -0.004\n",
      "C1502ACH033    -0.0050      0.001     -4.650      0.000      -0.007      -0.003\n",
      "C1502ACH073     0.0081      0.004      2.232      0.026       0.001       0.015\n",
      "C1502ACH244    -0.0705      0.016     -4.489      0.000      -0.101      -0.040\n",
      "C1502ACL011    -0.0124      0.006     -1.914      0.056      -0.025       0.000\n",
      "C1502ACL051     0.0109      0.004      2.752      0.006       0.003       0.019\n",
      "C1502RDC070     0.0198      0.004      5.133      0.000       0.012       0.027\n",
      "C1502RDC075     0.0039      0.001      4.081      0.000       0.002       0.006\n",
      "C1502STA006    -0.0091      0.005     -1.766      0.077      -0.019       0.001\n",
      "C1502STA034     0.0014      0.000      3.036      0.002       0.000       0.002\n",
      "C1502STA038     0.0092      0.005      1.939      0.053      -0.000       0.019\n",
      "C1502STA046    -0.0034      0.001     -4.649      0.000      -0.005      -0.002\n",
      "C1502STA063     0.0074      0.003      2.232      0.026       0.001       0.014\n",
      "C1502STA074     0.0049      0.002      2.172      0.030       0.000       0.009\n",
      "C1502STA237    -0.0169      0.003     -5.314      0.000      -0.023      -0.011\n",
      "C1603ACL052    -0.0423      0.007     -6.325      0.000      -0.055      -0.029\n",
      "C1603ACL075     0.0072      0.002      3.950      0.000       0.004       0.011\n",
      "C1603BCH101    -0.0071      0.002     -4.176      0.000      -0.010      -0.004\n",
      "C1603BCL016    -0.0092      0.003     -2.797      0.005      -0.016      -0.003\n",
      "C1603BCL056     0.0026      0.002      1.690      0.091      -0.000       0.006\n",
      "C1603BCL076    -0.0576      0.020     -2.827      0.005      -0.098      -0.018\n",
      "C1603BCL096     0.0227      0.007      3.460      0.001       0.010       0.036\n",
      "C1603BCL099     0.0408      0.014      3.017      0.003       0.014       0.067\n",
      "C1603BCL151    -0.0111      0.004     -2.861      0.004      -0.019      -0.003\n",
      "C1603RDC035    -0.0022      0.001     -3.230      0.001      -0.004      -0.001\n",
      "C1603RDC058    -0.0063      0.001     -5.964      0.000      -0.008      -0.004\n",
      "C1603RDC095    -0.0099      0.006     -1.718      0.086      -0.021       0.001\n",
      "C1603RDC125    -0.0087      0.003     -2.840      0.005      -0.015      -0.003\n",
      "C1603RDC173    -0.0027      0.001     -4.054      0.000      -0.004      -0.001\n",
      "C1603STA144    -0.0232      0.008     -3.079      0.002      -0.038      -0.008\n",
      "C1603STA155     0.0179      0.009      2.016      0.044       0.000       0.035\n",
      "C1603STA253    -0.0032      0.000    -13.970      0.000      -0.004      -0.003\n",
      "C2301ACH007    -0.0065      0.001     -5.080      0.000      -0.009      -0.004\n",
      "C2301ACH068     0.0065      0.002      3.816      0.000       0.003       0.010\n",
      "C2301ACH096    -0.0317      0.003    -10.006      0.000      -0.038      -0.026\n",
      "C2301ACH212     0.0071      0.003      2.390      0.017       0.001       0.013\n",
      "C2301ACL001    -0.0169      0.004     -4.753      0.000      -0.024      -0.010\n",
      "C2301ACL021    -0.0052      0.003     -1.692      0.091      -0.011       0.001\n",
      "C2301BCL004    -0.0087      0.003     -2.501      0.012      -0.016      -0.002\n",
      "C2301BCL177    -0.0022      0.001     -4.241      0.000      -0.003      -0.001\n",
      "C2301RDC005     0.0017      0.001      1.683      0.092      -0.000       0.004\n",
      "C2301RDC060    -0.0048      0.001     -5.598      0.000      -0.007      -0.003\n",
      "C2301RDC061    -0.0664      0.015     -4.364      0.000      -0.096      -0.037\n",
      "C2301RDC065     0.0057      0.003      2.266      0.023       0.001       0.011\n",
      "C2301RDC182     0.0057      0.002      2.658      0.008       0.001       0.010\n",
      "C2301STA022     0.0158      0.007      2.272      0.023       0.002       0.029\n",
      "C2301STA085    -0.0007      0.000     -2.745      0.006      -0.001      -0.000\n",
      "C2301STA086    -0.0042      0.001     -4.861      0.000      -0.006      -0.002\n",
      "C2301STA211    -0.0037      0.001     -3.816      0.000      -0.006      -0.002\n",
      "C2302ACH009    -0.0066      0.003     -2.090      0.037      -0.013      -0.000\n",
      "C2302ACH069     0.0220      0.007      3.208      0.001       0.009       0.035\n",
      "C2302ACL072    -0.0092      0.003     -3.424      0.001      -0.014      -0.004\n",
      "C2302BCX103     0.0427      0.011      3.827      0.000       0.021       0.065\n",
      "C2302RDC011    -0.0036      0.001     -2.562      0.010      -0.006      -0.001\n",
      "C2302RDC034    -0.0014      0.000     -7.352      0.000      -0.002      -0.001\n",
      "C2302STA014    -0.0013      0.000     -4.097      0.000      -0.002      -0.001\n",
      "C2302STA033     0.0053      0.001      4.346      0.000       0.003       0.008\n",
      "C2303ACH049    -0.0139      0.003     -4.996      0.000      -0.019      -0.008\n",
      "C2303ACH095    -0.0015      0.001     -1.826      0.068      -0.003       0.000\n",
      "C2303ACH117    -0.0111      0.004     -2.861      0.004      -0.019      -0.003\n",
      "C2303ACH218    -0.0099      0.002     -4.834      0.000      -0.014      -0.006\n",
      "C2303ACL016    -0.0038      0.002     -2.010      0.045      -0.008    -9.4e-05\n",
      "C2303ACL136    -0.0145      0.007     -2.060      0.039      -0.028      -0.001\n",
      "C2303BCH220     0.0114      0.003      3.779      0.000       0.005       0.017\n",
      "C2303BCL038     0.1489      0.066      2.267      0.023       0.020       0.278\n",
      "C2303BCL040    -0.0179      0.003     -5.822      0.000      -0.024      -0.012\n",
      "C2303BCL073     0.0303      0.005      6.015      0.000       0.020       0.040\n",
      "C2303BCL074    -0.0053      0.001     -5.693      0.000      -0.007      -0.003\n",
      "C2303BCL151    -0.0042      0.001     -8.324      0.000      -0.005      -0.003\n",
      "C2303BCL157     0.1296      0.065      1.994      0.046       0.002       0.257\n",
      "C2303RDC082     0.0254      0.005      4.884      0.000       0.015       0.036\n",
      "C2303RDC115    -0.0181      0.006     -2.861      0.004      -0.031      -0.006\n",
      "C2303RDC159    -0.0414      0.007     -6.141      0.000      -0.055      -0.028\n",
      "C2303RDC192    -0.1310      0.065     -2.010      0.044      -0.259      -0.003\n",
      "C2303RDC194    -0.1445      0.066     -2.200      0.028      -0.273      -0.016\n",
      "C2303STA152     0.0043      0.002      1.963      0.050    6.53e-06       0.009\n",
      "C2303STA222     0.0087      0.004      2.027      0.043       0.000       0.017\n",
      "SCSM01          0.0012      0.001      1.601      0.109      -0.000       0.003\n",
      "C0601STA005     0.0338      0.013      2.626      0.009       0.009       0.059\n",
      "C0602ACH023    -0.0250      0.011     -2.266      0.024      -0.047      -0.003\n",
      "C0602ACL054    -0.0670      0.033     -2.009      0.045      -0.132      -0.002\n",
      "C0602RDC096     0.0507      0.032      1.586      0.113      -0.012       0.113\n",
      "C0602STA030    -0.0064      0.002     -3.263      0.001      -0.010      -0.003\n",
      "C0602STA032     0.0069      0.002      3.480      0.001       0.003       0.011\n",
      "C0602STA044    -0.0387      0.021     -1.807      0.071      -0.081       0.003\n",
      "C0602STA056    -0.0374      0.012     -3.198      0.001      -0.060      -0.014\n",
      "C0602STA057     0.0406      0.020      2.003      0.045       0.001       0.080\n",
      "C0602STA068     0.0226      0.008      2.909      0.004       0.007       0.038\n",
      "C0602STA082     0.0206      0.008      2.424      0.015       0.004       0.037\n",
      "C0602STA089     0.0190      0.009      2.003      0.045       0.000       0.038\n",
      "SCS022          0.0057      0.002      3.609      0.000       0.003       0.009\n",
      "SCS023          0.0031      0.001      2.118      0.034       0.000       0.006\n",
      "SCSM02         -0.0043      0.001     -3.097      0.002      -0.007      -0.002\n",
      "C0602RDC084    -0.1046      0.045     -2.314      0.021      -0.193      -0.016\n",
      "C06PTT022      -0.0040      0.002     -2.042      0.041      -0.008      -0.000\n",
      "C0604STA124    -0.0374      0.014     -2.701      0.007      -0.065      -0.010\n",
      "C0604STA126    -0.0287      0.010     -2.782      0.005      -0.049      -0.008\n",
      "C0604STA161    -0.1038      0.053     -1.953      0.051      -0.208       0.000\n",
      "C0604STA168     0.0659      0.029      2.248      0.025       0.008       0.123\n",
      "C0604STA172    -0.0134      0.004     -3.177      0.001      -0.022      -0.005\n",
      "C0604STA177    -0.0234      0.009     -2.672      0.008      -0.040      -0.006\n",
      "C0604STA187     0.0124      0.005      2.447      0.014       0.002       0.022\n",
      "C0604STA191    -0.0295      0.011     -2.589      0.010      -0.052      -0.007\n",
      "C06PTT031      -0.0023      0.001     -3.202      0.001      -0.004      -0.001\n",
      "SCS035         -0.0038      0.001     -3.517      0.000      -0.006      -0.002\n",
      "SCS036         -0.0043      0.001     -6.094      0.000      -0.006      -0.003\n",
      "C0604RDC186    -0.2069      0.054     -3.863      0.000      -0.312      -0.102\n",
      "C0702ACL027     0.0551      0.025      2.211      0.027       0.006       0.104\n",
      "C0702STA057    -0.1568      0.039     -4.014      0.000      -0.233      -0.080\n",
      "C0702STA068     0.2157      0.084      2.571      0.010       0.051       0.380\n",
      "C0702STA075    -0.0547      0.024     -2.290      0.022      -0.101      -0.008\n",
      "C0702STA081    -0.0161      0.007     -2.428      0.015      -0.029      -0.003\n",
      "C0702STA082     0.0254      0.012      2.028      0.043       0.001       0.050\n",
      "C0702STA089    -0.0680      0.039     -1.741      0.082      -0.144       0.009\n",
      "C0702STA091     0.0287      0.013      2.189      0.029       0.003       0.054\n",
      "SCS043         -0.0016      0.001     -1.969      0.049      -0.003   -6.88e-06\n",
      "C0702RDC046     0.0418      0.025      1.701      0.089      -0.006       0.090\n",
      "C0702RDC086     0.1148      0.052      2.198      0.028       0.012       0.217\n",
      "C07PTT042      -0.0052      0.002     -3.319      0.001      -0.008      -0.002\n",
      "C0703RDC103    -0.0177      0.006     -3.066      0.002      -0.029      -0.006\n",
      "C0703STA105    -0.0063      0.004     -1.625      0.104      -0.014       0.001\n",
      "C0704RDC136     0.1631      0.073      2.230      0.026       0.020       0.306\n",
      "C0704STA130    -0.0126      0.007     -1.855      0.064      -0.026       0.001\n",
      "C0704STA139     0.0125      0.005      2.497      0.013       0.003       0.022\n",
      "C0704STA144     0.0853      0.022      3.817      0.000       0.042       0.129\n",
      "C0704STA171    -0.0515      0.027     -1.940      0.052      -0.104       0.001\n",
      "C0704STA175     0.1819      0.069      2.637      0.008       0.047       0.317\n",
      "C0704STA176    -0.1886      0.075     -2.506      0.012      -0.336      -0.041\n",
      "SCS052          0.0031      0.001      2.606      0.009       0.001       0.005\n",
      "C0801STA002    -0.0023      0.001     -3.387      0.001      -0.004      -0.001\n",
      "C0802ACL027    -0.0340      0.009     -3.766      0.000      -0.052      -0.016\n",
      "C0802RDC094     0.0361      0.016      2.249      0.025       0.005       0.068\n",
      "C0802STA030    -0.0132      0.007     -1.994      0.046      -0.026      -0.000\n",
      "C0802STA058     0.0289      0.011      2.665      0.008       0.008       0.050\n",
      "C0802STA081    -0.1434      0.064     -2.254      0.024      -0.268      -0.019\n",
      "C0802STA089    -0.1747      0.077     -2.262      0.024      -0.326      -0.023\n",
      "C0802STA091     0.0060      0.002      2.518      0.012       0.001       0.011\n",
      "C0803STA112     0.0042      0.001      4.037      0.000       0.002       0.006\n",
      "C0803STA115    -0.0270      0.010     -2.708      0.007      -0.047      -0.007\n",
      "C08PTT071       0.0069      0.002      3.869      0.000       0.003       0.010\n",
      "C0901STA012    -0.0141      0.005     -2.793      0.005      -0.024      -0.004\n",
      "C0903STA115     0.0353      0.011      3.200      0.001       0.014       0.057\n",
      "C0803STA105    -0.0332      0.015     -2.188      0.029      -0.063      -0.003\n",
      "C0804ACH123    -0.0163      0.006     -2.580      0.010      -0.029      -0.004\n",
      "C0804ACH125     0.0131      0.005      2.662      0.008       0.003       0.023\n",
      "C0804RDC136     0.0088      0.003      3.192      0.001       0.003       0.014\n",
      "C0804STA130    -0.0133      0.002     -7.681      0.000      -0.017      -0.010\n",
      "C0804STA132    -0.0131      0.005     -2.518      0.012      -0.023      -0.003\n",
      "C0804STA141    -0.0173      0.009     -1.929      0.054      -0.035       0.000\n",
      "C0804STA151     0.0064      0.002      3.360      0.001       0.003       0.010\n",
      "C0804STA168    -0.0317      0.013     -2.368      0.018      -0.058      -0.005\n",
      "C0804STA180     0.0181      0.007      2.692      0.007       0.005       0.031\n",
      "C0804STA182    -0.0947      0.019     -4.958      0.000      -0.132      -0.057\n",
      "C0804STA191     0.0276      0.012      2.235      0.025       0.003       0.052\n",
      "C0804STA197    -0.0109      0.005     -2.044      0.041      -0.021      -0.000\n",
      "C08PTT081       0.0031      0.002      1.982      0.048    3.42e-05       0.006\n",
      "SCS082          0.0030      0.001      2.968      0.003       0.001       0.005\n",
      "C0804STA149    -0.0086      0.005     -1.707      0.088      -0.019       0.001\n",
      "C08PTT082      -0.0009      0.000     -2.292      0.022      -0.002      -0.000\n",
      "C0901STA005    -0.0230      0.006     -3.637      0.000      -0.035      -0.011\n",
      "C0902ACL054     0.0070      0.004      2.004      0.045       0.000       0.014\n",
      "C0902STA024     0.0344      0.017      2.078      0.038       0.002       0.067\n",
      "C0902STA026    -0.0253      0.010     -2.416      0.016      -0.046      -0.005\n",
      "C0902STA041     0.0735      0.029      2.565      0.010       0.017       0.130\n",
      "C0902STA057    -0.0435      0.021     -2.051      0.040      -0.085      -0.002\n",
      "C0902STA059     0.0409      0.022      1.839      0.066      -0.003       0.084\n",
      "C0902STA076    -0.0724      0.033     -2.197      0.028      -0.137      -0.008\n",
      "C0902STA097     0.0284      0.013      2.122      0.034       0.002       0.055\n",
      "C09PTT091       0.0033      0.001      2.572      0.010       0.001       0.006\n",
      "SCS093          0.0047      0.003      1.871      0.061      -0.000       0.010\n",
      "SCS096          0.0148      0.007      2.226      0.026       0.002       0.028\n",
      "SCSM09         -0.0040      0.001     -3.864      0.000      -0.006      -0.002\n",
      "C0904STA130     0.0175      0.009      1.987      0.047       0.000       0.035\n",
      "C0904STA139     0.0118      0.006      2.102      0.036       0.001       0.023\n",
      "C0904STA141    -0.0836      0.024     -3.516      0.000      -0.130      -0.037\n",
      "C0904STA156     0.0125      0.003      3.701      0.000       0.006       0.019\n",
      "C0904STA189     0.0240      0.007      3.386      0.001       0.010       0.038\n",
      "C0904STA201    -0.0133      0.009     -1.437      0.151      -0.031       0.005\n",
      "C0904STA206     0.0519      0.015      3.482      0.001       0.023       0.081\n",
      "SCS103          0.0025      0.001      2.307      0.021       0.000       0.005\n",
      "SCS104          0.0079      0.004      1.790      0.073      -0.001       0.017\n",
      "SCS105          0.0029      0.001      2.137      0.033       0.000       0.005\n",
      "C10             0.1519      0.063      2.425      0.015       0.029       0.275\n",
      "C1001ACH019    -0.0179      0.005     -3.590      0.000      -0.028      -0.008\n",
      "C1001RDC203    -0.0740      0.032     -2.284      0.022      -0.138      -0.011\n",
      "C1001STA002    -0.0107      0.005     -2.074      0.038      -0.021      -0.001\n",
      "C1001STA205     0.1270      0.031      4.118      0.000       0.067       0.187\n",
      "C1001STA217     0.0106      0.004      2.510      0.012       0.002       0.019\n",
      "C1001STA230    -0.1707      0.061     -2.790      0.005      -0.291      -0.051\n",
      "C1002ACH079    -0.0253      0.012     -2.154      0.031      -0.048      -0.002\n",
      "C1002ACL028     0.0411      0.023      1.825      0.068      -0.003       0.085\n",
      "C1002STA030    -0.0247      0.010     -2.521      0.012      -0.044      -0.006\n",
      "C1002STA082    -0.0498      0.016     -3.070      0.002      -0.082      -0.018\n",
      "C1002STA097    -0.0102      0.004     -2.301      0.021      -0.019      -0.002\n",
      "C10PTT111      -0.0067      0.003     -2.653      0.008      -0.012      -0.002\n",
      "C1101ACH001    -0.0326      0.010     -3.170      0.002      -0.053      -0.012\n",
      "C1101ACH011     0.0235      0.013      1.837      0.066      -0.002       0.049\n",
      "C1101ACH019    -0.0121      0.006     -1.999      0.046      -0.024      -0.000\n",
      "C1101STA002    -0.0406      0.009     -4.318      0.000      -0.059      -0.022\n",
      "C1103ACH111    -0.0252      0.015     -1.681      0.093      -0.055       0.004\n",
      "C1103ACH119     0.0048      0.002      2.207      0.027       0.001       0.009\n",
      "C1103STA120    -0.0089      0.002     -3.924      0.000      -0.013      -0.004\n",
      "C1201ACH001     0.0126      0.006      2.072      0.038       0.001       0.024\n",
      "C1201ACH019     0.2099      0.100      2.095      0.036       0.013       0.406\n",
      "SCS115         -0.0019      0.001     -2.656      0.008      -0.003      -0.000\n",
      "SCSM11         -0.0013      0.001     -2.290      0.022      -0.002      -0.000\n",
      "C1002STA049     0.0120      0.006      2.170      0.030       0.001       0.023\n",
      "C10PTT112      -0.0124      0.002     -7.112      0.000      -0.016      -0.009\n",
      "C1101STA005    -0.0262      0.008     -3.290      0.001      -0.042      -0.011\n",
      "C1102ACH023     0.0642      0.038      1.703      0.089      -0.010       0.138\n",
      "C1102ACH067    -0.1452      0.042     -3.432      0.001      -0.228      -0.062\n",
      "C1102ACH079     0.0522      0.031      1.676      0.094      -0.009       0.113\n",
      "C1102STA026     0.0038      0.002      1.777      0.076      -0.000       0.008\n",
      "C1102STA077    -0.0034      0.001     -5.260      0.000      -0.005      -0.002\n",
      "C1102STA091    -0.0244      0.012     -1.990      0.047      -0.048      -0.000\n",
      "C11PTT122      -0.0045      0.001     -4.257      0.000      -0.007      -0.002\n",
      "C1104ACH133    -0.0508      0.013     -3.822      0.000      -0.077      -0.025\n",
      "C1104ACH167    -0.0053      0.001     -4.855      0.000      -0.007      -0.003\n",
      "C1104STA130    -0.0392      0.014     -2.882      0.004      -0.066      -0.013\n",
      "C1104STA132     0.1496      0.060      2.498      0.012       0.032       0.267\n",
      "C1104STA134    -0.0878      0.035     -2.517      0.012      -0.156      -0.019\n",
      "C1104STA161    -0.1006      0.040     -2.517      0.012      -0.179      -0.022\n",
      "C1104STA163     0.0977      0.060      1.634      0.102      -0.020       0.215\n",
      "C1104STA165    -0.0207      0.011     -1.936      0.053      -0.042       0.000\n",
      "C1104STA187     0.0379      0.014      2.692      0.007       0.010       0.066\n",
      "C1104STA189    -0.0601      0.021     -2.886      0.004      -0.101      -0.019\n",
      "C1104STA197    -0.0030      0.002     -1.652      0.099      -0.007       0.001\n",
      "SCS133          0.0065      0.003      1.916      0.055      -0.000       0.013\n",
      "C1104RDC184    -0.2137      0.073     -2.937      0.003      -0.356      -0.071\n",
      "C11PTT132      -0.0070      0.001     -5.404      0.000      -0.009      -0.004\n",
      "C1202RDC096     0.3219      0.179      1.800      0.072      -0.029       0.673\n",
      "C1202STA030    -0.0140      0.004     -3.342      0.001      -0.022      -0.006\n",
      "C1202STA070     0.0482      0.017      2.799      0.005       0.014       0.082\n",
      "C1202STA082     0.0241      0.013      1.912      0.056      -0.001       0.049\n",
      "C1202STA092     0.0096      0.003      3.118      0.002       0.004       0.016\n",
      "C12PTT141      -0.0016      0.001     -1.664      0.096      -0.004       0.000\n",
      "SCSM14         -0.0021      0.000     -5.173      0.000      -0.003      -0.001\n",
      "C1204ACL128    -0.0208      0.006     -3.472      0.001      -0.032      -0.009\n",
      "C1204RDC136    -0.0859      0.016     -5.532      0.000      -0.116      -0.055\n",
      "C1204RDC194     0.0875      0.038      2.309      0.021       0.013       0.162\n",
      "C1204STA130    -0.0173      0.007     -2.315      0.021      -0.032      -0.003\n",
      "C1204STA132    -0.0043      0.002     -1.824      0.068      -0.009       0.000\n",
      "C1204STA139     0.0142      0.005      3.026      0.002       0.005       0.023\n",
      "C1204STA191    -0.0307      0.016     -1.912      0.056      -0.062       0.001\n",
      "C1204STA201    -0.0355      0.011     -3.097      0.002      -0.058      -0.013\n",
      "C1204STA203    -0.0198      0.007     -2.853      0.004      -0.033      -0.006\n",
      "SCS153          0.0026      0.001      2.973      0.003       0.001       0.004\n",
      "SCS155          0.0022      0.001      3.135      0.002       0.001       0.004\n",
      "SCS156          0.0025      0.001      2.978      0.003       0.001       0.004\n",
      "C1204ACL145    -0.0501      0.025     -2.016      0.044      -0.099      -0.001\n",
      "C13            -0.0288      0.011     -2.737      0.006      -0.049      -0.008\n",
      "C1301STA005    -0.0344      0.017     -2.072      0.038      -0.067      -0.002\n",
      "C1302ACH055    -0.0186      0.026     -0.717      0.473      -0.069       0.032\n",
      "C1302RDC094    -0.1409      0.067     -2.095      0.036      -0.273      -0.009\n",
      "C1302STA032    -0.0068      0.003     -2.628      0.009      -0.012      -0.002\n",
      "C1302STA051    -0.0091      0.003     -3.058      0.002      -0.015      -0.003\n",
      "C1302STA061     0.0080      0.005      1.572      0.116      -0.002       0.018\n",
      "C1302STA062     0.0655      0.031      2.134      0.033       0.005       0.126\n",
      "C1302STA081     0.0477      0.015      3.215      0.001       0.019       0.077\n",
      "C1303ACH118     0.0293      0.009      3.216      0.001       0.011       0.047\n",
      "C1303STA102    -0.0167      0.005     -3.414      0.001      -0.026      -0.007\n",
      "C1401ACH001    -0.0068      0.003     -2.529      0.011      -0.012      -0.002\n",
      "C1401ACH011    -0.0072      0.004     -1.872      0.061      -0.015       0.000\n",
      "C1401STA015     0.0112      0.006      2.033      0.042       0.000       0.022\n",
      "C1403ACH113    -0.0131      0.007     -2.010      0.044      -0.026      -0.000\n",
      "SCS171         -0.0055      0.002     -2.476      0.013      -0.010      -0.001\n",
      "SCS172         -0.0014      0.001     -1.710      0.087      -0.003       0.000\n",
      "SCS176          0.0023      0.001      2.200      0.028       0.000       0.004\n",
      "C1302STA049    -0.0219      0.006     -3.371      0.001      -0.035      -0.009\n",
      "C13PTT172      -0.0041      0.001     -3.338      0.001      -0.007      -0.002\n",
      "C1304ACH133     0.0403      0.019      2.092      0.036       0.003       0.078\n",
      "C1304STA168     0.1764      0.071      2.483      0.013       0.037       0.316\n",
      "C1304STA191    -0.0152      0.007     -2.133      0.033      -0.029      -0.001\n",
      "C1304STA197    -0.0196      0.011     -1.836      0.066      -0.041       0.001\n",
      "SCS182         -0.0028      0.001     -2.754      0.006      -0.005      -0.001\n",
      "SCS184         -0.0032      0.002     -2.088      0.037      -0.006      -0.000\n",
      "SCSM18          0.0012      0.001      2.304      0.021       0.000       0.002\n",
      "C13PTT182       0.0034      0.002      2.091      0.037       0.000       0.007\n",
      "C1402STA041    -0.0678      0.032     -2.086      0.037      -0.131      -0.004\n",
      "C1402STA077    -0.0299      0.013     -2.221      0.026      -0.056      -0.004\n",
      "C1402STA097    -0.0212      0.009     -2.308      0.021      -0.039      -0.003\n",
      "SCS191          0.0022      0.001      2.071      0.038       0.000       0.004\n",
      "SCS192         -0.0010      0.001     -1.828      0.068      -0.002    7.41e-05\n",
      "C1402STA049     0.0093      0.005      1.858      0.063      -0.001       0.019\n",
      "C14PTT192      -0.0045      0.002     -3.001      0.003      -0.007      -0.002\n",
      "C1404ACH123     0.0576      0.030      1.890      0.059      -0.002       0.117\n",
      "C1404ACH125    -0.0144      0.006     -2.353      0.019      -0.026      -0.002\n",
      "C1404STA157    -0.0571      0.021     -2.726      0.006      -0.098      -0.016\n",
      "C1404STA159  1.701e-18   4.58e-18      0.371      0.710   -7.28e-18    1.07e-17\n",
      "C1404STA163   4.97e-18    4.8e-18      1.035      0.301   -4.44e-18    1.44e-17\n",
      "C1404STA168     0.0178      0.009      1.890      0.059      -0.001       0.036\n",
      "C1404STA174    -0.0742      0.018     -4.186      0.000      -0.109      -0.039\n",
      "C1404STA175          0          0        nan        nan           0           0\n",
      "C1404STA176          0          0        nan        nan           0           0\n",
      "C1404STA181          0          0        nan        nan           0           0\n",
      "C1404STA191     0.0156      0.005      3.029      0.002       0.005       0.026\n",
      "C1404STA201     0.0136      0.006      2.242      0.025       0.002       0.026\n",
      "C1404STA203          0          0        nan        nan           0           0\n",
      "SCS202          0.0034      0.001      2.438      0.015       0.001       0.006\n",
      "SCS205          0.0032      0.001      4.405      0.000       0.002       0.005\n",
      "SCS206          0.0044      0.002      1.839      0.066      -0.000       0.009\n",
      "SCSM20          0.0021      0.001      1.838      0.066      -0.000       0.004\n",
      "C1404RDC146          0          0        nan        nan           0           0\n",
      "log_totes       0.2082      0.002    114.027      0.000       0.205       0.212\n",
      "==============================================================================\n",
      "Omnibus:                      105.533   Durbin-Watson:                   1.995\n",
      "Prob(Omnibus):                  0.000   Jarque-Bera (JB):              118.538\n",
      "Skew:                          -0.236   Prob(JB):                     1.82e-26\n",
      "Kurtosis:                       3.355   Cond. No.                     1.13e+16\n",
      "==============================================================================\n",
      "\n",
      "Warnings:\n",
      "[1] Standard Errors assume that the covariance matrix of the errors is correctly specified.\n",
      "[2] The smallest eigenvalue is 1.77e-26. This might indicate that there are\n",
      "strong multicollinearity problems or that the design matrix is singular.\n",
      "183\n"
     ]
    },
    {
     "name": "stderr",
     "output_type": "stream",
     "text": [
      "C:\\Users\\Jamie.williams\\Anaconda3\\lib\\site-packages\\statsmodels\\base\\model.py:1362: RuntimeWarning: invalid value encountered in true_divide\n",
      "  return self.params / self.bse\n",
      "C:\\Users\\Jamie.williams\\Anaconda3\\lib\\site-packages\\scipy\\stats\\_distn_infrastructure.py:1932: RuntimeWarning: invalid value encountered in less_equal\n",
      "  cond2 = cond0 & (x <= _a)\n"
     ]
    },
    {
     "ename": "NameError",
     "evalue": "name 'speed' is not defined",
     "output_type": "error",
     "traceback": [
      "\u001b[1;31m---------------------------------------------------------------------------\u001b[0m",
      "\u001b[1;31mNameError\u001b[0m                                 Traceback (most recent call last)",
      "\u001b[1;32m<ipython-input-8-761698b3b6ae>\u001b[0m in \u001b[0;36m<module>\u001b[1;34m\u001b[0m\n\u001b[0;32m     10\u001b[0m \u001b[0mR2_cv\u001b[0m\u001b[1;33m,\u001b[0m\u001b[0mR2_OOS\u001b[0m\u001b[1;33m,\u001b[0m\u001b[0mCoeff\u001b[0m \u001b[1;33m=\u001b[0m \u001b[0mmd\u001b[0m\u001b[1;33m.\u001b[0m\u001b[0mrun_OLS\u001b[0m\u001b[1;33m(\u001b[0m\u001b[0mX_train\u001b[0m \u001b[1;33m=\u001b[0m \u001b[0mX_train\u001b[0m\u001b[1;33m,\u001b[0m\u001b[0my_train\u001b[0m \u001b[1;33m=\u001b[0m \u001b[0my_train\u001b[0m\u001b[1;33m,\u001b[0m\u001b[0mX_test\u001b[0m \u001b[1;33m=\u001b[0m \u001b[0mX_test\u001b[0m\u001b[1;33m,\u001b[0m\u001b[0my_test\u001b[0m\u001b[1;33m=\u001b[0m\u001b[0my_test\u001b[0m\u001b[1;33m,\u001b[0m \u001b[0mn\u001b[0m \u001b[1;33m=\u001b[0m \u001b[1;36m30\u001b[0m\u001b[1;33m)\u001b[0m\u001b[1;33m\u001b[0m\u001b[1;33m\u001b[0m\u001b[0m\n\u001b[0;32m     11\u001b[0m \u001b[1;33m\u001b[0m\u001b[0m\n\u001b[1;32m---> 12\u001b[1;33m \u001b[0mOutput\u001b[0m \u001b[1;33m=\u001b[0m \u001b[0mrs\u001b[0m\u001b[1;33m.\u001b[0m\u001b[0mcreate_output\u001b[0m\u001b[1;33m(\u001b[0m\u001b[0mfa_PTT\u001b[0m\u001b[1;33m,\u001b[0m\u001b[0mCoeff\u001b[0m\u001b[1;33m,\u001b[0m\u001b[0mend_time\u001b[0m\u001b[1;33m,\u001b[0m\u001b[0mspeed\u001b[0m \u001b[1;33m=\u001b[0m \u001b[0mspeed\u001b[0m\u001b[1;33m,\u001b[0m \u001b[0mpicker_present\u001b[0m \u001b[1;33m=\u001b[0m \u001b[0mpicker_present\u001b[0m\u001b[1;33m,\u001b[0m \u001b[0mavailability\u001b[0m \u001b[1;33m=\u001b[0m \u001b[0mavailability\u001b[0m\u001b[1;33m)\u001b[0m\u001b[1;33m\u001b[0m\u001b[1;33m\u001b[0m\u001b[0m\n\u001b[0m",
      "\u001b[1;31mNameError\u001b[0m: name 'speed' is not defined"
     ]
    }
   ],
   "source": [
    "fa_floor = feat.floor_shift_time_fa(fa, shift=10)\n",
    "\n",
    "df,fa_PTT = feat.create_PTT_df(fa_floor,at,av,weights=[0.7,0.2,0.1])\n",
    "df = feat.log_totes(df) \n",
    "df_2week = df[df['timestamp']>end_time - pd.to_timedelta(14, unit='D')]\n",
    "X,y = md.gen_feat_var(df_2week,target = 'Availability', features = ['Totes','Faults'])\n",
    "X_train, X_test, y_train, y_test = md.split(X,y,split_options = {'test_size': 0.3,\n",
    "                                                                    'random_state': None})\n",
    "\n",
    "R2_cv,R2_OOS,Coeff = md.run_OLS(X_train = X_train,y_train = y_train,X_test = X_test,y_test=y_test, n = 30)\n",
    "\n",
    "Output = rs.create_output(fa_PTT,Coeff,end_time,speed = speed, picker_present = picker_present, availability = availability)"
   ]
  },
  {
   "cell_type": "code",
   "execution_count": 9,
   "metadata": {},
   "outputs": [
    {
     "data": {
      "text/plain": [
       "0.419371400950143"
      ]
     },
     "execution_count": 9,
     "metadata": {},
     "output_type": "execute_result"
    }
   ],
   "source": [
    "R2_OOS"
   ]
  },
  {
   "cell_type": "code",
   "execution_count": null,
   "metadata": {},
   "outputs": [],
   "source": []
  }
 ],
 "metadata": {
  "kernelspec": {
   "display_name": "Python 3",
   "language": "python",
   "name": "python3"
  },
  "language_info": {
   "codemirror_mode": {
    "name": "ipython",
    "version": 3
   },
   "file_extension": ".py",
   "mimetype": "text/x-python",
   "name": "python",
   "nbconvert_exporter": "python",
   "pygments_lexer": "ipython3",
   "version": "3.8.3"
  }
 },
 "nbformat": 4,
 "nbformat_minor": 4
}
