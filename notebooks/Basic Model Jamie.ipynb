{
 "cells": [
  {
   "cell_type": "code",
   "execution_count": 1,
   "metadata": {},
   "outputs": [
    {
     "name": "stderr",
     "output_type": "stream",
     "text": [
      "2020-12-21 16:44:43,211 - NumExpr defaulting to 8 threads.\n"
     ]
    }
   ],
   "source": [
    "import pandas as pd\n",
    "import numpy as np\n",
    "import seaborn as sns\n",
    "import matplotlib.pyplot as plt\n",
    "%matplotlib inline\n",
    "\n",
    "import scsavailability as scs\n",
    "    \n",
    "import statsmodels.api as sm\n",
    "from scipy import stats\n",
    "\n",
    "from scsavailability import features as feat, model as md, plotting as pt, score as sc\n"
   ]
  },
  {
   "cell_type": "code",
   "execution_count": 2,
   "metadata": {},
   "outputs": [],
   "source": [
    "path = 'C:/Users/Jamie.williams/OneDrive - Newton Europe Ltd/Castle Donnington/Data/'"
   ]
  },
  {
   "cell_type": "code",
   "execution_count": 3,
   "metadata": {},
   "outputs": [],
   "source": [
    "at = pd.read_csv(path+'active_totes_20201210.csv')\n",
    "av = pd.read_csv(path+'Availability_with_Grey&Blue_1811-0912.csv',names = [\"timestamp\",\"Pick Station\",\"Availability\",\"Blue Tote Loss\",\"Grey Tote Loss\"])\n",
    "#fa = pd.read_csv(path + 'scs_tote_matched.csv')\n",
    "scs_raw = pd.read_csv(path + 'Faults20_11-10_12.csv')"
   ]
  },
  {
   "cell_type": "code",
   "execution_count": 4,
   "metadata": {},
   "outputs": [
    {
     "name": "stdout",
     "output_type": "stream",
     "text": [
      "Running: Function \"load_tote_lookup\" (id=1800205648224) was called 1 times\n"
     ]
    }
   ],
   "source": [
    "fa = feat.add_code(scs_raw)\n",
    "fa, unmapped = feat.add_tote_colour(fa)"
   ]
  },
  {
   "cell_type": "code",
   "execution_count": 5,
   "metadata": {},
   "outputs": [
    {
     "name": "stdout",
     "output_type": "stream",
     "text": [
      "Running: Function \"pre_process_AT\" (id=1800205649952) was called 1 times\n"
     ]
    }
   ],
   "source": [
    "at = feat.pre_process_AT(at)"
   ]
  },
  {
   "cell_type": "code",
   "execution_count": 6,
   "metadata": {},
   "outputs": [
    {
     "name": "stdout",
     "output_type": "stream",
     "text": [
      "Running: Function \"pre_process_av\" (id=1800205650816) was called 1 times\n"
     ]
    }
   ],
   "source": [
    "av = feat.pre_process_av(av)"
   ]
  },
  {
   "cell_type": "code",
   "execution_count": 7,
   "metadata": {},
   "outputs": [
    {
     "name": "stdout",
     "output_type": "stream",
     "text": [
      "Running: Function \"preprocess_faults\" (id=1800205649808) was called 1 times\n",
      "Running: Function \"load_module_lookup\" (id=1800205651536) was called 1 times\n",
      "Running: Function \"load_ID_lookup\" (id=1800205650240) was called 1 times\n",
      "duplicated location faults removed - max duration kept\n",
      "HOTFIX: Quadrant only faults, PTT Asset Code update\n"
     ]
    }
   ],
   "source": [
    "fa = feat.preprocess_faults(fa,remove_same_location_faults = True)"
   ]
  },
  {
   "cell_type": "code",
   "execution_count": 17,
   "metadata": {},
   "outputs": [
    {
     "name": "stdout",
     "output_type": "stream",
     "text": [
      "Time shifted by 0Minutes\n"
     ]
    }
   ],
   "source": [
    "fa_floor = feat.floor_shift_time_fa(fa, shift=0)"
   ]
  },
  {
   "cell_type": "code",
   "execution_count": 29,
   "metadata": {},
   "outputs": [],
   "source": [
    "fa_sel = feat.get_data_faults(fa_floor, modules=[1],PTT = 'PTT011')\n",
    "\n",
    "#fa_sel = feat.fault_select(fa_floor, fault_select_options = {'Tote Colour':['Both','Blue','Grey']})\n",
    "                                                            \n",
    "fa_agg = feat.faults_aggregate(fa_sel,fault_agg_level= 'Asset Code', agg_type = 'count')"
   ]
  },
  {
   "cell_type": "code",
   "execution_count": 20,
   "metadata": {},
   "outputs": [
    {
     "name": "stdout",
     "output_type": "stream",
     "text": [
      "Running: Function \"aggregate_availability\" (id=1800205649664) was called 2 times\n"
     ]
    }
   ],
   "source": [
    "av_sel,at_sel = feat.av_at_select(av, at, availability_select_options = None, remove_high_AT = True, AT_limit = None)\n",
    "\n",
    "av_agg = feat.aggregate_availability(av_sel, agg_level ='None')\n",
    "at_agg = feat.aggregate_totes(at_sel, agg_level = 'None')\n",
    "\n",
    "#at_agg = at_agg[at_agg['TOTES']>100]"
   ]
  },
  {
   "cell_type": "code",
   "execution_count": 21,
   "metadata": {},
   "outputs": [],
   "source": [
    "df = feat.merge_av_fa_at(av_agg ,at_df=at_agg, fa_df = fa_agg , agg_level = 'None')"
   ]
  },
  {
   "cell_type": "code",
   "execution_count": 22,
   "metadata": {},
   "outputs": [],
   "source": [
    "X,y = md.gen_feat_var(df,target = 'Blue Tote Loss', features = ['Totes'])\n",
    "y=y"
   ]
  },
  {
   "cell_type": "code",
   "execution_count": 23,
   "metadata": {},
   "outputs": [
    {
     "name": "stdout",
     "output_type": "stream",
     "text": [
      "Feature Importance Ranking: \n",
      " \n",
      "    Importance Feature\n",
      "0         1.0   TOTES\n",
      "\n",
      "Regression Metrics: \n",
      " \n",
      "           RF Metrics\n",
      "MAE         0.039394\n",
      "MSE         0.002611\n",
      "RMSE        0.051093\n",
      "MAPE%      19.470000\n",
      "ACC%       80.530000\n",
      "OOB         0.685620\n",
      "R2_Train    0.956703\n",
      "R2_Pred     0.806781 \n",
      "\n",
      "Feature Importance Ranking: \n",
      " \n",
      "    Importance Feature\n",
      "0         1.0   TOTES\n",
      "\n",
      "Regression Metrics: \n",
      " \n",
      "          XGB Metrics\n",
      "MAE        0.0456736\n",
      "MSE       0.00350109\n",
      "RMSE         0.05917\n",
      "MAPE%          22.57\n",
      "ACC%           77.43\n",
      "OOB              N/A\n",
      "R2_Train     0.98846\n",
      "R2_Pred     0.740865 \n",
      "\n",
      "\n",
      "Number of Selected Features:1 \n",
      "\n",
      "\n",
      "Number of Selected Features:1 \n",
      "\n",
      "\n",
      "Cross Validation Scores LinearRegression(): \n",
      " \n",
      "        R2 Scores\n",
      "1       0.867504\n",
      "2       0.865183\n",
      "3       0.853803\n",
      "4       0.724586\n",
      "5       0.645329\n",
      "6       0.808486\n",
      "7       0.834110\n",
      "8       0.886238\n",
      "9       0.697215\n",
      "10      0.840186\n",
      "Mean    0.802264\n",
      "STD     0.078811\n",
      "\n",
      "Cross Validation Scores RandomForestRegressor(oob_score=True): \n",
      " \n",
      "        R2 Scores\n",
      "1       0.872081\n",
      "2       0.595388\n",
      "3       0.702381\n",
      "4       0.610480\n",
      "5       0.816229\n",
      "6       0.584227\n",
      "7       0.810985\n",
      "8       0.720879\n",
      "9       0.643722\n",
      "10      0.825963\n",
      "Mean    0.718233\n",
      "STD     0.101956\n",
      "\n",
      "Cross Validation Scores XGBRegressor(base_score=0.5, booster='gbtree', colsample_bylevel=1,\n",
      "             colsample_bynode=1, colsample_bytree=1, gamma=0, gpu_id=-1,\n",
      "             importance_type='gain', interaction_constraints='',\n",
      "             learning_rate=0.300000012, max_delta_step=0, max_depth=6,\n",
      "             min_child_weight=1, missing=nan, monotone_constraints='()',\n",
      "             n_estimators=100, n_jobs=0, num_parallel_tree=1, random_state=0,\n",
      "             reg_alpha=0, reg_lambda=1, scale_pos_weight=1, subsample=1,\n",
      "             tree_method='exact', validate_parameters=1, verbosity=None): \n",
      " \n",
      "        R2 Scores\n",
      "1       0.610753\n",
      "2       0.630900\n",
      "3       0.838213\n",
      "4       0.558701\n",
      "5       0.719609\n",
      "6       0.438413\n",
      "7       0.753701\n",
      "8       0.763207\n",
      "9       0.592627\n",
      "10      0.874860\n",
      "Mean    0.678098\n",
      "STD     0.128377\n"
     ]
    }
   ],
   "source": [
    "X_train, X_test, y_train, y_test = md.split(X,y,split_options = {'test_size': 0.3,\n",
    "                                                                 'random_state': None})\n",
    "\n",
    "RF_mdl,predictions_RF=md.run_RF_model(X_train, X_test, y_train, y_test,RF_options = {'num_trees': 100, \n",
    "                                                                                    'criterion': 'mse', \n",
    "                                                                                    'max_depth': None, \n",
    "                                                                                    'dtree': False})\n",
    "\n",
    "Linear_mdl,predictions_LM,Coeff,fit_metrics = md.run_LR_model(X_train, X_test, y_train, y_test)\n",
    "\n",
    "XGB_mdl,predictions_XGB,Importance_XGB = md.run_XGB_model(X_train, X_test, y_train, y_test, XGB_options = {'num_trees': 100,\n",
    "                                                                                                         'max_depth': None})\n",
    "\n",
    "selection_options= {'threshold': -np.inf,\n",
    "                    'max_features': None}\n",
    "\n",
    "X_sel_rf = md.select_features(X, y, RF_mdl, **selection_options)\n",
    "\n",
    "X_sel_lm = md.select_features(X, y, Linear_mdl, **selection_options)\n",
    "\n",
    "#X_sel_XGB = md.select_features(X, y, XGB_mdl, selection_options)\n",
    "\n",
    "X_train, X_test, y_train, y_test = md.split(X_sel_lm,y,split_options = {'test_size': 0.3,\n",
    "                                                                       'random_state': None})\n",
    "\n",
    "Linear_mdl,predictions_LM,Coeff,fit_metrics = md.run_LR_model(X_train, X_test, y_train, y_test)\n",
    "\n",
    "cv_R2 = md.cross_validate_r2(Linear_mdl, X, y)\n",
    "\n",
    "cv_R2 = md.cross_validate_r2(RF_mdl,X, y)\n",
    "\n",
    "cv_R2 = md.cross_validate_r2(XGB_mdl, X, y)"
   ]
  },
  {
   "cell_type": "markdown",
   "metadata": {},
   "source": [
    "### Add LM - metrics"
   ]
  },
  {
   "cell_type": "code",
   "execution_count": 14,
   "metadata": {},
   "outputs": [
    {
     "name": "stderr",
     "output_type": "stream",
     "text": [
      "C:\\Users\\Jamie.williams\\Anaconda3\\lib\\site-packages\\scipy\\stats\\_distn_infrastructure.py:1847: RuntimeWarning: invalid value encountered in greater_equal\n",
      "  cond2 = (x >= np.asarray(_b)) & cond0\n"
     ]
    },
    {
     "data": {
      "text/html": [
       "<div>\n",
       "<style scoped>\n",
       "    .dataframe tbody tr th:only-of-type {\n",
       "        vertical-align: middle;\n",
       "    }\n",
       "\n",
       "    .dataframe tbody tr th {\n",
       "        vertical-align: top;\n",
       "    }\n",
       "\n",
       "    .dataframe thead th {\n",
       "        text-align: right;\n",
       "    }\n",
       "</style>\n",
       "<table border=\"1\" class=\"dataframe\">\n",
       "  <thead>\n",
       "    <tr style=\"text-align: right;\">\n",
       "      <th></th>\n",
       "      <th>Feature</th>\n",
       "      <th>Coefficients</th>\n",
       "      <th>Standard Errors</th>\n",
       "      <th>t values</th>\n",
       "      <th>Probabilities</th>\n",
       "    </tr>\n",
       "  </thead>\n",
       "  <tbody>\n",
       "    <tr>\n",
       "      <th>0</th>\n",
       "      <td>Constant</td>\n",
       "      <td>0.7304</td>\n",
       "      <td>NaN</td>\n",
       "      <td>NaN</td>\n",
       "      <td>NaN</td>\n",
       "    </tr>\n",
       "    <tr>\n",
       "      <th>1</th>\n",
       "      <td>TOTES</td>\n",
       "      <td>-0.0111</td>\n",
       "      <td>NaN</td>\n",
       "      <td>NaN</td>\n",
       "      <td>NaN</td>\n",
       "    </tr>\n",
       "  </tbody>\n",
       "</table>\n",
       "</div>"
      ],
      "text/plain": [
       "    Feature  Coefficients  Standard Errors  t values  Probabilities\n",
       "0  Constant        0.7304              NaN       NaN            NaN\n",
       "1     TOTES       -0.0111              NaN       NaN            NaN"
      ]
     },
     "execution_count": 14,
     "metadata": {},
     "output_type": "execute_result"
    }
   ],
   "source": [
    "sc.lm_coefficients(Linear_mdl, X_test ,y_test)"
   ]
  },
  {
   "cell_type": "code",
   "execution_count": 15,
   "metadata": {},
   "outputs": [
    {
     "name": "stdout",
     "output_type": "stream",
     "text": [
      "                            OLS Regression Results                            \n",
      "==============================================================================\n",
      "Dep. Variable:         Blue Tote Loss   R-squared:                       0.831\n",
      "Model:                            OLS   Adj. R-squared:                  0.830\n",
      "Method:                 Least Squares   F-statistic:                     1616.\n",
      "Date:                Mon, 21 Dec 2020   Prob (F-statistic):          5.22e-129\n",
      "Time:                        16:45:39   Log-Likelihood:                 539.92\n",
      "No. Observations:                 331   AIC:                            -1076.\n",
      "Df Residuals:                     329   BIC:                            -1068.\n",
      "Df Model:                           1                                         \n",
      "Covariance Type:            nonrobust                                         \n",
      "==============================================================================\n",
      "                 coef    std err          t      P>|t|      [0.025      0.975]\n",
      "------------------------------------------------------------------------------\n",
      "const          0.7304      0.012     59.262      0.000       0.706       0.755\n",
      "TOTES         -0.0111      0.000    -40.205      0.000      -0.012      -0.011\n",
      "==============================================================================\n",
      "Omnibus:                       87.549   Durbin-Watson:                   1.746\n",
      "Prob(Omnibus):                  0.000   Jarque-Bera (JB):              354.206\n",
      "Skew:                           1.074   Prob(JB):                     1.22e-77\n",
      "Kurtosis:                       7.590   Cond. No.                         210.\n",
      "==============================================================================\n",
      "\n",
      "Warnings:\n",
      "[1] Standard Errors assume that the covariance matrix of the errors is correctly specified.\n"
     ]
    }
   ],
   "source": [
    "X_train = sm.add_constant(X_train)\n",
    "model = sm.OLS(y_train,X_train)\n",
    "results = model.fit()\n",
    "print(results.summary())\n",
    "\n",
    "X_new = sm.add_constant(X_test)\n",
    "#y_prediction =  results.predict(X_test)\n",
    "\n",
    "# plt.scatter(y_prediction,y_test)\n",
    "\n",
    "# from sklearn.metrics import r2_score\n",
    "# print(r2_score(y_prediction,y_test))"
   ]
  },
  {
   "cell_type": "code",
   "execution_count": 58,
   "metadata": {},
   "outputs": [
    {
     "data": {
      "text/plain": [
       "C0801STA002    335\n",
       "C0803STA112    289\n",
       "C0703STA102     92\n",
       "C1401ACH001     90\n",
       "C0503STA251     87\n",
       "C0501STA012     76\n",
       "C0503STA252     73\n",
       "C0502STA056     62\n",
       "C0801ACH001     61\n",
       "C0704STA201     47\n",
       "C0903ACH113     33\n",
       "C0903STA112     29\n",
       "C0901STA012     28\n",
       "C1003STA251     27\n",
       "C0503ACH234     24\n",
       "C1101ACH001     24\n",
       "C1303STA102     17\n",
       "C1403ACH113     13\n",
       "C1103STA102     13\n",
       "C1101STA012     12\n",
       "C1403STA112     10\n",
       "C1003STA252      9\n",
       "C1401ACH011      8\n",
       "C1301STA002      8\n",
       "C0904STA206      7\n",
       "C0603STA102      7\n",
       "C0901ACH011      7\n",
       "C0503RDC101      6\n",
       "C1203ACH106      6\n",
       "C0701STA002      6\n",
       "C0501STA002      5\n",
       "C1201STA012      5\n",
       "C0703ACH101      5\n",
       "C0503ACH233      4\n",
       "C1201ACH001      4\n",
       "C0801ACH011      4\n",
       "C0704STA206      4\n",
       "C1001STA002      4\n",
       "C1101STA002      3\n",
       "C0803STA102      3\n",
       "C1403STA102      3\n",
       "C0901RDC017      2\n",
       "C1401STA012      2\n",
       "C0701ACH011      2\n",
       "C1203ACH113      2\n",
       "C0901STA015      2\n",
       "C1201ACH011      1\n",
       "C0501ACH011      1\n",
       "C0502ACH055      1\n",
       "C1001STA012      1\n",
       "C1003ACH235      1\n",
       "C1003ACH232      1\n",
       "C0503RDC254      1\n",
       "C1101ACH011      1\n",
       "C0904BCL208      1\n",
       "C1001ACH011      1\n",
       "C0502STA057      1\n",
       "C1303STA112      1\n",
       "C0803ACH106      1\n",
       "Name: Asset Code, dtype: int64"
      ]
     },
     "execution_count": 58,
     "metadata": {},
     "output_type": "execute_result"
    }
   ],
   "source": [
    "fa_Both = fa[fa['Tote Colour']==\"Both\"]\n",
    "fa_Both = fa_Both[fa_Both['Pick Station']==False]\n",
    "fa_Both[fa_Both['Desk']!=\"Z\"]['Asset Code'].value_counts()"
   ]
  },
  {
   "cell_type": "code",
   "execution_count": 70,
   "metadata": {},
   "outputs": [
    {
     "data": {
      "text/plain": [
       "C10: C1002PTT112_047 external unit fault    457\n",
       "C10: C1002PTT111_037 external unit fault    430\n",
       "Name: Alert, dtype: int64"
      ]
     },
     "execution_count": 70,
     "metadata": {},
     "output_type": "execute_result"
    }
   ],
   "source": [
    "fa[fa['Asset Code'].isnull()]['Alert'].value_counts()"
   ]
  },
  {
   "cell_type": "code",
   "execution_count": null,
   "metadata": {},
   "outputs": [],
   "source": []
  }
 ],
 "metadata": {
  "kernelspec": {
   "display_name": "Python 3",
   "language": "python",
   "name": "python3"
  },
  "language_info": {
   "codemirror_mode": {
    "name": "ipython",
    "version": 3
   },
   "file_extension": ".py",
   "mimetype": "text/x-python",
   "name": "python",
   "nbconvert_exporter": "python",
   "pygments_lexer": "ipython3",
   "version": "3.8.3"
  }
 },
 "nbformat": 4,
 "nbformat_minor": 4
}
