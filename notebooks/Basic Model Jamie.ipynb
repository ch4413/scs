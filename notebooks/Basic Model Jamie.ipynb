{
 "cells": [
  {
   "cell_type": "code",
   "execution_count": 1,
   "metadata": {},
   "outputs": [],
   "source": [
    "import pandas as pd\n",
    "import numpy as np\n",
    "import seaborn as sns\n",
    "import matplotlib.pyplot as plt\n",
    "%matplotlib inline\n",
    "\n",
    "import scsavailability as scs\n",
    "    \n",
    "import statsmodels.api as sm\n",
    "from scipy import stats\n",
    "\n",
    "from scsavailability import features as feat, model as md, plotting as pt, results as rs\n",
    "\n",
    "from sklearn.model_selection import cross_val_score\n",
    "from sklearn.model_selection import KFold\n",
    "from sklearn.linear_model import LinearRegression"
   ]
  },
  {
   "cell_type": "code",
   "execution_count": 2,
   "metadata": {},
   "outputs": [],
   "source": [
    "path = 'C:/Users/Jamie.williams/OneDrive - Newton Europe Ltd/Castle Donnington/Data/'"
   ]
  },
  {
   "cell_type": "code",
   "execution_count": 3,
   "metadata": {},
   "outputs": [],
   "source": [
    "at = pd.read_csv(path+'active_totes_20201210.csv')\n",
    "av = pd.read_csv(path+'Availability_with_Grey&Blue_1811-0912.csv',names = [\"timestamp\",\"Pick Station\",\"Availability\",\"Blue Tote Loss\",\"Grey Tote Loss\"])\n",
    "#fa = pd.read_csv(path + 'scs_tote_matched.csv')\n",
    "scs_raw = pd.read_csv(path + 'Faults20_11-10_12.csv')"
   ]
  },
  {
   "cell_type": "code",
   "execution_count": 4,
   "metadata": {},
   "outputs": [
    {
     "name": "stdout",
     "output_type": "stream",
     "text": [
      "Running: Function \"pre_process_AT\" (id=2250218506272) was called 1 times\n"
     ]
    },
    {
     "name": "stderr",
     "output_type": "stream",
     "text": [
      "2021-01-05 18:38:27,436 - NumExpr defaulting to 8 threads.\n"
     ]
    }
   ],
   "source": [
    "at = feat.pre_process_AT(at)"
   ]
  },
  {
   "cell_type": "code",
   "execution_count": 5,
   "metadata": {},
   "outputs": [
    {
     "name": "stdout",
     "output_type": "stream",
     "text": [
      "Running: Function \"pre_process_av\" (id=2250218507136) was called 1 times\n"
     ]
    }
   ],
   "source": [
    "av = feat.pre_process_av(av)"
   ]
  },
  {
   "cell_type": "code",
   "execution_count": 14,
   "metadata": {},
   "outputs": [
    {
     "name": "stdout",
     "output_type": "stream",
     "text": [
      "Running: Function \"preprocess_faults\" (id=2250218506128) was called 2 times\n",
      "Running: Function \"load_tote_lookup\" (id=2250218507856) was called 2 times\n",
      "Running: Function \"load_module_lookup\" (id=2250215668608) was called 2 times\n",
      "Running: Function \"load_ID_lookup\" (id=2250218504544) was called 2 times\n",
      "duplicated location faults removed - max duration kept\n",
      "HOTFIX: Quadrant only faults, PTT Asset Code update\n"
     ]
    }
   ],
   "source": [
    "fa,unmapped, end_time = feat.preprocess_faults(scs_raw,remove_same_location_faults = True)"
   ]
  },
  {
   "cell_type": "code",
   "execution_count": 15,
   "metadata": {},
   "outputs": [
    {
     "name": "stderr",
     "output_type": "stream",
     "text": [
      "C:\\Users\\Jamie.williams\\Anaconda3\\lib\\site-packages\\scsavailability\\features.py:294: SettingWithCopyWarning: \n",
      "A value is trying to be set on a copy of a slice from a DataFrame\n",
      "\n",
      "See the caveats in the documentation: https://pandas.pydata.org/pandas-docs/stable/user_guide/indexing.html#returning-a-view-versus-a-copy\n",
      "  fa_floor['Duration'][i] = fa_floor['Time Left'][i]\n",
      "C:\\Users\\Jamie.williams\\Anaconda3\\lib\\site-packages\\scsavailability\\features.py:295: SettingWithCopyWarning: \n",
      "A value is trying to be set on a copy of a slice from a DataFrame\n",
      "\n",
      "See the caveats in the documentation: https://pandas.pydata.org/pandas-docs/stable/user_guide/indexing.html#returning-a-view-versus-a-copy\n",
      "  fa_floor['Duration'][i+1] = fa_floor['Duration'][i+1] - fa_floor['Duration'][i]\n",
      "C:\\Users\\Jamie.williams\\Anaconda3\\lib\\site-packages\\scsavailability\\features.py:291: SettingWithCopyWarning: \n",
      "A value is trying to be set on a copy of a slice from a DataFrame\n",
      "\n",
      "See the caveats in the documentation: https://pandas.pydata.org/pandas-docs/stable/user_guide/indexing.html#returning-a-view-versus-a-copy\n",
      "  fa_floor['Original_timestamp'][i] = fa_floor['Original_timestamp'][i].floor('H')\n",
      "C:\\Users\\Jamie.williams\\Anaconda3\\lib\\site-packages\\scsavailability\\features.py:298: SettingWithCopyWarning: \n",
      "A value is trying to be set on a copy of a slice from a DataFrame\n",
      "\n",
      "See the caveats in the documentation: https://pandas.pydata.org/pandas-docs/stable/user_guide/indexing.html#returning-a-view-versus-a-copy\n",
      "  fa_floor['Duration'][i+1] = fa_floor['Duration'][i] - 3600\n",
      "C:\\Users\\Jamie.williams\\Anaconda3\\lib\\site-packages\\scsavailability\\features.py:299: SettingWithCopyWarning: \n",
      "A value is trying to be set on a copy of a slice from a DataFrame\n",
      "\n",
      "See the caveats in the documentation: https://pandas.pydata.org/pandas-docs/stable/user_guide/indexing.html#returning-a-view-versus-a-copy\n",
      "  fa_floor['Duration'][i] =3600\n"
     ]
    }
   ],
   "source": [
    "fa_floor = feat.floor_shift_time_fa(fa, shift=15)"
   ]
  },
  {
   "cell_type": "code",
   "execution_count": 16,
   "metadata": {},
   "outputs": [
    {
     "name": "stdout",
     "output_type": "stream",
     "text": [
      "Running: Function \"load_PTT_lookup\" (id=2250218506560) was called 37 times\n",
      "Previous Hours Weighted\n",
      "Running: Function \"aggregate_availability\" (id=2250218505984) was called 37 times\n",
      "Running: Function \"load_PTT_lookup\" (id=2250218506560) was called 38 times\n",
      "Previous Hours Weighted\n",
      "Running: Function \"aggregate_availability\" (id=2250218505984) was called 38 times\n",
      "Running: Function \"load_PTT_lookup\" (id=2250218506560) was called 39 times\n",
      "Previous Hours Weighted\n",
      "Running: Function \"aggregate_availability\" (id=2250218505984) was called 39 times\n",
      "Running: Function \"load_PTT_lookup\" (id=2250218506560) was called 40 times\n",
      "Previous Hours Weighted\n",
      "Running: Function \"aggregate_availability\" (id=2250218505984) was called 40 times\n",
      "Running: Function \"load_PTT_lookup\" (id=2250218506560) was called 41 times\n",
      "Previous Hours Weighted\n",
      "Running: Function \"aggregate_availability\" (id=2250218505984) was called 41 times\n",
      "Running: Function \"load_PTT_lookup\" (id=2250218506560) was called 42 times\n",
      "Previous Hours Weighted\n",
      "Running: Function \"aggregate_availability\" (id=2250218505984) was called 42 times\n",
      "Running: Function \"load_PTT_lookup\" (id=2250218506560) was called 43 times\n",
      "Previous Hours Weighted\n",
      "Running: Function \"aggregate_availability\" (id=2250218505984) was called 43 times\n",
      "Running: Function \"load_PTT_lookup\" (id=2250218506560) was called 44 times\n",
      "Previous Hours Weighted\n",
      "Running: Function \"aggregate_availability\" (id=2250218505984) was called 44 times\n",
      "Running: Function \"load_PTT_lookup\" (id=2250218506560) was called 45 times\n",
      "Previous Hours Weighted\n",
      "Running: Function \"aggregate_availability\" (id=2250218505984) was called 45 times\n",
      "Running: Function \"load_PTT_lookup\" (id=2250218506560) was called 46 times\n",
      "Previous Hours Weighted\n",
      "Running: Function \"aggregate_availability\" (id=2250218505984) was called 46 times\n",
      "Running: Function \"load_PTT_lookup\" (id=2250218506560) was called 47 times\n",
      "Previous Hours Weighted\n",
      "Running: Function \"aggregate_availability\" (id=2250218505984) was called 47 times\n",
      "Running: Function \"load_PTT_lookup\" (id=2250218506560) was called 48 times\n",
      "Previous Hours Weighted\n",
      "Running: Function \"aggregate_availability\" (id=2250218505984) was called 48 times\n",
      "Running: Function \"load_PTT_lookup\" (id=2250218506560) was called 49 times\n",
      "Previous Hours Weighted\n",
      "Running: Function \"aggregate_availability\" (id=2250218505984) was called 49 times\n",
      "Running: Function \"load_PTT_lookup\" (id=2250218506560) was called 50 times\n",
      "Previous Hours Weighted\n",
      "Running: Function \"aggregate_availability\" (id=2250218505984) was called 50 times\n",
      "Running: Function \"load_PTT_lookup\" (id=2250218506560) was called 51 times\n",
      "Previous Hours Weighted\n",
      "Running: Function \"aggregate_availability\" (id=2250218505984) was called 51 times\n",
      "Running: Function \"load_PTT_lookup\" (id=2250218506560) was called 52 times\n",
      "Previous Hours Weighted\n",
      "Running: Function \"aggregate_availability\" (id=2250218505984) was called 52 times\n",
      "Running: Function \"load_PTT_lookup\" (id=2250218506560) was called 53 times\n",
      "Previous Hours Weighted\n",
      "Running: Function \"aggregate_availability\" (id=2250218505984) was called 53 times\n",
      "Running: Function \"load_PTT_lookup\" (id=2250218506560) was called 54 times\n",
      "Previous Hours Weighted\n",
      "Running: Function \"aggregate_availability\" (id=2250218505984) was called 54 times\n",
      "Running: Function \"load_PTT_lookup\" (id=2250218506560) was called 55 times\n",
      "Previous Hours Weighted\n",
      "Running: Function \"aggregate_availability\" (id=2250218505984) was called 55 times\n",
      "Running: Function \"load_PTT_lookup\" (id=2250218506560) was called 56 times\n",
      "Previous Hours Weighted\n",
      "Running: Function \"aggregate_availability\" (id=2250218505984) was called 56 times\n",
      "Running: Function \"load_PTT_lookup\" (id=2250218506560) was called 57 times\n",
      "Previous Hours Weighted\n",
      "Running: Function \"aggregate_availability\" (id=2250218505984) was called 57 times\n",
      "Running: Function \"load_PTT_lookup\" (id=2250218506560) was called 58 times\n",
      "Previous Hours Weighted\n",
      "Running: Function \"aggregate_availability\" (id=2250218505984) was called 58 times\n",
      "Running: Function \"load_PTT_lookup\" (id=2250218506560) was called 59 times\n",
      "Previous Hours Weighted\n",
      "Running: Function \"aggregate_availability\" (id=2250218505984) was called 59 times\n",
      "Running: Function \"load_PTT_lookup\" (id=2250218506560) was called 60 times\n",
      "Previous Hours Weighted\n",
      "Running: Function \"aggregate_availability\" (id=2250218505984) was called 60 times\n",
      "Running: Function \"load_PTT_lookup\" (id=2250218506560) was called 61 times\n",
      "Previous Hours Weighted\n",
      "Running: Function \"aggregate_availability\" (id=2250218505984) was called 61 times\n",
      "Running: Function \"load_PTT_lookup\" (id=2250218506560) was called 62 times\n",
      "Previous Hours Weighted\n",
      "Running: Function \"aggregate_availability\" (id=2250218505984) was called 62 times\n",
      "Running: Function \"load_PTT_lookup\" (id=2250218506560) was called 63 times\n",
      "Previous Hours Weighted\n",
      "Running: Function \"aggregate_availability\" (id=2250218505984) was called 63 times\n",
      "Running: Function \"load_PTT_lookup\" (id=2250218506560) was called 64 times\n",
      "Previous Hours Weighted\n",
      "Running: Function \"aggregate_availability\" (id=2250218505984) was called 64 times\n",
      "Running: Function \"load_PTT_lookup\" (id=2250218506560) was called 65 times\n",
      "Previous Hours Weighted\n",
      "Running: Function \"aggregate_availability\" (id=2250218505984) was called 65 times\n",
      "Running: Function \"load_PTT_lookup\" (id=2250218506560) was called 66 times\n",
      "Previous Hours Weighted\n",
      "Running: Function \"aggregate_availability\" (id=2250218505984) was called 66 times\n",
      "Running: Function \"load_PTT_lookup\" (id=2250218506560) was called 67 times\n",
      "Previous Hours Weighted\n",
      "Running: Function \"aggregate_availability\" (id=2250218505984) was called 67 times\n",
      "Running: Function \"load_PTT_lookup\" (id=2250218506560) was called 68 times\n",
      "Previous Hours Weighted\n",
      "Running: Function \"aggregate_availability\" (id=2250218505984) was called 68 times\n",
      "Running: Function \"load_PTT_lookup\" (id=2250218506560) was called 69 times\n",
      "Previous Hours Weighted\n",
      "Running: Function \"aggregate_availability\" (id=2250218505984) was called 69 times\n",
      "Running: Function \"load_PTT_lookup\" (id=2250218506560) was called 70 times\n",
      "Previous Hours Weighted\n",
      "Running: Function \"aggregate_availability\" (id=2250218505984) was called 70 times\n",
      "Running: Function \"load_PTT_lookup\" (id=2250218506560) was called 71 times\n",
      "Previous Hours Weighted\n",
      "Running: Function \"aggregate_availability\" (id=2250218505984) was called 71 times\n",
      "Running: Function \"load_PTT_lookup\" (id=2250218506560) was called 72 times\n",
      "Previous Hours Weighted\n",
      "Running: Function \"aggregate_availability\" (id=2250218505984) was called 72 times\n"
     ]
    },
    {
     "name": "stderr",
     "output_type": "stream",
     "text": [
      "C:\\Users\\Jamie.williams\\Anaconda3\\lib\\site-packages\\scsavailability\\features.py:704: SettingWithCopyWarning: \n",
      "A value is trying to be set on a copy of a slice from a DataFrame.\n",
      "Try using .loc[row_indexer,col_indexer] = value instead\n",
      "\n",
      "See the caveats in the documentation: https://pandas.pydata.org/pandas-docs/stable/user_guide/indexing.html#returning-a-view-versus-a-copy\n",
      "  df['log_totes'] = np.log(df['TOTES'])\n"
     ]
    }
   ],
   "source": [
    "df,fa_PTT = feat.create_PTT_df(fa_floor,at,av)\n",
    "\n",
    "df = feat.log_totes(df) "
   ]
  },
  {
   "cell_type": "code",
   "execution_count": 17,
   "metadata": {},
   "outputs": [],
   "source": [
    "df_week = df[df['timestamp']>end_time - pd.to_timedelta(14, unit='D')]"
   ]
  },
  {
   "cell_type": "code",
   "execution_count": 18,
   "metadata": {},
   "outputs": [],
   "source": [
    "X,y = md.gen_feat_var(df_week,target = 'Availability', features = ['Faults','Totes'])\n"
   ]
  },
  {
   "cell_type": "code",
   "execution_count": 19,
   "metadata": {},
   "outputs": [
    {
     "name": "stderr",
     "output_type": "stream",
     "text": [
      "C:\\Users\\Jamie.williams\\Anaconda3\\lib\\site-packages\\statsmodels\\base\\model.py:1362: RuntimeWarning: invalid value encountered in true_divide\n",
      "  return self.params / self.bse\n",
      "C:\\Users\\Jamie.williams\\Anaconda3\\lib\\site-packages\\scipy\\stats\\_distn_infrastructure.py:1932: RuntimeWarning: invalid value encountered in less_equal\n",
      "  cond2 = cond0 & (x <= _a)\n"
     ]
    },
    {
     "name": "stdout",
     "output_type": "stream",
     "text": [
      "\n",
      "Cross Validation Scores: \n",
      " \n",
      "        R2 Scores\n",
      "1       0.455477\n",
      "2       0.519002\n",
      "3       0.479313\n",
      "4       0.430159\n",
      "5       0.523638\n",
      "Mean    0.481518\n",
      "STD     0.036055\n",
      "232\n",
      "                                 OLS Regression Results                                \n",
      "=======================================================================================\n",
      "Dep. Variable:           Availability   R-squared (uncentered):                   0.960\n",
      "Model:                            OLS   Adj. R-squared (uncentered):              0.959\n",
      "Method:                 Least Squares   F-statistic:                              862.4\n",
      "Date:                Tue, 05 Jan 2021   Prob (F-statistic):                        0.00\n",
      "Time:                        18:44:42   Log-Likelihood:                          4908.5\n",
      "No. Observations:                8152   AIC:                                     -9373.\n",
      "Df Residuals:                    7930   BIC:                                     -7818.\n",
      "Df Model:                         222                                                  \n",
      "Covariance Type:            nonrobust                                                  \n",
      "===============================================================================\n",
      "                  coef    std err          t      P>|t|      [0.025      0.975]\n",
      "-------------------------------------------------------------------------------\n",
      "C0501STA228    -0.0002   5.79e-05     -2.953      0.003      -0.000   -5.75e-05\n",
      "C0502STA030    -0.0002      0.000     -2.272      0.023      -0.000   -3.14e-05\n",
      "C0502STA072    -0.0003      0.000     -2.172      0.030      -0.001   -2.72e-05\n",
      "C0502STA073 -1.509e-06   6.95e-07     -2.172      0.030   -2.87e-06   -1.47e-07\n",
      "C0502STA074    -0.0701      0.032     -2.193      0.028      -0.133      -0.007\n",
      "C0502STA089    -0.0009      0.000     -2.870      0.004      -0.002      -0.000\n",
      "C0503ACH223  4.904e-05   2.42e-05      2.024      0.043    1.55e-06    9.65e-05\n",
      "C0603STA120    -0.0009      0.000     -2.410      0.016      -0.002      -0.000\n",
      "C0701STA002    -0.0001    5.8e-05     -1.974      0.048      -0.000   -7.89e-07\n",
      "C0703STA102  -8.07e-05   2.12e-05     -3.801      0.000      -0.000   -3.91e-05\n",
      "C1501BCL223  2.183e-05   7.41e-06      2.944      0.003     7.3e-06    3.64e-05\n",
      "C1501BCL231 -4.201e-05   1.19e-05     -3.542      0.000   -6.53e-05   -1.88e-05\n",
      "C1501RDC224    -0.0037      0.001     -4.778      0.000      -0.005      -0.002\n",
      "C1501RDC232  -1.23e-05      5e-06     -2.460      0.014   -2.21e-05    -2.5e-06\n",
      "C1501STA078 -1.974e-05   5.34e-06     -3.698      0.000   -3.02e-05   -9.28e-06\n",
      "C1502ACH004    -0.0002   2.42e-05     -7.251      0.000      -0.000      -0.000\n",
      "C1502ACH005     0.0005      0.000      2.032      0.042    1.74e-05       0.001\n",
      "C1502ACH033 -7.116e-05   1.75e-05     -4.076      0.000      -0.000   -3.69e-05\n",
      "C1502ACH061    -0.0002   8.73e-05     -2.593      0.010      -0.000   -5.52e-05\n",
      "C1502ACL011    -0.0002   6.51e-05     -2.434      0.015      -0.000   -3.08e-05\n",
      "C1502RDC013     0.0001   3.06e-05      3.957      0.000    6.11e-05       0.000\n",
      "C1502RDC035     0.0001   2.45e-05      4.917      0.000    7.24e-05       0.000\n",
      "C1502RDC064     0.0007      0.000      2.590      0.010       0.000       0.001\n",
      "C1502RDC070     0.0004      0.000      1.889      0.059   -1.58e-05       0.001\n",
      "C1502RDC242    -0.0001   7.41e-05     -1.879      0.060      -0.000    6.06e-06\n",
      "C1502STA006    -0.0036      0.001     -4.443      0.000      -0.005      -0.002\n",
      "C1502STA023    -0.0007      0.000     -2.918      0.004      -0.001      -0.000\n",
      "C1502STA046 -5.887e-05   2.53e-05     -2.326      0.020      -0.000   -9.27e-06\n",
      "C1502STA238     0.0002   4.81e-05      4.335      0.000       0.000       0.000\n",
      "C1502STA241    -0.0002      0.000     -1.879      0.060      -0.000    8.47e-06\n",
      "C1603ACH100 -4.013e-05   1.11e-05     -3.630      0.000   -6.18e-05   -1.85e-05\n",
      "C1603ACL052    -0.0013      0.000     -2.872      0.004      -0.002      -0.000\n",
      "C1603BCH101 -2.931e-05   9.96e-06     -2.941      0.003   -4.88e-05   -9.77e-06\n",
      "C1603BCL054  3.834e-05   1.33e-05      2.886      0.004    1.23e-05    6.44e-05\n",
      "C1603BCL076    -0.0084      0.004     -2.320      0.020      -0.015      -0.001\n",
      "C1603RDC012     0.0004      0.000      2.050      0.040    1.85e-05       0.001\n",
      "C1603RDC058  -7.41e-05   1.64e-05     -4.517      0.000      -0.000   -4.19e-05\n",
      "C1603RDC095    -0.0012      0.000     -3.824      0.000      -0.002      -0.001\n",
      "C1603RDC104  7.864e-05   2.67e-05      2.948      0.003    2.63e-05       0.000\n",
      "C1603RDC162    -0.0004      0.000     -3.777      0.000      -0.001      -0.000\n",
      "C1603RDC172     0.0005      0.000      1.748      0.080   -5.84e-05       0.001\n",
      "C1603RDC173 -9.033e-05   1.93e-05     -4.692      0.000      -0.000   -5.26e-05\n",
      "C1603RDC254 -3.991e-05   5.44e-06     -7.332      0.000   -5.06e-05   -2.92e-05\n",
      "C1603STA155     0.0013      0.000      2.885      0.004       0.000       0.002\n",
      "C1603STA253 -8.024e-05   1.37e-05     -5.863      0.000      -0.000   -5.34e-05\n",
      "C2301ACH007     0.0001   3.89e-05      2.797      0.005    3.26e-05       0.000\n",
      "C2301ACH068  1.403e-05   5.45e-06      2.573      0.010    3.34e-06    2.47e-05\n",
      "C2301ACH083 -6.044e-05   1.39e-05     -4.352      0.000   -8.77e-05   -3.32e-05\n",
      "C2301ACH096    -0.0003   4.92e-05     -6.293      0.000      -0.000      -0.000\n",
      "C2301ACL001    -0.0002      0.000     -2.123      0.034      -0.000   -1.75e-05\n",
      "C2301ACL021 -5.995e-05   3.25e-05     -1.843      0.065      -0.000    3.82e-06\n",
      "C2301BCL177 -2.724e-05   4.94e-06     -5.517      0.000   -3.69e-05   -1.76e-05\n",
      "C2301RDC005  3.434e-05    1.2e-05      2.856      0.004    1.08e-05    5.79e-05\n",
      "C2301RDC060 -1.179e-05   2.34e-06     -5.031      0.000   -1.64e-05   -7.19e-06\n",
      "C2301RDC061    -0.0064      0.003     -2.019      0.044      -0.013      -0.000\n",
      "C2301RDC065 -1.555e-05   5.85e-06     -2.658      0.008    -2.7e-05   -4.08e-06\n",
      "C2301RDC173    -0.0007      0.000     -3.804      0.000      -0.001      -0.000\n",
      "C2301RDC204 -2.278e-05   8.96e-06     -2.541      0.011   -4.03e-05   -5.21e-06\n",
      "C2301STA002  4.034e-05   1.98e-05      2.032      0.042    1.43e-06    7.93e-05\n",
      "C2301STA085 -4.955e-05   2.73e-05     -1.813      0.070      -0.000    4.03e-06\n",
      "C2301STA175  2.288e-05   9.34e-06      2.449      0.014    4.57e-06    4.12e-05\n",
      "C2302ACH009    -0.0002      0.000     -2.092      0.036      -0.000   -1.35e-05\n",
      "C2302BCX103     0.0035      0.002      2.152      0.031       0.000       0.007\n",
      "C2302RDC011    -0.0003      0.000     -2.287      0.022      -0.000   -3.59e-05\n",
      "C2302RDC031     0.0013      0.001      2.181      0.029       0.000       0.002\n",
      "C2302RDC034 -7.482e-06   1.36e-06     -5.500      0.000   -1.01e-05   -4.82e-06\n",
      "C2302RDC071    -0.0001    5.9e-05     -2.238      0.025      -0.000   -1.64e-05\n",
      "C2302STA014 -5.382e-05   1.96e-05     -2.748      0.006   -9.22e-05   -1.54e-05\n",
      "C2303ACH049    -0.0001   2.52e-05     -5.155      0.000      -0.000   -8.04e-05\n",
      "C2303ACH079 -8.347e-05   2.31e-05     -3.615      0.000      -0.000   -3.82e-05\n",
      "C2303ACH095 -4.522e-05   1.01e-05     -4.487      0.000    -6.5e-05   -2.55e-05\n",
      "C2303ACH105     0.0002   8.66e-05      2.419      0.016    3.98e-05       0.000\n",
      "C2303BCH220     0.0003   4.72e-05      5.620      0.000       0.000       0.000\n",
      "C2303BCL038  5.084e-05   6.58e-06      7.722      0.000    3.79e-05    6.37e-05\n",
      "C2303BCL040    -0.0578      0.012     -4.905      0.000      -0.081      -0.035\n",
      "C2303BCL073     0.0016      0.000      4.564      0.000       0.001       0.002\n",
      "C2303BCL074    -0.0001   4.08e-05     -3.383      0.001      -0.000    -5.8e-05\n",
      "C2303BCL151 -9.085e-06   1.84e-06     -4.949      0.000   -1.27e-05   -5.49e-06\n",
      "C2303RDC159    -0.0110      0.002     -5.502      0.000      -0.015      -0.007\n",
      "C2303RDC191     0.0578      0.012      4.902      0.000       0.035       0.081\n",
      "C2303RDC194 -3.827e-05   6.07e-06     -6.303      0.000   -5.02e-05   -2.64e-05\n",
      "C2303STA042  5.115e-05   2.47e-05      2.069      0.039     2.7e-06    9.96e-05\n",
      "C2303STA116 -6.328e-05   5.13e-05     -1.233      0.217      -0.000    3.73e-05\n",
      "C2303STA152  1.244e-05   5.15e-06      2.415      0.016    2.34e-06    2.25e-05\n",
      "SCS011       1.967e-05    1.1e-05      1.791      0.073   -1.86e-06    4.12e-05\n",
      "C0602RDC036   9.32e-05   3.92e-05      2.377      0.017    1.63e-05       0.000\n",
      "C0602STA030    -0.0001   4.65e-05     -3.181      0.001      -0.000   -5.68e-05\n",
      "C0602STA056    -0.0040      0.002     -2.521      0.012      -0.007      -0.001\n",
      "C0602STA058    -0.0004      0.000     -2.092      0.036      -0.001   -2.31e-05\n",
      "C0602STA068     0.0028      0.001      2.957      0.003       0.001       0.005\n",
      "C0602STA074    -0.0013      0.001     -2.109      0.035      -0.002   -8.98e-05\n",
      "C0602STA092     0.0002   7.35e-05      2.413      0.016    3.33e-05       0.000\n",
      "SCS022       8.965e-05   2.72e-05      3.295      0.001    3.63e-05       0.000\n",
      "SCS023        5.21e-05   2.61e-05      1.997      0.046     9.7e-07       0.000\n",
      "SCSM02      -3.684e-05   9.53e-06     -3.864      0.000   -5.55e-05   -1.82e-05\n",
      "C0602STA049     0.0004      0.000      2.002      0.045    8.38e-06       0.001\n",
      "C0604STA151    -0.0003   8.16e-05     -3.794      0.000      -0.000      -0.000\n",
      "C0604STA172    -0.0003      0.000     -2.197      0.028      -0.001    -3.3e-05\n",
      "C06PTT031      -0.0007      0.000     -3.837      0.000      -0.001      -0.000\n",
      "SCS035      -6.957e-05   2.19e-05     -3.175      0.002      -0.000   -2.66e-05\n",
      "SCS036      -6.295e-05   1.38e-05     -4.571      0.000   -8.99e-05    -3.6e-05\n",
      "C0702STA056    -0.0038      0.001     -3.864      0.000      -0.006      -0.002\n",
      "C0702STA081    -0.0007      0.000     -2.666      0.008      -0.001      -0.000\n",
      "SCS043      -2.835e-05   1.21e-05     -2.337      0.019   -5.21e-05   -4.57e-06\n",
      "C0702STA049     0.0004      0.000      1.821      0.069   -2.97e-05       0.001\n",
      "C0703RDC104    -0.0002   4.75e-05     -4.338      0.000      -0.000      -0.000\n",
      "C0703STA105    -0.0001   5.42e-05     -2.715      0.007      -0.000   -4.09e-05\n",
      "C0704STA130    -0.0002      0.000     -2.039      0.041      -0.000   -8.16e-06\n",
      "C0704STA144     0.0019      0.001      3.224      0.001       0.001       0.003\n",
      "C0704STA151     0.0011      0.001      1.866      0.062    -5.4e-05       0.002\n",
      "C0704STA181     0.0004      0.000      2.583      0.010       0.000       0.001\n",
      "C07PTT051       0.0006      0.000      2.452      0.014       0.000       0.001\n",
      "SCS052       7.591e-05   1.99e-05      3.812      0.000    3.69e-05       0.000\n",
      "C0801RDC003     0.0005      0.000      1.919      0.055   -1.11e-05       0.001\n",
      "C0801STA002    -0.0002   3.26e-05     -4.931      0.000      -0.000   -9.68e-05\n",
      "C0802ACL027    -0.0005      0.000     -3.107      0.002      -0.001      -0.000\n",
      "C0802RDC036     0.0002   6.87e-05      2.702      0.007    5.09e-05       0.000\n",
      "C0802STA082     0.0004      0.000      2.295      0.022    5.49e-05       0.001\n",
      "C0802STA089    -0.0743      0.029     -2.570      0.010      -0.131      -0.018\n",
      "C0802STA091     0.0003   9.79e-05      3.020      0.003       0.000       0.000\n",
      "C0803ACH114 -7.834e-05   4.17e-05     -1.880      0.060      -0.000    3.36e-06\n",
      "C0803STA112     0.0003   6.72e-05      4.469      0.000       0.000       0.000\n",
      "C08PTT071       0.0005      0.000      3.123      0.002       0.000       0.001\n",
      "C0901STA012    -0.0008      0.000     -2.095      0.036      -0.002    -5.2e-05\n",
      "C0903STA115     0.0001   4.44e-05      2.325      0.020    1.62e-05       0.000\n",
      "C0903STA120 -4.224e-05   1.92e-05     -2.195      0.028      -8e-05   -4.51e-06\n",
      "SCS072       3.112e-05   1.44e-05      2.159      0.031    2.86e-06    5.94e-05\n",
      "SCS073      -4.203e-05   2.29e-05     -1.832      0.067    -8.7e-05    2.94e-06\n",
      "C0804RDC136     0.0011      0.001      2.048      0.041    4.67e-05       0.002\n",
      "C0804STA130    -0.0003   3.72e-05     -6.810      0.000      -0.000      -0.000\n",
      "C0804STA151     0.0002    9.8e-05      1.954      0.051   -6.41e-07       0.000\n",
      "C0804STA168    -0.0019      0.001     -1.838      0.066      -0.004       0.000\n",
      "C0804STA182    -0.0027      0.001     -2.478      0.013      -0.005      -0.001\n",
      "C08PTT081       0.0005      0.000      2.684      0.007       0.000       0.001\n",
      "SCS082       4.063e-05   1.79e-05      2.271      0.023    5.56e-06    7.57e-05\n",
      "C0804RDC186     0.0805      0.037      2.174      0.030       0.008       0.153\n",
      "C08PTT082      -0.0001   6.68e-05     -2.134      0.033      -0.000   -1.16e-05\n",
      "C0901STA005    -0.0001    4.9e-05     -2.522      0.012      -0.000   -2.75e-05\n",
      "C0902ACL054     0.0002   6.54e-05      2.422      0.015    3.02e-05       0.000\n",
      "C0902STA024     0.0016      0.001      2.476      0.013       0.000       0.003\n",
      "C0902STA026    -0.0001   4.54e-05     -2.677      0.007      -0.000   -3.25e-05\n",
      "C0902STA039     0.0003      0.000      3.011      0.003       0.000       0.001\n",
      "C0902STA051     0.0004      0.000      3.122      0.002       0.000       0.001\n",
      "C0902STA059     0.0002   7.07e-05      2.666      0.008    4.98e-05       0.000\n",
      "SCS094         -0.0002    7.5e-05     -2.163      0.031      -0.000   -1.52e-05\n",
      "SCS096          0.0002    8.8e-05      2.267      0.023     2.7e-05       0.000\n",
      "SCSM09      -1.489e-05   7.21e-06     -2.065      0.039    -2.9e-05   -7.56e-07\n",
      "C0904ACH133    -0.0321      0.015     -2.136      0.033      -0.062      -0.003\n",
      "C0904STA156     0.0002   9.76e-05      2.137      0.033    1.73e-05       0.000\n",
      "C0904STA189     0.0007      0.000      3.134      0.002       0.000       0.001\n",
      "C09PTT101       0.0001   6.49e-05      2.264      0.024    1.97e-05       0.000\n",
      "SCS103       7.215e-05   2.64e-05      2.733      0.006    2.04e-05       0.000\n",
      "SCS105       7.595e-05   2.64e-05      2.874      0.004    2.41e-05       0.000\n",
      "C09PTT102       0.0006      0.000      2.074      0.038    3.12e-05       0.001\n",
      "C1001ACH019    -0.0001   5.17e-05     -2.031      0.042      -0.000   -3.64e-06\n",
      "C1001STA205     0.0034      0.001      2.428      0.015       0.001       0.006\n",
      "C1002STA082    -0.0004      0.000     -3.256      0.001      -0.001      -0.000\n",
      "C1003STA252    -0.0001   7.81e-05     -1.867      0.062      -0.000    7.29e-06\n",
      "C1101ACH001    -0.0033      0.002     -2.152      0.031      -0.006      -0.000\n",
      "C1101ACH019    -0.0003      0.000     -2.745      0.006      -0.001   -8.75e-05\n",
      "C1101STA002    -0.0015      0.000     -6.211      0.000      -0.002      -0.001\n",
      "C1103ACH119     0.0004      0.000      2.301      0.021    6.14e-05       0.001\n",
      "C1103STA120    -0.0008      0.000     -4.485      0.000      -0.001      -0.000\n",
      "C1201ACH019     0.1054      0.061      1.740      0.082      -0.013       0.224\n",
      "C1201STA015 -1.448e-15   8.18e-16     -1.771      0.077   -3.05e-15    1.55e-16\n",
      "SCS113      -3.666e-05   1.55e-05     -2.368      0.018    -6.7e-05   -6.31e-06\n",
      "SCS115      -5.289e-05   1.25e-05     -4.243      0.000   -7.73e-05   -2.85e-05\n",
      "SCSM11      -4.123e-05   1.27e-05     -3.242      0.001   -6.62e-05   -1.63e-05\n",
      "C10PTT112      -0.0010      0.000     -4.274      0.000      -0.001      -0.001\n",
      "C1101STA005    -0.0001   4.98e-05     -2.628      0.009      -0.000   -3.33e-05\n",
      "C1102ACH067    -0.0109      0.005     -2.054      0.040      -0.021      -0.000\n",
      "C1102STA026     0.0001   5.41e-05      2.486      0.013    2.84e-05       0.000\n",
      "C1102STA065    -0.0005      0.000     -2.293      0.022      -0.001   -7.28e-05\n",
      "C1102STA077    -0.0001   2.45e-05     -4.622      0.000      -0.000   -6.51e-05\n",
      "SCSM12         -0.0002    6.6e-05     -2.306      0.021      -0.000   -2.28e-05\n",
      "C1104ACH133    -0.0006      0.000     -1.850      0.064      -0.001    3.55e-05\n",
      "C1104ACH167    -0.0002   3.07e-05     -6.162      0.000      -0.000      -0.000\n",
      "C1104ACH179    -0.0016      0.000     -5.740      0.000      -0.002      -0.001\n",
      "C1104STA156    -0.0021      0.001     -2.470      0.014      -0.004      -0.000\n",
      "C1104STA165    -0.0002      0.000     -2.200      0.028      -0.000   -2.67e-05\n",
      "C1104STA177    -0.0007      0.000     -1.952      0.051      -0.001    2.78e-06\n",
      "C1104STA187    -0.0028      0.001     -2.340      0.019      -0.005      -0.000\n",
      "C1104STA189     0.0034      0.001      2.515      0.012       0.001       0.006\n",
      "C11PTT132      -0.0013      0.000     -4.791      0.000      -0.002      -0.001\n",
      "SCSM14      -2.316e-05   5.04e-06     -4.599      0.000    -3.3e-05   -1.33e-05\n",
      "C1204ACL128    -0.0002   5.21e-05     -2.999      0.003      -0.000   -5.41e-05\n",
      "C1204STA132    -0.0001   2.93e-05     -4.253      0.000      -0.000   -6.72e-05\n",
      "C1204STA203    -0.0002   6.87e-05     -2.432      0.015      -0.000   -3.24e-05\n",
      "SCS153       4.264e-05   1.82e-05      2.337      0.019    6.87e-06    7.84e-05\n",
      "SCS154       3.886e-05   1.79e-05      2.167      0.030     3.7e-06     7.4e-05\n",
      "SCS155       2.491e-05    1.4e-05      1.776      0.076   -2.59e-06    5.24e-05\n",
      "SCS156       3.806e-05   1.53e-05      2.489      0.013    8.08e-06     6.8e-05\n",
      "C1204STA149     0.0001   6.62e-05      2.223      0.026    1.74e-05       0.000\n",
      "C1301STA005    -0.0003      0.000     -2.351      0.019      -0.001   -5.59e-05\n",
      "C1302STA041    -0.0033      0.002     -2.081      0.037      -0.006      -0.000\n",
      "C1302STA051    -0.0002    5.8e-05     -3.986      0.000      -0.000      -0.000\n",
      "C1302STA062     0.0022      0.001      2.282      0.023       0.000       0.004\n",
      "C1303ACH118     0.0012      0.000      4.550      0.000       0.001       0.002\n",
      "C1303STA120    -0.0006      0.000     -2.025      0.043      -0.001   -1.78e-05\n",
      "C1401ACH001    -0.0013      0.000     -5.059      0.000      -0.002      -0.001\n",
      "C1403STA102     0.0104      0.005      2.088      0.037       0.001       0.020\n",
      "C1302RDC084    -0.1354      0.045     -3.020      0.003      -0.223      -0.048\n",
      "C13PTT172      -0.0008      0.000     -3.128      0.002      -0.001      -0.000\n",
      "C1304ACH155    -0.0001   6.58e-05     -1.914      0.056      -0.000    3.04e-06\n",
      "SCS181       2.122e-05   9.82e-06      2.162      0.031    1.98e-06    4.05e-05\n",
      "SCS184      -3.225e-05   1.01e-05     -3.194      0.001    -5.2e-05   -1.25e-05\n",
      "SCSM18      -5.012e-05   2.06e-05     -2.438      0.015   -9.04e-05   -9.82e-06\n",
      "C1402STA030    -0.0002   6.88e-05     -2.433      0.015      -0.000   -3.25e-05\n",
      "C1402STA041    -0.0031      0.002     -1.923      0.055      -0.006    6.03e-05\n",
      "C1402STA080     0.0006      0.000      1.897      0.058   -1.94e-05       0.001\n",
      "C1402STA097    -0.0007      0.000     -2.294      0.022      -0.001   -9.57e-05\n",
      "SCS191       4.602e-05    1.8e-05      2.555      0.011    1.07e-05    8.13e-05\n",
      "SCS193      -7.833e-05   2.73e-05     -2.870      0.004      -0.000   -2.48e-05\n",
      "C14PTT192      -0.0011      0.000     -2.956      0.003      -0.002      -0.000\n",
      "C1404ACH123     0.0008      0.000      2.117      0.034    6.06e-05       0.002\n",
      "C1404ACH125    -0.0004      0.000     -3.231      0.001      -0.001      -0.000\n",
      "C1404ACH155    -0.0018      0.001     -2.489      0.013      -0.003      -0.000\n",
      "C1404STA163 -5.078e-17   1.81e-17     -2.808      0.005   -8.62e-17   -1.53e-17\n",
      "C1404STA168  7.581e-06   3.58e-06      2.117      0.034    5.63e-07    1.46e-05\n",
      "C1404STA175 -1.246e-17   7.07e-18     -1.762      0.078   -2.63e-17     1.4e-18\n",
      "C1404STA176  1.141e-17   8.86e-18      1.288      0.198   -5.96e-18    2.88e-17\n",
      "C1404STA177    -0.0002   4.61e-05     -3.817      0.000      -0.000   -8.56e-05\n",
      "C1404STA181          0          0        nan        nan           0           0\n",
      "C1404STA197    -0.0004      0.000     -2.897      0.004      -0.001      -0.000\n",
      "C1404STA203          0          0        nan        nan           0           0\n",
      "SCS201          0.0002    7.5e-05      2.120      0.034     1.2e-05       0.000\n",
      "SCS205       4.674e-05   1.18e-05      3.952      0.000    2.36e-05    6.99e-05\n",
      "SCS206       5.922e-05   3.26e-05      1.816      0.069    -4.7e-06       0.000\n",
      "SCSM20          0.0004      0.000      3.622      0.000       0.000       0.001\n",
      "C1404RDC146          0          0        nan        nan           0           0\n",
      "C14PTT202       0.0003      0.000      2.230      0.026    3.45e-05       0.001\n",
      "log_totes       0.1929      0.002    105.283      0.000       0.189       0.196\n",
      "==============================================================================\n",
      "Omnibus:                      181.807   Durbin-Watson:                   2.009\n",
      "Prob(Omnibus):                  0.000   Jarque-Bera (JB):              233.455\n",
      "Skew:                          -0.286   Prob(JB):                     2.02e-51\n",
      "Kurtosis:                       3.600   Cond. No.                     1.01e+16\n",
      "==============================================================================\n",
      "\n",
      "Warnings:\n",
      "[1] Standard Errors assume that the covariance matrix of the errors is correctly specified.\n",
      "[2] The smallest eigenvalue is 1.07e-21. This might indicate that there are\n",
      "strong multicollinearity problems or that the design matrix is singular.\n"
     ]
    },
    {
     "name": "stderr",
     "output_type": "stream",
     "text": [
      "C:\\Users\\Jamie.williams\\Anaconda3\\lib\\site-packages\\statsmodels\\base\\model.py:1362: RuntimeWarning: invalid value encountered in true_divide\n",
      "  return self.params / self.bse\n",
      "C:\\Users\\Jamie.williams\\Anaconda3\\lib\\site-packages\\scipy\\stats\\_distn_infrastructure.py:1932: RuntimeWarning: invalid value encountered in less_equal\n",
      "  cond2 = cond0 & (x <= _a)\n"
     ]
    }
   ],
   "source": [
    "X_train, X_test, y_train, y_test = md.split(X,y,split_options = {'test_size': 0.3,\n",
    "                                                                 'random_state': None})\n",
    "\n",
    "R2_cv,R2_OOS,Coeff = md.run_OLS(X_train = X_train,y_train = y_train,X_test = X_test,y_test=y_test, n = 30)"
   ]
  },
  {
   "cell_type": "code",
   "execution_count": 20,
   "metadata": {},
   "outputs": [
    {
     "data": {
      "text/plain": [
       "0.3697563257316707"
      ]
     },
     "execution_count": 20,
     "metadata": {},
     "output_type": "execute_result"
    }
   ],
   "source": [
    "R2_OOS"
   ]
  },
  {
   "cell_type": "code",
   "execution_count": null,
   "metadata": {},
   "outputs": [],
   "source": [
    "Output = rs.create_output(fa_PTT,Coeff,end_time)"
   ]
  },
  {
   "cell_type": "code",
   "execution_count": null,
   "metadata": {},
   "outputs": [],
   "source": [
    "Output['Total'] = sum(Output[:][Output.columns[9:]])"
   ]
  },
  {
   "cell_type": "code",
   "execution_count": null,
   "metadata": {},
   "outputs": [],
   "source": [
    "Output[Output.columns[9]]"
   ]
  },
  {
   "cell_type": "code",
   "execution_count": null,
   "metadata": {},
   "outputs": [],
   "source": [
    "sns.lmplot(x='log_totes', y='Availability', data=df, line_kws={\"color\": \"red\"})\n",
    "plt.xlim(0, 5)"
   ]
  },
  {
   "cell_type": "code",
   "execution_count": null,
   "metadata": {},
   "outputs": [],
   "source": [
    "df.shape"
   ]
  },
  {
   "cell_type": "code",
   "execution_count": null,
   "metadata": {},
   "outputs": [],
   "source": [
    "sns.lmplot(x='TOTES', y='Availability', data=df, line_kws={\"color\": \"red\"})"
   ]
  },
  {
   "cell_type": "code",
   "execution_count": null,
   "metadata": {},
   "outputs": [],
   "source": [
    "ax = sns.regplot(x=\"TOTES\", y=\"Availability\", data=df,\n",
    "x_estimator=np.mean, logx=True, line_kws={\"color\": \"red\"})\n",
    "plt.ylim(0,1)"
   ]
  },
  {
   "cell_type": "code",
   "execution_count": null,
   "metadata": {},
   "outputs": [],
   "source": [
    "sns.lmplot(x='log_totes', y='Availability', data=df, line_kws={\"color\": \"red\"})\n",
    "plt.xlim(0, 5)"
   ]
  },
  {
   "cell_type": "code",
   "execution_count": null,
   "metadata": {},
   "outputs": [],
   "source": []
  }
 ],
 "metadata": {
  "kernelspec": {
   "display_name": "Python 3",
   "language": "python",
   "name": "python3"
  },
  "language_info": {
   "codemirror_mode": {
    "name": "ipython",
    "version": 3
   },
   "file_extension": ".py",
   "mimetype": "text/x-python",
   "name": "python",
   "nbconvert_exporter": "python",
   "pygments_lexer": "ipython3",
   "version": "3.8.3"
  }
 },
 "nbformat": 4,
 "nbformat_minor": 4
}
