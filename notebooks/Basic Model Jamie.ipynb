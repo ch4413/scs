{
 "cells": [
  {
   "cell_type": "code",
   "execution_count": 2,
   "metadata": {},
   "outputs": [
    {
     "name": "stdout",
     "output_type": "stream",
     "text": [
      "Running: Function \"pre_process_AT\" (id=1773427754176) was called 2 times\n",
      "Running: Function \"pre_process_av\" (id=1773427756768) was called 2 times\n",
      "Running: Function \"preprocess_faults\" (id=1773427755328) was called 2 times\n",
      "Running: Function \"load_tote_lookup\" (id=1773427756192) was called 2 times\n",
      "Running: Function \"load_module_lookup\" (id=1773424770208) was called 2 times\n",
      "Running: Function \"load_ID_lookup\" (id=1773427756912) was called 2 times\n",
      "Running: Function \"run_single_model\" (id=1773429490736) was called 2 times\n",
      "Running: Function \"floor_shift_time_fa\" (id=1773427755472) was called 1 times\n"
     ]
    },
    {
     "ename": "TypeError",
     "evalue": "floor_shift_time_fa() got an unexpected keyword argument 'duration_thres'",
     "output_type": "error",
     "traceback": [
      "\u001b[1;31m---------------------------------------------------------------------------\u001b[0m",
      "\u001b[1;31mTypeError\u001b[0m                                 Traceback (most recent call last)",
      "\u001b[1;32m<ipython-input-2-072c96427027>\u001b[0m in \u001b[0;36m<module>\u001b[1;34m\u001b[0m\n\u001b[0;32m     31\u001b[0m \u001b[0mfa\u001b[0m\u001b[1;33m,\u001b[0m\u001b[0munmapped\u001b[0m\u001b[1;33m,\u001b[0m \u001b[0mend_time\u001b[0m \u001b[1;33m=\u001b[0m \u001b[0mfeat\u001b[0m\u001b[1;33m.\u001b[0m\u001b[0mpreprocess_faults\u001b[0m\u001b[1;33m(\u001b[0m\u001b[0mscs_raw\u001b[0m\u001b[1;33m)\u001b[0m\u001b[1;33m\u001b[0m\u001b[1;33m\u001b[0m\u001b[0m\n\u001b[0;32m     32\u001b[0m \u001b[1;33m\u001b[0m\u001b[0m\n\u001b[1;32m---> 33\u001b[1;33m \u001b[0mOutput\u001b[0m\u001b[1;33m,\u001b[0m\u001b[0mR2\u001b[0m\u001b[1;33m,\u001b[0m\u001b[0mNum_Assets\u001b[0m \u001b[1;33m=\u001b[0m \u001b[0mrs\u001b[0m\u001b[1;33m.\u001b[0m\u001b[0mrun_single_model\u001b[0m\u001b[1;33m(\u001b[0m\u001b[0mat\u001b[0m\u001b[1;33m,\u001b[0m\u001b[0mav\u001b[0m\u001b[1;33m,\u001b[0m\u001b[0mfa\u001b[0m\u001b[1;33m,\u001b[0m\u001b[0mreport_start\u001b[0m\u001b[1;33m,\u001b[0m\u001b[0mreport_end\u001b[0m\u001b[1;33m,\u001b[0m\u001b[0mshift\u001b[0m\u001b[1;33m=\u001b[0m\u001b[1;36m0\u001b[0m\u001b[1;33m,\u001b[0m\u001b[0mweights\u001b[0m\u001b[1;33m=\u001b[0m\u001b[1;33m[\u001b[0m\u001b[1;36m1\u001b[0m\u001b[1;33m]\u001b[0m\u001b[1;33m,\u001b[0m\u001b[0mspeed\u001b[0m\u001b[1;33m=\u001b[0m\u001b[1;36m470\u001b[0m\u001b[1;33m,\u001b[0m\u001b[0mpicker_present\u001b[0m\u001b[1;33m=\u001b[0m\u001b[1;36m0.91\u001b[0m\u001b[1;33m,\u001b[0m\u001b[0mavailability\u001b[0m\u001b[1;33m=\u001b[0m\u001b[1;36m0.71\u001b[0m\u001b[1;33m)\u001b[0m\u001b[1;33m\u001b[0m\u001b[1;33m\u001b[0m\u001b[0m\n\u001b[0m",
      "\u001b[1;32m~\\Anaconda3\\lib\\site-packages\\scsavailability\\logger.py\u001b[0m in \u001b[0;36minner\u001b[1;34m(*args, **kwargs)\u001b[0m\n\u001b[0;32m     14\u001b[0m         \u001b[0mcount\u001b[0m \u001b[1;33m+=\u001b[0m \u001b[1;36m1\u001b[0m\u001b[1;33m\u001b[0m\u001b[1;33m\u001b[0m\u001b[0m\n\u001b[0;32m     15\u001b[0m         \u001b[0mprint\u001b[0m\u001b[1;33m(\u001b[0m\u001b[1;34m'Running: Function \"{0}\" (id={1}) was called {2} times'\u001b[0m\u001b[1;33m.\u001b[0m\u001b[0mformat\u001b[0m\u001b[1;33m(\u001b[0m\u001b[0mfn\u001b[0m\u001b[1;33m.\u001b[0m\u001b[0m__name__\u001b[0m\u001b[1;33m,\u001b[0m \u001b[0mid\u001b[0m\u001b[1;33m(\u001b[0m\u001b[0mfn\u001b[0m\u001b[1;33m)\u001b[0m\u001b[1;33m,\u001b[0m \u001b[0mcount\u001b[0m\u001b[1;33m)\u001b[0m\u001b[1;33m)\u001b[0m\u001b[1;33m\u001b[0m\u001b[1;33m\u001b[0m\u001b[0m\n\u001b[1;32m---> 16\u001b[1;33m         \u001b[1;32mreturn\u001b[0m \u001b[0mfn\u001b[0m\u001b[1;33m(\u001b[0m\u001b[1;33m*\u001b[0m\u001b[0margs\u001b[0m\u001b[1;33m,\u001b[0m \u001b[1;33m**\u001b[0m\u001b[0mkwargs\u001b[0m\u001b[1;33m)\u001b[0m\u001b[1;33m\u001b[0m\u001b[1;33m\u001b[0m\u001b[0m\n\u001b[0m\u001b[0;32m     17\u001b[0m \u001b[1;33m\u001b[0m\u001b[0m\n\u001b[0;32m     18\u001b[0m     \u001b[1;32mreturn\u001b[0m \u001b[0minner\u001b[0m\u001b[1;33m\u001b[0m\u001b[1;33m\u001b[0m\u001b[0m\n",
      "\u001b[1;32m~\\Anaconda3\\lib\\site-packages\\scsavailability\\results.py\u001b[0m in \u001b[0;36mrun_single_model\u001b[1;34m(at, av, fa, report_start, report_end, shift, weights, speed, picker_present, availability, duration_thres)\u001b[0m\n\u001b[0;32m     42\u001b[0m \u001b[1;32mdef\u001b[0m \u001b[0mrun_single_model\u001b[0m\u001b[1;33m(\u001b[0m\u001b[0mat\u001b[0m\u001b[1;33m,\u001b[0m\u001b[0mav\u001b[0m\u001b[1;33m,\u001b[0m\u001b[0mfa\u001b[0m\u001b[1;33m,\u001b[0m\u001b[0mreport_start\u001b[0m\u001b[1;33m,\u001b[0m\u001b[0mreport_end\u001b[0m\u001b[1;33m,\u001b[0m\u001b[0mshift\u001b[0m\u001b[1;33m,\u001b[0m\u001b[0mweights\u001b[0m\u001b[1;33m,\u001b[0m\u001b[0mspeed\u001b[0m\u001b[1;33m,\u001b[0m\u001b[0mpicker_present\u001b[0m\u001b[1;33m,\u001b[0m\u001b[0mavailability\u001b[0m\u001b[1;33m,\u001b[0m\u001b[0mduration_thres\u001b[0m\u001b[1;33m=\u001b[0m\u001b[1;36m0\u001b[0m\u001b[1;33m)\u001b[0m\u001b[1;33m:\u001b[0m\u001b[1;33m\u001b[0m\u001b[1;33m\u001b[0m\u001b[0m\n\u001b[0;32m     43\u001b[0m \u001b[1;33m\u001b[0m\u001b[0m\n\u001b[1;32m---> 44\u001b[1;33m     \u001b[0mfa_floor\u001b[0m \u001b[1;33m=\u001b[0m \u001b[0mfeat\u001b[0m\u001b[1;33m.\u001b[0m\u001b[0mfloor_shift_time_fa\u001b[0m\u001b[1;33m(\u001b[0m\u001b[0mfa\u001b[0m\u001b[1;33m,\u001b[0m \u001b[0mshift\u001b[0m\u001b[1;33m=\u001b[0m\u001b[0mshift\u001b[0m\u001b[1;33m,\u001b[0m\u001b[0mduration_thres\u001b[0m\u001b[1;33m=\u001b[0m\u001b[0mduration_thres\u001b[0m\u001b[1;33m)\u001b[0m\u001b[1;33m\u001b[0m\u001b[1;33m\u001b[0m\u001b[0m\n\u001b[0m\u001b[0;32m     45\u001b[0m \u001b[1;33m\u001b[0m\u001b[0m\n\u001b[0;32m     46\u001b[0m     \u001b[0mdf\u001b[0m\u001b[1;33m,\u001b[0m\u001b[0mfa_PTT\u001b[0m \u001b[1;33m=\u001b[0m \u001b[0mfeat\u001b[0m\u001b[1;33m.\u001b[0m\u001b[0mcreate_PTT_df\u001b[0m\u001b[1;33m(\u001b[0m\u001b[0mfa_floor\u001b[0m\u001b[1;33m,\u001b[0m\u001b[0mat\u001b[0m\u001b[1;33m,\u001b[0m\u001b[0mav\u001b[0m\u001b[1;33m,\u001b[0m\u001b[0mweights\u001b[0m\u001b[1;33m=\u001b[0m\u001b[0mweights\u001b[0m\u001b[1;33m)\u001b[0m\u001b[1;33m\u001b[0m\u001b[1;33m\u001b[0m\u001b[0m\n",
      "\u001b[1;32m~\\Anaconda3\\lib\\site-packages\\scsavailability\\logger.py\u001b[0m in \u001b[0;36minner\u001b[1;34m(*args, **kwargs)\u001b[0m\n\u001b[0;32m     14\u001b[0m         \u001b[0mcount\u001b[0m \u001b[1;33m+=\u001b[0m \u001b[1;36m1\u001b[0m\u001b[1;33m\u001b[0m\u001b[1;33m\u001b[0m\u001b[0m\n\u001b[0;32m     15\u001b[0m         \u001b[0mprint\u001b[0m\u001b[1;33m(\u001b[0m\u001b[1;34m'Running: Function \"{0}\" (id={1}) was called {2} times'\u001b[0m\u001b[1;33m.\u001b[0m\u001b[0mformat\u001b[0m\u001b[1;33m(\u001b[0m\u001b[0mfn\u001b[0m\u001b[1;33m.\u001b[0m\u001b[0m__name__\u001b[0m\u001b[1;33m,\u001b[0m \u001b[0mid\u001b[0m\u001b[1;33m(\u001b[0m\u001b[0mfn\u001b[0m\u001b[1;33m)\u001b[0m\u001b[1;33m,\u001b[0m \u001b[0mcount\u001b[0m\u001b[1;33m)\u001b[0m\u001b[1;33m)\u001b[0m\u001b[1;33m\u001b[0m\u001b[1;33m\u001b[0m\u001b[0m\n\u001b[1;32m---> 16\u001b[1;33m         \u001b[1;32mreturn\u001b[0m \u001b[0mfn\u001b[0m\u001b[1;33m(\u001b[0m\u001b[1;33m*\u001b[0m\u001b[0margs\u001b[0m\u001b[1;33m,\u001b[0m \u001b[1;33m**\u001b[0m\u001b[0mkwargs\u001b[0m\u001b[1;33m)\u001b[0m\u001b[1;33m\u001b[0m\u001b[1;33m\u001b[0m\u001b[0m\n\u001b[0m\u001b[0;32m     17\u001b[0m \u001b[1;33m\u001b[0m\u001b[0m\n\u001b[0;32m     18\u001b[0m     \u001b[1;32mreturn\u001b[0m \u001b[0minner\u001b[0m\u001b[1;33m\u001b[0m\u001b[1;33m\u001b[0m\u001b[0m\n",
      "\u001b[1;31mTypeError\u001b[0m: floor_shift_time_fa() got an unexpected keyword argument 'duration_thres'"
     ]
    }
   ],
   "source": [
    "import pandas as pd\n",
    "import numpy as np\n",
    "import seaborn as sns\n",
    "import matplotlib.pyplot as plt\n",
    "%matplotlib inline\n",
    "\n",
    "import scsavailability as scs\n",
    "    \n",
    "import statsmodels.api as sm\n",
    "from scipy import stats\n",
    "\n",
    "from scsavailability import features as feat, model as md, results as rs\n",
    "\n",
    "from sklearn.model_selection import cross_val_score\n",
    "from sklearn.model_selection import KFold\n",
    "from sklearn.linear_model import LinearRegression\n",
    "\n",
    "path = 'C:/Users/Jamie.williams/OneDrive - Newton Europe Ltd/Castle Donnington/Data/'\n",
    "\n",
    "at = pd.read_csv(path+'active_totes_20201210.csv')\n",
    "av = pd.read_csv(path+'Availability_with_Grey&Blue_1811-0912.csv',names = [\"timestamp\",\"Pick Station\",\"Availability\",\"Blue Tote Loss\",\"Grey Tote Loss\"])\n",
    "#fa = pd.read_csv(path + 'scs_tote_matched.csv')\n",
    "scs_raw = pd.read_csv(path + 'Faults20_11-10_12.csv')\n",
    "\n",
    "fa_max = pd.to_datetime(scs_raw['Entry Time'],dayfirst=True).max()\n",
    "report_start = fa_max - pd.to_timedelta(12, unit='H')\n",
    "report_end = fa_max.ceil('H')\n",
    "\n",
    "at = feat.pre_process_AT(at)\n",
    "av = feat.pre_process_av(av)\n",
    "fa,unmapped, end_time = feat.preprocess_faults(scs_raw)\n",
    "\n",
    "Output,R2,Num_Assets = rs.run_single_model(at,av,fa,report_start,report_end,shift=0,weights=[1],speed=470,picker_present=0.91,availability=0.71)"
   ]
  },
  {
   "cell_type": "code",
   "execution_count": null,
   "metadata": {},
   "outputs": [],
   "source": [
    "path = 'C:/Users/Jamie.williams/OneDrive - Newton Europe Ltd/Castle Donnington/Data/'"
   ]
  },
  {
   "cell_type": "code",
   "execution_count": 45,
   "metadata": {},
   "outputs": [
    {
     "ename": "FileNotFoundError",
     "evalue": "[Errno 2] File C:/Users/Jamie.williams/OneDrive - Newton Europe Ltd/Castle Donnington/Data/active_totes_20201210.csv does not exist: 'C:/Users/Jamie.williams/OneDrive - Newton Europe Ltd/Castle Donnington/Data/active_totes_20201210.csv'",
     "output_type": "error",
     "traceback": [
      "\u001b[0;31m---------------------------------------------------------------------------\u001b[0m",
      "\u001b[0;31mFileNotFoundError\u001b[0m                         Traceback (most recent call last)",
      "\u001b[0;32m<ipython-input-45-345911f81bcb>\u001b[0m in \u001b[0;36m<module>\u001b[0;34m\u001b[0m\n\u001b[0;32m----> 1\u001b[0;31m \u001b[0mat\u001b[0m \u001b[0;34m=\u001b[0m \u001b[0mpd\u001b[0m\u001b[0;34m.\u001b[0m\u001b[0mread_csv\u001b[0m\u001b[0;34m(\u001b[0m\u001b[0mpath\u001b[0m\u001b[0;34m+\u001b[0m\u001b[0;34m'active_totes_20201210.csv'\u001b[0m\u001b[0;34m)\u001b[0m\u001b[0;34m\u001b[0m\u001b[0;34m\u001b[0m\u001b[0m\n\u001b[0m\u001b[1;32m      2\u001b[0m \u001b[0mav\u001b[0m \u001b[0;34m=\u001b[0m \u001b[0mpd\u001b[0m\u001b[0;34m.\u001b[0m\u001b[0mread_csv\u001b[0m\u001b[0;34m(\u001b[0m\u001b[0mpath\u001b[0m\u001b[0;34m+\u001b[0m\u001b[0;34m'Availability_with_Grey&Blue_1811-0912.csv'\u001b[0m\u001b[0;34m,\u001b[0m\u001b[0mnames\u001b[0m \u001b[0;34m=\u001b[0m \u001b[0;34m[\u001b[0m\u001b[0;34m\"timestamp\"\u001b[0m\u001b[0;34m,\u001b[0m\u001b[0;34m\"Pick Station\"\u001b[0m\u001b[0;34m,\u001b[0m\u001b[0;34m\"Availability\"\u001b[0m\u001b[0;34m,\u001b[0m\u001b[0;34m\"Blue Tote Loss\"\u001b[0m\u001b[0;34m,\u001b[0m\u001b[0;34m\"Grey Tote Loss\"\u001b[0m\u001b[0;34m]\u001b[0m\u001b[0;34m)\u001b[0m\u001b[0;34m\u001b[0m\u001b[0;34m\u001b[0m\u001b[0m\n\u001b[1;32m      3\u001b[0m \u001b[0;31m#fa = pd.read_csv(path + 'scs_tote_matched.csv')\u001b[0m\u001b[0;34m\u001b[0m\u001b[0;34m\u001b[0m\u001b[0;34m\u001b[0m\u001b[0m\n\u001b[1;32m      4\u001b[0m \u001b[0mscs_raw\u001b[0m \u001b[0;34m=\u001b[0m \u001b[0mpd\u001b[0m\u001b[0;34m.\u001b[0m\u001b[0mread_csv\u001b[0m\u001b[0;34m(\u001b[0m\u001b[0mpath\u001b[0m \u001b[0;34m+\u001b[0m \u001b[0;34m'Faults20_11-10_12.csv'\u001b[0m\u001b[0;34m)\u001b[0m\u001b[0;34m\u001b[0m\u001b[0;34m\u001b[0m\u001b[0m\n",
      "\u001b[0;32m/opt/anaconda3/lib/python3.7/site-packages/pandas/io/parsers.py\u001b[0m in \u001b[0;36mparser_f\u001b[0;34m(filepath_or_buffer, sep, delimiter, header, names, index_col, usecols, squeeze, prefix, mangle_dupe_cols, dtype, engine, converters, true_values, false_values, skipinitialspace, skiprows, skipfooter, nrows, na_values, keep_default_na, na_filter, verbose, skip_blank_lines, parse_dates, infer_datetime_format, keep_date_col, date_parser, dayfirst, cache_dates, iterator, chunksize, compression, thousands, decimal, lineterminator, quotechar, quoting, doublequote, escapechar, comment, encoding, dialect, error_bad_lines, warn_bad_lines, delim_whitespace, low_memory, memory_map, float_precision)\u001b[0m\n\u001b[1;32m    674\u001b[0m         )\n\u001b[1;32m    675\u001b[0m \u001b[0;34m\u001b[0m\u001b[0m\n\u001b[0;32m--> 676\u001b[0;31m         \u001b[0;32mreturn\u001b[0m \u001b[0m_read\u001b[0m\u001b[0;34m(\u001b[0m\u001b[0mfilepath_or_buffer\u001b[0m\u001b[0;34m,\u001b[0m \u001b[0mkwds\u001b[0m\u001b[0;34m)\u001b[0m\u001b[0;34m\u001b[0m\u001b[0;34m\u001b[0m\u001b[0m\n\u001b[0m\u001b[1;32m    677\u001b[0m \u001b[0;34m\u001b[0m\u001b[0m\n\u001b[1;32m    678\u001b[0m     \u001b[0mparser_f\u001b[0m\u001b[0;34m.\u001b[0m\u001b[0m__name__\u001b[0m \u001b[0;34m=\u001b[0m \u001b[0mname\u001b[0m\u001b[0;34m\u001b[0m\u001b[0;34m\u001b[0m\u001b[0m\n",
      "\u001b[0;32m/opt/anaconda3/lib/python3.7/site-packages/pandas/io/parsers.py\u001b[0m in \u001b[0;36m_read\u001b[0;34m(filepath_or_buffer, kwds)\u001b[0m\n\u001b[1;32m    446\u001b[0m \u001b[0;34m\u001b[0m\u001b[0m\n\u001b[1;32m    447\u001b[0m     \u001b[0;31m# Create the parser.\u001b[0m\u001b[0;34m\u001b[0m\u001b[0;34m\u001b[0m\u001b[0;34m\u001b[0m\u001b[0m\n\u001b[0;32m--> 448\u001b[0;31m     \u001b[0mparser\u001b[0m \u001b[0;34m=\u001b[0m \u001b[0mTextFileReader\u001b[0m\u001b[0;34m(\u001b[0m\u001b[0mfp_or_buf\u001b[0m\u001b[0;34m,\u001b[0m \u001b[0;34m**\u001b[0m\u001b[0mkwds\u001b[0m\u001b[0;34m)\u001b[0m\u001b[0;34m\u001b[0m\u001b[0;34m\u001b[0m\u001b[0m\n\u001b[0m\u001b[1;32m    449\u001b[0m \u001b[0;34m\u001b[0m\u001b[0m\n\u001b[1;32m    450\u001b[0m     \u001b[0;32mif\u001b[0m \u001b[0mchunksize\u001b[0m \u001b[0;32mor\u001b[0m \u001b[0miterator\u001b[0m\u001b[0;34m:\u001b[0m\u001b[0;34m\u001b[0m\u001b[0;34m\u001b[0m\u001b[0m\n",
      "\u001b[0;32m/opt/anaconda3/lib/python3.7/site-packages/pandas/io/parsers.py\u001b[0m in \u001b[0;36m__init__\u001b[0;34m(self, f, engine, **kwds)\u001b[0m\n\u001b[1;32m    878\u001b[0m             \u001b[0mself\u001b[0m\u001b[0;34m.\u001b[0m\u001b[0moptions\u001b[0m\u001b[0;34m[\u001b[0m\u001b[0;34m\"has_index_names\"\u001b[0m\u001b[0;34m]\u001b[0m \u001b[0;34m=\u001b[0m \u001b[0mkwds\u001b[0m\u001b[0;34m[\u001b[0m\u001b[0;34m\"has_index_names\"\u001b[0m\u001b[0;34m]\u001b[0m\u001b[0;34m\u001b[0m\u001b[0;34m\u001b[0m\u001b[0m\n\u001b[1;32m    879\u001b[0m \u001b[0;34m\u001b[0m\u001b[0m\n\u001b[0;32m--> 880\u001b[0;31m         \u001b[0mself\u001b[0m\u001b[0;34m.\u001b[0m\u001b[0m_make_engine\u001b[0m\u001b[0;34m(\u001b[0m\u001b[0mself\u001b[0m\u001b[0;34m.\u001b[0m\u001b[0mengine\u001b[0m\u001b[0;34m)\u001b[0m\u001b[0;34m\u001b[0m\u001b[0;34m\u001b[0m\u001b[0m\n\u001b[0m\u001b[1;32m    881\u001b[0m \u001b[0;34m\u001b[0m\u001b[0m\n\u001b[1;32m    882\u001b[0m     \u001b[0;32mdef\u001b[0m \u001b[0mclose\u001b[0m\u001b[0;34m(\u001b[0m\u001b[0mself\u001b[0m\u001b[0;34m)\u001b[0m\u001b[0;34m:\u001b[0m\u001b[0;34m\u001b[0m\u001b[0;34m\u001b[0m\u001b[0m\n",
      "\u001b[0;32m/opt/anaconda3/lib/python3.7/site-packages/pandas/io/parsers.py\u001b[0m in \u001b[0;36m_make_engine\u001b[0;34m(self, engine)\u001b[0m\n\u001b[1;32m   1112\u001b[0m     \u001b[0;32mdef\u001b[0m \u001b[0m_make_engine\u001b[0m\u001b[0;34m(\u001b[0m\u001b[0mself\u001b[0m\u001b[0;34m,\u001b[0m \u001b[0mengine\u001b[0m\u001b[0;34m=\u001b[0m\u001b[0;34m\"c\"\u001b[0m\u001b[0;34m)\u001b[0m\u001b[0;34m:\u001b[0m\u001b[0;34m\u001b[0m\u001b[0;34m\u001b[0m\u001b[0m\n\u001b[1;32m   1113\u001b[0m         \u001b[0;32mif\u001b[0m \u001b[0mengine\u001b[0m \u001b[0;34m==\u001b[0m \u001b[0;34m\"c\"\u001b[0m\u001b[0;34m:\u001b[0m\u001b[0;34m\u001b[0m\u001b[0;34m\u001b[0m\u001b[0m\n\u001b[0;32m-> 1114\u001b[0;31m             \u001b[0mself\u001b[0m\u001b[0;34m.\u001b[0m\u001b[0m_engine\u001b[0m \u001b[0;34m=\u001b[0m \u001b[0mCParserWrapper\u001b[0m\u001b[0;34m(\u001b[0m\u001b[0mself\u001b[0m\u001b[0;34m.\u001b[0m\u001b[0mf\u001b[0m\u001b[0;34m,\u001b[0m \u001b[0;34m**\u001b[0m\u001b[0mself\u001b[0m\u001b[0;34m.\u001b[0m\u001b[0moptions\u001b[0m\u001b[0;34m)\u001b[0m\u001b[0;34m\u001b[0m\u001b[0;34m\u001b[0m\u001b[0m\n\u001b[0m\u001b[1;32m   1115\u001b[0m         \u001b[0;32melse\u001b[0m\u001b[0;34m:\u001b[0m\u001b[0;34m\u001b[0m\u001b[0;34m\u001b[0m\u001b[0m\n\u001b[1;32m   1116\u001b[0m             \u001b[0;32mif\u001b[0m \u001b[0mengine\u001b[0m \u001b[0;34m==\u001b[0m \u001b[0;34m\"python\"\u001b[0m\u001b[0;34m:\u001b[0m\u001b[0;34m\u001b[0m\u001b[0;34m\u001b[0m\u001b[0m\n",
      "\u001b[0;32m/opt/anaconda3/lib/python3.7/site-packages/pandas/io/parsers.py\u001b[0m in \u001b[0;36m__init__\u001b[0;34m(self, src, **kwds)\u001b[0m\n\u001b[1;32m   1889\u001b[0m         \u001b[0mkwds\u001b[0m\u001b[0;34m[\u001b[0m\u001b[0;34m\"usecols\"\u001b[0m\u001b[0;34m]\u001b[0m \u001b[0;34m=\u001b[0m \u001b[0mself\u001b[0m\u001b[0;34m.\u001b[0m\u001b[0musecols\u001b[0m\u001b[0;34m\u001b[0m\u001b[0;34m\u001b[0m\u001b[0m\n\u001b[1;32m   1890\u001b[0m \u001b[0;34m\u001b[0m\u001b[0m\n\u001b[0;32m-> 1891\u001b[0;31m         \u001b[0mself\u001b[0m\u001b[0;34m.\u001b[0m\u001b[0m_reader\u001b[0m \u001b[0;34m=\u001b[0m \u001b[0mparsers\u001b[0m\u001b[0;34m.\u001b[0m\u001b[0mTextReader\u001b[0m\u001b[0;34m(\u001b[0m\u001b[0msrc\u001b[0m\u001b[0;34m,\u001b[0m \u001b[0;34m**\u001b[0m\u001b[0mkwds\u001b[0m\u001b[0;34m)\u001b[0m\u001b[0;34m\u001b[0m\u001b[0;34m\u001b[0m\u001b[0m\n\u001b[0m\u001b[1;32m   1892\u001b[0m         \u001b[0mself\u001b[0m\u001b[0;34m.\u001b[0m\u001b[0munnamed_cols\u001b[0m \u001b[0;34m=\u001b[0m \u001b[0mself\u001b[0m\u001b[0;34m.\u001b[0m\u001b[0m_reader\u001b[0m\u001b[0;34m.\u001b[0m\u001b[0munnamed_cols\u001b[0m\u001b[0;34m\u001b[0m\u001b[0;34m\u001b[0m\u001b[0m\n\u001b[1;32m   1893\u001b[0m \u001b[0;34m\u001b[0m\u001b[0m\n",
      "\u001b[0;32mpandas/_libs/parsers.pyx\u001b[0m in \u001b[0;36mpandas._libs.parsers.TextReader.__cinit__\u001b[0;34m()\u001b[0m\n",
      "\u001b[0;32mpandas/_libs/parsers.pyx\u001b[0m in \u001b[0;36mpandas._libs.parsers.TextReader._setup_parser_source\u001b[0;34m()\u001b[0m\n",
      "\u001b[0;31mFileNotFoundError\u001b[0m: [Errno 2] File C:/Users/Jamie.williams/OneDrive - Newton Europe Ltd/Castle Donnington/Data/active_totes_20201210.csv does not exist: 'C:/Users/Jamie.williams/OneDrive - Newton Europe Ltd/Castle Donnington/Data/active_totes_20201210.csv'"
     ]
    }
   ],
   "source": [
    "at = pd.read_csv(path+'active_totes_20201210.csv')\n",
    "av = pd.read_csv(path+'Availability_with_Grey&Blue_1811-0912.csv',names = [\"timestamp\",\"Pick Station\",\"Availability\",\"Blue Tote Loss\",\"Grey Tote Loss\"])\n",
    "#fa = pd.read_csv(path + 'scs_tote_matched.csv')\n",
    "scs_raw = pd.read_csv(path + 'Faults20_11-10_12.csv')"
   ]
  },
  {
   "cell_type": "code",
   "execution_count": 5,
   "metadata": {},
   "outputs": [
    {
     "name": "stdout",
     "output_type": "stream",
     "text": [
      "Running: Function \"pre_process_AT\" (id=1271769208000) was called 2 times\n"
     ]
    }
   ],
   "source": [
    "at = feat.pre_process_AT(at)"
   ]
  },
  {
   "cell_type": "code",
   "execution_count": 6,
   "metadata": {},
   "outputs": [
    {
     "name": "stdout",
     "output_type": "stream",
     "text": [
      "Running: Function \"pre_process_av\" (id=1271769210592) was called 1 times\n"
     ]
    }
   ],
   "source": [
    "av = feat.pre_process_av(av)"
   ]
  },
  {
   "cell_type": "code",
   "execution_count": 7,
   "metadata": {},
   "outputs": [
    {
     "name": "stdout",
     "output_type": "stream",
     "text": [
      "Running: Function \"preprocess_faults\" (id=1271769209152) was called 1 times\n",
      "Running: Function \"load_tote_lookup\" (id=1271769210016) was called 1 times\n",
      "Running: Function \"load_module_lookup\" (id=1271766285328) was called 1 times\n",
      "Running: Function \"load_ID_lookup\" (id=1271769210736) was called 1 times\n"
     ]
    }
   ],
   "source": [
    "fa,unmapped, end_time = feat.preprocess_faults(scs_raw)\n",
    "\n",
    "#fa= fa[fa['timestamp']<(fa['timestamp'].max()-pd.to_timedelta(7, unit='D'))]"
   ]
  },
  {
   "cell_type": "code",
   "execution_count": 8,
   "metadata": {},
   "outputs": [
    {
     "name": "stdout",
     "output_type": "stream",
     "text": [
      "Running: Function \"floor_shift_time_fa\" (id=1271769209296) was called 1 times\n"
     ]
    }
   ],
   "source": [
    "fa_floor = feat.floor_shift_time_fa(fa, shift=0)"
   ]
  },
  {
   "cell_type": "code",
   "execution_count": 10,
   "metadata": {},
   "outputs": [
    {
     "name": "stdout",
     "output_type": "stream",
     "text": [
      "Running: Function \"create_PTT_df\" (id=1271769425952) was called 2 times\n",
      "Running: Function \"fault_select\" (id=1271769423936) was called 1 times\n",
      "Running: Function \"load_PTT_lookup\" (id=1271769210448) was called 1 times\n",
      "Running: Function \"faults_aggregate\" (id=1271769424224) was called 1 times\n",
      "Running: Function \"weight_hours\" (id=1271769425376) was called 1 times\n",
      "Running: Function \"av_at_select\" (id=1271769424512) was called 1 times\n",
      "Running: Function \"aggregate_availability\" (id=1271769424800) was called 1 times\n",
      "Running: Function \"aggregate_totes\" (id=1271769425088) was called 1 times\n",
      "Running: Function \"merge_av_fa_at\" (id=1271769425664) was called 1 times\n",
      "Running: Function \"fault_select\" (id=1271769423936) was called 2 times\n",
      "Running: Function \"load_PTT_lookup\" (id=1271769210448) was called 2 times\n",
      "Running: Function \"faults_aggregate\" (id=1271769424224) was called 2 times\n",
      "Running: Function \"weight_hours\" (id=1271769425376) was called 2 times\n",
      "Running: Function \"av_at_select\" (id=1271769424512) was called 2 times\n",
      "Running: Function \"aggregate_availability\" (id=1271769424800) was called 2 times\n",
      "Running: Function \"aggregate_totes\" (id=1271769425088) was called 2 times\n",
      "Running: Function \"merge_av_fa_at\" (id=1271769425664) was called 2 times\n",
      "Running: Function \"fault_select\" (id=1271769423936) was called 3 times\n",
      "Running: Function \"load_PTT_lookup\" (id=1271769210448) was called 3 times\n",
      "Running: Function \"faults_aggregate\" (id=1271769424224) was called 3 times\n",
      "Running: Function \"weight_hours\" (id=1271769425376) was called 3 times\n",
      "Running: Function \"av_at_select\" (id=1271769424512) was called 3 times\n",
      "Running: Function \"aggregate_availability\" (id=1271769424800) was called 3 times\n",
      "Running: Function \"aggregate_totes\" (id=1271769425088) was called 3 times\n",
      "Running: Function \"merge_av_fa_at\" (id=1271769425664) was called 3 times\n",
      "Running: Function \"fault_select\" (id=1271769423936) was called 4 times\n",
      "Running: Function \"load_PTT_lookup\" (id=1271769210448) was called 4 times\n",
      "Running: Function \"faults_aggregate\" (id=1271769424224) was called 4 times\n",
      "Running: Function \"weight_hours\" (id=1271769425376) was called 4 times\n",
      "Running: Function \"av_at_select\" (id=1271769424512) was called 4 times\n",
      "Running: Function \"aggregate_availability\" (id=1271769424800) was called 4 times\n",
      "Running: Function \"aggregate_totes\" (id=1271769425088) was called 4 times\n",
      "Running: Function \"merge_av_fa_at\" (id=1271769425664) was called 4 times\n",
      "Running: Function \"fault_select\" (id=1271769423936) was called 5 times\n",
      "Running: Function \"load_PTT_lookup\" (id=1271769210448) was called 5 times\n",
      "Running: Function \"faults_aggregate\" (id=1271769424224) was called 5 times\n",
      "Running: Function \"weight_hours\" (id=1271769425376) was called 5 times\n",
      "Running: Function \"av_at_select\" (id=1271769424512) was called 5 times\n",
      "Running: Function \"aggregate_availability\" (id=1271769424800) was called 5 times\n",
      "Running: Function \"aggregate_totes\" (id=1271769425088) was called 5 times\n",
      "Running: Function \"merge_av_fa_at\" (id=1271769425664) was called 5 times\n",
      "Running: Function \"fault_select\" (id=1271769423936) was called 6 times\n",
      "Running: Function \"load_PTT_lookup\" (id=1271769210448) was called 6 times\n",
      "Running: Function \"faults_aggregate\" (id=1271769424224) was called 6 times\n",
      "Running: Function \"weight_hours\" (id=1271769425376) was called 6 times\n",
      "Running: Function \"av_at_select\" (id=1271769424512) was called 6 times\n",
      "Running: Function \"aggregate_availability\" (id=1271769424800) was called 6 times\n",
      "Running: Function \"aggregate_totes\" (id=1271769425088) was called 6 times\n",
      "Running: Function \"merge_av_fa_at\" (id=1271769425664) was called 6 times\n",
      "Running: Function \"fault_select\" (id=1271769423936) was called 7 times\n",
      "Running: Function \"load_PTT_lookup\" (id=1271769210448) was called 7 times\n",
      "Running: Function \"faults_aggregate\" (id=1271769424224) was called 7 times\n",
      "Running: Function \"weight_hours\" (id=1271769425376) was called 7 times\n",
      "Running: Function \"av_at_select\" (id=1271769424512) was called 7 times\n",
      "Running: Function \"aggregate_availability\" (id=1271769424800) was called 7 times\n",
      "Running: Function \"aggregate_totes\" (id=1271769425088) was called 7 times\n",
      "Running: Function \"merge_av_fa_at\" (id=1271769425664) was called 7 times\n",
      "Running: Function \"fault_select\" (id=1271769423936) was called 8 times\n",
      "Running: Function \"load_PTT_lookup\" (id=1271769210448) was called 8 times\n",
      "Running: Function \"faults_aggregate\" (id=1271769424224) was called 8 times\n",
      "Running: Function \"weight_hours\" (id=1271769425376) was called 8 times\n",
      "Running: Function \"av_at_select\" (id=1271769424512) was called 8 times\n",
      "Running: Function \"aggregate_availability\" (id=1271769424800) was called 8 times\n",
      "Running: Function \"aggregate_totes\" (id=1271769425088) was called 8 times\n",
      "Running: Function \"merge_av_fa_at\" (id=1271769425664) was called 8 times\n",
      "Running: Function \"fault_select\" (id=1271769423936) was called 9 times\n",
      "Running: Function \"load_PTT_lookup\" (id=1271769210448) was called 9 times\n",
      "Running: Function \"faults_aggregate\" (id=1271769424224) was called 9 times\n",
      "Running: Function \"weight_hours\" (id=1271769425376) was called 9 times\n",
      "Running: Function \"av_at_select\" (id=1271769424512) was called 9 times\n",
      "Running: Function \"aggregate_availability\" (id=1271769424800) was called 9 times\n",
      "Running: Function \"aggregate_totes\" (id=1271769425088) was called 9 times\n",
      "Running: Function \"merge_av_fa_at\" (id=1271769425664) was called 9 times\n",
      "Running: Function \"fault_select\" (id=1271769423936) was called 10 times\n",
      "Running: Function \"load_PTT_lookup\" (id=1271769210448) was called 10 times\n",
      "Running: Function \"faults_aggregate\" (id=1271769424224) was called 10 times\n",
      "Running: Function \"weight_hours\" (id=1271769425376) was called 10 times\n",
      "Running: Function \"av_at_select\" (id=1271769424512) was called 10 times\n",
      "Running: Function \"aggregate_availability\" (id=1271769424800) was called 10 times\n",
      "Running: Function \"aggregate_totes\" (id=1271769425088) was called 10 times\n",
      "Running: Function \"merge_av_fa_at\" (id=1271769425664) was called 10 times\n",
      "Running: Function \"fault_select\" (id=1271769423936) was called 11 times\n",
      "Running: Function \"load_PTT_lookup\" (id=1271769210448) was called 11 times\n",
      "Running: Function \"faults_aggregate\" (id=1271769424224) was called 11 times\n",
      "Running: Function \"weight_hours\" (id=1271769425376) was called 11 times\n",
      "Running: Function \"av_at_select\" (id=1271769424512) was called 11 times\n",
      "Running: Function \"aggregate_availability\" (id=1271769424800) was called 11 times\n",
      "Running: Function \"aggregate_totes\" (id=1271769425088) was called 11 times\n",
      "Running: Function \"merge_av_fa_at\" (id=1271769425664) was called 11 times\n",
      "Running: Function \"fault_select\" (id=1271769423936) was called 12 times\n",
      "Running: Function \"load_PTT_lookup\" (id=1271769210448) was called 12 times\n",
      "Running: Function \"faults_aggregate\" (id=1271769424224) was called 12 times\n",
      "Running: Function \"weight_hours\" (id=1271769425376) was called 12 times\n",
      "Running: Function \"av_at_select\" (id=1271769424512) was called 12 times\n",
      "Running: Function \"aggregate_availability\" (id=1271769424800) was called 12 times\n",
      "Running: Function \"aggregate_totes\" (id=1271769425088) was called 12 times\n",
      "Running: Function \"merge_av_fa_at\" (id=1271769425664) was called 12 times\n",
      "Running: Function \"fault_select\" (id=1271769423936) was called 13 times\n",
      "Running: Function \"load_PTT_lookup\" (id=1271769210448) was called 13 times\n",
      "Running: Function \"faults_aggregate\" (id=1271769424224) was called 13 times\n",
      "Running: Function \"weight_hours\" (id=1271769425376) was called 13 times\n",
      "Running: Function \"av_at_select\" (id=1271769424512) was called 13 times\n",
      "Running: Function \"aggregate_availability\" (id=1271769424800) was called 13 times\n",
      "Running: Function \"aggregate_totes\" (id=1271769425088) was called 13 times\n",
      "Running: Function \"merge_av_fa_at\" (id=1271769425664) was called 13 times\n",
      "Running: Function \"fault_select\" (id=1271769423936) was called 14 times\n",
      "Running: Function \"load_PTT_lookup\" (id=1271769210448) was called 14 times\n",
      "Running: Function \"faults_aggregate\" (id=1271769424224) was called 14 times\n",
      "Running: Function \"weight_hours\" (id=1271769425376) was called 14 times\n",
      "Running: Function \"av_at_select\" (id=1271769424512) was called 14 times\n",
      "Running: Function \"aggregate_availability\" (id=1271769424800) was called 14 times\n",
      "Running: Function \"aggregate_totes\" (id=1271769425088) was called 14 times\n",
      "Running: Function \"merge_av_fa_at\" (id=1271769425664) was called 14 times\n"
     ]
    },
    {
     "name": "stdout",
     "output_type": "stream",
     "text": [
      "Running: Function \"fault_select\" (id=1271769423936) was called 15 times\n",
      "Running: Function \"load_PTT_lookup\" (id=1271769210448) was called 15 times\n",
      "Running: Function \"faults_aggregate\" (id=1271769424224) was called 15 times\n",
      "Running: Function \"weight_hours\" (id=1271769425376) was called 15 times\n",
      "Running: Function \"av_at_select\" (id=1271769424512) was called 15 times\n",
      "Running: Function \"aggregate_availability\" (id=1271769424800) was called 15 times\n",
      "Running: Function \"aggregate_totes\" (id=1271769425088) was called 15 times\n",
      "Running: Function \"merge_av_fa_at\" (id=1271769425664) was called 15 times\n",
      "Running: Function \"fault_select\" (id=1271769423936) was called 16 times\n",
      "Running: Function \"load_PTT_lookup\" (id=1271769210448) was called 16 times\n",
      "Running: Function \"faults_aggregate\" (id=1271769424224) was called 16 times\n",
      "Running: Function \"weight_hours\" (id=1271769425376) was called 16 times\n",
      "Running: Function \"av_at_select\" (id=1271769424512) was called 16 times\n",
      "Running: Function \"aggregate_availability\" (id=1271769424800) was called 16 times\n",
      "Running: Function \"aggregate_totes\" (id=1271769425088) was called 16 times\n",
      "Running: Function \"merge_av_fa_at\" (id=1271769425664) was called 16 times\n",
      "Running: Function \"fault_select\" (id=1271769423936) was called 17 times\n",
      "Running: Function \"load_PTT_lookup\" (id=1271769210448) was called 17 times\n",
      "Running: Function \"faults_aggregate\" (id=1271769424224) was called 17 times\n",
      "Running: Function \"weight_hours\" (id=1271769425376) was called 17 times\n",
      "Running: Function \"av_at_select\" (id=1271769424512) was called 17 times\n",
      "Running: Function \"aggregate_availability\" (id=1271769424800) was called 17 times\n",
      "Running: Function \"aggregate_totes\" (id=1271769425088) was called 17 times\n",
      "Running: Function \"merge_av_fa_at\" (id=1271769425664) was called 17 times\n",
      "Running: Function \"fault_select\" (id=1271769423936) was called 18 times\n",
      "Running: Function \"load_PTT_lookup\" (id=1271769210448) was called 18 times\n",
      "Running: Function \"faults_aggregate\" (id=1271769424224) was called 18 times\n",
      "Running: Function \"weight_hours\" (id=1271769425376) was called 18 times\n",
      "Running: Function \"av_at_select\" (id=1271769424512) was called 18 times\n",
      "Running: Function \"aggregate_availability\" (id=1271769424800) was called 18 times\n",
      "Running: Function \"aggregate_totes\" (id=1271769425088) was called 18 times\n",
      "Running: Function \"merge_av_fa_at\" (id=1271769425664) was called 18 times\n",
      "Running: Function \"fault_select\" (id=1271769423936) was called 19 times\n",
      "Running: Function \"load_PTT_lookup\" (id=1271769210448) was called 19 times\n",
      "Running: Function \"faults_aggregate\" (id=1271769424224) was called 19 times\n",
      "Running: Function \"weight_hours\" (id=1271769425376) was called 19 times\n",
      "Running: Function \"av_at_select\" (id=1271769424512) was called 19 times\n",
      "Running: Function \"aggregate_availability\" (id=1271769424800) was called 19 times\n",
      "Running: Function \"aggregate_totes\" (id=1271769425088) was called 19 times\n",
      "Running: Function \"merge_av_fa_at\" (id=1271769425664) was called 19 times\n",
      "Running: Function \"fault_select\" (id=1271769423936) was called 20 times\n",
      "Running: Function \"load_PTT_lookup\" (id=1271769210448) was called 20 times\n",
      "Running: Function \"faults_aggregate\" (id=1271769424224) was called 20 times\n",
      "Running: Function \"weight_hours\" (id=1271769425376) was called 20 times\n",
      "Running: Function \"av_at_select\" (id=1271769424512) was called 20 times\n",
      "Running: Function \"aggregate_availability\" (id=1271769424800) was called 20 times\n",
      "Running: Function \"aggregate_totes\" (id=1271769425088) was called 20 times\n",
      "Running: Function \"merge_av_fa_at\" (id=1271769425664) was called 20 times\n",
      "Running: Function \"fault_select\" (id=1271769423936) was called 21 times\n",
      "Running: Function \"load_PTT_lookup\" (id=1271769210448) was called 21 times\n",
      "Running: Function \"faults_aggregate\" (id=1271769424224) was called 21 times\n",
      "Running: Function \"weight_hours\" (id=1271769425376) was called 21 times\n",
      "Running: Function \"av_at_select\" (id=1271769424512) was called 21 times\n",
      "Running: Function \"aggregate_availability\" (id=1271769424800) was called 21 times\n",
      "Running: Function \"aggregate_totes\" (id=1271769425088) was called 21 times\n",
      "Running: Function \"merge_av_fa_at\" (id=1271769425664) was called 21 times\n",
      "Running: Function \"fault_select\" (id=1271769423936) was called 22 times\n",
      "Running: Function \"load_PTT_lookup\" (id=1271769210448) was called 22 times\n",
      "Running: Function \"faults_aggregate\" (id=1271769424224) was called 22 times\n",
      "Running: Function \"weight_hours\" (id=1271769425376) was called 22 times\n",
      "Running: Function \"av_at_select\" (id=1271769424512) was called 22 times\n",
      "Running: Function \"aggregate_availability\" (id=1271769424800) was called 22 times\n",
      "Running: Function \"aggregate_totes\" (id=1271769425088) was called 22 times\n",
      "Running: Function \"merge_av_fa_at\" (id=1271769425664) was called 22 times\n",
      "Running: Function \"fault_select\" (id=1271769423936) was called 23 times\n",
      "Running: Function \"load_PTT_lookup\" (id=1271769210448) was called 23 times\n",
      "Running: Function \"faults_aggregate\" (id=1271769424224) was called 23 times\n",
      "Running: Function \"weight_hours\" (id=1271769425376) was called 23 times\n",
      "Running: Function \"av_at_select\" (id=1271769424512) was called 23 times\n",
      "Running: Function \"aggregate_availability\" (id=1271769424800) was called 23 times\n",
      "Running: Function \"aggregate_totes\" (id=1271769425088) was called 23 times\n",
      "Running: Function \"merge_av_fa_at\" (id=1271769425664) was called 23 times\n",
      "Running: Function \"fault_select\" (id=1271769423936) was called 24 times\n",
      "Running: Function \"load_PTT_lookup\" (id=1271769210448) was called 24 times\n",
      "Running: Function \"faults_aggregate\" (id=1271769424224) was called 24 times\n",
      "Running: Function \"weight_hours\" (id=1271769425376) was called 24 times\n",
      "Running: Function \"av_at_select\" (id=1271769424512) was called 24 times\n",
      "Running: Function \"aggregate_availability\" (id=1271769424800) was called 24 times\n",
      "Running: Function \"aggregate_totes\" (id=1271769425088) was called 24 times\n",
      "Running: Function \"merge_av_fa_at\" (id=1271769425664) was called 24 times\n",
      "Running: Function \"fault_select\" (id=1271769423936) was called 25 times\n",
      "Running: Function \"load_PTT_lookup\" (id=1271769210448) was called 25 times\n",
      "Running: Function \"faults_aggregate\" (id=1271769424224) was called 25 times\n",
      "Running: Function \"weight_hours\" (id=1271769425376) was called 25 times\n",
      "Running: Function \"av_at_select\" (id=1271769424512) was called 25 times\n",
      "Running: Function \"aggregate_availability\" (id=1271769424800) was called 25 times\n",
      "Running: Function \"aggregate_totes\" (id=1271769425088) was called 25 times\n",
      "Running: Function \"merge_av_fa_at\" (id=1271769425664) was called 25 times\n",
      "Running: Function \"fault_select\" (id=1271769423936) was called 26 times\n",
      "Running: Function \"load_PTT_lookup\" (id=1271769210448) was called 26 times\n",
      "Running: Function \"faults_aggregate\" (id=1271769424224) was called 26 times\n",
      "Running: Function \"weight_hours\" (id=1271769425376) was called 26 times\n",
      "Running: Function \"av_at_select\" (id=1271769424512) was called 26 times\n",
      "Running: Function \"aggregate_availability\" (id=1271769424800) was called 26 times\n",
      "Running: Function \"aggregate_totes\" (id=1271769425088) was called 26 times\n",
      "Running: Function \"merge_av_fa_at\" (id=1271769425664) was called 26 times\n",
      "Running: Function \"fault_select\" (id=1271769423936) was called 27 times\n",
      "Running: Function \"load_PTT_lookup\" (id=1271769210448) was called 27 times\n",
      "Running: Function \"faults_aggregate\" (id=1271769424224) was called 27 times\n",
      "Running: Function \"weight_hours\" (id=1271769425376) was called 27 times\n",
      "Running: Function \"av_at_select\" (id=1271769424512) was called 27 times\n",
      "Running: Function \"aggregate_availability\" (id=1271769424800) was called 27 times\n",
      "Running: Function \"aggregate_totes\" (id=1271769425088) was called 27 times\n",
      "Running: Function \"merge_av_fa_at\" (id=1271769425664) was called 27 times\n",
      "Running: Function \"fault_select\" (id=1271769423936) was called 28 times\n",
      "Running: Function \"load_PTT_lookup\" (id=1271769210448) was called 28 times\n",
      "Running: Function \"faults_aggregate\" (id=1271769424224) was called 28 times\n",
      "Running: Function \"weight_hours\" (id=1271769425376) was called 28 times\n",
      "Running: Function \"av_at_select\" (id=1271769424512) was called 28 times\n",
      "Running: Function \"aggregate_availability\" (id=1271769424800) was called 28 times\n",
      "Running: Function \"aggregate_totes\" (id=1271769425088) was called 28 times\n",
      "Running: Function \"merge_av_fa_at\" (id=1271769425664) was called 28 times\n"
     ]
    },
    {
     "name": "stdout",
     "output_type": "stream",
     "text": [
      "Running: Function \"fault_select\" (id=1271769423936) was called 29 times\n",
      "Running: Function \"load_PTT_lookup\" (id=1271769210448) was called 29 times\n",
      "Running: Function \"faults_aggregate\" (id=1271769424224) was called 29 times\n",
      "Running: Function \"weight_hours\" (id=1271769425376) was called 29 times\n",
      "Running: Function \"av_at_select\" (id=1271769424512) was called 29 times\n",
      "Running: Function \"aggregate_availability\" (id=1271769424800) was called 29 times\n",
      "Running: Function \"aggregate_totes\" (id=1271769425088) was called 29 times\n",
      "Running: Function \"merge_av_fa_at\" (id=1271769425664) was called 29 times\n",
      "Running: Function \"fault_select\" (id=1271769423936) was called 30 times\n",
      "Running: Function \"load_PTT_lookup\" (id=1271769210448) was called 30 times\n",
      "Running: Function \"faults_aggregate\" (id=1271769424224) was called 30 times\n",
      "Running: Function \"weight_hours\" (id=1271769425376) was called 30 times\n",
      "Running: Function \"av_at_select\" (id=1271769424512) was called 30 times\n",
      "Running: Function \"aggregate_availability\" (id=1271769424800) was called 30 times\n",
      "Running: Function \"aggregate_totes\" (id=1271769425088) was called 30 times\n",
      "Running: Function \"merge_av_fa_at\" (id=1271769425664) was called 30 times\n",
      "Running: Function \"fault_select\" (id=1271769423936) was called 31 times\n",
      "Running: Function \"load_PTT_lookup\" (id=1271769210448) was called 31 times\n",
      "Running: Function \"faults_aggregate\" (id=1271769424224) was called 31 times\n",
      "Running: Function \"weight_hours\" (id=1271769425376) was called 31 times\n",
      "Running: Function \"av_at_select\" (id=1271769424512) was called 31 times\n",
      "Running: Function \"aggregate_availability\" (id=1271769424800) was called 31 times\n",
      "Running: Function \"aggregate_totes\" (id=1271769425088) was called 31 times\n",
      "Running: Function \"merge_av_fa_at\" (id=1271769425664) was called 31 times\n",
      "Running: Function \"fault_select\" (id=1271769423936) was called 32 times\n",
      "Running: Function \"load_PTT_lookup\" (id=1271769210448) was called 32 times\n",
      "Running: Function \"faults_aggregate\" (id=1271769424224) was called 32 times\n",
      "Running: Function \"weight_hours\" (id=1271769425376) was called 32 times\n",
      "Running: Function \"av_at_select\" (id=1271769424512) was called 32 times\n",
      "Running: Function \"aggregate_availability\" (id=1271769424800) was called 32 times\n",
      "Running: Function \"aggregate_totes\" (id=1271769425088) was called 32 times\n",
      "Running: Function \"merge_av_fa_at\" (id=1271769425664) was called 32 times\n",
      "Running: Function \"fault_select\" (id=1271769423936) was called 33 times\n",
      "Running: Function \"load_PTT_lookup\" (id=1271769210448) was called 33 times\n",
      "Running: Function \"faults_aggregate\" (id=1271769424224) was called 33 times\n",
      "Running: Function \"weight_hours\" (id=1271769425376) was called 33 times\n",
      "Running: Function \"av_at_select\" (id=1271769424512) was called 33 times\n",
      "Running: Function \"aggregate_availability\" (id=1271769424800) was called 33 times\n",
      "Running: Function \"aggregate_totes\" (id=1271769425088) was called 33 times\n",
      "Running: Function \"merge_av_fa_at\" (id=1271769425664) was called 33 times\n",
      "Running: Function \"fault_select\" (id=1271769423936) was called 34 times\n",
      "Running: Function \"load_PTT_lookup\" (id=1271769210448) was called 34 times\n",
      "Running: Function \"faults_aggregate\" (id=1271769424224) was called 34 times\n",
      "Running: Function \"weight_hours\" (id=1271769425376) was called 34 times\n",
      "Running: Function \"av_at_select\" (id=1271769424512) was called 34 times\n",
      "Running: Function \"aggregate_availability\" (id=1271769424800) was called 34 times\n",
      "Running: Function \"aggregate_totes\" (id=1271769425088) was called 34 times\n",
      "Running: Function \"merge_av_fa_at\" (id=1271769425664) was called 34 times\n",
      "Running: Function \"fault_select\" (id=1271769423936) was called 35 times\n",
      "Running: Function \"load_PTT_lookup\" (id=1271769210448) was called 35 times\n",
      "Running: Function \"faults_aggregate\" (id=1271769424224) was called 35 times\n",
      "Running: Function \"weight_hours\" (id=1271769425376) was called 35 times\n",
      "Running: Function \"av_at_select\" (id=1271769424512) was called 35 times\n",
      "Running: Function \"aggregate_availability\" (id=1271769424800) was called 35 times\n",
      "Running: Function \"aggregate_totes\" (id=1271769425088) was called 35 times\n",
      "Running: Function \"merge_av_fa_at\" (id=1271769425664) was called 35 times\n",
      "Running: Function \"fault_select\" (id=1271769423936) was called 36 times\n",
      "Running: Function \"load_PTT_lookup\" (id=1271769210448) was called 36 times\n",
      "Running: Function \"faults_aggregate\" (id=1271769424224) was called 36 times\n",
      "Running: Function \"weight_hours\" (id=1271769425376) was called 36 times\n",
      "Running: Function \"av_at_select\" (id=1271769424512) was called 36 times\n",
      "Running: Function \"aggregate_availability\" (id=1271769424800) was called 36 times\n",
      "Running: Function \"aggregate_totes\" (id=1271769425088) was called 36 times\n",
      "Running: Function \"merge_av_fa_at\" (id=1271769425664) was called 36 times\n"
     ]
    }
   ],
   "source": [
    "df,fa_PTT = feat.create_PTT_df(fa_floor,at,av,weights = [1])\n",
    "\n",
    "df = feat.log_totes(df) "
   ]
  },
  {
   "cell_type": "code",
   "execution_count": 11,
   "metadata": {},
   "outputs": [
    {
     "data": {
      "text/html": [
       "<div>\n",
       "<style scoped>\n",
       "    .dataframe tbody tr th:only-of-type {\n",
       "        vertical-align: middle;\n",
       "    }\n",
       "\n",
       "    .dataframe tbody tr th {\n",
       "        vertical-align: top;\n",
       "    }\n",
       "\n",
       "    .dataframe thead th {\n",
       "        text-align: right;\n",
       "    }\n",
       "</style>\n",
       "<table border=\"1\" class=\"dataframe\">\n",
       "  <thead>\n",
       "    <tr style=\"text-align: right;\">\n",
       "      <th></th>\n",
       "      <th>timestamp</th>\n",
       "      <th>Availability</th>\n",
       "      <th>C05</th>\n",
       "      <th>C0501ACH011</th>\n",
       "      <th>C0501RDC004</th>\n",
       "      <th>C0501STA002</th>\n",
       "      <th>C0501STA012</th>\n",
       "      <th>C0501STA020</th>\n",
       "      <th>C0501STA201</th>\n",
       "      <th>C0501STA217</th>\n",
       "      <th>...</th>\n",
       "      <th>SCS202</th>\n",
       "      <th>SCS203</th>\n",
       "      <th>SCS204</th>\n",
       "      <th>SCS205</th>\n",
       "      <th>SCS206</th>\n",
       "      <th>SCSM20</th>\n",
       "      <th>C1404RDC146</th>\n",
       "      <th>C1404STA149</th>\n",
       "      <th>C14PTT202</th>\n",
       "      <th>log_totes</th>\n",
       "    </tr>\n",
       "  </thead>\n",
       "  <tbody>\n",
       "    <tr>\n",
       "      <th>0</th>\n",
       "      <td>2020-11-20 00:00:00</td>\n",
       "      <td>0.816168</td>\n",
       "      <td>0.0</td>\n",
       "      <td>0.0</td>\n",
       "      <td>0.0</td>\n",
       "      <td>0.0</td>\n",
       "      <td>0.00000</td>\n",
       "      <td>0.0</td>\n",
       "      <td>0.0</td>\n",
       "      <td>0.0</td>\n",
       "      <td>...</td>\n",
       "      <td>0.000000</td>\n",
       "      <td>0.000000</td>\n",
       "      <td>0.000000</td>\n",
       "      <td>0.000000</td>\n",
       "      <td>0.0</td>\n",
       "      <td>0.000000</td>\n",
       "      <td>0.0</td>\n",
       "      <td>0.000000</td>\n",
       "      <td>0.000000</td>\n",
       "      <td>3.591024</td>\n",
       "    </tr>\n",
       "    <tr>\n",
       "      <th>1</th>\n",
       "      <td>2020-11-20 01:00:00</td>\n",
       "      <td>0.806332</td>\n",
       "      <td>0.0</td>\n",
       "      <td>0.0</td>\n",
       "      <td>0.0</td>\n",
       "      <td>0.0</td>\n",
       "      <td>0.00000</td>\n",
       "      <td>0.0</td>\n",
       "      <td>0.0</td>\n",
       "      <td>0.0</td>\n",
       "      <td>...</td>\n",
       "      <td>0.000000</td>\n",
       "      <td>0.000000</td>\n",
       "      <td>0.000000</td>\n",
       "      <td>0.000000</td>\n",
       "      <td>0.0</td>\n",
       "      <td>0.000000</td>\n",
       "      <td>0.0</td>\n",
       "      <td>0.000000</td>\n",
       "      <td>0.000000</td>\n",
       "      <td>3.482777</td>\n",
       "    </tr>\n",
       "    <tr>\n",
       "      <th>2</th>\n",
       "      <td>2020-11-20 02:00:00</td>\n",
       "      <td>0.314598</td>\n",
       "      <td>0.0</td>\n",
       "      <td>0.0</td>\n",
       "      <td>0.0</td>\n",
       "      <td>0.0</td>\n",
       "      <td>0.00000</td>\n",
       "      <td>0.0</td>\n",
       "      <td>0.0</td>\n",
       "      <td>0.0</td>\n",
       "      <td>...</td>\n",
       "      <td>0.000000</td>\n",
       "      <td>0.000000</td>\n",
       "      <td>0.000000</td>\n",
       "      <td>0.000000</td>\n",
       "      <td>0.0</td>\n",
       "      <td>0.000000</td>\n",
       "      <td>0.0</td>\n",
       "      <td>0.000000</td>\n",
       "      <td>0.000000</td>\n",
       "      <td>3.162658</td>\n",
       "    </tr>\n",
       "    <tr>\n",
       "      <th>3</th>\n",
       "      <td>2020-11-20 03:00:00</td>\n",
       "      <td>0.967823</td>\n",
       "      <td>0.0</td>\n",
       "      <td>0.0</td>\n",
       "      <td>0.0</td>\n",
       "      <td>0.0</td>\n",
       "      <td>2.94591</td>\n",
       "      <td>0.0</td>\n",
       "      <td>0.0</td>\n",
       "      <td>0.0</td>\n",
       "      <td>...</td>\n",
       "      <td>0.000000</td>\n",
       "      <td>0.000000</td>\n",
       "      <td>0.000000</td>\n",
       "      <td>0.000000</td>\n",
       "      <td>0.0</td>\n",
       "      <td>0.000000</td>\n",
       "      <td>0.0</td>\n",
       "      <td>0.000000</td>\n",
       "      <td>0.000000</td>\n",
       "      <td>3.512540</td>\n",
       "    </tr>\n",
       "    <tr>\n",
       "      <th>4</th>\n",
       "      <td>2020-11-20 04:00:00</td>\n",
       "      <td>0.495364</td>\n",
       "      <td>0.0</td>\n",
       "      <td>0.0</td>\n",
       "      <td>0.0</td>\n",
       "      <td>0.0</td>\n",
       "      <td>0.00000</td>\n",
       "      <td>0.0</td>\n",
       "      <td>0.0</td>\n",
       "      <td>0.0</td>\n",
       "      <td>...</td>\n",
       "      <td>0.000000</td>\n",
       "      <td>0.000000</td>\n",
       "      <td>0.000000</td>\n",
       "      <td>0.000000</td>\n",
       "      <td>0.0</td>\n",
       "      <td>0.000000</td>\n",
       "      <td>0.0</td>\n",
       "      <td>0.000000</td>\n",
       "      <td>0.000000</td>\n",
       "      <td>3.494485</td>\n",
       "    </tr>\n",
       "    <tr>\n",
       "      <th>...</th>\n",
       "      <td>...</td>\n",
       "      <td>...</td>\n",
       "      <td>...</td>\n",
       "      <td>...</td>\n",
       "      <td>...</td>\n",
       "      <td>...</td>\n",
       "      <td>...</td>\n",
       "      <td>...</td>\n",
       "      <td>...</td>\n",
       "      <td>...</td>\n",
       "      <td>...</td>\n",
       "      <td>...</td>\n",
       "      <td>...</td>\n",
       "      <td>...</td>\n",
       "      <td>...</td>\n",
       "      <td>...</td>\n",
       "      <td>...</td>\n",
       "      <td>...</td>\n",
       "      <td>...</td>\n",
       "      <td>...</td>\n",
       "      <td>...</td>\n",
       "    </tr>\n",
       "    <tr>\n",
       "      <th>461</th>\n",
       "      <td>2020-12-09 13:00:00</td>\n",
       "      <td>0.989251</td>\n",
       "      <td>0.0</td>\n",
       "      <td>0.0</td>\n",
       "      <td>0.0</td>\n",
       "      <td>0.0</td>\n",
       "      <td>0.00000</td>\n",
       "      <td>0.0</td>\n",
       "      <td>0.0</td>\n",
       "      <td>0.0</td>\n",
       "      <td>...</td>\n",
       "      <td>6.834811</td>\n",
       "      <td>6.123964</td>\n",
       "      <td>0.000000</td>\n",
       "      <td>21.264287</td>\n",
       "      <td>0.0</td>\n",
       "      <td>7.529429</td>\n",
       "      <td>0.0</td>\n",
       "      <td>0.000000</td>\n",
       "      <td>0.000000</td>\n",
       "      <td>3.936716</td>\n",
       "    </tr>\n",
       "    <tr>\n",
       "      <th>462</th>\n",
       "      <td>2020-12-09 14:00:00</td>\n",
       "      <td>0.884003</td>\n",
       "      <td>0.0</td>\n",
       "      <td>0.0</td>\n",
       "      <td>0.0</td>\n",
       "      <td>0.0</td>\n",
       "      <td>0.00000</td>\n",
       "      <td>0.0</td>\n",
       "      <td>0.0</td>\n",
       "      <td>0.0</td>\n",
       "      <td>...</td>\n",
       "      <td>0.000000</td>\n",
       "      <td>6.720312</td>\n",
       "      <td>6.662960</td>\n",
       "      <td>26.009172</td>\n",
       "      <td>0.0</td>\n",
       "      <td>16.736374</td>\n",
       "      <td>0.0</td>\n",
       "      <td>0.000000</td>\n",
       "      <td>0.000000</td>\n",
       "      <td>4.332048</td>\n",
       "    </tr>\n",
       "    <tr>\n",
       "      <th>463</th>\n",
       "      <td>2020-12-09 15:00:00</td>\n",
       "      <td>0.929763</td>\n",
       "      <td>0.0</td>\n",
       "      <td>0.0</td>\n",
       "      <td>0.0</td>\n",
       "      <td>0.0</td>\n",
       "      <td>0.00000</td>\n",
       "      <td>0.0</td>\n",
       "      <td>0.0</td>\n",
       "      <td>0.0</td>\n",
       "      <td>...</td>\n",
       "      <td>7.356108</td>\n",
       "      <td>0.000000</td>\n",
       "      <td>6.337538</td>\n",
       "      <td>14.578136</td>\n",
       "      <td>0.0</td>\n",
       "      <td>0.000000</td>\n",
       "      <td>0.0</td>\n",
       "      <td>7.111467</td>\n",
       "      <td>13.330787</td>\n",
       "      <td>4.177204</td>\n",
       "    </tr>\n",
       "    <tr>\n",
       "      <th>464</th>\n",
       "      <td>2020-12-09 16:00:00</td>\n",
       "      <td>0.976545</td>\n",
       "      <td>0.0</td>\n",
       "      <td>0.0</td>\n",
       "      <td>0.0</td>\n",
       "      <td>0.0</td>\n",
       "      <td>0.00000</td>\n",
       "      <td>0.0</td>\n",
       "      <td>0.0</td>\n",
       "      <td>0.0</td>\n",
       "      <td>...</td>\n",
       "      <td>0.000000</td>\n",
       "      <td>0.000000</td>\n",
       "      <td>7.302619</td>\n",
       "      <td>11.024011</td>\n",
       "      <td>0.0</td>\n",
       "      <td>0.000000</td>\n",
       "      <td>0.0</td>\n",
       "      <td>0.000000</td>\n",
       "      <td>2.609438</td>\n",
       "      <td>4.054390</td>\n",
       "    </tr>\n",
       "    <tr>\n",
       "      <th>465</th>\n",
       "      <td>2020-12-09 17:00:00</td>\n",
       "      <td>0.841450</td>\n",
       "      <td>0.0</td>\n",
       "      <td>0.0</td>\n",
       "      <td>0.0</td>\n",
       "      <td>0.0</td>\n",
       "      <td>0.00000</td>\n",
       "      <td>0.0</td>\n",
       "      <td>0.0</td>\n",
       "      <td>0.0</td>\n",
       "      <td>...</td>\n",
       "      <td>7.246107</td>\n",
       "      <td>0.000000</td>\n",
       "      <td>0.000000</td>\n",
       "      <td>0.000000</td>\n",
       "      <td>0.0</td>\n",
       "      <td>0.000000</td>\n",
       "      <td>0.0</td>\n",
       "      <td>7.492240</td>\n",
       "      <td>19.303653</td>\n",
       "      <td>3.939962</td>\n",
       "    </tr>\n",
       "  </tbody>\n",
       "</table>\n",
       "<p>16736 rows × 1164 columns</p>\n",
       "</div>"
      ],
      "text/plain": [
       "              timestamp  Availability  C05  C0501ACH011  C0501RDC004  \\\n",
       "0   2020-11-20 00:00:00      0.816168  0.0          0.0          0.0   \n",
       "1   2020-11-20 01:00:00      0.806332  0.0          0.0          0.0   \n",
       "2   2020-11-20 02:00:00      0.314598  0.0          0.0          0.0   \n",
       "3   2020-11-20 03:00:00      0.967823  0.0          0.0          0.0   \n",
       "4   2020-11-20 04:00:00      0.495364  0.0          0.0          0.0   \n",
       "..                  ...           ...  ...          ...          ...   \n",
       "461 2020-12-09 13:00:00      0.989251  0.0          0.0          0.0   \n",
       "462 2020-12-09 14:00:00      0.884003  0.0          0.0          0.0   \n",
       "463 2020-12-09 15:00:00      0.929763  0.0          0.0          0.0   \n",
       "464 2020-12-09 16:00:00      0.976545  0.0          0.0          0.0   \n",
       "465 2020-12-09 17:00:00      0.841450  0.0          0.0          0.0   \n",
       "\n",
       "     C0501STA002  C0501STA012  C0501STA020  C0501STA201  C0501STA217  ...  \\\n",
       "0            0.0      0.00000          0.0          0.0          0.0  ...   \n",
       "1            0.0      0.00000          0.0          0.0          0.0  ...   \n",
       "2            0.0      0.00000          0.0          0.0          0.0  ...   \n",
       "3            0.0      2.94591          0.0          0.0          0.0  ...   \n",
       "4            0.0      0.00000          0.0          0.0          0.0  ...   \n",
       "..           ...          ...          ...          ...          ...  ...   \n",
       "461          0.0      0.00000          0.0          0.0          0.0  ...   \n",
       "462          0.0      0.00000          0.0          0.0          0.0  ...   \n",
       "463          0.0      0.00000          0.0          0.0          0.0  ...   \n",
       "464          0.0      0.00000          0.0          0.0          0.0  ...   \n",
       "465          0.0      0.00000          0.0          0.0          0.0  ...   \n",
       "\n",
       "       SCS202    SCS203    SCS204     SCS205  SCS206     SCSM20  C1404RDC146  \\\n",
       "0    0.000000  0.000000  0.000000   0.000000     0.0   0.000000          0.0   \n",
       "1    0.000000  0.000000  0.000000   0.000000     0.0   0.000000          0.0   \n",
       "2    0.000000  0.000000  0.000000   0.000000     0.0   0.000000          0.0   \n",
       "3    0.000000  0.000000  0.000000   0.000000     0.0   0.000000          0.0   \n",
       "4    0.000000  0.000000  0.000000   0.000000     0.0   0.000000          0.0   \n",
       "..        ...       ...       ...        ...     ...        ...          ...   \n",
       "461  6.834811  6.123964  0.000000  21.264287     0.0   7.529429          0.0   \n",
       "462  0.000000  6.720312  6.662960  26.009172     0.0  16.736374          0.0   \n",
       "463  7.356108  0.000000  6.337538  14.578136     0.0   0.000000          0.0   \n",
       "464  0.000000  0.000000  7.302619  11.024011     0.0   0.000000          0.0   \n",
       "465  7.246107  0.000000  0.000000   0.000000     0.0   0.000000          0.0   \n",
       "\n",
       "     C1404STA149  C14PTT202  log_totes  \n",
       "0       0.000000   0.000000   3.591024  \n",
       "1       0.000000   0.000000   3.482777  \n",
       "2       0.000000   0.000000   3.162658  \n",
       "3       0.000000   0.000000   3.512540  \n",
       "4       0.000000   0.000000   3.494485  \n",
       "..           ...        ...        ...  \n",
       "461     0.000000   0.000000   3.936716  \n",
       "462     0.000000   0.000000   4.332048  \n",
       "463     7.111467  13.330787   4.177204  \n",
       "464     0.000000   2.609438   4.054390  \n",
       "465     7.492240  19.303653   3.939962  \n",
       "\n",
       "[16736 rows x 1164 columns]"
      ]
     },
     "execution_count": 11,
     "metadata": {},
     "output_type": "execute_result"
    }
   ],
   "source": [
    "df"
   ]
  },
  {
   "cell_type": "code",
   "execution_count": null,
   "metadata": {},
   "outputs": [],
   "source": [
    "df_week = df[df['timestamp']>end_time - pd.to_timedelta(14, unit='D')]"
   ]
  },
  {
   "cell_type": "code",
   "execution_count": null,
   "metadata": {},
   "outputs": [],
   "source": [
    "X,y = md.gen_feat_var(df,target = 'Availability', features = ['Faults','Totes'])\n"
   ]
  },
  {
   "cell_type": "code",
   "execution_count": null,
   "metadata": {},
   "outputs": [],
   "source": [
    "X_train, X_test, y_train, y_test = md.split(X,y,split_options = {'test_size': 0.3,\n",
    "                                                                 'random_state': 42})\n",
    "\n",
    "R2_cv,R2_OOS,Coeff = md.run_OLS(X_train = X_train,y_train = y_train,X_test = X_test,y_test=y_test, n = 30)"
   ]
  },
  {
   "cell_type": "code",
   "execution_count": null,
   "metadata": {},
   "outputs": [],
   "source": [
    "R2_OOS"
   ]
  },
  {
   "cell_type": "markdown",
   "metadata": {},
   "source": [
    "# Plotting"
   ]
  },
  {
   "cell_type": "code",
   "execution_count": 34,
   "metadata": {},
   "outputs": [
    {
     "data": {
      "text/plain": [
       "C13PTT172    54\n",
       "C08PTT082    39\n",
       "C08PTT072    38\n",
       "C12PTT142    31\n",
       "C06PTT031    28\n",
       "C10PTT111    25\n",
       "C05PTT011    24\n",
       "C12PTT152    20\n",
       "C06PTT032    20\n",
       "C14PTT192    16\n",
       "C07PTT042    15\n",
       "C10PTT112    13\n",
       "C06PTT022    12\n",
       "C11PTT131    11\n",
       "C11PTT132    11\n",
       "C11PTT122    10\n",
       "C11PTT121     6\n",
       "Name: ID, dtype: int64"
      ]
     },
     "execution_count": 34,
     "metadata": {},
     "output_type": "execute_result"
    }
   ],
   "source": [
    "Output[Output['AREA'] == 'PTT']['ID'].value_counts()"
   ]
  },
  {
   "cell_type": "code",
   "execution_count": 49,
   "metadata": {},
   "outputs": [],
   "source": [
    "Total = Output[['AREA','SINGLES']].groupby('AREA').sum().reset_index()"
   ]
  },
  {
   "cell_type": "code",
   "execution_count": 50,
   "metadata": {
    "scrolled": true
   },
   "outputs": [
    {
     "data": {
      "text/plain": [
       "Text(0.5, 1.0, 'SCS Lost Singles Last 12 Hours')"
      ]
     },
     "execution_count": 50,
     "metadata": {},
     "output_type": "execute_result"
    },
    {
     "data": {
      "image/png": "[encoded data removed]",
      "text/plain": [
       "<Figure size 1080x360 with 1 Axes>"
      ]
     },
     "metadata": {
      "needs_background": "light"
     },
     "output_type": "display_data"
    }
   ],
   "source": [
    "plt.figure(figsize=(15,5))\n",
    "sns.barplot(y='SINGLES',x = 'AREA',data = Total.sort_values(by='SINGLES',ascending=False).head(10),color = 'r')\n",
    "plt.ylabel('Lost Singles')\n",
    "plt.title('SCS Lost Singles Last 12 Hours')"
   ]
  },
  {
   "cell_type": "code",
   "execution_count": 37,
   "metadata": {},
   "outputs": [
    {
     "ename": "KeyError",
     "evalue": "\"None of [Index(['Asset Code', 'PTT081'], dtype='object')] are in the [columns]\"",
     "output_type": "error",
     "traceback": [
      "\u001b[1;31m---------------------------------------------------------------------------\u001b[0m",
      "\u001b[1;31mKeyError\u001b[0m                                  Traceback (most recent call last)",
      "\u001b[1;32m<ipython-input-37-a6e0e6940ceb>\u001b[0m in \u001b[0;36m<module>\u001b[1;34m\u001b[0m\n\u001b[1;32m----> 1\u001b[1;33m \u001b[0mPTT081\u001b[0m \u001b[1;33m=\u001b[0m \u001b[0mOutput\u001b[0m\u001b[1;33m[\u001b[0m\u001b[1;33m[\u001b[0m\u001b[1;34m'Asset Code'\u001b[0m\u001b[1;33m,\u001b[0m\u001b[1;34m'PTT081'\u001b[0m\u001b[1;33m]\u001b[0m\u001b[1;33m]\u001b[0m\u001b[1;33m.\u001b[0m\u001b[0mgroupby\u001b[0m\u001b[1;33m(\u001b[0m\u001b[1;34m'Asset Code'\u001b[0m\u001b[1;33m)\u001b[0m\u001b[1;33m.\u001b[0m\u001b[0msum\u001b[0m\u001b[1;33m(\u001b[0m\u001b[1;33m)\u001b[0m\u001b[1;33m.\u001b[0m\u001b[0mreset_index\u001b[0m\u001b[1;33m(\u001b[0m\u001b[1;33m)\u001b[0m\u001b[1;33m\u001b[0m\u001b[1;33m\u001b[0m\u001b[0m\n\u001b[0m",
      "\u001b[1;32m~\\Anaconda3\\lib\\site-packages\\pandas\\core\\frame.py\u001b[0m in \u001b[0;36m__getitem__\u001b[1;34m(self, key)\u001b[0m\n\u001b[0;32m   2910\u001b[0m             \u001b[1;32mif\u001b[0m \u001b[0mis_iterator\u001b[0m\u001b[1;33m(\u001b[0m\u001b[0mkey\u001b[0m\u001b[1;33m)\u001b[0m\u001b[1;33m:\u001b[0m\u001b[1;33m\u001b[0m\u001b[1;33m\u001b[0m\u001b[0m\n\u001b[0;32m   2911\u001b[0m                 \u001b[0mkey\u001b[0m \u001b[1;33m=\u001b[0m \u001b[0mlist\u001b[0m\u001b[1;33m(\u001b[0m\u001b[0mkey\u001b[0m\u001b[1;33m)\u001b[0m\u001b[1;33m\u001b[0m\u001b[1;33m\u001b[0m\u001b[0m\n\u001b[1;32m-> 2912\u001b[1;33m             \u001b[0mindexer\u001b[0m \u001b[1;33m=\u001b[0m \u001b[0mself\u001b[0m\u001b[1;33m.\u001b[0m\u001b[0mloc\u001b[0m\u001b[1;33m.\u001b[0m\u001b[0m_get_listlike_indexer\u001b[0m\u001b[1;33m(\u001b[0m\u001b[0mkey\u001b[0m\u001b[1;33m,\u001b[0m \u001b[0maxis\u001b[0m\u001b[1;33m=\u001b[0m\u001b[1;36m1\u001b[0m\u001b[1;33m,\u001b[0m \u001b[0mraise_missing\u001b[0m\u001b[1;33m=\u001b[0m\u001b[1;32mTrue\u001b[0m\u001b[1;33m)\u001b[0m\u001b[1;33m[\u001b[0m\u001b[1;36m1\u001b[0m\u001b[1;33m]\u001b[0m\u001b[1;33m\u001b[0m\u001b[1;33m\u001b[0m\u001b[0m\n\u001b[0m\u001b[0;32m   2913\u001b[0m \u001b[1;33m\u001b[0m\u001b[0m\n\u001b[0;32m   2914\u001b[0m         \u001b[1;31m# take() does not accept boolean indexers\u001b[0m\u001b[1;33m\u001b[0m\u001b[1;33m\u001b[0m\u001b[1;33m\u001b[0m\u001b[0m\n",
      "\u001b[1;32m~\\Anaconda3\\lib\\site-packages\\pandas\\core\\indexing.py\u001b[0m in \u001b[0;36m_get_listlike_indexer\u001b[1;34m(self, key, axis, raise_missing)\u001b[0m\n\u001b[0;32m   1252\u001b[0m             \u001b[0mkeyarr\u001b[0m\u001b[1;33m,\u001b[0m \u001b[0mindexer\u001b[0m\u001b[1;33m,\u001b[0m \u001b[0mnew_indexer\u001b[0m \u001b[1;33m=\u001b[0m \u001b[0max\u001b[0m\u001b[1;33m.\u001b[0m\u001b[0m_reindex_non_unique\u001b[0m\u001b[1;33m(\u001b[0m\u001b[0mkeyarr\u001b[0m\u001b[1;33m)\u001b[0m\u001b[1;33m\u001b[0m\u001b[1;33m\u001b[0m\u001b[0m\n\u001b[0;32m   1253\u001b[0m \u001b[1;33m\u001b[0m\u001b[0m\n\u001b[1;32m-> 1254\u001b[1;33m         \u001b[0mself\u001b[0m\u001b[1;33m.\u001b[0m\u001b[0m_validate_read_indexer\u001b[0m\u001b[1;33m(\u001b[0m\u001b[0mkeyarr\u001b[0m\u001b[1;33m,\u001b[0m \u001b[0mindexer\u001b[0m\u001b[1;33m,\u001b[0m \u001b[0maxis\u001b[0m\u001b[1;33m,\u001b[0m \u001b[0mraise_missing\u001b[0m\u001b[1;33m=\u001b[0m\u001b[0mraise_missing\u001b[0m\u001b[1;33m)\u001b[0m\u001b[1;33m\u001b[0m\u001b[1;33m\u001b[0m\u001b[0m\n\u001b[0m\u001b[0;32m   1255\u001b[0m         \u001b[1;32mreturn\u001b[0m \u001b[0mkeyarr\u001b[0m\u001b[1;33m,\u001b[0m \u001b[0mindexer\u001b[0m\u001b[1;33m\u001b[0m\u001b[1;33m\u001b[0m\u001b[0m\n\u001b[0;32m   1256\u001b[0m \u001b[1;33m\u001b[0m\u001b[0m\n",
      "\u001b[1;32m~\\Anaconda3\\lib\\site-packages\\pandas\\core\\indexing.py\u001b[0m in \u001b[0;36m_validate_read_indexer\u001b[1;34m(self, key, indexer, axis, raise_missing)\u001b[0m\n\u001b[0;32m   1296\u001b[0m             \u001b[1;32mif\u001b[0m \u001b[0mmissing\u001b[0m \u001b[1;33m==\u001b[0m \u001b[0mlen\u001b[0m\u001b[1;33m(\u001b[0m\u001b[0mindexer\u001b[0m\u001b[1;33m)\u001b[0m\u001b[1;33m:\u001b[0m\u001b[1;33m\u001b[0m\u001b[1;33m\u001b[0m\u001b[0m\n\u001b[0;32m   1297\u001b[0m                 \u001b[0maxis_name\u001b[0m \u001b[1;33m=\u001b[0m \u001b[0mself\u001b[0m\u001b[1;33m.\u001b[0m\u001b[0mobj\u001b[0m\u001b[1;33m.\u001b[0m\u001b[0m_get_axis_name\u001b[0m\u001b[1;33m(\u001b[0m\u001b[0maxis\u001b[0m\u001b[1;33m)\u001b[0m\u001b[1;33m\u001b[0m\u001b[1;33m\u001b[0m\u001b[0m\n\u001b[1;32m-> 1298\u001b[1;33m                 \u001b[1;32mraise\u001b[0m \u001b[0mKeyError\u001b[0m\u001b[1;33m(\u001b[0m\u001b[1;34mf\"None of [{key}] are in the [{axis_name}]\"\u001b[0m\u001b[1;33m)\u001b[0m\u001b[1;33m\u001b[0m\u001b[1;33m\u001b[0m\u001b[0m\n\u001b[0m\u001b[0;32m   1299\u001b[0m \u001b[1;33m\u001b[0m\u001b[0m\n\u001b[0;32m   1300\u001b[0m             \u001b[1;31m# We (temporarily) allow for some missing keys with .loc, except in\u001b[0m\u001b[1;33m\u001b[0m\u001b[1;33m\u001b[0m\u001b[1;33m\u001b[0m\u001b[0m\n",
      "\u001b[1;31mKeyError\u001b[0m: \"None of [Index(['Asset Code', 'PTT081'], dtype='object')] are in the [columns]\""
     ]
    }
   ],
   "source": [
    "PTT081 = Output[['Asset Code','PTT081']].groupby('Asset Code').sum().reset_index()"
   ]
  },
  {
   "cell_type": "code",
   "execution_count": null,
   "metadata": {},
   "outputs": [],
   "source": [
    "plt.figure(figsize=(7,5))\n",
    "sns.barplot(y='PTT081',x = 'Asset Code',data = PTT081.sort_values(by='PTT081',ascending=False).head(5),color = 'r')\n",
    "plt.ylabel('Lost Singles')\n",
    "plt.title('PTT081 Lost Singles Last 12 Hours')"
   ]
  },
  {
   "cell_type": "code",
   "execution_count": 38,
   "metadata": {},
   "outputs": [],
   "source": [
    "Total_colour = Output[['BLUEGREY','SINGLES']].groupby('BLUEGREY').sum().reset_index()"
   ]
  },
  {
   "cell_type": "code",
   "execution_count": 39,
   "metadata": {
    "scrolled": true
   },
   "outputs": [
    {
     "data": {
      "text/plain": [
       "Text(0.5, 1.0, 'SCS Lost Singles Last 12 Hours')"
      ]
     },
     "execution_count": 39,
     "metadata": {},
     "output_type": "execute_result"
    },
    {
     "data": {
      "image/png": "[encoded data removed]",
      "text/plain": [
       "<Figure size 360x360 with 1 Axes>"
      ]
     },
     "metadata": {
      "needs_background": "light"
     },
     "output_type": "display_data"
    }
   ],
   "source": [
    "plt.figure(figsize=(5,5))\n",
    "sns.barplot(y='SINGLES',x = 'BLUEGREY',data = Total_colour.sort_values(by='SINGLES',ascending=False),color = 'r')\n",
    "plt.ylabel('Lost Singles')\n",
    "plt.title('SCS Lost Singles Last 12 Hours')"
   ]
  },
  {
   "cell_type": "code",
   "execution_count": 40,
   "metadata": {},
   "outputs": [
    {
     "data": {
      "text/html": [
       "<div>\n",
       "<style scoped>\n",
       "    .dataframe tbody tr th:only-of-type {\n",
       "        vertical-align: middle;\n",
       "    }\n",
       "\n",
       "    .dataframe tbody tr th {\n",
       "        vertical-align: top;\n",
       "    }\n",
       "\n",
       "    .dataframe thead th {\n",
       "        text-align: right;\n",
       "    }\n",
       "</style>\n",
       "<table border=\"1\" class=\"dataframe\">\n",
       "  <thead>\n",
       "    <tr style=\"text-align: right;\">\n",
       "      <th></th>\n",
       "      <th>BLUEGREY</th>\n",
       "      <th>SINGLES</th>\n",
       "    </tr>\n",
       "  </thead>\n",
       "  <tbody>\n",
       "    <tr>\n",
       "      <th>0</th>\n",
       "      <td>Blue</td>\n",
       "      <td>14997.588148</td>\n",
       "    </tr>\n",
       "    <tr>\n",
       "      <th>1</th>\n",
       "      <td>Both</td>\n",
       "      <td>1156.783132</td>\n",
       "    </tr>\n",
       "    <tr>\n",
       "      <th>2</th>\n",
       "      <td>Grey</td>\n",
       "      <td>1280.695829</td>\n",
       "    </tr>\n",
       "  </tbody>\n",
       "</table>\n",
       "</div>"
      ],
      "text/plain": [
       "  BLUEGREY       SINGLES\n",
       "0     Blue  14997.588148\n",
       "1     Both   1156.783132\n",
       "2     Grey   1280.695829"
      ]
     },
     "execution_count": 40,
     "metadata": {},
     "output_type": "execute_result"
    }
   ],
   "source": [
    "Total_colour"
   ]
  },
  {
   "cell_type": "code",
   "execution_count": null,
   "metadata": {},
   "outputs": [],
   "source": [
    "sns.lmplot(x='log_totes', y='Availability', data=df, line_kws={\"color\": \"red\"})\n",
    "plt.xlim(0, 5)"
   ]
  },
  {
   "cell_type": "code",
   "execution_count": null,
   "metadata": {},
   "outputs": [],
   "source": [
    "sns.lmplot(x='TOTES', y='Availability', data=df_week, line_kws={\"color\": \"red\"})"
   ]
  },
  {
   "cell_type": "code",
   "execution_count": null,
   "metadata": {},
   "outputs": [],
   "source": [
    "ax = sns.regplot(x=\"TOTES\", y=\"Availability\", data=df_week,\n",
    "x_estimator=np.mean, logx=True, line_kws={\"color\": \"red\"})\n",
    "plt.ylim(0,1)"
   ]
  },
  {
   "cell_type": "code",
   "execution_count": null,
   "metadata": {},
   "outputs": [],
   "source": [
    "sns.lmplot(x='log_totes', y='Availability', data=df_week, line_kws={\"color\": \"red\"})\n",
    "plt.xlim(0, 5)"
   ]
  },
  {
   "cell_type": "code",
   "execution_count": null,
   "metadata": {},
   "outputs": [],
   "source": [
    "Shift = [0,0,0,10,10,10,20,20,20]\n",
    "Weights = [[1],[0.7,0.3],[0.7,0.2,0.1],[1],[0.7,0.3],[0.7,0.2,0.1],[1],[0.7,0.3],[0.7,0.2,0.1]]"
   ]
  },
  {
   "cell_type": "code",
   "execution_count": null,
   "metadata": {},
   "outputs": [],
   "source": [
    "Weights[8]"
   ]
  },
  {
   "cell_type": "code",
   "execution_count": null,
   "metadata": {},
   "outputs": [],
   "source": [
    "y"
   ]
  },
  {
   "cell_type": "code",
   "execution_count": null,
   "metadata": {},
   "outputs": [],
   "source": [
    "at"
   ]
  },
  {
   "cell_type": "code",
   "execution_count": null,
   "metadata": {},
   "outputs": [],
   "source": [
    "fa_floor"
   ]
  },
  {
   "cell_type": "code",
   "execution_count": null,
   "metadata": {},
   "outputs": [],
   "source": [
    "df.drop(['Availability','Blue Tote Loss','Grey Tote Loss','timestamp'],axis=1)"
   ]
  },
  {
   "cell_type": "code",
   "execution_count": null,
   "metadata": {},
   "outputs": [],
   "source": [
    "Outputs = {0.5:'Number One',0.4:'Number Two',-1.4:'Number 3'}"
   ]
  },
  {
   "cell_type": "code",
   "execution_count": null,
   "metadata": {},
   "outputs": [],
   "source": [
    " Output = Outputs[max(k for k, v in Outputs.items())]"
   ]
  },
  {
   "cell_type": "code",
   "execution_count": null,
   "metadata": {},
   "outputs": [],
   "source": [
    "Outputs[0.456]='Numbers 4'"
   ]
  },
  {
   "cell_type": "code",
   "execution_count": null,
   "metadata": {
    "scrolled": true
   },
   "outputs": [],
   "source": [
    "Outputs"
   ]
  },
  {
   "cell_type": "code",
   "execution_count": null,
   "metadata": {},
   "outputs": [],
   "source": [
    "print('Selected R2:', max(k for k, v in Outputs.items()))"
   ]
  },
  {
   "cell_type": "code",
   "execution_count": null,
   "metadata": {},
   "outputs": [],
   "source": [
    "fa_floor = feat.floor_shift_time_fa(fa, shift=10)\n",
    "\n",
    "df,fa_PTT = feat.create_PTT_df(fa_floor,at,av,weights=[0.7,0.2,0.1])\n",
    "df = feat.log_totes(df) \n",
    "df_2week = df[df['timestamp']>end_time - pd.to_timedelta(14, unit='D')]\n",
    "X,y = md.gen_feat_var(df_2week,target = 'Availability', features = ['Totes','Faults'])\n",
    "X_train, X_test, y_train, y_test = md.split(X,y,split_options = {'test_size': 0.3,\n",
    "                                                                    'random_state': None})\n",
    "\n",
    "R2_cv,R2_OOS,Coeff = md.run_OLS(X_train = X_train,y_train = y_train,X_test = X_test,y_test=y_test, n = 30)\n",
    "\n",
    "Output = rs.create_output(fa_PTT,Coeff,end_time,speed = speed, picker_present = picker_present, availability = availability)"
   ]
  },
  {
   "cell_type": "code",
   "execution_count": null,
   "metadata": {},
   "outputs": [],
   "source": [
    "R2_OOS"
   ]
  },
  {
   "cell_type": "code",
   "execution_count": null,
   "metadata": {},
   "outputs": [],
   "source": [
    "fa_floor"
   ]
  },
  {
   "cell_type": "code",
   "execution_count": null,
   "metadata": {},
   "outputs": [],
   "source": [
    "print(fa.loc[fa['Area'].isnull() & fa['Desk'] == 'Z', 'Area'])"
   ]
  },
  {
   "cell_type": "code",
   "execution_count": null,
   "metadata": {},
   "outputs": [],
   "source": [
    "fa['Area'].isnull() & fa['Desk'] == 'Z' "
   ]
  },
  {
   "cell_type": "code",
   "execution_count": null,
   "metadata": {},
   "outputs": [],
   "source": [
    "fa"
   ]
  },
  {
   "cell_type": "code",
   "execution_count": null,
   "metadata": {},
   "outputs": [],
   "source": [
    "type(fa)"
   ]
  },
  {
   "cell_type": "code",
   "execution_count": null,
   "metadata": {},
   "outputs": [],
   "source": [
    "from datetime import datetime \n",
    "now = datetime.now()\n",
    "dt_string = now.strftime(\"%d/%m/%Y %H:%M:%S\")"
   ]
  },
  {
   "cell_type": "code",
   "execution_count": null,
   "metadata": {},
   "outputs": [],
   "source": [
    "log = pd.read_excel('C:/Users/Jamie.williams/desktop/scs/Run_log.xlsx')\n",
    "new_row = pd.DataFrame([['dt_string','R2_sel','feat_sel','runtime','report_start','report_end']],columns = list(log.columns))"
   ]
  },
  {
   "cell_type": "code",
   "execution_count": null,
   "metadata": {},
   "outputs": [],
   "source": [
    "new_row"
   ]
  },
  {
   "cell_type": "code",
   "execution_count": null,
   "metadata": {},
   "outputs": [],
   "source": [
    "import time\n",
    "now = datetime.now()\n",
    "time.sleep(2)\n",
    "now2 = datetime.now()\n",
    "now2-now"
   ]
  },
  {
   "cell_type": "code",
   "execution_count": null,
   "metadata": {},
   "outputs": [],
   "source": [
    "'asdsad' +'asddasd'"
   ]
  },
  {
   "cell_type": "code",
   "execution_count": null,
   "metadata": {},
   "outputs": [],
   "source": [
    "fa['timestamp'].max()"
   ]
  },
  {
   "cell_type": "code",
   "execution_count": null,
   "metadata": {},
   "outputs": [],
   "source": [
    "max_date = pd.to_datetime(scs_raw['Entry Time'],dayfirst=True).max()"
   ]
  },
  {
   "cell_type": "code",
   "execution_count": null,
   "metadata": {},
   "outputs": [],
   "source": [
    "max_date2 = pd.to_datetime(fa_old['Entry Time'],dayfirst=True).max()"
   ]
  },
  {
   "cell_type": "code",
   "execution_count": 16,
   "metadata": {},
   "outputs": [],
   "source": [
    "Test_time = pd.to_timedelta(48,unit='H')"
   ]
  },
  {
   "cell_type": "code",
   "execution_count": 17,
   "metadata": {},
   "outputs": [
    {
     "data": {
      "text/plain": [
       "2"
      ]
     },
     "execution_count": 17,
     "metadata": {},
     "output_type": "execute_result"
    }
   ],
   "source": [
    "Test_time.days"
   ]
  },
  {
   "cell_type": "code",
   "execution_count": 49,
   "metadata": {},
   "outputs": [],
   "source": [
    "av = pd.DataFrame({'timestamp':['2021-01-09 08:00:00','2021-01-10 08:00:00','2021-01-11 08:00:00','2021-01-12 08:00:00','2021-01-13 08:00:00'],'Pick Station':['PTT011','PTT051','PTT072','PTT112','PTT202'],'Availability':[0.9,0.8,0.75,0.3,0.1]})"
   ]
  },
  {
   "cell_type": "code",
   "execution_count": 50,
   "metadata": {},
   "outputs": [
    {
     "data": {
      "text/html": [
       "<div>\n",
       "<style scoped>\n",
       "    .dataframe tbody tr th:only-of-type {\n",
       "        vertical-align: middle;\n",
       "    }\n",
       "\n",
       "    .dataframe tbody tr th {\n",
       "        vertical-align: top;\n",
       "    }\n",
       "\n",
       "    .dataframe thead th {\n",
       "        text-align: right;\n",
       "    }\n",
       "</style>\n",
       "<table border=\"1\" class=\"dataframe\">\n",
       "  <thead>\n",
       "    <tr style=\"text-align: right;\">\n",
       "      <th></th>\n",
       "      <th>timestamp</th>\n",
       "      <th>Pick Station</th>\n",
       "      <th>Availability</th>\n",
       "    </tr>\n",
       "  </thead>\n",
       "  <tbody>\n",
       "    <tr>\n",
       "      <th>0</th>\n",
       "      <td>2021-01-09 08:00:00</td>\n",
       "      <td>PTT011</td>\n",
       "      <td>0.90</td>\n",
       "    </tr>\n",
       "    <tr>\n",
       "      <th>1</th>\n",
       "      <td>2021-01-10 08:00:00</td>\n",
       "      <td>PTT051</td>\n",
       "      <td>0.80</td>\n",
       "    </tr>\n",
       "    <tr>\n",
       "      <th>2</th>\n",
       "      <td>2021-01-11 08:00:00</td>\n",
       "      <td>PTT072</td>\n",
       "      <td>0.75</td>\n",
       "    </tr>\n",
       "    <tr>\n",
       "      <th>3</th>\n",
       "      <td>2021-01-12 08:00:00</td>\n",
       "      <td>PTT112</td>\n",
       "      <td>0.30</td>\n",
       "    </tr>\n",
       "    <tr>\n",
       "      <th>4</th>\n",
       "      <td>2021-01-13 08:00:00</td>\n",
       "      <td>PTT202</td>\n",
       "      <td>0.10</td>\n",
       "    </tr>\n",
       "  </tbody>\n",
       "</table>\n",
       "</div>"
      ],
      "text/plain": [
       "             timestamp Pick Station  Availability\n",
       "0  2021-01-09 08:00:00       PTT011          0.90\n",
       "1  2021-01-10 08:00:00       PTT051          0.80\n",
       "2  2021-01-11 08:00:00       PTT072          0.75\n",
       "3  2021-01-12 08:00:00       PTT112          0.30\n",
       "4  2021-01-13 08:00:00       PTT202          0.10"
      ]
     },
     "execution_count": 50,
     "metadata": {},
     "output_type": "execute_result"
    }
   ],
   "source": [
    "av"
   ]
  },
  {
   "cell_type": "code",
   "execution_count": null,
   "metadata": {},
   "outputs": [],
   "source": []
  }
 ],
 "metadata": {
  "kernelspec": {
   "display_name": "Python 3",
   "language": "python",
   "name": "python3"
  }
 },
 "nbformat": 4,
 "nbformat_minor": 4
}
