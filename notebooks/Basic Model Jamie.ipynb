{
 "cells": [
  {
   "cell_type": "code",
   "execution_count": 2,
   "metadata": {},
   "outputs": [
    {
     "data": {
      "text/plain": [
       "'path = \\'C:/Users/Jamie.williams/OneDrive - Newton Europe Ltd/Castle Donnington/Data/\\'\\n\\nat = pd.read_csv(path+\\'active_totes_20201210.csv\\')\\nav = pd.read_csv(path+\\'Availability_with_Grey&Blue_1811-0912.csv\\',names = [\"timestamp\",\"Pick Station\",\"Availability\",\"Blue Tote Loss\",\"Grey Tote Loss\"])\\n#fa = pd.read_csv(path + \\'scs_tote_matched.csv\\')\\nscs_raw = pd.read_csv(path + \\'Faults20_11-10_12.csv\\')\\n\\nat = feat.pre_process_AT(at)\\nav = feat.pre_process_av(av)\\nfa,unmapped, end_time = feat.preprocess_faults(scs_raw)\\n\\nOutput,R2 = rs.run_single_model(at,av,fa,end_time,shift=0,weights=[1],speed=470,picker_present=0.91,availability=0.71)'"
      ]
     },
     "execution_count": 2,
     "metadata": {},
     "output_type": "execute_result"
    }
   ],
   "source": [
    "import pandas as pd\n",
    "import numpy as np\n",
    "import seaborn as sns\n",
    "import matplotlib.pyplot as plt\n",
    "%matplotlib inline\n",
    "\n",
    "import scsavailability as scs\n",
    "    \n",
    "import statsmodels.api as sm\n",
    "from scipy import stats\n",
    "\n",
    "from scsavailability import features as feat, model as md, results as rs\n",
    "\n",
    "from sklearn.model_selection import cross_val_score\n",
    "from sklearn.model_selection import KFold\n",
    "from sklearn.linear_model import LinearRegression\n",
    "\n",
    "\"\"\"path = 'C:/Users/Jamie.williams/OneDrive - Newton Europe Ltd/Castle Donnington/Data/'\n",
    "\n",
    "at = pd.read_csv(path+'active_totes_20201210.csv')\n",
    "av = pd.read_csv(path+'Availability_with_Grey&Blue_1811-0912.csv',names = [\"timestamp\",\"Pick Station\",\"Availability\",\"Blue Tote Loss\",\"Grey Tote Loss\"])\n",
    "#fa = pd.read_csv(path + 'scs_tote_matched.csv')\n",
    "scs_raw = pd.read_csv(path + 'Faults20_11-10_12.csv')\n",
    "\n",
    "at = feat.pre_process_AT(at)\n",
    "av = feat.pre_process_av(av)\n",
    "fa,unmapped, end_time = feat.preprocess_faults(scs_raw)\n",
    "\n",
    "Output,R2 = rs.run_single_model(at,av,fa,end_time,shift=0,weights=[1],speed=470,picker_present=0.91,availability=0.71)\"\"\""
   ]
  },
  {
   "cell_type": "code",
   "execution_count": 28,
   "metadata": {},
   "outputs": [],
   "source": [
    "path = 'C:/Users/Jamie.williams/OneDrive - Newton Europe Ltd/Castle Donnington/Data/'"
   ]
  },
  {
   "cell_type": "code",
   "execution_count": 29,
   "metadata": {},
   "outputs": [],
   "source": [
    "at = pd.read_csv(path+'active_totes_20201210.csv')\n",
    "av = pd.read_csv(path+'Availability_with_Grey&Blue_1811-0912.csv',names = [\"timestamp\",\"Pick Station\",\"Availability\",\"Blue Tote Loss\",\"Grey Tote Loss\"])\n",
    "#fa = pd.read_csv(path + 'scs_tote_matched.csv')\n",
    "scs_raw = pd.read_csv(path + 'Faults20_11-10_12.csv')"
   ]
  },
  {
   "cell_type": "code",
   "execution_count": 5,
   "metadata": {},
   "outputs": [
    {
     "name": "stdout",
     "output_type": "stream",
     "text": [
      "Running: Function \"pre_process_AT\" (id=1271769208000) was called 2 times\n"
     ]
    }
   ],
   "source": [
    "at = feat.pre_process_AT(at)"
   ]
  },
  {
   "cell_type": "code",
   "execution_count": 6,
   "metadata": {},
   "outputs": [
    {
     "name": "stdout",
     "output_type": "stream",
     "text": [
      "Running: Function \"pre_process_av\" (id=1271769210592) was called 1 times\n"
     ]
    }
   ],
   "source": [
    "av = feat.pre_process_av(av)"
   ]
  },
  {
   "cell_type": "code",
   "execution_count": 7,
   "metadata": {},
   "outputs": [
    {
     "name": "stdout",
     "output_type": "stream",
     "text": [
      "Running: Function \"preprocess_faults\" (id=1271769209152) was called 1 times\n",
      "Running: Function \"load_tote_lookup\" (id=1271769210016) was called 1 times\n",
      "Running: Function \"load_module_lookup\" (id=1271766285328) was called 1 times\n",
      "Running: Function \"load_ID_lookup\" (id=1271769210736) was called 1 times\n"
     ]
    }
   ],
   "source": [
    "fa,unmapped, end_time = feat.preprocess_faults(scs_raw)\n",
    "\n",
    "#fa= fa[fa['timestamp']<(fa['timestamp'].max()-pd.to_timedelta(7, unit='D'))]"
   ]
  },
  {
   "cell_type": "code",
   "execution_count": 8,
   "metadata": {},
   "outputs": [
    {
     "name": "stdout",
     "output_type": "stream",
     "text": [
      "Running: Function \"floor_shift_time_fa\" (id=1271769209296) was called 1 times\n"
     ]
    }
   ],
   "source": [
    "fa_floor = feat.floor_shift_time_fa(fa, shift=0)"
   ]
  },
  {
   "cell_type": "code",
   "execution_count": 10,
   "metadata": {},
   "outputs": [
    {
     "name": "stdout",
     "output_type": "stream",
     "text": [
      "Running: Function \"create_PTT_df\" (id=1271769425952) was called 2 times\n",
      "Running: Function \"fault_select\" (id=1271769423936) was called 1 times\n",
      "Running: Function \"load_PTT_lookup\" (id=1271769210448) was called 1 times\n",
      "Running: Function \"faults_aggregate\" (id=1271769424224) was called 1 times\n",
      "Running: Function \"weight_hours\" (id=1271769425376) was called 1 times\n",
      "Running: Function \"av_at_select\" (id=1271769424512) was called 1 times\n",
      "Running: Function \"aggregate_availability\" (id=1271769424800) was called 1 times\n",
      "Running: Function \"aggregate_totes\" (id=1271769425088) was called 1 times\n",
      "Running: Function \"merge_av_fa_at\" (id=1271769425664) was called 1 times\n",
      "Running: Function \"fault_select\" (id=1271769423936) was called 2 times\n",
      "Running: Function \"load_PTT_lookup\" (id=1271769210448) was called 2 times\n",
      "Running: Function \"faults_aggregate\" (id=1271769424224) was called 2 times\n",
      "Running: Function \"weight_hours\" (id=1271769425376) was called 2 times\n",
      "Running: Function \"av_at_select\" (id=1271769424512) was called 2 times\n",
      "Running: Function \"aggregate_availability\" (id=1271769424800) was called 2 times\n",
      "Running: Function \"aggregate_totes\" (id=1271769425088) was called 2 times\n",
      "Running: Function \"merge_av_fa_at\" (id=1271769425664) was called 2 times\n",
      "Running: Function \"fault_select\" (id=1271769423936) was called 3 times\n",
      "Running: Function \"load_PTT_lookup\" (id=1271769210448) was called 3 times\n",
      "Running: Function \"faults_aggregate\" (id=1271769424224) was called 3 times\n",
      "Running: Function \"weight_hours\" (id=1271769425376) was called 3 times\n",
      "Running: Function \"av_at_select\" (id=1271769424512) was called 3 times\n",
      "Running: Function \"aggregate_availability\" (id=1271769424800) was called 3 times\n",
      "Running: Function \"aggregate_totes\" (id=1271769425088) was called 3 times\n",
      "Running: Function \"merge_av_fa_at\" (id=1271769425664) was called 3 times\n",
      "Running: Function \"fault_select\" (id=1271769423936) was called 4 times\n",
      "Running: Function \"load_PTT_lookup\" (id=1271769210448) was called 4 times\n",
      "Running: Function \"faults_aggregate\" (id=1271769424224) was called 4 times\n",
      "Running: Function \"weight_hours\" (id=1271769425376) was called 4 times\n",
      "Running: Function \"av_at_select\" (id=1271769424512) was called 4 times\n",
      "Running: Function \"aggregate_availability\" (id=1271769424800) was called 4 times\n",
      "Running: Function \"aggregate_totes\" (id=1271769425088) was called 4 times\n",
      "Running: Function \"merge_av_fa_at\" (id=1271769425664) was called 4 times\n",
      "Running: Function \"fault_select\" (id=1271769423936) was called 5 times\n",
      "Running: Function \"load_PTT_lookup\" (id=1271769210448) was called 5 times\n",
      "Running: Function \"faults_aggregate\" (id=1271769424224) was called 5 times\n",
      "Running: Function \"weight_hours\" (id=1271769425376) was called 5 times\n",
      "Running: Function \"av_at_select\" (id=1271769424512) was called 5 times\n",
      "Running: Function \"aggregate_availability\" (id=1271769424800) was called 5 times\n",
      "Running: Function \"aggregate_totes\" (id=1271769425088) was called 5 times\n",
      "Running: Function \"merge_av_fa_at\" (id=1271769425664) was called 5 times\n",
      "Running: Function \"fault_select\" (id=1271769423936) was called 6 times\n",
      "Running: Function \"load_PTT_lookup\" (id=1271769210448) was called 6 times\n",
      "Running: Function \"faults_aggregate\" (id=1271769424224) was called 6 times\n",
      "Running: Function \"weight_hours\" (id=1271769425376) was called 6 times\n",
      "Running: Function \"av_at_select\" (id=1271769424512) was called 6 times\n",
      "Running: Function \"aggregate_availability\" (id=1271769424800) was called 6 times\n",
      "Running: Function \"aggregate_totes\" (id=1271769425088) was called 6 times\n",
      "Running: Function \"merge_av_fa_at\" (id=1271769425664) was called 6 times\n",
      "Running: Function \"fault_select\" (id=1271769423936) was called 7 times\n",
      "Running: Function \"load_PTT_lookup\" (id=1271769210448) was called 7 times\n",
      "Running: Function \"faults_aggregate\" (id=1271769424224) was called 7 times\n",
      "Running: Function \"weight_hours\" (id=1271769425376) was called 7 times\n",
      "Running: Function \"av_at_select\" (id=1271769424512) was called 7 times\n",
      "Running: Function \"aggregate_availability\" (id=1271769424800) was called 7 times\n",
      "Running: Function \"aggregate_totes\" (id=1271769425088) was called 7 times\n",
      "Running: Function \"merge_av_fa_at\" (id=1271769425664) was called 7 times\n",
      "Running: Function \"fault_select\" (id=1271769423936) was called 8 times\n",
      "Running: Function \"load_PTT_lookup\" (id=1271769210448) was called 8 times\n",
      "Running: Function \"faults_aggregate\" (id=1271769424224) was called 8 times\n",
      "Running: Function \"weight_hours\" (id=1271769425376) was called 8 times\n",
      "Running: Function \"av_at_select\" (id=1271769424512) was called 8 times\n",
      "Running: Function \"aggregate_availability\" (id=1271769424800) was called 8 times\n",
      "Running: Function \"aggregate_totes\" (id=1271769425088) was called 8 times\n",
      "Running: Function \"merge_av_fa_at\" (id=1271769425664) was called 8 times\n",
      "Running: Function \"fault_select\" (id=1271769423936) was called 9 times\n",
      "Running: Function \"load_PTT_lookup\" (id=1271769210448) was called 9 times\n",
      "Running: Function \"faults_aggregate\" (id=1271769424224) was called 9 times\n",
      "Running: Function \"weight_hours\" (id=1271769425376) was called 9 times\n",
      "Running: Function \"av_at_select\" (id=1271769424512) was called 9 times\n",
      "Running: Function \"aggregate_availability\" (id=1271769424800) was called 9 times\n",
      "Running: Function \"aggregate_totes\" (id=1271769425088) was called 9 times\n",
      "Running: Function \"merge_av_fa_at\" (id=1271769425664) was called 9 times\n",
      "Running: Function \"fault_select\" (id=1271769423936) was called 10 times\n",
      "Running: Function \"load_PTT_lookup\" (id=1271769210448) was called 10 times\n",
      "Running: Function \"faults_aggregate\" (id=1271769424224) was called 10 times\n",
      "Running: Function \"weight_hours\" (id=1271769425376) was called 10 times\n",
      "Running: Function \"av_at_select\" (id=1271769424512) was called 10 times\n",
      "Running: Function \"aggregate_availability\" (id=1271769424800) was called 10 times\n",
      "Running: Function \"aggregate_totes\" (id=1271769425088) was called 10 times\n",
      "Running: Function \"merge_av_fa_at\" (id=1271769425664) was called 10 times\n",
      "Running: Function \"fault_select\" (id=1271769423936) was called 11 times\n",
      "Running: Function \"load_PTT_lookup\" (id=1271769210448) was called 11 times\n",
      "Running: Function \"faults_aggregate\" (id=1271769424224) was called 11 times\n",
      "Running: Function \"weight_hours\" (id=1271769425376) was called 11 times\n",
      "Running: Function \"av_at_select\" (id=1271769424512) was called 11 times\n",
      "Running: Function \"aggregate_availability\" (id=1271769424800) was called 11 times\n",
      "Running: Function \"aggregate_totes\" (id=1271769425088) was called 11 times\n",
      "Running: Function \"merge_av_fa_at\" (id=1271769425664) was called 11 times\n",
      "Running: Function \"fault_select\" (id=1271769423936) was called 12 times\n",
      "Running: Function \"load_PTT_lookup\" (id=1271769210448) was called 12 times\n",
      "Running: Function \"faults_aggregate\" (id=1271769424224) was called 12 times\n",
      "Running: Function \"weight_hours\" (id=1271769425376) was called 12 times\n",
      "Running: Function \"av_at_select\" (id=1271769424512) was called 12 times\n",
      "Running: Function \"aggregate_availability\" (id=1271769424800) was called 12 times\n",
      "Running: Function \"aggregate_totes\" (id=1271769425088) was called 12 times\n",
      "Running: Function \"merge_av_fa_at\" (id=1271769425664) was called 12 times\n",
      "Running: Function \"fault_select\" (id=1271769423936) was called 13 times\n",
      "Running: Function \"load_PTT_lookup\" (id=1271769210448) was called 13 times\n",
      "Running: Function \"faults_aggregate\" (id=1271769424224) was called 13 times\n",
      "Running: Function \"weight_hours\" (id=1271769425376) was called 13 times\n",
      "Running: Function \"av_at_select\" (id=1271769424512) was called 13 times\n",
      "Running: Function \"aggregate_availability\" (id=1271769424800) was called 13 times\n",
      "Running: Function \"aggregate_totes\" (id=1271769425088) was called 13 times\n",
      "Running: Function \"merge_av_fa_at\" (id=1271769425664) was called 13 times\n",
      "Running: Function \"fault_select\" (id=1271769423936) was called 14 times\n",
      "Running: Function \"load_PTT_lookup\" (id=1271769210448) was called 14 times\n",
      "Running: Function \"faults_aggregate\" (id=1271769424224) was called 14 times\n",
      "Running: Function \"weight_hours\" (id=1271769425376) was called 14 times\n",
      "Running: Function \"av_at_select\" (id=1271769424512) was called 14 times\n",
      "Running: Function \"aggregate_availability\" (id=1271769424800) was called 14 times\n",
      "Running: Function \"aggregate_totes\" (id=1271769425088) was called 14 times\n",
      "Running: Function \"merge_av_fa_at\" (id=1271769425664) was called 14 times\n"
     ]
    },
    {
     "name": "stdout",
     "output_type": "stream",
     "text": [
      "Running: Function \"fault_select\" (id=1271769423936) was called 15 times\n",
      "Running: Function \"load_PTT_lookup\" (id=1271769210448) was called 15 times\n",
      "Running: Function \"faults_aggregate\" (id=1271769424224) was called 15 times\n",
      "Running: Function \"weight_hours\" (id=1271769425376) was called 15 times\n",
      "Running: Function \"av_at_select\" (id=1271769424512) was called 15 times\n",
      "Running: Function \"aggregate_availability\" (id=1271769424800) was called 15 times\n",
      "Running: Function \"aggregate_totes\" (id=1271769425088) was called 15 times\n",
      "Running: Function \"merge_av_fa_at\" (id=1271769425664) was called 15 times\n",
      "Running: Function \"fault_select\" (id=1271769423936) was called 16 times\n",
      "Running: Function \"load_PTT_lookup\" (id=1271769210448) was called 16 times\n",
      "Running: Function \"faults_aggregate\" (id=1271769424224) was called 16 times\n",
      "Running: Function \"weight_hours\" (id=1271769425376) was called 16 times\n",
      "Running: Function \"av_at_select\" (id=1271769424512) was called 16 times\n",
      "Running: Function \"aggregate_availability\" (id=1271769424800) was called 16 times\n",
      "Running: Function \"aggregate_totes\" (id=1271769425088) was called 16 times\n",
      "Running: Function \"merge_av_fa_at\" (id=1271769425664) was called 16 times\n",
      "Running: Function \"fault_select\" (id=1271769423936) was called 17 times\n",
      "Running: Function \"load_PTT_lookup\" (id=1271769210448) was called 17 times\n",
      "Running: Function \"faults_aggregate\" (id=1271769424224) was called 17 times\n",
      "Running: Function \"weight_hours\" (id=1271769425376) was called 17 times\n",
      "Running: Function \"av_at_select\" (id=1271769424512) was called 17 times\n",
      "Running: Function \"aggregate_availability\" (id=1271769424800) was called 17 times\n",
      "Running: Function \"aggregate_totes\" (id=1271769425088) was called 17 times\n",
      "Running: Function \"merge_av_fa_at\" (id=1271769425664) was called 17 times\n",
      "Running: Function \"fault_select\" (id=1271769423936) was called 18 times\n",
      "Running: Function \"load_PTT_lookup\" (id=1271769210448) was called 18 times\n",
      "Running: Function \"faults_aggregate\" (id=1271769424224) was called 18 times\n",
      "Running: Function \"weight_hours\" (id=1271769425376) was called 18 times\n",
      "Running: Function \"av_at_select\" (id=1271769424512) was called 18 times\n",
      "Running: Function \"aggregate_availability\" (id=1271769424800) was called 18 times\n",
      "Running: Function \"aggregate_totes\" (id=1271769425088) was called 18 times\n",
      "Running: Function \"merge_av_fa_at\" (id=1271769425664) was called 18 times\n",
      "Running: Function \"fault_select\" (id=1271769423936) was called 19 times\n",
      "Running: Function \"load_PTT_lookup\" (id=1271769210448) was called 19 times\n",
      "Running: Function \"faults_aggregate\" (id=1271769424224) was called 19 times\n",
      "Running: Function \"weight_hours\" (id=1271769425376) was called 19 times\n",
      "Running: Function \"av_at_select\" (id=1271769424512) was called 19 times\n",
      "Running: Function \"aggregate_availability\" (id=1271769424800) was called 19 times\n",
      "Running: Function \"aggregate_totes\" (id=1271769425088) was called 19 times\n",
      "Running: Function \"merge_av_fa_at\" (id=1271769425664) was called 19 times\n",
      "Running: Function \"fault_select\" (id=1271769423936) was called 20 times\n",
      "Running: Function \"load_PTT_lookup\" (id=1271769210448) was called 20 times\n",
      "Running: Function \"faults_aggregate\" (id=1271769424224) was called 20 times\n",
      "Running: Function \"weight_hours\" (id=1271769425376) was called 20 times\n",
      "Running: Function \"av_at_select\" (id=1271769424512) was called 20 times\n",
      "Running: Function \"aggregate_availability\" (id=1271769424800) was called 20 times\n",
      "Running: Function \"aggregate_totes\" (id=1271769425088) was called 20 times\n",
      "Running: Function \"merge_av_fa_at\" (id=1271769425664) was called 20 times\n",
      "Running: Function \"fault_select\" (id=1271769423936) was called 21 times\n",
      "Running: Function \"load_PTT_lookup\" (id=1271769210448) was called 21 times\n",
      "Running: Function \"faults_aggregate\" (id=1271769424224) was called 21 times\n",
      "Running: Function \"weight_hours\" (id=1271769425376) was called 21 times\n",
      "Running: Function \"av_at_select\" (id=1271769424512) was called 21 times\n",
      "Running: Function \"aggregate_availability\" (id=1271769424800) was called 21 times\n",
      "Running: Function \"aggregate_totes\" (id=1271769425088) was called 21 times\n",
      "Running: Function \"merge_av_fa_at\" (id=1271769425664) was called 21 times\n",
      "Running: Function \"fault_select\" (id=1271769423936) was called 22 times\n",
      "Running: Function \"load_PTT_lookup\" (id=1271769210448) was called 22 times\n",
      "Running: Function \"faults_aggregate\" (id=1271769424224) was called 22 times\n",
      "Running: Function \"weight_hours\" (id=1271769425376) was called 22 times\n",
      "Running: Function \"av_at_select\" (id=1271769424512) was called 22 times\n",
      "Running: Function \"aggregate_availability\" (id=1271769424800) was called 22 times\n",
      "Running: Function \"aggregate_totes\" (id=1271769425088) was called 22 times\n",
      "Running: Function \"merge_av_fa_at\" (id=1271769425664) was called 22 times\n",
      "Running: Function \"fault_select\" (id=1271769423936) was called 23 times\n",
      "Running: Function \"load_PTT_lookup\" (id=1271769210448) was called 23 times\n",
      "Running: Function \"faults_aggregate\" (id=1271769424224) was called 23 times\n",
      "Running: Function \"weight_hours\" (id=1271769425376) was called 23 times\n",
      "Running: Function \"av_at_select\" (id=1271769424512) was called 23 times\n",
      "Running: Function \"aggregate_availability\" (id=1271769424800) was called 23 times\n",
      "Running: Function \"aggregate_totes\" (id=1271769425088) was called 23 times\n",
      "Running: Function \"merge_av_fa_at\" (id=1271769425664) was called 23 times\n",
      "Running: Function \"fault_select\" (id=1271769423936) was called 24 times\n",
      "Running: Function \"load_PTT_lookup\" (id=1271769210448) was called 24 times\n",
      "Running: Function \"faults_aggregate\" (id=1271769424224) was called 24 times\n",
      "Running: Function \"weight_hours\" (id=1271769425376) was called 24 times\n",
      "Running: Function \"av_at_select\" (id=1271769424512) was called 24 times\n",
      "Running: Function \"aggregate_availability\" (id=1271769424800) was called 24 times\n",
      "Running: Function \"aggregate_totes\" (id=1271769425088) was called 24 times\n",
      "Running: Function \"merge_av_fa_at\" (id=1271769425664) was called 24 times\n",
      "Running: Function \"fault_select\" (id=1271769423936) was called 25 times\n",
      "Running: Function \"load_PTT_lookup\" (id=1271769210448) was called 25 times\n",
      "Running: Function \"faults_aggregate\" (id=1271769424224) was called 25 times\n",
      "Running: Function \"weight_hours\" (id=1271769425376) was called 25 times\n",
      "Running: Function \"av_at_select\" (id=1271769424512) was called 25 times\n",
      "Running: Function \"aggregate_availability\" (id=1271769424800) was called 25 times\n",
      "Running: Function \"aggregate_totes\" (id=1271769425088) was called 25 times\n",
      "Running: Function \"merge_av_fa_at\" (id=1271769425664) was called 25 times\n",
      "Running: Function \"fault_select\" (id=1271769423936) was called 26 times\n",
      "Running: Function \"load_PTT_lookup\" (id=1271769210448) was called 26 times\n",
      "Running: Function \"faults_aggregate\" (id=1271769424224) was called 26 times\n",
      "Running: Function \"weight_hours\" (id=1271769425376) was called 26 times\n",
      "Running: Function \"av_at_select\" (id=1271769424512) was called 26 times\n",
      "Running: Function \"aggregate_availability\" (id=1271769424800) was called 26 times\n",
      "Running: Function \"aggregate_totes\" (id=1271769425088) was called 26 times\n",
      "Running: Function \"merge_av_fa_at\" (id=1271769425664) was called 26 times\n",
      "Running: Function \"fault_select\" (id=1271769423936) was called 27 times\n",
      "Running: Function \"load_PTT_lookup\" (id=1271769210448) was called 27 times\n",
      "Running: Function \"faults_aggregate\" (id=1271769424224) was called 27 times\n",
      "Running: Function \"weight_hours\" (id=1271769425376) was called 27 times\n",
      "Running: Function \"av_at_select\" (id=1271769424512) was called 27 times\n",
      "Running: Function \"aggregate_availability\" (id=1271769424800) was called 27 times\n",
      "Running: Function \"aggregate_totes\" (id=1271769425088) was called 27 times\n",
      "Running: Function \"merge_av_fa_at\" (id=1271769425664) was called 27 times\n",
      "Running: Function \"fault_select\" (id=1271769423936) was called 28 times\n",
      "Running: Function \"load_PTT_lookup\" (id=1271769210448) was called 28 times\n",
      "Running: Function \"faults_aggregate\" (id=1271769424224) was called 28 times\n",
      "Running: Function \"weight_hours\" (id=1271769425376) was called 28 times\n",
      "Running: Function \"av_at_select\" (id=1271769424512) was called 28 times\n",
      "Running: Function \"aggregate_availability\" (id=1271769424800) was called 28 times\n",
      "Running: Function \"aggregate_totes\" (id=1271769425088) was called 28 times\n",
      "Running: Function \"merge_av_fa_at\" (id=1271769425664) was called 28 times\n"
     ]
    },
    {
     "name": "stdout",
     "output_type": "stream",
     "text": [
      "Running: Function \"fault_select\" (id=1271769423936) was called 29 times\n",
      "Running: Function \"load_PTT_lookup\" (id=1271769210448) was called 29 times\n",
      "Running: Function \"faults_aggregate\" (id=1271769424224) was called 29 times\n",
      "Running: Function \"weight_hours\" (id=1271769425376) was called 29 times\n",
      "Running: Function \"av_at_select\" (id=1271769424512) was called 29 times\n",
      "Running: Function \"aggregate_availability\" (id=1271769424800) was called 29 times\n",
      "Running: Function \"aggregate_totes\" (id=1271769425088) was called 29 times\n",
      "Running: Function \"merge_av_fa_at\" (id=1271769425664) was called 29 times\n",
      "Running: Function \"fault_select\" (id=1271769423936) was called 30 times\n",
      "Running: Function \"load_PTT_lookup\" (id=1271769210448) was called 30 times\n",
      "Running: Function \"faults_aggregate\" (id=1271769424224) was called 30 times\n",
      "Running: Function \"weight_hours\" (id=1271769425376) was called 30 times\n",
      "Running: Function \"av_at_select\" (id=1271769424512) was called 30 times\n",
      "Running: Function \"aggregate_availability\" (id=1271769424800) was called 30 times\n",
      "Running: Function \"aggregate_totes\" (id=1271769425088) was called 30 times\n",
      "Running: Function \"merge_av_fa_at\" (id=1271769425664) was called 30 times\n",
      "Running: Function \"fault_select\" (id=1271769423936) was called 31 times\n",
      "Running: Function \"load_PTT_lookup\" (id=1271769210448) was called 31 times\n",
      "Running: Function \"faults_aggregate\" (id=1271769424224) was called 31 times\n",
      "Running: Function \"weight_hours\" (id=1271769425376) was called 31 times\n",
      "Running: Function \"av_at_select\" (id=1271769424512) was called 31 times\n",
      "Running: Function \"aggregate_availability\" (id=1271769424800) was called 31 times\n",
      "Running: Function \"aggregate_totes\" (id=1271769425088) was called 31 times\n",
      "Running: Function \"merge_av_fa_at\" (id=1271769425664) was called 31 times\n",
      "Running: Function \"fault_select\" (id=1271769423936) was called 32 times\n",
      "Running: Function \"load_PTT_lookup\" (id=1271769210448) was called 32 times\n",
      "Running: Function \"faults_aggregate\" (id=1271769424224) was called 32 times\n",
      "Running: Function \"weight_hours\" (id=1271769425376) was called 32 times\n",
      "Running: Function \"av_at_select\" (id=1271769424512) was called 32 times\n",
      "Running: Function \"aggregate_availability\" (id=1271769424800) was called 32 times\n",
      "Running: Function \"aggregate_totes\" (id=1271769425088) was called 32 times\n",
      "Running: Function \"merge_av_fa_at\" (id=1271769425664) was called 32 times\n",
      "Running: Function \"fault_select\" (id=1271769423936) was called 33 times\n",
      "Running: Function \"load_PTT_lookup\" (id=1271769210448) was called 33 times\n",
      "Running: Function \"faults_aggregate\" (id=1271769424224) was called 33 times\n",
      "Running: Function \"weight_hours\" (id=1271769425376) was called 33 times\n",
      "Running: Function \"av_at_select\" (id=1271769424512) was called 33 times\n",
      "Running: Function \"aggregate_availability\" (id=1271769424800) was called 33 times\n",
      "Running: Function \"aggregate_totes\" (id=1271769425088) was called 33 times\n",
      "Running: Function \"merge_av_fa_at\" (id=1271769425664) was called 33 times\n",
      "Running: Function \"fault_select\" (id=1271769423936) was called 34 times\n",
      "Running: Function \"load_PTT_lookup\" (id=1271769210448) was called 34 times\n",
      "Running: Function \"faults_aggregate\" (id=1271769424224) was called 34 times\n",
      "Running: Function \"weight_hours\" (id=1271769425376) was called 34 times\n",
      "Running: Function \"av_at_select\" (id=1271769424512) was called 34 times\n",
      "Running: Function \"aggregate_availability\" (id=1271769424800) was called 34 times\n",
      "Running: Function \"aggregate_totes\" (id=1271769425088) was called 34 times\n",
      "Running: Function \"merge_av_fa_at\" (id=1271769425664) was called 34 times\n",
      "Running: Function \"fault_select\" (id=1271769423936) was called 35 times\n",
      "Running: Function \"load_PTT_lookup\" (id=1271769210448) was called 35 times\n",
      "Running: Function \"faults_aggregate\" (id=1271769424224) was called 35 times\n",
      "Running: Function \"weight_hours\" (id=1271769425376) was called 35 times\n",
      "Running: Function \"av_at_select\" (id=1271769424512) was called 35 times\n",
      "Running: Function \"aggregate_availability\" (id=1271769424800) was called 35 times\n",
      "Running: Function \"aggregate_totes\" (id=1271769425088) was called 35 times\n",
      "Running: Function \"merge_av_fa_at\" (id=1271769425664) was called 35 times\n",
      "Running: Function \"fault_select\" (id=1271769423936) was called 36 times\n",
      "Running: Function \"load_PTT_lookup\" (id=1271769210448) was called 36 times\n",
      "Running: Function \"faults_aggregate\" (id=1271769424224) was called 36 times\n",
      "Running: Function \"weight_hours\" (id=1271769425376) was called 36 times\n",
      "Running: Function \"av_at_select\" (id=1271769424512) was called 36 times\n",
      "Running: Function \"aggregate_availability\" (id=1271769424800) was called 36 times\n",
      "Running: Function \"aggregate_totes\" (id=1271769425088) was called 36 times\n",
      "Running: Function \"merge_av_fa_at\" (id=1271769425664) was called 36 times\n"
     ]
    }
   ],
   "source": [
    "df,fa_PTT = feat.create_PTT_df(fa_floor,at,av,weights = [1])\n",
    "\n",
    "df = feat.log_totes(df) "
   ]
  },
  {
   "cell_type": "code",
   "execution_count": 11,
   "metadata": {},
   "outputs": [
    {
     "data": {
      "text/html": [
       "<div>\n",
       "<style scoped>\n",
       "    .dataframe tbody tr th:only-of-type {\n",
       "        vertical-align: middle;\n",
       "    }\n",
       "\n",
       "    .dataframe tbody tr th {\n",
       "        vertical-align: top;\n",
       "    }\n",
       "\n",
       "    .dataframe thead th {\n",
       "        text-align: right;\n",
       "    }\n",
       "</style>\n",
       "<table border=\"1\" class=\"dataframe\">\n",
       "  <thead>\n",
       "    <tr style=\"text-align: right;\">\n",
       "      <th></th>\n",
       "      <th>timestamp</th>\n",
       "      <th>Availability</th>\n",
       "      <th>C05</th>\n",
       "      <th>C0501ACH011</th>\n",
       "      <th>C0501RDC004</th>\n",
       "      <th>C0501STA002</th>\n",
       "      <th>C0501STA012</th>\n",
       "      <th>C0501STA020</th>\n",
       "      <th>C0501STA201</th>\n",
       "      <th>C0501STA217</th>\n",
       "      <th>...</th>\n",
       "      <th>SCS202</th>\n",
       "      <th>SCS203</th>\n",
       "      <th>SCS204</th>\n",
       "      <th>SCS205</th>\n",
       "      <th>SCS206</th>\n",
       "      <th>SCSM20</th>\n",
       "      <th>C1404RDC146</th>\n",
       "      <th>C1404STA149</th>\n",
       "      <th>C14PTT202</th>\n",
       "      <th>log_totes</th>\n",
       "    </tr>\n",
       "  </thead>\n",
       "  <tbody>\n",
       "    <tr>\n",
       "      <th>0</th>\n",
       "      <td>2020-11-20 00:00:00</td>\n",
       "      <td>0.816168</td>\n",
       "      <td>0.0</td>\n",
       "      <td>0.0</td>\n",
       "      <td>0.0</td>\n",
       "      <td>0.0</td>\n",
       "      <td>0.00000</td>\n",
       "      <td>0.0</td>\n",
       "      <td>0.0</td>\n",
       "      <td>0.0</td>\n",
       "      <td>...</td>\n",
       "      <td>0.000000</td>\n",
       "      <td>0.000000</td>\n",
       "      <td>0.000000</td>\n",
       "      <td>0.000000</td>\n",
       "      <td>0.0</td>\n",
       "      <td>0.000000</td>\n",
       "      <td>0.0</td>\n",
       "      <td>0.000000</td>\n",
       "      <td>0.000000</td>\n",
       "      <td>3.591024</td>\n",
       "    </tr>\n",
       "    <tr>\n",
       "      <th>1</th>\n",
       "      <td>2020-11-20 01:00:00</td>\n",
       "      <td>0.806332</td>\n",
       "      <td>0.0</td>\n",
       "      <td>0.0</td>\n",
       "      <td>0.0</td>\n",
       "      <td>0.0</td>\n",
       "      <td>0.00000</td>\n",
       "      <td>0.0</td>\n",
       "      <td>0.0</td>\n",
       "      <td>0.0</td>\n",
       "      <td>...</td>\n",
       "      <td>0.000000</td>\n",
       "      <td>0.000000</td>\n",
       "      <td>0.000000</td>\n",
       "      <td>0.000000</td>\n",
       "      <td>0.0</td>\n",
       "      <td>0.000000</td>\n",
       "      <td>0.0</td>\n",
       "      <td>0.000000</td>\n",
       "      <td>0.000000</td>\n",
       "      <td>3.482777</td>\n",
       "    </tr>\n",
       "    <tr>\n",
       "      <th>2</th>\n",
       "      <td>2020-11-20 02:00:00</td>\n",
       "      <td>0.314598</td>\n",
       "      <td>0.0</td>\n",
       "      <td>0.0</td>\n",
       "      <td>0.0</td>\n",
       "      <td>0.0</td>\n",
       "      <td>0.00000</td>\n",
       "      <td>0.0</td>\n",
       "      <td>0.0</td>\n",
       "      <td>0.0</td>\n",
       "      <td>...</td>\n",
       "      <td>0.000000</td>\n",
       "      <td>0.000000</td>\n",
       "      <td>0.000000</td>\n",
       "      <td>0.000000</td>\n",
       "      <td>0.0</td>\n",
       "      <td>0.000000</td>\n",
       "      <td>0.0</td>\n",
       "      <td>0.000000</td>\n",
       "      <td>0.000000</td>\n",
       "      <td>3.162658</td>\n",
       "    </tr>\n",
       "    <tr>\n",
       "      <th>3</th>\n",
       "      <td>2020-11-20 03:00:00</td>\n",
       "      <td>0.967823</td>\n",
       "      <td>0.0</td>\n",
       "      <td>0.0</td>\n",
       "      <td>0.0</td>\n",
       "      <td>0.0</td>\n",
       "      <td>2.94591</td>\n",
       "      <td>0.0</td>\n",
       "      <td>0.0</td>\n",
       "      <td>0.0</td>\n",
       "      <td>...</td>\n",
       "      <td>0.000000</td>\n",
       "      <td>0.000000</td>\n",
       "      <td>0.000000</td>\n",
       "      <td>0.000000</td>\n",
       "      <td>0.0</td>\n",
       "      <td>0.000000</td>\n",
       "      <td>0.0</td>\n",
       "      <td>0.000000</td>\n",
       "      <td>0.000000</td>\n",
       "      <td>3.512540</td>\n",
       "    </tr>\n",
       "    <tr>\n",
       "      <th>4</th>\n",
       "      <td>2020-11-20 04:00:00</td>\n",
       "      <td>0.495364</td>\n",
       "      <td>0.0</td>\n",
       "      <td>0.0</td>\n",
       "      <td>0.0</td>\n",
       "      <td>0.0</td>\n",
       "      <td>0.00000</td>\n",
       "      <td>0.0</td>\n",
       "      <td>0.0</td>\n",
       "      <td>0.0</td>\n",
       "      <td>...</td>\n",
       "      <td>0.000000</td>\n",
       "      <td>0.000000</td>\n",
       "      <td>0.000000</td>\n",
       "      <td>0.000000</td>\n",
       "      <td>0.0</td>\n",
       "      <td>0.000000</td>\n",
       "      <td>0.0</td>\n",
       "      <td>0.000000</td>\n",
       "      <td>0.000000</td>\n",
       "      <td>3.494485</td>\n",
       "    </tr>\n",
       "    <tr>\n",
       "      <th>...</th>\n",
       "      <td>...</td>\n",
       "      <td>...</td>\n",
       "      <td>...</td>\n",
       "      <td>...</td>\n",
       "      <td>...</td>\n",
       "      <td>...</td>\n",
       "      <td>...</td>\n",
       "      <td>...</td>\n",
       "      <td>...</td>\n",
       "      <td>...</td>\n",
       "      <td>...</td>\n",
       "      <td>...</td>\n",
       "      <td>...</td>\n",
       "      <td>...</td>\n",
       "      <td>...</td>\n",
       "      <td>...</td>\n",
       "      <td>...</td>\n",
       "      <td>...</td>\n",
       "      <td>...</td>\n",
       "      <td>...</td>\n",
       "      <td>...</td>\n",
       "    </tr>\n",
       "    <tr>\n",
       "      <th>461</th>\n",
       "      <td>2020-12-09 13:00:00</td>\n",
       "      <td>0.989251</td>\n",
       "      <td>0.0</td>\n",
       "      <td>0.0</td>\n",
       "      <td>0.0</td>\n",
       "      <td>0.0</td>\n",
       "      <td>0.00000</td>\n",
       "      <td>0.0</td>\n",
       "      <td>0.0</td>\n",
       "      <td>0.0</td>\n",
       "      <td>...</td>\n",
       "      <td>6.834811</td>\n",
       "      <td>6.123964</td>\n",
       "      <td>0.000000</td>\n",
       "      <td>21.264287</td>\n",
       "      <td>0.0</td>\n",
       "      <td>7.529429</td>\n",
       "      <td>0.0</td>\n",
       "      <td>0.000000</td>\n",
       "      <td>0.000000</td>\n",
       "      <td>3.936716</td>\n",
       "    </tr>\n",
       "    <tr>\n",
       "      <th>462</th>\n",
       "      <td>2020-12-09 14:00:00</td>\n",
       "      <td>0.884003</td>\n",
       "      <td>0.0</td>\n",
       "      <td>0.0</td>\n",
       "      <td>0.0</td>\n",
       "      <td>0.0</td>\n",
       "      <td>0.00000</td>\n",
       "      <td>0.0</td>\n",
       "      <td>0.0</td>\n",
       "      <td>0.0</td>\n",
       "      <td>...</td>\n",
       "      <td>0.000000</td>\n",
       "      <td>6.720312</td>\n",
       "      <td>6.662960</td>\n",
       "      <td>26.009172</td>\n",
       "      <td>0.0</td>\n",
       "      <td>16.736374</td>\n",
       "      <td>0.0</td>\n",
       "      <td>0.000000</td>\n",
       "      <td>0.000000</td>\n",
       "      <td>4.332048</td>\n",
       "    </tr>\n",
       "    <tr>\n",
       "      <th>463</th>\n",
       "      <td>2020-12-09 15:00:00</td>\n",
       "      <td>0.929763</td>\n",
       "      <td>0.0</td>\n",
       "      <td>0.0</td>\n",
       "      <td>0.0</td>\n",
       "      <td>0.0</td>\n",
       "      <td>0.00000</td>\n",
       "      <td>0.0</td>\n",
       "      <td>0.0</td>\n",
       "      <td>0.0</td>\n",
       "      <td>...</td>\n",
       "      <td>7.356108</td>\n",
       "      <td>0.000000</td>\n",
       "      <td>6.337538</td>\n",
       "      <td>14.578136</td>\n",
       "      <td>0.0</td>\n",
       "      <td>0.000000</td>\n",
       "      <td>0.0</td>\n",
       "      <td>7.111467</td>\n",
       "      <td>13.330787</td>\n",
       "      <td>4.177204</td>\n",
       "    </tr>\n",
       "    <tr>\n",
       "      <th>464</th>\n",
       "      <td>2020-12-09 16:00:00</td>\n",
       "      <td>0.976545</td>\n",
       "      <td>0.0</td>\n",
       "      <td>0.0</td>\n",
       "      <td>0.0</td>\n",
       "      <td>0.0</td>\n",
       "      <td>0.00000</td>\n",
       "      <td>0.0</td>\n",
       "      <td>0.0</td>\n",
       "      <td>0.0</td>\n",
       "      <td>...</td>\n",
       "      <td>0.000000</td>\n",
       "      <td>0.000000</td>\n",
       "      <td>7.302619</td>\n",
       "      <td>11.024011</td>\n",
       "      <td>0.0</td>\n",
       "      <td>0.000000</td>\n",
       "      <td>0.0</td>\n",
       "      <td>0.000000</td>\n",
       "      <td>2.609438</td>\n",
       "      <td>4.054390</td>\n",
       "    </tr>\n",
       "    <tr>\n",
       "      <th>465</th>\n",
       "      <td>2020-12-09 17:00:00</td>\n",
       "      <td>0.841450</td>\n",
       "      <td>0.0</td>\n",
       "      <td>0.0</td>\n",
       "      <td>0.0</td>\n",
       "      <td>0.0</td>\n",
       "      <td>0.00000</td>\n",
       "      <td>0.0</td>\n",
       "      <td>0.0</td>\n",
       "      <td>0.0</td>\n",
       "      <td>...</td>\n",
       "      <td>7.246107</td>\n",
       "      <td>0.000000</td>\n",
       "      <td>0.000000</td>\n",
       "      <td>0.000000</td>\n",
       "      <td>0.0</td>\n",
       "      <td>0.000000</td>\n",
       "      <td>0.0</td>\n",
       "      <td>7.492240</td>\n",
       "      <td>19.303653</td>\n",
       "      <td>3.939962</td>\n",
       "    </tr>\n",
       "  </tbody>\n",
       "</table>\n",
       "<p>16736 rows × 1164 columns</p>\n",
       "</div>"
      ],
      "text/plain": [
       "              timestamp  Availability  C05  C0501ACH011  C0501RDC004  \\\n",
       "0   2020-11-20 00:00:00      0.816168  0.0          0.0          0.0   \n",
       "1   2020-11-20 01:00:00      0.806332  0.0          0.0          0.0   \n",
       "2   2020-11-20 02:00:00      0.314598  0.0          0.0          0.0   \n",
       "3   2020-11-20 03:00:00      0.967823  0.0          0.0          0.0   \n",
       "4   2020-11-20 04:00:00      0.495364  0.0          0.0          0.0   \n",
       "..                  ...           ...  ...          ...          ...   \n",
       "461 2020-12-09 13:00:00      0.989251  0.0          0.0          0.0   \n",
       "462 2020-12-09 14:00:00      0.884003  0.0          0.0          0.0   \n",
       "463 2020-12-09 15:00:00      0.929763  0.0          0.0          0.0   \n",
       "464 2020-12-09 16:00:00      0.976545  0.0          0.0          0.0   \n",
       "465 2020-12-09 17:00:00      0.841450  0.0          0.0          0.0   \n",
       "\n",
       "     C0501STA002  C0501STA012  C0501STA020  C0501STA201  C0501STA217  ...  \\\n",
       "0            0.0      0.00000          0.0          0.0          0.0  ...   \n",
       "1            0.0      0.00000          0.0          0.0          0.0  ...   \n",
       "2            0.0      0.00000          0.0          0.0          0.0  ...   \n",
       "3            0.0      2.94591          0.0          0.0          0.0  ...   \n",
       "4            0.0      0.00000          0.0          0.0          0.0  ...   \n",
       "..           ...          ...          ...          ...          ...  ...   \n",
       "461          0.0      0.00000          0.0          0.0          0.0  ...   \n",
       "462          0.0      0.00000          0.0          0.0          0.0  ...   \n",
       "463          0.0      0.00000          0.0          0.0          0.0  ...   \n",
       "464          0.0      0.00000          0.0          0.0          0.0  ...   \n",
       "465          0.0      0.00000          0.0          0.0          0.0  ...   \n",
       "\n",
       "       SCS202    SCS203    SCS204     SCS205  SCS206     SCSM20  C1404RDC146  \\\n",
       "0    0.000000  0.000000  0.000000   0.000000     0.0   0.000000          0.0   \n",
       "1    0.000000  0.000000  0.000000   0.000000     0.0   0.000000          0.0   \n",
       "2    0.000000  0.000000  0.000000   0.000000     0.0   0.000000          0.0   \n",
       "3    0.000000  0.000000  0.000000   0.000000     0.0   0.000000          0.0   \n",
       "4    0.000000  0.000000  0.000000   0.000000     0.0   0.000000          0.0   \n",
       "..        ...       ...       ...        ...     ...        ...          ...   \n",
       "461  6.834811  6.123964  0.000000  21.264287     0.0   7.529429          0.0   \n",
       "462  0.000000  6.720312  6.662960  26.009172     0.0  16.736374          0.0   \n",
       "463  7.356108  0.000000  6.337538  14.578136     0.0   0.000000          0.0   \n",
       "464  0.000000  0.000000  7.302619  11.024011     0.0   0.000000          0.0   \n",
       "465  7.246107  0.000000  0.000000   0.000000     0.0   0.000000          0.0   \n",
       "\n",
       "     C1404STA149  C14PTT202  log_totes  \n",
       "0       0.000000   0.000000   3.591024  \n",
       "1       0.000000   0.000000   3.482777  \n",
       "2       0.000000   0.000000   3.162658  \n",
       "3       0.000000   0.000000   3.512540  \n",
       "4       0.000000   0.000000   3.494485  \n",
       "..           ...        ...        ...  \n",
       "461     0.000000   0.000000   3.936716  \n",
       "462     0.000000   0.000000   4.332048  \n",
       "463     7.111467  13.330787   4.177204  \n",
       "464     0.000000   2.609438   4.054390  \n",
       "465     7.492240  19.303653   3.939962  \n",
       "\n",
       "[16736 rows x 1164 columns]"
      ]
     },
     "execution_count": 11,
     "metadata": {},
     "output_type": "execute_result"
    }
   ],
   "source": [
    "df"
   ]
  },
  {
   "cell_type": "code",
   "execution_count": null,
   "metadata": {},
   "outputs": [],
   "source": [
    "df_week = df[df['timestamp']>end_time - pd.to_timedelta(14, unit='D')]"
   ]
  },
  {
   "cell_type": "code",
   "execution_count": null,
   "metadata": {},
   "outputs": [],
   "source": [
    "X,y = md.gen_feat_var(df,target = 'Availability', features = ['Faults','Totes'])\n"
   ]
  },
  {
   "cell_type": "code",
   "execution_count": null,
   "metadata": {},
   "outputs": [],
   "source": [
    "X_train, X_test, y_train, y_test = md.split(X,y,split_options = {'test_size': 0.3,\n",
    "                                                                 'random_state': 42})\n",
    "\n",
    "R2_cv,R2_OOS,Coeff = md.run_OLS(X_train = X_train,y_train = y_train,X_test = X_test,y_test=y_test, n = 30)"
   ]
  },
  {
   "cell_type": "code",
   "execution_count": null,
   "metadata": {},
   "outputs": [],
   "source": [
    "R2_OOS"
   ]
  },
  {
   "cell_type": "markdown",
   "metadata": {},
   "source": [
    "# Plotting"
   ]
  },
  {
   "cell_type": "code",
   "execution_count": null,
   "metadata": {},
   "outputs": [],
   "source": [
    "Output[Output['AREA'] == 'PTT']['ID'].value_counts()"
   ]
  },
  {
   "cell_type": "code",
   "execution_count": null,
   "metadata": {},
   "outputs": [],
   "source": [
    "Total = Output[['ID','SINGLES']].groupby('ID').sum().reset_index()"
   ]
  },
  {
   "cell_type": "code",
   "execution_count": null,
   "metadata": {
    "scrolled": true
   },
   "outputs": [],
   "source": [
    "plt.figure(figsize=(15,5))\n",
    "sns.barplot(y='SINGLES',x = 'ID',data = Total.sort_values(by='SINGLES',ascending=False).head(10),color = 'r')\n",
    "plt.ylabel('Lost Singles')\n",
    "plt.title('SCS Lost Singles Last 12 Hours')"
   ]
  },
  {
   "cell_type": "code",
   "execution_count": null,
   "metadata": {},
   "outputs": [],
   "source": [
    "PTT081 = Output[['Asset Code','PTT081']].groupby('Asset Code').sum().reset_index()"
   ]
  },
  {
   "cell_type": "code",
   "execution_count": null,
   "metadata": {},
   "outputs": [],
   "source": [
    "plt.figure(figsize=(7,5))\n",
    "sns.barplot(y='PTT081',x = 'Asset Code',data = PTT081.sort_values(by='PTT081',ascending=False).head(5),color = 'r')\n",
    "plt.ylabel('Lost Singles')\n",
    "plt.title('PTT081 Lost Singles Last 12 Hours')"
   ]
  },
  {
   "cell_type": "code",
   "execution_count": null,
   "metadata": {},
   "outputs": [],
   "source": [
    "Total_colour = Output[['BLUEGREY','SINGLES']].groupby('BLUEGREY').sum().reset_index()"
   ]
  },
  {
   "cell_type": "code",
   "execution_count": null,
   "metadata": {
    "scrolled": true
   },
   "outputs": [],
   "source": [
    "plt.figure(figsize=(5,5))\n",
    "sns.barplot(y='SINGLES',x = 'BLUEGREY',data = Total_colour.sort_values(by='SINGLES',ascending=False),color = 'r')\n",
    "plt.ylabel('Lost Singles')\n",
    "plt.title('SCS Lost Singles Last 12 Hours')"
   ]
  },
  {
   "cell_type": "code",
   "execution_count": null,
   "metadata": {},
   "outputs": [],
   "source": [
    "Total_colour"
   ]
  },
  {
   "cell_type": "code",
   "execution_count": null,
   "metadata": {},
   "outputs": [],
   "source": [
    "sns.lmplot(x='log_totes', y='Availability', data=df, line_kws={\"color\": \"red\"})\n",
    "plt.xlim(0, 5)"
   ]
  },
  {
   "cell_type": "code",
   "execution_count": null,
   "metadata": {},
   "outputs": [],
   "source": [
    "sns.lmplot(x='TOTES', y='Availability', data=df_week, line_kws={\"color\": \"red\"})"
   ]
  },
  {
   "cell_type": "code",
   "execution_count": null,
   "metadata": {},
   "outputs": [],
   "source": [
    "ax = sns.regplot(x=\"TOTES\", y=\"Availability\", data=df_week,\n",
    "x_estimator=np.mean, logx=True, line_kws={\"color\": \"red\"})\n",
    "plt.ylim(0,1)"
   ]
  },
  {
   "cell_type": "code",
   "execution_count": null,
   "metadata": {},
   "outputs": [],
   "source": [
    "sns.lmplot(x='log_totes', y='Availability', data=df_week, line_kws={\"color\": \"red\"})\n",
    "plt.xlim(0, 5)"
   ]
  },
  {
   "cell_type": "code",
   "execution_count": null,
   "metadata": {},
   "outputs": [],
   "source": [
    "Shift = [0,0,0,10,10,10,20,20,20]\n",
    "Weights = [[1],[0.7,0.3],[0.7,0.2,0.1],[1],[0.7,0.3],[0.7,0.2,0.1],[1],[0.7,0.3],[0.7,0.2,0.1]]"
   ]
  },
  {
   "cell_type": "code",
   "execution_count": null,
   "metadata": {},
   "outputs": [],
   "source": [
    "Weights[8]"
   ]
  },
  {
   "cell_type": "code",
   "execution_count": null,
   "metadata": {},
   "outputs": [],
   "source": [
    "y"
   ]
  },
  {
   "cell_type": "code",
   "execution_count": null,
   "metadata": {},
   "outputs": [],
   "source": [
    "at"
   ]
  },
  {
   "cell_type": "code",
   "execution_count": null,
   "metadata": {},
   "outputs": [],
   "source": [
    "fa_floor"
   ]
  },
  {
   "cell_type": "code",
   "execution_count": null,
   "metadata": {},
   "outputs": [],
   "source": [
    "df.drop(['Availability','Blue Tote Loss','Grey Tote Loss','timestamp'],axis=1)"
   ]
  },
  {
   "cell_type": "code",
   "execution_count": null,
   "metadata": {},
   "outputs": [],
   "source": [
    "Outputs = {0.5:'Number One',0.4:'Number Two',-1.4:'Number 3'}"
   ]
  },
  {
   "cell_type": "code",
   "execution_count": null,
   "metadata": {},
   "outputs": [],
   "source": [
    " Output = Outputs[max(k for k, v in Outputs.items())]"
   ]
  },
  {
   "cell_type": "code",
   "execution_count": null,
   "metadata": {},
   "outputs": [],
   "source": [
    "Outputs[0.456]='Numbers 4'"
   ]
  },
  {
   "cell_type": "code",
   "execution_count": null,
   "metadata": {
    "scrolled": true
   },
   "outputs": [],
   "source": [
    "Outputs"
   ]
  },
  {
   "cell_type": "code",
   "execution_count": null,
   "metadata": {},
   "outputs": [],
   "source": [
    "print('Selected R2:', max(k for k, v in Outputs.items()))"
   ]
  },
  {
   "cell_type": "code",
   "execution_count": null,
   "metadata": {},
   "outputs": [],
   "source": [
    "fa_floor = feat.floor_shift_time_fa(fa, shift=10)\n",
    "\n",
    "df,fa_PTT = feat.create_PTT_df(fa_floor,at,av,weights=[0.7,0.2,0.1])\n",
    "df = feat.log_totes(df) \n",
    "df_2week = df[df['timestamp']>end_time - pd.to_timedelta(14, unit='D')]\n",
    "X,y = md.gen_feat_var(df_2week,target = 'Availability', features = ['Totes','Faults'])\n",
    "X_train, X_test, y_train, y_test = md.split(X,y,split_options = {'test_size': 0.3,\n",
    "                                                                    'random_state': None})\n",
    "\n",
    "R2_cv,R2_OOS,Coeff = md.run_OLS(X_train = X_train,y_train = y_train,X_test = X_test,y_test=y_test, n = 30)\n",
    "\n",
    "Output = rs.create_output(fa_PTT,Coeff,end_time,speed = speed, picker_present = picker_present, availability = availability)"
   ]
  },
  {
   "cell_type": "code",
   "execution_count": null,
   "metadata": {},
   "outputs": [],
   "source": [
    "R2_OOS"
   ]
  },
  {
   "cell_type": "code",
   "execution_count": null,
   "metadata": {},
   "outputs": [],
   "source": [
    "fa_floor"
   ]
  },
  {
   "cell_type": "code",
   "execution_count": null,
   "metadata": {},
   "outputs": [],
   "source": [
    "print(fa.loc[fa['Area'].isnull() & fa['Desk'] == 'Z', 'Area'])"
   ]
  },
  {
   "cell_type": "code",
   "execution_count": null,
   "metadata": {},
   "outputs": [],
   "source": [
    "fa['Area'].isnull() & fa['Desk'] == 'Z' "
   ]
  },
  {
   "cell_type": "code",
   "execution_count": null,
   "metadata": {},
   "outputs": [],
   "source": [
    "fa"
   ]
  },
  {
   "cell_type": "code",
   "execution_count": null,
   "metadata": {},
   "outputs": [],
   "source": [
    "type(fa)"
   ]
  },
  {
   "cell_type": "code",
   "execution_count": null,
   "metadata": {},
   "outputs": [],
   "source": [
    "from datetime import datetime \n",
    "now = datetime.now()\n",
    "dt_string = now.strftime(\"%d/%m/%Y %H:%M:%S\")"
   ]
  },
  {
   "cell_type": "code",
   "execution_count": null,
   "metadata": {},
   "outputs": [],
   "source": [
    "log = pd.read_excel('C:/Users/Jamie.williams/desktop/scs/Run_log.xlsx')\n",
    "new_row = pd.DataFrame([['dt_string','R2_sel','feat_sel','runtime','report_start','report_end']],columns = list(log.columns))"
   ]
  },
  {
   "cell_type": "code",
   "execution_count": null,
   "metadata": {},
   "outputs": [],
   "source": [
    "new_row"
   ]
  },
  {
   "cell_type": "code",
   "execution_count": null,
   "metadata": {},
   "outputs": [],
   "source": [
    "import time\n",
    "now = datetime.now()\n",
    "time.sleep(2)\n",
    "now2 = datetime.now()\n",
    "now2-now"
   ]
  },
  {
   "cell_type": "code",
   "execution_count": null,
   "metadata": {},
   "outputs": [],
   "source": [
    "'asdsad' +'asddasd'"
   ]
  },
  {
   "cell_type": "code",
   "execution_count": null,
   "metadata": {},
   "outputs": [],
   "source": [
    "fa['timestamp'].max()"
   ]
  },
  {
   "cell_type": "code",
   "execution_count": null,
   "metadata": {},
   "outputs": [],
   "source": [
    "max_date = pd.to_datetime(scs_raw['Entry Time'],dayfirst=True).max()"
   ]
  },
  {
   "cell_type": "code",
   "execution_count": null,
   "metadata": {},
   "outputs": [],
   "source": [
    "max_date2 = pd.to_datetime(fa_old['Entry Time'],dayfirst=True).max()"
   ]
  },
  {
   "cell_type": "code",
   "execution_count": 16,
   "metadata": {},
   "outputs": [],
   "source": [
    "Test_time = pd.to_timedelta(48,unit='H')"
   ]
  },
  {
   "cell_type": "code",
   "execution_count": 17,
   "metadata": {},
   "outputs": [
    {
     "data": {
      "text/plain": [
       "2"
      ]
     },
     "execution_count": 17,
     "metadata": {},
     "output_type": "execute_result"
    }
   ],
   "source": [
    "Test_time.days"
   ]
  },
  {
   "cell_type": "code",
   "execution_count": 24,
   "metadata": {},
   "outputs": [
    {
     "data": {
      "text/plain": [
       "True"
      ]
     },
     "execution_count": 24,
     "metadata": {},
     "output_type": "execute_result"
    }
   ],
   "source": [
    "list(at.columns) == ['Module','TOTES','timestamp','Quadrant']"
   ]
  },
  {
   "cell_type": "code",
   "execution_count": 25,
   "metadata": {},
   "outputs": [
    {
     "data": {
      "text/html": [
       "<div>\n",
       "<style scoped>\n",
       "    .dataframe tbody tr th:only-of-type {\n",
       "        vertical-align: middle;\n",
       "    }\n",
       "\n",
       "    .dataframe tbody tr th {\n",
       "        vertical-align: top;\n",
       "    }\n",
       "\n",
       "    .dataframe thead th {\n",
       "        text-align: right;\n",
       "    }\n",
       "</style>\n",
       "<table border=\"1\" class=\"dataframe\">\n",
       "  <thead>\n",
       "    <tr style=\"text-align: right;\">\n",
       "      <th></th>\n",
       "      <th>Module</th>\n",
       "      <th>TOTES</th>\n",
       "      <th>timestamp</th>\n",
       "      <th>Quadrant</th>\n",
       "    </tr>\n",
       "  </thead>\n",
       "  <tbody>\n",
       "    <tr>\n",
       "      <th>0</th>\n",
       "      <td>1</td>\n",
       "      <td>44</td>\n",
       "      <td>2020-11-09 08:22:00</td>\n",
       "      <td>1</td>\n",
       "    </tr>\n",
       "    <tr>\n",
       "      <th>1</th>\n",
       "      <td>2</td>\n",
       "      <td>33</td>\n",
       "      <td>2020-11-09 08:22:00</td>\n",
       "      <td>1</td>\n",
       "    </tr>\n",
       "    <tr>\n",
       "      <th>2</th>\n",
       "      <td>3</td>\n",
       "      <td>71</td>\n",
       "      <td>2020-11-09 08:22:00</td>\n",
       "      <td>1</td>\n",
       "    </tr>\n",
       "    <tr>\n",
       "      <th>3</th>\n",
       "      <td>4</td>\n",
       "      <td>53</td>\n",
       "      <td>2020-11-09 08:22:00</td>\n",
       "      <td>1</td>\n",
       "    </tr>\n",
       "    <tr>\n",
       "      <th>4</th>\n",
       "      <td>5</td>\n",
       "      <td>65</td>\n",
       "      <td>2020-11-09 08:22:00</td>\n",
       "      <td>1</td>\n",
       "    </tr>\n",
       "    <tr>\n",
       "      <th>...</th>\n",
       "      <td>...</td>\n",
       "      <td>...</td>\n",
       "      <td>...</td>\n",
       "      <td>...</td>\n",
       "    </tr>\n",
       "    <tr>\n",
       "      <th>643228</th>\n",
       "      <td>15</td>\n",
       "      <td>19</td>\n",
       "      <td>2020-12-10 17:44:00</td>\n",
       "      <td>3</td>\n",
       "    </tr>\n",
       "    <tr>\n",
       "      <th>643229</th>\n",
       "      <td>17</td>\n",
       "      <td>11</td>\n",
       "      <td>2020-12-10 17:44:00</td>\n",
       "      <td>4</td>\n",
       "    </tr>\n",
       "    <tr>\n",
       "      <th>643230</th>\n",
       "      <td>18</td>\n",
       "      <td>12</td>\n",
       "      <td>2020-12-10 17:44:00</td>\n",
       "      <td>4</td>\n",
       "    </tr>\n",
       "    <tr>\n",
       "      <th>643231</th>\n",
       "      <td>19</td>\n",
       "      <td>9</td>\n",
       "      <td>2020-12-10 17:44:00</td>\n",
       "      <td>4</td>\n",
       "    </tr>\n",
       "    <tr>\n",
       "      <th>643232</th>\n",
       "      <td>20</td>\n",
       "      <td>10</td>\n",
       "      <td>2020-12-10 17:44:00</td>\n",
       "      <td>4</td>\n",
       "    </tr>\n",
       "  </tbody>\n",
       "</table>\n",
       "<p>603988 rows × 4 columns</p>\n",
       "</div>"
      ],
      "text/plain": [
       "        Module  TOTES           timestamp  Quadrant\n",
       "0            1     44 2020-11-09 08:22:00         1\n",
       "1            2     33 2020-11-09 08:22:00         1\n",
       "2            3     71 2020-11-09 08:22:00         1\n",
       "3            4     53 2020-11-09 08:22:00         1\n",
       "4            5     65 2020-11-09 08:22:00         1\n",
       "...        ...    ...                 ...       ...\n",
       "643228      15     19 2020-12-10 17:44:00         3\n",
       "643229      17     11 2020-12-10 17:44:00         4\n",
       "643230      18     12 2020-12-10 17:44:00         4\n",
       "643231      19      9 2020-12-10 17:44:00         4\n",
       "643232      20     10 2020-12-10 17:44:00         4\n",
       "\n",
       "[603988 rows x 4 columns]"
      ]
     },
     "execution_count": 25,
     "metadata": {},
     "output_type": "execute_result"
    }
   ],
   "source": [
    "at"
   ]
  },
  {
   "cell_type": "code",
   "execution_count": 26,
   "metadata": {},
   "outputs": [],
   "source": [
    "d = {'col1': [1, 2], 'col2': [3, 4]}"
   ]
  },
  {
   "cell_type": "code",
   "execution_count": 30,
   "metadata": {},
   "outputs": [
    {
     "data": {
      "text/html": [
       "<div>\n",
       "<style scoped>\n",
       "    .dataframe tbody tr th:only-of-type {\n",
       "        vertical-align: middle;\n",
       "    }\n",
       "\n",
       "    .dataframe tbody tr th {\n",
       "        vertical-align: top;\n",
       "    }\n",
       "\n",
       "    .dataframe thead th {\n",
       "        text-align: right;\n",
       "    }\n",
       "</style>\n",
       "<table border=\"1\" class=\"dataframe\">\n",
       "  <thead>\n",
       "    <tr style=\"text-align: right;\">\n",
       "      <th></th>\n",
       "      <th>timestamp</th>\n",
       "      <th>Pick Station</th>\n",
       "      <th>Availability</th>\n",
       "      <th>Blue Tote Loss</th>\n",
       "      <th>Grey Tote Loss</th>\n",
       "    </tr>\n",
       "  </thead>\n",
       "  <tbody>\n",
       "    <tr>\n",
       "      <th>0</th>\n",
       "      <td>2020-10-16 06:00:00.000</td>\n",
       "      <td>PTT021</td>\n",
       "      <td>0.773749</td>\n",
       "      <td>NaN</td>\n",
       "      <td>NaN</td>\n",
       "    </tr>\n",
       "    <tr>\n",
       "      <th>1</th>\n",
       "      <td>2020-10-16 06:00:00.000</td>\n",
       "      <td>PTT022</td>\n",
       "      <td>0.960727</td>\n",
       "      <td>NaN</td>\n",
       "      <td>NaN</td>\n",
       "    </tr>\n",
       "    <tr>\n",
       "      <th>2</th>\n",
       "      <td>2020-10-16 06:00:00.000</td>\n",
       "      <td>PTT031</td>\n",
       "      <td>0.504047</td>\n",
       "      <td>NaN</td>\n",
       "      <td>NaN</td>\n",
       "    </tr>\n",
       "    <tr>\n",
       "      <th>3</th>\n",
       "      <td>2020-10-16 06:00:00.000</td>\n",
       "      <td>PTT032</td>\n",
       "      <td>0.185426</td>\n",
       "      <td>NaN</td>\n",
       "      <td>NaN</td>\n",
       "    </tr>\n",
       "    <tr>\n",
       "      <th>4</th>\n",
       "      <td>2020-10-16 06:00:00.000</td>\n",
       "      <td>PTT041</td>\n",
       "      <td>0.743447</td>\n",
       "      <td>NaN</td>\n",
       "      <td>NaN</td>\n",
       "    </tr>\n",
       "    <tr>\n",
       "      <th>...</th>\n",
       "      <td>...</td>\n",
       "      <td>...</td>\n",
       "      <td>...</td>\n",
       "      <td>...</td>\n",
       "      <td>...</td>\n",
       "    </tr>\n",
       "    <tr>\n",
       "      <th>46902</th>\n",
       "      <td>2020-12-09 17:00:00.000</td>\n",
       "      <td>PTT182</td>\n",
       "      <td>0.786288</td>\n",
       "      <td>0.000000</td>\n",
       "      <td>0.213712</td>\n",
       "    </tr>\n",
       "    <tr>\n",
       "      <th>46903</th>\n",
       "      <td>2020-12-09 17:00:00.000</td>\n",
       "      <td>PTT191</td>\n",
       "      <td>0.693727</td>\n",
       "      <td>0.049333</td>\n",
       "      <td>0.256940</td>\n",
       "    </tr>\n",
       "    <tr>\n",
       "      <th>46904</th>\n",
       "      <td>2020-12-09 17:00:00.000</td>\n",
       "      <td>PTT192</td>\n",
       "      <td>0.770199</td>\n",
       "      <td>0.064000</td>\n",
       "      <td>0.165801</td>\n",
       "    </tr>\n",
       "    <tr>\n",
       "      <th>46905</th>\n",
       "      <td>2020-12-09 17:00:00.000</td>\n",
       "      <td>PTT201</td>\n",
       "      <td>0.861207</td>\n",
       "      <td>0.085333</td>\n",
       "      <td>0.053460</td>\n",
       "    </tr>\n",
       "    <tr>\n",
       "      <th>46906</th>\n",
       "      <td>2020-12-09 17:00:00.000</td>\n",
       "      <td>PTT202</td>\n",
       "      <td>0.841450</td>\n",
       "      <td>0.090667</td>\n",
       "      <td>0.067883</td>\n",
       "    </tr>\n",
       "  </tbody>\n",
       "</table>\n",
       "<p>46907 rows × 5 columns</p>\n",
       "</div>"
      ],
      "text/plain": [
       "                     timestamp Pick Station  Availability  Blue Tote Loss  \\\n",
       "0      2020-10-16 06:00:00.000       PTT021      0.773749             NaN   \n",
       "1      2020-10-16 06:00:00.000       PTT022      0.960727             NaN   \n",
       "2      2020-10-16 06:00:00.000       PTT031      0.504047             NaN   \n",
       "3      2020-10-16 06:00:00.000       PTT032      0.185426             NaN   \n",
       "4      2020-10-16 06:00:00.000       PTT041      0.743447             NaN   \n",
       "...                        ...          ...           ...             ...   \n",
       "46902  2020-12-09 17:00:00.000       PTT182      0.786288        0.000000   \n",
       "46903  2020-12-09 17:00:00.000       PTT191      0.693727        0.049333   \n",
       "46904  2020-12-09 17:00:00.000       PTT192      0.770199        0.064000   \n",
       "46905  2020-12-09 17:00:00.000       PTT201      0.861207        0.085333   \n",
       "46906  2020-12-09 17:00:00.000       PTT202      0.841450        0.090667   \n",
       "\n",
       "       Grey Tote Loss  \n",
       "0                 NaN  \n",
       "1                 NaN  \n",
       "2                 NaN  \n",
       "3                 NaN  \n",
       "4                 NaN  \n",
       "...               ...  \n",
       "46902        0.213712  \n",
       "46903        0.256940  \n",
       "46904        0.165801  \n",
       "46905        0.053460  \n",
       "46906        0.067883  \n",
       "\n",
       "[46907 rows x 5 columns]"
      ]
     },
     "execution_count": 30,
     "metadata": {},
     "output_type": "execute_result"
    }
   ],
   "source": [
    "av"
   ]
  },
  {
   "cell_type": "code",
   "execution_count": 31,
   "metadata": {},
   "outputs": [
    {
     "name": "stdout",
     "output_type": "stream",
     "text": [
      "<class 'pandas.core.frame.DataFrame'>\n",
      "RangeIndex: 46907 entries, 0 to 46906\n",
      "Data columns (total 5 columns):\n",
      " #   Column          Non-Null Count  Dtype  \n",
      "---  ------          --------------  -----  \n",
      " 0   timestamp       46907 non-null  object \n",
      " 1   Pick Station    46907 non-null  object \n",
      " 2   Availability    46906 non-null  float64\n",
      " 3   Blue Tote Loss  18507 non-null  float64\n",
      " 4   Grey Tote Loss  18507 non-null  float64\n",
      "dtypes: float64(3), object(2)\n",
      "memory usage: 1.8+ MB\n"
     ]
    }
   ],
   "source": [
    "av.info()"
   ]
  },
  {
   "cell_type": "code",
   "execution_count": null,
   "metadata": {},
   "outputs": [],
   "source": []
  }
 ],
 "metadata": {
  "kernelspec": {
   "display_name": "Python 3",
   "language": "python",
   "name": "python3"
  },
  "language_info": {
   "codemirror_mode": {
    "name": "ipython",
    "version": 3
   },
   "file_extension": ".py",
   "mimetype": "text/x-python",
   "name": "python",
   "nbconvert_exporter": "python",
   "pygments_lexer": "ipython3",
   "version": "3.8.3"
  }
 },
 "nbformat": 4,
 "nbformat_minor": 4
}
