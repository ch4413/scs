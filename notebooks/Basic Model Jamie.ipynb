{
 "cells": [
  {
   "cell_type": "code",
   "execution_count": 2,
   "metadata": {},
   "outputs": [
    {
     "name": "stderr",
     "output_type": "stream",
     "text": [
      "2020-12-14 13:22:43,644 - NumExpr defaulting to 8 threads.\n"
     ]
    }
   ],
   "source": [
    "import pandas as pd\n",
    "import numpy as np\n",
    "import seaborn as sns\n",
    "import matplotlib.pyplot as plt\n",
    "%matplotlib inline\n",
    "\n",
    "import scsavailability as scs\n",
    "    \n",
    "import statsmodels.api as sm\n",
    "from scipy import stats\n",
    "\n",
    "from scsavailability import features as feat, model as md, plotting as pt, score as sc\n"
   ]
  },
  {
   "cell_type": "code",
   "execution_count": 3,
   "metadata": {},
   "outputs": [],
   "source": [
    "path = 'C:/Users/Jamie.williams/OneDrive - Newton Europe Ltd/Castle Donnington/Data/'"
   ]
  },
  {
   "cell_type": "code",
   "execution_count": 5,
   "metadata": {},
   "outputs": [],
   "source": [
    "at = pd.read_csv(path+'active_totes_20201123.csv')\n",
    "av = pd.read_csv(path+'Availability_with_Grey&Blue_1811-2511.csv')\n",
    "#fa = pd.read_csv(path + 'scs_tote_matched.csv')\n",
    "scs_raw = pd.read_csv(path + 'SCS_Alerts_NOV_new.csv')\n",
    "\n"
   ]
  },
  {
   "cell_type": "code",
   "execution_count": 6,
   "metadata": {},
   "outputs": [
    {
     "name": "stdout",
     "output_type": "stream",
     "text": [
      "Running: Function \"load_tote_lookup\" (id=2486671000192) was called 1 times\n"
     ]
    }
   ],
   "source": [
    "fa = feat.add_code(scs_raw)\n",
    "fa, unmapped = feat.add_tote_colour(fa)"
   ]
  },
  {
   "cell_type": "code",
   "execution_count": 7,
   "metadata": {},
   "outputs": [
    {
     "name": "stdout",
     "output_type": "stream",
     "text": [
      "Running: Function \"pre_process_AT\" (id=2486671001344) was called 1 times\n"
     ]
    }
   ],
   "source": [
    "at = feat.pre_process_AT(at)"
   ]
  },
  {
   "cell_type": "code",
   "execution_count": 8,
   "metadata": {},
   "outputs": [
    {
     "name": "stdout",
     "output_type": "stream",
     "text": [
      "Running: Function \"pre_process_av\" (id=2486671003072) was called 1 times\n"
     ]
    }
   ],
   "source": [
    "av = feat.pre_process_av(av)"
   ]
  },
  {
   "cell_type": "code",
   "execution_count": 9,
   "metadata": {},
   "outputs": [
    {
     "name": "stdout",
     "output_type": "stream",
     "text": [
      "Running: Function \"preprocess_faults\" (id=2486671003360) was called 1 times\n",
      "Running: Function \"load_module_lookup\" (id=2486671001920) was called 1 times\n",
      "duplicated location faults removed - max duration kept\n"
     ]
    }
   ],
   "source": [
    "fa = feat.preprocess_faults(fa,remove_same_location_faults = True)"
   ]
  },
  {
   "cell_type": "code",
   "execution_count": 50,
   "metadata": {},
   "outputs": [
    {
     "name": "stdout",
     "output_type": "stream",
     "text": [
      "Time shifted by 0Minutes\n"
     ]
    }
   ],
   "source": [
    "fa_floor = feat.floor_shift_time_fa(fa, shift=0)"
   ]
  },
  {
   "cell_type": "code",
   "execution_count": 79,
   "metadata": {},
   "outputs": [
    {
     "name": "stdout",
     "output_type": "stream",
     "text": [
      "Running: Function \"faults_aggregate\" (id=2486671106544) was called 9 times\n"
     ]
    }
   ],
   "source": [
    "fa_sel = feat.fault_select(fa_floor, fault_select_options = {'Tote Colour':['Grey','Both']})\n",
    "                                                            \n",
    "fa_agg = feat.faults_aggregate(fa_sel,fault_agg_level= 'code', agg_type = 'count')"
   ]
  },
  {
   "cell_type": "code",
   "execution_count": 89,
   "metadata": {},
   "outputs": [
    {
     "name": "stdout",
     "output_type": "stream",
     "text": [
      "Running: Function \"aggregate_availability\" (id=2486671106976) was called 18 times\n"
     ]
    }
   ],
   "source": [
    "av_sel,at_sel = feat.av_at_select(av, at, remove_high_AT = False,availability_select_options = None)\n",
    "\n",
    "av_agg = feat.aggregate_availability(av_sel, agg_level = 'Module')\n",
    "at_agg = feat.aggregate_totes(at_sel, agg_level = 'Module')\n",
    "\n",
    "#at_agg = at_agg[at_agg['TOTES']>100]"
   ]
  },
  {
   "cell_type": "code",
   "execution_count": 90,
   "metadata": {},
   "outputs": [
    {
     "name": "stdout",
     "output_type": "stream",
     "text": [
      "Datasets merged\n"
     ]
    }
   ],
   "source": [
    "df = feat.merge_av_fa_at(av_agg ,at_df=at_agg, fa_df = fa_agg, target = 'Grey Tote Loss' ,faults=True, totes = True, agg_level = 'Module',remove_0=True)"
   ]
  },
  {
   "cell_type": "code",
   "execution_count": 85,
   "metadata": {},
   "outputs": [],
   "source": [
    "X,y = md.gen_feat_var(df)\n",
    "y=1-y"
   ]
  },
  {
   "cell_type": "code",
   "execution_count": 86,
   "metadata": {},
   "outputs": [
    {
     "name": "stdout",
     "output_type": "stream",
     "text": [
      "Feature Importance Ranking: \n",
      " \n",
      "    Importance      Feature\n",
      "0    0.262254        TOTES\n",
      "1    0.061540  C1402STA061\n",
      "2    0.032321       SCSM15\n",
      "3    0.031531          C05\n",
      "4    0.027877       SCSM18\n",
      "5    0.027742  C1404STA164\n",
      "6    0.021530       SCSM02\n",
      "7    0.019732  C1102STA077\n",
      "8    0.019602       SCSM03\n",
      "9    0.018359  C1404STA197\n",
      "\n",
      "Regression Metrics: \n",
      " \n",
      "           RF Metrics\n",
      "MAE         0.151031\n",
      "MSE         0.048972\n",
      "RMSE        0.221296\n",
      "MAPE%     294.270000\n",
      "ACC%     -194.270000\n",
      "OOB        -0.052970\n",
      "R2_Train    0.853113\n",
      "R2_Pred    -0.150503 \n",
      "\n",
      "Feature Importance Ranking: \n",
      " \n",
      "    Importance      Feature\n",
      "0    0.097398  C1404STA174\n",
      "1    0.096304  C1402STA061\n",
      "2    0.091202       SCSM15\n",
      "3    0.083370  C0802STA065\n",
      "4    0.067933  C1102STA077\n",
      "5    0.050986  C1104STA177\n",
      "6    0.041970  C1104STA197\n",
      "7    0.032817  C0502STA097\n",
      "8    0.030666  C0602STA097\n",
      "9    0.029800  C1002STA077\n",
      "\n",
      "Regression Metrics: \n",
      " \n",
      "          XGB Metrics\n",
      "MAE         0.169537\n",
      "MSE        0.0552803\n",
      "RMSE        0.235118\n",
      "MAPE%         285.98\n",
      "ACC%         -185.98\n",
      "OOB              N/A\n",
      "R2_Train    0.999943\n",
      "R2_Pred    -0.298707 \n",
      "\n",
      "\n",
      "Number of Selected Features:313 \n",
      "\n",
      "\n",
      "Number of Selected Features:313 \n",
      "\n",
      "\n",
      "Number of Selected Features:313 \n",
      "\n",
      "\n",
      "Cross Validation Scores LinearRegression(): \n",
      " \n",
      "          R2 Scores\n",
      "1    -8.122757e-01\n",
      "2    -6.726887e-01\n",
      "3    -3.368099e+00\n",
      "4    -1.994090e+00\n",
      "5    -9.084634e-01\n",
      "6    -1.881722e+00\n",
      "7    -5.373125e+21\n",
      "8    -6.859850e-01\n",
      "9    -2.262290e+00\n",
      "10    2.061567e-01\n",
      "Mean -5.373125e+20\n",
      "STD   1.611937e+21\n",
      "\n",
      "Cross Validation Scores RandomForestRegressor(oob_score=True): \n",
      " \n",
      "        R2 Scores\n",
      "1       0.110734\n",
      "2      -0.245874\n",
      "3      -0.410972\n",
      "4       0.299923\n",
      "5       0.074197\n",
      "6       0.115609\n",
      "7      -0.735104\n",
      "8      -0.401846\n",
      "9      -0.185736\n",
      "10     -0.888368\n",
      "Mean   -0.226744\n",
      "STD     0.369035\n",
      "\n",
      "Cross Validation Scores XGBRegressor(base_score=0.5, booster='gbtree', colsample_bylevel=1,\n",
      "             colsample_bynode=1, colsample_bytree=1, gamma=0, gpu_id=-1,\n",
      "             importance_type='gain', interaction_constraints='',\n",
      "             learning_rate=0.300000012, max_delta_step=0, max_depth=6,\n",
      "             min_child_weight=1, missing=nan, monotone_constraints='()',\n",
      "             n_estimators=100, n_jobs=0, num_parallel_tree=1, random_state=0,\n",
      "             reg_alpha=0, reg_lambda=1, scale_pos_weight=1, subsample=1,\n",
      "             tree_method='exact', validate_parameters=1, verbosity=None): \n",
      " \n",
      "        R2 Scores\n",
      "1       0.070795\n",
      "2      -0.469604\n",
      "3      -0.390843\n",
      "4      -7.056988\n",
      "5      -1.123619\n",
      "6      -0.994556\n",
      "7      -0.055254\n",
      "8      -0.722336\n",
      "9      -0.034237\n",
      "10      0.257682\n",
      "Mean   -1.051896\n",
      "STD     2.048379\n"
     ]
    }
   ],
   "source": [
    "X_train, X_test, y_train, y_test = md.split(X,y,split_options = {'test_size': 0.3,\n",
    "                                                                 'random_state': None})\n",
    "\n",
    "RF_mdl,predictions_RF=md.run_RF_model(X_train, X_test, y_train, y_test,RF_options = {'num_trees': 100, \n",
    "                                                                                    'criterion': 'mse', \n",
    "                                                                                    'max_depth': None, \n",
    "                                                                                    'dtree': False})\n",
    "\n",
    "Linear_mdl,predictions_LM,Coeff,fit_metrics = md.run_LR_model(X_train, X_test, y_train, y_test)\n",
    "\n",
    "XGB_mdl,predictions_XGB,Importance_XGB = md.run_XGB_model(X_train, X_test, y_train, y_test, XGB_options = {'num_trees': 100,\n",
    "                                                                                                         'max_depth': None})\n",
    "\n",
    "selection_options= {'thres': -np.inf,\n",
    "                    'max_feat': None}\n",
    "\n",
    "X_sel_rf = md.select_features(X, y, RF_mdl, selection_options)\n",
    "\n",
    "X_sel_lm = md.select_features(X, y, Linear_mdl, selection_options)\n",
    "\n",
    "X_sel_XGB = md.select_features(X, y, XGB_mdl, selection_options)\n",
    "\n",
    "                                                                                                           #X_train, X_test, y_train, y_test = md.split(X_sel_lm,y,test_size=0.3,random_state=101)\n",
    "\n",
    "#Linear_mdl,predictions_LM,Coeff,fit_metrics = md.run_LR_model(X_train, X_test, y_train, y_test)\n",
    "\n",
    "cv_R2 = md.cross_validate_r2(Linear_mdl, X_sel_lm, y)\n",
    "\n",
    "cv_R2 = md.cross_validate_r2(RF_mdl,X_sel_rf, y)\n",
    "\n",
    "cv_R2 = md.cross_validate_r2(XGB_mdl, X_sel_XGB, y)\n",
    "\n",
    "#md.stats_model(Linear_mdl,X_test,y_test)"
   ]
  },
  {
   "cell_type": "markdown",
   "metadata": {},
   "source": [
    "### Add LM - metrics"
   ]
  },
  {
   "cell_type": "code",
   "execution_count": 27,
   "metadata": {},
   "outputs": [
    {
     "ename": "LinAlgError",
     "evalue": "Singular matrix",
     "output_type": "error",
     "traceback": [
      "\u001b[1;31m---------------------------------------------------------------------------\u001b[0m",
      "\u001b[1;31mLinAlgError\u001b[0m                               Traceback (most recent call last)",
      "\u001b[1;32m<ipython-input-27-67b48dfb4880>\u001b[0m in \u001b[0;36m<module>\u001b[1;34m\u001b[0m\n\u001b[1;32m----> 1\u001b[1;33m \u001b[0msc\u001b[0m\u001b[1;33m.\u001b[0m\u001b[0mlm_coefficients\u001b[0m\u001b[1;33m(\u001b[0m\u001b[0mLinear_mdl\u001b[0m\u001b[1;33m,\u001b[0m \u001b[0mX\u001b[0m\u001b[1;33m,\u001b[0m \u001b[0my\u001b[0m\u001b[1;33m)\u001b[0m\u001b[1;33m\u001b[0m\u001b[1;33m\u001b[0m\u001b[0m\n\u001b[0m",
      "\u001b[1;32m~\\Anaconda3\\lib\\site-packages\\scsavailability\\score.py\u001b[0m in \u001b[0;36mlm_coefficients\u001b[1;34m(model, X, y)\u001b[0m\n\u001b[0;32m     39\u001b[0m     \u001b[1;31m# MSE = (sum((y-predictions)**2))/(len(newX)-len(newX[0]))\u001b[0m\u001b[1;33m\u001b[0m\u001b[1;33m\u001b[0m\u001b[1;33m\u001b[0m\u001b[0m\n\u001b[0;32m     40\u001b[0m \u001b[1;33m\u001b[0m\u001b[0m\n\u001b[1;32m---> 41\u001b[1;33m     \u001b[0mvar_b\u001b[0m \u001b[1;33m=\u001b[0m \u001b[0mMSE\u001b[0m\u001b[1;33m*\u001b[0m\u001b[1;33m(\u001b[0m\u001b[0mnp\u001b[0m\u001b[1;33m.\u001b[0m\u001b[0mlinalg\u001b[0m\u001b[1;33m.\u001b[0m\u001b[0minv\u001b[0m\u001b[1;33m(\u001b[0m\u001b[0mnp\u001b[0m\u001b[1;33m.\u001b[0m\u001b[0mdot\u001b[0m\u001b[1;33m(\u001b[0m\u001b[0mnewX\u001b[0m\u001b[1;33m.\u001b[0m\u001b[0mT\u001b[0m\u001b[1;33m,\u001b[0m\u001b[0mnewX\u001b[0m\u001b[1;33m)\u001b[0m\u001b[1;33m)\u001b[0m\u001b[1;33m.\u001b[0m\u001b[0mdiagonal\u001b[0m\u001b[1;33m(\u001b[0m\u001b[1;33m)\u001b[0m\u001b[1;33m)\u001b[0m\u001b[1;33m\u001b[0m\u001b[1;33m\u001b[0m\u001b[0m\n\u001b[0m\u001b[0;32m     42\u001b[0m     \u001b[0msd_b\u001b[0m \u001b[1;33m=\u001b[0m \u001b[0mnp\u001b[0m\u001b[1;33m.\u001b[0m\u001b[0msqrt\u001b[0m\u001b[1;33m(\u001b[0m\u001b[0mvar_b\u001b[0m\u001b[1;33m)\u001b[0m\u001b[1;33m\u001b[0m\u001b[1;33m\u001b[0m\u001b[0m\n\u001b[0;32m     43\u001b[0m     \u001b[0mts_b\u001b[0m \u001b[1;33m=\u001b[0m \u001b[0mparams\u001b[0m\u001b[1;33m/\u001b[0m \u001b[0msd_b\u001b[0m\u001b[1;33m\u001b[0m\u001b[1;33m\u001b[0m\u001b[0m\n",
      "\u001b[1;32m<__array_function__ internals>\u001b[0m in \u001b[0;36minv\u001b[1;34m(*args, **kwargs)\u001b[0m\n",
      "\u001b[1;32m~\\Anaconda3\\lib\\site-packages\\numpy\\linalg\\linalg.py\u001b[0m in \u001b[0;36minv\u001b[1;34m(a)\u001b[0m\n\u001b[0;32m    545\u001b[0m     \u001b[0msignature\u001b[0m \u001b[1;33m=\u001b[0m \u001b[1;34m'D->D'\u001b[0m \u001b[1;32mif\u001b[0m \u001b[0misComplexType\u001b[0m\u001b[1;33m(\u001b[0m\u001b[0mt\u001b[0m\u001b[1;33m)\u001b[0m \u001b[1;32melse\u001b[0m \u001b[1;34m'd->d'\u001b[0m\u001b[1;33m\u001b[0m\u001b[1;33m\u001b[0m\u001b[0m\n\u001b[0;32m    546\u001b[0m     \u001b[0mextobj\u001b[0m \u001b[1;33m=\u001b[0m \u001b[0mget_linalg_error_extobj\u001b[0m\u001b[1;33m(\u001b[0m\u001b[0m_raise_linalgerror_singular\u001b[0m\u001b[1;33m)\u001b[0m\u001b[1;33m\u001b[0m\u001b[1;33m\u001b[0m\u001b[0m\n\u001b[1;32m--> 547\u001b[1;33m     \u001b[0mainv\u001b[0m \u001b[1;33m=\u001b[0m \u001b[0m_umath_linalg\u001b[0m\u001b[1;33m.\u001b[0m\u001b[0minv\u001b[0m\u001b[1;33m(\u001b[0m\u001b[0ma\u001b[0m\u001b[1;33m,\u001b[0m \u001b[0msignature\u001b[0m\u001b[1;33m=\u001b[0m\u001b[0msignature\u001b[0m\u001b[1;33m,\u001b[0m \u001b[0mextobj\u001b[0m\u001b[1;33m=\u001b[0m\u001b[0mextobj\u001b[0m\u001b[1;33m)\u001b[0m\u001b[1;33m\u001b[0m\u001b[1;33m\u001b[0m\u001b[0m\n\u001b[0m\u001b[0;32m    548\u001b[0m     \u001b[1;32mreturn\u001b[0m \u001b[0mwrap\u001b[0m\u001b[1;33m(\u001b[0m\u001b[0mainv\u001b[0m\u001b[1;33m.\u001b[0m\u001b[0mastype\u001b[0m\u001b[1;33m(\u001b[0m\u001b[0mresult_t\u001b[0m\u001b[1;33m,\u001b[0m \u001b[0mcopy\u001b[0m\u001b[1;33m=\u001b[0m\u001b[1;32mFalse\u001b[0m\u001b[1;33m)\u001b[0m\u001b[1;33m)\u001b[0m\u001b[1;33m\u001b[0m\u001b[1;33m\u001b[0m\u001b[0m\n\u001b[0;32m    549\u001b[0m \u001b[1;33m\u001b[0m\u001b[0m\n",
      "\u001b[1;32m~\\Anaconda3\\lib\\site-packages\\numpy\\linalg\\linalg.py\u001b[0m in \u001b[0;36m_raise_linalgerror_singular\u001b[1;34m(err, flag)\u001b[0m\n\u001b[0;32m     95\u001b[0m \u001b[1;33m\u001b[0m\u001b[0m\n\u001b[0;32m     96\u001b[0m \u001b[1;32mdef\u001b[0m \u001b[0m_raise_linalgerror_singular\u001b[0m\u001b[1;33m(\u001b[0m\u001b[0merr\u001b[0m\u001b[1;33m,\u001b[0m \u001b[0mflag\u001b[0m\u001b[1;33m)\u001b[0m\u001b[1;33m:\u001b[0m\u001b[1;33m\u001b[0m\u001b[1;33m\u001b[0m\u001b[0m\n\u001b[1;32m---> 97\u001b[1;33m     \u001b[1;32mraise\u001b[0m \u001b[0mLinAlgError\u001b[0m\u001b[1;33m(\u001b[0m\u001b[1;34m\"Singular matrix\"\u001b[0m\u001b[1;33m)\u001b[0m\u001b[1;33m\u001b[0m\u001b[1;33m\u001b[0m\u001b[0m\n\u001b[0m\u001b[0;32m     98\u001b[0m \u001b[1;33m\u001b[0m\u001b[0m\n\u001b[0;32m     99\u001b[0m \u001b[1;32mdef\u001b[0m \u001b[0m_raise_linalgerror_nonposdef\u001b[0m\u001b[1;33m(\u001b[0m\u001b[0merr\u001b[0m\u001b[1;33m,\u001b[0m \u001b[0mflag\u001b[0m\u001b[1;33m)\u001b[0m\u001b[1;33m:\u001b[0m\u001b[1;33m\u001b[0m\u001b[1;33m\u001b[0m\u001b[0m\n",
      "\u001b[1;31mLinAlgError\u001b[0m: Singular matrix"
     ]
    }
   ],
   "source": [
    "sc.lm_coefficients(Linear_mdl, X, y)"
   ]
  },
  {
   "cell_type": "code",
   "execution_count": 18,
   "metadata": {},
   "outputs": [
    {
     "name": "stdout",
     "output_type": "stream",
     "text": [
      "                            OLS Regression Results                            \n",
      "==============================================================================\n",
      "Dep. Variable:         Blue Tote Loss   R-squared:                       0.829\n",
      "Model:                            OLS   Adj. R-squared:                  0.824\n",
      "Method:                 Least Squares   F-statistic:                     193.3\n",
      "Date:                Mon, 14 Dec 2020   Prob (F-statistic):           2.31e-31\n",
      "Time:                        13:25:04   Log-Likelihood:                 141.41\n",
      "No. Observations:                  83   AIC:                            -276.8\n",
      "Df Residuals:                      80   BIC:                            -269.6\n",
      "Df Model:                           2                                         \n",
      "Covariance Type:            nonrobust                                         \n",
      "================================================================================\n",
      "                   coef    std err          t      P>|t|      [0.025      0.975]\n",
      "--------------------------------------------------------------------------------\n",
      "const            0.2636      0.032      8.349      0.000       0.201       0.326\n",
      "Total Faults     0.0005      0.000      2.308      0.024    6.21e-05       0.001\n",
      "TOTES            0.0097      0.000     19.651      0.000       0.009       0.011\n",
      "==============================================================================\n",
      "Omnibus:                        0.367   Durbin-Watson:                   1.817\n",
      "Prob(Omnibus):                  0.832   Jarque-Bera (JB):                0.291\n",
      "Skew:                          -0.142   Prob(JB):                        0.865\n",
      "Kurtosis:                       2.939   Cond. No.                         646.\n",
      "==============================================================================\n",
      "\n",
      "Warnings:\n",
      "[1] Standard Errors assume that the covariance matrix of the errors is correctly specified.\n"
     ]
    }
   ],
   "source": [
    "X_train = sm.add_constant(X_train)\n",
    "model = sm.OLS(y_train,X_train)\n",
    "results = model.fit()\n",
    "print(results.summary())\n",
    "\n",
    "X_new = sm.add_constant(X_test)\n",
    "#y_prediction =  results.predict(X_test)\n",
    "\n",
    "# plt.scatter(y_prediction,y_test)\n",
    "\n",
    "# from sklearn.metrics import r2_score\n",
    "# print(r2_score(y_prediction,y_test))"
   ]
  },
  {
   "cell_type": "code",
   "execution_count": 75,
   "metadata": {},
   "outputs": [
    {
     "data": {
      "text/plain": [
       "3611    9364\n",
       "5105    3500\n",
       "3504    2534\n",
       "3416     997\n",
       "5120     790\n",
       "3419     754\n",
       "5032     716\n",
       "5329     650\n",
       "5608     444\n",
       "5416     373\n",
       "5033     278\n",
       "5775     271\n",
       "5768     271\n",
       "5583     210\n",
       "5055     204\n",
       "5576     200\n",
       "5054     178\n",
       "3420     174\n",
       "5344     162\n",
       "5774     148\n",
       "dtype: int64"
      ]
     },
     "execution_count": 75,
     "metadata": {},
     "output_type": "execute_result"
    }
   ],
   "source": [
    "df_greyhigh_ID = df.drop(['Grey Tote Loss','TOTES','timestamp'],axis=1)\n",
    "\n",
    "df_greyhigh_ID.sum().sort_values(ascending=False).head(20)"
   ]
  },
  {
   "cell_type": "code",
   "execution_count": 78,
   "metadata": {},
   "outputs": [
    {
     "data": {
      "text/plain": [
       "3611    130133\n",
       "5105     47816\n",
       "3504     34538\n",
       "3416     12717\n",
       "5120     11698\n",
       "3419     10039\n",
       "5329      9735\n",
       "5032      9324\n",
       "5608      5345\n",
       "5416      5075\n",
       "5033      4608\n",
       "5768      3562\n",
       "5775      3348\n",
       "5576      2970\n",
       "5583      2844\n",
       "5055      2735\n",
       "3420      2232\n",
       "5100      2230\n",
       "5054      2214\n",
       "5582      2177\n",
       "dtype: int64"
      ]
     },
     "execution_count": 78,
     "metadata": {},
     "output_type": "execute_result"
    }
   ],
   "source": [
    "df_grey_ID = df.drop(['Grey Tote Loss','TOTES','timestamp'],axis=1)\n",
    "\n",
    "df_grey_ID.sum().sort_values(ascending=False).head(20)"
   ]
  },
  {
   "cell_type": "code",
   "execution_count": 88,
   "metadata": {},
   "outputs": [
    {
     "data": {
      "text/plain": [
       "SCSM12         1715\n",
       "C09            1580\n",
       "C12            1520\n",
       "SCSM18         1412\n",
       "C14            1392\n",
       "C08            1321\n",
       "C13             950\n",
       "SCSM03          890\n",
       "SCSM15          751\n",
       "C07             701\n",
       "C11             630\n",
       "C06             619\n",
       "SCSM07          615\n",
       "SCSM11          610\n",
       "C1404STA164     606\n",
       "SCSM01          601\n",
       "SCSM04          586\n",
       "SCSM13          575\n",
       "SCSM17          543\n",
       "SCSM19          508\n",
       "dtype: int64"
      ]
     },
     "execution_count": 88,
     "metadata": {},
     "output_type": "execute_result"
    }
   ],
   "source": [
    "df_greyhigh_Asset = df.drop(['Grey Tote Loss','TOTES','timestamp'],axis=1)\n",
    "\n",
    "df_greyhigh_Asset.sum().sort_values(ascending=False).head(20)"
   ]
  },
  {
   "cell_type": "code",
   "execution_count": 91,
   "metadata": {},
   "outputs": [
    {
     "data": {
      "text/plain": [
       "C09            21951\n",
       "SCSM18         21901\n",
       "SCSM12         20747\n",
       "C12            20675\n",
       "C14            17935\n",
       "C08            17413\n",
       "C13            12948\n",
       "SCSM03         11746\n",
       "SCSM15         10073\n",
       "C07             9986\n",
       "C11             9786\n",
       "C06             9391\n",
       "SCSM11          8923\n",
       "SCSM01          8745\n",
       "SCSM07          8369\n",
       "SCSM04          8079\n",
       "C1404STA164     7919\n",
       "SCSM13          7502\n",
       "SCSM20          7361\n",
       "SCSM19          6854\n",
       "dtype: int64"
      ]
     },
     "execution_count": 91,
     "metadata": {},
     "output_type": "execute_result"
    }
   ],
   "source": [
    "df_grey_Asset = df.drop(['Grey Tote Loss','TOTES','timestamp'],axis=1)\n",
    "\n",
    "df_grey_Asset.sum().sort_values(ascending=False).head(20)"
   ]
  },
  {
   "cell_type": "code",
   "execution_count": 93,
   "metadata": {},
   "outputs": [
    {
     "data": {
      "text/html": [
       "<div>\n",
       "<style scoped>\n",
       "    .dataframe tbody tr th:only-of-type {\n",
       "        vertical-align: middle;\n",
       "    }\n",
       "\n",
       "    .dataframe tbody tr th {\n",
       "        vertical-align: top;\n",
       "    }\n",
       "\n",
       "    .dataframe thead th {\n",
       "        text-align: right;\n",
       "    }\n",
       "</style>\n",
       "<table border=\"1\" class=\"dataframe\">\n",
       "  <thead>\n",
       "    <tr style=\"text-align: right;\">\n",
       "      <th></th>\n",
       "      <th>Number</th>\n",
       "      <th>Alert</th>\n",
       "      <th>Entry time</th>\n",
       "      <th>PLC</th>\n",
       "      <th>Desk</th>\n",
       "      <th>Duration</th>\n",
       "      <th>Fault ID</th>\n",
       "    </tr>\n",
       "  </thead>\n",
       "  <tbody>\n",
       "    <tr>\n",
       "      <th>0</th>\n",
       "      <td>141254</td>\n",
       "      <td>C17: C1701STA254 254B12 occupancy sensor fault</td>\n",
       "      <td>01/11/2020 00:00</td>\n",
       "      <td>C17</td>\n",
       "      <td>P01</td>\n",
       "      <td>0.00:00:13</td>\n",
       "      <td>3416</td>\n",
       "    </tr>\n",
       "    <tr>\n",
       "      <th>1</th>\n",
       "      <td>138183</td>\n",
       "      <td>C17: C1701STA012 012B13 occupancy sensor fault</td>\n",
       "      <td>01/11/2020 00:00</td>\n",
       "      <td>C17</td>\n",
       "      <td>P01</td>\n",
       "      <td>0.00:00:03</td>\n",
       "      <td>3416</td>\n",
       "    </tr>\n",
       "    <tr>\n",
       "      <th>2</th>\n",
       "      <td>122518</td>\n",
       "      <td>C15: C1502STA034 034B12 occupancy sensor fault</td>\n",
       "      <td>01/11/2020 00:00</td>\n",
       "      <td>C15</td>\n",
       "      <td>P02</td>\n",
       "      <td>0.00:00:05</td>\n",
       "      <td>3416</td>\n",
       "    </tr>\n",
       "    <tr>\n",
       "      <th>3</th>\n",
       "      <td>444609</td>\n",
       "      <td>SCS M09: single module 1 emergency stop unit  ...</td>\n",
       "      <td>01/11/2020 00:00</td>\n",
       "      <td>SCSM09</td>\n",
       "      <td>SCSM09</td>\n",
       "      <td>0.00:00:13</td>\n",
       "      <td>10408</td>\n",
       "    </tr>\n",
       "    <tr>\n",
       "      <th>4</th>\n",
       "      <td>139815</td>\n",
       "      <td>C17: C1701STA112 112B13 occupancy sensor fault</td>\n",
       "      <td>01/11/2020 00:00</td>\n",
       "      <td>C17</td>\n",
       "      <td>P01</td>\n",
       "      <td>0.00:00:08</td>\n",
       "      <td>3416</td>\n",
       "    </tr>\n",
       "    <tr>\n",
       "      <th>...</th>\n",
       "      <td>...</td>\n",
       "      <td>...</td>\n",
       "      <td>...</td>\n",
       "      <td>...</td>\n",
       "      <td>...</td>\n",
       "      <td>...</td>\n",
       "      <td>...</td>\n",
       "    </tr>\n",
       "    <tr>\n",
       "      <th>174085</th>\n",
       "      <td>439314</td>\n",
       "      <td>SCS228: sto: lifter occupation wrong in auto-m...</td>\n",
       "      <td>25/11/2020 09:03</td>\n",
       "      <td>SCSM22</td>\n",
       "      <td>SCS228</td>\n",
       "      <td>0.00:00:04</td>\n",
       "      <td>5113</td>\n",
       "    </tr>\n",
       "    <tr>\n",
       "      <th>174086</th>\n",
       "      <td>439314</td>\n",
       "      <td>SCS228: sto: lifter occupation wrong in auto-m...</td>\n",
       "      <td>25/11/2020 09:03</td>\n",
       "      <td>SCSM22</td>\n",
       "      <td>SCS228</td>\n",
       "      <td>0.00:00:08</td>\n",
       "      <td>5113</td>\n",
       "    </tr>\n",
       "    <tr>\n",
       "      <th>174087</th>\n",
       "      <td>439314</td>\n",
       "      <td>SCS228: sto: lifter occupation wrong in auto-m...</td>\n",
       "      <td>25/11/2020 09:04</td>\n",
       "      <td>SCSM22</td>\n",
       "      <td>SCS228</td>\n",
       "      <td>0.00:00:22</td>\n",
       "      <td>5113</td>\n",
       "    </tr>\n",
       "    <tr>\n",
       "      <th>174088</th>\n",
       "      <td>439308</td>\n",
       "      <td>SCS228: sto: locking device timeout close X:45...</td>\n",
       "      <td>25/11/2020 03:15</td>\n",
       "      <td>SCSM22</td>\n",
       "      <td>SCS228</td>\n",
       "      <td>0.00:03:29</td>\n",
       "      <td>5107</td>\n",
       "    </tr>\n",
       "    <tr>\n",
       "      <th>174089</th>\n",
       "      <td>439308</td>\n",
       "      <td>SCS228: sto: locking device timeout close X:45...</td>\n",
       "      <td>25/11/2020 03:18</td>\n",
       "      <td>SCSM22</td>\n",
       "      <td>SCS228</td>\n",
       "      <td>0.00:03:37</td>\n",
       "      <td>5107</td>\n",
       "    </tr>\n",
       "  </tbody>\n",
       "</table>\n",
       "<p>174090 rows × 7 columns</p>\n",
       "</div>"
      ],
      "text/plain": [
       "        Number                                              Alert  \\\n",
       "0       141254     C17: C1701STA254 254B12 occupancy sensor fault   \n",
       "1       138183     C17: C1701STA012 012B13 occupancy sensor fault   \n",
       "2       122518     C15: C1502STA034 034B12 occupancy sensor fault   \n",
       "3       444609  SCS M09: single module 1 emergency stop unit  ...   \n",
       "4       139815     C17: C1701STA112 112B13 occupancy sensor fault   \n",
       "...        ...                                                ...   \n",
       "174085  439314  SCS228: sto: lifter occupation wrong in auto-m...   \n",
       "174086  439314  SCS228: sto: lifter occupation wrong in auto-m...   \n",
       "174087  439314  SCS228: sto: lifter occupation wrong in auto-m...   \n",
       "174088  439308  SCS228: sto: locking device timeout close X:45...   \n",
       "174089  439308  SCS228: sto: locking device timeout close X:45...   \n",
       "\n",
       "             Entry time      PLC    Desk    Duration  Fault ID  \n",
       "0       01/11/2020 00:00     C17     P01  0.00:00:13      3416  \n",
       "1       01/11/2020 00:00     C17     P01  0.00:00:03      3416  \n",
       "2       01/11/2020 00:00     C15     P02  0.00:00:05      3416  \n",
       "3       01/11/2020 00:00  SCSM09  SCSM09  0.00:00:13     10408  \n",
       "4       01/11/2020 00:00     C17     P01  0.00:00:08      3416  \n",
       "...                  ...     ...     ...         ...       ...  \n",
       "174085  25/11/2020 09:03  SCSM22  SCS228  0.00:00:04      5113  \n",
       "174086  25/11/2020 09:03  SCSM22  SCS228  0.00:00:08      5113  \n",
       "174087  25/11/2020 09:04  SCSM22  SCS228  0.00:00:22      5113  \n",
       "174088  25/11/2020 03:15  SCSM22  SCS228  0.00:03:29      5107  \n",
       "174089  25/11/2020 03:18  SCSM22  SCS228  0.00:03:37      5107  \n",
       "\n",
       "[174090 rows x 7 columns]"
      ]
     },
     "execution_count": 93,
     "metadata": {},
     "output_type": "execute_result"
    }
   ],
   "source": [
    "scs_raw"
   ]
  },
  {
   "cell_type": "code",
   "execution_count": null,
   "metadata": {},
   "outputs": [],
   "source": []
  }
 ],
 "metadata": {
  "kernelspec": {
   "display_name": "Python 3",
   "language": "python",
   "name": "python3"
  },
  "language_info": {
   "codemirror_mode": {
    "name": "ipython",
    "version": 3
   },
   "file_extension": ".py",
   "mimetype": "text/x-python",
   "name": "python",
   "nbconvert_exporter": "python",
   "pygments_lexer": "ipython3",
   "version": "3.8.3"
  }
 },
 "nbformat": 4,
 "nbformat_minor": 4
}
