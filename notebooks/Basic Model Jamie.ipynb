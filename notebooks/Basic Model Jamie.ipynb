{
 "cells": [
  {
   "cell_type": "code",
   "execution_count": 1,
   "metadata": {},
   "outputs": [],
   "source": [
    "import pandas as pd\n",
    "import numpy as np\n",
    "import seaborn as sns\n",
    "import matplotlib.pyplot as plt\n",
    "%matplotlib inline\n",
    "\n",
    "import scsavailability as scs\n",
    "    \n",
    "import statsmodels.api as sm\n",
    "from scipy import stats\n",
    "\n",
    "from scsavailability import features as feat, model as md, plotting as pt, score as sc\n"
   ]
  },
  {
   "cell_type": "code",
   "execution_count": 2,
   "metadata": {},
   "outputs": [],
   "source": [
    "path = 'C:/Users/Jamie.williams/OneDrive - Newton Europe Ltd/Castle Donnington/Data/'"
   ]
  },
  {
   "cell_type": "code",
   "execution_count": 3,
   "metadata": {},
   "outputs": [],
   "source": [
    "at = pd.read_csv(path+'active_totes_20201210.csv')\n",
    "av = pd.read_csv(path+'Availability_with_Grey&Blue_1811-0912.csv',names = [\"timestamp\",\"Pick Station\",\"Availability\",\"Blue Tote Loss\",\"Grey Tote Loss\"])\n",
    "#fa = pd.read_csv(path + 'scs_tote_matched.csv')\n",
    "scs_raw = pd.read_csv(path + 'Faults20_11-10_12.csv')"
   ]
  },
  {
   "cell_type": "code",
   "execution_count": 4,
   "metadata": {},
   "outputs": [
    {
     "name": "stdout",
     "output_type": "stream",
     "text": [
      "Running: Function \"load_tote_lookup\" (id=3084131266768) was called 1 times\n"
     ]
    },
    {
     "name": "stderr",
     "output_type": "stream",
     "text": [
      "2020-12-24 11:57:50,842 - NumExpr defaulting to 8 threads.\n"
     ]
    }
   ],
   "source": [
    "fa = feat.add_code(scs_raw)\n",
    "fa, unmapped = feat.add_tote_colour(fa)"
   ]
  },
  {
   "cell_type": "code",
   "execution_count": 5,
   "metadata": {},
   "outputs": [
    {
     "name": "stdout",
     "output_type": "stream",
     "text": [
      "Running: Function \"pre_process_AT\" (id=3084131269360) was called 1 times\n"
     ]
    }
   ],
   "source": [
    "at = feat.pre_process_AT(at)"
   ]
  },
  {
   "cell_type": "code",
   "execution_count": 6,
   "metadata": {},
   "outputs": [
    {
     "name": "stdout",
     "output_type": "stream",
     "text": [
      "Running: Function \"pre_process_av\" (id=3084131270512) was called 1 times\n"
     ]
    }
   ],
   "source": [
    "av = feat.pre_process_av(av)"
   ]
  },
  {
   "cell_type": "code",
   "execution_count": 7,
   "metadata": {},
   "outputs": [
    {
     "name": "stdout",
     "output_type": "stream",
     "text": [
      "Running: Function \"preprocess_faults\" (id=3084131268352) was called 1 times\n",
      "Running: Function \"load_module_lookup\" (id=3084131270080) was called 1 times\n",
      "Running: Function \"load_ID_lookup\" (id=3084131268784) was called 1 times\n",
      "duplicated location faults removed - max duration kept\n",
      "HOTFIX: Quadrant only faults, PTT Asset Code update\n"
     ]
    }
   ],
   "source": [
    "fa = feat.preprocess_faults(fa,remove_same_location_faults = True)"
   ]
  },
  {
   "cell_type": "code",
   "execution_count": 8,
   "metadata": {},
   "outputs": [
    {
     "name": "stderr",
     "output_type": "stream",
     "text": [
      "C:\\Users\\Jamie.williams\\Anaconda3\\lib\\site-packages\\scsavailability\\features.py:288: SettingWithCopyWarning: \n",
      "A value is trying to be set on a copy of a slice from a DataFrame\n",
      "\n",
      "See the caveats in the documentation: https://pandas.pydata.org/pandas-docs/stable/user_guide/indexing.html#returning-a-view-versus-a-copy\n",
      "  fa_floor['Duration'][i] = fa_floor['Time Left'][i]\n",
      "C:\\Users\\Jamie.williams\\Anaconda3\\lib\\site-packages\\scsavailability\\features.py:289: SettingWithCopyWarning: \n",
      "A value is trying to be set on a copy of a slice from a DataFrame\n",
      "\n",
      "See the caveats in the documentation: https://pandas.pydata.org/pandas-docs/stable/user_guide/indexing.html#returning-a-view-versus-a-copy\n",
      "  fa_floor['Duration'][i+1] = fa_floor['Duration'][i+1] - fa_floor['Duration'][i]\n",
      "C:\\Users\\Jamie.williams\\Anaconda3\\lib\\site-packages\\scsavailability\\features.py:291: SettingWithCopyWarning: \n",
      "A value is trying to be set on a copy of a slice from a DataFrame\n",
      "\n",
      "See the caveats in the documentation: https://pandas.pydata.org/pandas-docs/stable/user_guide/indexing.html#returning-a-view-versus-a-copy\n",
      "  fa_floor['Duration'][i+1] = fa_floor['Duration'][i] - 3600\n",
      "C:\\Users\\Jamie.williams\\Anaconda3\\lib\\site-packages\\scsavailability\\features.py:292: SettingWithCopyWarning: \n",
      "A value is trying to be set on a copy of a slice from a DataFrame\n",
      "\n",
      "See the caveats in the documentation: https://pandas.pydata.org/pandas-docs/stable/user_guide/indexing.html#returning-a-view-versus-a-copy\n",
      "  fa_floor['Duration'][i] =3600\n"
     ]
    }
   ],
   "source": [
    "fa_floor = feat.floor_shift_time_fa(fa, shift=0)"
   ]
  },
  {
   "cell_type": "code",
   "execution_count": 9,
   "metadata": {},
   "outputs": [
    {
     "name": "stdout",
     "output_type": "stream",
     "text": [
      "Running: Function \"load_PTT_lookup\" (id=3084131268496) was called 1 times\n",
      "Previous Hours Weighted\n",
      "Running: Function \"aggregate_availability\" (id=3084131268208) was called 1 times\n",
      "Running: Function \"load_PTT_lookup\" (id=3084131268496) was called 2 times\n",
      "Previous Hours Weighted\n",
      "Running: Function \"aggregate_availability\" (id=3084131268208) was called 2 times\n",
      "Running: Function \"load_PTT_lookup\" (id=3084131268496) was called 3 times\n",
      "Previous Hours Weighted\n",
      "Running: Function \"aggregate_availability\" (id=3084131268208) was called 3 times\n",
      "Running: Function \"load_PTT_lookup\" (id=3084131268496) was called 4 times\n",
      "Previous Hours Weighted\n",
      "Running: Function \"aggregate_availability\" (id=3084131268208) was called 4 times\n",
      "Running: Function \"load_PTT_lookup\" (id=3084131268496) was called 5 times\n",
      "Previous Hours Weighted\n",
      "Running: Function \"aggregate_availability\" (id=3084131268208) was called 5 times\n",
      "Running: Function \"load_PTT_lookup\" (id=3084131268496) was called 6 times\n",
      "Previous Hours Weighted\n",
      "Running: Function \"aggregate_availability\" (id=3084131268208) was called 6 times\n",
      "Running: Function \"load_PTT_lookup\" (id=3084131268496) was called 7 times\n",
      "Previous Hours Weighted\n",
      "Running: Function \"aggregate_availability\" (id=3084131268208) was called 7 times\n",
      "Running: Function \"load_PTT_lookup\" (id=3084131268496) was called 8 times\n",
      "Previous Hours Weighted\n",
      "Running: Function \"aggregate_availability\" (id=3084131268208) was called 8 times\n",
      "Running: Function \"load_PTT_lookup\" (id=3084131268496) was called 9 times\n",
      "Previous Hours Weighted\n",
      "Running: Function \"aggregate_availability\" (id=3084131268208) was called 9 times\n",
      "Running: Function \"load_PTT_lookup\" (id=3084131268496) was called 10 times\n",
      "Previous Hours Weighted\n",
      "Running: Function \"aggregate_availability\" (id=3084131268208) was called 10 times\n",
      "Running: Function \"load_PTT_lookup\" (id=3084131268496) was called 11 times\n",
      "Previous Hours Weighted\n",
      "Running: Function \"aggregate_availability\" (id=3084131268208) was called 11 times\n",
      "Running: Function \"load_PTT_lookup\" (id=3084131268496) was called 12 times\n",
      "Previous Hours Weighted\n",
      "Running: Function \"aggregate_availability\" (id=3084131268208) was called 12 times\n",
      "Running: Function \"load_PTT_lookup\" (id=3084131268496) was called 13 times\n",
      "Previous Hours Weighted\n",
      "Running: Function \"aggregate_availability\" (id=3084131268208) was called 13 times\n",
      "Running: Function \"load_PTT_lookup\" (id=3084131268496) was called 14 times\n",
      "Previous Hours Weighted\n",
      "Running: Function \"aggregate_availability\" (id=3084131268208) was called 14 times\n",
      "Running: Function \"load_PTT_lookup\" (id=3084131268496) was called 15 times\n",
      "Previous Hours Weighted\n",
      "Running: Function \"aggregate_availability\" (id=3084131268208) was called 15 times\n",
      "Running: Function \"load_PTT_lookup\" (id=3084131268496) was called 16 times\n",
      "Previous Hours Weighted\n",
      "Running: Function \"aggregate_availability\" (id=3084131268208) was called 16 times\n",
      "Running: Function \"load_PTT_lookup\" (id=3084131268496) was called 17 times\n",
      "Previous Hours Weighted\n",
      "Running: Function \"aggregate_availability\" (id=3084131268208) was called 17 times\n",
      "Running: Function \"load_PTT_lookup\" (id=3084131268496) was called 18 times\n",
      "Previous Hours Weighted\n",
      "Running: Function \"aggregate_availability\" (id=3084131268208) was called 18 times\n",
      "Running: Function \"load_PTT_lookup\" (id=3084131268496) was called 19 times\n",
      "Previous Hours Weighted\n",
      "Running: Function \"aggregate_availability\" (id=3084131268208) was called 19 times\n",
      "Running: Function \"load_PTT_lookup\" (id=3084131268496) was called 20 times\n",
      "Previous Hours Weighted\n",
      "Running: Function \"aggregate_availability\" (id=3084131268208) was called 20 times\n",
      "Running: Function \"load_PTT_lookup\" (id=3084131268496) was called 21 times\n",
      "Previous Hours Weighted\n",
      "Running: Function \"aggregate_availability\" (id=3084131268208) was called 21 times\n",
      "Running: Function \"load_PTT_lookup\" (id=3084131268496) was called 22 times\n",
      "Previous Hours Weighted\n",
      "Running: Function \"aggregate_availability\" (id=3084131268208) was called 22 times\n",
      "Running: Function \"load_PTT_lookup\" (id=3084131268496) was called 23 times\n",
      "Previous Hours Weighted\n",
      "Running: Function \"aggregate_availability\" (id=3084131268208) was called 23 times\n",
      "Running: Function \"load_PTT_lookup\" (id=3084131268496) was called 24 times\n",
      "Previous Hours Weighted\n",
      "Running: Function \"aggregate_availability\" (id=3084131268208) was called 24 times\n",
      "Running: Function \"load_PTT_lookup\" (id=3084131268496) was called 25 times\n",
      "Previous Hours Weighted\n",
      "Running: Function \"aggregate_availability\" (id=3084131268208) was called 25 times\n",
      "Running: Function \"load_PTT_lookup\" (id=3084131268496) was called 26 times\n",
      "Previous Hours Weighted\n",
      "Running: Function \"aggregate_availability\" (id=3084131268208) was called 26 times\n",
      "Running: Function \"load_PTT_lookup\" (id=3084131268496) was called 27 times\n",
      "Previous Hours Weighted\n",
      "Running: Function \"aggregate_availability\" (id=3084131268208) was called 27 times\n",
      "Running: Function \"load_PTT_lookup\" (id=3084131268496) was called 28 times\n",
      "Previous Hours Weighted\n",
      "Running: Function \"aggregate_availability\" (id=3084131268208) was called 28 times\n",
      "Running: Function \"load_PTT_lookup\" (id=3084131268496) was called 29 times\n",
      "Previous Hours Weighted\n",
      "Running: Function \"aggregate_availability\" (id=3084131268208) was called 29 times\n",
      "Running: Function \"load_PTT_lookup\" (id=3084131268496) was called 30 times\n",
      "Previous Hours Weighted\n",
      "Running: Function \"aggregate_availability\" (id=3084131268208) was called 30 times\n",
      "Running: Function \"load_PTT_lookup\" (id=3084131268496) was called 31 times\n",
      "Previous Hours Weighted\n",
      "Running: Function \"aggregate_availability\" (id=3084131268208) was called 31 times\n",
      "Running: Function \"load_PTT_lookup\" (id=3084131268496) was called 32 times\n",
      "Previous Hours Weighted\n",
      "Running: Function \"aggregate_availability\" (id=3084131268208) was called 32 times\n",
      "Running: Function \"load_PTT_lookup\" (id=3084131268496) was called 33 times\n",
      "Previous Hours Weighted\n",
      "Running: Function \"aggregate_availability\" (id=3084131268208) was called 33 times\n",
      "Running: Function \"load_PTT_lookup\" (id=3084131268496) was called 34 times\n",
      "Previous Hours Weighted\n",
      "Running: Function \"aggregate_availability\" (id=3084131268208) was called 34 times\n",
      "Running: Function \"load_PTT_lookup\" (id=3084131268496) was called 35 times\n",
      "Previous Hours Weighted\n",
      "Running: Function \"aggregate_availability\" (id=3084131268208) was called 35 times\n",
      "Running: Function \"load_PTT_lookup\" (id=3084131268496) was called 36 times\n",
      "Previous Hours Weighted\n",
      "Running: Function \"aggregate_availability\" (id=3084131268208) was called 36 times\n"
     ]
    }
   ],
   "source": [
    "df,fa_PTT = feat.create_PTT_df(fa_floor,at,av)"
   ]
  },
  {
   "cell_type": "code",
   "execution_count": 10,
   "metadata": {},
   "outputs": [],
   "source": [
    "X,y = md.gen_feat_var(df,target = 'Downtime', features = ['Totes','Faults'])\n",
    "y=1-y"
   ]
  },
  {
   "cell_type": "code",
   "execution_count": 14,
   "metadata": {},
   "outputs": [
    {
     "name": "stderr",
     "output_type": "stream",
     "text": [
      "C:\\Users\\Jamie.williams\\Anaconda3\\lib\\site-packages\\statsmodels\\base\\model.py:1362: RuntimeWarning: invalid value encountered in true_divide\n",
      "  return self.params / self.bse\n",
      "C:\\Users\\Jamie.williams\\Anaconda3\\lib\\site-packages\\scipy\\stats\\_distn_infrastructure.py:1932: RuntimeWarning: invalid value encountered in less_equal\n",
      "  cond2 = cond0 & (x <= _a)\n"
     ]
    },
    {
     "name": "stdout",
     "output_type": "stream",
     "text": [
      "339\n"
     ]
    },
    {
     "ename": "TypeError",
     "evalue": "not all arguments converted during string formatting",
     "output_type": "error",
     "traceback": [
      "\u001b[1;31m---------------------------------------------------------------------------\u001b[0m",
      "\u001b[1;31mTypeError\u001b[0m                                 Traceback (most recent call last)",
      "\u001b[1;32m<ipython-input-14-5631f74f4336>\u001b[0m in \u001b[0;36m<module>\u001b[1;34m\u001b[0m\n\u001b[0;32m     13\u001b[0m \u001b[0mprint\u001b[0m\u001b[1;33m(\u001b[0m\u001b[0mlen\u001b[0m\u001b[1;33m(\u001b[0m\u001b[0mkeep_features\u001b[0m\u001b[1;33m)\u001b[0m\u001b[1;33m)\u001b[0m\u001b[1;33m\u001b[0m\u001b[1;33m\u001b[0m\u001b[0m\n\u001b[0;32m     14\u001b[0m \u001b[1;33m\u001b[0m\u001b[0m\n\u001b[1;32m---> 15\u001b[1;33m \u001b[0mcv_R2\u001b[0m \u001b[1;33m=\u001b[0m \u001b[0mmd\u001b[0m\u001b[1;33m.\u001b[0m\u001b[0mcross_validate_r2\u001b[0m\u001b[1;33m(\u001b[0m\u001b[0mLinear_mdl\u001b[0m\u001b[1;33m,\u001b[0m \u001b[0mX_train\u001b[0m\u001b[1;33m[\u001b[0m\u001b[0mkeep_features\u001b[0m\u001b[1;33m]\u001b[0m\u001b[1;33m,\u001b[0m \u001b[0my_train\u001b[0m\u001b[1;33m)\u001b[0m\u001b[1;33m\u001b[0m\u001b[1;33m\u001b[0m\u001b[0m\n\u001b[0m",
      "\u001b[1;32m~\\Anaconda3\\lib\\site-packages\\scsavailability\\model.py\u001b[0m in \u001b[0;36mcross_validate_r2\u001b[1;34m(model, X, y, n_folds, shuffle, random_state)\u001b[0m\n\u001b[0;32m    204\u001b[0m \u001b[1;33m\u001b[0m\u001b[0m\n\u001b[0;32m    205\u001b[0m     \u001b[0mfolds\u001b[0m \u001b[1;33m=\u001b[0m \u001b[0mKFold\u001b[0m\u001b[1;33m(\u001b[0m\u001b[0mn_splits\u001b[0m \u001b[1;33m=\u001b[0m \u001b[0mn_folds\u001b[0m\u001b[1;33m,\u001b[0m \u001b[0mshuffle\u001b[0m \u001b[1;33m=\u001b[0m \u001b[0mshuffle\u001b[0m\u001b[1;33m,\u001b[0m \u001b[0mrandom_state\u001b[0m \u001b[1;33m=\u001b[0m \u001b[0mrandom_state\u001b[0m\u001b[1;33m)\u001b[0m\u001b[1;33m\u001b[0m\u001b[1;33m\u001b[0m\u001b[0m\n\u001b[1;32m--> 206\u001b[1;33m     \u001b[0mscores\u001b[0m \u001b[1;33m=\u001b[0m \u001b[0mcross_val_score\u001b[0m\u001b[1;33m(\u001b[0m\u001b[0mmodel\u001b[0m\u001b[1;33m,\u001b[0m \u001b[0mX\u001b[0m\u001b[1;33m,\u001b[0m \u001b[0my\u001b[0m\u001b[1;33m,\u001b[0m \u001b[0mscoring\u001b[0m\u001b[1;33m=\u001b[0m\u001b[1;34m'r2'\u001b[0m\u001b[1;33m,\u001b[0m \u001b[0mcv\u001b[0m\u001b[1;33m=\u001b[0m\u001b[0mfolds\u001b[0m\u001b[1;33m)\u001b[0m\u001b[1;33m\u001b[0m\u001b[1;33m\u001b[0m\u001b[0m\n\u001b[0m\u001b[0;32m    207\u001b[0m     \u001b[0mdf_cross_val\u001b[0m\u001b[1;33m[\u001b[0m\u001b[1;34m' R2 Scores'\u001b[0m\u001b[1;33m]\u001b[0m \u001b[1;33m=\u001b[0m \u001b[0mnp\u001b[0m\u001b[1;33m.\u001b[0m\u001b[0mappend\u001b[0m\u001b[1;33m(\u001b[0m\u001b[0mscores\u001b[0m\u001b[1;33m,\u001b[0m\u001b[1;33m[\u001b[0m\u001b[0mscores\u001b[0m\u001b[1;33m.\u001b[0m\u001b[0mmean\u001b[0m\u001b[1;33m(\u001b[0m\u001b[1;33m)\u001b[0m\u001b[1;33m,\u001b[0m\u001b[0mscores\u001b[0m\u001b[1;33m.\u001b[0m\u001b[0mstd\u001b[0m\u001b[1;33m(\u001b[0m\u001b[1;33m)\u001b[0m\u001b[1;33m]\u001b[0m\u001b[1;33m)\u001b[0m\u001b[1;33m\u001b[0m\u001b[1;33m\u001b[0m\u001b[0m\n\u001b[0;32m    208\u001b[0m \u001b[1;33m\u001b[0m\u001b[0m\n",
      "\u001b[1;32m~\\Anaconda3\\lib\\site-packages\\sklearn\\utils\\validation.py\u001b[0m in \u001b[0;36minner_f\u001b[1;34m(*args, **kwargs)\u001b[0m\n\u001b[0;32m     71\u001b[0m                           FutureWarning)\n\u001b[0;32m     72\u001b[0m         \u001b[0mkwargs\u001b[0m\u001b[1;33m.\u001b[0m\u001b[0mupdate\u001b[0m\u001b[1;33m(\u001b[0m\u001b[1;33m{\u001b[0m\u001b[0mk\u001b[0m\u001b[1;33m:\u001b[0m \u001b[0marg\u001b[0m \u001b[1;32mfor\u001b[0m \u001b[0mk\u001b[0m\u001b[1;33m,\u001b[0m \u001b[0marg\u001b[0m \u001b[1;32min\u001b[0m \u001b[0mzip\u001b[0m\u001b[1;33m(\u001b[0m\u001b[0msig\u001b[0m\u001b[1;33m.\u001b[0m\u001b[0mparameters\u001b[0m\u001b[1;33m,\u001b[0m \u001b[0margs\u001b[0m\u001b[1;33m)\u001b[0m\u001b[1;33m}\u001b[0m\u001b[1;33m)\u001b[0m\u001b[1;33m\u001b[0m\u001b[1;33m\u001b[0m\u001b[0m\n\u001b[1;32m---> 73\u001b[1;33m         \u001b[1;32mreturn\u001b[0m \u001b[0mf\u001b[0m\u001b[1;33m(\u001b[0m\u001b[1;33m**\u001b[0m\u001b[0mkwargs\u001b[0m\u001b[1;33m)\u001b[0m\u001b[1;33m\u001b[0m\u001b[1;33m\u001b[0m\u001b[0m\n\u001b[0m\u001b[0;32m     74\u001b[0m     \u001b[1;32mreturn\u001b[0m \u001b[0minner_f\u001b[0m\u001b[1;33m\u001b[0m\u001b[1;33m\u001b[0m\u001b[0m\n\u001b[0;32m     75\u001b[0m \u001b[1;33m\u001b[0m\u001b[0m\n",
      "\u001b[1;32m~\\Anaconda3\\lib\\site-packages\\sklearn\\model_selection\\_validation.py\u001b[0m in \u001b[0;36mcross_val_score\u001b[1;34m(estimator, X, y, groups, scoring, cv, n_jobs, verbose, fit_params, pre_dispatch, error_score)\u001b[0m\n\u001b[0;32m    397\u001b[0m     \"\"\"\n\u001b[0;32m    398\u001b[0m     \u001b[1;31m# To ensure multimetric format is not supported\u001b[0m\u001b[1;33m\u001b[0m\u001b[1;33m\u001b[0m\u001b[1;33m\u001b[0m\u001b[0m\n\u001b[1;32m--> 399\u001b[1;33m     \u001b[0mscorer\u001b[0m \u001b[1;33m=\u001b[0m \u001b[0mcheck_scoring\u001b[0m\u001b[1;33m(\u001b[0m\u001b[0mestimator\u001b[0m\u001b[1;33m,\u001b[0m \u001b[0mscoring\u001b[0m\u001b[1;33m=\u001b[0m\u001b[0mscoring\u001b[0m\u001b[1;33m)\u001b[0m\u001b[1;33m\u001b[0m\u001b[1;33m\u001b[0m\u001b[0m\n\u001b[0m\u001b[0;32m    400\u001b[0m \u001b[1;33m\u001b[0m\u001b[0m\n\u001b[0;32m    401\u001b[0m     cv_results = cross_validate(estimator=estimator, X=X, y=y, groups=groups,\n",
      "\u001b[1;32m~\\Anaconda3\\lib\\site-packages\\sklearn\\utils\\validation.py\u001b[0m in \u001b[0;36minner_f\u001b[1;34m(*args, **kwargs)\u001b[0m\n\u001b[0;32m     71\u001b[0m                           FutureWarning)\n\u001b[0;32m     72\u001b[0m         \u001b[0mkwargs\u001b[0m\u001b[1;33m.\u001b[0m\u001b[0mupdate\u001b[0m\u001b[1;33m(\u001b[0m\u001b[1;33m{\u001b[0m\u001b[0mk\u001b[0m\u001b[1;33m:\u001b[0m \u001b[0marg\u001b[0m \u001b[1;32mfor\u001b[0m \u001b[0mk\u001b[0m\u001b[1;33m,\u001b[0m \u001b[0marg\u001b[0m \u001b[1;32min\u001b[0m \u001b[0mzip\u001b[0m\u001b[1;33m(\u001b[0m\u001b[0msig\u001b[0m\u001b[1;33m.\u001b[0m\u001b[0mparameters\u001b[0m\u001b[1;33m,\u001b[0m \u001b[0margs\u001b[0m\u001b[1;33m)\u001b[0m\u001b[1;33m}\u001b[0m\u001b[1;33m)\u001b[0m\u001b[1;33m\u001b[0m\u001b[1;33m\u001b[0m\u001b[0m\n\u001b[1;32m---> 73\u001b[1;33m         \u001b[1;32mreturn\u001b[0m \u001b[0mf\u001b[0m\u001b[1;33m(\u001b[0m\u001b[1;33m**\u001b[0m\u001b[0mkwargs\u001b[0m\u001b[1;33m)\u001b[0m\u001b[1;33m\u001b[0m\u001b[1;33m\u001b[0m\u001b[0m\n\u001b[0m\u001b[0;32m     74\u001b[0m     \u001b[1;32mreturn\u001b[0m \u001b[0minner_f\u001b[0m\u001b[1;33m\u001b[0m\u001b[1;33m\u001b[0m\u001b[0m\n\u001b[0;32m     75\u001b[0m \u001b[1;33m\u001b[0m\u001b[0m\n",
      "\u001b[1;32m~\\Anaconda3\\lib\\site-packages\\sklearn\\metrics\\_scorer.py\u001b[0m in \u001b[0;36mcheck_scoring\u001b[1;34m(estimator, scoring, allow_none)\u001b[0m\n\u001b[0;32m    400\u001b[0m     \"\"\"\n\u001b[0;32m    401\u001b[0m     \u001b[1;32mif\u001b[0m \u001b[1;32mnot\u001b[0m \u001b[0mhasattr\u001b[0m\u001b[1;33m(\u001b[0m\u001b[0mestimator\u001b[0m\u001b[1;33m,\u001b[0m \u001b[1;34m'fit'\u001b[0m\u001b[1;33m)\u001b[0m\u001b[1;33m:\u001b[0m\u001b[1;33m\u001b[0m\u001b[1;33m\u001b[0m\u001b[0m\n\u001b[1;32m--> 402\u001b[1;33m         raise TypeError(\"estimator should be an estimator implementing \"\n\u001b[0m\u001b[0;32m    403\u001b[0m                         \"'fit' method, %r was passed\" % estimator)\n\u001b[0;32m    404\u001b[0m     \u001b[1;32mif\u001b[0m \u001b[0misinstance\u001b[0m\u001b[1;33m(\u001b[0m\u001b[0mscoring\u001b[0m\u001b[1;33m,\u001b[0m \u001b[0mstr\u001b[0m\u001b[1;33m)\u001b[0m\u001b[1;33m:\u001b[0m\u001b[1;33m\u001b[0m\u001b[1;33m\u001b[0m\u001b[0m\n",
      "\u001b[1;31mTypeError\u001b[0m: not all arguments converted during string formatting"
     ]
    }
   ],
   "source": [
    "X_train, X_test, y_train, y_test = md.split(X,y,split_options = {'test_size': 0.3,\n",
    "                                                                 'random_state': None})\n",
    "\n",
    "#Problem with this function!\n",
    "\n",
    "md.run_OLS(X_train,y_train,X_test,y_test, n = 30)"
   ]
  },
  {
   "cell_type": "markdown",
   "metadata": {},
   "source": [
    "### Add LM - metrics"
   ]
  },
  {
   "cell_type": "code",
   "execution_count": null,
   "metadata": {},
   "outputs": [],
   "source": [
    "X_train_rd = X_train\n",
    "Remove = 30\n",
    "\n",
    "def find_features(X_train, y_train, X):\n",
    "    max_p = 1\n",
    "    while max_p > 0.1:\n",
    "        model = sm.OLS(y_train, X_train)\n",
    "        results = model.fit()\n",
    "        top_X = results.pvalues.sort_values(ascending=False).head(X)\n",
    "        max_p = top_X.tail(1).values[0]\n",
    "        rm_col = list(results.pvalues.sort_values(ascending=False).head(X).index)\n",
    "        X_train = X_train.drop(rm_col, axis=1)\n",
    "    return X_train.columns"
   ]
  },
  {
   "cell_type": "code",
   "execution_count": null,
   "metadata": {},
   "outputs": [],
   "source": [
    "fa_Both = fa[fa['Tote Colour']==\"Both\"]\n",
    "fa_Both = fa_Both[fa_Both['Pick Station']==False]\n",
    "fa_Both[fa_Both['Desk']!=\"Z\"]['Asset Code'].value_counts()"
   ]
  },
  {
   "cell_type": "code",
   "execution_count": null,
   "metadata": {},
   "outputs": [],
   "source": [
    "fa[fa['Fault ID']==7647]"
   ]
  },
  {
   "cell_type": "code",
   "execution_count": null,
   "metadata": {},
   "outputs": [],
   "source": [
    "fa[fa['Pick Station']!=False]['Asset Code'].value_counts()"
   ]
  },
  {
   "cell_type": "code",
   "execution_count": null,
   "metadata": {},
   "outputs": [],
   "source": [
    "pick_stations = ['PTT011','PTT012','PTT021','PTT022','PTT031','PTT032','PTT041','PTT042','PTT051','PTT052','PTT071','PTT072','PTT081','PTT082','PTT091','PTT092','PTT101','PTT102','PTT111','PTT112','PTT121','PTT122','PTT131','PTT132','PTT141','PTT142','PTT151','PTT152','PTT171','PTT172','PTT181','PTT182','PTT191','PTT192','PTT201','PTT202']"
   ]
  },
  {
   "cell_type": "code",
   "execution_count": null,
   "metadata": {},
   "outputs": [],
   "source": [
    "fa_floor[fa_floor['Duration']==0]"
   ]
  },
  {
   "cell_type": "code",
   "execution_count": null,
   "metadata": {},
   "outputs": [],
   "source": [
    "unmapped"
   ]
  },
  {
   "cell_type": "code",
   "execution_count": null,
   "metadata": {},
   "outputs": [],
   "source": []
  }
 ],
 "metadata": {
  "kernelspec": {
   "display_name": "Python 3",
   "language": "python",
   "name": "python3"
  },
  "language_info": {
   "codemirror_mode": {
    "name": "ipython",
    "version": 3
   },
   "file_extension": ".py",
   "mimetype": "text/x-python",
   "name": "python",
   "nbconvert_exporter": "python",
   "pygments_lexer": "ipython3",
   "version": "3.8.3"
  }
 },
 "nbformat": 4,
 "nbformat_minor": 4
}
