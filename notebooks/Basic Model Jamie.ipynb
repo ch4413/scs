{
 "cells": [
  {
   "cell_type": "code",
   "execution_count": 1,
   "metadata": {},
   "outputs": [],
   "source": [
    "import pandas as pd\n",
    "import numpy as np\n",
    "import seaborn as sns\n",
    "import matplotlib.pyplot as plt\n",
    "%matplotlib inline\n",
    "\n",
    "import scsavailability as scs\n",
    "    \n",
    "import statsmodels.api as sm\n",
    "from scipy import stats\n",
    "\n",
    "from scsavailability import features as feat, model as md, plotting as pt, results as rs\n",
    "\n",
    "from sklearn.model_selection import cross_val_score\n",
    "from sklearn.model_selection import KFold\n",
    "from sklearn.linear_model import LinearRegression"
   ]
  },
  {
   "cell_type": "code",
   "execution_count": 2,
   "metadata": {},
   "outputs": [],
   "source": [
    "path = 'C:/Users/Jamie.williams/OneDrive - Newton Europe Ltd/Castle Donnington/Data/'"
   ]
  },
  {
   "cell_type": "code",
   "execution_count": 3,
   "metadata": {},
   "outputs": [],
   "source": [
    "at = pd.read_csv(path+'active_totes_20201210.csv')\n",
    "av = pd.read_csv(path+'Availability_with_Grey&Blue_1811-0912.csv',names = [\"timestamp\",\"Pick Station\",\"Availability\",\"Blue Tote Loss\",\"Grey Tote Loss\"])\n",
    "#fa = pd.read_csv(path + 'scs_tote_matched.csv')\n",
    "scs_raw = pd.read_csv(path + 'Faults20_11-10_12.csv')"
   ]
  },
  {
   "cell_type": "code",
   "execution_count": 4,
   "metadata": {},
   "outputs": [
    {
     "name": "stdout",
     "output_type": "stream",
     "text": [
      "Running: Function \"pre_process_AT\" (id=1700851321008) was called 1 times\n"
     ]
    },
    {
     "name": "stderr",
     "output_type": "stream",
     "text": [
      "2021-01-07 15:50:52,727 - NumExpr defaulting to 8 threads.\n"
     ]
    }
   ],
   "source": [
    "at = feat.pre_process_AT(at)"
   ]
  },
  {
   "cell_type": "code",
   "execution_count": 5,
   "metadata": {},
   "outputs": [
    {
     "name": "stdout",
     "output_type": "stream",
     "text": [
      "Running: Function \"pre_process_av\" (id=1700851321872) was called 1 times\n"
     ]
    }
   ],
   "source": [
    "av = feat.pre_process_av(av)"
   ]
  },
  {
   "cell_type": "code",
   "execution_count": 6,
   "metadata": {},
   "outputs": [
    {
     "name": "stdout",
     "output_type": "stream",
     "text": [
      "Running: Function \"preprocess_faults\" (id=1700851322016) was called 1 times\n",
      "Running: Function \"load_tote_lookup\" (id=1700851322592) was called 1 times\n",
      "Running: Function \"load_module_lookup\" (id=1700848356368) was called 1 times\n",
      "Running: Function \"load_ID_lookup\" (id=1700851319280) was called 1 times\n",
      "duplicated location faults removed - max duration kept\n",
      "HOTFIX: Quadrant only faults, PTT Asset Code update\n"
     ]
    }
   ],
   "source": [
    "fa,unmapped, end_time = feat.preprocess_faults(scs_raw)\n",
    "\n",
    "#fa= fa[fa['timestamp']<(fa['timestamp'].max()-pd.to_timedelta(7, unit='D'))]"
   ]
  },
  {
   "cell_type": "code",
   "execution_count": 7,
   "metadata": {},
   "outputs": [
    {
     "name": "stderr",
     "output_type": "stream",
     "text": [
      "C:\\Users\\Jamie.williams\\Anaconda3\\lib\\site-packages\\scsavailability\\features.py:298: SettingWithCopyWarning: \n",
      "A value is trying to be set on a copy of a slice from a DataFrame\n",
      "\n",
      "See the caveats in the documentation: https://pandas.pydata.org/pandas-docs/stable/user_guide/indexing.html#returning-a-view-versus-a-copy\n",
      "  fa_floor['Duration'][i] = fa_floor['Time Left'][i]\n",
      "C:\\Users\\Jamie.williams\\Anaconda3\\lib\\site-packages\\scsavailability\\features.py:299: SettingWithCopyWarning: \n",
      "A value is trying to be set on a copy of a slice from a DataFrame\n",
      "\n",
      "See the caveats in the documentation: https://pandas.pydata.org/pandas-docs/stable/user_guide/indexing.html#returning-a-view-versus-a-copy\n",
      "  fa_floor['Duration'][i+1] = fa_floor['Duration'][i+1] - fa_floor['Duration'][i]\n",
      "C:\\Users\\Jamie.williams\\Anaconda3\\lib\\site-packages\\scsavailability\\features.py:295: SettingWithCopyWarning: \n",
      "A value is trying to be set on a copy of a slice from a DataFrame\n",
      "\n",
      "See the caveats in the documentation: https://pandas.pydata.org/pandas-docs/stable/user_guide/indexing.html#returning-a-view-versus-a-copy\n",
      "  fa_floor['Original_timestamp'][i] = fa_floor['Original_timestamp'][i].floor('H')\n",
      "C:\\Users\\Jamie.williams\\Anaconda3\\lib\\site-packages\\scsavailability\\features.py:302: SettingWithCopyWarning: \n",
      "A value is trying to be set on a copy of a slice from a DataFrame\n",
      "\n",
      "See the caveats in the documentation: https://pandas.pydata.org/pandas-docs/stable/user_guide/indexing.html#returning-a-view-versus-a-copy\n",
      "  fa_floor['Duration'][i+1] = fa_floor['Duration'][i] - 3600\n",
      "C:\\Users\\Jamie.williams\\Anaconda3\\lib\\site-packages\\scsavailability\\features.py:303: SettingWithCopyWarning: \n",
      "A value is trying to be set on a copy of a slice from a DataFrame\n",
      "\n",
      "See the caveats in the documentation: https://pandas.pydata.org/pandas-docs/stable/user_guide/indexing.html#returning-a-view-versus-a-copy\n",
      "  fa_floor['Duration'][i] =3600\n"
     ]
    }
   ],
   "source": [
    "fa_floor = feat.floor_shift_time_fa(fa, shift=0)"
   ]
  },
  {
   "cell_type": "code",
   "execution_count": 8,
   "metadata": {},
   "outputs": [
    {
     "name": "stdout",
     "output_type": "stream",
     "text": [
      "Running: Function \"load_PTT_lookup\" (id=1700851321296) was called 1 times\n",
      "Previous Hours Weighted\n",
      "Running: Function \"aggregate_availability\" (id=1700851321728) was called 1 times\n",
      "Running: Function \"load_PTT_lookup\" (id=1700851321296) was called 2 times\n",
      "Previous Hours Weighted\n",
      "Running: Function \"aggregate_availability\" (id=1700851321728) was called 2 times\n",
      "Running: Function \"load_PTT_lookup\" (id=1700851321296) was called 3 times\n",
      "Previous Hours Weighted\n",
      "Running: Function \"aggregate_availability\" (id=1700851321728) was called 3 times\n",
      "Running: Function \"load_PTT_lookup\" (id=1700851321296) was called 4 times\n",
      "Previous Hours Weighted\n",
      "Running: Function \"aggregate_availability\" (id=1700851321728) was called 4 times\n",
      "Running: Function \"load_PTT_lookup\" (id=1700851321296) was called 5 times\n",
      "Previous Hours Weighted\n",
      "Running: Function \"aggregate_availability\" (id=1700851321728) was called 5 times\n",
      "Running: Function \"load_PTT_lookup\" (id=1700851321296) was called 6 times\n",
      "Previous Hours Weighted\n",
      "Running: Function \"aggregate_availability\" (id=1700851321728) was called 6 times\n",
      "Running: Function \"load_PTT_lookup\" (id=1700851321296) was called 7 times\n",
      "Previous Hours Weighted\n",
      "Running: Function \"aggregate_availability\" (id=1700851321728) was called 7 times\n",
      "Running: Function \"load_PTT_lookup\" (id=1700851321296) was called 8 times\n",
      "Previous Hours Weighted\n",
      "Running: Function \"aggregate_availability\" (id=1700851321728) was called 8 times\n",
      "Running: Function \"load_PTT_lookup\" (id=1700851321296) was called 9 times\n",
      "Previous Hours Weighted\n",
      "Running: Function \"aggregate_availability\" (id=1700851321728) was called 9 times\n",
      "Running: Function \"load_PTT_lookup\" (id=1700851321296) was called 10 times\n",
      "Previous Hours Weighted\n",
      "Running: Function \"aggregate_availability\" (id=1700851321728) was called 10 times\n",
      "Running: Function \"load_PTT_lookup\" (id=1700851321296) was called 11 times\n",
      "Previous Hours Weighted\n",
      "Running: Function \"aggregate_availability\" (id=1700851321728) was called 11 times\n",
      "Running: Function \"load_PTT_lookup\" (id=1700851321296) was called 12 times\n",
      "Previous Hours Weighted\n",
      "Running: Function \"aggregate_availability\" (id=1700851321728) was called 12 times\n",
      "Running: Function \"load_PTT_lookup\" (id=1700851321296) was called 13 times\n",
      "Previous Hours Weighted\n",
      "Running: Function \"aggregate_availability\" (id=1700851321728) was called 13 times\n",
      "Running: Function \"load_PTT_lookup\" (id=1700851321296) was called 14 times\n",
      "Previous Hours Weighted\n",
      "Running: Function \"aggregate_availability\" (id=1700851321728) was called 14 times\n",
      "Running: Function \"load_PTT_lookup\" (id=1700851321296) was called 15 times\n",
      "Previous Hours Weighted\n",
      "Running: Function \"aggregate_availability\" (id=1700851321728) was called 15 times\n",
      "Running: Function \"load_PTT_lookup\" (id=1700851321296) was called 16 times\n",
      "Previous Hours Weighted\n",
      "Running: Function \"aggregate_availability\" (id=1700851321728) was called 16 times\n",
      "Running: Function \"load_PTT_lookup\" (id=1700851321296) was called 17 times\n",
      "Previous Hours Weighted\n",
      "Running: Function \"aggregate_availability\" (id=1700851321728) was called 17 times\n",
      "Running: Function \"load_PTT_lookup\" (id=1700851321296) was called 18 times\n",
      "Previous Hours Weighted\n",
      "Running: Function \"aggregate_availability\" (id=1700851321728) was called 18 times\n",
      "Running: Function \"load_PTT_lookup\" (id=1700851321296) was called 19 times\n",
      "Previous Hours Weighted\n",
      "Running: Function \"aggregate_availability\" (id=1700851321728) was called 19 times\n",
      "Running: Function \"load_PTT_lookup\" (id=1700851321296) was called 20 times\n",
      "Previous Hours Weighted\n",
      "Running: Function \"aggregate_availability\" (id=1700851321728) was called 20 times\n",
      "Running: Function \"load_PTT_lookup\" (id=1700851321296) was called 21 times\n",
      "Previous Hours Weighted\n",
      "Running: Function \"aggregate_availability\" (id=1700851321728) was called 21 times\n",
      "Running: Function \"load_PTT_lookup\" (id=1700851321296) was called 22 times\n",
      "Previous Hours Weighted\n",
      "Running: Function \"aggregate_availability\" (id=1700851321728) was called 22 times\n",
      "Running: Function \"load_PTT_lookup\" (id=1700851321296) was called 23 times\n",
      "Previous Hours Weighted\n",
      "Running: Function \"aggregate_availability\" (id=1700851321728) was called 23 times\n",
      "Running: Function \"load_PTT_lookup\" (id=1700851321296) was called 24 times\n",
      "Previous Hours Weighted\n",
      "Running: Function \"aggregate_availability\" (id=1700851321728) was called 24 times\n",
      "Running: Function \"load_PTT_lookup\" (id=1700851321296) was called 25 times\n",
      "Previous Hours Weighted\n",
      "Running: Function \"aggregate_availability\" (id=1700851321728) was called 25 times\n",
      "Running: Function \"load_PTT_lookup\" (id=1700851321296) was called 26 times\n",
      "Previous Hours Weighted\n",
      "Running: Function \"aggregate_availability\" (id=1700851321728) was called 26 times\n",
      "Running: Function \"load_PTT_lookup\" (id=1700851321296) was called 27 times\n",
      "Previous Hours Weighted\n",
      "Running: Function \"aggregate_availability\" (id=1700851321728) was called 27 times\n",
      "Running: Function \"load_PTT_lookup\" (id=1700851321296) was called 28 times\n",
      "Previous Hours Weighted\n",
      "Running: Function \"aggregate_availability\" (id=1700851321728) was called 28 times\n",
      "Running: Function \"load_PTT_lookup\" (id=1700851321296) was called 29 times\n",
      "Previous Hours Weighted\n",
      "Running: Function \"aggregate_availability\" (id=1700851321728) was called 29 times\n",
      "Running: Function \"load_PTT_lookup\" (id=1700851321296) was called 30 times\n",
      "Previous Hours Weighted\n",
      "Running: Function \"aggregate_availability\" (id=1700851321728) was called 30 times\n",
      "Running: Function \"load_PTT_lookup\" (id=1700851321296) was called 31 times\n",
      "Previous Hours Weighted\n",
      "Running: Function \"aggregate_availability\" (id=1700851321728) was called 31 times\n",
      "Running: Function \"load_PTT_lookup\" (id=1700851321296) was called 32 times\n",
      "Previous Hours Weighted\n",
      "Running: Function \"aggregate_availability\" (id=1700851321728) was called 32 times\n",
      "Running: Function \"load_PTT_lookup\" (id=1700851321296) was called 33 times\n",
      "Previous Hours Weighted\n",
      "Running: Function \"aggregate_availability\" (id=1700851321728) was called 33 times\n",
      "Running: Function \"load_PTT_lookup\" (id=1700851321296) was called 34 times\n",
      "Previous Hours Weighted\n",
      "Running: Function \"aggregate_availability\" (id=1700851321728) was called 34 times\n",
      "Running: Function \"load_PTT_lookup\" (id=1700851321296) was called 35 times\n",
      "Previous Hours Weighted\n",
      "Running: Function \"aggregate_availability\" (id=1700851321728) was called 35 times\n",
      "Running: Function \"load_PTT_lookup\" (id=1700851321296) was called 36 times\n",
      "Previous Hours Weighted\n",
      "Running: Function \"aggregate_availability\" (id=1700851321728) was called 36 times\n"
     ]
    }
   ],
   "source": [
    "df,fa_PTT = feat.create_PTT_df(fa_floor,at,av,weights = [0.7,0.3],duration_thres=0)\n",
    "\n",
    "df = feat.log_totes(df) "
   ]
  },
  {
   "cell_type": "code",
   "execution_count": 9,
   "metadata": {},
   "outputs": [],
   "source": [
    "df_week = df[df['timestamp']>end_time - pd.to_timedelta(14, unit='D')]"
   ]
  },
  {
   "cell_type": "code",
   "execution_count": 10,
   "metadata": {},
   "outputs": [],
   "source": [
    "X,y = md.gen_feat_var(df_week,target = 'Availability', features = ['Faults','Totes'])\n"
   ]
  },
  {
   "cell_type": "code",
   "execution_count": 11,
   "metadata": {},
   "outputs": [
    {
     "name": "stderr",
     "output_type": "stream",
     "text": [
      "C:\\Users\\Jamie.williams\\Anaconda3\\lib\\site-packages\\statsmodels\\base\\model.py:1362: RuntimeWarning: invalid value encountered in true_divide\n",
      "  return self.params / self.bse\n",
      "C:\\Users\\Jamie.williams\\Anaconda3\\lib\\site-packages\\scipy\\stats\\_distn_infrastructure.py:1932: RuntimeWarning: invalid value encountered in less_equal\n",
      "  cond2 = cond0 & (x <= _a)\n"
     ]
    },
    {
     "ename": "KeyboardInterrupt",
     "evalue": "",
     "output_type": "error",
     "traceback": [
      "\u001b[1;31m---------------------------------------------------------------------------\u001b[0m",
      "\u001b[1;31mKeyboardInterrupt\u001b[0m                         Traceback (most recent call last)",
      "\u001b[1;32m<ipython-input-11-45a34f6cd1d8>\u001b[0m in \u001b[0;36m<module>\u001b[1;34m\u001b[0m\n\u001b[0;32m      2\u001b[0m                                                                  'random_state': None})\n\u001b[0;32m      3\u001b[0m \u001b[1;33m\u001b[0m\u001b[0m\n\u001b[1;32m----> 4\u001b[1;33m \u001b[0mR2_cv\u001b[0m\u001b[1;33m,\u001b[0m\u001b[0mR2_OOS\u001b[0m\u001b[1;33m,\u001b[0m\u001b[0mCoeff\u001b[0m \u001b[1;33m=\u001b[0m \u001b[0mmd\u001b[0m\u001b[1;33m.\u001b[0m\u001b[0mrun_OLS\u001b[0m\u001b[1;33m(\u001b[0m\u001b[0mX_train\u001b[0m \u001b[1;33m=\u001b[0m \u001b[0mX_train\u001b[0m\u001b[1;33m,\u001b[0m\u001b[0my_train\u001b[0m \u001b[1;33m=\u001b[0m \u001b[0my_train\u001b[0m\u001b[1;33m,\u001b[0m\u001b[0mX_test\u001b[0m \u001b[1;33m=\u001b[0m \u001b[0mX_test\u001b[0m\u001b[1;33m,\u001b[0m\u001b[0my_test\u001b[0m\u001b[1;33m=\u001b[0m\u001b[0my_test\u001b[0m\u001b[1;33m,\u001b[0m \u001b[0mn\u001b[0m \u001b[1;33m=\u001b[0m \u001b[1;36m10\u001b[0m\u001b[1;33m)\u001b[0m\u001b[1;33m\u001b[0m\u001b[1;33m\u001b[0m\u001b[0m\n\u001b[0m",
      "\u001b[1;32m~\\Anaconda3\\lib\\site-packages\\scsavailability\\model.py\u001b[0m in \u001b[0;36mrun_OLS\u001b[1;34m(X_train, y_train, X_test, y_test, n)\u001b[0m\n\u001b[0;32m    228\u001b[0m     \u001b[0mLinear_mdl\u001b[0m\u001b[1;33m,\u001b[0m\u001b[0mpred\u001b[0m\u001b[1;33m,\u001b[0m \u001b[0mCoeff\u001b[0m\u001b[1;33m,\u001b[0m \u001b[0mfit_metrics\u001b[0m \u001b[1;33m=\u001b[0m \u001b[0mrun_LR_model\u001b[0m\u001b[1;33m(\u001b[0m\u001b[0mX_train\u001b[0m\u001b[1;33m,\u001b[0m \u001b[0mX_test\u001b[0m\u001b[1;33m,\u001b[0m \u001b[0my_train\u001b[0m\u001b[1;33m,\u001b[0m \u001b[0my_test\u001b[0m\u001b[1;33m)\u001b[0m \u001b[1;31m#fit_intercept=False)\u001b[0m\u001b[1;33m\u001b[0m\u001b[1;33m\u001b[0m\u001b[0m\n\u001b[0;32m    229\u001b[0m \u001b[1;33m\u001b[0m\u001b[0m\n\u001b[1;32m--> 230\u001b[1;33m     \u001b[0mkeep_features\u001b[0m \u001b[1;33m=\u001b[0m \u001b[0mfind_features\u001b[0m\u001b[1;33m(\u001b[0m\u001b[0mX_train\u001b[0m \u001b[1;33m=\u001b[0m \u001b[0mX_train\u001b[0m \u001b[1;33m,\u001b[0m \u001b[0my_train\u001b[0m\u001b[1;33m=\u001b[0m\u001b[0my_train\u001b[0m\u001b[1;33m,\u001b[0m \u001b[0mn\u001b[0m\u001b[1;33m=\u001b[0m\u001b[0mn\u001b[0m\u001b[1;33m)\u001b[0m\u001b[1;33m\u001b[0m\u001b[1;33m\u001b[0m\u001b[0m\n\u001b[0m\u001b[0;32m    231\u001b[0m \u001b[1;33m\u001b[0m\u001b[0m\n\u001b[0;32m    232\u001b[0m     \u001b[0mmodel\u001b[0m \u001b[1;33m=\u001b[0m \u001b[0msm\u001b[0m\u001b[1;33m.\u001b[0m\u001b[0mOLS\u001b[0m\u001b[1;33m(\u001b[0m\u001b[0my_train\u001b[0m\u001b[1;33m,\u001b[0m \u001b[0mX_train\u001b[0m\u001b[1;33m[\u001b[0m\u001b[0mkeep_features\u001b[0m\u001b[1;33m]\u001b[0m\u001b[1;33m)\u001b[0m\u001b[1;33m\u001b[0m\u001b[1;33m\u001b[0m\u001b[0m\n",
      "\u001b[1;32m~\\Anaconda3\\lib\\site-packages\\scsavailability\\model.py\u001b[0m in \u001b[0;36mfind_features\u001b[1;34m(X_train, y_train, n)\u001b[0m\n\u001b[0;32m    217\u001b[0m     \u001b[1;32mwhile\u001b[0m \u001b[0mmax_p\u001b[0m \u001b[1;33m>\u001b[0m \u001b[1;36m0.1\u001b[0m\u001b[1;33m:\u001b[0m\u001b[1;33m\u001b[0m\u001b[1;33m\u001b[0m\u001b[0m\n\u001b[0;32m    218\u001b[0m         \u001b[0mmodel\u001b[0m \u001b[1;33m=\u001b[0m \u001b[0msm\u001b[0m\u001b[1;33m.\u001b[0m\u001b[0mOLS\u001b[0m\u001b[1;33m(\u001b[0m\u001b[0my_train\u001b[0m\u001b[1;33m,\u001b[0m \u001b[0mX_train\u001b[0m\u001b[1;33m)\u001b[0m\u001b[1;33m\u001b[0m\u001b[1;33m\u001b[0m\u001b[0m\n\u001b[1;32m--> 219\u001b[1;33m         \u001b[0mresults\u001b[0m \u001b[1;33m=\u001b[0m \u001b[0mmodel\u001b[0m\u001b[1;33m.\u001b[0m\u001b[0mfit\u001b[0m\u001b[1;33m(\u001b[0m\u001b[1;33m)\u001b[0m\u001b[1;33m\u001b[0m\u001b[1;33m\u001b[0m\u001b[0m\n\u001b[0m\u001b[0;32m    220\u001b[0m         \u001b[0mtop_n\u001b[0m \u001b[1;33m=\u001b[0m \u001b[0mresults\u001b[0m\u001b[1;33m.\u001b[0m\u001b[0mpvalues\u001b[0m\u001b[1;33m.\u001b[0m\u001b[0msort_values\u001b[0m\u001b[1;33m(\u001b[0m\u001b[0mascending\u001b[0m\u001b[1;33m=\u001b[0m\u001b[1;32mFalse\u001b[0m\u001b[1;33m)\u001b[0m\u001b[1;33m.\u001b[0m\u001b[0mhead\u001b[0m\u001b[1;33m(\u001b[0m\u001b[0mn\u001b[0m\u001b[1;33m)\u001b[0m\u001b[1;33m\u001b[0m\u001b[1;33m\u001b[0m\u001b[0m\n\u001b[0;32m    221\u001b[0m         \u001b[0mmax_p\u001b[0m \u001b[1;33m=\u001b[0m \u001b[0mtop_n\u001b[0m\u001b[1;33m.\u001b[0m\u001b[0mtail\u001b[0m\u001b[1;33m(\u001b[0m\u001b[1;36m1\u001b[0m\u001b[1;33m)\u001b[0m\u001b[1;33m.\u001b[0m\u001b[0mvalues\u001b[0m\u001b[1;33m[\u001b[0m\u001b[1;36m0\u001b[0m\u001b[1;33m]\u001b[0m\u001b[1;33m\u001b[0m\u001b[1;33m\u001b[0m\u001b[0m\n",
      "\u001b[1;32m~\\Anaconda3\\lib\\site-packages\\statsmodels\\regression\\linear_model.py\u001b[0m in \u001b[0;36mfit\u001b[1;34m(self, method, cov_type, cov_kwds, use_t, **kwargs)\u001b[0m\n\u001b[0;32m    303\u001b[0m                     hasattr(self, 'rank')):\n\u001b[0;32m    304\u001b[0m \u001b[1;33m\u001b[0m\u001b[0m\n\u001b[1;32m--> 305\u001b[1;33m                 \u001b[0mself\u001b[0m\u001b[1;33m.\u001b[0m\u001b[0mpinv_wexog\u001b[0m\u001b[1;33m,\u001b[0m \u001b[0msingular_values\u001b[0m \u001b[1;33m=\u001b[0m \u001b[0mpinv_extended\u001b[0m\u001b[1;33m(\u001b[0m\u001b[0mself\u001b[0m\u001b[1;33m.\u001b[0m\u001b[0mwexog\u001b[0m\u001b[1;33m)\u001b[0m\u001b[1;33m\u001b[0m\u001b[1;33m\u001b[0m\u001b[0m\n\u001b[0m\u001b[0;32m    306\u001b[0m                 self.normalized_cov_params = np.dot(\n\u001b[0;32m    307\u001b[0m                     self.pinv_wexog, np.transpose(self.pinv_wexog))\n",
      "\u001b[1;32m~\\Anaconda3\\lib\\site-packages\\statsmodels\\tools\\tools.py\u001b[0m in \u001b[0;36mpinv_extended\u001b[1;34m(X, rcond)\u001b[0m\n\u001b[0;32m    387\u001b[0m     \u001b[0mX\u001b[0m \u001b[1;33m=\u001b[0m \u001b[0mnp\u001b[0m\u001b[1;33m.\u001b[0m\u001b[0masarray\u001b[0m\u001b[1;33m(\u001b[0m\u001b[0mX\u001b[0m\u001b[1;33m)\u001b[0m\u001b[1;33m\u001b[0m\u001b[1;33m\u001b[0m\u001b[0m\n\u001b[0;32m    388\u001b[0m     \u001b[0mX\u001b[0m \u001b[1;33m=\u001b[0m \u001b[0mX\u001b[0m\u001b[1;33m.\u001b[0m\u001b[0mconjugate\u001b[0m\u001b[1;33m(\u001b[0m\u001b[1;33m)\u001b[0m\u001b[1;33m\u001b[0m\u001b[1;33m\u001b[0m\u001b[0m\n\u001b[1;32m--> 389\u001b[1;33m     \u001b[0mu\u001b[0m\u001b[1;33m,\u001b[0m \u001b[0ms\u001b[0m\u001b[1;33m,\u001b[0m \u001b[0mvt\u001b[0m \u001b[1;33m=\u001b[0m \u001b[0mnp\u001b[0m\u001b[1;33m.\u001b[0m\u001b[0mlinalg\u001b[0m\u001b[1;33m.\u001b[0m\u001b[0msvd\u001b[0m\u001b[1;33m(\u001b[0m\u001b[0mX\u001b[0m\u001b[1;33m,\u001b[0m \u001b[1;36m0\u001b[0m\u001b[1;33m)\u001b[0m\u001b[1;33m\u001b[0m\u001b[1;33m\u001b[0m\u001b[0m\n\u001b[0m\u001b[0;32m    390\u001b[0m     \u001b[0ms_orig\u001b[0m \u001b[1;33m=\u001b[0m \u001b[0mnp\u001b[0m\u001b[1;33m.\u001b[0m\u001b[0mcopy\u001b[0m\u001b[1;33m(\u001b[0m\u001b[0ms\u001b[0m\u001b[1;33m)\u001b[0m\u001b[1;33m\u001b[0m\u001b[1;33m\u001b[0m\u001b[0m\n\u001b[0;32m    391\u001b[0m     \u001b[0mm\u001b[0m \u001b[1;33m=\u001b[0m \u001b[0mu\u001b[0m\u001b[1;33m.\u001b[0m\u001b[0mshape\u001b[0m\u001b[1;33m[\u001b[0m\u001b[1;36m0\u001b[0m\u001b[1;33m]\u001b[0m\u001b[1;33m\u001b[0m\u001b[1;33m\u001b[0m\u001b[0m\n",
      "\u001b[1;32m<__array_function__ internals>\u001b[0m in \u001b[0;36msvd\u001b[1;34m(*args, **kwargs)\u001b[0m\n",
      "\u001b[1;32m~\\Anaconda3\\lib\\site-packages\\numpy\\linalg\\linalg.py\u001b[0m in \u001b[0;36msvd\u001b[1;34m(a, full_matrices, compute_uv, hermitian)\u001b[0m\n\u001b[0;32m   1624\u001b[0m \u001b[1;33m\u001b[0m\u001b[0m\n\u001b[0;32m   1625\u001b[0m         \u001b[0msignature\u001b[0m \u001b[1;33m=\u001b[0m \u001b[1;34m'D->DdD'\u001b[0m \u001b[1;32mif\u001b[0m \u001b[0misComplexType\u001b[0m\u001b[1;33m(\u001b[0m\u001b[0mt\u001b[0m\u001b[1;33m)\u001b[0m \u001b[1;32melse\u001b[0m \u001b[1;34m'd->ddd'\u001b[0m\u001b[1;33m\u001b[0m\u001b[1;33m\u001b[0m\u001b[0m\n\u001b[1;32m-> 1626\u001b[1;33m         \u001b[0mu\u001b[0m\u001b[1;33m,\u001b[0m \u001b[0ms\u001b[0m\u001b[1;33m,\u001b[0m \u001b[0mvh\u001b[0m \u001b[1;33m=\u001b[0m \u001b[0mgufunc\u001b[0m\u001b[1;33m(\u001b[0m\u001b[0ma\u001b[0m\u001b[1;33m,\u001b[0m \u001b[0msignature\u001b[0m\u001b[1;33m=\u001b[0m\u001b[0msignature\u001b[0m\u001b[1;33m,\u001b[0m \u001b[0mextobj\u001b[0m\u001b[1;33m=\u001b[0m\u001b[0mextobj\u001b[0m\u001b[1;33m)\u001b[0m\u001b[1;33m\u001b[0m\u001b[1;33m\u001b[0m\u001b[0m\n\u001b[0m\u001b[0;32m   1627\u001b[0m         \u001b[0mu\u001b[0m \u001b[1;33m=\u001b[0m \u001b[0mu\u001b[0m\u001b[1;33m.\u001b[0m\u001b[0mastype\u001b[0m\u001b[1;33m(\u001b[0m\u001b[0mresult_t\u001b[0m\u001b[1;33m,\u001b[0m \u001b[0mcopy\u001b[0m\u001b[1;33m=\u001b[0m\u001b[1;32mFalse\u001b[0m\u001b[1;33m)\u001b[0m\u001b[1;33m\u001b[0m\u001b[1;33m\u001b[0m\u001b[0m\n\u001b[0;32m   1628\u001b[0m         \u001b[0ms\u001b[0m \u001b[1;33m=\u001b[0m \u001b[0ms\u001b[0m\u001b[1;33m.\u001b[0m\u001b[0mastype\u001b[0m\u001b[1;33m(\u001b[0m\u001b[0m_realType\u001b[0m\u001b[1;33m(\u001b[0m\u001b[0mresult_t\u001b[0m\u001b[1;33m)\u001b[0m\u001b[1;33m,\u001b[0m \u001b[0mcopy\u001b[0m\u001b[1;33m=\u001b[0m\u001b[1;32mFalse\u001b[0m\u001b[1;33m)\u001b[0m\u001b[1;33m\u001b[0m\u001b[1;33m\u001b[0m\u001b[0m\n",
      "\u001b[1;31mKeyboardInterrupt\u001b[0m: "
     ]
    }
   ],
   "source": [
    "X_train, X_test, y_train, y_test = md.split(X,y,split_options = {'test_size': 0.3,\n",
    "                                                                 'random_state': None})\n",
    "\n",
    "R2_cv,R2_OOS,Coeff = md.run_OLS(X_train = X_train,y_train = y_train,X_test = X_test,y_test=y_test, n = 10)"
   ]
  },
  {
   "cell_type": "code",
   "execution_count": null,
   "metadata": {},
   "outputs": [],
   "source": [
    "R2_OOS"
   ]
  },
  {
   "cell_type": "code",
   "execution_count": null,
   "metadata": {},
   "outputs": [],
   "source": [
    "Output = rs.create_output(fa_PTT,Coeff,end_time)"
   ]
  },
  {
   "cell_type": "markdown",
   "metadata": {},
   "source": [
    "# Plotting"
   ]
  },
  {
   "cell_type": "code",
   "execution_count": null,
   "metadata": {},
   "outputs": [],
   "source": [
    "Output['Total'] = Output[:][Output.columns[8:]].sum(axis=1)"
   ]
  },
  {
   "cell_type": "code",
   "execution_count": null,
   "metadata": {},
   "outputs": [],
   "source": [
    "Total = Output[['Asset Code','Total']].groupby('Asset Code').sum().reset_index()"
   ]
  },
  {
   "cell_type": "code",
   "execution_count": null,
   "metadata": {
    "scrolled": true
   },
   "outputs": [],
   "source": [
    "plt.figure(figsize=(15,5))\n",
    "sns.barplot(y='Total',x = 'Asset Code',data = Total.sort_values(by='Total',ascending=False).head(10),color = 'r')\n",
    "plt.ylabel('Lost Singles')\n",
    "plt.title('SCS Lost Singles Last 12 Hours')"
   ]
  },
  {
   "cell_type": "code",
   "execution_count": null,
   "metadata": {},
   "outputs": [],
   "source": [
    "PTT081 = Output[['Asset Code','PTT081']].groupby('Asset Code').sum().reset_index()"
   ]
  },
  {
   "cell_type": "code",
   "execution_count": null,
   "metadata": {},
   "outputs": [],
   "source": [
    "plt.figure(figsize=(7,5))\n",
    "sns.barplot(y='PTT081',x = 'Asset Code',data = PTT081.sort_values(by='PTT081',ascending=False).head(5),color = 'r')\n",
    "plt.ylabel('Lost Singles')\n",
    "plt.title('PTT081 Lost Singles Last 12 Hours')"
   ]
  },
  {
   "cell_type": "code",
   "execution_count": null,
   "metadata": {},
   "outputs": [],
   "source": [
    "Total_colour = Output[['Tote Colour','Total']].groupby('Tote Colour').sum().reset_index()"
   ]
  },
  {
   "cell_type": "code",
   "execution_count": null,
   "metadata": {
    "scrolled": true
   },
   "outputs": [],
   "source": [
    "plt.figure(figsize=(5,5))\n",
    "sns.barplot(y='Total',x = 'Tote Colour',data = Total_colour.sort_values(by='Total',ascending=False),color = 'r')\n",
    "plt.ylabel('Lost Singles')\n",
    "plt.title('SCS Lost Singles Last 12 Hours')"
   ]
  },
  {
   "cell_type": "code",
   "execution_count": null,
   "metadata": {},
   "outputs": [],
   "source": [
    "Total_colour"
   ]
  },
  {
   "cell_type": "code",
   "execution_count": null,
   "metadata": {},
   "outputs": [],
   "source": [
    "sns.lmplot(x='log_totes', y='Availability', data=df, line_kws={\"color\": \"red\"})\n",
    "plt.xlim(0, 5)"
   ]
  },
  {
   "cell_type": "code",
   "execution_count": null,
   "metadata": {},
   "outputs": [],
   "source": [
    "sns.lmplot(x='TOTES', y='Availability', data=df_week, line_kws={\"color\": \"red\"})"
   ]
  },
  {
   "cell_type": "code",
   "execution_count": null,
   "metadata": {},
   "outputs": [],
   "source": [
    "ax = sns.regplot(x=\"TOTES\", y=\"Availability\", data=df_week,\n",
    "x_estimator=np.mean, logx=True, line_kws={\"color\": \"red\"})\n",
    "plt.ylim(0,1)"
   ]
  },
  {
   "cell_type": "code",
   "execution_count": null,
   "metadata": {},
   "outputs": [],
   "source": [
    "sns.lmplot(x='log_totes', y='Availability', data=df_week, line_kws={\"color\": \"red\"})\n",
    "plt.xlim(0, 5)"
   ]
  },
  {
   "cell_type": "code",
   "execution_count": 15,
   "metadata": {},
   "outputs": [],
   "source": [
    "Shift = [0,0,0,10,10,10,20,20,20]\n",
    "Weights = [[1],[0.7,0.3],[0.7,0.2,0.1],[1],[0.7,0.3],[0.7,0.2,0.1],[1],[0.7,0.3],[0.7,0.2,0.1]]"
   ]
  },
  {
   "cell_type": "code",
   "execution_count": null,
   "metadata": {},
   "outputs": [],
   "source": [
    "Weights[8]"
   ]
  },
  {
   "cell_type": "code",
   "execution_count": null,
   "metadata": {},
   "outputs": [],
   "source": [
    "y"
   ]
  },
  {
   "cell_type": "code",
   "execution_count": null,
   "metadata": {},
   "outputs": [],
   "source": [
    "at"
   ]
  },
  {
   "cell_type": "code",
   "execution_count": null,
   "metadata": {},
   "outputs": [],
   "source": [
    "fa_floor"
   ]
  },
  {
   "cell_type": "code",
   "execution_count": 19,
   "metadata": {},
   "outputs": [
    {
     "data": {
      "text/html": [
       "<div>\n",
       "<style scoped>\n",
       "    .dataframe tbody tr th:only-of-type {\n",
       "        vertical-align: middle;\n",
       "    }\n",
       "\n",
       "    .dataframe tbody tr th {\n",
       "        vertical-align: top;\n",
       "    }\n",
       "\n",
       "    .dataframe thead th {\n",
       "        text-align: right;\n",
       "    }\n",
       "</style>\n",
       "<table border=\"1\" class=\"dataframe\">\n",
       "  <thead>\n",
       "    <tr style=\"text-align: right;\">\n",
       "      <th></th>\n",
       "      <th>C05</th>\n",
       "      <th>C0501ACH011</th>\n",
       "      <th>C0501RDC004</th>\n",
       "      <th>C0501STA002</th>\n",
       "      <th>C0501STA012</th>\n",
       "      <th>C0501STA020</th>\n",
       "      <th>C0501STA201</th>\n",
       "      <th>C0501STA217</th>\n",
       "      <th>C0501STA219</th>\n",
       "      <th>C0501STA228</th>\n",
       "      <th>...</th>\n",
       "      <th>SCS202</th>\n",
       "      <th>SCS203</th>\n",
       "      <th>SCS204</th>\n",
       "      <th>SCS205</th>\n",
       "      <th>SCS206</th>\n",
       "      <th>SCSM20</th>\n",
       "      <th>C1404RDC146</th>\n",
       "      <th>C1404STA149</th>\n",
       "      <th>C14PTT202</th>\n",
       "      <th>log_totes</th>\n",
       "    </tr>\n",
       "  </thead>\n",
       "  <tbody>\n",
       "    <tr>\n",
       "      <th>0</th>\n",
       "      <td>0.0</td>\n",
       "      <td>0.0</td>\n",
       "      <td>0.0</td>\n",
       "      <td>0.0</td>\n",
       "      <td>0.000000</td>\n",
       "      <td>0.0</td>\n",
       "      <td>0.0</td>\n",
       "      <td>0.0</td>\n",
       "      <td>0.0</td>\n",
       "      <td>0.0</td>\n",
       "      <td>...</td>\n",
       "      <td>0.000000</td>\n",
       "      <td>0.000000</td>\n",
       "      <td>0.000000</td>\n",
       "      <td>0.000000</td>\n",
       "      <td>0.0</td>\n",
       "      <td>0.000000</td>\n",
       "      <td>0.0</td>\n",
       "      <td>0.000000</td>\n",
       "      <td>0.000000</td>\n",
       "      <td>3.591024</td>\n",
       "    </tr>\n",
       "    <tr>\n",
       "      <th>1</th>\n",
       "      <td>0.0</td>\n",
       "      <td>0.0</td>\n",
       "      <td>0.0</td>\n",
       "      <td>0.0</td>\n",
       "      <td>0.000000</td>\n",
       "      <td>0.0</td>\n",
       "      <td>0.0</td>\n",
       "      <td>0.0</td>\n",
       "      <td>0.0</td>\n",
       "      <td>0.0</td>\n",
       "      <td>...</td>\n",
       "      <td>0.000000</td>\n",
       "      <td>0.000000</td>\n",
       "      <td>0.000000</td>\n",
       "      <td>0.000000</td>\n",
       "      <td>0.0</td>\n",
       "      <td>0.000000</td>\n",
       "      <td>0.0</td>\n",
       "      <td>0.000000</td>\n",
       "      <td>0.000000</td>\n",
       "      <td>3.482777</td>\n",
       "    </tr>\n",
       "    <tr>\n",
       "      <th>2</th>\n",
       "      <td>0.0</td>\n",
       "      <td>0.0</td>\n",
       "      <td>0.0</td>\n",
       "      <td>0.0</td>\n",
       "      <td>0.000000</td>\n",
       "      <td>0.0</td>\n",
       "      <td>0.0</td>\n",
       "      <td>0.0</td>\n",
       "      <td>0.0</td>\n",
       "      <td>0.0</td>\n",
       "      <td>...</td>\n",
       "      <td>0.000000</td>\n",
       "      <td>0.000000</td>\n",
       "      <td>0.000000</td>\n",
       "      <td>0.000000</td>\n",
       "      <td>0.0</td>\n",
       "      <td>0.000000</td>\n",
       "      <td>0.0</td>\n",
       "      <td>0.000000</td>\n",
       "      <td>0.000000</td>\n",
       "      <td>3.162658</td>\n",
       "    </tr>\n",
       "    <tr>\n",
       "      <th>3</th>\n",
       "      <td>0.0</td>\n",
       "      <td>0.0</td>\n",
       "      <td>0.0</td>\n",
       "      <td>0.0</td>\n",
       "      <td>2.062137</td>\n",
       "      <td>0.0</td>\n",
       "      <td>0.0</td>\n",
       "      <td>0.0</td>\n",
       "      <td>0.0</td>\n",
       "      <td>0.0</td>\n",
       "      <td>...</td>\n",
       "      <td>0.000000</td>\n",
       "      <td>0.000000</td>\n",
       "      <td>0.000000</td>\n",
       "      <td>0.000000</td>\n",
       "      <td>0.0</td>\n",
       "      <td>0.000000</td>\n",
       "      <td>0.0</td>\n",
       "      <td>0.000000</td>\n",
       "      <td>0.000000</td>\n",
       "      <td>3.512540</td>\n",
       "    </tr>\n",
       "    <tr>\n",
       "      <th>4</th>\n",
       "      <td>0.0</td>\n",
       "      <td>0.0</td>\n",
       "      <td>0.0</td>\n",
       "      <td>0.0</td>\n",
       "      <td>0.883773</td>\n",
       "      <td>0.0</td>\n",
       "      <td>0.0</td>\n",
       "      <td>0.0</td>\n",
       "      <td>0.0</td>\n",
       "      <td>0.0</td>\n",
       "      <td>...</td>\n",
       "      <td>0.000000</td>\n",
       "      <td>0.000000</td>\n",
       "      <td>0.000000</td>\n",
       "      <td>0.000000</td>\n",
       "      <td>0.0</td>\n",
       "      <td>0.000000</td>\n",
       "      <td>0.0</td>\n",
       "      <td>0.000000</td>\n",
       "      <td>0.000000</td>\n",
       "      <td>3.494485</td>\n",
       "    </tr>\n",
       "    <tr>\n",
       "      <th>...</th>\n",
       "      <td>...</td>\n",
       "      <td>...</td>\n",
       "      <td>...</td>\n",
       "      <td>...</td>\n",
       "      <td>...</td>\n",
       "      <td>...</td>\n",
       "      <td>...</td>\n",
       "      <td>...</td>\n",
       "      <td>...</td>\n",
       "      <td>...</td>\n",
       "      <td>...</td>\n",
       "      <td>...</td>\n",
       "      <td>...</td>\n",
       "      <td>...</td>\n",
       "      <td>...</td>\n",
       "      <td>...</td>\n",
       "      <td>...</td>\n",
       "      <td>...</td>\n",
       "      <td>...</td>\n",
       "      <td>...</td>\n",
       "      <td>...</td>\n",
       "    </tr>\n",
       "    <tr>\n",
       "      <th>461</th>\n",
       "      <td>0.0</td>\n",
       "      <td>0.0</td>\n",
       "      <td>0.0</td>\n",
       "      <td>0.0</td>\n",
       "      <td>0.000000</td>\n",
       "      <td>0.0</td>\n",
       "      <td>0.0</td>\n",
       "      <td>0.0</td>\n",
       "      <td>0.0</td>\n",
       "      <td>0.0</td>\n",
       "      <td>...</td>\n",
       "      <td>0.741268</td>\n",
       "      <td>0.741172</td>\n",
       "      <td>0.000000</td>\n",
       "      <td>3.916931</td>\n",
       "      <td>0.0</td>\n",
       "      <td>3.385884</td>\n",
       "      <td>0.0</td>\n",
       "      <td>0.000000</td>\n",
       "      <td>0.317295</td>\n",
       "      <td>3.936716</td>\n",
       "    </tr>\n",
       "    <tr>\n",
       "      <th>462</th>\n",
       "      <td>0.0</td>\n",
       "      <td>0.0</td>\n",
       "      <td>0.0</td>\n",
       "      <td>0.0</td>\n",
       "      <td>0.000000</td>\n",
       "      <td>0.0</td>\n",
       "      <td>0.0</td>\n",
       "      <td>0.0</td>\n",
       "      <td>0.0</td>\n",
       "      <td>0.0</td>\n",
       "      <td>...</td>\n",
       "      <td>0.317686</td>\n",
       "      <td>1.058899</td>\n",
       "      <td>0.741247</td>\n",
       "      <td>4.235067</td>\n",
       "      <td>0.0</td>\n",
       "      <td>3.597478</td>\n",
       "      <td>0.0</td>\n",
       "      <td>0.000000</td>\n",
       "      <td>0.000000</td>\n",
       "      <td>4.332048</td>\n",
       "    </tr>\n",
       "    <tr>\n",
       "      <th>463</th>\n",
       "      <td>0.0</td>\n",
       "      <td>0.0</td>\n",
       "      <td>0.0</td>\n",
       "      <td>0.0</td>\n",
       "      <td>0.000000</td>\n",
       "      <td>0.0</td>\n",
       "      <td>0.0</td>\n",
       "      <td>0.0</td>\n",
       "      <td>0.0</td>\n",
       "      <td>0.0</td>\n",
       "      <td>...</td>\n",
       "      <td>0.741328</td>\n",
       "      <td>0.317680</td>\n",
       "      <td>1.058880</td>\n",
       "      <td>2.753261</td>\n",
       "      <td>0.0</td>\n",
       "      <td>1.269741</td>\n",
       "      <td>0.0</td>\n",
       "      <td>0.741301</td>\n",
       "      <td>2.960411</td>\n",
       "      <td>4.177204</td>\n",
       "    </tr>\n",
       "    <tr>\n",
       "      <th>464</th>\n",
       "      <td>0.0</td>\n",
       "      <td>0.0</td>\n",
       "      <td>0.0</td>\n",
       "      <td>0.0</td>\n",
       "      <td>0.000000</td>\n",
       "      <td>0.0</td>\n",
       "      <td>0.0</td>\n",
       "      <td>0.0</td>\n",
       "      <td>0.0</td>\n",
       "      <td>0.0</td>\n",
       "      <td>...</td>\n",
       "      <td>0.317712</td>\n",
       "      <td>0.000000</td>\n",
       "      <td>1.058981</td>\n",
       "      <td>2.117555</td>\n",
       "      <td>0.0</td>\n",
       "      <td>0.000000</td>\n",
       "      <td>0.0</td>\n",
       "      <td>0.317700</td>\n",
       "      <td>2.008558</td>\n",
       "      <td>4.054390</td>\n",
       "    </tr>\n",
       "    <tr>\n",
       "      <th>465</th>\n",
       "      <td>0.0</td>\n",
       "      <td>0.0</td>\n",
       "      <td>0.0</td>\n",
       "      <td>0.0</td>\n",
       "      <td>0.000000</td>\n",
       "      <td>0.0</td>\n",
       "      <td>0.0</td>\n",
       "      <td>0.0</td>\n",
       "      <td>0.0</td>\n",
       "      <td>0.0</td>\n",
       "      <td>...</td>\n",
       "      <td>0.741316</td>\n",
       "      <td>0.000000</td>\n",
       "      <td>0.317709</td>\n",
       "      <td>0.635202</td>\n",
       "      <td>0.0</td>\n",
       "      <td>0.000000</td>\n",
       "      <td>0.0</td>\n",
       "      <td>0.741342</td>\n",
       "      <td>5.496702</td>\n",
       "      <td>3.939962</td>\n",
       "    </tr>\n",
       "  </tbody>\n",
       "</table>\n",
       "<p>16736 rows × 1162 columns</p>\n",
       "</div>"
      ],
      "text/plain": [
       "     C05  C0501ACH011  C0501RDC004  C0501STA002  C0501STA012  C0501STA020  \\\n",
       "0    0.0          0.0          0.0          0.0     0.000000          0.0   \n",
       "1    0.0          0.0          0.0          0.0     0.000000          0.0   \n",
       "2    0.0          0.0          0.0          0.0     0.000000          0.0   \n",
       "3    0.0          0.0          0.0          0.0     2.062137          0.0   \n",
       "4    0.0          0.0          0.0          0.0     0.883773          0.0   \n",
       "..   ...          ...          ...          ...          ...          ...   \n",
       "461  0.0          0.0          0.0          0.0     0.000000          0.0   \n",
       "462  0.0          0.0          0.0          0.0     0.000000          0.0   \n",
       "463  0.0          0.0          0.0          0.0     0.000000          0.0   \n",
       "464  0.0          0.0          0.0          0.0     0.000000          0.0   \n",
       "465  0.0          0.0          0.0          0.0     0.000000          0.0   \n",
       "\n",
       "     C0501STA201  C0501STA217  C0501STA219  C0501STA228  ...    SCS202  \\\n",
       "0            0.0          0.0          0.0          0.0  ...  0.000000   \n",
       "1            0.0          0.0          0.0          0.0  ...  0.000000   \n",
       "2            0.0          0.0          0.0          0.0  ...  0.000000   \n",
       "3            0.0          0.0          0.0          0.0  ...  0.000000   \n",
       "4            0.0          0.0          0.0          0.0  ...  0.000000   \n",
       "..           ...          ...          ...          ...  ...       ...   \n",
       "461          0.0          0.0          0.0          0.0  ...  0.741268   \n",
       "462          0.0          0.0          0.0          0.0  ...  0.317686   \n",
       "463          0.0          0.0          0.0          0.0  ...  0.741328   \n",
       "464          0.0          0.0          0.0          0.0  ...  0.317712   \n",
       "465          0.0          0.0          0.0          0.0  ...  0.741316   \n",
       "\n",
       "       SCS203    SCS204    SCS205  SCS206    SCSM20  C1404RDC146  C1404STA149  \\\n",
       "0    0.000000  0.000000  0.000000     0.0  0.000000          0.0     0.000000   \n",
       "1    0.000000  0.000000  0.000000     0.0  0.000000          0.0     0.000000   \n",
       "2    0.000000  0.000000  0.000000     0.0  0.000000          0.0     0.000000   \n",
       "3    0.000000  0.000000  0.000000     0.0  0.000000          0.0     0.000000   \n",
       "4    0.000000  0.000000  0.000000     0.0  0.000000          0.0     0.000000   \n",
       "..        ...       ...       ...     ...       ...          ...          ...   \n",
       "461  0.741172  0.000000  3.916931     0.0  3.385884          0.0     0.000000   \n",
       "462  1.058899  0.741247  4.235067     0.0  3.597478          0.0     0.000000   \n",
       "463  0.317680  1.058880  2.753261     0.0  1.269741          0.0     0.741301   \n",
       "464  0.000000  1.058981  2.117555     0.0  0.000000          0.0     0.317700   \n",
       "465  0.000000  0.317709  0.635202     0.0  0.000000          0.0     0.741342   \n",
       "\n",
       "     C14PTT202  log_totes  \n",
       "0     0.000000   3.591024  \n",
       "1     0.000000   3.482777  \n",
       "2     0.000000   3.162658  \n",
       "3     0.000000   3.512540  \n",
       "4     0.000000   3.494485  \n",
       "..         ...        ...  \n",
       "461   0.317295   3.936716  \n",
       "462   0.000000   4.332048  \n",
       "463   2.960411   4.177204  \n",
       "464   2.008558   4.054390  \n",
       "465   5.496702   3.939962  \n",
       "\n",
       "[16736 rows x 1162 columns]"
      ]
     },
     "execution_count": 19,
     "metadata": {},
     "output_type": "execute_result"
    }
   ],
   "source": [
    "df.drop(['Availability','Blue Tote Loss','Grey Tote Loss','timestamp'],axis=1)"
   ]
  },
  {
   "cell_type": "code",
   "execution_count": null,
   "metadata": {},
   "outputs": [],
   "source": []
  }
 ],
 "metadata": {
  "kernelspec": {
   "display_name": "Python 3",
   "language": "python",
   "name": "python3"
  },
  "language_info": {
   "codemirror_mode": {
    "name": "ipython",
    "version": 3
   },
   "file_extension": ".py",
   "mimetype": "text/x-python",
   "name": "python",
   "nbconvert_exporter": "python",
   "pygments_lexer": "ipython3",
   "version": "3.8.3"
  }
 },
 "nbformat": 4,
 "nbformat_minor": 4
}
