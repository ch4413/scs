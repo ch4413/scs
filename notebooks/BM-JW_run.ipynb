{
 "cells": [
  {
   "cell_type": "code",
   "execution_count": 1,
   "metadata": {},
   "outputs": [],
   "source": [
    "import pandas as pd\n",
    "import numpy as np\n",
    "import seaborn as sns\n",
    "import matplotlib.pyplot as plt\n",
    "%matplotlib inline\n",
    "\n",
    "import scsavailability as scs\n",
    "    \n",
    "import statsmodels.api as sm\n",
    "from scipy import stats\n",
    "\n",
    "from scsavailability import features as feat, model as md, plotting as pt, score as sc"
   ]
  },
  {
   "cell_type": "code",
   "execution_count": 2,
   "metadata": {},
   "outputs": [],
   "source": [
    "path = 'C:/Users/Jamie.williams/OneDrive - Newton Europe Ltd/Castle Donnington/Data/'"
   ]
  },
  {
   "cell_type": "code",
   "execution_count": 3,
   "metadata": {},
   "outputs": [],
   "source": [
    "at = pd.read_csv(path+'active_totes_20201210.csv')\n",
    "av = pd.read_csv(path+'Availability_with_Grey&Blue_1811-0912.csv',names = [\"timestamp\",\"Pick Station\",\"Availability\",\"Blue Tote Loss\",\"Grey Tote Loss\"])\n",
    "#fa = pd.read_csv(path + 'scs_tote_matched.csv')\n",
    "scs_raw = pd.read_csv(path + 'Faults20_11-10_12.csv')"
   ]
  },
  {
   "cell_type": "code",
   "execution_count": 4,
   "metadata": {},
   "outputs": [
    {
     "name": "stdout",
     "output_type": "stream",
     "text": [
      "Running: Function \"load_tote_lookup\" (id=1898467720928) was called 1 times\n"
     ]
    },
    {
     "name": "stderr",
     "output_type": "stream",
     "text": [
      "2021-01-06 18:07:17,129 - NumExpr defaulting to 8 threads.\n"
     ]
    }
   ],
   "source": [
    "fa = feat.add_code(scs_raw)\n",
    "fa, unmapped = feat.add_tote_colour(fa)"
   ]
  },
  {
   "cell_type": "code",
   "execution_count": 5,
   "metadata": {},
   "outputs": [
    {
     "ename": "NameError",
     "evalue": "name 'at_raw' is not defined",
     "output_type": "error",
     "traceback": [
      "\u001b[1;31m---------------------------------------------------------------------------\u001b[0m",
      "\u001b[1;31mNameError\u001b[0m                                 Traceback (most recent call last)",
      "\u001b[1;32m<ipython-input-5-aa677547ca90>\u001b[0m in \u001b[0;36m<module>\u001b[1;34m\u001b[0m\n\u001b[1;32m----> 1\u001b[1;33m \u001b[0mat\u001b[0m \u001b[1;33m=\u001b[0m \u001b[0mfeat\u001b[0m\u001b[1;33m.\u001b[0m\u001b[0mpre_process_AT\u001b[0m\u001b[1;33m(\u001b[0m\u001b[0mat_raw\u001b[0m\u001b[1;33m)\u001b[0m\u001b[1;33m\u001b[0m\u001b[1;33m\u001b[0m\u001b[0m\n\u001b[0m",
      "\u001b[1;31mNameError\u001b[0m: name 'at_raw' is not defined"
     ]
    }
   ],
   "source": [
    "at = feat.pre_process_AT(at_raw)"
   ]
  },
  {
   "cell_type": "code",
   "execution_count": null,
   "metadata": {},
   "outputs": [],
   "source": [
    "av = feat.pre_process_av(av)"
   ]
  },
  {
   "cell_type": "code",
   "execution_count": null,
   "metadata": {},
   "outputs": [],
   "source": [
    "fa = feat.preprocess_faults(fa,remove_same_location_faults = True)"
   ]
  },
  {
   "cell_type": "code",
   "execution_count": null,
   "metadata": {},
   "outputs": [],
   "source": [
    "fa_floor = feat.floor_shift_time_fa(fa, shift=20)\n",
    "fa_sel = feat.fault_select(fa_floor, fault_select_options = {'Tote Colour':['Both','Blue','Grey']},duration_thres = 1)"
   ]
  },
  {
   "cell_type": "code",
   "execution_count": null,
   "metadata": {},
   "outputs": [],
   "source": [
    "def run_m(module, fa_floor, av, at):\n",
    "    \"\"\"\n",
    "    Summary\n",
    "    -------\n",
    "    Runs model-level linear model and outputs the \"significant\" asset codes and their coefficients.\n",
    "    1. Select Module-related faults\n",
    "    2. Filter out rare asset codes\n",
    "    3. Fit Model\n",
    "    4. Remove high p-values\n",
    "    5. Re-fit model\n",
    "    6. Report negative coefficients\n",
    "    ----------\n",
    "    module: int\n",
    "        module number\n",
    "    fa_floor: pandas DataFrame\n",
    "        formatted faults data\n",
    "    av: pandas DataFrame\n",
    "        formatted availability data\n",
    "    at: pandas DataFrame\n",
    "        formatted active totes data\n",
    "    Returns\n",
    "    -------\n",
    "    df_r: pandas DataFrame\n",
    "        significant coefficients\n",
    "    Example\n",
    "    --------\n",
    "    df_r = run_m(2, fa_floor, av, at)\n",
    "    \"\"\"\n",
    "    \n",
    "    mod = [str(module)]\n",
    "    \n",
    "    \n",
    "    fa_sel_1 = feat.get_data_faults(fa_floor, modules = mod)\n",
    "    limit = 250\n",
    "    most_common = list(((fa_sel_1['Asset Code'].value_counts() > limit)[fa_sel_1['Asset Code'].value_counts() > limit]).index)\n",
    "    fa_sel = fa_sel_1[fa_sel_1['Asset Code'].isin(most_common)]\n",
    "\n",
    "\n",
    "    fa_agg = feat.faults_aggregate(fa_sel, fault_agg_level= 'Asset Code', agg_type = 'count')\n",
    "\n",
    "    av_sel, at_sel = feat.av_at_select(av, at, remove_high_AT = True, availability_select_options = {\"Module\" : mod})\n",
    "\n",
    "    av_agg = feat.aggregate_availability(av_sel, agg_level = 'Module')\n",
    "    at_agg = feat.aggregate_totes(at_sel, agg_level = 'Module')\n",
    "\n",
    "    df = feat.merge_av_fa_at(av_agg ,at_df=at_agg, fa_df = fa_agg, agg_level = 'None')\n",
    "    X,y = md.gen_feat_var(df, features = ['Totes','Faults'])\n",
    "    #X = X.drop('Module', axis=1)\n",
    "    # Flip to availability\n",
    "    y=1-y\n",
    "  \n",
    "\n",
    "    X_train, X_test, y_train, y_test = md.split(X,y)\n",
    "    Linear_mdl,predictions_LM,Coeff,fit_metrics = md.run_LR_model(X_train, X_test, y_train, y_test)\n",
    "    cv_R2 = md.cross_validate_r2(Linear_mdl, X, y, n_folds = 5, shuffle = True, random_state = 101)    \n",
    "    \n",
    "    model = sm.OLS(y,X)\n",
    "    results = model.fit()\n",
    "    keep_features = results.pvalues[results.pvalues < 0.10].index\n",
    "    model = sm.OLS(y,X[keep_features])\n",
    "    results = model.fit()\n",
    "    negs = results.params[results.params < 0]\n",
    "    df_r = pd.DataFrame(negs, columns=['Coefficient']).reset_index()\n",
    "    df_r['Module'] = module\n",
    "    return df_r"
   ]
  },
  {
   "cell_type": "code",
   "execution_count": null,
   "metadata": {},
   "outputs": [],
   "source": [
    "a = run_m(1, fa_sel, av, at)"
   ]
  },
  {
   "cell_type": "code",
   "execution_count": null,
   "metadata": {},
   "outputs": [],
   "source": [
    "full_df = pd.DataFrame(columns=['index','Coefficient', 'Module'])\n",
    "for i in range(1, 21):\n",
    "    try:\n",
    "        a = run_m(i, fa_sel, av, at)\n",
    "        full_df = full_df.append(a)\n",
    "        print(i)\n",
    "    except:\n",
    "        print(f'Missing Module: {0}'.format(i))"
   ]
  },
  {
   "cell_type": "code",
   "execution_count": null,
   "metadata": {},
   "outputs": [],
   "source": [
    "full_df"
   ]
  },
  {
   "cell_type": "markdown",
   "metadata": {},
   "source": [
    "### Take last day of faults"
   ]
  },
  {
   "cell_type": "code",
   "execution_count": null,
   "metadata": {},
   "outputs": [],
   "source": [
    "fa.groupby('MODULE')['Fault ID'].nunique().reset_index().head()"
   ]
  },
  {
   "cell_type": "code",
   "execution_count": null,
   "metadata": {},
   "outputs": [],
   "source": [
    "fa_recent = fa[(fa['timestamp'].dt.day == fa['timestamp'].dt.day.max())]"
   ]
  },
  {
   "cell_type": "code",
   "execution_count": null,
   "metadata": {},
   "outputs": [],
   "source": [
    "fa_recent[fa_recent['Asset Code'].isin(full_df['index'])]"
   ]
  },
  {
   "cell_type": "code",
   "execution_count": null,
   "metadata": {},
   "outputs": [],
   "source": [
    "fa_recent[fa_recent['Asset Code'].isin(full_df['index'])]['Fault ID'].value_counts()"
   ]
  },
  {
   "cell_type": "code",
   "execution_count": null,
   "metadata": {},
   "outputs": [],
   "source": [
    "fa_recent[fa_recent['Asset Code'].isin(full_df['index'])]['Duration'].hist()"
   ]
  }
 ],
 "metadata": {
  "kernelspec": {
   "display_name": "Python 3",
   "language": "python",
   "name": "python3"
  },
  "language_info": {
   "codemirror_mode": {
    "name": "ipython",
    "version": 3
   },
   "file_extension": ".py",
   "mimetype": "text/x-python",
   "name": "python",
   "nbconvert_exporter": "python",
   "pygments_lexer": "ipython3",
   "version": "3.8.3"
  }
 },
 "nbformat": 4,
 "nbformat_minor": 4
}
