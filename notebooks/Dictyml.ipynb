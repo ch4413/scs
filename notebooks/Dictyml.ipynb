{
 "cells": [
  {
   "cell_type": "code",
   "execution_count": 1,
   "metadata": {},
   "outputs": [],
   "source": [
    "import yaml"
   ]
  },
  {
   "cell_type": "code",
   "execution_count": 10,
   "metadata": {},
   "outputs": [],
   "source": [
    "with open(r'../config.yml') as file:\n",
    "    # The FullLoader parameter handles the conversion from YAML\n",
    "    # scalar values to Python the dictionary format\n",
    "    yml_dict = yaml.load(file, Loader=yaml.FullLoader)"
   ]
  },
  {
   "cell_type": "code",
   "execution_count": 11,
   "metadata": {},
   "outputs": [
    {
     "data": {
      "text/plain": [
       "{'path': {'totes': 'raw_data/active_totes_20201123.csv',\n",
       "  'availability': 'raw_data/Availability_with_Grey&Blue_1811-2511.csv',\n",
       "  'faults': 'raw_data/SCS alerts Nov.csv',\n",
       "  'save': 'raw_data/results'},\n",
       " 'features': {'same_location_fault': 'True',\n",
       "  'shift': 0,\n",
       "  'fault_select_options': {'Tote Colour': ['Blue']},\n",
       "  'duration_thres': 1,\n",
       "  'fault_grouping': 'code',\n",
       "  'agg_type': 'count',\n",
       "  'filter_select_options': {'Module': [1]},\n",
       "  'remove_high_AT': 'True',\n",
       "  'aggregation': 'None',\n",
       "  'weights': [1, 0.5, 0.25],\n",
       "  'min_date': 'None',\n",
       "  'max_date': 'None'},\n",
       " 'model': {'target': 'Downtime',\n",
       "  'features': ['Totes', 'Faults'],\n",
       "  'split_options': {'test_size': 0.2, 'random_state': 'None'},\n",
       "  'RF_options': {'num_trees': 100,\n",
       "   'criterion': 'mse',\n",
       "   'max_depth': 'None',\n",
       "   'dtree': False},\n",
       "  'XGB_options': {'num_trees': 100, 'max_depth': 'None'},\n",
       "  'selection_options': {'threshold': 'mean'}}}"
      ]
     },
     "execution_count": 11,
     "metadata": {},
     "output_type": "execute_result"
    }
   ],
   "source": [
    "yml_dict"
   ]
  },
  {
   "cell_type": "code",
   "execution_count": 17,
   "metadata": {},
   "outputs": [],
   "source": [
    "yml_dict['features']['filter_select_options'] = {'Module': [3]}"
   ]
  },
  {
   "cell_type": "code",
   "execution_count": 19,
   "metadata": {},
   "outputs": [],
   "source": [
    "with open(r'..\\config_jup.yml', 'w') as file:\n",
    "    documents = yaml.dump(yml_dict, file)"
   ]
  }
 ],
 "metadata": {
  "kernelspec": {
   "display_name": "Python 3",
   "language": "python",
   "name": "python3"
  },
  "language_info": {
   "codemirror_mode": {
    "name": "ipython",
    "version": 3
   },
   "file_extension": ".py",
   "mimetype": "text/x-python",
   "name": "python",
   "nbconvert_exporter": "python",
   "pygments_lexer": "ipython3",
   "version": "3.8.3"
  }
 },
 "nbformat": 4,
 "nbformat_minor": 4
}
