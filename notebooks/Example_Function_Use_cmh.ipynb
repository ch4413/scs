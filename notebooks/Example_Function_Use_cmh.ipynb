{
 "cells": [
  {
   "cell_type": "code",
   "execution_count": 1,
   "metadata": {},
   "outputs": [],
   "source": [
    "import pandas as pd\n",
    "import numpy as np\n",
    "import matplotlib.pyplot as plt\n",
    "import seaborn as sns"
   ]
  },
  {
   "cell_type": "code",
   "execution_count": 2,
   "metadata": {},
   "outputs": [],
   "source": [
    "from scsavailability import model as md, features as ft"
   ]
  },
  {
   "cell_type": "code",
   "execution_count": 3,
   "metadata": {},
   "outputs": [],
   "source": [
    "path = 'C:/Users/chris.hughes/Documents/git/scs/data/'"
   ]
  },
  {
   "cell_type": "code",
   "execution_count": 4,
   "metadata": {},
   "outputs": [
    {
     "name": "stdout",
     "output_type": "stream",
     "text": [
      "Quadrants Assigned\n",
      "Modules Assigned\n",
      "duplicated location faults removed - max duration kept\n",
      "Fault and availability data pre-processed\n",
      "Time shifted by 0m\n",
      "Faults aggregated and pivoted\n",
      "Availability data aggregated\n",
      "Availability and fault datasets merged\n"
     ]
    },
    {
     "data": {
      "text/html": [
       "<div>\n",
       "<style scoped>\n",
       "    .dataframe tbody tr th:only-of-type {\n",
       "        vertical-align: middle;\n",
       "    }\n",
       "\n",
       "    .dataframe tbody tr th {\n",
       "        vertical-align: top;\n",
       "    }\n",
       "\n",
       "    .dataframe thead th {\n",
       "        text-align: right;\n",
       "    }\n",
       "</style>\n",
       "<table border=\"1\" class=\"dataframe\">\n",
       "  <thead>\n",
       "    <tr style=\"text-align: right;\">\n",
       "      <th></th>\n",
       "      <th>Datetime</th>\n",
       "      <th>Downtime</th>\n",
       "      <th>0</th>\n",
       "      <th>3000</th>\n",
       "      <th>3104</th>\n",
       "      <th>3107</th>\n",
       "      <th>3114</th>\n",
       "      <th>3211</th>\n",
       "      <th>3222</th>\n",
       "      <th>3415</th>\n",
       "      <th>...</th>\n",
       "      <th>11656</th>\n",
       "      <th>11816</th>\n",
       "      <th>11822</th>\n",
       "      <th>11823</th>\n",
       "      <th>11824</th>\n",
       "      <th>11848</th>\n",
       "      <th>12008</th>\n",
       "      <th>12014</th>\n",
       "      <th>12015</th>\n",
       "      <th>12016</th>\n",
       "    </tr>\n",
       "  </thead>\n",
       "  <tbody>\n",
       "    <tr>\n",
       "      <th>0</th>\n",
       "      <td>2020-10-16 06:00:00</td>\n",
       "      <td>0.370236</td>\n",
       "      <td>331</td>\n",
       "      <td>0</td>\n",
       "      <td>347</td>\n",
       "      <td>0.0</td>\n",
       "      <td>0</td>\n",
       "      <td>0.0</td>\n",
       "      <td>0</td>\n",
       "      <td>0</td>\n",
       "      <td>...</td>\n",
       "      <td>0</td>\n",
       "      <td>0</td>\n",
       "      <td>0</td>\n",
       "      <td>0</td>\n",
       "      <td>0</td>\n",
       "      <td>0</td>\n",
       "      <td>0</td>\n",
       "      <td>0</td>\n",
       "      <td>0</td>\n",
       "      <td>0</td>\n",
       "    </tr>\n",
       "    <tr>\n",
       "      <th>1</th>\n",
       "      <td>2020-10-16 07:00:00</td>\n",
       "      <td>0.327088</td>\n",
       "      <td>466</td>\n",
       "      <td>0</td>\n",
       "      <td>1700</td>\n",
       "      <td>0.0</td>\n",
       "      <td>0</td>\n",
       "      <td>0.0</td>\n",
       "      <td>0</td>\n",
       "      <td>0</td>\n",
       "      <td>...</td>\n",
       "      <td>4</td>\n",
       "      <td>0</td>\n",
       "      <td>30</td>\n",
       "      <td>0</td>\n",
       "      <td>0</td>\n",
       "      <td>0</td>\n",
       "      <td>0</td>\n",
       "      <td>80</td>\n",
       "      <td>0</td>\n",
       "      <td>0</td>\n",
       "    </tr>\n",
       "    <tr>\n",
       "      <th>2</th>\n",
       "      <td>2020-10-16 08:00:00</td>\n",
       "      <td>0.234701</td>\n",
       "      <td>167</td>\n",
       "      <td>0</td>\n",
       "      <td>0</td>\n",
       "      <td>0.0</td>\n",
       "      <td>0</td>\n",
       "      <td>0.0</td>\n",
       "      <td>0</td>\n",
       "      <td>0</td>\n",
       "      <td>...</td>\n",
       "      <td>0</td>\n",
       "      <td>0</td>\n",
       "      <td>0</td>\n",
       "      <td>0</td>\n",
       "      <td>0</td>\n",
       "      <td>0</td>\n",
       "      <td>0</td>\n",
       "      <td>0</td>\n",
       "      <td>0</td>\n",
       "      <td>0</td>\n",
       "    </tr>\n",
       "  </tbody>\n",
       "</table>\n",
       "<p>3 rows × 204 columns</p>\n",
       "</div>"
      ],
      "text/plain": [
       "             Datetime  Downtime    0  3000  3104  3107  3114  3211  3222  \\\n",
       "0 2020-10-16 06:00:00  0.370236  331     0   347   0.0     0   0.0     0   \n",
       "1 2020-10-16 07:00:00  0.327088  466     0  1700   0.0     0   0.0     0   \n",
       "2 2020-10-16 08:00:00  0.234701  167     0     0   0.0     0   0.0     0   \n",
       "\n",
       "   3415  ...  11656  11816  11822  11823  11824  11848  12008  12014  12015  \\\n",
       "0     0  ...      0      0      0      0      0      0      0      0      0   \n",
       "1     0  ...      4      0     30      0      0      0      0     80      0   \n",
       "2     0  ...      0      0      0      0      0      0      0      0      0   \n",
       "\n",
       "   12016  \n",
       "0      0  \n",
       "1      0  \n",
       "2      0  \n",
       "\n",
       "[3 rows x 204 columns]"
      ]
     },
     "execution_count": 4,
     "metadata": {},
     "output_type": "execute_result"
    }
   ],
   "source": [
    "av_raw = pd.read_csv(path+\"Availability_for_ML.csv\")\n",
    "fa_nov = pd.read_csv(path+\"SCS_Alerts_NOV.csv\")\n",
    "fa_oct = pd.read_csv(path+\"SCS_Alerts_OCT.csv\")\n",
    "\n",
    "data = ft.pre_process_av_and_fa_oct_nov(av_raw,fa_oct,fa_nov,remove_same_location_faults = True)\n",
    "\n",
    "fa = data['faults']\n",
    "av = data['availability']\n",
    "\n",
    "fa = ft.floor_time(fa,'Entry time') \n",
    "\n",
    "fa = ft.faults_aggregate_and_pivot(df=fa,\n",
    "                                time_col='Entry time',\n",
    "                                fault_level='fault ID type',\n",
    "                                agg_col='Duration',\n",
    "                                agg_type='sum',#can use mean/count/sum\n",
    "                                quadrant=None) # by default all quadrants are kept\n",
    "\n",
    "av = ft.availability_quadrant_mean(df=av,\n",
    "                                time_col='Datetime') # by default all quadrants are kept\n",
    "\n",
    "df = ft.merge_av_fa(av_df=av,\n",
    "                 fa_df=fa,\n",
    "                 min_date=None, \n",
    "                 max_date=None) #specify min/max date if you want to filter data by date\n",
    "\n",
    "\n",
    "#remove columns with only zeros (faults that did not happen in this period of time or quadrant)\n",
    "df = df.loc[:, (df != 0).any(axis=0)]\n",
    "df.head(3)"
   ]
  },
  {
   "cell_type": "code",
   "execution_count": 5,
   "metadata": {},
   "outputs": [
    {
     "name": "stdout",
     "output_type": "stream",
     "text": [
      "Feature Importance Ranking: \n",
      " \n",
      "    Importance Feature\n",
      "0    0.207043    5105\n",
      "1    0.060601    3419\n",
      "2    0.055831    3428\n",
      "3    0.054964    5120\n",
      "4    0.046338    3429\n",
      "5    0.042427    5100\n",
      "6    0.042233    3416\n",
      "7    0.041984    5416\n",
      "8    0.040187    5329\n",
      "9    0.033343    3611\n",
      "\n",
      "Number of Selected Features:30\n",
      "\n",
      "Regression Metrics: \n",
      " \n",
      "              D_Tree         RF  RF Reduced\n",
      "MAE        0.151335   0.100437    0.104041\n",
      "MSE       0.0360151   0.017064    0.017039\n",
      "RMSE       0.189776   0.130630    0.130533\n",
      "MAPE%         47.97  33.120000   33.840000\n",
      "ACC%          52.03  66.880000   66.160000\n",
      "OOB             N/A   0.233167    0.244274\n",
      "R2_Train          1   0.895582    0.896370\n",
      "R2_Pred   -0.451654   0.312194    0.237096\n"
     ]
    },
    {
     "data": {
      "image/png": "[encoded data removed]",
      "text/plain": [
       "<Figure size 1440x360 with 1 Axes>"
      ]
     },
     "metadata": {
      "needs_background": "light"
     },
     "output_type": "display_data"
    }
   ],
   "source": [
    "#df = df.reset_index()\n",
    "md.run_model(df,num_trees=100)"
   ]
  },
  {
   "cell_type": "code",
   "execution_count": null,
   "metadata": {},
   "outputs": [],
   "source": []
  }
 ],
 "metadata": {
  "kernelspec": {
   "display_name": "Python 3",
   "language": "python",
   "name": "python3"
  },
  "language_info": {
   "codemirror_mode": {
    "name": "ipython",
    "version": 3
   },
   "file_extension": ".py",
   "mimetype": "text/x-python",
   "name": "python",
   "nbconvert_exporter": "python",
   "pygments_lexer": "ipython3",
   "version": "3.8.3"
  }
 },
 "nbformat": 4,
 "nbformat_minor": 4
}
