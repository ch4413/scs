{
 "cells": [
  {
   "cell_type": "code",
   "execution_count": 1,
   "metadata": {},
   "outputs": [],
   "source": [
    "import pandas as pd"
   ]
  },
  {
   "cell_type": "code",
   "execution_count": 2,
   "metadata": {},
   "outputs": [],
   "source": [
    "scs = pd.read_csv('../data/SCS alerts Nov.csv')"
   ]
  },
  {
   "cell_type": "code",
   "execution_count": 3,
   "metadata": {},
   "outputs": [
    {
     "data": {
      "text/html": [
       "<div>\n",
       "<style scoped>\n",
       "    .dataframe tbody tr th:only-of-type {\n",
       "        vertical-align: middle;\n",
       "    }\n",
       "\n",
       "    .dataframe tbody tr th {\n",
       "        vertical-align: top;\n",
       "    }\n",
       "\n",
       "    .dataframe thead th {\n",
       "        text-align: right;\n",
       "    }\n",
       "</style>\n",
       "<table border=\"1\" class=\"dataframe\">\n",
       "  <thead>\n",
       "    <tr style=\"text-align: right;\">\n",
       "      <th></th>\n",
       "      <th>Number</th>\n",
       "      <th>Alert</th>\n",
       "      <th>Entry time</th>\n",
       "      <th>PLC</th>\n",
       "      <th>Desk</th>\n",
       "      <th>Duration</th>\n",
       "      <th>Fault ID</th>\n",
       "    </tr>\n",
       "  </thead>\n",
       "  <tbody>\n",
       "    <tr>\n",
       "      <th>0</th>\n",
       "      <td>141254</td>\n",
       "      <td>C17: C1701STA254 254B12 occupancy sensor fault</td>\n",
       "      <td>01/11/2020 00:00</td>\n",
       "      <td>C17</td>\n",
       "      <td>P01</td>\n",
       "      <td>0.00:00:13</td>\n",
       "      <td>3416</td>\n",
       "    </tr>\n",
       "    <tr>\n",
       "      <th>1</th>\n",
       "      <td>138183</td>\n",
       "      <td>C17: C1701STA012 012B13 occupancy sensor fault</td>\n",
       "      <td>01/11/2020 00:00</td>\n",
       "      <td>C17</td>\n",
       "      <td>P01</td>\n",
       "      <td>0.00:00:03</td>\n",
       "      <td>3416</td>\n",
       "    </tr>\n",
       "    <tr>\n",
       "      <th>2</th>\n",
       "      <td>122518</td>\n",
       "      <td>C15: C1502STA034 034B12 occupancy sensor fault</td>\n",
       "      <td>01/11/2020 00:00</td>\n",
       "      <td>C15</td>\n",
       "      <td>P02</td>\n",
       "      <td>0.00:00:05</td>\n",
       "      <td>3416</td>\n",
       "    </tr>\n",
       "    <tr>\n",
       "      <th>3</th>\n",
       "      <td>444609</td>\n",
       "      <td>SCS M09: single module 1 emergency stop unit  ...</td>\n",
       "      <td>01/11/2020 00:00</td>\n",
       "      <td>SCSM09</td>\n",
       "      <td>SCSM09</td>\n",
       "      <td>0.00:00:13</td>\n",
       "      <td>10408</td>\n",
       "    </tr>\n",
       "    <tr>\n",
       "      <th>4</th>\n",
       "      <td>139815</td>\n",
       "      <td>C17: C1701STA112 112B13 occupancy sensor fault</td>\n",
       "      <td>01/11/2020 00:00</td>\n",
       "      <td>C17</td>\n",
       "      <td>P01</td>\n",
       "      <td>0.00:00:08</td>\n",
       "      <td>3416</td>\n",
       "    </tr>\n",
       "  </tbody>\n",
       "</table>\n",
       "</div>"
      ],
      "text/plain": [
       "   Number                                              Alert  \\\n",
       "0  141254     C17: C1701STA254 254B12 occupancy sensor fault   \n",
       "1  138183     C17: C1701STA012 012B13 occupancy sensor fault   \n",
       "2  122518     C15: C1502STA034 034B12 occupancy sensor fault   \n",
       "3  444609  SCS M09: single module 1 emergency stop unit  ...   \n",
       "4  139815     C17: C1701STA112 112B13 occupancy sensor fault   \n",
       "\n",
       "        Entry time      PLC    Desk    Duration  Fault ID  \n",
       "0  01/11/2020 00:00     C17     P01  0.00:00:13      3416  \n",
       "1  01/11/2020 00:00     C17     P01  0.00:00:03      3416  \n",
       "2  01/11/2020 00:00     C15     P02  0.00:00:05      3416  \n",
       "3  01/11/2020 00:00  SCSM09  SCSM09  0.00:00:13     10408  \n",
       "4  01/11/2020 00:00     C17     P01  0.00:00:08      3416  "
      ]
     },
     "execution_count": 3,
     "metadata": {},
     "output_type": "execute_result"
    }
   ],
   "source": [
    "scs.head()"
   ]
  },
  {
   "cell_type": "code",
   "execution_count": 4,
   "metadata": {},
   "outputs": [],
   "source": [
    "scs['code'] = scs['Alert'].str.extract('(^[A-Z]{3}[0-9]{3}|[A-Z][0-9]{4}[A-Z]{3}[0-9]{3}|[A-Z]{3} [A-Z][0-9]{2})')\n",
    "scs['code'] = scs['Alert'].str.extract('([A-Z][0-9]{4}[A-Z]{3}[0-9]{3})')"
   ]
  },
  {
   "cell_type": "code",
   "execution_count": 5,
   "metadata": {},
   "outputs": [
    {
     "data": {
      "text/plain": [
       "C1701STA112    3811\n",
       "C1701STA254    2726\n",
       "C2301STA175    2670\n",
       "C2301RDC061    2481\n",
       "C1404STA164    1961\n",
       "               ... \n",
       "C0802STA074       1\n",
       "C1601BCL182       1\n",
       "C0904STA158       1\n",
       "C1002ACH055       1\n",
       "C1603ACH017       1\n",
       "Name: code, Length: 1382, dtype: int64"
      ]
     },
     "execution_count": 5,
     "metadata": {},
     "output_type": "execute_result"
    }
   ],
   "source": [
    "scs['code'].value_counts()"
   ]
  },
  {
   "cell_type": "markdown",
   "metadata": {},
   "source": [
    "### Failed Matches"
   ]
  },
  {
   "cell_type": "code",
   "execution_count": 6,
   "metadata": {},
   "outputs": [
    {
     "data": {
      "text/plain": [
       "True     100635\n",
       "False     73455\n",
       "Name: code, dtype: int64"
      ]
     },
     "execution_count": 6,
     "metadata": {},
     "output_type": "execute_result"
    }
   ],
   "source": [
    "scs['code'].isna().value_counts()"
   ]
  },
  {
   "cell_type": "code",
   "execution_count": 7,
   "metadata": {},
   "outputs": [
    {
     "data": {
      "text/html": [
       "<div>\n",
       "<style scoped>\n",
       "    .dataframe tbody tr th:only-of-type {\n",
       "        vertical-align: middle;\n",
       "    }\n",
       "\n",
       "    .dataframe tbody tr th {\n",
       "        vertical-align: top;\n",
       "    }\n",
       "\n",
       "    .dataframe thead th {\n",
       "        text-align: right;\n",
       "    }\n",
       "</style>\n",
       "<table border=\"1\" class=\"dataframe\">\n",
       "  <thead>\n",
       "    <tr style=\"text-align: right;\">\n",
       "      <th></th>\n",
       "      <th>Number</th>\n",
       "      <th>Alert</th>\n",
       "      <th>Entry time</th>\n",
       "      <th>PLC</th>\n",
       "      <th>Desk</th>\n",
       "      <th>Duration</th>\n",
       "      <th>Fault ID</th>\n",
       "      <th>code</th>\n",
       "    </tr>\n",
       "  </thead>\n",
       "  <tbody>\n",
       "    <tr>\n",
       "      <th>3</th>\n",
       "      <td>444609</td>\n",
       "      <td>SCS M09: single module 1 emergency stop unit  ...</td>\n",
       "      <td>01/11/2020 00:00</td>\n",
       "      <td>SCSM09</td>\n",
       "      <td>SCSM09</td>\n",
       "      <td>0.00:00:13</td>\n",
       "      <td>10408</td>\n",
       "      <td>NaN</td>\n",
       "    </tr>\n",
       "    <tr>\n",
       "      <th>6</th>\n",
       "      <td>439304</td>\n",
       "      <td>SCS228: load device: Schaefer Roll Gap B15 X:2...</td>\n",
       "      <td>01/11/2020 00:00</td>\n",
       "      <td>SCSM22</td>\n",
       "      <td>SCS228</td>\n",
       "      <td>0.00:00:07</td>\n",
       "      <td>5103</td>\n",
       "      <td>NaN</td>\n",
       "    </tr>\n",
       "    <tr>\n",
       "      <th>7</th>\n",
       "      <td>52405</td>\n",
       "      <td>C06: C06PTT031_ external unit fault</td>\n",
       "      <td>01/11/2020 00:00</td>\n",
       "      <td>C06</td>\n",
       "      <td>Z</td>\n",
       "      <td>0.00:00:16</td>\n",
       "      <td>3611</td>\n",
       "      <td>NaN</td>\n",
       "    </tr>\n",
       "    <tr>\n",
       "      <th>22</th>\n",
       "      <td>76581</td>\n",
       "      <td>C09: C09PTT102_ external unit fault</td>\n",
       "      <td>01/11/2020 00:02</td>\n",
       "      <td>C09</td>\n",
       "      <td>Z</td>\n",
       "      <td>0.00:00:05</td>\n",
       "      <td>3611</td>\n",
       "      <td>NaN</td>\n",
       "    </tr>\n",
       "    <tr>\n",
       "      <th>23</th>\n",
       "      <td>434103</td>\n",
       "      <td>SCS201: carousel: rotation area left B103  X:4...</td>\n",
       "      <td>01/11/2020 00:02</td>\n",
       "      <td>SCSM20</td>\n",
       "      <td>SCS201</td>\n",
       "      <td>0.00:04:07</td>\n",
       "      <td>5278</td>\n",
       "      <td>NaN</td>\n",
       "    </tr>\n",
       "  </tbody>\n",
       "</table>\n",
       "</div>"
      ],
      "text/plain": [
       "    Number                                              Alert  \\\n",
       "3   444609  SCS M09: single module 1 emergency stop unit  ...   \n",
       "6   439304  SCS228: load device: Schaefer Roll Gap B15 X:2...   \n",
       "7    52405                C06: C06PTT031_ external unit fault   \n",
       "22   76581                C09: C09PTT102_ external unit fault   \n",
       "23  434103  SCS201: carousel: rotation area left B103  X:4...   \n",
       "\n",
       "         Entry time      PLC    Desk    Duration  Fault ID code  \n",
       "3   01/11/2020 00:00  SCSM09  SCSM09  0.00:00:13     10408  NaN  \n",
       "6   01/11/2020 00:00  SCSM22  SCS228  0.00:00:07      5103  NaN  \n",
       "7   01/11/2020 00:00     C06       Z  0.00:00:16      3611  NaN  \n",
       "22  01/11/2020 00:02     C09       Z  0.00:00:05      3611  NaN  \n",
       "23  01/11/2020 00:02  SCSM20  SCS201  0.00:04:07      5278  NaN  "
      ]
     },
     "execution_count": 7,
     "metadata": {},
     "output_type": "execute_result"
    }
   ],
   "source": [
    "scs[scs['code'].isna()].head()"
   ]
  },
  {
   "cell_type": "code",
   "execution_count": 8,
   "metadata": {},
   "outputs": [
    {
     "data": {
      "text/plain": [
       "Z         49033\n",
       "SCSM12     1472\n",
       "SCS184     1467\n",
       "SCSM22     1452\n",
       "SCS222     1385\n",
       "          ...  \n",
       "SCS095       54\n",
       "SCS101       54\n",
       "SCS053       52\n",
       "SCS152       48\n",
       "SCS106       41\n",
       "Name: Desk, Length: 136, dtype: int64"
      ]
     },
     "execution_count": 8,
     "metadata": {},
     "output_type": "execute_result"
    }
   ],
   "source": [
    "scs[scs['code'].isna()]['Desk'].value_counts()"
   ]
  },
  {
   "cell_type": "code",
   "execution_count": 9,
   "metadata": {},
   "outputs": [],
   "source": [
    "bad_matches = scs[scs['code'].isna() & (scs['PLC'] != scs['Desk'])]['Alert']"
   ]
  },
  {
   "cell_type": "code",
   "execution_count": 10,
   "metadata": {},
   "outputs": [
    {
     "data": {
      "text/plain": [
       "(76139, 8)"
      ]
     },
     "execution_count": 10,
     "metadata": {},
     "output_type": "execute_result"
    }
   ],
   "source": [
    "scs.iloc[bad_matches[bad_matches.str.extract('([0-9]{2})')[0].astype('int') < 35].index].shape"
   ]
  },
  {
   "cell_type": "code",
   "execution_count": 13,
   "metadata": {},
   "outputs": [],
   "source": [
    "scs.loc[scs['code'].isna(), 'code'] = scs.loc[scs['code'].isna(), 'PLC']"
   ]
  },
  {
   "cell_type": "code",
   "execution_count": 19,
   "metadata": {},
   "outputs": [],
   "source": [
    "scs['Pick Station'] = scs['Alert'].str.extract('(PTT[0-9]{3})')[0]"
   ]
  },
  {
   "cell_type": "code",
   "execution_count": 21,
   "metadata": {},
   "outputs": [
    {
     "data": {
      "text/plain": [
       "PTT151    2879\n",
       "PTT082    2474\n",
       "PTT202    2401\n",
       "PTT201    1673\n",
       "PTT092    1450\n",
       "PTT141    1425\n",
       "PTT102    1337\n",
       "PTT012    1284\n",
       "PTT101    1259\n",
       "PTT091    1248\n",
       "PTT081    1166\n",
       "PTT172    1134\n",
       "PTT031    1116\n",
       "PTT072    1107\n",
       "PTT182    1076\n",
       "PTT042    1076\n",
       "PTT181    1050\n",
       "PTT131    1014\n",
       "PTT192    1007\n",
       "PTT191    1007\n",
       "PTT071     982\n",
       "PTT171     935\n",
       "PTT142     903\n",
       "PTT032     887\n",
       "PTT132     847\n",
       "PTT022     839\n",
       "PTT041     835\n",
       "PTT122     753\n",
       "PTT011     747\n",
       "PTT152     743\n",
       "PTT112     731\n",
       "PTT051     641\n",
       "PTT111     601\n",
       "PTT021     534\n",
       "PTT052     455\n",
       "PTT121     436\n",
       "Name: Pick Station, dtype: int64"
      ]
     },
     "execution_count": 21,
     "metadata": {},
     "output_type": "execute_result"
    }
   ],
   "source": [
    "scs['Pick Station'].value_counts()"
   ]
  },
  {
   "cell_type": "code",
   "execution_count": 12,
   "metadata": {},
   "outputs": [],
   "source": [
    "scs.to_csv('../data/SCS alerts Nov_with_asset_code.csv', index=False)"
   ]
  },
  {
   "cell_type": "code",
   "execution_count": null,
   "metadata": {},
   "outputs": [],
   "source": []
  }
 ],
 "metadata": {
  "kernelspec": {
   "display_name": "Python 3",
   "language": "python",
   "name": "python3"
  },
  "language_info": {
   "codemirror_mode": {
    "name": "ipython",
    "version": 3
   },
   "file_extension": ".py",
   "mimetype": "text/x-python",
   "name": "python",
   "nbconvert_exporter": "python",
   "pygments_lexer": "ipython3",
   "version": "3.8.3"
  }
 },
 "nbformat": 4,
 "nbformat_minor": 4
}
