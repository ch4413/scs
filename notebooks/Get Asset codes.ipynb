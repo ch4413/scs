{
 "cells": [
  {
   "cell_type": "code",
   "execution_count": 32,
   "metadata": {},
   "outputs": [],
   "source": [
    "import pandas as pd"
   ]
  },
  {
   "cell_type": "code",
   "execution_count": 3,
   "metadata": {},
   "outputs": [],
   "source": [
    "scs = pd.read_csv('../raw_data/SCS alerts Nov.csv')"
   ]
  },
  {
   "cell_type": "code",
   "execution_count": 4,
   "metadata": {},
   "outputs": [],
   "source": [
    "def add_code(data):\n",
    "    \"\"\"\n",
    "    \n",
    "    \"\"\"\n",
    "    scs = data.copy()\n",
    "    scs['code'] = scs['Alert'].str.extract('(^[A-Z]{3}[0-9]{3}|[A-Z][0-9]{4}[A-Z]{3}[0-9]{3}|[A-Z]{3} [A-Z][0-9]{2})')\n",
    "    scs['code'] = scs['Alert'].str.extract('([A-Z][0-9]{4}[A-zZ]{3}[0-9]{3})')\n",
    "    \n",
    "    scs.loc[scs['code'].isna(), 'code'] = scs.loc[scs['code'].isna(), 'PLC']\n",
    "    \n",
    "    #scs['Pick Station'] = scs['Alert'].str.extract('(PTT[0-9]{3})')[0]\n",
    "    return scs"
   ]
  },
  {
   "cell_type": "code",
   "execution_count": 25,
   "metadata": {},
   "outputs": [],
   "source": [
    "def add_tote_colour(scs_code, asset_lu):\n",
    "    \"\"\"\n",
    "    \n",
    "    \"\"\"\n",
    "    df_totes = pd.merge(scs_code, asset_lu.drop('Number', axis=1), how='left', on='code')\n",
    "    df_totes.loc[df_totes['PLC'].isin(['C17', 'C16', 'C15', 'C23']), 'Tote Colour'] = 'Blue'\n",
    "    df_totes['Pick Station'] = df_totes['Alert'].str.contains('PTT[0-9]{3}')\n",
    "    df_totes.loc[df_totes['Pick Station'], 'Tote Colour'] = 'Both'\n",
    "    df_totes['PLC_number'] = df_totes['PLC'].str.extract('((?<=C)[0-9]{2})').fillna(0).astype('int')\n",
    "    df_totes.loc[df_totes['PLC_number'] > 34, 'Tote Colour'] = 'Blue'\n",
    "    \n",
    "    # Unmapped\n",
    "    unmapped = df_totes[df_totes['Tote Colour'].isna()]['code'].value_counts().reset_index().copy()\n",
    "    unmapped = unmapped.rename(columns={'index' : 'Asset', 'code' : 'Occurrence'})\n",
    "    # Map unknown to Both\n",
    "    df_totes.loc[df_totes['Tote Colour'].isna(), 'Tote Colour'] = 'Both'\n",
    "    return df_totes, unmapped"
   ]
  },
  {
   "cell_type": "code",
   "execution_count": 26,
   "metadata": {},
   "outputs": [],
   "source": [
    "asset_lu = pd.read_excel('../raw_data/asset_tote_lookup.xlsx', sheet_name='new_look_up')"
   ]
  },
  {
   "cell_type": "code",
   "execution_count": 27,
   "metadata": {},
   "outputs": [],
   "source": [
    "scs_code = add_code(scs)"
   ]
  },
  {
   "cell_type": "code",
   "execution_count": 28,
   "metadata": {},
   "outputs": [],
   "source": [
    "mapped, unmapped = add_tote_colour(scs_code, asset_lu)"
   ]
  },
  {
   "cell_type": "code",
   "execution_count": 30,
   "metadata": {},
   "outputs": [],
   "source": [
    "unmapped.to_excel('../raw_data/unmapped_assets.xlsx', index=False)"
   ]
  }
 ],
 "metadata": {
  "kernelspec": {
   "display_name": "Python 3",
   "language": "python",
   "name": "python3"
  },
  "language_info": {
   "codemirror_mode": {
    "name": "ipython",
    "version": 3
   },
   "file_extension": ".py",
   "mimetype": "text/x-python",
   "name": "python",
   "nbconvert_exporter": "python",
   "pygments_lexer": "ipython3",
   "version": "3.8.3"
  }
 },
 "nbformat": 4,
 "nbformat_minor": 4
}
