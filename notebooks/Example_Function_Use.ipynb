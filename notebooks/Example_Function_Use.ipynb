{
 "cells": [
  {
   "cell_type": "code",
   "execution_count": 8,
   "metadata": {},
   "outputs": [],
   "source": [
    "import pandas as pd\n",
    "import numpy as np\n",
    "import matplotlib.pyplot as plt\n",
    "import seaborn as sns"
   ]
  },
  {
   "cell_type": "code",
   "execution_count": 9,
   "metadata": {},
   "outputs": [],
   "source": [
    "import sys"
   ]
  },
  {
   "cell_type": "code",
   "execution_count": 10,
   "metadata": {},
   "outputs": [
    {
     "name": "stdout",
     "output_type": "stream",
     "text": [
      "Functions Loaded!\n"
     ]
    }
   ],
   "source": [
    "%run -i functions.py"
   ]
  },
  {
   "cell_type": "code",
   "execution_count": 11,
   "metadata": {},
   "outputs": [],
   "source": [
    "path = 'C:/Users/chris.hughes/Documents/git/scs/data/'"
   ]
  },
  {
   "cell_type": "code",
   "execution_count": 18,
   "metadata": {},
   "outputs": [
    {
     "name": "stdout",
     "output_type": "stream",
     "text": [
      "Quadrants Assigned\n",
      "duplicated location faults removed - max duration kept\n",
      "Fault and availability data pre-processed\n",
      "Dates floored\n",
      "Faults aggregated and pivoted\n",
      "Availability data aggregated by quadrant\n",
      "Availability and fault datasets merged\n"
     ]
    },
    {
     "data": {
      "text/html": [
       "<div>\n",
       "<style scoped>\n",
       "    .dataframe tbody tr th:only-of-type {\n",
       "        vertical-align: middle;\n",
       "    }\n",
       "\n",
       "    .dataframe tbody tr th {\n",
       "        vertical-align: top;\n",
       "    }\n",
       "\n",
       "    .dataframe thead th {\n",
       "        text-align: right;\n",
       "    }\n",
       "</style>\n",
       "<table border=\"1\" class=\"dataframe\">\n",
       "  <thead>\n",
       "    <tr style=\"text-align: right;\">\n",
       "      <th></th>\n",
       "      <th>Datetime</th>\n",
       "      <th>Downtime</th>\n",
       "      <th>0</th>\n",
       "      <th>3000</th>\n",
       "      <th>3104</th>\n",
       "      <th>3107</th>\n",
       "      <th>3114</th>\n",
       "      <th>3211</th>\n",
       "      <th>3222</th>\n",
       "      <th>3415</th>\n",
       "      <th>...</th>\n",
       "      <th>11656</th>\n",
       "      <th>11816</th>\n",
       "      <th>11822</th>\n",
       "      <th>11823</th>\n",
       "      <th>11824</th>\n",
       "      <th>11848</th>\n",
       "      <th>12008</th>\n",
       "      <th>12014</th>\n",
       "      <th>12015</th>\n",
       "      <th>12016</th>\n",
       "    </tr>\n",
       "  </thead>\n",
       "  <tbody>\n",
       "    <tr>\n",
       "      <th>0</th>\n",
       "      <td>2020-10-16 06:00:00</td>\n",
       "      <td>0.370236</td>\n",
       "      <td>331</td>\n",
       "      <td>0</td>\n",
       "      <td>347</td>\n",
       "      <td>0.0</td>\n",
       "      <td>0</td>\n",
       "      <td>0.0</td>\n",
       "      <td>0</td>\n",
       "      <td>0</td>\n",
       "      <td>...</td>\n",
       "      <td>0</td>\n",
       "      <td>0</td>\n",
       "      <td>0</td>\n",
       "      <td>0</td>\n",
       "      <td>0</td>\n",
       "      <td>0</td>\n",
       "      <td>0</td>\n",
       "      <td>0</td>\n",
       "      <td>0</td>\n",
       "      <td>0</td>\n",
       "    </tr>\n",
       "    <tr>\n",
       "      <th>1</th>\n",
       "      <td>2020-10-16 07:00:00</td>\n",
       "      <td>0.327088</td>\n",
       "      <td>466</td>\n",
       "      <td>0</td>\n",
       "      <td>1700</td>\n",
       "      <td>0.0</td>\n",
       "      <td>0</td>\n",
       "      <td>0.0</td>\n",
       "      <td>0</td>\n",
       "      <td>0</td>\n",
       "      <td>...</td>\n",
       "      <td>4</td>\n",
       "      <td>0</td>\n",
       "      <td>30</td>\n",
       "      <td>0</td>\n",
       "      <td>0</td>\n",
       "      <td>0</td>\n",
       "      <td>0</td>\n",
       "      <td>80</td>\n",
       "      <td>0</td>\n",
       "      <td>0</td>\n",
       "    </tr>\n",
       "    <tr>\n",
       "      <th>2</th>\n",
       "      <td>2020-10-16 08:00:00</td>\n",
       "      <td>0.234701</td>\n",
       "      <td>167</td>\n",
       "      <td>0</td>\n",
       "      <td>0</td>\n",
       "      <td>0.0</td>\n",
       "      <td>0</td>\n",
       "      <td>0.0</td>\n",
       "      <td>0</td>\n",
       "      <td>0</td>\n",
       "      <td>...</td>\n",
       "      <td>0</td>\n",
       "      <td>0</td>\n",
       "      <td>0</td>\n",
       "      <td>0</td>\n",
       "      <td>0</td>\n",
       "      <td>0</td>\n",
       "      <td>0</td>\n",
       "      <td>0</td>\n",
       "      <td>0</td>\n",
       "      <td>0</td>\n",
       "    </tr>\n",
       "    <tr>\n",
       "      <th>3</th>\n",
       "      <td>2020-10-16 09:00:00</td>\n",
       "      <td>0.168205</td>\n",
       "      <td>671</td>\n",
       "      <td>0</td>\n",
       "      <td>0</td>\n",
       "      <td>0.0</td>\n",
       "      <td>0</td>\n",
       "      <td>0.0</td>\n",
       "      <td>0</td>\n",
       "      <td>0</td>\n",
       "      <td>...</td>\n",
       "      <td>0</td>\n",
       "      <td>0</td>\n",
       "      <td>0</td>\n",
       "      <td>0</td>\n",
       "      <td>0</td>\n",
       "      <td>0</td>\n",
       "      <td>0</td>\n",
       "      <td>0</td>\n",
       "      <td>0</td>\n",
       "      <td>0</td>\n",
       "    </tr>\n",
       "    <tr>\n",
       "      <th>4</th>\n",
       "      <td>2020-10-16 10:00:00</td>\n",
       "      <td>0.231875</td>\n",
       "      <td>276</td>\n",
       "      <td>0</td>\n",
       "      <td>0</td>\n",
       "      <td>0.0</td>\n",
       "      <td>0</td>\n",
       "      <td>0.0</td>\n",
       "      <td>0</td>\n",
       "      <td>0</td>\n",
       "      <td>...</td>\n",
       "      <td>0</td>\n",
       "      <td>0</td>\n",
       "      <td>0</td>\n",
       "      <td>0</td>\n",
       "      <td>0</td>\n",
       "      <td>7</td>\n",
       "      <td>0</td>\n",
       "      <td>0</td>\n",
       "      <td>63</td>\n",
       "      <td>0</td>\n",
       "    </tr>\n",
       "  </tbody>\n",
       "</table>\n",
       "<p>5 rows × 204 columns</p>\n",
       "</div>"
      ],
      "text/plain": [
       "             Datetime  Downtime    0  3000  3104  3107  3114  3211  3222  \\\n",
       "0 2020-10-16 06:00:00  0.370236  331     0   347   0.0     0   0.0     0   \n",
       "1 2020-10-16 07:00:00  0.327088  466     0  1700   0.0     0   0.0     0   \n",
       "2 2020-10-16 08:00:00  0.234701  167     0     0   0.0     0   0.0     0   \n",
       "3 2020-10-16 09:00:00  0.168205  671     0     0   0.0     0   0.0     0   \n",
       "4 2020-10-16 10:00:00  0.231875  276     0     0   0.0     0   0.0     0   \n",
       "\n",
       "   3415  ...  11656  11816  11822  11823  11824  11848  12008  12014  12015  \\\n",
       "0     0  ...      0      0      0      0      0      0      0      0      0   \n",
       "1     0  ...      4      0     30      0      0      0      0     80      0   \n",
       "2     0  ...      0      0      0      0      0      0      0      0      0   \n",
       "3     0  ...      0      0      0      0      0      0      0      0      0   \n",
       "4     0  ...      0      0      0      0      0      7      0      0     63   \n",
       "\n",
       "   12016  \n",
       "0      0  \n",
       "1      0  \n",
       "2      0  \n",
       "3      0  \n",
       "4      0  \n",
       "\n",
       "[5 rows x 204 columns]"
      ]
     },
     "execution_count": 18,
     "metadata": {},
     "output_type": "execute_result"
    }
   ],
   "source": [
    "av_raw = pd.read_csv(path+\"Availability_for_ML.csv\")\n",
    "fa_nov = pd.read_csv(path+\"SCS_Alerts_NOV.csv\")\n",
    "fa_oct = pd.read_csv(path+\"SCS_Alerts_OCT.csv\")\n",
    "\n",
    "data = pre_process_av_and_fa_oct_nov(av_raw,fa_oct,fa_nov,remove_same_location_faults = True)\n",
    "\n",
    "fa = data['faults']\n",
    "av = data['availability']\n",
    "\n",
    "fa = floor_time(fa,'Entry time',units='H') \n",
    "\n",
    "fa = faults_aggregate_and_pivot(df=fa,\n",
    "                                time_col='Entry time',\n",
    "                                fault_level='fault ID type',\n",
    "                                agg_col='Duration',\n",
    "                                agg_type='sum',#can use mean/count/sum\n",
    "                                quadrant=None) # by default all quadrants are kept\n",
    "\n",
    "av = availability_quadrant_mean(df=av,\n",
    "                                time_col='Datetime',\n",
    "                                quadrant=None) # by default all quadrants are kept\n",
    "\n",
    "df = merge_av_fa(av_df=av,\n",
    "                 fa_df=fa,\n",
    "                 min_date=None, \n",
    "                 max_date=None) #specify min/max date if you want to filter data by date\n",
    "\n",
    "\n",
    "#remove columns with only zeros (faults that did not happen in this period of time or quadrant)\n",
    "df = df.loc[:, (df != 0).any(axis=0)]\n",
    "df.head()"
   ]
  },
  {
   "cell_type": "code",
   "execution_count": 7,
   "metadata": {},
   "outputs": [
    {
     "name": "stdout",
     "output_type": "stream",
     "text": [
      "      Importance\n",
      "5105    0.227485\n",
      "5329    0.068986\n",
      "3419    0.062469\n",
      "5120    0.054794\n",
      "3420    0.046025\n",
      "5100    0.041905\n",
      "3429    0.037200\n",
      "3416    0.037004\n",
      "3504    0.036353\n",
      "3611    0.030750\n",
      "\n",
      "              D_Tree         RF  RF Reduced\n",
      "MAE        0.149475   0.113769    0.115864\n",
      "MSE       0.0379756   0.021191    0.019871\n",
      "RMSE       0.194873   0.145571    0.140965\n",
      "MAPE%         45.85  36.580000   43.660000\n",
      "ACC%          54.15  63.420000   56.340000\n",
      "OOB             N/A   0.278155    0.240620\n",
      "R2_Train          1   0.898672    0.895794\n",
      "R2_Pred   -0.484423   0.171667    0.220456\n"
     ]
    },
    {
     "data": {
      "image/png": "[encoded data removed]",
      "text/plain": [
       "<Figure size 432x288 with 1 Axes>"
      ]
     },
     "metadata": {
      "needs_background": "light"
     },
     "output_type": "display_data"
    },
    {
     "data": {
      "image/png": "[encoded data removed]",
      "text/plain": [
       "<Figure size 432x288 with 1 Axes>"
      ]
     },
     "metadata": {
      "needs_background": "light"
     },
     "output_type": "display_data"
    },
    {
     "data": {
      "image/png": "[encoded data removed]",
      "text/plain": [
       "<Figure size 432x288 with 1 Axes>"
      ]
     },
     "metadata": {
      "needs_background": "light"
     },
     "output_type": "display_data"
    }
   ],
   "source": [
    "#df = df.reset_index()\n",
    "run_model(df,num_trees=100,visualise=False)"
   ]
  }
 ],
 "metadata": {
  "kernelspec": {
   "display_name": "Python 3",
   "language": "python",
   "name": "python3"
  },
  "language_info": {
   "codemirror_mode": {
    "name": "ipython",
    "version": 3
   },
   "file_extension": ".py",
   "mimetype": "text/x-python",
   "name": "python",
   "nbconvert_exporter": "python",
   "pygments_lexer": "ipython3",
   "version": "3.8.3"
  }
 },
 "nbformat": 4,
 "nbformat_minor": 4
}
