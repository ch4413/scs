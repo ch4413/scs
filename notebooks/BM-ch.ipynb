{
 "cells": [
  {
   "cell_type": "code",
   "execution_count": 1,
   "metadata": {},
   "outputs": [
    {
     "name": "stderr",
     "output_type": "stream",
     "text": [
      "2020-12-15 10:38:21,278 - NumExpr defaulting to 8 threads.\n"
     ]
    }
   ],
   "source": [
    "import pandas as pd\n",
    "import numpy as np\n",
    "import seaborn as sns\n",
    "import matplotlib.pyplot as plt\n",
    "%matplotlib inline\n",
    "\n",
    "import scsavailability as scs\n",
    "    \n",
    "import statsmodels.api as sm\n",
    "from scipy import stats\n",
    "\n",
    "from scsavailability import features as feat, model as md, plotting as pt, score as sc"
   ]
  },
  {
   "cell_type": "code",
   "execution_count": 2,
   "metadata": {},
   "outputs": [],
   "source": [
    "path = '../raw_data/'"
   ]
  },
  {
   "cell_type": "code",
   "execution_count": 3,
   "metadata": {},
   "outputs": [],
   "source": [
    "at = pd.read_csv(path+'active_totes_20201123.csv')\n",
    "av = pd.read_csv(path+'Availability_with_Grey&Blue_1811-2511.csv')\n",
    "#fa = pd.read_csv(path + 'scs_tote_matched.csv')\n",
    "scs_raw = pd.read_csv('../raw_data/SCS alerts Nov.csv')"
   ]
  },
  {
   "cell_type": "code",
   "execution_count": 4,
   "metadata": {},
   "outputs": [
    {
     "name": "stdout",
     "output_type": "stream",
     "text": [
      "Running: Function \"load_tote_lookup\" (id=3037260401392) was called 1 times\n"
     ]
    }
   ],
   "source": [
    "fa = feat.add_code(scs_raw)\n",
    "fa, unmapped = feat.add_tote_colour(fa)"
   ]
  },
  {
   "cell_type": "code",
   "execution_count": 5,
   "metadata": {},
   "outputs": [
    {
     "name": "stdout",
     "output_type": "stream",
     "text": [
      "Running: Function \"pre_process_AT\" (id=3037260400240) was called 1 times\n"
     ]
    }
   ],
   "source": [
    "at = feat.pre_process_AT(at)"
   ]
  },
  {
   "cell_type": "code",
   "execution_count": 6,
   "metadata": {},
   "outputs": [
    {
     "name": "stdout",
     "output_type": "stream",
     "text": [
      "Running: Function \"pre_process_av\" (id=3037260401104) was called 1 times\n"
     ]
    }
   ],
   "source": [
    "av = feat.pre_process_av(av)"
   ]
  },
  {
   "cell_type": "code",
   "execution_count": 7,
   "metadata": {},
   "outputs": [
    {
     "name": "stdout",
     "output_type": "stream",
     "text": [
      "Running: Function \"preprocess_faults\" (id=3037260402256) was called 1 times\n",
      "Running: Function \"load_module_lookup\" (id=3037260399520) was called 1 times\n",
      "duplicated location faults removed - max duration kept\n"
     ]
    }
   ],
   "source": [
    "fa = feat.preprocess_faults(fa,remove_same_location_faults = True)"
   ]
  },
  {
   "cell_type": "code",
   "execution_count": 8,
   "metadata": {},
   "outputs": [
    {
     "name": "stdout",
     "output_type": "stream",
     "text": [
      "Time shifted by 0Minutes\n"
     ]
    }
   ],
   "source": [
    "fa_floor = feat.floor_shift_time_fa(fa, shift=0)"
   ]
  },
  {
   "cell_type": "code",
   "execution_count": 9,
   "metadata": {},
   "outputs": [
    {
     "name": "stdout",
     "output_type": "stream",
     "text": [
      "Running: Function \"faults_aggregate\" (id=3037260400816) was called 1 times\n"
     ]
    }
   ],
   "source": [
    "fa_sel = feat.fault_select(fa_floor, fault_select_options = {'Tote Colour':['Blue']})\n",
    "                                                            \n",
    "fa_agg = feat.faults_aggregate(fa_sel, fault_agg_level= None, agg_type = 'count')"
   ]
  },
  {
   "cell_type": "code",
   "execution_count": 10,
   "metadata": {},
   "outputs": [
    {
     "name": "stdout",
     "output_type": "stream",
     "text": [
      "Running: Function \"aggregate_availability\" (id=3037260400960) was called 1 times\n"
     ]
    }
   ],
   "source": [
    "av_sel,at_sel = feat.av_at_select(av, at, remove_high_AT = True,availability_select_options = None)\n",
    "\n",
    "av_agg = feat.aggregate_availability(av_sel, agg_level = None)\n",
    "at_agg = feat.aggregate_totes(at_sel, agg_level = None)"
   ]
  },
  {
   "cell_type": "code",
   "execution_count": 11,
   "metadata": {},
   "outputs": [
    {
     "data": {
      "text/plain": [
       "Index(['Downtime', 'Blue Tote Loss', 'Grey Tote Loss'], dtype='object')"
      ]
     },
     "execution_count": 11,
     "metadata": {},
     "output_type": "execute_result"
    }
   ],
   "source": [
    "av_agg.columns"
   ]
  },
  {
   "cell_type": "code",
   "execution_count": 12,
   "metadata": {},
   "outputs": [
    {
     "name": "stdout",
     "output_type": "stream",
     "text": [
      "Datasets merged\n"
     ]
    }
   ],
   "source": [
    "df = feat.merge_av_fa_at(av_agg ,at_df=at_agg, fa_df = fa_agg, target = 'Blue Tote Loss' ,faults=True, totes = True, agg_level = None,remove_0=True)"
   ]
  },
  {
   "cell_type": "code",
   "execution_count": 13,
   "metadata": {},
   "outputs": [],
   "source": [
    "X,y = md.gen_feat_var(df)\n",
    "y=1-y"
   ]
  },
  {
   "cell_type": "code",
   "execution_count": 14,
   "metadata": {},
   "outputs": [
    {
     "name": "stdout",
     "output_type": "stream",
     "text": [
      "Feature Importance Ranking: \n",
      " \n",
      "    Importance       Feature\n",
      "0     0.93916         TOTES\n",
      "1     0.06084  Total Faults\n",
      "\n",
      "Regression Metrics: \n",
      " \n",
      "          XGB Metrics\n",
      "MAE         0.039359\n",
      "MSE       0.00264334\n",
      "RMSE       0.0514134\n",
      "MAPE%           5.16\n",
      "ACC%           94.84\n",
      "OOB              N/A\n",
      "R2_Train    0.999825\n",
      "R2_Pred     0.606715 \n",
      "\n",
      "\n",
      "Number of Selected Features:1 \n",
      "\n",
      "\n",
      "Number of Selected Features:1 \n",
      "\n",
      "\n",
      "Cross Validation Scores LinearRegression(): \n",
      " \n",
      "        R2 Scores\n",
      "1       0.505582\n",
      "2       0.777573\n",
      "3       0.659544\n",
      "4       0.376290\n",
      "5       0.893787\n",
      "6       0.517489\n",
      "7       0.870516\n",
      "8       0.850289\n",
      "9       0.881829\n",
      "10      0.614691\n",
      "Mean    0.694759\n",
      "STD     0.176871\n",
      "\n",
      "Cross Validation Scores XGBRegressor(base_score=0.5, booster='gbtree', colsample_bylevel=1,\n",
      "             colsample_bynode=1, colsample_bytree=1, gamma=0, gpu_id=-1,\n",
      "             importance_type='gain', interaction_constraints='',\n",
      "             learning_rate=0.300000012, max_delta_step=0, max_depth=6,\n",
      "             min_child_weight=1, missing=nan, monotone_constraints='()',\n",
      "             n_estimators=100, n_jobs=0, num_parallel_tree=1, random_state=0,\n",
      "             reg_alpha=0, reg_lambda=1, scale_pos_weight=1, subsample=1,\n",
      "             tree_method='exact', validate_parameters=1, verbosity=None): \n",
      " \n",
      "        R2 Scores\n",
      "1       0.652132\n",
      "2       0.258643\n",
      "3       0.584967\n",
      "4       0.249747\n",
      "5       0.522309\n",
      "6       0.253433\n",
      "7       0.850906\n",
      "8       0.507665\n",
      "9       0.793916\n",
      "10      0.310710\n",
      "Mean    0.498443\n",
      "STD     0.213991\n"
     ]
    }
   ],
   "source": [
    "X_train, X_test, y_train, y_test = md.split(X,y)\n",
    "\n",
    "#RF_mdl,predictions_RF=md.run_RF_model(X_train, X_test, y_train, y_test,num_trees=100, criterion = 'mse', max_depth=None, dtree=False)\n",
    "\n",
    "Linear_mdl,predictions_LM,Coeff,fit_metrics = md.run_LR_model(X_train, X_test, y_train, y_test)\n",
    "\n",
    "XGB_mdl,predictions_XGB,Importance_XGB = md.run_XGB_model(X_train, X_test, y_train, y_test)\n",
    "\n",
    "maxf = None\n",
    "\n",
    "# X_sel_rf = md.select_features(X, y, RF_mdl, thres = -np.inf, max_feat = maxf)\n",
    "\n",
    "X_sel_lm = md.select_features(X, y, Linear_mdl, selection_options={'thres': 'mean', 'max_feat': None})\n",
    "\n",
    "X_sel_XGB = md.select_features(X, y, XGB_mdl, selection_options={'thres': 'mean', 'max_feat': None})\n",
    "\n",
    "#X_train, X_test, y_train, y_test = md.split(X_sel_lm,y,test_size=0.3,random_state=101)\n",
    "\n",
    "#Linear_mdl,predictions_LM,Coeff,fit_metrics = md.run_LR_model(X_train, X_test, y_train, y_test)\n",
    "\n",
    "\n",
    "cv_R2 = md.cross_validate_r2(Linear_mdl, X_sel_lm, y, n_folds = 10, shuffle = True, random_state = 101)\n",
    "\n",
    "#cv_R2 = md.cross_validate_r2(RF_mdl, X_sel_rf, y, n_folds = 10, shuffle = True, random_state = 101)\n",
    "\n",
    "cv_R2 = md.cross_validate_r2(XGB_mdl, X_sel_XGB, y, n_folds = 10, shuffle = True, random_state = 101)\n",
    "\n",
    "#md.stats_model(Linear_mdl,X_test,y_test)"
   ]
  },
  {
   "cell_type": "markdown",
   "metadata": {},
   "source": [
    "### Add LM - metrics"
   ]
  },
  {
   "cell_type": "code",
   "execution_count": 15,
   "metadata": {},
   "outputs": [
    {
     "data": {
      "text/html": [
       "<div>\n",
       "<style scoped>\n",
       "    .dataframe tbody tr th:only-of-type {\n",
       "        vertical-align: middle;\n",
       "    }\n",
       "\n",
       "    .dataframe tbody tr th {\n",
       "        vertical-align: top;\n",
       "    }\n",
       "\n",
       "    .dataframe thead th {\n",
       "        text-align: right;\n",
       "    }\n",
       "</style>\n",
       "<table border=\"1\" class=\"dataframe\">\n",
       "  <thead>\n",
       "    <tr style=\"text-align: right;\">\n",
       "      <th></th>\n",
       "      <th>Feature</th>\n",
       "      <th>Coefficients</th>\n",
       "      <th>Standard Errors</th>\n",
       "      <th>t values</th>\n",
       "      <th>Probabilities</th>\n",
       "    </tr>\n",
       "  </thead>\n",
       "  <tbody>\n",
       "    <tr>\n",
       "      <th>0</th>\n",
       "      <td>Constant</td>\n",
       "      <td>0.2555</td>\n",
       "      <td>0.028</td>\n",
       "      <td>9.184</td>\n",
       "      <td>0.000</td>\n",
       "    </tr>\n",
       "    <tr>\n",
       "      <th>1</th>\n",
       "      <td>Total Faults</td>\n",
       "      <td>0.0005</td>\n",
       "      <td>0.000</td>\n",
       "      <td>2.799</td>\n",
       "      <td>0.006</td>\n",
       "    </tr>\n",
       "    <tr>\n",
       "      <th>2</th>\n",
       "      <td>TOTES</td>\n",
       "      <td>0.0098</td>\n",
       "      <td>0.000</td>\n",
       "      <td>22.285</td>\n",
       "      <td>0.000</td>\n",
       "    </tr>\n",
       "  </tbody>\n",
       "</table>\n",
       "</div>"
      ],
      "text/plain": [
       "        Feature  Coefficients  Standard Errors  t values  Probabilities\n",
       "0      Constant        0.2555            0.028     9.184          0.000\n",
       "1  Total Faults        0.0005            0.000     2.799          0.006\n",
       "2         TOTES        0.0098            0.000    22.285          0.000"
      ]
     },
     "execution_count": 15,
     "metadata": {},
     "output_type": "execute_result"
    }
   ],
   "source": [
    "sc.lm_coefficients(Linear_mdl, X, y)"
   ]
  },
  {
   "cell_type": "code",
   "execution_count": 16,
   "metadata": {},
   "outputs": [
    {
     "name": "stdout",
     "output_type": "stream",
     "text": [
      "                            OLS Regression Results                            \n",
      "==============================================================================\n",
      "Dep. Variable:         Blue Tote Loss   R-squared:                       0.823\n",
      "Model:                            OLS   Adj. R-squared:                  0.819\n",
      "Method:                 Least Squares   F-statistic:                     186.3\n",
      "Date:                Tue, 15 Dec 2020   Prob (F-statistic):           7.89e-31\n",
      "Time:                        10:39:13   Log-Likelihood:                 130.87\n",
      "No. Observations:                  83   AIC:                            -255.7\n",
      "Df Residuals:                      80   BIC:                            -248.5\n",
      "Df Model:                           2                                         \n",
      "Covariance Type:            nonrobust                                         \n",
      "================================================================================\n",
      "                   coef    std err          t      P>|t|      [0.025      0.975]\n",
      "--------------------------------------------------------------------------------\n",
      "const            0.2555      0.032      7.949      0.000       0.192       0.319\n",
      "Total Faults     0.0005      0.000      2.346      0.021    7.31e-05       0.001\n",
      "TOTES            0.0098      0.001     19.301      0.000       0.009       0.011\n",
      "==============================================================================\n",
      "Omnibus:                        0.656   Durbin-Watson:                   1.587\n",
      "Prob(Omnibus):                  0.720   Jarque-Bera (JB):                0.618\n",
      "Skew:                          -0.203   Prob(JB):                        0.734\n",
      "Kurtosis:                       2.881   Cond. No.                         583.\n",
      "==============================================================================\n",
      "\n",
      "Warnings:\n",
      "[1] Standard Errors assume that the covariance matrix of the errors is correctly specified.\n"
     ]
    }
   ],
   "source": [
    "X_train = sm.add_constant(X_train)\n",
    "model = sm.OLS(y_train,X_train)\n",
    "results = model.fit()\n",
    "print(results.summary())\n",
    "\n",
    "X_new = sm.add_constant(X_test)\n",
    "#y_prediction =  results.predict(X_test)\n",
    "\n",
    "# plt.scatter(y_prediction,y_test)\n",
    "\n",
    "# from sklearn.metrics import r2_score\n",
    "# print(r2_score(y_prediction,y_test))"
   ]
  },
  {
   "cell_type": "code",
   "execution_count": 17,
   "metadata": {},
   "outputs": [],
   "source": [
    "# plt.figure(figsize=(20,5))\n",
    "# sns.barplot(data=Coeff, x='Feature',y = 'Coefficients')"
   ]
  },
  {
   "cell_type": "code",
   "execution_count": 18,
   "metadata": {},
   "outputs": [
    {
     "data": {
      "text/plain": [
       "<matplotlib.collections.PathCollection at 0x2c32fd4d4c0>"
      ]
     },
     "execution_count": 18,
     "metadata": {},
     "output_type": "execute_result"
    },
    {
     "data": {
      "image/png": "[encoded data removed]",
      "text/plain": [
       "<Figure size 432x288 with 1 Axes>"
      ]
     },
     "metadata": {
      "needs_background": "light"
     },
     "output_type": "display_data"
    }
   ],
   "source": [
    "plt.scatter(predictions_LM,y_test)"
   ]
  },
  {
   "cell_type": "code",
   "execution_count": null,
   "metadata": {},
   "outputs": [],
   "source": []
  }
 ],
 "metadata": {
  "kernelspec": {
   "display_name": "Python 3",
   "language": "python",
   "name": "python3"
  },
  "language_info": {
   "codemirror_mode": {
    "name": "ipython",
    "version": 3
   },
   "file_extension": ".py",
   "mimetype": "text/x-python",
   "name": "python",
   "nbconvert_exporter": "python",
   "pygments_lexer": "ipython3",
   "version": "3.8.3"
  }
 },
 "nbformat": 4,
 "nbformat_minor": 4
}
