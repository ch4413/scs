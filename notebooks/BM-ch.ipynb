{
 "cells": [
  {
   "cell_type": "code",
   "execution_count": 1,
   "metadata": {},
   "outputs": [
    {
     "name": "stderr",
     "output_type": "stream",
     "text": [
      "2020-12-22 15:54:46,415 - NumExpr defaulting to 8 threads.\n"
     ]
    }
   ],
   "source": [
    "import pandas as pd\n",
    "import numpy as np\n",
    "import seaborn as sns\n",
    "import matplotlib.pyplot as plt\n",
    "%matplotlib inline\n",
    "\n",
    "import scsavailability as scs\n",
    "    \n",
    "import statsmodels.api as sm\n",
    "from scipy import stats\n",
    "\n",
    "from scsavailability import features as feat, model as md, plotting as pt, score as sc"
   ]
  },
  {
   "cell_type": "code",
   "execution_count": 2,
   "metadata": {},
   "outputs": [],
   "source": [
    "path = '../raw_data/'"
   ]
  },
  {
   "cell_type": "code",
   "execution_count": 3,
   "metadata": {},
   "outputs": [],
   "source": [
    "at_raw = pd.read_csv(path+'active_totes_20201210.csv')\n",
    "av = pd.read_csv(path+'Availability_with_Grey&Blue_1811-0912.csv',names = [\"timestamp\",\"Pick Station\",\"Availability\",\"Blue Tote Loss\",\"Grey Tote Loss\"])\n",
    "scs_raw = pd.read_csv(path + 'Faults20_11-10_12.csv')"
   ]
  },
  {
   "cell_type": "code",
   "execution_count": 4,
   "metadata": {},
   "outputs": [],
   "source": [
    "# # HOTFIX - remove odd day\n",
    "# at_raw = at_raw[~at_raw['DAY'].isin([9])]"
   ]
  },
  {
   "cell_type": "code",
   "execution_count": 5,
   "metadata": {},
   "outputs": [
    {
     "name": "stdout",
     "output_type": "stream",
     "text": [
      "Running: Function \"load_tote_lookup\" (id=2317012630256) was called 1 times\n"
     ]
    }
   ],
   "source": [
    "fa = feat.add_code(scs_raw)\n",
    "fa, unmapped = feat.add_tote_colour(fa)"
   ]
  },
  {
   "cell_type": "code",
   "execution_count": 6,
   "metadata": {},
   "outputs": [
    {
     "name": "stdout",
     "output_type": "stream",
     "text": [
      "Running: Function \"pre_process_AT\" (id=2317012631120) was called 1 times\n"
     ]
    }
   ],
   "source": [
    "at = feat.pre_process_AT(at_raw)"
   ]
  },
  {
   "cell_type": "code",
   "execution_count": 7,
   "metadata": {},
   "outputs": [
    {
     "name": "stdout",
     "output_type": "stream",
     "text": [
      "Running: Function \"pre_process_av\" (id=2317012631408) was called 1 times\n"
     ]
    }
   ],
   "source": [
    "av = feat.pre_process_av(av)"
   ]
  },
  {
   "cell_type": "code",
   "execution_count": 8,
   "metadata": {},
   "outputs": [
    {
     "name": "stdout",
     "output_type": "stream",
     "text": [
      "Running: Function \"preprocess_faults\" (id=2317012629680) was called 1 times\n",
      "Running: Function \"load_module_lookup\" (id=2317012628384) was called 1 times\n",
      "Running: Function \"load_ID_lookup\" (id=2317012629104) was called 1 times\n",
      "duplicated location faults removed - max duration kept\n",
      "HOTFIX: Quadrant only faults, PTT Asset Code update\n"
     ]
    }
   ],
   "source": [
    "fa = feat.preprocess_faults(fa,remove_same_location_faults = True)"
   ]
  },
  {
   "cell_type": "code",
   "execution_count": 9,
   "metadata": {},
   "outputs": [
    {
     "name": "stdout",
     "output_type": "stream",
     "text": [
      "Time shifted by 0Minutes\n"
     ]
    }
   ],
   "source": [
    "fa_floor = feat.floor_shift_time_fa(fa, shift=0)"
   ]
  },
  {
   "cell_type": "code",
   "execution_count": 10,
   "metadata": {},
   "outputs": [],
   "source": [
    "mod = [2]\n",
    "limit = 0"
   ]
  },
  {
   "cell_type": "code",
   "execution_count": 11,
   "metadata": {},
   "outputs": [
    {
     "name": "stdout",
     "output_type": "stream",
     "text": [
      "Running: Function \"load_PTT_lookup\" (id=2317012629968) was called 1 times\n"
     ]
    }
   ],
   "source": [
    "fa_sel_1 = feat.get_data_faults(fa_floor, modules = mod)\n",
    "\n",
    "most_common = list(((fa_sel_1['Asset Code'].value_counts() > limit)[fa_sel_1['Asset Code'].value_counts() > limit]).index)\n",
    "fa_sel = fa_sel_1[fa_sel_1['Asset Code'].isin(most_common)]"
   ]
  },
  {
   "cell_type": "code",
   "execution_count": 12,
   "metadata": {},
   "outputs": [],
   "source": [
    "#fa_sel = feat.fault_select(fa_floor, fault_select_options = {'Tote Colour':['Blue']})\n",
    "                                                            \n",
    "fa_agg = feat.faults_aggregate(fa_sel, fault_agg_level= 'Asset Code', agg_type = 'count')"
   ]
  },
  {
   "cell_type": "code",
   "execution_count": 13,
   "metadata": {},
   "outputs": [
    {
     "name": "stdout",
     "output_type": "stream",
     "text": [
      "Running: Function \"aggregate_availability\" (id=2317012630112) was called 1 times\n"
     ]
    }
   ],
   "source": [
    "av_sel, at_sel = feat.av_at_select(av, at, remove_high_AT = True, availability_select_options = {\"Module\" : mod})\n",
    "\n",
    "av_agg = feat.aggregate_availability(av_sel, agg_level = 'Module')\n",
    "at_agg = feat.aggregate_totes(at_sel, agg_level = 'Module')"
   ]
  },
  {
   "cell_type": "code",
   "execution_count": 14,
   "metadata": {},
   "outputs": [],
   "source": [
    "df = feat.merge_av_fa_at(av_agg ,at_df=at_agg, fa_df = fa_agg, agg_level = 'None')"
   ]
  },
  {
   "cell_type": "code",
   "execution_count": 15,
   "metadata": {},
   "outputs": [],
   "source": [
    "X,y = md.gen_feat_var(df)\n",
    "X = X.drop('Module', axis=1)\n",
    "# Flip to availability\n",
    "y=1-y"
   ]
  },
  {
   "cell_type": "code",
   "execution_count": 16,
   "metadata": {},
   "outputs": [
    {
     "name": "stdout",
     "output_type": "stream",
     "text": [
      "\n",
      "Cross Validation Scores LinearRegression(): \n",
      " \n",
      "        R2 Scores\n",
      "1       0.428203\n",
      "2       0.388557\n",
      "3       0.304027\n",
      "4       0.333328\n",
      "5       0.387222\n",
      "Mean    0.368267\n",
      "STD     0.044070\n"
     ]
    }
   ],
   "source": [
    "X_train, X_test, y_train, y_test = md.split(X[['TOTES']],y)\n",
    "\n",
    "Linear_mdl,predictions_LM,Coeff,fit_metrics = md.run_LR_model(X_train, X_test, y_train, y_test)\n",
    "\n",
    "cv_R2 = md.cross_validate_r2(Linear_mdl, X[['TOTES']], y, n_folds = 5, shuffle = True, random_state = 101)"
   ]
  },
  {
   "cell_type": "code",
   "execution_count": 17,
   "metadata": {},
   "outputs": [
    {
     "name": "stdout",
     "output_type": "stream",
     "text": [
      "\n",
      "Cross Validation Scores LinearRegression(fit_intercept=False): \n",
      " \n",
      "        R2 Scores\n",
      "1      -0.026695\n",
      "2      -0.343826\n",
      "3      -0.552567\n",
      "4      -0.400476\n",
      "5      -0.362462\n",
      "Mean   -0.337205\n",
      "STD     0.171745\n"
     ]
    }
   ],
   "source": [
    "X_train, X_test, y_train, y_test = md.split(X[['TOTES']],y)\n",
    "\n",
    "Linear_mdl,predictions_LM,Coeff,fit_metrics = md.run_LR_model(X_train, X_test, y_train, y_test,\n",
    "                                                              fit_intercept=False)\n",
    "\n",
    "cv_R2 = md.cross_validate_r2(Linear_mdl, X[['TOTES']], y, n_folds = 5, shuffle = True, random_state = 101)"
   ]
  },
  {
   "cell_type": "code",
   "execution_count": 18,
   "metadata": {},
   "outputs": [
    {
     "name": "stdout",
     "output_type": "stream",
     "text": [
      "\n",
      "Cross Validation Scores LinearRegression(fit_intercept=False): \n",
      " \n",
      "        R2 Scores\n",
      "1      -1.268416\n",
      "2      -5.918697\n",
      "3      -1.552172\n",
      "4      -0.386447\n",
      "5      -1.238571\n",
      "Mean   -2.072861\n",
      "STD     1.962077\n"
     ]
    }
   ],
   "source": [
    "X_train, X_test, y_train, y_test = md.split(X,y)\n",
    "\n",
    "Linear_mdl,predictions_LM,Coeff,fit_metrics = md.run_LR_model(X_train, X_test, y_train, y_test,\n",
    "                                                              fit_intercept=False)\n",
    "\n",
    "cv_R2 = md.cross_validate_r2(Linear_mdl, X, y, n_folds = 5, shuffle = True, random_state = 101)"
   ]
  },
  {
   "cell_type": "code",
   "execution_count": 19,
   "metadata": {},
   "outputs": [],
   "source": [
    "# model = sm.OLS(y_train, X_train)\n",
    "# results = model.fit()\n",
    "# print(results.summary())"
   ]
  },
  {
   "cell_type": "code",
   "execution_count": 20,
   "metadata": {},
   "outputs": [
    {
     "name": "stderr",
     "output_type": "stream",
     "text": [
      "C:\\Users\\chris.hughes\\Anaconda3\\lib\\site-packages\\statsmodels\\base\\model.py:1362: RuntimeWarning: invalid value encountered in true_divide\n",
      "  return self.params / self.bse\n",
      "C:\\Users\\chris.hughes\\Anaconda3\\lib\\site-packages\\scipy\\stats\\_distn_infrastructure.py:1932: RuntimeWarning: invalid value encountered in less_equal\n",
      "  cond2 = cond0 & (x <= _a)\n"
     ]
    },
    {
     "data": {
      "text/plain": [
       "Index(['C0503STA226', 'C06', 'C0602ACH025', 'C0602STA024', 'C0602STA030',\n",
       "       'C0602STA049', 'C0602STA051', 'C0602STA058', 'C0602STA081',\n",
       "       'C0603STA120', 'C06PTT021', 'C1501BCL231', 'C1502ACL069', 'C1502STA006',\n",
       "       'C1502STA023', 'C1502STA034', 'C1502STA038', 'C1502STA046',\n",
       "       'C1502STA237', 'C1502STA245', 'C1603BCL016', 'C1603BCL018',\n",
       "       'C1603BCL054', 'C1603BCL056', 'C1603RDC035', 'C1603RDC125',\n",
       "       'C1603RDC173', 'C1603STA103', 'C1603STA253', 'C2301ACH090',\n",
       "       'C2301ACL001', 'C2301RDC025', 'C2301RDC061', 'C2301STA002',\n",
       "       'C2301STA022', 'C2301STA086', 'C2302BCX093', 'C2302RDC015',\n",
       "       'C2302RDC034', 'C2302RDC071', 'C2302STA014', 'C2303ACL016',\n",
       "       'C2303STA042', 'C2303STA080', 'SCS021', 'SCS025', 'TOTES'],\n",
       "      dtype='object')"
      ]
     },
     "execution_count": 20,
     "metadata": {},
     "output_type": "execute_result"
    }
   ],
   "source": [
    "X_train_rd = X_train\n",
    "max_p = 1\n",
    "while max_p > 0.10:\n",
    "    model = sm.OLS(y_train, X_train_rd)\n",
    "    results = model.fit()\n",
    "    max_p = max(results.pvalues)\n",
    "    rm_col = results.pvalues[results.pvalues == max_p].index.values[0]\n",
    "    X_train_rd = X_train_rd.drop([rm_col], axis=1)\n",
    "X_train_rd.columns"
   ]
  },
  {
   "cell_type": "code",
   "execution_count": 21,
   "metadata": {},
   "outputs": [
    {
     "name": "stdout",
     "output_type": "stream",
     "text": [
      "                                 OLS Regression Results                                \n",
      "=======================================================================================\n",
      "Dep. Variable:               Downtime   R-squared (uncentered):                   0.962\n",
      "Model:                            OLS   Adj. R-squared (uncentered):              0.956\n",
      "Method:                 Least Squares   F-statistic:                              152.9\n",
      "Date:                Tue, 22 Dec 2020   Prob (F-statistic):                   7.38e-174\n",
      "Time:                        15:56:28   Log-Likelihood:                          200.44\n",
      "No. Observations:                 328   AIC:                                     -306.9\n",
      "Df Residuals:                     281   BIC:                                     -128.6\n",
      "Df Model:                          47                                                  \n",
      "Covariance Type:            nonrobust                                                  \n",
      "===============================================================================\n",
      "                  coef    std err          t      P>|t|      [0.025      0.975]\n",
      "-------------------------------------------------------------------------------\n",
      "C0503STA226    -0.8071      0.428     -1.884      0.061      -1.650       0.036\n",
      "C06            -0.0782      0.037     -2.113      0.036      -0.151      -0.005\n",
      "C0602ACH025     0.3040      0.150      2.033      0.043       0.010       0.598\n",
      "C0602STA024     0.1483      0.072      2.053      0.041       0.006       0.290\n",
      "C0602STA030    -0.0458      0.010     -4.690      0.000      -0.065      -0.027\n",
      "C0602STA049     0.0746      0.027      2.714      0.007       0.020       0.129\n",
      "C0602STA051    -0.1590      0.061     -2.594      0.010      -0.280      -0.038\n",
      "C0602STA058    -0.0951      0.023     -4.129      0.000      -0.140      -0.050\n",
      "C0602STA081     0.1090      0.057      1.921      0.056      -0.003       0.221\n",
      "C0603STA120     0.1397      0.065      2.151      0.032       0.012       0.268\n",
      "C06PTT021      -0.0112      0.006     -1.844      0.066      -0.023       0.001\n",
      "C1501BCL231    -0.3209      0.091     -3.530      0.000      -0.500      -0.142\n",
      "C1502ACL069     0.0708      0.034      2.100      0.037       0.004       0.137\n",
      "C1502STA006    -0.1128      0.047     -2.376      0.018      -0.206      -0.019\n",
      "C1502STA023    -0.1167      0.037     -3.157      0.002      -0.189      -0.044\n",
      "C1502STA034     0.0145      0.008      1.725      0.086      -0.002       0.031\n",
      "C1502STA038    -0.1498      0.086     -1.735      0.084      -0.320       0.020\n",
      "C1502STA046     0.0348      0.014      2.410      0.017       0.006       0.063\n",
      "C1502STA237     0.1221      0.072      1.693      0.091      -0.020       0.264\n",
      "C1502STA245     0.1129      0.067      1.685      0.093      -0.019       0.245\n",
      "C1603BCL016     0.0930      0.047      1.983      0.048       0.001       0.185\n",
      "C1603BCL018    -0.6120      0.147     -4.166      0.000      -0.901      -0.323\n",
      "C1603BCL054     0.0193      0.004      4.525      0.000       0.011       0.028\n",
      "C1603BCL056    -0.0682      0.040     -1.711      0.088      -0.147       0.010\n",
      "C1603RDC035     0.0411      0.014      2.935      0.004       0.014       0.069\n",
      "C1603RDC125     0.1557      0.067      2.327      0.021       0.024       0.287\n",
      "C1603RDC173     0.0361      0.012      3.022      0.003       0.013       0.060\n",
      "C1603STA103     0.0291      0.015      1.905      0.058      -0.001       0.059\n",
      "C1603STA253     0.0205      0.003      6.941      0.000       0.015       0.026\n",
      "C2301ACH090     0.3179      0.104      3.049      0.003       0.113       0.523\n",
      "C2301ACL001     0.1137      0.066      1.721      0.086      -0.016       0.244\n",
      "C2301RDC025     0.1319      0.072      1.828      0.069      -0.010       0.274\n",
      "C2301RDC061     0.0013      0.000      2.761      0.006       0.000       0.002\n",
      "C2301STA002     0.0568      0.030      1.900      0.058      -0.002       0.116\n",
      "C2301STA022    -0.1820      0.095     -1.906      0.058      -0.370       0.006\n",
      "C2301STA086    -0.0307      0.017     -1.847      0.066      -0.063       0.002\n",
      "C2302BCX093     0.3466      0.120      2.892      0.004       0.111       0.582\n",
      "C2302RDC015     0.0381      0.007      5.520      0.000       0.025       0.052\n",
      "C2302RDC034     0.0205      0.006      3.275      0.001       0.008       0.033\n",
      "C2302RDC071    -0.5552      0.110     -5.045      0.000      -0.772      -0.339\n",
      "C2302STA014     0.0080      0.003      2.586      0.010       0.002       0.014\n",
      "C2303ACL016     0.0686      0.031      2.246      0.025       0.008       0.129\n",
      "C2303STA042     0.0642      0.037      1.720      0.087      -0.009       0.138\n",
      "C2303STA080     0.1590      0.047      3.364      0.001       0.066       0.252\n",
      "SCS021          0.0152      0.009      1.655      0.099      -0.003       0.033\n",
      "SCS025          0.0272      0.013      2.171      0.031       0.003       0.052\n",
      "TOTES           0.0103      0.000     30.284      0.000       0.010       0.011\n",
      "==============================================================================\n",
      "Omnibus:                        4.975   Durbin-Watson:                   2.078\n",
      "Prob(Omnibus):                  0.083   Jarque-Bera (JB):                6.644\n",
      "Skew:                           0.048   Prob(JB):                       0.0361\n",
      "Kurtosis:                       3.691   Cond. No.                     2.70e+03\n",
      "==============================================================================\n",
      "\n",
      "Warnings:\n",
      "[1] Standard Errors assume that the covariance matrix of the errors is correctly specified.\n",
      "[2] The condition number is large, 2.7e+03. This might indicate that there are\n",
      "strong multicollinearity or other numerical problems.\n"
     ]
    }
   ],
   "source": [
    "model = sm.OLS(y_train, X_train_rd)\n",
    "results = model.fit()\n",
    "print(results.summary())"
   ]
  },
  {
   "cell_type": "code",
   "execution_count": null,
   "metadata": {},
   "outputs": [],
   "source": [
    "filt_columns = X_train_rd.columns\n",
    "X_train, X_test, y_train, y_test = md.split(X[filt_columns],y)\n",
    "\n",
    "Linear_mdl,predictions_LM,Coeff,fit_metrics = md.run_LR_model(X_train, X_test, y_train, y_test,\n",
    "                                                              fit_intercept=False)\n",
    "\n",
    "cv_R2 = md.cross_validate_r2(Linear_mdl, X[filt_columns], y, n_folds = 5, shuffle = True, random_state = 101)"
   ]
  },
  {
   "cell_type": "code",
   "execution_count": null,
   "metadata": {},
   "outputs": [],
   "source": [
    "X_train_rd.drop([(results.pvalues == max(results.pvalues)).index.values], axis=1)"
   ]
  },
  {
   "cell_type": "code",
   "execution_count": null,
   "metadata": {},
   "outputs": [],
   "source": [
    "keep_features = results.pvalues[results.pvalues < 0.10].index"
   ]
  },
  {
   "cell_type": "code",
   "execution_count": null,
   "metadata": {},
   "outputs": [],
   "source": [
    "model = sm.OLS(y,X[keep_features])\n",
    "results = model.fit()\n",
    "print(results.summary())"
   ]
  },
  {
   "cell_type": "code",
   "execution_count": null,
   "metadata": {},
   "outputs": [],
   "source": [
    "negs = results.params[results.params < 0].index\n",
    "negs"
   ]
  },
  {
   "cell_type": "code",
   "execution_count": null,
   "metadata": {},
   "outputs": [],
   "source": [
    "df['timestamp'].min()"
   ]
  },
  {
   "cell_type": "code",
   "execution_count": null,
   "metadata": {},
   "outputs": [],
   "source": [
    "list(negs.values)"
   ]
  },
  {
   "cell_type": "code",
   "execution_count": null,
   "metadata": {},
   "outputs": [],
   "source": [
    "fa[fa['Asset Code'].isin(list(negs.values))]"
   ]
  },
  {
   "cell_type": "code",
   "execution_count": null,
   "metadata": {},
   "outputs": [],
   "source": [
    "fa[fa['Asset Code'].isin([negs]) & (fa['timestamp'] >= df['timestamp'].min())]#['Fault ID'].value_counts()"
   ]
  }
 ],
 "metadata": {
  "kernelspec": {
   "display_name": "Python 3",
   "language": "python",
   "name": "python3"
  },
  "language_info": {
   "codemirror_mode": {
    "name": "ipython",
    "version": 3
   },
   "file_extension": ".py",
   "mimetype": "text/x-python",
   "name": "python",
   "nbconvert_exporter": "python",
   "pygments_lexer": "ipython3",
   "version": "3.8.3"
  }
 },
 "nbformat": 4,
 "nbformat_minor": 4
}
