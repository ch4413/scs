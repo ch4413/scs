{
 "cells": [
  {
   "cell_type": "code",
   "execution_count": 1,
   "metadata": {},
   "outputs": [
    {
     "name": "stderr",
     "output_type": "stream",
     "text": [
      "2020-12-22 11:03:52,021 - NumExpr defaulting to 8 threads.\n"
     ]
    }
   ],
   "source": [
    "import pandas as pd\n",
    "import numpy as np\n",
    "import seaborn as sns\n",
    "import matplotlib.pyplot as plt\n",
    "%matplotlib inline\n",
    "\n",
    "import scsavailability as scs\n",
    "    \n",
    "import statsmodels.api as sm\n",
    "from scipy import stats\n",
    "\n",
    "from scsavailability import features as feat, model as md, plotting as pt, score as sc"
   ]
  },
  {
   "cell_type": "code",
   "execution_count": 2,
   "metadata": {},
   "outputs": [],
   "source": [
    "path = '../raw_data/'"
   ]
  },
  {
   "cell_type": "code",
   "execution_count": 3,
   "metadata": {},
   "outputs": [],
   "source": [
    "at_raw = pd.read_csv(path+'active_totes_20201123.csv')\n",
    "av = pd.read_csv(path+'Availability_with_Grey&Blue_1811-2511.csv')\n",
    "#fa = pd.read_csv(path + 'scs_tote_matched.csv')\n",
    "scs_raw = pd.read_csv('../raw_data/SCS alerts Nov.csv')"
   ]
  },
  {
   "cell_type": "code",
   "execution_count": 4,
   "metadata": {},
   "outputs": [],
   "source": [
    "# HOTFIX - remove odd day\n",
    "at_raw = at_raw[~at_raw['DAY'].isin([9])]"
   ]
  },
  {
   "cell_type": "code",
   "execution_count": 5,
   "metadata": {},
   "outputs": [
    {
     "name": "stdout",
     "output_type": "stream",
     "text": [
      "Running: Function \"load_tote_lookup\" (id=2138157551680) was called 1 times\n"
     ]
    }
   ],
   "source": [
    "fa = feat.add_code(scs_raw)\n",
    "fa, unmapped = feat.add_tote_colour(fa)"
   ]
  },
  {
   "cell_type": "code",
   "execution_count": 6,
   "metadata": {},
   "outputs": [
    {
     "name": "stdout",
     "output_type": "stream",
     "text": [
      "Running: Function \"pre_process_AT\" (id=2138157554560) was called 1 times\n"
     ]
    }
   ],
   "source": [
    "at = feat.pre_process_AT(at_raw)"
   ]
  },
  {
   "cell_type": "code",
   "execution_count": 7,
   "metadata": {},
   "outputs": [
    {
     "name": "stdout",
     "output_type": "stream",
     "text": [
      "Running: Function \"pre_process_av\" (id=2138157555424) was called 1 times\n"
     ]
    }
   ],
   "source": [
    "av = feat.pre_process_av(av)"
   ]
  },
  {
   "cell_type": "code",
   "execution_count": 8,
   "metadata": {},
   "outputs": [
    {
     "name": "stdout",
     "output_type": "stream",
     "text": [
      "Running: Function \"preprocess_faults\" (id=2138157554128) was called 1 times\n",
      "Running: Function \"load_module_lookup\" (id=2138157552976) was called 1 times\n",
      "Running: Function \"load_ID_lookup\" (id=2138157553696) was called 1 times\n",
      "duplicated location faults removed - max duration kept\n",
      "HOTFIX: Quadrant only faults, PTT Asset Code update\n"
     ]
    }
   ],
   "source": [
    "fa = feat.preprocess_faults(fa,remove_same_location_faults = True)"
   ]
  },
  {
   "cell_type": "code",
   "execution_count": 9,
   "metadata": {},
   "outputs": [
    {
     "name": "stdout",
     "output_type": "stream",
     "text": [
      "Time shifted by 0Minutes\n"
     ]
    }
   ],
   "source": [
    "fa_floor = feat.floor_shift_time_fa(fa, shift=0)"
   ]
  },
  {
   "cell_type": "code",
   "execution_count": 10,
   "metadata": {},
   "outputs": [],
   "source": [
    "mod = [1]\n",
    "limit = 250"
   ]
  },
  {
   "cell_type": "code",
   "execution_count": 11,
   "metadata": {},
   "outputs": [],
   "source": [
    "fa_sel_1 = feat.get_data_faults(fa_floor, modules = mod)\n",
    "\n",
    "most_common = list(((fa_sel_1['Asset Code'].value_counts() > limit)[fa_sel_1['Asset Code'].value_counts() > limit]).index)\n",
    "fa_sel = fa_sel_1[fa_sel_1['Asset Code'].isin(most_common)]"
   ]
  },
  {
   "cell_type": "code",
   "execution_count": 12,
   "metadata": {},
   "outputs": [],
   "source": [
    "#fa_sel = feat.fault_select(fa_floor, fault_select_options = {'Tote Colour':['Blue']})\n",
    "                                                            \n",
    "fa_agg = feat.faults_aggregate(fa_sel, fault_agg_level= 'Asset Code', agg_type = 'count')"
   ]
  },
  {
   "cell_type": "code",
   "execution_count": 13,
   "metadata": {},
   "outputs": [
    {
     "name": "stdout",
     "output_type": "stream",
     "text": [
      "Running: Function \"aggregate_availability\" (id=2138157554704) was called 1 times\n"
     ]
    }
   ],
   "source": [
    "av_sel, at_sel = feat.av_at_select(av, at, remove_high_AT = True, availability_select_options = {\"Module\" : mod})\n",
    "\n",
    "av_agg = feat.aggregate_availability(av_sel, agg_level = 'Module')\n",
    "at_agg = feat.aggregate_totes(at_sel, agg_level = 'Module')"
   ]
  },
  {
   "cell_type": "code",
   "execution_count": 14,
   "metadata": {},
   "outputs": [],
   "source": [
    "df = feat.merge_av_fa_at(av_agg ,at_df=at_agg, fa_df = fa_agg, agg_level = 'None')"
   ]
  },
  {
   "cell_type": "code",
   "execution_count": 15,
   "metadata": {},
   "outputs": [],
   "source": [
    "# df = (pd.merge(at_agg.reset_index(), av_agg.reset_index(), on=['timestamp', 'Module'], how='left')\n",
    "#  .merge(fa_agg, on=['timestamp'], how='left')).drop(['Module', 'Blue Tote Loss', 'Grey Tote Loss'], axis=1)\n",
    "# df = df.fillna(0)"
   ]
  },
  {
   "cell_type": "code",
   "execution_count": 16,
   "metadata": {},
   "outputs": [],
   "source": [
    "X,y = md.gen_feat_var(df)\n",
    "X = X.drop('Module', axis=1)\n",
    "# Flip to availability\n",
    "y=1-y"
   ]
  },
  {
   "cell_type": "code",
   "execution_count": 17,
   "metadata": {},
   "outputs": [
    {
     "name": "stdout",
     "output_type": "stream",
     "text": [
      "\n",
      "Cross Validation Scores LinearRegression(): \n",
      " \n",
      "        R2 Scores\n",
      "1       0.518717\n",
      "2       0.149442\n",
      "3       0.409224\n",
      "4       0.275604\n",
      "5       0.588771\n",
      "Mean    0.388352\n",
      "STD     0.159617\n"
     ]
    }
   ],
   "source": [
    "X_train, X_test, y_train, y_test = md.split(X,y)\n",
    "\n",
    "#RF_mdl,predictions_RF=md.run_RF_model(X_train, X_test, y_train, y_test,num_trees=100, criterion = 'mse', max_depth=None, dtree=False)\n",
    "\n",
    "Linear_mdl,predictions_LM,Coeff,fit_metrics = md.run_LR_model(X_train, X_test, y_train, y_test)\n",
    "\n",
    "#XGB_mdl,predictions_XGB,Importance_XGB = md.run_XGB_model(X_train, X_test, y_train, y_test)\n",
    "\n",
    "maxf = None\n",
    "\n",
    "# X_sel_rf = md.select_features(X, y, RF_mdl, thres = -np.inf, max_feat = maxf)\n",
    "\n",
    "#X_sel_lm = md.select_features(X, y, Linear_mdl, selection_options={'thres': 'mean', 'max_feat': None})\n",
    "\n",
    "#X_sel_XGB = md.select_features(X, y, XGB_mdl, selection_options={'thres': 'mean', 'max_feat': None})\n",
    "\n",
    "#X_train, X_test, y_train, y_test = md.split(X_sel_lm,y,test_size=0.3,random_state=101)\n",
    "\n",
    "#Linear_mdl,predictions_LM,Coeff,fit_metrics = md.run_LR_model(X_train, X_test, y_train, y_test)\n",
    "\n",
    "\n",
    "cv_R2 = md.cross_validate_r2(Linear_mdl, X, y, n_folds = 5, shuffle = True, random_state = 101)\n",
    "\n",
    "#cv_R2 = md.cross_validate_r2(RF_mdl, X_sel_rf, y, n_folds = 10, shuffle = True, random_state = 101)\n",
    "\n",
    "#cv_R2 = md.cross_validate_r2(XGB_mdl, X, y, n_folds = 10, shuffle = True, random_state = 101)\n",
    "\n",
    "#md.stats_model(Linear_mdl,X_test,y_test)"
   ]
  },
  {
   "cell_type": "code",
   "execution_count": 19,
   "metadata": {},
   "outputs": [
    {
     "name": "stdout",
     "output_type": "stream",
     "text": [
      "                                 OLS Regression Results                                \n",
      "=======================================================================================\n",
      "Dep. Variable:               Downtime   R-squared (uncentered):                   0.937\n",
      "Model:                            OLS   Adj. R-squared (uncentered):              0.931\n",
      "Method:                 Least Squares   F-statistic:                              152.1\n",
      "Date:                Tue, 22 Dec 2020   Prob (F-statistic):                    1.17e-72\n",
      "Time:                        11:05:12   Log-Likelihood:                          81.412\n",
      "No. Observations:                 145   AIC:                                     -136.8\n",
      "Df Residuals:                     132   BIC:                                     -98.13\n",
      "Df Model:                          13                                                  \n",
      "Covariance Type:            nonrobust                                                  \n",
      "===============================================================================\n",
      "                  coef    std err          t      P>|t|      [0.025      0.975]\n",
      "-------------------------------------------------------------------------------\n",
      "C05PTT011       0.0177      0.009      1.950      0.053      -0.000       0.036\n",
      "C05PTT012      -0.0021      0.004     -0.476      0.635      -0.011       0.006\n",
      "C1603BCL014    -0.0464      0.014     -3.337      0.001      -0.074      -0.019\n",
      "C1603BCL054    -0.0057      0.010     -0.580      0.563      -0.025       0.014\n",
      "C1603STA253     0.0123      0.005      2.526      0.013       0.003       0.022\n",
      "C2301BCL177     0.0016      0.013      0.122      0.903      -0.024       0.027\n",
      "C2301RDC061     0.0034      0.001      4.980      0.000       0.002       0.005\n",
      "C2301RDC173    -0.0317      0.035     -0.917      0.361      -0.100       0.037\n",
      "C2301STA175     0.0118      0.018      0.646      0.519      -0.024       0.048\n",
      "C2302STA014     0.0171      0.005      3.201      0.002       0.007       0.028\n",
      "SCS011          0.0097      0.007      1.315      0.191      -0.005       0.024\n",
      "SCSM01         -0.0033      0.005     -0.602      0.548      -0.014       0.008\n",
      "TOTES           0.0136      0.001     18.485      0.000       0.012       0.015\n",
      "==============================================================================\n",
      "Omnibus:                        0.551   Durbin-Watson:                   1.194\n",
      "Prob(Omnibus):                  0.759   Jarque-Bera (JB):                0.342\n",
      "Skew:                          -0.113   Prob(JB):                        0.843\n",
      "Kurtosis:                       3.075   Cond. No.                         105.\n",
      "==============================================================================\n",
      "\n",
      "Warnings:\n",
      "[1] Standard Errors assume that the covariance matrix of the errors is correctly specified.\n"
     ]
    }
   ],
   "source": [
    "model = sm.OLS(y,X)\n",
    "results = model.fit()\n",
    "print(results.summary())"
   ]
  },
  {
   "cell_type": "code",
   "execution_count": 20,
   "metadata": {},
   "outputs": [],
   "source": [
    "keep_features = results.pvalues[results.pvalues < 0.10].index"
   ]
  },
  {
   "cell_type": "code",
   "execution_count": 22,
   "metadata": {},
   "outputs": [
    {
     "name": "stdout",
     "output_type": "stream",
     "text": [
      "                                 OLS Regression Results                                \n",
      "=======================================================================================\n",
      "Dep. Variable:               Downtime   R-squared (uncentered):                   0.936\n",
      "Model:                            OLS   Adj. R-squared (uncentered):              0.933\n",
      "Method:                 Least Squares   F-statistic:                              337.6\n",
      "Date:                Tue, 22 Dec 2020   Prob (F-statistic):                    3.01e-80\n",
      "Time:                        11:05:24   Log-Likelihood:                          79.514\n",
      "No. Observations:                 145   AIC:                                     -147.0\n",
      "Df Residuals:                     139   BIC:                                     -129.2\n",
      "Df Model:                           6                                                  \n",
      "Covariance Type:            nonrobust                                                  \n",
      "===============================================================================\n",
      "                  coef    std err          t      P>|t|      [0.025      0.975]\n",
      "-------------------------------------------------------------------------------\n",
      "C05PTT011       0.0166      0.009      1.898      0.060      -0.001       0.034\n",
      "C1603BCL014    -0.0424      0.013     -3.202      0.002      -0.069      -0.016\n",
      "C1603STA253     0.0117      0.005      2.491      0.014       0.002       0.021\n",
      "C2301RDC061     0.0035      0.001      5.357      0.000       0.002       0.005\n",
      "C2302STA014     0.0172      0.005      3.435      0.001       0.007       0.027\n",
      "TOTES           0.0135      0.001     23.527      0.000       0.012       0.015\n",
      "==============================================================================\n",
      "Omnibus:                        0.175   Durbin-Watson:                   1.188\n",
      "Prob(Omnibus):                  0.916   Jarque-Bera (JB):                0.332\n",
      "Skew:                          -0.046   Prob(JB):                        0.847\n",
      "Kurtosis:                       2.785   Cond. No.                         40.5\n",
      "==============================================================================\n",
      "\n",
      "Warnings:\n",
      "[1] Standard Errors assume that the covariance matrix of the errors is correctly specified.\n"
     ]
    }
   ],
   "source": [
    "model = sm.OLS(y,X[keep_features])\n",
    "results = model.fit()\n",
    "print(results.summary())"
   ]
  },
  {
   "cell_type": "code",
   "execution_count": 23,
   "metadata": {},
   "outputs": [
    {
     "data": {
      "text/plain": [
       "Index(['C1603BCL014'], dtype='object')"
      ]
     },
     "execution_count": 23,
     "metadata": {},
     "output_type": "execute_result"
    }
   ],
   "source": [
    "negs = results.params[results.params < 0].index\n",
    "negs"
   ]
  },
  {
   "cell_type": "code",
   "execution_count": 24,
   "metadata": {},
   "outputs": [
    {
     "data": {
      "text/plain": [
       "Timestamp('2020-11-17 09:00:00')"
      ]
     },
     "execution_count": 24,
     "metadata": {},
     "output_type": "execute_result"
    }
   ],
   "source": [
    "df['timestamp'].min()"
   ]
  },
  {
   "cell_type": "code",
   "execution_count": 30,
   "metadata": {},
   "outputs": [
    {
     "data": {
      "text/plain": [
       "['C1603BCL014']"
      ]
     },
     "execution_count": 30,
     "metadata": {},
     "output_type": "execute_result"
    }
   ],
   "source": [
    "list(negs.values)"
   ]
  },
  {
   "cell_type": "code",
   "execution_count": 31,
   "metadata": {},
   "outputs": [
    {
     "data": {
      "text/html": [
       "<div>\n",
       "<style scoped>\n",
       "    .dataframe tbody tr th:only-of-type {\n",
       "        vertical-align: middle;\n",
       "    }\n",
       "\n",
       "    .dataframe tbody tr th {\n",
       "        vertical-align: top;\n",
       "    }\n",
       "\n",
       "    .dataframe thead th {\n",
       "        text-align: right;\n",
       "    }\n",
       "</style>\n",
       "<table border=\"1\" class=\"dataframe\">\n",
       "  <thead>\n",
       "    <tr style=\"text-align: right;\">\n",
       "      <th></th>\n",
       "      <th>Number</th>\n",
       "      <th>Alert</th>\n",
       "      <th>timestamp</th>\n",
       "      <th>PLC</th>\n",
       "      <th>Desk</th>\n",
       "      <th>Duration</th>\n",
       "      <th>Fault ID</th>\n",
       "      <th>Asset Code</th>\n",
       "      <th>Tote Colour</th>\n",
       "      <th>Loop</th>\n",
       "      <th>Suffix</th>\n",
       "      <th>Pick Station</th>\n",
       "      <th>PLCN</th>\n",
       "      <th>Quadrant</th>\n",
       "      <th>MODULE</th>\n",
       "      <th>Alert Type</th>\n",
       "    </tr>\n",
       "  </thead>\n",
       "  <tbody>\n",
       "    <tr>\n",
       "      <th>80140</th>\n",
       "      <td>130233.0</td>\n",
       "      <td>C16: C1603BCL014 014B54 sensor fault</td>\n",
       "      <td>2020-11-02 15:33:00</td>\n",
       "      <td>C16</td>\n",
       "      <td>P03</td>\n",
       "      <td>1.0</td>\n",
       "      <td>3428</td>\n",
       "      <td>C1603BCL014</td>\n",
       "      <td>Blue</td>\n",
       "      <td>Outside</td>\n",
       "      <td>C1603</td>\n",
       "      <td>False</td>\n",
       "      <td>16.0</td>\n",
       "      <td>0.0</td>\n",
       "      <td>NaN</td>\n",
       "      <td>Fault</td>\n",
       "    </tr>\n",
       "    <tr>\n",
       "      <th>81391</th>\n",
       "      <td>130234.0</td>\n",
       "      <td>C16: C1603BCL014 014B55 sensor fault</td>\n",
       "      <td>2020-11-13 02:48:00</td>\n",
       "      <td>C16</td>\n",
       "      <td>P03</td>\n",
       "      <td>1.0</td>\n",
       "      <td>3428</td>\n",
       "      <td>C1603BCL014</td>\n",
       "      <td>Blue</td>\n",
       "      <td>Outside</td>\n",
       "      <td>C1603</td>\n",
       "      <td>False</td>\n",
       "      <td>16.0</td>\n",
       "      <td>0.0</td>\n",
       "      <td>NaN</td>\n",
       "      <td>Fault</td>\n",
       "    </tr>\n",
       "    <tr>\n",
       "      <th>81313</th>\n",
       "      <td>130234.0</td>\n",
       "      <td>C16: C1603BCL014 014B55 sensor fault</td>\n",
       "      <td>2020-11-13 23:22:00</td>\n",
       "      <td>C16</td>\n",
       "      <td>P03</td>\n",
       "      <td>1.0</td>\n",
       "      <td>3428</td>\n",
       "      <td>C1603BCL014</td>\n",
       "      <td>Blue</td>\n",
       "      <td>Outside</td>\n",
       "      <td>C1603</td>\n",
       "      <td>False</td>\n",
       "      <td>16.0</td>\n",
       "      <td>0.0</td>\n",
       "      <td>NaN</td>\n",
       "      <td>Fault</td>\n",
       "    </tr>\n",
       "    <tr>\n",
       "      <th>81335</th>\n",
       "      <td>130231.0</td>\n",
       "      <td>C16: C1603BCL014 014B52 sensor fault</td>\n",
       "      <td>2020-11-13 18:14:00</td>\n",
       "      <td>C16</td>\n",
       "      <td>P03</td>\n",
       "      <td>1.0</td>\n",
       "      <td>3428</td>\n",
       "      <td>C1603BCL014</td>\n",
       "      <td>Blue</td>\n",
       "      <td>Outside</td>\n",
       "      <td>C1603</td>\n",
       "      <td>False</td>\n",
       "      <td>16.0</td>\n",
       "      <td>0.0</td>\n",
       "      <td>NaN</td>\n",
       "      <td>Fault</td>\n",
       "    </tr>\n",
       "    <tr>\n",
       "      <th>81857</th>\n",
       "      <td>130234.0</td>\n",
       "      <td>C16: C1603BCL014 014B55 sensor fault</td>\n",
       "      <td>2020-11-22 00:45:00</td>\n",
       "      <td>C16</td>\n",
       "      <td>P03</td>\n",
       "      <td>1.0</td>\n",
       "      <td>3428</td>\n",
       "      <td>C1603BCL014</td>\n",
       "      <td>Blue</td>\n",
       "      <td>Outside</td>\n",
       "      <td>C1603</td>\n",
       "      <td>False</td>\n",
       "      <td>16.0</td>\n",
       "      <td>0.0</td>\n",
       "      <td>NaN</td>\n",
       "      <td>Fault</td>\n",
       "    </tr>\n",
       "    <tr>\n",
       "      <th>...</th>\n",
       "      <td>...</td>\n",
       "      <td>...</td>\n",
       "      <td>...</td>\n",
       "      <td>...</td>\n",
       "      <td>...</td>\n",
       "      <td>...</td>\n",
       "      <td>...</td>\n",
       "      <td>...</td>\n",
       "      <td>...</td>\n",
       "      <td>...</td>\n",
       "      <td>...</td>\n",
       "      <td>...</td>\n",
       "      <td>...</td>\n",
       "      <td>...</td>\n",
       "      <td>...</td>\n",
       "      <td>...</td>\n",
       "    </tr>\n",
       "    <tr>\n",
       "      <th>80369</th>\n",
       "      <td>130233.0</td>\n",
       "      <td>C16: C1603BCL014 014B54 sensor fault</td>\n",
       "      <td>2020-11-04 03:57:00</td>\n",
       "      <td>C16</td>\n",
       "      <td>P03</td>\n",
       "      <td>351.0</td>\n",
       "      <td>3428</td>\n",
       "      <td>C1603BCL014</td>\n",
       "      <td>Blue</td>\n",
       "      <td>Outside</td>\n",
       "      <td>C1603</td>\n",
       "      <td>False</td>\n",
       "      <td>16.0</td>\n",
       "      <td>0.0</td>\n",
       "      <td>NaN</td>\n",
       "      <td>Fault</td>\n",
       "    </tr>\n",
       "    <tr>\n",
       "      <th>81363</th>\n",
       "      <td>130233.0</td>\n",
       "      <td>C16: C1603BCL014 014B54 sensor fault</td>\n",
       "      <td>2020-11-13 14:40:00</td>\n",
       "      <td>C16</td>\n",
       "      <td>P03</td>\n",
       "      <td>381.0</td>\n",
       "      <td>3428</td>\n",
       "      <td>C1603BCL014</td>\n",
       "      <td>Blue</td>\n",
       "      <td>Outside</td>\n",
       "      <td>C1603</td>\n",
       "      <td>False</td>\n",
       "      <td>16.0</td>\n",
       "      <td>0.0</td>\n",
       "      <td>NaN</td>\n",
       "      <td>Fault</td>\n",
       "    </tr>\n",
       "    <tr>\n",
       "      <th>80578</th>\n",
       "      <td>130233.0</td>\n",
       "      <td>C16: C1603BCL014 014B54 sensor fault</td>\n",
       "      <td>2020-11-07 09:37:00</td>\n",
       "      <td>C16</td>\n",
       "      <td>P03</td>\n",
       "      <td>522.0</td>\n",
       "      <td>3428</td>\n",
       "      <td>C1603BCL014</td>\n",
       "      <td>Blue</td>\n",
       "      <td>Outside</td>\n",
       "      <td>C1603</td>\n",
       "      <td>False</td>\n",
       "      <td>16.0</td>\n",
       "      <td>0.0</td>\n",
       "      <td>NaN</td>\n",
       "      <td>Fault</td>\n",
       "    </tr>\n",
       "    <tr>\n",
       "      <th>80687</th>\n",
       "      <td>130233.0</td>\n",
       "      <td>C16: C1603BCL014 014B54 sensor fault</td>\n",
       "      <td>2020-11-08 11:43:00</td>\n",
       "      <td>C16</td>\n",
       "      <td>P03</td>\n",
       "      <td>527.0</td>\n",
       "      <td>3428</td>\n",
       "      <td>C1603BCL014</td>\n",
       "      <td>Blue</td>\n",
       "      <td>Outside</td>\n",
       "      <td>C1603</td>\n",
       "      <td>False</td>\n",
       "      <td>16.0</td>\n",
       "      <td>0.0</td>\n",
       "      <td>NaN</td>\n",
       "      <td>Fault</td>\n",
       "    </tr>\n",
       "    <tr>\n",
       "      <th>80673</th>\n",
       "      <td>130233.0</td>\n",
       "      <td>C16: C1603BCL014 014B54 sensor fault</td>\n",
       "      <td>2020-11-08 08:52:00</td>\n",
       "      <td>C16</td>\n",
       "      <td>P03</td>\n",
       "      <td>768.0</td>\n",
       "      <td>3428</td>\n",
       "      <td>C1603BCL014</td>\n",
       "      <td>Blue</td>\n",
       "      <td>Outside</td>\n",
       "      <td>C1603</td>\n",
       "      <td>False</td>\n",
       "      <td>16.0</td>\n",
       "      <td>0.0</td>\n",
       "      <td>NaN</td>\n",
       "      <td>Fault</td>\n",
       "    </tr>\n",
       "  </tbody>\n",
       "</table>\n",
       "<p>467 rows × 16 columns</p>\n",
       "</div>"
      ],
      "text/plain": [
       "         Number                                 Alert           timestamp  \\\n",
       "80140  130233.0  C16: C1603BCL014 014B54 sensor fault 2020-11-02 15:33:00   \n",
       "81391  130234.0  C16: C1603BCL014 014B55 sensor fault 2020-11-13 02:48:00   \n",
       "81313  130234.0  C16: C1603BCL014 014B55 sensor fault 2020-11-13 23:22:00   \n",
       "81335  130231.0  C16: C1603BCL014 014B52 sensor fault 2020-11-13 18:14:00   \n",
       "81857  130234.0  C16: C1603BCL014 014B55 sensor fault 2020-11-22 00:45:00   \n",
       "...         ...                                   ...                 ...   \n",
       "80369  130233.0  C16: C1603BCL014 014B54 sensor fault 2020-11-04 03:57:00   \n",
       "81363  130233.0  C16: C1603BCL014 014B54 sensor fault 2020-11-13 14:40:00   \n",
       "80578  130233.0  C16: C1603BCL014 014B54 sensor fault 2020-11-07 09:37:00   \n",
       "80687  130233.0  C16: C1603BCL014 014B54 sensor fault 2020-11-08 11:43:00   \n",
       "80673  130233.0  C16: C1603BCL014 014B54 sensor fault 2020-11-08 08:52:00   \n",
       "\n",
       "       PLC Desk  Duration  Fault ID   Asset Code Tote Colour     Loop Suffix  \\\n",
       "80140  C16  P03       1.0      3428  C1603BCL014        Blue  Outside  C1603   \n",
       "81391  C16  P03       1.0      3428  C1603BCL014        Blue  Outside  C1603   \n",
       "81313  C16  P03       1.0      3428  C1603BCL014        Blue  Outside  C1603   \n",
       "81335  C16  P03       1.0      3428  C1603BCL014        Blue  Outside  C1603   \n",
       "81857  C16  P03       1.0      3428  C1603BCL014        Blue  Outside  C1603   \n",
       "...    ...  ...       ...       ...          ...         ...      ...    ...   \n",
       "80369  C16  P03     351.0      3428  C1603BCL014        Blue  Outside  C1603   \n",
       "81363  C16  P03     381.0      3428  C1603BCL014        Blue  Outside  C1603   \n",
       "80578  C16  P03     522.0      3428  C1603BCL014        Blue  Outside  C1603   \n",
       "80687  C16  P03     527.0      3428  C1603BCL014        Blue  Outside  C1603   \n",
       "80673  C16  P03     768.0      3428  C1603BCL014        Blue  Outside  C1603   \n",
       "\n",
       "      Pick Station  PLCN  Quadrant MODULE Alert Type  \n",
       "80140        False  16.0       0.0    NaN      Fault  \n",
       "81391        False  16.0       0.0    NaN      Fault  \n",
       "81313        False  16.0       0.0    NaN      Fault  \n",
       "81335        False  16.0       0.0    NaN      Fault  \n",
       "81857        False  16.0       0.0    NaN      Fault  \n",
       "...            ...   ...       ...    ...        ...  \n",
       "80369        False  16.0       0.0    NaN      Fault  \n",
       "81363        False  16.0       0.0    NaN      Fault  \n",
       "80578        False  16.0       0.0    NaN      Fault  \n",
       "80687        False  16.0       0.0    NaN      Fault  \n",
       "80673        False  16.0       0.0    NaN      Fault  \n",
       "\n",
       "[467 rows x 16 columns]"
      ]
     },
     "execution_count": 31,
     "metadata": {},
     "output_type": "execute_result"
    }
   ],
   "source": [
    "fa[fa['Asset Code'].isin(list(negs.values))]"
   ]
  },
  {
   "cell_type": "code",
   "execution_count": 25,
   "metadata": {},
   "outputs": [
    {
     "data": {
      "text/html": [
       "<div>\n",
       "<style scoped>\n",
       "    .dataframe tbody tr th:only-of-type {\n",
       "        vertical-align: middle;\n",
       "    }\n",
       "\n",
       "    .dataframe tbody tr th {\n",
       "        vertical-align: top;\n",
       "    }\n",
       "\n",
       "    .dataframe thead th {\n",
       "        text-align: right;\n",
       "    }\n",
       "</style>\n",
       "<table border=\"1\" class=\"dataframe\">\n",
       "  <thead>\n",
       "    <tr style=\"text-align: right;\">\n",
       "      <th></th>\n",
       "      <th>Number</th>\n",
       "      <th>Alert</th>\n",
       "      <th>timestamp</th>\n",
       "      <th>PLC</th>\n",
       "      <th>Desk</th>\n",
       "      <th>Duration</th>\n",
       "      <th>Fault ID</th>\n",
       "      <th>Asset Code</th>\n",
       "      <th>Tote Colour</th>\n",
       "      <th>Loop</th>\n",
       "      <th>Suffix</th>\n",
       "      <th>Pick Station</th>\n",
       "      <th>PLCN</th>\n",
       "      <th>Quadrant</th>\n",
       "      <th>MODULE</th>\n",
       "      <th>Alert Type</th>\n",
       "    </tr>\n",
       "  </thead>\n",
       "  <tbody>\n",
       "  </tbody>\n",
       "</table>\n",
       "</div>"
      ],
      "text/plain": [
       "Empty DataFrame\n",
       "Columns: [Number, Alert, timestamp, PLC, Desk, Duration, Fault ID, Asset Code, Tote Colour, Loop, Suffix, Pick Station, PLCN, Quadrant, MODULE, Alert Type]\n",
       "Index: []"
      ]
     },
     "execution_count": 25,
     "metadata": {},
     "output_type": "execute_result"
    }
   ],
   "source": [
    "fa[fa['Asset Code'].isin([negs]) & (fa['timestamp'] >= df['timestamp'].min())]#['Fault ID'].value_counts()"
   ]
  },
  {
   "cell_type": "code",
   "execution_count": null,
   "metadata": {},
   "outputs": [],
   "source": []
  }
 ],
 "metadata": {
  "kernelspec": {
   "display_name": "Python 3",
   "language": "python",
   "name": "python3"
  },
  "language_info": {
   "codemirror_mode": {
    "name": "ipython",
    "version": 3
   },
   "file_extension": ".py",
   "mimetype": "text/x-python",
   "name": "python",
   "nbconvert_exporter": "python",
   "pygments_lexer": "ipython3",
   "version": "3.8.3"
  }
 },
 "nbformat": 4,
 "nbformat_minor": 4
}
