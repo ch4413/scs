{
 "cells": [
  {
   "cell_type": "code",
   "execution_count": 1,
   "metadata": {},
   "outputs": [
    {
     "name": "stderr",
     "output_type": "stream",
     "text": [
      "2020-12-22 16:21:23,745 - NumExpr defaulting to 8 threads.\n"
     ]
    }
   ],
   "source": [
    "import pandas as pd\n",
    "import numpy as np\n",
    "import seaborn as sns\n",
    "import matplotlib.pyplot as plt\n",
    "%matplotlib inline\n",
    "\n",
    "import scsavailability as scs\n",
    "    \n",
    "import statsmodels.api as sm\n",
    "from scipy import stats\n",
    "\n",
    "from scsavailability import features as feat, model as md, plotting as pt, score as sc"
   ]
  },
  {
   "cell_type": "code",
   "execution_count": 2,
   "metadata": {},
   "outputs": [],
   "source": [
    "path = '../raw_data/'"
   ]
  },
  {
   "cell_type": "code",
   "execution_count": 3,
   "metadata": {},
   "outputs": [],
   "source": [
    "at_raw = pd.read_csv(path+'active_totes_20201210.csv')\n",
    "av = pd.read_csv(path+'Availability_with_Grey&Blue_1811-0912.csv',names = [\"timestamp\",\"Pick Station\",\"Availability\",\"Blue Tote Loss\",\"Grey Tote Loss\"])\n",
    "scs_raw = pd.read_csv(path + 'Faults20_11-10_12.csv')"
   ]
  },
  {
   "cell_type": "code",
   "execution_count": 4,
   "metadata": {},
   "outputs": [],
   "source": [
    "# # HOTFIX - remove odd day\n",
    "# at_raw = at_raw[~at_raw['DAY'].isin([9])]"
   ]
  },
  {
   "cell_type": "code",
   "execution_count": 5,
   "metadata": {},
   "outputs": [
    {
     "name": "stdout",
     "output_type": "stream",
     "text": [
      "Running: Function \"load_tote_lookup\" (id=2724641966832) was called 1 times\n"
     ]
    }
   ],
   "source": [
    "fa = feat.add_code(scs_raw)\n",
    "fa, unmapped = feat.add_tote_colour(fa)"
   ]
  },
  {
   "cell_type": "code",
   "execution_count": 6,
   "metadata": {},
   "outputs": [
    {
     "name": "stdout",
     "output_type": "stream",
     "text": [
      "Running: Function \"pre_process_AT\" (id=2724641967696) was called 1 times\n"
     ]
    }
   ],
   "source": [
    "at = feat.pre_process_AT(at_raw)"
   ]
  },
  {
   "cell_type": "code",
   "execution_count": 7,
   "metadata": {},
   "outputs": [
    {
     "name": "stdout",
     "output_type": "stream",
     "text": [
      "Running: Function \"pre_process_av\" (id=2724641967984) was called 1 times\n"
     ]
    }
   ],
   "source": [
    "av = feat.pre_process_av(av)"
   ]
  },
  {
   "cell_type": "code",
   "execution_count": 8,
   "metadata": {},
   "outputs": [
    {
     "name": "stdout",
     "output_type": "stream",
     "text": [
      "Running: Function \"preprocess_faults\" (id=2724641966256) was called 1 times\n",
      "Running: Function \"load_module_lookup\" (id=2724641964960) was called 1 times\n",
      "Running: Function \"load_ID_lookup\" (id=2724641965680) was called 1 times\n",
      "duplicated location faults removed - max duration kept\n",
      "HOTFIX: Quadrant only faults, PTT Asset Code update\n"
     ]
    }
   ],
   "source": [
    "fa = feat.preprocess_faults(fa,remove_same_location_faults = True)"
   ]
  },
  {
   "cell_type": "code",
   "execution_count": 25,
   "metadata": {},
   "outputs": [
    {
     "name": "stdout",
     "output_type": "stream",
     "text": [
      "Time shifted by -15Minutes\n"
     ]
    }
   ],
   "source": [
    "fa_floor = feat.floor_shift_time_fa(fa, shift=-15)"
   ]
  },
  {
   "cell_type": "code",
   "execution_count": 26,
   "metadata": {},
   "outputs": [],
   "source": [
    "mod = [1]\n",
    "limit = 0"
   ]
  },
  {
   "cell_type": "code",
   "execution_count": 27,
   "metadata": {},
   "outputs": [
    {
     "name": "stdout",
     "output_type": "stream",
     "text": [
      "Running: Function \"load_PTT_lookup\" (id=2724641966544) was called 2 times\n"
     ]
    }
   ],
   "source": [
    "fa_sel_1 = feat.get_data_faults(fa_floor, modules = mod)\n",
    "\n",
    "most_common = list(((fa_sel_1['Asset Code'].value_counts() > limit)[fa_sel_1['Asset Code'].value_counts() > limit]).index)\n",
    "fa_sel = fa_sel_1[fa_sel_1['Asset Code'].isin(most_common)]"
   ]
  },
  {
   "cell_type": "code",
   "execution_count": 28,
   "metadata": {},
   "outputs": [],
   "source": [
    "#fa_sel = feat.fault_select(fa_floor, fault_select_options = {'Tote Colour':['Blue']})\n",
    "                                                            \n",
    "fa_agg = feat.faults_aggregate(fa_sel, fault_agg_level= 'Asset Code', agg_type = 'count')"
   ]
  },
  {
   "cell_type": "code",
   "execution_count": 76,
   "metadata": {},
   "outputs": [
    {
     "name": "stdout",
     "output_type": "stream",
     "text": [
      "Running: Function \"aggregate_availability\" (id=2724641966688) was called 3 times\n"
     ]
    }
   ],
   "source": [
    "av_sel, at_sel = feat.av_at_select(av, at, remove_high_AT = True, availability_select_options = {\"Module\" : mod})\n",
    "\n",
    "av_agg = feat.aggregate_availability(av_sel, agg_level = 'Module')\n",
    "at_agg = feat.aggregate_totes(at_sel, agg_level = 'Module')"
   ]
  },
  {
   "cell_type": "code",
   "execution_count": 77,
   "metadata": {},
   "outputs": [],
   "source": [
    "df = feat.merge_av_fa_at(av_agg ,at_df=at_agg, fa_df = fa_agg, agg_level = 'None')"
   ]
  },
  {
   "cell_type": "code",
   "execution_count": 78,
   "metadata": {},
   "outputs": [],
   "source": [
    "X,y = md.gen_feat_var(df)\n",
    "X = X.drop('Module', axis=1)\n",
    "# Flip to availability\n",
    "y=1-y"
   ]
  },
  {
   "cell_type": "code",
   "execution_count": 80,
   "metadata": {},
   "outputs": [
    {
     "name": "stdout",
     "output_type": "stream",
     "text": [
      "\n",
      "Cross Validation Scores LinearRegression(fit_intercept=False): \n",
      " \n",
      "        R2 Scores\n",
      "1      -0.242974\n",
      "2       0.281424\n",
      "3      -0.134896\n",
      "4       0.139777\n",
      "5       0.320503\n",
      "Mean    0.072767\n",
      "STD     0.224596\n"
     ]
    }
   ],
   "source": [
    "X_train, X_test, y_train, y_test = md.split(X[['TOTES']],y)\n",
    "\n",
    "Linear_mdl,predictions_LM,Coeff,fit_metrics = md.run_LR_model(X_train, X_test, y_train, y_test,\n",
    "                                                              fit_intercept=False)\n",
    "\n",
    "cv_R2 = md.cross_validate_r2(Linear_mdl, X[['TOTES']], y, n_folds = 5, shuffle = True, random_state = 101)"
   ]
  },
  {
   "cell_type": "code",
   "execution_count": 83,
   "metadata": {},
   "outputs": [],
   "source": [
    "df['Availability'] = 1 - df['Downtime']\n",
    "#df['Log_Av'] = np.log2()"
   ]
  },
  {
   "cell_type": "code",
   "execution_count": null,
   "metadata": {},
   "outputs": [],
   "source": [
    "l"
   ]
  },
  {
   "cell_type": "code",
   "execution_count": 87,
   "metadata": {},
   "outputs": [
    {
     "data": {
      "text/plain": [
       "43.000698931200944"
      ]
     },
     "execution_count": 87,
     "metadata": {},
     "output_type": "execute_result"
    }
   ],
   "source": [
    "df['TOTES'].mean()"
   ]
  },
  {
   "cell_type": "code",
   "execution_count": 91,
   "metadata": {},
   "outputs": [
    {
     "data": {
      "text/plain": [
       "<matplotlib.collections.PathCollection at 0x27a0b694370>"
      ]
     },
     "execution_count": 91,
     "metadata": {},
     "output_type": "execute_result"
    },
    {
     "data": {
      "image/png": "[encoded data removed]",
      "text/plain": [
       "<Figure size 432x288 with 1 Axes>"
      ]
     },
     "metadata": {
      "needs_background": "light"
     },
     "output_type": "display_data"
    }
   ],
   "source": [
    "plt.scatter(np.log(df['TOTES']), df['Availability'])"
   ]
  },
  {
   "cell_type": "code",
   "execution_count": 84,
   "metadata": {},
   "outputs": [
    {
     "data": {
      "text/plain": [
       "(0.0, 1.0)"
      ]
     },
     "execution_count": 84,
     "metadata": {},
     "output_type": "execute_result"
    },
    {
     "data": {
      "image/png": "[encoded data removed]",
      "text/plain": [
       "<Figure size 432x288 with 1 Axes>"
      ]
     },
     "metadata": {
      "needs_background": "light"
     },
     "output_type": "display_data"
    }
   ],
   "source": [
    "ax = sns.regplot(x=\"TOTES\", y=\"Availability\", data=df,\n",
    "                 x_estimator=np.mean, logx=True)\n",
    "plt.ylim(0, 1)"
   ]
  },
  {
   "cell_type": "code",
   "execution_count": 52,
   "metadata": {},
   "outputs": [
    {
     "data": {
      "text/html": [
       "<div>\n",
       "<style scoped>\n",
       "    .dataframe tbody tr th:only-of-type {\n",
       "        vertical-align: middle;\n",
       "    }\n",
       "\n",
       "    .dataframe tbody tr th {\n",
       "        vertical-align: top;\n",
       "    }\n",
       "\n",
       "    .dataframe thead th {\n",
       "        text-align: right;\n",
       "    }\n",
       "</style>\n",
       "<table border=\"1\" class=\"dataframe\">\n",
       "  <thead>\n",
       "    <tr style=\"text-align: right;\">\n",
       "      <th></th>\n",
       "      <th>timestamp</th>\n",
       "      <th>Downtime</th>\n",
       "      <th>Blue Tote Loss</th>\n",
       "      <th>Grey Tote Loss</th>\n",
       "      <th>C05</th>\n",
       "      <th>C0501ACH011</th>\n",
       "      <th>C0501RDC004</th>\n",
       "      <th>C0501STA002</th>\n",
       "      <th>C0501STA012</th>\n",
       "      <th>C0501STA020</th>\n",
       "      <th>...</th>\n",
       "      <th>SCS011</th>\n",
       "      <th>SCS012</th>\n",
       "      <th>SCS013</th>\n",
       "      <th>SCS014</th>\n",
       "      <th>SCS015</th>\n",
       "      <th>SCS016</th>\n",
       "      <th>SCSM01</th>\n",
       "      <th>Module</th>\n",
       "      <th>TOTES</th>\n",
       "      <th>Availability</th>\n",
       "    </tr>\n",
       "  </thead>\n",
       "  <tbody>\n",
       "    <tr>\n",
       "      <th>0</th>\n",
       "      <td>2020-11-19 23:00:00</td>\n",
       "      <td>0.242873</td>\n",
       "      <td>0.242873</td>\n",
       "      <td>0.000000</td>\n",
       "      <td>0</td>\n",
       "      <td>0</td>\n",
       "      <td>0</td>\n",
       "      <td>0</td>\n",
       "      <td>0</td>\n",
       "      <td>0</td>\n",
       "      <td>...</td>\n",
       "      <td>0</td>\n",
       "      <td>0</td>\n",
       "      <td>0</td>\n",
       "      <td>0</td>\n",
       "      <td>0</td>\n",
       "      <td>0</td>\n",
       "      <td>0</td>\n",
       "      <td>1</td>\n",
       "      <td>32.833333</td>\n",
       "      <td>0.757127</td>\n",
       "    </tr>\n",
       "    <tr>\n",
       "      <th>1</th>\n",
       "      <td>2020-11-20 00:00:00</td>\n",
       "      <td>0.183683</td>\n",
       "      <td>0.183683</td>\n",
       "      <td>0.000000</td>\n",
       "      <td>0</td>\n",
       "      <td>0</td>\n",
       "      <td>0</td>\n",
       "      <td>0</td>\n",
       "      <td>0</td>\n",
       "      <td>0</td>\n",
       "      <td>...</td>\n",
       "      <td>0</td>\n",
       "      <td>0</td>\n",
       "      <td>0</td>\n",
       "      <td>0</td>\n",
       "      <td>0</td>\n",
       "      <td>0</td>\n",
       "      <td>0</td>\n",
       "      <td>1</td>\n",
       "      <td>36.271186</td>\n",
       "      <td>0.816317</td>\n",
       "    </tr>\n",
       "    <tr>\n",
       "      <th>2</th>\n",
       "      <td>2020-11-20 01:00:00</td>\n",
       "      <td>0.132490</td>\n",
       "      <td>0.132490</td>\n",
       "      <td>0.000000</td>\n",
       "      <td>0</td>\n",
       "      <td>0</td>\n",
       "      <td>0</td>\n",
       "      <td>0</td>\n",
       "      <td>0</td>\n",
       "      <td>0</td>\n",
       "      <td>...</td>\n",
       "      <td>0</td>\n",
       "      <td>0</td>\n",
       "      <td>0</td>\n",
       "      <td>1</td>\n",
       "      <td>0</td>\n",
       "      <td>0</td>\n",
       "      <td>0</td>\n",
       "      <td>1</td>\n",
       "      <td>32.550000</td>\n",
       "      <td>0.867510</td>\n",
       "    </tr>\n",
       "    <tr>\n",
       "      <th>3</th>\n",
       "      <td>2020-11-20 02:00:00</td>\n",
       "      <td>0.411007</td>\n",
       "      <td>0.354306</td>\n",
       "      <td>0.056701</td>\n",
       "      <td>0</td>\n",
       "      <td>0</td>\n",
       "      <td>0</td>\n",
       "      <td>0</td>\n",
       "      <td>0</td>\n",
       "      <td>0</td>\n",
       "      <td>...</td>\n",
       "      <td>2</td>\n",
       "      <td>0</td>\n",
       "      <td>0</td>\n",
       "      <td>0</td>\n",
       "      <td>0</td>\n",
       "      <td>0</td>\n",
       "      <td>0</td>\n",
       "      <td>1</td>\n",
       "      <td>23.633333</td>\n",
       "      <td>0.588993</td>\n",
       "    </tr>\n",
       "    <tr>\n",
       "      <th>4</th>\n",
       "      <td>2020-11-20 03:00:00</td>\n",
       "      <td>0.058651</td>\n",
       "      <td>0.058651</td>\n",
       "      <td>0.000000</td>\n",
       "      <td>0</td>\n",
       "      <td>0</td>\n",
       "      <td>0</td>\n",
       "      <td>0</td>\n",
       "      <td>1</td>\n",
       "      <td>0</td>\n",
       "      <td>...</td>\n",
       "      <td>2</td>\n",
       "      <td>0</td>\n",
       "      <td>0</td>\n",
       "      <td>0</td>\n",
       "      <td>0</td>\n",
       "      <td>0</td>\n",
       "      <td>0</td>\n",
       "      <td>1</td>\n",
       "      <td>33.533333</td>\n",
       "      <td>0.941349</td>\n",
       "    </tr>\n",
       "    <tr>\n",
       "      <th>...</th>\n",
       "      <td>...</td>\n",
       "      <td>...</td>\n",
       "      <td>...</td>\n",
       "      <td>...</td>\n",
       "      <td>...</td>\n",
       "      <td>...</td>\n",
       "      <td>...</td>\n",
       "      <td>...</td>\n",
       "      <td>...</td>\n",
       "      <td>...</td>\n",
       "      <td>...</td>\n",
       "      <td>...</td>\n",
       "      <td>...</td>\n",
       "      <td>...</td>\n",
       "      <td>...</td>\n",
       "      <td>...</td>\n",
       "      <td>...</td>\n",
       "      <td>...</td>\n",
       "      <td>...</td>\n",
       "      <td>...</td>\n",
       "      <td>...</td>\n",
       "    </tr>\n",
       "    <tr>\n",
       "      <th>470</th>\n",
       "      <td>2020-12-09 13:00:00</td>\n",
       "      <td>0.172293</td>\n",
       "      <td>0.010000</td>\n",
       "      <td>0.162293</td>\n",
       "      <td>0</td>\n",
       "      <td>0</td>\n",
       "      <td>0</td>\n",
       "      <td>0</td>\n",
       "      <td>1</td>\n",
       "      <td>0</td>\n",
       "      <td>...</td>\n",
       "      <td>0</td>\n",
       "      <td>0</td>\n",
       "      <td>0</td>\n",
       "      <td>1</td>\n",
       "      <td>1</td>\n",
       "      <td>1</td>\n",
       "      <td>0</td>\n",
       "      <td>1</td>\n",
       "      <td>68.733333</td>\n",
       "      <td>0.827707</td>\n",
       "    </tr>\n",
       "    <tr>\n",
       "      <th>471</th>\n",
       "      <td>2020-12-09 14:00:00</td>\n",
       "      <td>0.107759</td>\n",
       "      <td>0.000000</td>\n",
       "      <td>0.107759</td>\n",
       "      <td>0</td>\n",
       "      <td>0</td>\n",
       "      <td>0</td>\n",
       "      <td>0</td>\n",
       "      <td>0</td>\n",
       "      <td>0</td>\n",
       "      <td>...</td>\n",
       "      <td>0</td>\n",
       "      <td>0</td>\n",
       "      <td>0</td>\n",
       "      <td>1</td>\n",
       "      <td>0</td>\n",
       "      <td>0</td>\n",
       "      <td>0</td>\n",
       "      <td>1</td>\n",
       "      <td>70.350000</td>\n",
       "      <td>0.892241</td>\n",
       "    </tr>\n",
       "    <tr>\n",
       "      <th>472</th>\n",
       "      <td>2020-12-09 15:00:00</td>\n",
       "      <td>0.130065</td>\n",
       "      <td>0.005333</td>\n",
       "      <td>0.124732</td>\n",
       "      <td>0</td>\n",
       "      <td>0</td>\n",
       "      <td>0</td>\n",
       "      <td>0</td>\n",
       "      <td>0</td>\n",
       "      <td>0</td>\n",
       "      <td>...</td>\n",
       "      <td>1</td>\n",
       "      <td>0</td>\n",
       "      <td>0</td>\n",
       "      <td>0</td>\n",
       "      <td>1</td>\n",
       "      <td>0</td>\n",
       "      <td>0</td>\n",
       "      <td>1</td>\n",
       "      <td>62.966667</td>\n",
       "      <td>0.869935</td>\n",
       "    </tr>\n",
       "    <tr>\n",
       "      <th>473</th>\n",
       "      <td>2020-12-09 16:00:00</td>\n",
       "      <td>0.200727</td>\n",
       "      <td>0.118905</td>\n",
       "      <td>0.081822</td>\n",
       "      <td>0</td>\n",
       "      <td>0</td>\n",
       "      <td>0</td>\n",
       "      <td>0</td>\n",
       "      <td>0</td>\n",
       "      <td>0</td>\n",
       "      <td>...</td>\n",
       "      <td>0</td>\n",
       "      <td>0</td>\n",
       "      <td>0</td>\n",
       "      <td>1</td>\n",
       "      <td>0</td>\n",
       "      <td>0</td>\n",
       "      <td>2</td>\n",
       "      <td>1</td>\n",
       "      <td>38.500000</td>\n",
       "      <td>0.799273</td>\n",
       "    </tr>\n",
       "    <tr>\n",
       "      <th>474</th>\n",
       "      <td>2020-12-09 17:00:00</td>\n",
       "      <td>0.356714</td>\n",
       "      <td>0.356714</td>\n",
       "      <td>0.000000</td>\n",
       "      <td>0</td>\n",
       "      <td>0</td>\n",
       "      <td>0</td>\n",
       "      <td>0</td>\n",
       "      <td>0</td>\n",
       "      <td>0</td>\n",
       "      <td>...</td>\n",
       "      <td>0</td>\n",
       "      <td>0</td>\n",
       "      <td>0</td>\n",
       "      <td>0</td>\n",
       "      <td>0</td>\n",
       "      <td>0</td>\n",
       "      <td>0</td>\n",
       "      <td>1</td>\n",
       "      <td>30.100000</td>\n",
       "      <td>0.643286</td>\n",
       "    </tr>\n",
       "  </tbody>\n",
       "</table>\n",
       "<p>475 rows × 247 columns</p>\n",
       "</div>"
      ],
      "text/plain": [
       "              timestamp  Downtime  Blue Tote Loss  Grey Tote Loss  C05  \\\n",
       "0   2020-11-19 23:00:00  0.242873        0.242873        0.000000    0   \n",
       "1   2020-11-20 00:00:00  0.183683        0.183683        0.000000    0   \n",
       "2   2020-11-20 01:00:00  0.132490        0.132490        0.000000    0   \n",
       "3   2020-11-20 02:00:00  0.411007        0.354306        0.056701    0   \n",
       "4   2020-11-20 03:00:00  0.058651        0.058651        0.000000    0   \n",
       "..                  ...       ...             ...             ...  ...   \n",
       "470 2020-12-09 13:00:00  0.172293        0.010000        0.162293    0   \n",
       "471 2020-12-09 14:00:00  0.107759        0.000000        0.107759    0   \n",
       "472 2020-12-09 15:00:00  0.130065        0.005333        0.124732    0   \n",
       "473 2020-12-09 16:00:00  0.200727        0.118905        0.081822    0   \n",
       "474 2020-12-09 17:00:00  0.356714        0.356714        0.000000    0   \n",
       "\n",
       "     C0501ACH011  C0501RDC004  C0501STA002  C0501STA012  C0501STA020  ...  \\\n",
       "0              0            0            0            0            0  ...   \n",
       "1              0            0            0            0            0  ...   \n",
       "2              0            0            0            0            0  ...   \n",
       "3              0            0            0            0            0  ...   \n",
       "4              0            0            0            1            0  ...   \n",
       "..           ...          ...          ...          ...          ...  ...   \n",
       "470            0            0            0            1            0  ...   \n",
       "471            0            0            0            0            0  ...   \n",
       "472            0            0            0            0            0  ...   \n",
       "473            0            0            0            0            0  ...   \n",
       "474            0            0            0            0            0  ...   \n",
       "\n",
       "     SCS011  SCS012  SCS013  SCS014  SCS015  SCS016  SCSM01  Module  \\\n",
       "0         0       0       0       0       0       0       0       1   \n",
       "1         0       0       0       0       0       0       0       1   \n",
       "2         0       0       0       1       0       0       0       1   \n",
       "3         2       0       0       0       0       0       0       1   \n",
       "4         2       0       0       0       0       0       0       1   \n",
       "..      ...     ...     ...     ...     ...     ...     ...     ...   \n",
       "470       0       0       0       1       1       1       0       1   \n",
       "471       0       0       0       1       0       0       0       1   \n",
       "472       1       0       0       0       1       0       0       1   \n",
       "473       0       0       0       1       0       0       2       1   \n",
       "474       0       0       0       0       0       0       0       1   \n",
       "\n",
       "         TOTES  Availability  \n",
       "0    32.833333      0.757127  \n",
       "1    36.271186      0.816317  \n",
       "2    32.550000      0.867510  \n",
       "3    23.633333      0.588993  \n",
       "4    33.533333      0.941349  \n",
       "..         ...           ...  \n",
       "470  68.733333      0.827707  \n",
       "471  70.350000      0.892241  \n",
       "472  62.966667      0.869935  \n",
       "473  38.500000      0.799273  \n",
       "474  30.100000      0.643286  \n",
       "\n",
       "[475 rows x 247 columns]"
      ]
     },
     "execution_count": 52,
     "metadata": {},
     "output_type": "execute_result"
    }
   ],
   "source": [
    "df['Availability']"
   ]
  },
  {
   "cell_type": "code",
   "execution_count": 45,
   "metadata": {},
   "outputs": [
    {
     "data": {
      "text/plain": [
       "(0.0, 80.0)"
      ]
     },
     "execution_count": 45,
     "metadata": {},
     "output_type": "execute_result"
    },
    {
     "data": {
      "image/png": "[encoded data removed]",
      "text/plain": [
       "<Figure size 360x360 with 1 Axes>"
      ]
     },
     "metadata": {
      "needs_background": "light"
     },
     "output_type": "display_data"
    }
   ],
   "source": [
    "sns.lmplot(x='TOTES', y='Availability', data=df)\n",
    "plt.xlim(0, 80)"
   ]
  },
  {
   "cell_type": "code",
   "execution_count": 33,
   "metadata": {},
   "outputs": [
    {
     "name": "stdout",
     "output_type": "stream",
     "text": [
      "\n",
      "Cross Validation Scores LinearRegression(fit_intercept=False): \n",
      " \n",
      "        R2 Scores\n",
      "1      -0.242974\n",
      "2       0.281424\n",
      "3      -0.134896\n",
      "4       0.139777\n",
      "5       0.320503\n",
      "Mean    0.072767\n",
      "STD     0.224596\n"
     ]
    }
   ],
   "source": [
    "X_train, X_test, y_train, y_test = md.split(X[['TOTES']],y)\n",
    "\n",
    "Linear_mdl,predictions_LM,Coeff,fit_metrics = md.run_LR_model(X_train, X_test, y_train, y_test,\n",
    "                                                              fit_intercept=False)\n",
    "\n",
    "cv_R2 = md.cross_validate_r2(Linear_mdl, X[['TOTES']], y, n_folds = 5, shuffle = True, random_state = 101)"
   ]
  },
  {
   "cell_type": "code",
   "execution_count": 34,
   "metadata": {},
   "outputs": [
    {
     "name": "stdout",
     "output_type": "stream",
     "text": [
      "\n",
      "Cross Validation Scores LinearRegression(fit_intercept=False): \n",
      " \n",
      "        R2 Scores\n",
      "1      -1.288845\n",
      "2      -0.840903\n",
      "3      -1.925331\n",
      "4      -2.319373\n",
      "5      -0.993040\n",
      "Mean   -1.473498\n",
      "STD     0.562987\n"
     ]
    }
   ],
   "source": [
    "X_train, X_test, y_train, y_test = md.split(X,y)\n",
    "\n",
    "Linear_mdl,predictions_LM,Coeff,fit_metrics = md.run_LR_model(X_train, X_test, y_train, y_test,\n",
    "                                                              fit_intercept=False)\n",
    "\n",
    "cv_R2 = md.cross_validate_r2(Linear_mdl, X, y, n_folds = 5, shuffle = True, random_state = 101)"
   ]
  },
  {
   "cell_type": "code",
   "execution_count": 35,
   "metadata": {},
   "outputs": [],
   "source": [
    "# model = sm.OLS(y_train, X_train)\n",
    "# results = model.fit()\n",
    "# print(results.summary())"
   ]
  },
  {
   "cell_type": "code",
   "execution_count": 36,
   "metadata": {},
   "outputs": [
    {
     "name": "stderr",
     "output_type": "stream",
     "text": [
      "C:\\Users\\chris.hughes\\Anaconda3\\lib\\site-packages\\statsmodels\\base\\model.py:1362: RuntimeWarning: invalid value encountered in true_divide\n",
      "  return self.params / self.bse\n",
      "C:\\Users\\chris.hughes\\Anaconda3\\lib\\site-packages\\scipy\\stats\\_distn_infrastructure.py:1932: RuntimeWarning: invalid value encountered in less_equal\n",
      "  cond2 = cond0 & (x <= _a)\n"
     ]
    },
    {
     "data": {
      "text/plain": [
       "Index(['C0501STA012', 'C0502ACH079', 'C0502STA030', 'C0502STA039',\n",
       "       'C0502STA059', 'C0502STA060', 'C0502STA097', 'C0503ACH234',\n",
       "       'C0503STA226', 'C05PTT012', 'C0703ACH114', 'C1501RDC224', 'C1501RDC232',\n",
       "       'C1501STA213', 'C1502ACH004', 'C1502STA006', 'C1502STA034',\n",
       "       'C1603BCL054', 'C1603BCL099', 'C1603RDC125', 'C1603RDC172',\n",
       "       'C1603RDC173', 'C1603RDC254', 'C1603STA103', 'C1603STA253',\n",
       "       'C2301ACH090', 'C2301BCL177', 'C2301RDC061', 'C2301RDC178',\n",
       "       'C2301STA022', 'C2301STA085', 'C2303ACH049', 'C2303ACH218',\n",
       "       'C2303BCH220', 'C2303BCL040', 'C2303BCL081', 'C2303RDC082',\n",
       "       'C2303RDC192', 'C2303STA080', 'SCS011', 'SCS014', 'TOTES'],\n",
       "      dtype='object')"
      ]
     },
     "execution_count": 36,
     "metadata": {},
     "output_type": "execute_result"
    }
   ],
   "source": [
    "X_train_rd = X_train\n",
    "max_p = 1\n",
    "while max_p > 0.10:\n",
    "    model = sm.OLS(y_train, X_train_rd)\n",
    "    results = model.fit()\n",
    "    max_p = max(results.pvalues)\n",
    "    rm_col = results.pvalues[results.pvalues == max_p].index.values[0]\n",
    "    X_train_rd = X_train_rd.drop([rm_col], axis=1)\n",
    "X_train_rd.columns"
   ]
  },
  {
   "cell_type": "code",
   "execution_count": 37,
   "metadata": {},
   "outputs": [
    {
     "name": "stdout",
     "output_type": "stream",
     "text": [
      "                                 OLS Regression Results                                \n",
      "=======================================================================================\n",
      "Dep. Variable:               Downtime   R-squared (uncentered):                   0.966\n",
      "Model:                            OLS   Adj. R-squared (uncentered):              0.961\n",
      "Method:                 Least Squares   F-statistic:                              198.2\n",
      "Date:                Tue, 22 Dec 2020   Prob (F-statistic):                   3.93e-189\n",
      "Time:                        16:32:08   Log-Likelihood:                          224.91\n",
      "No. Observations:                 332   AIC:                                     -365.8\n",
      "Df Residuals:                     290   BIC:                                     -206.0\n",
      "Df Model:                          42                                                  \n",
      "Covariance Type:            nonrobust                                                  \n",
      "===============================================================================\n",
      "                  coef    std err          t      P>|t|      [0.025      0.975]\n",
      "-------------------------------------------------------------------------------\n",
      "C0501STA012     0.0830      0.019      4.272      0.000       0.045       0.121\n",
      "C0502ACH079    -0.1399      0.069     -2.031      0.043      -0.275      -0.004\n",
      "C0502STA030    -0.1254      0.041     -3.063      0.002      -0.206      -0.045\n",
      "C0502STA039     0.0342      0.021      1.598      0.111      -0.008       0.076\n",
      "C0502STA059     0.1765      0.069      2.559      0.011       0.041       0.312\n",
      "C0502STA060    -0.1241      0.072     -1.736      0.084      -0.265       0.017\n",
      "C0502STA097     0.2035      0.105      1.935      0.054      -0.004       0.411\n",
      "C0503ACH234    -0.0776      0.031     -2.542      0.012      -0.138      -0.018\n",
      "C0503STA226    -1.2008      0.421     -2.851      0.005      -2.030      -0.372\n",
      "C05PTT012       0.0141      0.003      4.410      0.000       0.008       0.020\n",
      "C0703ACH114     0.1579      0.060      2.635      0.009       0.040       0.276\n",
      "C1501RDC224    -0.0772      0.045     -1.699      0.090      -0.167       0.012\n",
      "C1501RDC232     0.0817      0.047      1.735      0.084      -0.011       0.174\n",
      "C1501STA213    -0.2434      0.141     -1.731      0.085      -0.520       0.033\n",
      "C1502ACH004     0.0333      0.020      1.683      0.094      -0.006       0.072\n",
      "C1502STA006    -0.0907      0.048     -1.909      0.057      -0.184       0.003\n",
      "C1502STA034     0.0141      0.008      1.799      0.073      -0.001       0.030\n",
      "C1603BCL054     0.0131      0.004      3.663      0.000       0.006       0.020\n",
      "C1603BCL099     0.2449      0.146      1.674      0.095      -0.043       0.533\n",
      "C1603RDC125     0.1283      0.060      2.152      0.032       0.011       0.246\n",
      "C1603RDC172    -0.1289      0.067     -1.918      0.056      -0.261       0.003\n",
      "C1603RDC173     0.0448      0.011      3.927      0.000       0.022       0.067\n",
      "C1603RDC254    -0.0220      0.009     -2.516      0.012      -0.039      -0.005\n",
      "C1603STA103     0.0534      0.014      3.893      0.000       0.026       0.080\n",
      "C1603STA253     0.0134      0.003      4.189      0.000       0.007       0.020\n",
      "C2301ACH090    -1.6098      0.625     -2.578      0.010      -2.839      -0.381\n",
      "C2301BCL177     0.0165      0.009      1.921      0.056      -0.000       0.033\n",
      "C2301RDC061     0.0040      0.001      7.767      0.000       0.003       0.005\n",
      "C2301RDC178     0.0626      0.029      2.152      0.032       0.005       0.120\n",
      "C2301STA022     0.1545      0.077      1.997      0.047       0.002       0.307\n",
      "C2301STA085     0.0533      0.021      2.530      0.012       0.012       0.095\n",
      "C2303ACH049     0.2285      0.132      1.727      0.085      -0.032       0.489\n",
      "C2303ACH218    -0.0523      0.029     -1.772      0.077      -0.110       0.006\n",
      "C2303BCH220    -0.1243      0.058     -2.138      0.033      -0.239      -0.010\n",
      "C2303BCL040    -0.2710      0.134     -2.017      0.045      -0.535      -0.007\n",
      "C2303BCL081     0.2593      0.134      1.934      0.054      -0.005       0.523\n",
      "C2303RDC082     0.2910      0.097      3.008      0.003       0.101       0.481\n",
      "C2303RDC192     0.4361      0.150      2.902      0.004       0.140       0.732\n",
      "C2303STA080    -0.0905      0.036     -2.507      0.013      -0.161      -0.019\n",
      "SCS011          0.0093      0.003      2.674      0.008       0.002       0.016\n",
      "SCS014          0.0190      0.008      2.335      0.020       0.003       0.035\n",
      "TOTES           0.0109      0.000     34.527      0.000       0.010       0.012\n",
      "==============================================================================\n",
      "Omnibus:                       37.520   Durbin-Watson:                   1.865\n",
      "Prob(Omnibus):                  0.000   Jarque-Bera (JB):              121.977\n",
      "Skew:                           0.445   Prob(JB):                     3.26e-27\n",
      "Kurtosis:                       5.833   Cond. No.                     4.11e+03\n",
      "==============================================================================\n",
      "\n",
      "Warnings:\n",
      "[1] Standard Errors assume that the covariance matrix of the errors is correctly specified.\n",
      "[2] The condition number is large, 4.11e+03. This might indicate that there are\n",
      "strong multicollinearity or other numerical problems.\n"
     ]
    }
   ],
   "source": [
    "model = sm.OLS(y_train, X_train_rd)\n",
    "results = model.fit()\n",
    "print(results.summary())"
   ]
  },
  {
   "cell_type": "code",
   "execution_count": 38,
   "metadata": {},
   "outputs": [
    {
     "name": "stdout",
     "output_type": "stream",
     "text": [
      "\n",
      "Cross Validation Scores LinearRegression(fit_intercept=False): \n",
      " \n",
      "        R2 Scores\n",
      "1       0.064593\n",
      "2       0.318753\n",
      "3      -0.188444\n",
      "4       0.362122\n",
      "5       0.375732\n",
      "Mean    0.186551\n",
      "STD     0.218900\n"
     ]
    }
   ],
   "source": [
    "filt_columns = X_train_rd.columns\n",
    "X_train, X_test, y_train, y_test = md.split(X[filt_columns],y)\n",
    "\n",
    "Linear_mdl,predictions_LM,Coeff,fit_metrics = md.run_LR_model(X_train, X_test, y_train, y_test,\n",
    "                                                              fit_intercept=False)\n",
    "\n",
    "cv_R2 = md.cross_validate_r2(Linear_mdl, X[filt_columns], y, n_folds = 5, shuffle = True, random_state = 101)"
   ]
  },
  {
   "cell_type": "code",
   "execution_count": null,
   "metadata": {},
   "outputs": [],
   "source": [
    "X_train_rd.drop([(results.pvalues == max(results.pvalues)).index.values], axis=1)"
   ]
  },
  {
   "cell_type": "code",
   "execution_count": null,
   "metadata": {},
   "outputs": [],
   "source": [
    "keep_features = results.pvalues[results.pvalues < 0.10].index"
   ]
  },
  {
   "cell_type": "code",
   "execution_count": null,
   "metadata": {},
   "outputs": [],
   "source": [
    "model = sm.OLS(y,X[keep_features])\n",
    "results = model.fit()\n",
    "print(results.summary())"
   ]
  },
  {
   "cell_type": "code",
   "execution_count": null,
   "metadata": {},
   "outputs": [],
   "source": [
    "negs = results.params[results.params < 0].index\n",
    "negs"
   ]
  },
  {
   "cell_type": "code",
   "execution_count": null,
   "metadata": {},
   "outputs": [],
   "source": [
    "df['timestamp'].min()"
   ]
  },
  {
   "cell_type": "code",
   "execution_count": null,
   "metadata": {},
   "outputs": [],
   "source": [
    "list(negs.values)"
   ]
  },
  {
   "cell_type": "code",
   "execution_count": null,
   "metadata": {},
   "outputs": [],
   "source": [
    "fa[fa['Asset Code'].isin(list(negs.values))]"
   ]
  },
  {
   "cell_type": "code",
   "execution_count": null,
   "metadata": {},
   "outputs": [],
   "source": [
    "fa[fa['Asset Code'].isin([negs]) & (fa['timestamp'] >= df['timestamp'].min())]#['Fault ID'].value_counts()"
   ]
  }
 ],
 "metadata": {
  "kernelspec": {
   "display_name": "Python 3",
   "language": "python",
   "name": "python3"
  },
  "language_info": {
   "codemirror_mode": {
    "name": "ipython",
    "version": 3
   },
   "file_extension": ".py",
   "mimetype": "text/x-python",
   "name": "python",
   "nbconvert_exporter": "python",
   "pygments_lexer": "ipython3",
   "version": "3.8.3"
  }
 },
 "nbformat": 4,
 "nbformat_minor": 4
}
