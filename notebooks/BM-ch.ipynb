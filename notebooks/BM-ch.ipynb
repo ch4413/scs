{
 "cells": [
  {
   "cell_type": "code",
   "execution_count": 1,
   "metadata": {},
   "outputs": [
    {
     "name": "stderr",
     "output_type": "stream",
     "text": [
      "2020-12-22 09:42:54,473 - NumExpr defaulting to 8 threads.\n"
     ]
    }
   ],
   "source": [
    "import pandas as pd\n",
    "import numpy as np\n",
    "import seaborn as sns\n",
    "import matplotlib.pyplot as plt\n",
    "%matplotlib inline\n",
    "\n",
    "import scsavailability as scs\n",
    "    \n",
    "import statsmodels.api as sm\n",
    "from scipy import stats\n",
    "\n",
    "from scsavailability import features as feat, model as md, plotting as pt, score as sc"
   ]
  },
  {
   "cell_type": "code",
   "execution_count": 2,
   "metadata": {},
   "outputs": [],
   "source": [
    "path = '../raw_data/'"
   ]
  },
  {
   "cell_type": "code",
   "execution_count": 3,
   "metadata": {},
   "outputs": [],
   "source": [
    "at_raw = pd.read_csv(path+'active_totes_20201123.csv')\n",
    "av = pd.read_csv(path+'Availability_with_Grey&Blue_1811-2511.csv')\n",
    "#fa = pd.read_csv(path + 'scs_tote_matched.csv')\n",
    "scs_raw = pd.read_csv('../raw_data/SCS alerts Nov.csv')"
   ]
  },
  {
   "cell_type": "code",
   "execution_count": 4,
   "metadata": {},
   "outputs": [],
   "source": [
    "# HOTFIX - remove odd day\n",
    "at_raw = at_raw[~at_raw['DAY'].isin([9])]"
   ]
  },
  {
   "cell_type": "code",
   "execution_count": 5,
   "metadata": {},
   "outputs": [
    {
     "name": "stdout",
     "output_type": "stream",
     "text": [
      "Running: Function \"load_tote_lookup\" (id=2447675424832) was called 1 times\n"
     ]
    }
   ],
   "source": [
    "fa = feat.add_code(scs_raw)\n",
    "fa, unmapped = feat.add_tote_colour(fa)"
   ]
  },
  {
   "cell_type": "code",
   "execution_count": 6,
   "metadata": {},
   "outputs": [
    {
     "name": "stdout",
     "output_type": "stream",
     "text": [
      "Running: Function \"pre_process_AT\" (id=2447675427712) was called 1 times\n"
     ]
    }
   ],
   "source": [
    "at = feat.pre_process_AT(at_raw)"
   ]
  },
  {
   "cell_type": "code",
   "execution_count": 7,
   "metadata": {},
   "outputs": [
    {
     "name": "stdout",
     "output_type": "stream",
     "text": [
      "Running: Function \"pre_process_av\" (id=2447675428576) was called 1 times\n"
     ]
    }
   ],
   "source": [
    "av = feat.pre_process_av(av)"
   ]
  },
  {
   "cell_type": "code",
   "execution_count": 8,
   "metadata": {},
   "outputs": [
    {
     "name": "stdout",
     "output_type": "stream",
     "text": [
      "Running: Function \"preprocess_faults\" (id=2447675427280) was called 1 times\n",
      "Running: Function \"load_module_lookup\" (id=2447675426128) was called 1 times\n",
      "Running: Function \"load_ID_lookup\" (id=2447675426848) was called 1 times\n",
      "duplicated location faults removed - max duration kept\n",
      "HOTFIX: Quadrant only faults, PTT Asset Code update\n"
     ]
    }
   ],
   "source": [
    "fa = feat.preprocess_faults(fa,remove_same_location_faults = True)"
   ]
  },
  {
   "cell_type": "code",
   "execution_count": 9,
   "metadata": {},
   "outputs": [],
   "source": [
    "fa.loc[fa['Alert'].str.contains(r'C[0-9]{4}PTT[0-9]{3}'), 'Asset Code'] = fa.loc[fa['Alert'].str.contains(r'C[0-9]{4}PTT[0-9]{3}')]['Alert'].str.extract('(C[0-9]{4}PTT[0-9]{3})')[0].str.replace('02', '')"
   ]
  },
  {
   "cell_type": "code",
   "execution_count": 10,
   "metadata": {},
   "outputs": [
    {
     "name": "stdout",
     "output_type": "stream",
     "text": [
      "Time shifted by 0Minutes\n"
     ]
    }
   ],
   "source": [
    "fa_floor = feat.floor_shift_time_fa(fa, shift=0)"
   ]
  },
  {
   "cell_type": "code",
   "execution_count": 11,
   "metadata": {},
   "outputs": [
    {
     "data": {
      "text/html": [
       "<div>\n",
       "<style scoped>\n",
       "    .dataframe tbody tr th:only-of-type {\n",
       "        vertical-align: middle;\n",
       "    }\n",
       "\n",
       "    .dataframe tbody tr th {\n",
       "        vertical-align: top;\n",
       "    }\n",
       "\n",
       "    .dataframe thead th {\n",
       "        text-align: right;\n",
       "    }\n",
       "</style>\n",
       "<table border=\"1\" class=\"dataframe\">\n",
       "  <thead>\n",
       "    <tr style=\"text-align: right;\">\n",
       "      <th></th>\n",
       "      <th>Number</th>\n",
       "      <th>Alert</th>\n",
       "      <th>timestamp</th>\n",
       "      <th>PLC</th>\n",
       "      <th>Desk</th>\n",
       "      <th>Duration</th>\n",
       "      <th>Fault ID</th>\n",
       "      <th>Asset Code</th>\n",
       "      <th>Tote Colour</th>\n",
       "      <th>Loop</th>\n",
       "      <th>Suffix</th>\n",
       "      <th>Pick Station</th>\n",
       "      <th>PLCN</th>\n",
       "      <th>Quadrant</th>\n",
       "      <th>MODULE</th>\n",
       "      <th>Alert Type</th>\n",
       "    </tr>\n",
       "  </thead>\n",
       "  <tbody>\n",
       "    <tr>\n",
       "      <th>154357</th>\n",
       "      <td>107560.0</td>\n",
       "      <td>C13: C1302RDC086 086AQ1 roller motor unit fault</td>\n",
       "      <td>2020-11-22 06:29:00</td>\n",
       "      <td>C13</td>\n",
       "      <td>P02</td>\n",
       "      <td>1.0</td>\n",
       "      <td>3429</td>\n",
       "      <td>C1302RDC086</td>\n",
       "      <td>Grey</td>\n",
       "      <td>Module</td>\n",
       "      <td>C1302</td>\n",
       "      <td>False</td>\n",
       "      <td>13.0</td>\n",
       "      <td>4.0</td>\n",
       "      <td>17</td>\n",
       "      <td>Fault</td>\n",
       "    </tr>\n",
       "    <tr>\n",
       "      <th>154358</th>\n",
       "      <td>50586.0</td>\n",
       "      <td>C06: C0602RDC036 036AQ2 roller motor unit fault</td>\n",
       "      <td>2020-11-22 05:39:00</td>\n",
       "      <td>C06</td>\n",
       "      <td>P02</td>\n",
       "      <td>1.0</td>\n",
       "      <td>3429</td>\n",
       "      <td>C0602RDC036</td>\n",
       "      <td>Blue</td>\n",
       "      <td>Module</td>\n",
       "      <td>C0602</td>\n",
       "      <td>False</td>\n",
       "      <td>6.0</td>\n",
       "      <td>1.0</td>\n",
       "      <td>2</td>\n",
       "      <td>Fault</td>\n",
       "    </tr>\n",
       "    <tr>\n",
       "      <th>159975</th>\n",
       "      <td>430945.0</td>\n",
       "      <td>SCS183: main switch is OFF in automaticmode X:...</td>\n",
       "      <td>2020-11-25 01:49:00</td>\n",
       "      <td>SCSM18</td>\n",
       "      <td>SCS183</td>\n",
       "      <td>1.0</td>\n",
       "      <td>5032</td>\n",
       "      <td>SCS183</td>\n",
       "      <td>Grey</td>\n",
       "      <td>carousel</td>\n",
       "      <td>SCSM18</td>\n",
       "      <td>False</td>\n",
       "      <td>0.0</td>\n",
       "      <td>4.0</td>\n",
       "      <td>18</td>\n",
       "      <td>Fault</td>\n",
       "    </tr>\n",
       "    <tr>\n",
       "      <th>154360</th>\n",
       "      <td>50586.0</td>\n",
       "      <td>C06: C0602RDC036 036AQ2 roller motor unit fault</td>\n",
       "      <td>2020-11-22 05:38:00</td>\n",
       "      <td>C06</td>\n",
       "      <td>P02</td>\n",
       "      <td>1.0</td>\n",
       "      <td>3429</td>\n",
       "      <td>C0602RDC036</td>\n",
       "      <td>Blue</td>\n",
       "      <td>Module</td>\n",
       "      <td>C0602</td>\n",
       "      <td>False</td>\n",
       "      <td>6.0</td>\n",
       "      <td>1.0</td>\n",
       "      <td>2</td>\n",
       "      <td>Fault</td>\n",
       "    </tr>\n",
       "    <tr>\n",
       "      <th>159972</th>\n",
       "      <td>430721.0</td>\n",
       "      <td>SCS182: main switch is OFF in automaticmode X:...</td>\n",
       "      <td>2020-11-25 01:49:00</td>\n",
       "      <td>SCSM18</td>\n",
       "      <td>SCS182</td>\n",
       "      <td>1.0</td>\n",
       "      <td>5032</td>\n",
       "      <td>SCS182</td>\n",
       "      <td>Grey</td>\n",
       "      <td>carousel</td>\n",
       "      <td>SCSM18</td>\n",
       "      <td>False</td>\n",
       "      <td>0.0</td>\n",
       "      <td>4.0</td>\n",
       "      <td>18</td>\n",
       "      <td>Fault</td>\n",
       "    </tr>\n",
       "    <tr>\n",
       "      <th>...</th>\n",
       "      <td>...</td>\n",
       "      <td>...</td>\n",
       "      <td>...</td>\n",
       "      <td>...</td>\n",
       "      <td>...</td>\n",
       "      <td>...</td>\n",
       "      <td>...</td>\n",
       "      <td>...</td>\n",
       "      <td>...</td>\n",
       "      <td>...</td>\n",
       "      <td>...</td>\n",
       "      <td>...</td>\n",
       "      <td>...</td>\n",
       "      <td>...</td>\n",
       "      <td>...</td>\n",
       "      <td>...</td>\n",
       "    </tr>\n",
       "    <tr>\n",
       "      <th>19295</th>\n",
       "      <td>141205.0</td>\n",
       "      <td>C17: C1701RDC251 251B11 occupancy sensor fault</td>\n",
       "      <td>2020-11-14 14:48:00</td>\n",
       "      <td>C17</td>\n",
       "      <td>P01</td>\n",
       "      <td>64249.0</td>\n",
       "      <td>3416</td>\n",
       "      <td>C1701RDC251</td>\n",
       "      <td>Blue</td>\n",
       "      <td>NaN</td>\n",
       "      <td>NaN</td>\n",
       "      <td>False</td>\n",
       "      <td>17.0</td>\n",
       "      <td>0.0</td>\n",
       "      <td>NaN</td>\n",
       "      <td>Fault</td>\n",
       "    </tr>\n",
       "    <tr>\n",
       "      <th>131073</th>\n",
       "      <td>130631.0</td>\n",
       "      <td>C16: C1602ACL040 040QM11 motor circuit breaker...</td>\n",
       "      <td>2020-11-24 05:50:00</td>\n",
       "      <td>C16</td>\n",
       "      <td>P02</td>\n",
       "      <td>65301.0</td>\n",
       "      <td>3430</td>\n",
       "      <td>C1602ACL040</td>\n",
       "      <td>Blue</td>\n",
       "      <td>NaN</td>\n",
       "      <td>NaN</td>\n",
       "      <td>False</td>\n",
       "      <td>16.0</td>\n",
       "      <td>0.0</td>\n",
       "      <td>NaN</td>\n",
       "      <td>Fault</td>\n",
       "    </tr>\n",
       "    <tr>\n",
       "      <th>81842</th>\n",
       "      <td>188345.0</td>\n",
       "      <td>C23: C2303BCL151 151B54 sensor fault</td>\n",
       "      <td>2020-11-22 05:26:00</td>\n",
       "      <td>C23</td>\n",
       "      <td>P03</td>\n",
       "      <td>65901.0</td>\n",
       "      <td>3428</td>\n",
       "      <td>C2303BCL151</td>\n",
       "      <td>Blue</td>\n",
       "      <td>Outside</td>\n",
       "      <td>C2303</td>\n",
       "      <td>False</td>\n",
       "      <td>23.0</td>\n",
       "      <td>0.0</td>\n",
       "      <td>NaN</td>\n",
       "      <td>Fault</td>\n",
       "    </tr>\n",
       "    <tr>\n",
       "      <th>20149</th>\n",
       "      <td>141205.0</td>\n",
       "      <td>C17: C1701RDC251 251B11 occupancy sensor fault</td>\n",
       "      <td>2020-11-13 10:27:00</td>\n",
       "      <td>C17</td>\n",
       "      <td>P01</td>\n",
       "      <td>72401.0</td>\n",
       "      <td>3416</td>\n",
       "      <td>C1701RDC251</td>\n",
       "      <td>Blue</td>\n",
       "      <td>NaN</td>\n",
       "      <td>NaN</td>\n",
       "      <td>False</td>\n",
       "      <td>17.0</td>\n",
       "      <td>0.0</td>\n",
       "      <td>NaN</td>\n",
       "      <td>Fault</td>\n",
       "    </tr>\n",
       "    <tr>\n",
       "      <th>80996</th>\n",
       "      <td>188345.0</td>\n",
       "      <td>C23: C2303BCL151 151B54 sensor fault</td>\n",
       "      <td>2020-11-11 02:57:00</td>\n",
       "      <td>C23</td>\n",
       "      <td>P03</td>\n",
       "      <td>83447.0</td>\n",
       "      <td>3428</td>\n",
       "      <td>C2303BCL151</td>\n",
       "      <td>Blue</td>\n",
       "      <td>Outside</td>\n",
       "      <td>C2303</td>\n",
       "      <td>False</td>\n",
       "      <td>23.0</td>\n",
       "      <td>0.0</td>\n",
       "      <td>NaN</td>\n",
       "      <td>Fault</td>\n",
       "    </tr>\n",
       "  </tbody>\n",
       "</table>\n",
       "<p>121851 rows × 16 columns</p>\n",
       "</div>"
      ],
      "text/plain": [
       "          Number                                              Alert  \\\n",
       "154357  107560.0    C13: C1302RDC086 086AQ1 roller motor unit fault   \n",
       "154358   50586.0    C06: C0602RDC036 036AQ2 roller motor unit fault   \n",
       "159975  430945.0  SCS183: main switch is OFF in automaticmode X:...   \n",
       "154360   50586.0    C06: C0602RDC036 036AQ2 roller motor unit fault   \n",
       "159972  430721.0  SCS182: main switch is OFF in automaticmode X:...   \n",
       "...          ...                                                ...   \n",
       "19295   141205.0     C17: C1701RDC251 251B11 occupancy sensor fault   \n",
       "131073  130631.0  C16: C1602ACL040 040QM11 motor circuit breaker...   \n",
       "81842   188345.0               C23: C2303BCL151 151B54 sensor fault   \n",
       "20149   141205.0     C17: C1701RDC251 251B11 occupancy sensor fault   \n",
       "80996   188345.0               C23: C2303BCL151 151B54 sensor fault   \n",
       "\n",
       "                 timestamp     PLC    Desk  Duration  Fault ID   Asset Code  \\\n",
       "154357 2020-11-22 06:29:00     C13     P02       1.0      3429  C1302RDC086   \n",
       "154358 2020-11-22 05:39:00     C06     P02       1.0      3429  C0602RDC036   \n",
       "159975 2020-11-25 01:49:00  SCSM18  SCS183       1.0      5032       SCS183   \n",
       "154360 2020-11-22 05:38:00     C06     P02       1.0      3429  C0602RDC036   \n",
       "159972 2020-11-25 01:49:00  SCSM18  SCS182       1.0      5032       SCS182   \n",
       "...                    ...     ...     ...       ...       ...          ...   \n",
       "19295  2020-11-14 14:48:00     C17     P01   64249.0      3416  C1701RDC251   \n",
       "131073 2020-11-24 05:50:00     C16     P02   65301.0      3430  C1602ACL040   \n",
       "81842  2020-11-22 05:26:00     C23     P03   65901.0      3428  C2303BCL151   \n",
       "20149  2020-11-13 10:27:00     C17     P01   72401.0      3416  C1701RDC251   \n",
       "80996  2020-11-11 02:57:00     C23     P03   83447.0      3428  C2303BCL151   \n",
       "\n",
       "       Tote Colour      Loop  Suffix Pick Station  PLCN  Quadrant MODULE  \\\n",
       "154357        Grey    Module   C1302        False  13.0       4.0     17   \n",
       "154358        Blue    Module   C0602        False   6.0       1.0      2   \n",
       "159975        Grey  carousel  SCSM18        False   0.0       4.0     18   \n",
       "154360        Blue    Module   C0602        False   6.0       1.0      2   \n",
       "159972        Grey  carousel  SCSM18        False   0.0       4.0     18   \n",
       "...            ...       ...     ...          ...   ...       ...    ...   \n",
       "19295         Blue       NaN     NaN        False  17.0       0.0    NaN   \n",
       "131073        Blue       NaN     NaN        False  16.0       0.0    NaN   \n",
       "81842         Blue   Outside   C2303        False  23.0       0.0    NaN   \n",
       "20149         Blue       NaN     NaN        False  17.0       0.0    NaN   \n",
       "80996         Blue   Outside   C2303        False  23.0       0.0    NaN   \n",
       "\n",
       "       Alert Type  \n",
       "154357      Fault  \n",
       "154358      Fault  \n",
       "159975      Fault  \n",
       "154360      Fault  \n",
       "159972      Fault  \n",
       "...           ...  \n",
       "19295       Fault  \n",
       "131073      Fault  \n",
       "81842       Fault  \n",
       "20149       Fault  \n",
       "80996       Fault  \n",
       "\n",
       "[121851 rows x 16 columns]"
      ]
     },
     "execution_count": 11,
     "metadata": {},
     "output_type": "execute_result"
    }
   ],
   "source": [
    "fa['MODULE']"
   ]
  },
  {
   "cell_type": "code",
   "execution_count": null,
   "metadata": {},
   "outputs": [],
   "source": [
    "mod = [7]\n",
    "limit = 250"
   ]
  },
  {
   "cell_type": "code",
   "execution_count": null,
   "metadata": {},
   "outputs": [],
   "source": [
    "fa_sel_1 = feat.get_data_faults(fa_floor, modules = mod)\n",
    "\n",
    "most_common = list(((fa_sel_1['Asset Code'].value_counts() > limit)[fa_sel_1['Asset Code'].value_counts() > limit]).index)\n",
    "fa_sel = fa_sel_1[fa_sel_1['Asset Code'].isin(most_common)]"
   ]
  },
  {
   "cell_type": "code",
   "execution_count": null,
   "metadata": {},
   "outputs": [],
   "source": [
    "#fa_sel = feat.fault_select(fa_floor, fault_select_options = {'Tote Colour':['Blue']})\n",
    "                                                            \n",
    "fa_agg = feat.faults_aggregate(fa_sel, fault_agg_level= 'Asset Code', agg_type = 'count')"
   ]
  },
  {
   "cell_type": "code",
   "execution_count": null,
   "metadata": {},
   "outputs": [],
   "source": [
    "av_sel, at_sel = feat.av_at_select(av, at, remove_high_AT = True, availability_select_options = {\"Module\" : mod})\n",
    "\n",
    "av_agg = feat.aggregate_availability(av_sel, agg_level = 'Module')\n",
    "at_agg = feat.aggregate_totes(at_sel, agg_level = 'Module')"
   ]
  },
  {
   "cell_type": "code",
   "execution_count": null,
   "metadata": {},
   "outputs": [],
   "source": [
    "df = feat.merge_av_fa_at(av_agg ,at_df=at_agg, fa_df = fa_agg, agg_level = 'None')"
   ]
  },
  {
   "cell_type": "code",
   "execution_count": null,
   "metadata": {},
   "outputs": [],
   "source": [
    "# df = (pd.merge(at_agg.reset_index(), av_agg.reset_index(), on=['timestamp', 'Module'], how='left')\n",
    "#  .merge(fa_agg, on=['timestamp'], how='left')).drop(['Module', 'Blue Tote Loss', 'Grey Tote Loss'], axis=1)\n",
    "# df = df.fillna(0)"
   ]
  },
  {
   "cell_type": "code",
   "execution_count": null,
   "metadata": {},
   "outputs": [],
   "source": [
    "X,y = md.gen_feat_var(df)\n",
    "X = X.drop('Module', axis=1)\n",
    "# Flip to availability\n",
    "y=1-y"
   ]
  },
  {
   "cell_type": "code",
   "execution_count": null,
   "metadata": {},
   "outputs": [],
   "source": [
    "X_train, X_test, y_train, y_test = md.split(X,y)\n",
    "\n",
    "#RF_mdl,predictions_RF=md.run_RF_model(X_train, X_test, y_train, y_test,num_trees=100, criterion = 'mse', max_depth=None, dtree=False)\n",
    "\n",
    "Linear_mdl,predictions_LM,Coeff,fit_metrics = md.run_LR_model(X_train, X_test, y_train, y_test)\n",
    "\n",
    "#XGB_mdl,predictions_XGB,Importance_XGB = md.run_XGB_model(X_train, X_test, y_train, y_test)\n",
    "\n",
    "maxf = None\n",
    "\n",
    "# X_sel_rf = md.select_features(X, y, RF_mdl, thres = -np.inf, max_feat = maxf)\n",
    "\n",
    "#X_sel_lm = md.select_features(X, y, Linear_mdl, selection_options={'thres': 'mean', 'max_feat': None})\n",
    "\n",
    "#X_sel_XGB = md.select_features(X, y, XGB_mdl, selection_options={'thres': 'mean', 'max_feat': None})\n",
    "\n",
    "#X_train, X_test, y_train, y_test = md.split(X_sel_lm,y,test_size=0.3,random_state=101)\n",
    "\n",
    "#Linear_mdl,predictions_LM,Coeff,fit_metrics = md.run_LR_model(X_train, X_test, y_train, y_test)\n",
    "\n",
    "\n",
    "cv_R2 = md.cross_validate_r2(Linear_mdl, X, y, n_folds = 5, shuffle = True, random_state = 101)\n",
    "\n",
    "#cv_R2 = md.cross_validate_r2(RF_mdl, X_sel_rf, y, n_folds = 10, shuffle = True, random_state = 101)\n",
    "\n",
    "#cv_R2 = md.cross_validate_r2(XGB_mdl, X, y, n_folds = 10, shuffle = True, random_state = 101)\n",
    "\n",
    "#md.stats_model(Linear_mdl,X_test,y_test)"
   ]
  },
  {
   "cell_type": "code",
   "execution_count": null,
   "metadata": {},
   "outputs": [],
   "source": [
    "model = sm.OLS(y,X)\n",
    "results = model.fit()\n",
    "print(results.summary())"
   ]
  },
  {
   "cell_type": "code",
   "execution_count": null,
   "metadata": {},
   "outputs": [],
   "source": [
    "keep_features = results.pvalues[results.pvalues < 0.10].index"
   ]
  },
  {
   "cell_type": "code",
   "execution_count": null,
   "metadata": {},
   "outputs": [],
   "source": [
    "model = sm.OLS(y,X[keep_features])\n",
    "results = model.fit()\n",
    "print(results.summary())"
   ]
  },
  {
   "cell_type": "code",
   "execution_count": null,
   "metadata": {},
   "outputs": [],
   "source": [
    "negs = results.params[results.params < 0].index\n",
    "negs"
   ]
  },
  {
   "cell_type": "code",
   "execution_count": null,
   "metadata": {},
   "outputs": [],
   "source": [
    "df['timestamp'].min()"
   ]
  },
  {
   "cell_type": "code",
   "execution_count": null,
   "metadata": {},
   "outputs": [],
   "source": [
    "fa[fa['Asset Code'].isin([negs]) & (fa['timestamp'] >= df['timestamp'].min())]#['Fault ID'].value_counts()"
   ]
  },
  {
   "cell_type": "code",
   "execution_count": null,
   "metadata": {},
   "outputs": [],
   "source": []
  }
 ],
 "metadata": {
  "kernelspec": {
   "display_name": "Python 3",
   "language": "python",
   "name": "python3"
  },
  "language_info": {
   "codemirror_mode": {
    "name": "ipython",
    "version": 3
   },
   "file_extension": ".py",
   "mimetype": "text/x-python",
   "name": "python",
   "nbconvert_exporter": "python",
   "pygments_lexer": "ipython3",
   "version": "3.8.3"
  }
 },
 "nbformat": 4,
 "nbformat_minor": 4
}
