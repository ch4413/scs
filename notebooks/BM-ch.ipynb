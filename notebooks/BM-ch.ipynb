{
 "cells": [
  {
   "cell_type": "code",
   "execution_count": 1,
   "metadata": {},
   "outputs": [
    {
     "name": "stderr",
     "output_type": "stream",
     "text": [
      "2020-12-17 13:38:05,053 - NumExpr defaulting to 8 threads.\n"
     ]
    }
   ],
   "source": [
    "import pandas as pd\n",
    "import numpy as np\n",
    "import seaborn as sns\n",
    "import matplotlib.pyplot as plt\n",
    "%matplotlib inline\n",
    "\n",
    "import scsavailability as scs\n",
    "    \n",
    "import statsmodels.api as sm\n",
    "from scipy import stats\n",
    "\n",
    "from scsavailability import features as feat, model as md, plotting as pt, score as sc"
   ]
  },
  {
   "cell_type": "code",
   "execution_count": 2,
   "metadata": {},
   "outputs": [],
   "source": [
    "path = '../raw_data/'"
   ]
  },
  {
   "cell_type": "code",
   "execution_count": 3,
   "metadata": {},
   "outputs": [],
   "source": [
    "at = pd.read_csv(path+'active_totes_20201123.csv')\n",
    "av = pd.read_csv(path+'Availability_with_Grey&Blue_1811-2511.csv')\n",
    "#fa = pd.read_csv(path + 'scs_tote_matched.csv')\n",
    "scs_raw = pd.read_csv('../raw_data/SCS alerts Nov.csv')"
   ]
  },
  {
   "cell_type": "code",
   "execution_count": 4,
   "metadata": {},
   "outputs": [
    {
     "name": "stdout",
     "output_type": "stream",
     "text": [
      "Running: Function \"load_tote_lookup\" (id=2475968027376) was called 1 times\n"
     ]
    }
   ],
   "source": [
    "fa = feat.add_code(scs_raw)\n",
    "fa, unmapped = feat.add_tote_colour(fa)"
   ]
  },
  {
   "cell_type": "code",
   "execution_count": 5,
   "metadata": {},
   "outputs": [
    {
     "name": "stdout",
     "output_type": "stream",
     "text": [
      "Running: Function \"pre_process_AT\" (id=2475968026224) was called 1 times\n"
     ]
    }
   ],
   "source": [
    "at = feat.pre_process_AT(at)"
   ]
  },
  {
   "cell_type": "code",
   "execution_count": 6,
   "metadata": {},
   "outputs": [
    {
     "name": "stdout",
     "output_type": "stream",
     "text": [
      "Running: Function \"pre_process_av\" (id=2475968027088) was called 1 times\n"
     ]
    }
   ],
   "source": [
    "av = feat.pre_process_av(av)"
   ]
  },
  {
   "cell_type": "code",
   "execution_count": 7,
   "metadata": {},
   "outputs": [
    {
     "name": "stdout",
     "output_type": "stream",
     "text": [
      "Running: Function \"preprocess_faults\" (id=2475968028240) was called 1 times\n",
      "Running: Function \"load_module_lookup\" (id=2475968025504) was called 1 times\n",
      "duplicated location faults removed - max duration kept\n",
      "HOTFIX: Quadrant only faults, PTT Asset Code update\n"
     ]
    }
   ],
   "source": [
    "fa = feat.preprocess_faults(fa,remove_same_location_faults = True)"
   ]
  },
  {
   "cell_type": "code",
   "execution_count": 40,
   "metadata": {},
   "outputs": [
    {
     "name": "stdout",
     "output_type": "stream",
     "text": [
      "Time shifted by 0Minutes\n"
     ]
    }
   ],
   "source": [
    "fa_floor = feat.floor_shift_time_fa(fa, shift=0)"
   ]
  },
  {
   "cell_type": "code",
   "execution_count": 71,
   "metadata": {},
   "outputs": [],
   "source": [
    "mod = [1]\n",
    "limit = 200"
   ]
  },
  {
   "cell_type": "code",
   "execution_count": 104,
   "metadata": {},
   "outputs": [],
   "source": [
    "fa_sel_1 = feat.get_data_faults(fa_floor, modules = mod)\n",
    "\n",
    "most_common = list(((fa_sel_1['Asset Code'].value_counts() > 250)[fa_sel_1['Asset Code'].value_counts() > 250]).index)\n",
    "fa_sel = fa_sel_1[fa_sel_1['Asset Code'].isin(most_common)]"
   ]
  },
  {
   "cell_type": "code",
   "execution_count": 92,
   "metadata": {},
   "outputs": [],
   "source": [
    "#fa_sel = feat.fault_select(fa_floor, fault_select_options = {'Tote Colour':['Blue']})\n",
    "                                                            \n",
    "fa_agg = feat.faults_aggregate(fa_sel, fault_agg_level= 'Asset Code', agg_type = 'count')"
   ]
  },
  {
   "cell_type": "code",
   "execution_count": 93,
   "metadata": {},
   "outputs": [
    {
     "name": "stdout",
     "output_type": "stream",
     "text": [
      "Running: Function \"aggregate_availability\" (id=2475968025936) was called 8 times\n"
     ]
    }
   ],
   "source": [
    "av_sel, at_sel = feat.av_at_select(av, at, remove_high_AT = True, availability_select_options = {\"Module\" : mod})\n",
    "\n",
    "av_agg = feat.aggregate_availability(av_sel, agg_level = 'Module')\n",
    "at_agg = feat.aggregate_totes(at_sel, agg_level = 'Module')"
   ]
  },
  {
   "cell_type": "code",
   "execution_count": 94,
   "metadata": {},
   "outputs": [],
   "source": [
    "df = feat.merge_av_fa_at(av_agg ,at_df=at_agg, fa_df = fa_agg, agg_level = 'None')"
   ]
  },
  {
   "cell_type": "code",
   "execution_count": 95,
   "metadata": {},
   "outputs": [],
   "source": [
    "X,y = md.gen_feat_var(df)\n",
    "# Flip to availability\n",
    "y=1-y"
   ]
  },
  {
   "cell_type": "code",
   "execution_count": 97,
   "metadata": {},
   "outputs": [
    {
     "name": "stdout",
     "output_type": "stream",
     "text": [
      "Feature Importance Ranking: \n",
      " \n",
      "    Importance      Feature\n",
      "0    0.214101        TOTES\n",
      "1    0.148478  C2302STA014\n",
      "2    0.129058  C2301RDC061\n",
      "3    0.083377       SCS011\n",
      "4    0.076334  C0503STA252\n",
      "5    0.065500  C1603BCL054\n",
      "6    0.058668  C2301BCL177\n",
      "7    0.047371  C1603STA253\n",
      "8    0.044931    C05PTT012\n",
      "9    0.039630  C1603BCL014\n",
      "\n",
      "Regression Metrics: \n",
      " \n",
      "          XGB Metrics\n",
      "MAE         0.132136\n",
      "MSE        0.0264231\n",
      "RMSE        0.162552\n",
      "MAPE%          28.52\n",
      "ACC%           71.48\n",
      "OOB              N/A\n",
      "R2_Train    0.999965\n",
      "R2_Pred     0.447562 \n",
      "\n",
      "\n",
      "Cross Validation Scores LinearRegression(): \n",
      " \n",
      "        R2 Scores\n",
      "1       0.429750\n",
      "2       0.205244\n",
      "3       0.395064\n",
      "4       0.548279\n",
      "5       0.378044\n",
      "Mean    0.391276\n",
      "STD     0.110388\n",
      "\n",
      "Cross Validation Scores XGBRegressor(base_score=0.5, booster='gbtree', colsample_bylevel=1,\n",
      "             colsample_bynode=1, colsample_bytree=1, gamma=0, gpu_id=-1,\n",
      "             importance_type='gain', interaction_constraints='',\n",
      "             learning_rate=0.300000012, max_delta_step=0, max_depth=6,\n",
      "             min_child_weight=1, missing=nan, monotone_constraints='()',\n",
      "             n_estimators=100, n_jobs=0, num_parallel_tree=1, random_state=0,\n",
      "             reg_alpha=0, reg_lambda=1, scale_pos_weight=1, subsample=1,\n",
      "             tree_method='exact', validate_parameters=1, verbosity=None): \n",
      " \n",
      "        R2 Scores\n",
      "1       0.338173\n",
      "2       0.646665\n",
      "3      -0.727784\n",
      "4       0.307094\n",
      "5       0.244947\n",
      "6       0.488341\n",
      "7       0.051740\n",
      "8       0.550662\n",
      "9       0.265314\n",
      "10      0.527569\n",
      "Mean    0.269272\n",
      "STD     0.372094\n"
     ]
    }
   ],
   "source": [
    "X_train, X_test, y_train, y_test = md.split(X,y)\n",
    "\n",
    "#RF_mdl,predictions_RF=md.run_RF_model(X_train, X_test, y_train, y_test,num_trees=100, criterion = 'mse', max_depth=None, dtree=False)\n",
    "\n",
    "Linear_mdl,predictions_LM,Coeff,fit_metrics = md.run_LR_model(X_train, X_test, y_train, y_test)\n",
    "\n",
    "XGB_mdl,predictions_XGB,Importance_XGB = md.run_XGB_model(X_train, X_test, y_train, y_test)\n",
    "\n",
    "maxf = None\n",
    "\n",
    "# X_sel_rf = md.select_features(X, y, RF_mdl, thres = -np.inf, max_feat = maxf)\n",
    "\n",
    "#X_sel_lm = md.select_features(X, y, Linear_mdl, selection_options={'thres': 'mean', 'max_feat': None})\n",
    "\n",
    "#X_sel_XGB = md.select_features(X, y, XGB_mdl, selection_options={'thres': 'mean', 'max_feat': None})\n",
    "\n",
    "#X_train, X_test, y_train, y_test = md.split(X_sel_lm,y,test_size=0.3,random_state=101)\n",
    "\n",
    "#Linear_mdl,predictions_LM,Coeff,fit_metrics = md.run_LR_model(X_train, X_test, y_train, y_test)\n",
    "\n",
    "\n",
    "cv_R2 = md.cross_validate_r2(Linear_mdl, X, y, n_folds = 5, shuffle = True, random_state = 101)\n",
    "\n",
    "#cv_R2 = md.cross_validate_r2(RF_mdl, X_sel_rf, y, n_folds = 10, shuffle = True, random_state = 101)\n",
    "\n",
    "cv_R2 = md.cross_validate_r2(XGB_mdl, X, y, n_folds = 10, shuffle = True, random_state = 101)\n",
    "\n",
    "#md.stats_model(Linear_mdl,X_test,y_test)"
   ]
  },
  {
   "cell_type": "code",
   "execution_count": 98,
   "metadata": {},
   "outputs": [],
   "source": [
    "import statsmodels.api as sm"
   ]
  },
  {
   "cell_type": "code",
   "execution_count": 99,
   "metadata": {},
   "outputs": [],
   "source": [
    "model = sm.OLS(y,X)\n",
    "results = model.fit()"
   ]
  },
  {
   "cell_type": "code",
   "execution_count": 100,
   "metadata": {},
   "outputs": [
    {
     "name": "stdout",
     "output_type": "stream",
     "text": [
      "                            OLS Regression Results                            \n",
      "==============================================================================\n",
      "Dep. Variable:               Downtime   R-squared:                       0.563\n",
      "Model:                            OLS   Adj. R-squared:                  0.513\n",
      "Method:                 Least Squares   F-statistic:                     11.17\n",
      "Date:                Thu, 17 Dec 2020   Prob (F-statistic):           5.11e-17\n",
      "Time:                        14:00:08   Log-Likelihood:                 91.569\n",
      "No. Observations:                 146   AIC:                            -151.1\n",
      "Df Residuals:                     130   BIC:                            -103.4\n",
      "Df Model:                          15                                         \n",
      "Covariance Type:            nonrobust                                         \n",
      "===============================================================================\n",
      "                  coef    std err          t      P>|t|      [0.025      0.975]\n",
      "-------------------------------------------------------------------------------\n",
      "C0502STA077     0.0357      0.085      0.423      0.673      -0.132       0.203\n",
      "C0503STA252    -0.0242      0.016     -1.520      0.131      -0.056       0.007\n",
      "C05PTT011       0.0005      0.009      0.051      0.960      -0.018       0.019\n",
      "C05PTT012      -0.0107      0.005     -2.344      0.021      -0.020      -0.002\n",
      "C1603BCL014    -0.0438      0.013     -3.274      0.001      -0.070      -0.017\n",
      "C1603BCL054    -0.0063      0.010     -0.640      0.523      -0.026       0.013\n",
      "C1603STA253     0.0076      0.005      1.585      0.115      -0.002       0.017\n",
      "C2301BCL177     0.0010      0.012      0.086      0.932      -0.023       0.025\n",
      "C2301RDC061     0.0018      0.001      2.439      0.016       0.000       0.003\n",
      "C2301RDC173     0.0183      0.025      0.736      0.463      -0.031       0.068\n",
      "C2301STA175     0.0090      0.005      1.694      0.093      -0.002       0.020\n",
      "C2302STA014     0.0180      0.005      3.554      0.001       0.008       0.028\n",
      "SCS011          0.0169      0.007      2.354      0.020       0.003       0.031\n",
      "SCSM01         -0.0090      0.005     -1.731      0.086      -0.019       0.001\n",
      "Module          0.1977      0.049      4.056      0.000       0.101       0.294\n",
      "TOTES           0.0094      0.001      7.845      0.000       0.007       0.012\n",
      "==============================================================================\n",
      "Omnibus:                        0.119   Durbin-Watson:                   1.313\n",
      "Prob(Omnibus):                  0.942   Jarque-Bera (JB):                0.263\n",
      "Skew:                          -0.042   Prob(JB):                        0.877\n",
      "Kurtosis:                       2.810   Cond. No.                         271.\n",
      "==============================================================================\n",
      "\n",
      "Warnings:\n",
      "[1] Standard Errors assume that the covariance matrix of the errors is correctly specified.\n"
     ]
    }
   ],
   "source": [
    "print(results.summary())"
   ]
  },
  {
   "cell_type": "code",
   "execution_count": 105,
   "metadata": {},
   "outputs": [],
   "source": [
    "rm =  ['C0502STA077', 'C05PTT011', 'C1603BCL054', 'C2301BCL177', 'C2301RDC173', 'Module']"
   ]
  },
  {
   "cell_type": "code",
   "execution_count": 106,
   "metadata": {},
   "outputs": [],
   "source": [
    "X_d = X.drop(rm, axis=1)"
   ]
  },
  {
   "cell_type": "code",
   "execution_count": 107,
   "metadata": {},
   "outputs": [
    {
     "name": "stdout",
     "output_type": "stream",
     "text": [
      "                                 OLS Regression Results                                \n",
      "=======================================================================================\n",
      "Dep. Variable:               Downtime   R-squared (uncentered):                   0.938\n",
      "Model:                            OLS   Adj. R-squared (uncentered):              0.933\n",
      "Method:                 Least Squares   F-statistic:                              204.1\n",
      "Date:                Thu, 17 Dec 2020   Prob (F-statistic):                    1.02e-76\n",
      "Time:                        14:49:46   Log-Likelihood:                          81.068\n",
      "No. Observations:                 146   AIC:                                     -142.1\n",
      "Df Residuals:                     136   BIC:                                     -112.3\n",
      "Df Model:                          10                                                  \n",
      "Covariance Type:            nonrobust                                                  \n",
      "===============================================================================\n",
      "                  coef    std err          t      P>|t|      [0.025      0.975]\n",
      "-------------------------------------------------------------------------------\n",
      "C0503STA252    -0.0167      0.016     -1.041      0.300      -0.048       0.015\n",
      "C05PTT012      -0.0017      0.004     -0.417      0.677      -0.010       0.006\n",
      "C1603BCL014    -0.0414      0.014     -3.005      0.003      -0.069      -0.014\n",
      "C1603STA253     0.0144      0.005      3.100      0.002       0.005       0.024\n",
      "C2301RDC061     0.0029      0.001      4.231      0.000       0.002       0.004\n",
      "C2301STA175     0.0121      0.005      2.297      0.023       0.002       0.023\n",
      "C2302STA014     0.0174      0.005      3.344      0.001       0.007       0.028\n",
      "SCS011          0.0120      0.007      1.637      0.104      -0.002       0.026\n",
      "SCSM01         -0.0032      0.005     -0.617      0.538      -0.013       0.007\n",
      "TOTES           0.0134      0.001     19.226      0.000       0.012       0.015\n",
      "==============================================================================\n",
      "Omnibus:                        0.346   Durbin-Watson:                   1.216\n",
      "Prob(Omnibus):                  0.841   Jarque-Bera (JB):                0.393\n",
      "Skew:                          -0.114   Prob(JB):                        0.822\n",
      "Kurtosis:                       2.888   Cond. No.                         48.9\n",
      "==============================================================================\n",
      "\n",
      "Warnings:\n",
      "[1] Standard Errors assume that the covariance matrix of the errors is correctly specified.\n"
     ]
    }
   ],
   "source": [
    "model = sm.OLS(y,X_d)\n",
    "results = model.fit()\n",
    "print(results.summary())"
   ]
  },
  {
   "cell_type": "markdown",
   "metadata": {},
   "source": [
    "### Add LM - metrics"
   ]
  },
  {
   "cell_type": "code",
   "execution_count": 108,
   "metadata": {},
   "outputs": [],
   "source": [
    "#sc.lm_coefficients(Linear_mdl, X, y)"
   ]
  },
  {
   "cell_type": "code",
   "execution_count": 109,
   "metadata": {},
   "outputs": [
    {
     "name": "stdout",
     "output_type": "stream",
     "text": [
      "                            OLS Regression Results                            \n",
      "==============================================================================\n",
      "Dep. Variable:               Downtime   R-squared:                       0.566\n",
      "Model:                            OLS   Adj. R-squared:                  0.490\n",
      "Method:                 Least Squares   F-statistic:                     7.462\n",
      "Date:                Fri, 18 Dec 2020   Prob (F-statistic):           2.85e-10\n",
      "Time:                        08:01:00   Log-Likelihood:                 71.117\n",
      "No. Observations:                 102   AIC:                            -110.2\n",
      "Df Residuals:                      86   BIC:                            -68.24\n",
      "Df Model:                          15                                         \n",
      "Covariance Type:            nonrobust                                         \n",
      "===============================================================================\n",
      "                  coef    std err          t      P>|t|      [0.025      0.975]\n",
      "-------------------------------------------------------------------------------\n",
      "C0502STA077     0.0343      0.083      0.414      0.680      -0.131       0.199\n",
      "C0503STA252    -0.0386      0.017     -2.327      0.022      -0.072      -0.006\n",
      "C05PTT011       0.0112      0.010      1.101      0.274      -0.009       0.032\n",
      "C05PTT012      -0.0091      0.005     -1.655      0.102      -0.020       0.002\n",
      "C1603BCL014    -0.0325      0.014     -2.246      0.027      -0.061      -0.004\n",
      "C1603BCL054     0.0004      0.011      0.039      0.969      -0.022       0.022\n",
      "C1603STA253    -0.0023      0.006     -0.409      0.684      -0.014       0.009\n",
      "C2301BCL177     0.0058      0.017      0.345      0.731      -0.028       0.039\n",
      "C2301RDC061     0.0021      0.001      2.453      0.016       0.000       0.004\n",
      "C2301RDC173     0.0443      0.027      1.668      0.099      -0.008       0.097\n",
      "C2301STA175     0.0076      0.006      1.285      0.202      -0.004       0.019\n",
      "C2302STA014     0.0233      0.006      4.205      0.000       0.012       0.034\n",
      "SCS011          0.0141      0.008      1.858      0.067      -0.001       0.029\n",
      "SCSM01         -0.0129      0.006     -2.284      0.025      -0.024      -0.002\n",
      "Module          0.2110      0.056      3.788      0.000       0.100       0.322\n",
      "TOTES           0.0083      0.001      5.626      0.000       0.005       0.011\n",
      "==============================================================================\n",
      "Omnibus:                        2.287   Durbin-Watson:                   2.514\n",
      "Prob(Omnibus):                  0.319   Jarque-Bera (JB):                1.623\n",
      "Skew:                           0.084   Prob(JB):                        0.444\n",
      "Kurtosis:                       2.405   Cond. No.                         228.\n",
      "==============================================================================\n",
      "\n",
      "Warnings:\n",
      "[1] Standard Errors assume that the covariance matrix of the errors is correctly specified.\n"
     ]
    }
   ],
   "source": [
    "X_train = sm.add_constant(X_train)\n",
    "model = sm.OLS(y_train,X_train)\n",
    "results = model.fit()\n",
    "print(results.summary())\n",
    "\n",
    "X_new = sm.add_constant(X_test)\n",
    "#y_prediction =  results.predict(X_test)\n",
    "\n",
    "# plt.scatter(y_prediction,y_test)\n",
    "\n",
    "# from sklearn.metrics import r2_score\n",
    "# print(r2_score(y_prediction,y_test))"
   ]
  },
  {
   "cell_type": "code",
   "execution_count": null,
   "metadata": {},
   "outputs": [],
   "source": [
    "# plt.figure(figsize=(20,5))\n",
    "# sns.barplot(data=Coeff, x='Feature',y = 'Coefficients')"
   ]
  },
  {
   "cell_type": "code",
   "execution_count": null,
   "metadata": {},
   "outputs": [],
   "source": [
    "plt.scatter(predictions_LM,y_test)"
   ]
  },
  {
   "cell_type": "code",
   "execution_count": null,
   "metadata": {},
   "outputs": [],
   "source": []
  }
 ],
 "metadata": {
  "kernelspec": {
   "display_name": "Python 3",
   "language": "python",
   "name": "python3"
  },
  "language_info": {
   "codemirror_mode": {
    "name": "ipython",
    "version": 3
   },
   "file_extension": ".py",
   "mimetype": "text/x-python",
   "name": "python",
   "nbconvert_exporter": "python",
   "pygments_lexer": "ipython3",
   "version": "3.8.3"
  }
 },
 "nbformat": 4,
 "nbformat_minor": 4
}
