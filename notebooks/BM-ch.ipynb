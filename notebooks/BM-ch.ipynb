{
 "cells": [
  {
   "cell_type": "code",
   "execution_count": 1,
   "metadata": {},
   "outputs": [
    {
     "name": "stderr",
     "output_type": "stream",
     "text": [
      "2020-12-21 17:28:48,253 - NumExpr defaulting to 8 threads.\n"
     ]
    }
   ],
   "source": [
    "import pandas as pd\n",
    "import numpy as np\n",
    "import seaborn as sns\n",
    "import matplotlib.pyplot as plt\n",
    "%matplotlib inline\n",
    "\n",
    "import scsavailability as scs\n",
    "    \n",
    "import statsmodels.api as sm\n",
    "from scipy import stats\n",
    "\n",
    "from scsavailability import features as feat, model as md, plotting as pt, score as sc"
   ]
  },
  {
   "cell_type": "code",
   "execution_count": 2,
   "metadata": {},
   "outputs": [],
   "source": [
    "path = '../raw_data/'"
   ]
  },
  {
   "cell_type": "code",
   "execution_count": 3,
   "metadata": {},
   "outputs": [],
   "source": [
    "at_raw = pd.read_csv(path+'active_totes_20201123.csv')\n",
    "av = pd.read_csv(path+'Availability_with_Grey&Blue_1811-2511.csv')\n",
    "#fa = pd.read_csv(path + 'scs_tote_matched.csv')\n",
    "scs_raw = pd.read_csv('../raw_data/SCS alerts Nov.csv')"
   ]
  },
  {
   "cell_type": "code",
   "execution_count": 4,
   "metadata": {},
   "outputs": [],
   "source": [
    "# HOTFIX - remove odd day\n",
    "at_raw = at_raw[~at_raw['DAY'].isin([9])]"
   ]
  },
  {
   "cell_type": "code",
   "execution_count": 5,
   "metadata": {},
   "outputs": [
    {
     "name": "stdout",
     "output_type": "stream",
     "text": [
      "Running: Function \"load_tote_lookup\" (id=2459057445616) was called 1 times\n"
     ]
    }
   ],
   "source": [
    "fa = feat.add_code(scs_raw)\n",
    "fa, unmapped = feat.add_tote_colour(fa)"
   ]
  },
  {
   "cell_type": "code",
   "execution_count": 6,
   "metadata": {},
   "outputs": [
    {
     "name": "stdout",
     "output_type": "stream",
     "text": [
      "Running: Function \"pre_process_AT\" (id=2459057444464) was called 1 times\n"
     ]
    }
   ],
   "source": [
    "at = feat.pre_process_AT(at_raw)"
   ]
  },
  {
   "cell_type": "code",
   "execution_count": 7,
   "metadata": {},
   "outputs": [
    {
     "name": "stdout",
     "output_type": "stream",
     "text": [
      "Running: Function \"pre_process_av\" (id=2459057445328) was called 1 times\n"
     ]
    }
   ],
   "source": [
    "av = feat.pre_process_av(av)"
   ]
  },
  {
   "cell_type": "code",
   "execution_count": 8,
   "metadata": {},
   "outputs": [
    {
     "name": "stdout",
     "output_type": "stream",
     "text": [
      "Running: Function \"preprocess_faults\" (id=2459057446480) was called 1 times\n",
      "Running: Function \"load_module_lookup\" (id=2459057443744) was called 1 times\n",
      "duplicated location faults removed - max duration kept\n",
      "HOTFIX: Quadrant only faults, PTT Asset Code update\n"
     ]
    }
   ],
   "source": [
    "fa = feat.preprocess_faults(fa,remove_same_location_faults = True)"
   ]
  },
  {
   "cell_type": "code",
   "execution_count": 9,
   "metadata": {},
   "outputs": [
    {
     "name": "stdout",
     "output_type": "stream",
     "text": [
      "Time shifted by 0Minutes\n"
     ]
    }
   ],
   "source": [
    "fa_floor = feat.floor_shift_time_fa(fa, shift=0)"
   ]
  },
  {
   "cell_type": "code",
   "execution_count": 89,
   "metadata": {},
   "outputs": [],
   "source": [
    "mod = [1]\n",
    "limit = 250"
   ]
  },
  {
   "cell_type": "code",
   "execution_count": 90,
   "metadata": {},
   "outputs": [],
   "source": [
    "fa_sel_1 = feat.get_data_faults(fa_floor, modules = mod)\n",
    "\n",
    "most_common = list(((fa_sel_1['Asset Code'].value_counts() > limit)[fa_sel_1['Asset Code'].value_counts() > limit]).index)\n",
    "fa_sel = fa_sel_1[fa_sel_1['Asset Code'].isin(most_common)]"
   ]
  },
  {
   "cell_type": "code",
   "execution_count": 91,
   "metadata": {},
   "outputs": [],
   "source": [
    "#fa_sel = feat.fault_select(fa_floor, fault_select_options = {'Tote Colour':['Blue']})\n",
    "                                                            \n",
    "fa_agg = feat.faults_aggregate(fa_sel, fault_agg_level= 'Asset Code', agg_type = 'count')"
   ]
  },
  {
   "cell_type": "code",
   "execution_count": 92,
   "metadata": {},
   "outputs": [
    {
     "name": "stdout",
     "output_type": "stream",
     "text": [
      "Running: Function \"aggregate_availability\" (id=2459057444176) was called 4 times\n"
     ]
    }
   ],
   "source": [
    "av_sel, at_sel = feat.av_at_select(av, at, remove_high_AT = True, availability_select_options = {\"Module\" : mod})\n",
    "\n",
    "av_agg = feat.aggregate_availability(av_sel, agg_level = 'Module')\n",
    "at_agg = feat.aggregate_totes(at_sel, agg_level = 'Module')"
   ]
  },
  {
   "cell_type": "code",
   "execution_count": 93,
   "metadata": {},
   "outputs": [],
   "source": [
    "df = feat.merge_av_fa_at(av_agg ,at_df=at_agg, fa_df = fa_agg, agg_level = 'None')"
   ]
  },
  {
   "cell_type": "code",
   "execution_count": 94,
   "metadata": {},
   "outputs": [],
   "source": [
    "# df = (pd.merge(at_agg.reset_index(), av_agg.reset_index(), on=['timestamp', 'Module'], how='left')\n",
    "#  .merge(fa_agg, on=['timestamp'], how='left')).drop(['Module', 'Blue Tote Loss', 'Grey Tote Loss'], axis=1)\n",
    "# df = df.fillna(0)"
   ]
  },
  {
   "cell_type": "code",
   "execution_count": 95,
   "metadata": {},
   "outputs": [],
   "source": [
    "X,y = md.gen_feat_var(df)\n",
    "X = X.drop('Module', axis=1)\n",
    "# Flip to availability\n",
    "y=1-y"
   ]
  },
  {
   "cell_type": "code",
   "execution_count": 96,
   "metadata": {},
   "outputs": [
    {
     "name": "stdout",
     "output_type": "stream",
     "text": [
      "\n",
      "Cross Validation Scores LinearRegression(): \n",
      " \n",
      "        R2 Scores\n",
      "1       0.511324\n",
      "2       0.118633\n",
      "3       0.403904\n",
      "4       0.309821\n",
      "5       0.591844\n",
      "Mean    0.387105\n",
      "STD     0.164730\n"
     ]
    }
   ],
   "source": [
    "X_train, X_test, y_train, y_test = md.split(X,y)\n",
    "\n",
    "#RF_mdl,predictions_RF=md.run_RF_model(X_train, X_test, y_train, y_test,num_trees=100, criterion = 'mse', max_depth=None, dtree=False)\n",
    "\n",
    "Linear_mdl,predictions_LM,Coeff,fit_metrics = md.run_LR_model(X_train, X_test, y_train, y_test)\n",
    "\n",
    "#XGB_mdl,predictions_XGB,Importance_XGB = md.run_XGB_model(X_train, X_test, y_train, y_test)\n",
    "\n",
    "maxf = None\n",
    "\n",
    "# X_sel_rf = md.select_features(X, y, RF_mdl, thres = -np.inf, max_feat = maxf)\n",
    "\n",
    "#X_sel_lm = md.select_features(X, y, Linear_mdl, selection_options={'thres': 'mean', 'max_feat': None})\n",
    "\n",
    "#X_sel_XGB = md.select_features(X, y, XGB_mdl, selection_options={'thres': 'mean', 'max_feat': None})\n",
    "\n",
    "#X_train, X_test, y_train, y_test = md.split(X_sel_lm,y,test_size=0.3,random_state=101)\n",
    "\n",
    "#Linear_mdl,predictions_LM,Coeff,fit_metrics = md.run_LR_model(X_train, X_test, y_train, y_test)\n",
    "\n",
    "\n",
    "cv_R2 = md.cross_validate_r2(Linear_mdl, X, y, n_folds = 5, shuffle = True, random_state = 101)\n",
    "\n",
    "#cv_R2 = md.cross_validate_r2(RF_mdl, X_sel_rf, y, n_folds = 10, shuffle = True, random_state = 101)\n",
    "\n",
    "#cv_R2 = md.cross_validate_r2(XGB_mdl, X, y, n_folds = 10, shuffle = True, random_state = 101)\n",
    "\n",
    "#md.stats_model(Linear_mdl,X_test,y_test)"
   ]
  },
  {
   "cell_type": "code",
   "execution_count": 97,
   "metadata": {},
   "outputs": [
    {
     "name": "stdout",
     "output_type": "stream",
     "text": [
      "                                 OLS Regression Results                                \n",
      "=======================================================================================\n",
      "Dep. Variable:               Downtime   R-squared (uncentered):                   0.939\n",
      "Model:                            OLS   Adj. R-squared (uncentered):              0.932\n",
      "Method:                 Least Squares   F-statistic:                              134.5\n",
      "Date:                Mon, 21 Dec 2020   Prob (F-statistic):                    2.08e-71\n",
      "Time:                        17:41:40   Log-Likelihood:                          83.819\n",
      "No. Observations:                 145   AIC:                                     -137.6\n",
      "Df Residuals:                     130   BIC:                                     -92.99\n",
      "Df Model:                          15                                                  \n",
      "Covariance Type:            nonrobust                                                  \n",
      "===============================================================================\n",
      "                  coef    std err          t      P>|t|      [0.025      0.975]\n",
      "-------------------------------------------------------------------------------\n",
      "C0502STA077     0.0510      0.088      0.576      0.565      -0.124       0.226\n",
      "C0503STA252    -0.0155      0.017     -0.936      0.351      -0.048       0.017\n",
      "C05PTT011       0.0156      0.009      1.737      0.085      -0.002       0.033\n",
      "C05PTT012      -0.0024      0.004     -0.553      0.581      -0.011       0.006\n",
      "C1603BCL014    -0.0437      0.014     -3.123      0.002      -0.071      -0.016\n",
      "C1603BCL054    -0.0084      0.010     -0.817      0.415      -0.029       0.012\n",
      "C1603STA253     0.0121      0.005      2.479      0.014       0.002       0.022\n",
      "C2301BCL177     0.0030      0.013      0.238      0.812      -0.022       0.028\n",
      "C2301RDC061     0.0032      0.001      4.597      0.000       0.002       0.005\n",
      "C2301RDC173    -0.0370      0.034     -1.085      0.280      -0.105       0.030\n",
      "C2301STA175     0.0129      0.006      2.346      0.020       0.002       0.024\n",
      "C2302STA014     0.0178      0.005      3.345      0.001       0.007       0.028\n",
      "SCS011          0.0129      0.007      1.741      0.084      -0.002       0.028\n",
      "SCSM01         -0.0031      0.005     -0.580      0.563      -0.013       0.007\n",
      "TOTES           0.0132      0.001     17.146      0.000       0.012       0.015\n",
      "==============================================================================\n",
      "Omnibus:                        0.034   Durbin-Watson:                   1.283\n",
      "Prob(Omnibus):                  0.983   Jarque-Bera (JB):                0.015\n",
      "Skew:                          -0.015   Prob(JB):                        0.992\n",
      "Kurtosis:                       2.959   Cond. No.                         270.\n",
      "==============================================================================\n",
      "\n",
      "Warnings:\n",
      "[1] Standard Errors assume that the covariance matrix of the errors is correctly specified.\n"
     ]
    }
   ],
   "source": [
    "model = sm.OLS(y,X)\n",
    "results = model.fit()\n",
    "print(results.summary())"
   ]
  },
  {
   "cell_type": "code",
   "execution_count": 98,
   "metadata": {},
   "outputs": [],
   "source": [
    "keep_features = results.pvalues[results.pvalues < 0.10].index"
   ]
  },
  {
   "cell_type": "code",
   "execution_count": 99,
   "metadata": {},
   "outputs": [
    {
     "name": "stdout",
     "output_type": "stream",
     "text": [
      "                                 OLS Regression Results                                \n",
      "=======================================================================================\n",
      "Dep. Variable:               Downtime   R-squared (uncentered):                   0.938\n",
      "Model:                            OLS   Adj. R-squared (uncentered):              0.934\n",
      "Method:                 Least Squares   F-statistic:                              257.8\n",
      "Date:                Mon, 21 Dec 2020   Prob (F-statistic):                    1.27e-78\n",
      "Time:                        17:41:48   Log-Likelihood:                          81.725\n",
      "No. Observations:                 145   AIC:                                     -147.5\n",
      "Df Residuals:                     137   BIC:                                     -123.6\n",
      "Df Model:                           8                                                  \n",
      "Covariance Type:            nonrobust                                                  \n",
      "===============================================================================\n",
      "                  coef    std err          t      P>|t|      [0.025      0.975]\n",
      "-------------------------------------------------------------------------------\n",
      "C05PTT011       0.0134      0.009      1.524      0.130      -0.004       0.031\n",
      "C1603BCL014    -0.0429      0.013     -3.182      0.002      -0.070      -0.016\n",
      "C1603STA253     0.0120      0.005      2.580      0.011       0.003       0.021\n",
      "C2301RDC061     0.0032      0.001      4.790      0.000       0.002       0.005\n",
      "C2301STA175     0.0103      0.005      1.994      0.048    8.77e-05       0.021\n",
      "C2302STA014     0.0173      0.005      3.416      0.001       0.007       0.027\n",
      "SCS011          0.0105      0.007      1.508      0.134      -0.003       0.024\n",
      "TOTES           0.0128      0.001     19.051      0.000       0.011       0.014\n",
      "==============================================================================\n",
      "Omnibus:                        0.091   Durbin-Watson:                   1.264\n",
      "Prob(Omnibus):                  0.956   Jarque-Bera (JB):                0.059\n",
      "Skew:                          -0.046   Prob(JB):                        0.971\n",
      "Kurtosis:                       2.966   Cond. No.                         41.8\n",
      "==============================================================================\n",
      "\n",
      "Warnings:\n",
      "[1] Standard Errors assume that the covariance matrix of the errors is correctly specified.\n"
     ]
    }
   ],
   "source": [
    "model = sm.OLS(y,X[keep_features])\n",
    "results = model.fit()\n",
    "print(results.summary())"
   ]
  },
  {
   "cell_type": "code",
   "execution_count": 100,
   "metadata": {},
   "outputs": [],
   "source": [
    "negs = results.params[results.params < 0].index"
   ]
  },
  {
   "cell_type": "code",
   "execution_count": 101,
   "metadata": {},
   "outputs": [
    {
     "data": {
      "text/plain": [
       "Timestamp('2020-11-17 09:00:00')"
      ]
     },
     "execution_count": 101,
     "metadata": {},
     "output_type": "execute_result"
    }
   ],
   "source": [
    "df['timestamp'].min()"
   ]
  },
  {
   "cell_type": "code",
   "execution_count": 103,
   "metadata": {},
   "outputs": [
    {
     "data": {
      "text/html": [
       "<div>\n",
       "<style scoped>\n",
       "    .dataframe tbody tr th:only-of-type {\n",
       "        vertical-align: middle;\n",
       "    }\n",
       "\n",
       "    .dataframe tbody tr th {\n",
       "        vertical-align: top;\n",
       "    }\n",
       "\n",
       "    .dataframe thead th {\n",
       "        text-align: right;\n",
       "    }\n",
       "</style>\n",
       "<table border=\"1\" class=\"dataframe\">\n",
       "  <thead>\n",
       "    <tr style=\"text-align: right;\">\n",
       "      <th></th>\n",
       "      <th>Number</th>\n",
       "      <th>Alert</th>\n",
       "      <th>timestamp</th>\n",
       "      <th>PLC</th>\n",
       "      <th>Desk</th>\n",
       "      <th>Duration</th>\n",
       "      <th>Fault ID</th>\n",
       "      <th>Asset Code</th>\n",
       "      <th>Tote Colour</th>\n",
       "      <th>Loop</th>\n",
       "      <th>Suffix</th>\n",
       "      <th>Pick Station</th>\n",
       "      <th>PLCN</th>\n",
       "      <th>Quadrant</th>\n",
       "      <th>MODULE</th>\n",
       "    </tr>\n",
       "  </thead>\n",
       "  <tbody>\n",
       "    <tr>\n",
       "      <th>145767</th>\n",
       "      <td>130231</td>\n",
       "      <td>C16: C1603BCL014 014B52 sensor fault</td>\n",
       "      <td>2020-11-20 20:39:00</td>\n",
       "      <td>C16</td>\n",
       "      <td>P03</td>\n",
       "      <td>1.0</td>\n",
       "      <td>3428</td>\n",
       "      <td>C1603BCL014</td>\n",
       "      <td>Blue</td>\n",
       "      <td>Outside</td>\n",
       "      <td>C1603</td>\n",
       "      <td>False</td>\n",
       "      <td>16</td>\n",
       "      <td>0</td>\n",
       "      <td>NaN</td>\n",
       "    </tr>\n",
       "    <tr>\n",
       "      <th>124159</th>\n",
       "      <td>130234</td>\n",
       "      <td>C16: C1603BCL014 014B55 sensor fault</td>\n",
       "      <td>2020-11-19 08:01:00</td>\n",
       "      <td>C16</td>\n",
       "      <td>P03</td>\n",
       "      <td>1.0</td>\n",
       "      <td>3428</td>\n",
       "      <td>C1603BCL014</td>\n",
       "      <td>Blue</td>\n",
       "      <td>Outside</td>\n",
       "      <td>C1603</td>\n",
       "      <td>False</td>\n",
       "      <td>16</td>\n",
       "      <td>0</td>\n",
       "      <td>NaN</td>\n",
       "    </tr>\n",
       "    <tr>\n",
       "      <th>136517</th>\n",
       "      <td>130234</td>\n",
       "      <td>C16: C1603BCL014 014B55 sensor fault</td>\n",
       "      <td>2020-11-22 00:45:00</td>\n",
       "      <td>C16</td>\n",
       "      <td>P03</td>\n",
       "      <td>1.0</td>\n",
       "      <td>3428</td>\n",
       "      <td>C1603BCL014</td>\n",
       "      <td>Blue</td>\n",
       "      <td>Outside</td>\n",
       "      <td>C1603</td>\n",
       "      <td>False</td>\n",
       "      <td>16</td>\n",
       "      <td>0</td>\n",
       "      <td>NaN</td>\n",
       "    </tr>\n",
       "    <tr>\n",
       "      <th>137649</th>\n",
       "      <td>130233</td>\n",
       "      <td>C16: C1603BCL014 014B54 sensor fault</td>\n",
       "      <td>2020-11-21 20:52:00</td>\n",
       "      <td>C16</td>\n",
       "      <td>P03</td>\n",
       "      <td>2.0</td>\n",
       "      <td>3428</td>\n",
       "      <td>C1603BCL014</td>\n",
       "      <td>Blue</td>\n",
       "      <td>Outside</td>\n",
       "      <td>C1603</td>\n",
       "      <td>False</td>\n",
       "      <td>16</td>\n",
       "      <td>0</td>\n",
       "      <td>NaN</td>\n",
       "    </tr>\n",
       "    <tr>\n",
       "      <th>131696</th>\n",
       "      <td>130233</td>\n",
       "      <td>C16: C1603BCL014 014B54 sensor fault</td>\n",
       "      <td>2020-11-22 15:33:00</td>\n",
       "      <td>C16</td>\n",
       "      <td>P03</td>\n",
       "      <td>2.0</td>\n",
       "      <td>3428</td>\n",
       "      <td>C1603BCL014</td>\n",
       "      <td>Blue</td>\n",
       "      <td>Outside</td>\n",
       "      <td>C1603</td>\n",
       "      <td>False</td>\n",
       "      <td>16</td>\n",
       "      <td>0</td>\n",
       "      <td>NaN</td>\n",
       "    </tr>\n",
       "    <tr>\n",
       "      <th>...</th>\n",
       "      <td>...</td>\n",
       "      <td>...</td>\n",
       "      <td>...</td>\n",
       "      <td>...</td>\n",
       "      <td>...</td>\n",
       "      <td>...</td>\n",
       "      <td>...</td>\n",
       "      <td>...</td>\n",
       "      <td>...</td>\n",
       "      <td>...</td>\n",
       "      <td>...</td>\n",
       "      <td>...</td>\n",
       "      <td>...</td>\n",
       "      <td>...</td>\n",
       "      <td>...</td>\n",
       "    </tr>\n",
       "    <tr>\n",
       "      <th>170158</th>\n",
       "      <td>130233</td>\n",
       "      <td>C16: C1603BCL014 014B54 sensor fault</td>\n",
       "      <td>2020-11-25 13:46:00</td>\n",
       "      <td>C16</td>\n",
       "      <td>P03</td>\n",
       "      <td>209.0</td>\n",
       "      <td>3428</td>\n",
       "      <td>C1603BCL014</td>\n",
       "      <td>Blue</td>\n",
       "      <td>Outside</td>\n",
       "      <td>C1603</td>\n",
       "      <td>False</td>\n",
       "      <td>16</td>\n",
       "      <td>0</td>\n",
       "      <td>NaN</td>\n",
       "    </tr>\n",
       "    <tr>\n",
       "      <th>122802</th>\n",
       "      <td>130233</td>\n",
       "      <td>C16: C1603BCL014 014B54 sensor fault</td>\n",
       "      <td>2020-11-19 02:14:00</td>\n",
       "      <td>C16</td>\n",
       "      <td>P03</td>\n",
       "      <td>229.0</td>\n",
       "      <td>3428</td>\n",
       "      <td>C1603BCL014</td>\n",
       "      <td>Blue</td>\n",
       "      <td>Outside</td>\n",
       "      <td>C1603</td>\n",
       "      <td>False</td>\n",
       "      <td>16</td>\n",
       "      <td>0</td>\n",
       "      <td>NaN</td>\n",
       "    </tr>\n",
       "    <tr>\n",
       "      <th>154251</th>\n",
       "      <td>130233</td>\n",
       "      <td>C16: C1603BCL014 014B54 sensor fault</td>\n",
       "      <td>2020-11-23 16:37:00</td>\n",
       "      <td>C16</td>\n",
       "      <td>P03</td>\n",
       "      <td>247.0</td>\n",
       "      <td>3428</td>\n",
       "      <td>C1603BCL014</td>\n",
       "      <td>Blue</td>\n",
       "      <td>Outside</td>\n",
       "      <td>C1603</td>\n",
       "      <td>False</td>\n",
       "      <td>16</td>\n",
       "      <td>0</td>\n",
       "      <td>NaN</td>\n",
       "    </tr>\n",
       "    <tr>\n",
       "      <th>170156</th>\n",
       "      <td>130233</td>\n",
       "      <td>C16: C1603BCL014 014B54 sensor fault</td>\n",
       "      <td>2020-11-25 10:24:00</td>\n",
       "      <td>C16</td>\n",
       "      <td>P03</td>\n",
       "      <td>298.0</td>\n",
       "      <td>3428</td>\n",
       "      <td>C1603BCL014</td>\n",
       "      <td>Blue</td>\n",
       "      <td>Outside</td>\n",
       "      <td>C1603</td>\n",
       "      <td>False</td>\n",
       "      <td>16</td>\n",
       "      <td>0</td>\n",
       "      <td>NaN</td>\n",
       "    </tr>\n",
       "    <tr>\n",
       "      <th>136285</th>\n",
       "      <td>130233</td>\n",
       "      <td>C16: C1603BCL014 014B54 sensor fault</td>\n",
       "      <td>2020-11-22 01:22:00</td>\n",
       "      <td>C16</td>\n",
       "      <td>P03</td>\n",
       "      <td>316.0</td>\n",
       "      <td>3428</td>\n",
       "      <td>C1603BCL014</td>\n",
       "      <td>Blue</td>\n",
       "      <td>Outside</td>\n",
       "      <td>C1603</td>\n",
       "      <td>False</td>\n",
       "      <td>16</td>\n",
       "      <td>0</td>\n",
       "      <td>NaN</td>\n",
       "    </tr>\n",
       "  </tbody>\n",
       "</table>\n",
       "<p>138 rows × 15 columns</p>\n",
       "</div>"
      ],
      "text/plain": [
       "        Number                                 Alert           timestamp  PLC  \\\n",
       "145767  130231  C16: C1603BCL014 014B52 sensor fault 2020-11-20 20:39:00  C16   \n",
       "124159  130234  C16: C1603BCL014 014B55 sensor fault 2020-11-19 08:01:00  C16   \n",
       "136517  130234  C16: C1603BCL014 014B55 sensor fault 2020-11-22 00:45:00  C16   \n",
       "137649  130233  C16: C1603BCL014 014B54 sensor fault 2020-11-21 20:52:00  C16   \n",
       "131696  130233  C16: C1603BCL014 014B54 sensor fault 2020-11-22 15:33:00  C16   \n",
       "...        ...                                   ...                 ...  ...   \n",
       "170158  130233  C16: C1603BCL014 014B54 sensor fault 2020-11-25 13:46:00  C16   \n",
       "122802  130233  C16: C1603BCL014 014B54 sensor fault 2020-11-19 02:14:00  C16   \n",
       "154251  130233  C16: C1603BCL014 014B54 sensor fault 2020-11-23 16:37:00  C16   \n",
       "170156  130233  C16: C1603BCL014 014B54 sensor fault 2020-11-25 10:24:00  C16   \n",
       "136285  130233  C16: C1603BCL014 014B54 sensor fault 2020-11-22 01:22:00  C16   \n",
       "\n",
       "       Desk  Duration  Fault ID   Asset Code Tote Colour     Loop Suffix  \\\n",
       "145767  P03       1.0      3428  C1603BCL014        Blue  Outside  C1603   \n",
       "124159  P03       1.0      3428  C1603BCL014        Blue  Outside  C1603   \n",
       "136517  P03       1.0      3428  C1603BCL014        Blue  Outside  C1603   \n",
       "137649  P03       2.0      3428  C1603BCL014        Blue  Outside  C1603   \n",
       "131696  P03       2.0      3428  C1603BCL014        Blue  Outside  C1603   \n",
       "...     ...       ...       ...          ...         ...      ...    ...   \n",
       "170158  P03     209.0      3428  C1603BCL014        Blue  Outside  C1603   \n",
       "122802  P03     229.0      3428  C1603BCL014        Blue  Outside  C1603   \n",
       "154251  P03     247.0      3428  C1603BCL014        Blue  Outside  C1603   \n",
       "170156  P03     298.0      3428  C1603BCL014        Blue  Outside  C1603   \n",
       "136285  P03     316.0      3428  C1603BCL014        Blue  Outside  C1603   \n",
       "\n",
       "       Pick Station  PLCN  Quadrant MODULE  \n",
       "145767        False    16         0    NaN  \n",
       "124159        False    16         0    NaN  \n",
       "136517        False    16         0    NaN  \n",
       "137649        False    16         0    NaN  \n",
       "131696        False    16         0    NaN  \n",
       "...             ...   ...       ...    ...  \n",
       "170158        False    16         0    NaN  \n",
       "122802        False    16         0    NaN  \n",
       "154251        False    16         0    NaN  \n",
       "170156        False    16         0    NaN  \n",
       "136285        False    16         0    NaN  \n",
       "\n",
       "[138 rows x 15 columns]"
      ]
     },
     "execution_count": 103,
     "metadata": {},
     "output_type": "execute_result"
    }
   ],
   "source": [
    "fa[fa['Asset Code'].isin([negs]) & (fa['timestamp'] >= df['timestamp'].min())]#['Fault ID'].value_counts()"
   ]
  },
  {
   "cell_type": "code",
   "execution_count": null,
   "metadata": {},
   "outputs": [],
   "source": []
  }
 ],
 "metadata": {
  "kernelspec": {
   "display_name": "Python 3",
   "language": "python",
   "name": "python3"
  },
  "language_info": {
   "codemirror_mode": {
    "name": "ipython",
    "version": 3
   },
   "file_extension": ".py",
   "mimetype": "text/x-python",
   "name": "python",
   "nbconvert_exporter": "python",
   "pygments_lexer": "ipython3",
   "version": "3.8.3"
  }
 },
 "nbformat": 4,
 "nbformat_minor": 4
}
