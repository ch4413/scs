{
 "cells": [
  {
   "cell_type": "code",
   "execution_count": null,
   "metadata": {},
   "outputs": [],
   "source": [
    "import pandas as pd\n",
    "import scsavailability as scs\n",
    "    \n",
    "from scsavailability import features as feat, model as md, plotting as pt, results as rs\n",
    "\n",
    "path = 'C:/Users/Jamie.williams/OneDrive - Newton Europe Ltd/Castle Donnington/Data/'\n",
    "\n",
    "at = pd.read_csv(path+'active_totes_20201210.csv')\n",
    "av = pd.read_csv(path+'Availability_with_Grey&Blue_1811-0912.csv',names = [\"timestamp\",\"Pick Station\",\"Availability\",\"Blue Tote Loss\",\"Grey Tote Loss\"])\n",
    "scs_raw = pd.read_csv(path + 'Faults20_11-10_12.csv')\n",
    "\n",
    "at = feat.pre_process_AT(at)\n",
    "av = feat.pre_process_av(av)\n",
    "fa,unmapped = feat.preprocess_faults(scs_raw,remove_same_location_faults = True)\n",
    "\n",
    "fa_floor = feat.floor_shift_time_fa(fa, shift=0)\n",
    "\n",
    "df,fa_PTT = feat.create_PTT_df(fa_floor,at,av)\n",
    "df = feat.log_totes(df) \n",
    "\n",
    "X,y = md.gen_feat_var(df,target = 'Availability', features = ['Totes','Faults'])\n",
    "X_train, X_test, y_train, y_test = md.split(X,y,split_options = {'test_size': 0.3,\n",
    "                                                                 'random_state': None})\n",
    "R2_cv,R2_OOS,Coeff = md.run_OLS(X_train = X_train,y_train = y_train,X_test = X_test,y_test=y_test, n = 5)\n",
    "\n",
    "Output = rs.create_output(fa_PTT,Coeff)"
   ]
  }
 ],
 "metadata": {
  "kernelspec": {
   "display_name": "Python 3",
   "language": "python",
   "name": "python3"
  },
  "language_info": {
   "codemirror_mode": {
    "name": "ipython",
    "version": 3
   },
   "file_extension": ".py",
   "mimetype": "text/x-python",
   "name": "python",
   "nbconvert_exporter": "python",
   "pygments_lexer": "ipython3",
   "version": "3.8.3"
  }
 },
 "nbformat": 4,
 "nbformat_minor": 4
}
